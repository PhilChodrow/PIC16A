{
 "cells": [
  {
   "cell_type": "markdown",
   "metadata": {},
   "source": [
    "# Online Data\n",
    "\n",
    "Webscraping is the activity of downloading, manipulating, and using information obtained online. Webscraping can get very complicated, and we won't do much in this course. This set of lecture notes can help you get started on the basics. We'll look into this a bit more when we get to regular expressions in a few lectures. \n",
    "\n",
    "## Downloading Files\n",
    "\n",
    "There are several modules for downloading files from the internet. We'll use `urllib`: "
   ]
  },
  {
   "cell_type": "code",
   "execution_count": 1,
   "metadata": {},
   "outputs": [],
   "source": [
    "import urllib"
   ]
  },
  {
   "cell_type": "code",
   "execution_count": 3,
   "metadata": {},
   "outputs": [],
   "source": [
    "url = \"https://philchodrow.github.io/PIC16A/content/IO_and_modules/IO/palmer_penguins.csv\"\n",
    "\n",
    "filedata = urllib.request.urlopen(url)\n",
    "to_write = filedata.read()\n",
    "\n",
    "with open(\"downloaded_penguins.csv\", \"wb\") as f:\n",
    "    f.write(to_write)"
   ]
  },
  {
   "cell_type": "markdown",
   "metadata": {},
   "source": [
    "Having run this code, you can check in your file explorer that a file called `downloaded_penguins.csv` now lives in the same directory as this notebook. We used the somewhat unusual flag `\"wb\"` to `open()` in order to indicate that we need to write a *binary* file, rather than the usual text file. This is because `to_write`, the return value of `filedata.read()`, is by default binary data. We might ask you in assignments to use this pattern, but you we won't evaluate you on it in any timed or closed-book contexts. \n",
    "\n",
    "The module `wget` is another popular tool for downloading files from the internet. "
   ]
  },
  {
   "cell_type": "markdown",
   "metadata": {},
   "source": [
    "# Data from Websites\n",
    "\n",
    "Often, we want to access the contents of a webpage. In this case, the `request.urlopen` submodule of `urllib` can help us easily access the contents of a desired URL. "
   ]
  },
  {
   "cell_type": "code",
   "execution_count": 11,
   "metadata": {},
   "outputs": [
    {
     "name": "stdout",
     "output_type": "stream",
     "text": [
      "<!DOCTYPE html>\n",
      "<html>\n",
      "\n",
      "  <head>\n",
      "  <meta charset=\"utf-8\">\n",
      "  <meta http-equiv=\"X-UA-Compatible\" content=\"IE=edge\">\n",
      "  <meta name=\"viewport\" content=\"width=device-width, initial-scale=1\">\n",
      "\n",
      "  <title>PIC16A: Course Schedule (Fall 2020)</title>\n",
      "  <meta name=\"description\" content=\"Course materials for PIC16A at UCLA\">\n",
      "\n",
      "  <link rel=\"stylesheet\" href=\"/PIC16A//_css/main.css\">\n",
      "  <link rel=\"canonical\" href=\"http://philchodrow.github.io/PIC16A/PIC16A//schedule/\">\n",
      "  <link rel=\"alternate\" type=\"application/rs\n"
     ]
    }
   ],
   "source": [
    "from urllib.request import urlopen\n",
    "\n",
    "url = \"https://philchodrow.github.io/PIC16A/schedule/\"\n",
    "\n",
    "page = urlopen(url)\n",
    "html_bits = page.read()\n",
    "\n",
    "html = html_bits.decode(\"utf-8\")\n",
    "\n",
    "print(html[0:500])"
   ]
  },
  {
   "cell_type": "code",
   "execution_count": 13,
   "metadata": {},
   "outputs": [
    {
     "data": {
      "text/plain": [
       "['http://philchodrow.github.io/PIC16A/PIC16A//schedule/',\n",
       " 'http://philchodrow.github.io/PIC16A/PIC16A//feed.xml',\n",
       " 'https://fonts.googleapis.com/css?family=Titillium+Web:600italic,600,400,400italic',\n",
       " 'https://fonts.googleapis.com/css2?family=Lato&display=swap',\n",
       " 'https://fonts.googleapis.com/css2?family=Lato:ital,wght@0,400;0,700;1,400&display=swap',\n",
       " 'https://fonts.googleapis.com/css2?family=Raleway&display=swap',\n",
       " 'https://use.fontawesome.com/releases/v5.2.0/css/all.css',\n",
       " 'http://philchodrow.github.io/PIC16A/syllabus/',\n",
       " 'http://philchodrow.github.io/PIC16A/schedule/',\n",
       " 'http://philchodrow.github.io/PIC16A/materials/',\n",
       " 'https://github.com/philchodrow/PIC16A',\n",
       " 'http://www.philchodrow.com',\n",
       " 'https://docs.anaconda.com/anaconda/install/',\n",
       " 'https://docs.python.org/3/tutorial/appetite.html',\n",
       " 'https://nbviewer.jupyter.org/github/PhilChodrow/PIC16A/blob/master/content/basics/numbers.ipynb',\n",
       " 'https://nbviewer.jupyter.org/github/PhilChodrow/PIC16A/blob/master/content/basics/strings.ipynb',\n",
       " 'https://nbviewer.jupyter.org/github/PhilChodrow/PIC16A/blob/master/content/basics/lists.ipynb',\n",
       " 'https://youtu.be/Vws-gJxqM5s',\n",
       " 'https://youtu.be/duCSMMX8RUc',\n",
       " 'https://www.youtube.com/watch?v=2e1Al1yaY4U',\n",
       " 'https://docs.python.org/3/tutorial/introduction.html',\n",
       " 'https://nbviewer.jupyter.org/github/PhilChodrow/PIC16A/blob/master/content/basics/for_loops_and_comprehensions.ipynb',\n",
       " 'https://nbviewer.jupyter.org/github/PhilChodrow/PIC16A/blob/master/content/basics/control_flow.ipynb',\n",
       " 'https://youtu.be/Y08doVJjv84',\n",
       " 'https://youtu.be/GnFg3f6oFqU',\n",
       " 'https://docs.python.org/3/tutorial/controlflow.html',\n",
       " 'https://nbviewer.jupyter.org/github/PhilChodrow/PIC16A/blob/master/content/basics/more_iterables.ipynb',\n",
       " 'https://nbviewer.jupyter.org/github/PhilChodrow/PIC16A/blob/master/content/basics/dictionaries.ipynb',\n",
       " 'https://youtu.be/5JUqacQcewM',\n",
       " 'https://youtu.be/ms1D4zEHOMM',\n",
       " 'https://docs.python.org/3/tutorial/datastructures.html',\n",
       " 'https://nbviewer.jupyter.org/github/PhilChodrow/PIC16A/blob/master/content/functions/functions_1.ipynb',\n",
       " 'https://nbviewer.jupyter.org/github/PhilChodrow/PIC16A/blob/master/content/functions/functions_2.ipynb',\n",
       " 'https://youtu.be/Y6c-1VxXYvE',\n",
       " 'https://youtu.be/N1jT_ZpplQs',\n",
       " 'https://docs.python.org/3/tutorial/controlflow.html#defining-functions',\n",
       " 'https://nbviewer.jupyter.org/github/PhilChodrow/PIC16A/blob/master/content/functions/functions_3.ipynb',\n",
       " 'https://nbviewer.jupyter.org/github/PhilChodrow/PIC16A/blob/master/content/functions/exceptions.ipynb',\n",
       " 'https://youtu.be/ojdHJ4qSkaM',\n",
       " 'https://youtu.be/JEKXteMktwA',\n",
       " 'https://docs.python.org/3/tutorial/errors.html',\n",
       " 'https://nbviewer.jupyter.org/github/PhilChodrow/PIC16A/blob/master/content/object_oriented_programming/class_and_objects_I.ipynb',\n",
       " 'https://nbviewer.jupyter.org/github/PhilChodrow/PIC16A/blob/master/content/object_oriented_programming/classes_and_objects_II.ipynb',\n",
       " 'https://youtu.be/_GrQScemoz4',\n",
       " 'https://youtu.be/PjOpuWaK40k',\n",
       " 'https://docs.python.org/3/tutorial/classes.html',\n",
       " 'https://nbviewer.jupyter.org/github/PhilChodrow/PIC16A/blob/master/content/object_oriented_programming/inheritance_I.ipynb',\n",
       " 'https://nbviewer.jupyter.org/github/PhilChodrow/PIC16A/blob/master/content/object_oriented_programming/inheritance_II.ipynb',\n",
       " 'https://youtu.be/XChF4v8FLq4',\n",
       " 'https://youtu.be/PHiAsOuApgg',\n",
       " 'https://docs.python.org/3/tutorial/classes.html',\n",
       " 'https://nbviewer.jupyter.org/github/PhilChodrow/PIC16A/blob/master/content/object_oriented_programming/Iterators_1.ipynb',\n",
       " 'https://nbviewer.jupyter.org/github/PhilChodrow/PIC16A/blob/master/content/object_oriented_programming/Iterators_1.ipynb',\n",
       " 'https://nbviewer.jupyter.org/github/PhilChodrow/PIC16A/blob/master/content/object_oriented_programming/generators.ipynb',\n",
       " 'https://youtu.be/kn5yT12ohlk',\n",
       " 'https://youtu.be/Nid6KGKeZ2E',\n",
       " 'https://youtu.be/okVpT_PrOx4',\n",
       " 'https://docs.python.org/3/tutorial/classes.html',\n",
       " 'https://nbviewer.jupyter.org/github/PhilChodrow/PIC16A/blob/master/content/IO_and_modules/IO/IO.ipynb',\n",
       " 'https://nbviewer.jupyter.org/github/PhilChodrow/PIC16A/blob/master/content/IO_and_modules/IO/online_data.ipynb',\n",
       " 'https://docs.python.org/3/tutorial/inputoutput.html',\n",
       " 'https://docs.python.org/3/library/csv.html#reader-objects',\n",
       " 'https://nbviewer.jupyter.org/github/PhilChodrow/PIC16A/blob/master/content/IO_and_modules/modules/modules.ipynb',\n",
       " 'https://nbviewer.jupyter.org/github/PhilChodrow/PIC16A/blob/master/content/IO_and_modules/modules/unit_testing.ipynb',\n",
       " 'https://youtu.be/dfH0-x1tgRo',\n",
       " 'https://youtu.be/TwOmk9oSaR8',\n",
       " 'https://www.geeksforgeeks.org/what-does-the-if-__name__-__main__-do/',\n",
       " 'https://docs.python.org/3/library/unittest.html',\n",
       " 'https://github.com/philchodrow/PIC16A',\n",
       " 'https://twitter.com/philchodrow',\n",
       " 'http://www.philchodrow.com']"
      ]
     },
     "execution_count": 13,
     "metadata": {},
     "output_type": "execute_result"
    }
   ],
   "source": [
    "import re\n",
    "\n",
    "urls = re.findall(r'href=[\\'\"]?([^\\'\">]+)', html)\n",
    "\n",
    "urls\n",
    "\n",
    "[url for url in urls if \"http\" in url]\n",
    "# ---"
   ]
  },
  {
   "cell_type": "markdown",
   "metadata": {},
   "source": [
    "As you can imagine, *parsing* HTML in order to extract useful content is a difficult problem. We will revisit this problem when we learn regular expressions in a few lectures. Here's an example of the kind of thing we'll be able to do: "
   ]
  },
  {
   "cell_type": "code",
   "execution_count": null,
   "metadata": {},
   "outputs": [],
   "source": []
  }
 ],
 "metadata": {
  "kernelspec": {
   "display_name": "Python 3",
   "language": "python",
   "name": "python3"
  },
  "language_info": {
   "codemirror_mode": {
    "name": "ipython",
    "version": 3
   },
   "file_extension": ".py",
   "mimetype": "text/x-python",
   "name": "python",
   "nbconvert_exporter": "python",
   "pygments_lexer": "ipython3",
   "version": "3.8.5"
  }
 },
 "nbformat": 4,
 "nbformat_minor": 4
}
