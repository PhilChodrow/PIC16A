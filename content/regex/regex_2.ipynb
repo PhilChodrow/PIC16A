{
 "cells": [
  {
   "cell_type": "markdown",
   "metadata": {},
   "source": [
    "# Regular Expressions: Groups\n",
    "\n",
    "Suppose that we'd like to extract some email addresses from a body of text. For example: \n",
    "\n",
    "> You can reach me at phil@math.ucla.edu, or my friend Jean-Luc at picard@ucla.edu. \n",
    "\n",
    "We'd like to extract the usernames and domains of each of these two email addresses. "
   ]
  },
  {
   "cell_type": "code",
   "execution_count": 1,
   "metadata": {},
   "outputs": [
    {
     "data": {
      "text/plain": [
       "'You can reach me at phil@math.ucla.edu, or my friend Jean-Luc at Picard10@ucla.edu.'"
      ]
     },
     "execution_count": 1,
     "metadata": {},
     "output_type": "execute_result"
    }
   ],
   "source": [
    "s = \"You can reach me at phil@math.ucla.edu, or my friend Jean-Luc at Picard10@ucla.edu.\"\n",
    "s"
   ]
  },
  {
   "cell_type": "markdown",
   "metadata": {},
   "source": [
    "For this we can use **groups**. Groups allow us to give names to \"parts\" of matches, enabling further processing. \n",
    "\n",
    "Intuitively, we are looking for: \n",
    "\n",
    "1. **The username**: A sequence of one or more letters and numbers, followed by \n",
    "2. An `@` symbol, followed by  \n",
    "3. **The domain:** another sequence of characters, numbers, or the symbol `.`.\n",
    "4. We should not include the final `.` in the domain name for Picard. \n",
    "\n",
    "To see how groups work, let's take a look at an interactive demonstration in [Pythex](https://pythex.org/). "
   ]
  },
  {
   "cell_type": "code",
   "execution_count": 2,
   "metadata": {},
   "outputs": [],
   "source": [
    "import re"
   ]
  },
  {
   "cell_type": "code",
   "execution_count": 5,
   "metadata": {},
   "outputs": [
    {
     "data": {
      "text/plain": [
       "<re.Match object; span=(20, 38), match='phil@math.ucla.edu'>"
      ]
     },
     "execution_count": 5,
     "metadata": {},
     "output_type": "execute_result"
    }
   ],
   "source": [
    "pattern = r\"[A-z0-9]+@[a-z\\.]+[a-z]+\"\n",
    "result = re.search(pattern, s)\n",
    "result"
   ]
  },
  {
   "cell_type": "code",
   "execution_count": 7,
   "metadata": {},
   "outputs": [
    {
     "data": {
      "text/plain": [
       "('phil@math.ucla.edu', ())"
      ]
     },
     "execution_count": 7,
     "metadata": {},
     "output_type": "execute_result"
    }
   ],
   "source": [
    "result.group(), result.groups()"
   ]
  },
  {
   "cell_type": "code",
   "execution_count": 8,
   "metadata": {},
   "outputs": [],
   "source": [
    "pattern = r\"([A-z0-9]+)@([a-z\\.]+[a-z]+)\"\n",
    "result = re.search(pattern, s)"
   ]
  },
  {
   "cell_type": "code",
   "execution_count": 10,
   "metadata": {},
   "outputs": [
    {
     "data": {
      "text/plain": [
       "('phil', 'math.ucla.edu')"
      ]
     },
     "execution_count": 10,
     "metadata": {},
     "output_type": "execute_result"
    }
   ],
   "source": [
    "result.groups()"
   ]
  },
  {
   "cell_type": "code",
   "execution_count": 13,
   "metadata": {},
   "outputs": [],
   "source": []
  },
  {
   "cell_type": "code",
   "execution_count": 15,
   "metadata": {},
   "outputs": [
    {
     "data": {
      "text/plain": [
       "('phil', 'math.ucla.edu')"
      ]
     },
     "execution_count": 15,
     "metadata": {},
     "output_type": "execute_result"
    }
   ],
   "source": []
  },
  {
   "cell_type": "markdown",
   "metadata": {},
   "source": [
    "We can alternatively use `re.findall()`, which returns a list of tuples. Each entry of the tuple corresponds to a group. "
   ]
  },
  {
   "cell_type": "code",
   "execution_count": 11,
   "metadata": {},
   "outputs": [
    {
     "data": {
      "text/plain": [
       "[('phil', 'math.ucla.edu'), ('Picard10', 'ucla.edu')]"
      ]
     },
     "execution_count": 11,
     "metadata": {},
     "output_type": "execute_result"
    }
   ],
   "source": [
    "re.findall(pattern, s)"
   ]
  },
  {
   "cell_type": "code",
   "execution_count": null,
   "metadata": {},
   "outputs": [],
   "source": []
  }
 ],
 "metadata": {
  "kernelspec": {
   "display_name": "Python 3",
   "language": "python",
   "name": "python3"
  },
  "language_info": {
   "codemirror_mode": {
    "name": "ipython",
    "version": 3
   },
   "file_extension": ".py",
   "mimetype": "text/x-python",
   "name": "python",
   "nbconvert_exporter": "python",
   "pygments_lexer": "ipython3",
   "version": "3.8.5"
  }
 },
 "nbformat": 4,
 "nbformat_minor": 4
}
