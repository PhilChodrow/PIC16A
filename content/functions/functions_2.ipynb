{
 "cells": [
  {
   "cell_type": "markdown",
   "metadata": {},
   "source": [
    "# More on Functions\n",
    "\n",
    "- [Download the lecture notes](https://philchodrow.github.io/PIC16A/content/functions/functions_2.ipynb). \n",
    "\n",
    "In this set of notes, we'll discuss some further topics in the design of functions. \n",
    "\n",
    "## Getting Functions: Modules\n",
    "\n",
    "Python comes with a large variety of powerful functions, which can be assembled to create flexible programs. Sometimes, you might want a function that isn't available from the \"core\" Python installation. In this case, you can import **modules.** \n",
    "\n",
    "A module is simply one or more text files, often ending with extension `.py`, which define some functions. Your distribution of Anaconda already gives you access to many important modules. \n",
    "\n",
    "The simplest way to import a module is to write `import` followed by the name of the module. "
   ]
  },
  {
   "cell_type": "code",
   "execution_count": 1,
   "metadata": {},
   "outputs": [],
   "source": [
    "import numpy # numerical utilities"
   ]
  },
  {
   "cell_type": "markdown",
   "metadata": {},
   "source": [
    "We can now use all of the functions defined in the `numpy` module by prepending `numpy.` to the function we want. For example: "
   ]
  },
  {
   "cell_type": "code",
   "execution_count": 2,
   "metadata": {},
   "outputs": [
    {
     "data": {
      "text/plain": [
       "array([[0.24271969, 0.48847059, 0.03727057, 0.63124662, 0.95150737],\n",
       "       [0.7619682 , 0.85196378, 0.18990219, 0.79037975, 0.82560153],\n",
       "       [0.04852272, 0.68571835, 0.73645025, 0.28729888, 0.37471257],\n",
       "       [0.55208185, 0.86230999, 0.17627715, 0.96111313, 0.27307947],\n",
       "       [0.34208325, 0.78491858, 0.50119576, 0.56891639, 0.60040641]])"
      ]
     },
     "execution_count": 2,
     "metadata": {},
     "output_type": "execute_result"
    }
   ],
   "source": [
    "A = numpy.random.rand(5, 5) # 10x10 matrix of random numbers between 0 and 1\n",
    "A"
   ]
  },
  {
   "cell_type": "markdown",
   "metadata": {},
   "source": [
    "Sometimes, the module we want is actually supplied *inside* another module. A very common example comes from `matplotlib`, a library for data visualization that we will use extensively later in this course. Most of the time, we only need the `pyplot` module, which is housed within `matplotlib`. To import it, we use `from`: "
   ]
  },
  {
   "cell_type": "code",
   "execution_count": 3,
   "metadata": {},
   "outputs": [
    {
     "data": {
      "text/plain": [
       "<matplotlib.image.AxesImage at 0x7feeb3ec4cd0>"
      ]
     },
     "execution_count": 3,
     "metadata": {},
     "output_type": "execute_result"
    },
    {
     "data": {
      "image/png": "[encoded data removed]",
      "text/plain": [
       "<Figure size 432x288 with 1 Axes>"
      ]
     },
     "metadata": {
      "needs_background": "light"
     },
     "output_type": "display_data"
    }
   ],
   "source": [
    "from matplotlib import pyplot\n",
    "pyplot.imshow(A)\n",
    "# image: a 5x5 heatmap of entries in the matrix A\n",
    "# ---"
   ]
  },
  {
   "cell_type": "markdown",
   "metadata": {},
   "source": [
    "You can also give a module an *alias* which allows you to refer to it using a shorter name, using `as`:"
   ]
  },
  {
   "cell_type": "code",
   "execution_count": 4,
   "metadata": {},
   "outputs": [
    {
     "data": {
      "text/plain": [
       "<matplotlib.image.AxesImage at 0x7feeb3f44a60>"
      ]
     },
     "execution_count": 4,
     "metadata": {},
     "output_type": "execute_result"
    },
    {
     "data": {
      "image/png": "[encoded data removed]",
      "text/plain": [
       "<Figure size 432x288 with 1 Axes>"
      ]
     },
     "metadata": {
      "needs_background": "light"
     },
     "output_type": "display_data"
    }
   ],
   "source": [
    "from matplotlib import pyplot as plt\n",
    "plt.imshow(A)\n",
    "# image: a 5x5 heatmap of entries in the matrix A\n",
    "# ---"
   ]
  },
  {
   "cell_type": "markdown",
   "metadata": {},
   "source": [
    "## Learning About Functions\n",
    "\n",
    "Often we know roughly what we would like to do, but not exactly which function we should use or how to use it. \n",
    "If you would like to learn more about a function, there are three main things you should try: \n",
    "\n",
    "1. If you know roughly what a function does, but can't remember the details, check the **documentation.**\n",
    "2. If you have a problem and you're not sure what function should solve it, **ask your group members** or **post in the discussion forum.**\n",
    "3. If you can't figure it out within your group or on the forum, try **Googling.** StackOverflow is a particularly good resource. \n",
    "\n",
    "### Read the Docs\n",
    "\n",
    "To check the documentation of a function, just write down the function's name and add a `?` in front. Don't include `()` parentheses. "
   ]
  },
  {
   "cell_type": "code",
   "execution_count": 5,
   "metadata": {},
   "outputs": [
    {
     "name": "stdout",
     "output_type": "stream",
     "text": [
      "Object `sorted() ` not found.\n"
     ]
    },
    {
     "data": {
      "text/plain": [
       "\u001b[0;31mSignature:\u001b[0m\n",
       "\u001b[0mplt\u001b[0m\u001b[0;34m.\u001b[0m\u001b[0mimshow\u001b[0m\u001b[0;34m(\u001b[0m\u001b[0;34m\u001b[0m\n",
       "\u001b[0;34m\u001b[0m    \u001b[0mX\u001b[0m\u001b[0;34m,\u001b[0m\u001b[0;34m\u001b[0m\n",
       "\u001b[0;34m\u001b[0m    \u001b[0mcmap\u001b[0m\u001b[0;34m=\u001b[0m\u001b[0;32mNone\u001b[0m\u001b[0;34m,\u001b[0m\u001b[0;34m\u001b[0m\n",
       "\u001b[0;34m\u001b[0m    \u001b[0mnorm\u001b[0m\u001b[0;34m=\u001b[0m\u001b[0;32mNone\u001b[0m\u001b[0;34m,\u001b[0m\u001b[0;34m\u001b[0m\n",
       "\u001b[0;34m\u001b[0m    \u001b[0maspect\u001b[0m\u001b[0;34m=\u001b[0m\u001b[0;32mNone\u001b[0m\u001b[0;34m,\u001b[0m\u001b[0;34m\u001b[0m\n",
       "\u001b[0;34m\u001b[0m    \u001b[0minterpolation\u001b[0m\u001b[0;34m=\u001b[0m\u001b[0;32mNone\u001b[0m\u001b[0;34m,\u001b[0m\u001b[0;34m\u001b[0m\n",
       "\u001b[0;34m\u001b[0m    \u001b[0malpha\u001b[0m\u001b[0;34m=\u001b[0m\u001b[0;32mNone\u001b[0m\u001b[0;34m,\u001b[0m\u001b[0;34m\u001b[0m\n",
       "\u001b[0;34m\u001b[0m    \u001b[0mvmin\u001b[0m\u001b[0;34m=\u001b[0m\u001b[0;32mNone\u001b[0m\u001b[0;34m,\u001b[0m\u001b[0;34m\u001b[0m\n",
       "\u001b[0;34m\u001b[0m    \u001b[0mvmax\u001b[0m\u001b[0;34m=\u001b[0m\u001b[0;32mNone\u001b[0m\u001b[0;34m,\u001b[0m\u001b[0;34m\u001b[0m\n",
       "\u001b[0;34m\u001b[0m    \u001b[0morigin\u001b[0m\u001b[0;34m=\u001b[0m\u001b[0;32mNone\u001b[0m\u001b[0;34m,\u001b[0m\u001b[0;34m\u001b[0m\n",
       "\u001b[0;34m\u001b[0m    \u001b[0mextent\u001b[0m\u001b[0;34m=\u001b[0m\u001b[0;32mNone\u001b[0m\u001b[0;34m,\u001b[0m\u001b[0;34m\u001b[0m\n",
       "\u001b[0;34m\u001b[0m    \u001b[0mshape\u001b[0m\u001b[0;34m=\u001b[0m\u001b[0;34m<\u001b[0m\u001b[0mdeprecated\u001b[0m \u001b[0mparameter\u001b[0m\u001b[0;34m>\u001b[0m\u001b[0;34m,\u001b[0m\u001b[0;34m\u001b[0m\n",
       "\u001b[0;34m\u001b[0m    \u001b[0mfilternorm\u001b[0m\u001b[0;34m=\u001b[0m\u001b[0;36m1\u001b[0m\u001b[0;34m,\u001b[0m\u001b[0;34m\u001b[0m\n",
       "\u001b[0;34m\u001b[0m    \u001b[0mfilterrad\u001b[0m\u001b[0;34m=\u001b[0m\u001b[0;36m4.0\u001b[0m\u001b[0;34m,\u001b[0m\u001b[0;34m\u001b[0m\n",
       "\u001b[0;34m\u001b[0m    \u001b[0mimlim\u001b[0m\u001b[0;34m=\u001b[0m\u001b[0;34m<\u001b[0m\u001b[0mdeprecated\u001b[0m \u001b[0mparameter\u001b[0m\u001b[0;34m>\u001b[0m\u001b[0;34m,\u001b[0m\u001b[0;34m\u001b[0m\n",
       "\u001b[0;34m\u001b[0m    \u001b[0mresample\u001b[0m\u001b[0;34m=\u001b[0m\u001b[0;32mNone\u001b[0m\u001b[0;34m,\u001b[0m\u001b[0;34m\u001b[0m\n",
       "\u001b[0;34m\u001b[0m    \u001b[0murl\u001b[0m\u001b[0;34m=\u001b[0m\u001b[0;32mNone\u001b[0m\u001b[0;34m,\u001b[0m\u001b[0;34m\u001b[0m\n",
       "\u001b[0;34m\u001b[0m    \u001b[0;34m*\u001b[0m\u001b[0;34m,\u001b[0m\u001b[0;34m\u001b[0m\n",
       "\u001b[0;34m\u001b[0m    \u001b[0mdata\u001b[0m\u001b[0;34m=\u001b[0m\u001b[0;32mNone\u001b[0m\u001b[0;34m,\u001b[0m\u001b[0;34m\u001b[0m\n",
       "\u001b[0;34m\u001b[0m    \u001b[0;34m**\u001b[0m\u001b[0mkwargs\u001b[0m\u001b[0;34m,\u001b[0m\u001b[0;34m\u001b[0m\n",
       "\u001b[0;34m\u001b[0m\u001b[0;34m)\u001b[0m\u001b[0;34m\u001b[0m\u001b[0;34m\u001b[0m\u001b[0m\n",
       "\u001b[0;31mDocstring:\u001b[0m\n",
       "Display data as an image; i.e. on a 2D regular raster.\n",
       "\n",
       "The input may either be actual RGB(A) data, or 2D scalar data, which\n",
       "will be rendered as a pseudocolor image. Note: For actually displaying\n",
       "a grayscale image set up the color mapping using the parameters\n",
       "``cmap='gray', vmin=0, vmax=255``.\n",
       "\n",
       "Parameters\n",
       "----------\n",
       "X : array-like or PIL image\n",
       "    The image data. Supported array shapes are:\n",
       "\n",
       "    - (M, N): an image with scalar data. The values are mapped to\n",
       "      colors using normalization and a colormap. See parameters *norm*,\n",
       "      *cmap*, *vmin*, *vmax*.\n",
       "    - (M, N, 3): an image with RGB values (0-1 float or 0-255 int).\n",
       "    - (M, N, 4): an image with RGBA values (0-1 float or 0-255 int),\n",
       "      i.e. including transparency.\n",
       "\n",
       "    The first two dimensions (M, N) define the rows and columns of\n",
       "    the image.\n",
       "\n",
       "    Out-of-range RGB(A) values are clipped.\n",
       "\n",
       "cmap : str or `~matplotlib.colors.Colormap`, optional\n",
       "    The Colormap instance or registered colormap name used to map\n",
       "    scalar data to colors. This parameter is ignored for RGB(A) data.\n",
       "    Defaults to :rc:`image.cmap`.\n",
       "\n",
       "norm : `~matplotlib.colors.Normalize`, optional\n",
       "    The `Normalize` instance used to scale scalar data to the [0, 1]\n",
       "    range before mapping to colors using *cmap*. By default, a linear\n",
       "    scaling mapping the lowest value to 0 and the highest to 1 is used.\n",
       "    This parameter is ignored for RGB(A) data.\n",
       "\n",
       "aspect : {'equal', 'auto'} or float, optional\n",
       "    Controls the aspect ratio of the axes. The aspect is of particular\n",
       "    relevance for images since it may distort the image, i.e. pixel\n",
       "    will not be square.\n",
       "\n",
       "    This parameter is a shortcut for explicitly calling\n",
       "    `.Axes.set_aspect`. See there for further details.\n",
       "\n",
       "    - 'equal': Ensures an aspect ratio of 1. Pixels will be square\n",
       "      (unless pixel sizes are explicitly made non-square in data\n",
       "      coordinates using *extent*).\n",
       "    - 'auto': The axes is kept fixed and the aspect is adjusted so\n",
       "      that the data fit in the axes. In general, this will result in\n",
       "      non-square pixels.\n",
       "\n",
       "    If not given, use :rc:`image.aspect`.\n",
       "\n",
       "interpolation : str, optional\n",
       "    The interpolation method used. If *None*, :rc:`image.interpolation`\n",
       "    is used.\n",
       "\n",
       "    Supported values are 'none', 'antialiased', 'nearest', 'bilinear',\n",
       "    'bicubic', 'spline16', 'spline36', 'hanning', 'hamming', 'hermite',\n",
       "    'kaiser', 'quadric', 'catrom', 'gaussian', 'bessel', 'mitchell',\n",
       "    'sinc', 'lanczos'.\n",
       "\n",
       "    If *interpolation* is 'none', then no interpolation is performed\n",
       "    on the Agg, ps, pdf and svg backends. Other backends will fall back\n",
       "    to 'nearest'. Note that most SVG renders perform interpolation at\n",
       "    rendering and that the default interpolation method they implement\n",
       "    may differ.\n",
       "\n",
       "    If *interpolation* is the default 'antialiased', then 'nearest'\n",
       "    interpolation is used if the image is upsampled by more than a\n",
       "    factor of three (i.e. the number of display pixels is at least\n",
       "    three times the size of the data array).  If the upsampling rate is\n",
       "    smaller than 3, or the image is downsampled, then 'hanning'\n",
       "    interpolation is used to act as an anti-aliasing filter, unless the\n",
       "    image happens to be upsampled by exactly a factor of two or one.\n",
       "\n",
       "    See\n",
       "    :doc:`/gallery/images_contours_and_fields/interpolation_methods`\n",
       "    for an overview of the supported interpolation methods, and\n",
       "    :doc:`/gallery/images_contours_and_fields/image_antialiasing` for\n",
       "    a discussion of image antialiasing.\n",
       "\n",
       "    Some interpolation methods require an additional radius parameter,\n",
       "    which can be set by *filterrad*. Additionally, the antigrain image\n",
       "    resize filter is controlled by the parameter *filternorm*.\n",
       "\n",
       "alpha : scalar or array-like, optional\n",
       "    The alpha blending value, between 0 (transparent) and 1 (opaque).\n",
       "    If *alpha* is an array, the alpha blending values are applied pixel\n",
       "    by pixel, and *alpha* must have the same shape as *X*.\n",
       "\n",
       "vmin, vmax : scalar, optional\n",
       "    When using scalar data and no explicit *norm*, *vmin* and *vmax*\n",
       "    define the data range that the colormap covers. By default,\n",
       "    the colormap covers the complete value range of the supplied\n",
       "    data. *vmin*, *vmax* are ignored if the *norm* parameter is used.\n",
       "\n",
       "origin : {'upper', 'lower'}, optional\n",
       "    Place the [0, 0] index of the array in the upper left or lower left\n",
       "    corner of the axes. The convention 'upper' is typically used for\n",
       "    matrices and images.\n",
       "    If not given, :rc:`image.origin` is used, defaulting to 'upper'.\n",
       "\n",
       "    Note that the vertical axes points upward for 'lower'\n",
       "    but downward for 'upper'.\n",
       "\n",
       "    See the :doc:`/tutorials/intermediate/imshow_extent` tutorial for\n",
       "    examples and a more detailed description.\n",
       "\n",
       "extent : scalars (left, right, bottom, top), optional\n",
       "    The bounding box in data coordinates that the image will fill.\n",
       "    The image is stretched individually along x and y to fill the box.\n",
       "\n",
       "    The default extent is determined by the following conditions.\n",
       "    Pixels have unit size in data coordinates. Their centers are on\n",
       "    integer coordinates, and their center coordinates range from 0 to\n",
       "    columns-1 horizontally and from 0 to rows-1 vertically.\n",
       "\n",
       "    Note that the direction of the vertical axis and thus the default\n",
       "    values for top and bottom depend on *origin*:\n",
       "\n",
       "    - For ``origin == 'upper'`` the default is\n",
       "      ``(-0.5, numcols-0.5, numrows-0.5, -0.5)``.\n",
       "    - For ``origin == 'lower'`` the default is\n",
       "      ``(-0.5, numcols-0.5, -0.5, numrows-0.5)``.\n",
       "\n",
       "    See the :doc:`/tutorials/intermediate/imshow_extent` tutorial for\n",
       "    examples and a more detailed description.\n",
       "\n",
       "filternorm : bool, optional, default: True\n",
       "    A parameter for the antigrain image resize filter (see the\n",
       "    antigrain documentation).  If *filternorm* is set, the filter\n",
       "    normalizes integer values and corrects the rounding errors. It\n",
       "    doesn't do anything with the source floating point values, it\n",
       "    corrects only integers according to the rule of 1.0 which means\n",
       "    that any sum of pixel weights must be equal to 1.0.  So, the\n",
       "    filter function must produce a graph of the proper shape.\n",
       "\n",
       "filterrad : float > 0, optional, default: 4.0\n",
       "    The filter radius for filters that have a radius parameter, i.e.\n",
       "    when interpolation is one of: 'sinc', 'lanczos' or 'blackman'.\n",
       "\n",
       "resample : bool, optional\n",
       "    When *True*, use a full resampling method.  When *False*, only\n",
       "    resample when the output image is larger than the input image.\n",
       "\n",
       "url : str, optional\n",
       "    Set the url of the created `.AxesImage`. See `.Artist.set_url`.\n",
       "\n",
       "Returns\n",
       "-------\n",
       "image : `~matplotlib.image.AxesImage`\n",
       "\n",
       "Other Parameters\n",
       "----------------\n",
       "**kwargs : `~matplotlib.artist.Artist` properties\n",
       "    These parameters are passed on to the constructor of the\n",
       "    `.AxesImage` artist.\n",
       "\n",
       "See also\n",
       "--------\n",
       "matshow : Plot a matrix or an array as an image.\n",
       "\n",
       "Notes\n",
       "-----\n",
       "Unless *extent* is used, pixel centers will be located at integer\n",
       "coordinates. In other words: the origin will coincide with the center\n",
       "of pixel (0, 0).\n",
       "\n",
       "There are two common representations for RGB images with an alpha\n",
       "channel:\n",
       "\n",
       "-   Straight (unassociated) alpha: R, G, and B channels represent the\n",
       "    color of the pixel, disregarding its opacity.\n",
       "-   Premultiplied (associated) alpha: R, G, and B channels represent\n",
       "    the color of the pixel, adjusted for its opacity by multiplication.\n",
       "\n",
       "`~matplotlib.pyplot.imshow` expects RGB images adopting the straight\n",
       "(unassociated) alpha representation.\n",
       "\n",
       ".. note::\n",
       "    In addition to the above described arguments, this function can take a\n",
       "    **data** keyword argument. If such a **data** argument is given, the\n",
       "    following arguments are replaced by **data[<arg>]**:\n",
       "\n",
       "    * All positional and all keyword arguments.\n",
       "\n",
       "    Objects passed as **data** must support item access (``data[<arg>]``) and\n",
       "    membership test (``<arg> in data``).\n",
       "\u001b[0;31mFile:\u001b[0m      /opt/anaconda3/lib/python3.8/site-packages/matplotlib/pyplot.py\n",
       "\u001b[0;31mType:\u001b[0m      function\n"
      ]
     },
     "metadata": {},
     "output_type": "display_data"
    }
   ],
   "source": [
    "# wrong\n",
    "?sorted() \n",
    "\n",
    "# right\n",
    "?sorted   \n",
    "\n",
    "# within an imported module\n",
    "?plt.imshow\n",
    "\n",
    "# ---"
   ]
  },
  {
   "cell_type": "markdown",
   "metadata": {},
   "source": [
    "## Write the Docs\n",
    "\n",
    "Most of the Python code you write in this class will be enclosed within functions. All functions you write (and all functions you turn in) are expected to be documented using comments and docstrings. \n",
    "\n",
    "Your code should include comments and docstrings. \n",
    "\n",
    "**Comments** (marked in Python with a `#`) explain the intention and operation of small lines or blocks of code. \n",
    "\n",
    "**Docstrings** give a detailed explanation of the inputs and outputs of a function. Docstrings are typically placed directly below the first line of a function definition. They are placed between three pairs of quotation marks `\"\"\"like this\"\"\"`. It is not required that you follow a defined format for your docstrings, but each one should make clear (a) the role of all parameters and (b) what the user should expect the function to return. \n",
    "\n",
    "For more examples of appropriately documented code, please refer to the notebook [Expectations for Submitted Assignments](https://nbviewer.jupyter.org/github/PhilChodrow/PIC16A/blob/master/content/w0/expectations_for_assignments.ipynb). "
   ]
  },
  {
   "cell_type": "code",
   "execution_count": 6,
   "metadata": {},
   "outputs": [],
   "source": [
    "def power_of_k(k, power=1):\n",
    "    \"\"\"\n",
    "    Compute an integer power of a user-specified number k. \n",
    "    \"\"\"\n",
    "    # initialize\n",
    "    x = 1\n",
    "    \n",
    "    # multiply x by k power times. \n",
    "    for i in range(power):\n",
    "        x *= k\n",
    "    return x"
   ]
  },
  {
   "cell_type": "markdown",
   "metadata": {},
   "source": [
    "Once you've documented your functions, you can then check the documentation later: "
   ]
  },
  {
   "cell_type": "code",
   "execution_count": 7,
   "metadata": {},
   "outputs": [
    {
     "data": {
      "text/plain": [
       "\u001b[0;31mSignature:\u001b[0m \u001b[0mpower_of_k\u001b[0m\u001b[0;34m(\u001b[0m\u001b[0mk\u001b[0m\u001b[0;34m,\u001b[0m \u001b[0mpower\u001b[0m\u001b[0;34m=\u001b[0m\u001b[0;36m1\u001b[0m\u001b[0;34m)\u001b[0m\u001b[0;34m\u001b[0m\u001b[0;34m\u001b[0m\u001b[0m\n",
       "\u001b[0;31mDocstring:\u001b[0m Compute an integer power of a user-specified number k. \n",
       "\u001b[0;31mFile:\u001b[0m      ~/Google Drive/professional/teaching/UCLA_teaching/PIC16A/content/functions/<ipython-input-6-847398ab7cab>\n",
       "\u001b[0;31mType:\u001b[0m      function\n"
      ]
     },
     "metadata": {},
     "output_type": "display_data"
    }
   ],
   "source": [
    "?power_of_k\n",
    "# ---"
   ]
  },
  {
   "cell_type": "markdown",
   "metadata": {},
   "source": [
    "## Writing Modules\n",
    "\n",
    "We won't usually ask you to write modules in this class, but you might find it convenient when working on larger projects. To import a module into a notebook, just write `import <filename>`. For example, let's create a simple module by writing some code to a file. "
   ]
  },
  {
   "cell_type": "code",
   "execution_count": 8,
   "metadata": {},
   "outputs": [],
   "source": [
    "# file contents\n",
    "\n",
    "code = '''\n",
    "def power_of_k(k, power=1):\n",
    "    \"\"\"\n",
    "    Compute an integer power of a user-specified number k. \n",
    "    \"\"\"\n",
    "    # initialize\n",
    "    x = 1\n",
    "    \n",
    "    # multiply x by k power times. \n",
    "    for i in range(power):\n",
    "        x *= k\n",
    "    return x\n",
    "'''\n",
    "\n",
    "file = open('power.py', 'w')\n",
    "file.write(code)\n",
    "file.close()"
   ]
  },
  {
   "cell_type": "code",
   "execution_count": 9,
   "metadata": {},
   "outputs": [
    {
     "data": {
      "text/plain": [
       "64"
      ]
     },
     "execution_count": 9,
     "metadata": {},
     "output_type": "execute_result"
    }
   ],
   "source": [
    "import power\n",
    "power.power_of_k(8, power = 2)"
   ]
  },
  {
   "cell_type": "markdown",
   "metadata": {},
   "source": [
    "## No Global Variables\n",
    "\n",
    "As we discussed last lecture, functions generally can't modify global variables. \n",
    "\n",
    "**Question:** What if you *want* your function to modify a global variable? \n",
    "\n",
    "**Answer:** Find another way.\n",
    "\n",
    "With **very** rare exceptions, functions should not modify global variables, as this can lead to code that is difficult to read and troubleshoot. Here's a helpful [StackOverflow answer](https://stackoverflow.com/questions/19158339/why-are-global-variables-evil) on the dangers of abusing global variables. \n",
    "\n",
    "Generally speaking, any data that your function requires should be supplied as an argument, rather than taken from the global scope. "
   ]
  },
  {
   "cell_type": "code",
   "execution_count": 10,
   "metadata": {},
   "outputs": [
    {
     "data": {
      "text/plain": [
       "6"
      ]
     },
     "execution_count": 10,
     "metadata": {},
     "output_type": "execute_result"
    }
   ],
   "source": [
    "# don't do this\n",
    "\n",
    "x = 3\n",
    "def double():\n",
    "    return(2*x)\n",
    "\n",
    "# do this instead\n",
    "\n",
    "def double(x):\n",
    "    return(2*x)\n",
    "    \n",
    "double(3)"
   ]
  },
  {
   "cell_type": "markdown",
   "metadata": {},
   "source": [
    "## Functions with Memory\n",
    "\n",
    "A common reason we might want to use global variables is to give functions **memory**. For example, suppose we want to simply count the number of times that a function has been called. Here's a first attempt: "
   ]
  },
  {
   "cell_type": "code",
   "execution_count": 11,
   "metadata": {},
   "outputs": [],
   "source": [
    "# NEVER DO THIS\n",
    "x = 0\n",
    "def counter():\n",
    "    global x           # forces Python to overwrite global variable x. \n",
    "    x = x+1\n",
    "    return(x)"
   ]
  },
  {
   "cell_type": "code",
   "execution_count": 12,
   "metadata": {},
   "outputs": [
    {
     "data": {
      "text/plain": [
       "(1, 2, 3)"
      ]
     },
     "execution_count": 12,
     "metadata": {},
     "output_type": "execute_result"
    }
   ],
   "source": [
    "counter(), counter(), counter()"
   ]
  },
  {
   "cell_type": "markdown",
   "metadata": {},
   "source": [
    "The basic problem here is that the `counter()` function will not work correctly if the user has independently modified `x`. \n",
    "\n",
    "While there are ways to create functions with memories, this is usually not the best solution to a problem. Instead, it is generally preferable to create a class. We'll discuss objects and classes soon. "
   ]
  }
 ],
 "metadata": {
  "kernelspec": {
   "display_name": "Python 3",
   "language": "python",
   "name": "python3"
  },
  "language_info": {
   "codemirror_mode": {
    "name": "ipython",
    "version": 3
   },
   "file_extension": ".py",
   "mimetype": "text/x-python",
   "name": "python",
   "nbconvert_exporter": "python",
   "pygments_lexer": "ipython3",
   "version": "3.8.5"
  }
 },
 "nbformat": 4,
 "nbformat_minor": 4
}
