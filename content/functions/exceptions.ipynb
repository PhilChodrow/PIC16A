{
 "cells": [
  {
   "cell_type": "markdown",
   "metadata": {},
   "source": [
    "# Exceptions and Error Handling\n",
    "\n",
    "- [Download the lecture notes](https://philchodrow.github.io/PIC16A/content/functions/exceptions.ipynb). \n",
    "\n",
    "Often when writing programs, we will encounter **errors.** You've likely already seen **syntax errors.** These are indications that your code is not well-formed Python.  "
   ]
  },
  {
   "cell_type": "code",
   "execution_count": 1,
   "metadata": {},
   "outputs": [
    {
     "ename": "SyntaxError",
     "evalue": "invalid syntax (<ipython-input-1-7b8b9d0bfa65>, line 1)",
     "output_type": "error",
     "traceback": [
      "\u001b[0;36m  File \u001b[0;32m\"<ipython-input-1-7b8b9d0bfa65>\"\u001b[0;36m, line \u001b[0;32m1\u001b[0m\n\u001b[0;31m    +2=\"kirk\"r2..00a$\u001b[0m\n\u001b[0m              ^\u001b[0m\n\u001b[0;31mSyntaxError\u001b[0m\u001b[0;31m:\u001b[0m invalid syntax\n"
     ]
    }
   ],
   "source": [
    "+2=\"kirk\"r2..00a$\n",
    "# ---"
   ]
  },
  {
   "cell_type": "markdown",
   "metadata": {},
   "source": [
    "Syntax errors are somewhat analogous to compiler errors in C++ -- a syntax error indicates a problem with your code, **regardless of your intention.** \n",
    "\n",
    "Python also offers a large array of additional errors. Errors other than syntax errors are often referred to as **exceptions**. \n",
    "\n",
    "Generating exceptions is easy! Many of them have to do with either (a) trying to use a function that hasn't been defined or (b) trying to call a function on data of a type unsuitable for that function. "
   ]
  },
  {
   "cell_type": "code",
   "execution_count": 3,
   "metadata": {},
   "outputs": [
    {
     "ename": "NameError",
     "evalue": "name 'rand' is not defined",
     "output_type": "error",
     "traceback": [
      "\u001b[0;31m---------------------------------------------------------------------------\u001b[0m",
      "\u001b[0;31mNameError\u001b[0m                                 Traceback (most recent call last)",
      "\u001b[0;32m<ipython-input-3-96fd619928ed>\u001b[0m in \u001b[0;36m<module>\u001b[0;34m\u001b[0m\n\u001b[0;32m----> 1\u001b[0;31m \u001b[0mrand\u001b[0m\u001b[0;34m(\u001b[0m\u001b[0;34m)\u001b[0m\u001b[0;34m\u001b[0m\u001b[0;34m\u001b[0m\u001b[0m\n\u001b[0m\u001b[1;32m      2\u001b[0m \u001b[0;31m#---\u001b[0m\u001b[0;34m\u001b[0m\u001b[0;34m\u001b[0m\u001b[0;34m\u001b[0m\u001b[0m\n",
      "\u001b[0;31mNameError\u001b[0m: name 'rand' is not defined"
     ]
    }
   ],
   "source": [
    "rand()\n",
    "#---"
   ]
  },
  {
   "cell_type": "code",
   "execution_count": 4,
   "metadata": {},
   "outputs": [
    {
     "data": {
      "text/plain": [
       "6"
      ]
     },
     "execution_count": 4,
     "metadata": {},
     "output_type": "execute_result"
    }
   ],
   "source": [
    "int(6.0)"
   ]
  },
  {
   "cell_type": "code",
   "execution_count": 5,
   "metadata": {},
   "outputs": [
    {
     "ename": "ValueError",
     "evalue": "invalid literal for int() with base 10: 'six'",
     "output_type": "error",
     "traceback": [
      "\u001b[0;31m---------------------------------------------------------------------------\u001b[0m",
      "\u001b[0;31mValueError\u001b[0m                                Traceback (most recent call last)",
      "\u001b[0;32m<ipython-input-5-8969bbbbd10d>\u001b[0m in \u001b[0;36m<module>\u001b[0;34m\u001b[0m\n\u001b[0;32m----> 1\u001b[0;31m \u001b[0mint\u001b[0m\u001b[0;34m(\u001b[0m\u001b[0;34m\"six\"\u001b[0m\u001b[0;34m)\u001b[0m\u001b[0;34m\u001b[0m\u001b[0;34m\u001b[0m\u001b[0m\n\u001b[0m\u001b[1;32m      2\u001b[0m \u001b[0;31m# ---\u001b[0m\u001b[0;34m\u001b[0m\u001b[0;34m\u001b[0m\u001b[0;34m\u001b[0m\u001b[0m\n",
      "\u001b[0;31mValueError\u001b[0m: invalid literal for int() with base 10: 'six'"
     ]
    }
   ],
   "source": [
    "int(\"six\")\n",
    "# ---"
   ]
  },
  {
   "cell_type": "markdown",
   "metadata": {},
   "source": [
    "While exceptions often look like a sign of failure, they are both important and useful. The primary purpose of exceptions is to prevent code from *failing silently* -- that is, doing something other than your intention, without any indication. Correct handling of exceptions forces you to disambiguate your code, making your intentions clear. \n",
    "\n",
    "Note that Python also tells you *what kind* of exception we are dealing with: `NameError` and `ValueError`, respectively. The [Built-In Exceptions page](https://docs.python.org/3.7/library/exceptions.html#bltin-exceptions) lists all the standards included in the basic distribution of Python. Some of the most common ones are: \n",
    "\n",
    "- `IOError` : you are trying to access a file that does not exist or otherwise cannot be opened. \n",
    "- `ImportError` : you are trying to import a module that Python cannot find. \n",
    "- `ValueError` : you have passed an argument to a function of the right type but wrong value. \n",
    "- `KeyBoardInterrupt` : you have terminated an operation before it was complete, either by using `Super + C` or the Stop button in Jupyter. \n",
    "- `NameError` : you have tried to access a variable name that does not exist in the local or global scope. \n",
    "\n",
    "When you encounter an exception, you should always (a) reflect on the type of exception and (b) check the *traceback*, which will give you some hints about in which line of code the exception occurred. For example, consider the following function. "
   ]
  },
  {
   "cell_type": "code",
   "execution_count": 6,
   "metadata": {},
   "outputs": [],
   "source": [
    "def multiply_and_divide(x):\n",
    "    \"\"\"\n",
    "    multiply and then divide input x by 2\n",
    "    \"\"\"\n",
    "    \n",
    "    output = x*2\n",
    "    output = output/2\n",
    "    \n",
    "    return(output)"
   ]
  },
  {
   "cell_type": "code",
   "execution_count": 7,
   "metadata": {},
   "outputs": [
    {
     "data": {
      "text/plain": [
       "1.0"
      ]
     },
     "execution_count": 7,
     "metadata": {},
     "output_type": "execute_result"
    }
   ],
   "source": [
    "multiply_and_divide(1)"
   ]
  },
  {
   "cell_type": "code",
   "execution_count": 8,
   "metadata": {},
   "outputs": [
    {
     "ename": "TypeError",
     "evalue": "unsupported operand type(s) for /: 'str' and 'int'",
     "output_type": "error",
     "traceback": [
      "\u001b[0;31m---------------------------------------------------------------------------\u001b[0m",
      "\u001b[0;31mTypeError\u001b[0m                                 Traceback (most recent call last)",
      "\u001b[0;32m<ipython-input-8-bfcfd08f6605>\u001b[0m in \u001b[0;36m<module>\u001b[0;34m\u001b[0m\n\u001b[0;32m----> 1\u001b[0;31m \u001b[0mmultiply_and_divide\u001b[0m\u001b[0;34m(\u001b[0m\u001b[0;34m\"one\"\u001b[0m\u001b[0;34m)\u001b[0m\u001b[0;34m\u001b[0m\u001b[0;34m\u001b[0m\u001b[0m\n\u001b[0m\u001b[1;32m      2\u001b[0m \u001b[0;31m# ---\u001b[0m\u001b[0;34m\u001b[0m\u001b[0;34m\u001b[0m\u001b[0;34m\u001b[0m\u001b[0m\n",
      "\u001b[0;32m<ipython-input-6-c8418eb783e2>\u001b[0m in \u001b[0;36mmultiply_and_divide\u001b[0;34m(x)\u001b[0m\n\u001b[1;32m      5\u001b[0m \u001b[0;34m\u001b[0m\u001b[0m\n\u001b[1;32m      6\u001b[0m     \u001b[0moutput\u001b[0m \u001b[0;34m=\u001b[0m \u001b[0mx\u001b[0m\u001b[0;34m*\u001b[0m\u001b[0;36m2\u001b[0m\u001b[0;34m\u001b[0m\u001b[0;34m\u001b[0m\u001b[0m\n\u001b[0;32m----> 7\u001b[0;31m     \u001b[0moutput\u001b[0m \u001b[0;34m=\u001b[0m \u001b[0moutput\u001b[0m\u001b[0;34m/\u001b[0m\u001b[0;36m2\u001b[0m\u001b[0;34m\u001b[0m\u001b[0;34m\u001b[0m\u001b[0m\n\u001b[0m\u001b[1;32m      8\u001b[0m \u001b[0;34m\u001b[0m\u001b[0m\n\u001b[1;32m      9\u001b[0m     \u001b[0;32mreturn\u001b[0m\u001b[0;34m(\u001b[0m\u001b[0moutput\u001b[0m\u001b[0;34m)\u001b[0m\u001b[0;34m\u001b[0m\u001b[0;34m\u001b[0m\u001b[0m\n",
      "\u001b[0;31mTypeError\u001b[0m: unsupported operand type(s) for /: 'str' and 'int'"
     ]
    }
   ],
   "source": [
    "multiply_and_divide(\"one\")\n",
    "# ---"
   ]
  },
  {
   "cell_type": "markdown",
   "metadata": {},
   "source": [
    "The error message tells us that we have encountered a `TypeError`. In this case, the traceback is also sufficient to locate the error at line 4.  \n",
    "\n",
    "## Raising Exceptions\n",
    "\n",
    "While this basically works, this design doesn't fully reflect our intention. The problem isn't that the function tried to divide a string by an integer, the problem is that this function *isn't designed to work with strings in the first place.* We can reflect our intention by **raising** a more helpful exception. Raising an exception immediately halts execution of the function, and can also be used to pass an informative message to the user. "
   ]
  },
  {
   "cell_type": "code",
   "execution_count": 9,
   "metadata": {},
   "outputs": [],
   "source": [
    "def multiply_and_divide_2(x):\n",
    "    \"\"\"\n",
    "    multiply and then divide input x by 2\n",
    "    \"\"\"\n",
    "    \n",
    "    if type(x) not in [float, int]:\n",
    "        raise TypeError(\"This function is designed to work only with floats and ints. \")\n",
    "    \n",
    "    output = x*2\n",
    "    output = output/2\n",
    "    \n",
    "    return(output)"
   ]
  },
  {
   "cell_type": "code",
   "execution_count": 10,
   "metadata": {},
   "outputs": [
    {
     "ename": "TypeError",
     "evalue": "This function is designed to work only with floats and ints. ",
     "output_type": "error",
     "traceback": [
      "\u001b[0;31m---------------------------------------------------------------------------\u001b[0m",
      "\u001b[0;31mTypeError\u001b[0m                                 Traceback (most recent call last)",
      "\u001b[0;32m<ipython-input-10-336bec0947b2>\u001b[0m in \u001b[0;36m<module>\u001b[0;34m\u001b[0m\n\u001b[0;32m----> 1\u001b[0;31m \u001b[0mmultiply_and_divide_2\u001b[0m\u001b[0;34m(\u001b[0m\u001b[0;34m\"six\"\u001b[0m\u001b[0;34m)\u001b[0m\u001b[0;34m\u001b[0m\u001b[0;34m\u001b[0m\u001b[0m\n\u001b[0m",
      "\u001b[0;32m<ipython-input-9-73953bca14f8>\u001b[0m in \u001b[0;36mmultiply_and_divide_2\u001b[0;34m(x)\u001b[0m\n\u001b[1;32m      5\u001b[0m \u001b[0;34m\u001b[0m\u001b[0m\n\u001b[1;32m      6\u001b[0m     \u001b[0;32mif\u001b[0m \u001b[0mtype\u001b[0m\u001b[0;34m(\u001b[0m\u001b[0mx\u001b[0m\u001b[0;34m)\u001b[0m \u001b[0;32mnot\u001b[0m \u001b[0;32min\u001b[0m \u001b[0;34m[\u001b[0m\u001b[0mfloat\u001b[0m\u001b[0;34m,\u001b[0m \u001b[0mint\u001b[0m\u001b[0;34m]\u001b[0m\u001b[0;34m:\u001b[0m\u001b[0;34m\u001b[0m\u001b[0;34m\u001b[0m\u001b[0m\n\u001b[0;32m----> 7\u001b[0;31m         \u001b[0;32mraise\u001b[0m \u001b[0mTypeError\u001b[0m\u001b[0;34m(\u001b[0m\u001b[0;34m\"This function is designed to work only with floats and ints. \"\u001b[0m\u001b[0;34m)\u001b[0m\u001b[0;34m\u001b[0m\u001b[0;34m\u001b[0m\u001b[0m\n\u001b[0m\u001b[1;32m      8\u001b[0m \u001b[0;34m\u001b[0m\u001b[0m\n\u001b[1;32m      9\u001b[0m     \u001b[0moutput\u001b[0m \u001b[0;34m=\u001b[0m \u001b[0mx\u001b[0m\u001b[0;34m*\u001b[0m\u001b[0;36m2\u001b[0m\u001b[0;34m\u001b[0m\u001b[0;34m\u001b[0m\u001b[0m\n",
      "\u001b[0;31mTypeError\u001b[0m: This function is designed to work only with floats and ints. "
     ]
    }
   ],
   "source": [
    "multiply_and_divide_2(\"six\")"
   ]
  },
  {
   "cell_type": "markdown",
   "metadata": {},
   "source": [
    "## Handling Exceptions\n",
    "\n",
    "In some cases, you might want to **handle** an exception: that is, acknowledge it while allowing your code to continue executing. This can be done via `try`-`except` blocks. The `try` clause states the \"expected\" behavior, while the `except` clause states what should happen in case of a specified error. Like raising an exception, the `except` clause can inform your user of what has happened. Unlike raising an exception, the `except`  clause can also perform additional computations. "
   ]
  },
  {
   "cell_type": "code",
   "execution_count": 11,
   "metadata": {},
   "outputs": [],
   "source": [
    "def multiply_and_divide_3(x):\n",
    "    output = x*2\n",
    "    try: \n",
    "        output = output/2\n",
    "    except TypeError: \n",
    "        print(\"This function is designed to work with floats and ints, returning original input instead.\")\n",
    "        return x\n",
    "    \n",
    "    return output"
   ]
  },
  {
   "cell_type": "code",
   "execution_count": 12,
   "metadata": {},
   "outputs": [
    {
     "data": {
      "text/plain": [
       "1.0"
      ]
     },
     "execution_count": 12,
     "metadata": {},
     "output_type": "execute_result"
    }
   ],
   "source": [
    "multiply_and_divide_3(1)"
   ]
  },
  {
   "cell_type": "code",
   "execution_count": 13,
   "metadata": {},
   "outputs": [
    {
     "name": "stdout",
     "output_type": "stream",
     "text": [
      "This function is designed to work with floats and ints, returning original input instead.\n"
     ]
    },
    {
     "data": {
      "text/plain": [
       "'one'"
      ]
     },
     "execution_count": 13,
     "metadata": {},
     "output_type": "execute_result"
    }
   ],
   "source": [
    "multiply_and_divide_3(\"one\")"
   ]
  },
  {
   "cell_type": "markdown",
   "metadata": {},
   "source": [
    "Here's a way to prompt the user to enter a valid number, using the `input()` function: "
   ]
  },
  {
   "cell_type": "code",
   "execution_count": 15,
   "metadata": {},
   "outputs": [
    {
     "name": "stdout",
     "output_type": "stream",
     "text": [
      "Please enter a number, and I'll turn it into a float: 6\n"
     ]
    },
    {
     "data": {
      "text/plain": [
       "6.0"
      ]
     },
     "execution_count": 15,
     "metadata": {},
     "output_type": "execute_result"
    }
   ],
   "source": [
    "while True:\n",
    "    try: \n",
    "        x = float(input(\"Please enter a number, and I'll turn it into a float: \"))\n",
    "        break\n",
    "    except ValueError:\n",
    "        print(\"That wasn't a number...\")\n",
    "\n",
    "x\n",
    "# ---"
   ]
  },
  {
   "cell_type": "markdown",
   "metadata": {},
   "source": [
    "You can include multiple `except` clauses to handle various kinds of exceptions: "
   ]
  },
  {
   "cell_type": "code",
   "execution_count": 19,
   "metadata": {},
   "outputs": [
    {
     "name": "stdout",
     "output_type": "stream",
     "text": [
      "You can't divide by zero!\n"
     ]
    }
   ],
   "source": [
    "def divide(x,y):\n",
    "    \"\"\"\n",
    "    Custom division of two numbers with warnings\n",
    "    \"\"\"\n",
    "    try: \n",
    "        return x/y\n",
    "    except TypeError:\n",
    "        print(\"Please check that x and y are both ints or floats.\")\n",
    "    except ZeroDivisionError:\n",
    "        print(\"You can't divide by zero!\")\n",
    "        \n",
    "divide(6, 0.0)\n",
    "# ---"
   ]
  },
  {
   "cell_type": "markdown",
   "metadata": {},
   "source": [
    "In some cases, you may wish to programmatically remember what kind of exception was raised and handled at a certain point in the code. We can assign the exception to a variable name using the `as` operator: "
   ]
  },
  {
   "cell_type": "code",
   "execution_count": 21,
   "metadata": {},
   "outputs": [
    {
     "name": "stdout",
     "output_type": "stream",
     "text": [
      "Please check that x and y are both ints or floats.\n"
     ]
    },
    {
     "data": {
      "text/plain": [
       "TypeError(\"unsupported operand type(s) for /: 'int' and 'str'\")"
      ]
     },
     "execution_count": 21,
     "metadata": {},
     "output_type": "execute_result"
    }
   ],
   "source": [
    "def divide_2(x,y):\n",
    "    \"\"\"\n",
    "    Custom division of two numbers with warnings\n",
    "    \"\"\"\n",
    "    try: \n",
    "        return x/y\n",
    "    except TypeError as t:\n",
    "        print(\"Please check that x and y are both ints or floats.\")\n",
    "        return(t)\n",
    "    except ZeroDivisionError as z:\n",
    "        print(\"You can't divide by zero!\")\n",
    "        return(z)\n",
    "        \n",
    "divide_2(6, \"Picard\")\n",
    "# ---"
   ]
  }
 ],
 "metadata": {
  "kernelspec": {
   "display_name": "Python 3",
   "language": "python",
   "name": "python3"
  },
  "language_info": {
   "codemirror_mode": {
    "name": "ipython",
    "version": 3
   },
   "file_extension": ".py",
   "mimetype": "text/x-python",
   "name": "python",
   "nbconvert_exporter": "python",
   "pygments_lexer": "ipython3",
   "version": "3.8.5"
  }
 },
 "nbformat": 4,
 "nbformat_minor": 4
}
