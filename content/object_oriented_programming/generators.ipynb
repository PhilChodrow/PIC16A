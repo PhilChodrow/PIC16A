{
 "cells": [
  {
   "cell_type": "markdown",
   "metadata": {},
   "source": [
    "# Generators\n",
    "\n",
    "- [Download the lecture notes](https://philchodrow.github.io/PIC16A/content/object_oriented_programming/generators.ipynb). \n",
    "\n",
    "A **generator** is a powerful syntactic shortcut for creating iterators. Rather than writing a whole customized iterator class, a generator allows you to construct iterators using function-like syntax. The key syntactic difference between functions and generators is the `yield` keyword, which replaces `return` in functions. There are also several important semantic differences. Let's look at an example.  "
   ]
  },
  {
   "cell_type": "code",
   "execution_count": 8,
   "metadata": {},
   "outputs": [],
   "source": [
    "def every_other(data):\n",
    "    for i in range(0, len(data)-1, 2):\n",
    "        yield data[i]"
   ]
  },
  {
   "cell_type": "code",
   "execution_count": 9,
   "metadata": {},
   "outputs": [],
   "source": [
    "it = every_other(\"to boldly go\")"
   ]
  },
  {
   "cell_type": "code",
   "execution_count": 14,
   "metadata": {},
   "outputs": [
    {
     "data": {
      "text/plain": [
       "'y'"
      ]
     },
     "execution_count": 14,
     "metadata": {},
     "output_type": "execute_result"
    }
   ],
   "source": [
    "next(it)"
   ]
  },
  {
   "cell_type": "code",
   "execution_count": 4,
   "metadata": {},
   "outputs": [
    {
     "name": "stdout",
     "output_type": "stream",
     "text": [
      "t\n",
      " \n",
      "o\n",
      "d\n",
      "y\n",
      "g\n"
     ]
    }
   ],
   "source": [
    "for letter in every_other(\"to boldly go\"):\n",
    "    print(letter)"
   ]
  },
  {
   "cell_type": "markdown",
   "metadata": {},
   "source": [
    "What do we observe? First, although `every_other` is written like a function, there is an important difference: `every_other` **remembers the value of `i`** between calls of `next()`. This is an example of a **stateful** operation -- the result of the call `next(it)` depends on the **state** of `it`. \n",
    "\n",
    "Remember when we were emphasizing **not** to use functions that modify global variables? Iterators and generators provide an easy way to define operations that remember their state, while custom classes are a more general, but often more labor-intensive, solution.  "
   ]
  },
  {
   "cell_type": "markdown",
   "metadata": {},
   "source": [
    "Now let's write a much simpler implementation of our `sortedDict` class from last lecture. As a reminder, our full code was: "
   ]
  },
  {
   "cell_type": "code",
   "execution_count": null,
   "metadata": {},
   "outputs": [],
   "source": [
    "class sortedDict(dict):\n",
    "    \n",
    "    def __iter__(self):\n",
    "        return sortedDictIterator(self)\n",
    "\n",
    "class sortedDictIterator():\n",
    "    \n",
    "    def __init__(self, sD):\n",
    "        self.i    = 0\n",
    "        self.keys = list(sD.keys())\n",
    "        self.keys.sort()\n",
    "    \n",
    "    def __next__(self):\n",
    "        \n",
    "        if self.i == len(self.keys):\n",
    "            raise StopIteration\n",
    "        \n",
    "        key = self.keys[self.i]\n",
    "        self.i += 1\n",
    "        \n",
    "        return(key, sD[key])        "
   ]
  },
  {
   "cell_type": "markdown",
   "metadata": {},
   "source": [
    "The version using generators is 4-5 times shorter! "
   ]
  },
  {
   "cell_type": "code",
   "execution_count": 45,
   "metadata": {},
   "outputs": [],
   "source": [
    "def sort_gen(D):\n",
    "    L = sorted(list(D.keys()))\n",
    "    for i in range(len(L)):\n",
    "        yield L[i], D[L[i]]"
   ]
  },
  {
   "cell_type": "code",
   "execution_count": 46,
   "metadata": {},
   "outputs": [],
   "source": [
    "D = {\"Klingons\" : \"Q'onoS\", \"Humans\" : \"Earth\", \"The Borg\" : \"?\"}\n",
    "G = sort_gen(D)"
   ]
  },
  {
   "cell_type": "code",
   "execution_count": 47,
   "metadata": {},
   "outputs": [
    {
     "data": {
      "text/plain": [
       "('Humans', 'Earth')"
      ]
     },
     "execution_count": 47,
     "metadata": {},
     "output_type": "execute_result"
    }
   ],
   "source": [
    "next(G)"
   ]
  },
  {
   "cell_type": "code",
   "execution_count": 48,
   "metadata": {},
   "outputs": [
    {
     "name": "stdout",
     "output_type": "stream",
     "text": [
      "('Humans', 'Earth')\n",
      "('Klingons', \"Q'onoS\")\n",
      "('The Borg', '?')\n"
     ]
    }
   ],
   "source": [
    "for pair in sort_gen(D):\n",
    "    print(pair)"
   ]
  }
 ],
 "metadata": {
  "kernelspec": {
   "display_name": "Python 3",
   "language": "python",
   "name": "python3"
  },
  "language_info": {
   "codemirror_mode": {
    "name": "ipython",
    "version": 3
   },
   "file_extension": ".py",
   "mimetype": "text/x-python",
   "name": "python",
   "nbconvert_exporter": "python",
   "pygments_lexer": "ipython3",
   "version": "3.8.5"
  }
 },
 "nbformat": 4,
 "nbformat_minor": 4
}
