{
 "cells": [
  {
   "cell_type": "markdown",
   "metadata": {},
   "source": [
    "# Inheritance II\n",
    "\n",
    "- [Download the lecture notes](https://philchodrow.github.io/PIC16A/content/object_oriented_programming/inheritance_II.ipynb). \n",
    "\n",
    "In this lecture, we'll code up a more complex example of inheritance. We'll define a general class, and then define several subclasses with different, distinctive behaviors. \n",
    "\n",
    "We will model Starfleet Officers. \n",
    "\n",
    "<figure class=\"image\" style=\"width:50%\">\n",
    "  <img src=\"https://img1.looper.com/img/gallery/where-the-cast-of-star-trek-the-next-generation-is-today/intro-1578421977.jpg\" alt=\"The cast of Star Trek: The Next Generation, in costume.\">\n",
    "  <figcaption><i></i></figcaption>\n",
    "</figure>\n",
    "\n",
    "A Starfleet officer is a space-faring member of Starfleet, the military and scientific force of the United Federation of Planets. Starfleet officers all have names and a rank such as \"Lieutenant\" or \"Captain.\" Additionally, Starfleet officers receive rudimentary combat training and can fire a phaser. \n",
    "\n",
    "Finally, Starfleet officers are people, with mental and physical wellbeing. We'll model each of these as numbers between 0 to 1, with higher numbers indicating better mental or physical health. "
   ]
  },
  {
   "cell_type": "code",
   "execution_count": 1,
   "metadata": {},
   "outputs": [],
   "source": [
    "import random\n",
    "\n",
    "class StarfleetOfficer:\n",
    "    \n",
    "    # instance variable: shared across all StarfleetOfficers\n",
    "    allegiance = \"United Federation of Planets\"\n",
    "    \n",
    "    def __init__(self, first, last, rank):\n",
    "        self.rank = rank\n",
    "        self.first = first\n",
    "        self.last = last\n",
    "        self.mental_health = random.random()\n",
    "        self.physical_health = random.random()\n",
    "        \n",
    "    def introduce(self):\n",
    "        return self.rank + \" \" + self.first + \" \" + self.last + \" of the \" + self.allegiance\n",
    "    \n",
    "    def fire_phaser(self):\n",
    "        return \"pew pew!\""
   ]
  },
  {
   "cell_type": "code",
   "execution_count": 2,
   "metadata": {},
   "outputs": [
    {
     "data": {
      "text/plain": [
       "'Commander Michael Burnham of the United Federation of Planets'"
      ]
     },
     "execution_count": 2,
     "metadata": {},
     "output_type": "execute_result"
    }
   ],
   "source": [
    "burnham = StarfleetOfficer(\"Michael\", \"Burnham\", \"Commander\")\n",
    "burnham.introduce()"
   ]
  },
  {
   "cell_type": "code",
   "execution_count": 3,
   "metadata": {},
   "outputs": [
    {
     "data": {
      "text/plain": [
       "'pew pew!'"
      ]
     },
     "execution_count": 3,
     "metadata": {},
     "output_type": "execute_result"
    }
   ],
   "source": [
    "burnham.fire_phaser()"
   ]
  },
  {
   "cell_type": "code",
   "execution_count": 4,
   "metadata": {},
   "outputs": [
    {
     "data": {
      "text/plain": [
       "(0.09107246812237468, 0.03053568057385625)"
      ]
     },
     "execution_count": 4,
     "metadata": {},
     "output_type": "execute_result"
    }
   ],
   "source": [
    "burnham.mental_health, burnham.physical_health"
   ]
  },
  {
   "cell_type": "markdown",
   "metadata": {},
   "source": [
    "Different kinds of `StarfleetOfficers` have different abilities. For example, medical officers use medical science to improve the health of their patients. \n",
    "\n",
    "<br>\n",
    "\n",
    "<figure class=\"image\" style=\"width:50%\">\n",
    "  <img src=\"https://1.bp.blogspot.com/-PsRVj2IIcec/Vw0thZuqH1I/AAAAAAAAcww/TsLcSAVfHr08ybFbM9qO5TocFpvNJvryw/s1600/equilibrium-Bashir.jpg\" alt=\"Julian Bashir, a medical officer in Star Trek, Deep Space 9.\">\n",
    "  <figcaption><i></i></figcaption>\n",
    "</figure>\n",
    "\n"
   ]
  },
  {
   "cell_type": "code",
   "execution_count": 5,
   "metadata": {},
   "outputs": [],
   "source": [
    "class MedicalOfficer(StarfleetOfficer):\n",
    "    \n",
    "    def operate_on(self, officer):\n",
    "        officer.physical_health = random.uniform(officer.physical_health, 1)\n",
    "        print(\"Is that better?\")"
   ]
  },
  {
   "cell_type": "code",
   "execution_count": 6,
   "metadata": {},
   "outputs": [
    {
     "data": {
      "text/plain": [
       "'Lieutenant Julian Bashir of the United Federation of Planets'"
      ]
     },
     "execution_count": 6,
     "metadata": {},
     "output_type": "execute_result"
    }
   ],
   "source": [
    "bashir = MedicalOfficer(\"Julian\", \"Bashir\", \"Lieutenant\")\n",
    "bashir.introduce()"
   ]
  },
  {
   "cell_type": "code",
   "execution_count": 7,
   "metadata": {},
   "outputs": [
    {
     "name": "stdout",
     "output_type": "stream",
     "text": [
      "Is that better?\n"
     ]
    },
    {
     "data": {
      "text/plain": [
       "0.06868833882453942"
      ]
     },
     "execution_count": 7,
     "metadata": {},
     "output_type": "execute_result"
    }
   ],
   "source": [
    "bashir.operate_on(burnham)\n",
    "burnham.physical_health\n",
    "# ---"
   ]
  },
  {
   "cell_type": "markdown",
   "metadata": {},
   "source": [
    "Ship counselors talk through problems with crew-members, helping those crew members to improve their mental well-being. \n",
    "\n",
    "<br>\n",
    "\n",
    "<figure class=\"image\" style=\"width:50%\">\n",
    "  <img src=\"https://rvamag.com/wp-content/uploads/2015/11/eye-of-the-beholder-counselor-deanna-troi-24188692-694-530.jpg\" alt=\"Deanna Troi, ship's counselor in Star Trek, The Next Generation.\">\n",
    "  <figcaption><i></i></figcaption>\n",
    "</figure>\n",
    "\n"
   ]
  },
  {
   "cell_type": "code",
   "execution_count": 8,
   "metadata": {},
   "outputs": [],
   "source": [
    "class ShipsCounselor(StarfleetOfficer):\n",
    "    \n",
    "    def talk_with(self, officer):\n",
    "        officer.mental_health = random.uniform(officer.mental_health, 1)\n",
    "        print(\"Thank you for sharing.\")"
   ]
  },
  {
   "cell_type": "code",
   "execution_count": 9,
   "metadata": {},
   "outputs": [
    {
     "data": {
      "text/plain": [
       "'Lieutenant Commander Deanna Troi of the United Federation of Planets'"
      ]
     },
     "execution_count": 9,
     "metadata": {},
     "output_type": "execute_result"
    }
   ],
   "source": [
    "troi = ShipsCounselor(\"Deanna\", \"Troi\", \"Lieutenant Commander\")\n",
    "troi.introduce()"
   ]
  },
  {
   "cell_type": "code",
   "execution_count": 10,
   "metadata": {},
   "outputs": [
    {
     "name": "stdout",
     "output_type": "stream",
     "text": [
      "Thank you for sharing.\n"
     ]
    },
    {
     "data": {
      "text/plain": [
       "0.6042581673864654"
      ]
     },
     "execution_count": 10,
     "metadata": {},
     "output_type": "execute_result"
    }
   ],
   "source": [
    "troi.talk_with(burnham)\n",
    "\n",
    "burnham.mental_health\n",
    "# ---"
   ]
  },
  {
   "cell_type": "markdown",
   "metadata": {},
   "source": [
    "## Overriding\n",
    "\n",
    "Suppose that we'd like to not just *add* a method to the `StarfleetOfficer` class, but that we'd actually like to *override* a method. \n",
    "\n",
    "A *command* officer makes decisions of strategy and tactics. Suppose we'd like for command officers to introduce themselves differently. \n",
    "\n",
    "<figure class=\"image\" style=\"width:50%\">\n",
    "  <img src=\"https://wehco.media.clients.ellingtoncms.com/img/photos/2020/02/11/194139877_Patrick-Stewart_t800.jpg?90232451fbcadccc64a17de7521d859a8f88077d\" alt=\"Jean-Luc Picard, a command officer in Star Trek, The Next Generation.\">\n",
    "  <figcaption><i></i></figcaption>\n",
    "</figure>"
   ]
  },
  {
   "cell_type": "code",
   "execution_count": 11,
   "metadata": {},
   "outputs": [],
   "source": [
    "class CommandOfficer(StarfleetOfficer):\n",
    "    \n",
    "    # overrides StarfleetOfficer.introduce()\n",
    "    def introduce(self): \n",
    "        return(self.first + \" \" + self.last + \" and I call the shots around here!\")"
   ]
  },
  {
   "cell_type": "code",
   "execution_count": 12,
   "metadata": {},
   "outputs": [
    {
     "data": {
      "text/plain": [
       "'Jean-Luc Picard and I call the shots around here!'"
      ]
     },
     "execution_count": 12,
     "metadata": {},
     "output_type": "execute_result"
    }
   ],
   "source": [
    "picard = CommandOfficer(\"Jean-Luc\", \"Picard\", \"Captain\")\n",
    "picard.introduce()"
   ]
  },
  {
   "cell_type": "markdown",
   "metadata": {},
   "source": [
    "We can still access the original method as well, albeit with some more complex syntax. We need to tell Python that we want to access the `full_name()` method associated with the `StarfleetOfficer` class. "
   ]
  },
  {
   "cell_type": "code",
   "execution_count": 13,
   "metadata": {},
   "outputs": [
    {
     "data": {
      "text/plain": [
       "'Captain Jean-Luc Picard of the United Federation of Planets'"
      ]
     },
     "execution_count": 13,
     "metadata": {},
     "output_type": "execute_result"
    }
   ],
   "source": [
    "StarfleetOfficer.introduce(picard)"
   ]
  },
  {
   "cell_type": "markdown",
   "metadata": {},
   "source": [
    "A related and useful way to write new methods is to use the `super()` function, which will automatically identify the superclass of the subclass in which it is used. "
   ]
  },
  {
   "cell_type": "code",
   "execution_count": 14,
   "metadata": {},
   "outputs": [],
   "source": [
    "class CommandOfficer(StarfleetOfficer):\n",
    "    \n",
    "    # overrides StarfleetOfficer.full_name()\n",
    "    def introduce(self): \n",
    "        return(super().introduce() + \" and I call the shots around here.\")"
   ]
  }
 ],
 "metadata": {
  "kernelspec": {
   "display_name": "Python 3",
   "language": "python",
   "name": "python3"
  },
  "language_info": {
   "codemirror_mode": {
    "name": "ipython",
    "version": 3
   },
   "file_extension": ".py",
   "mimetype": "text/x-python",
   "name": "python",
   "nbconvert_exporter": "python",
   "pygments_lexer": "ipython3",
   "version": "3.8.5"
  }
 },
 "nbformat": 4,
 "nbformat_minor": 4
}
