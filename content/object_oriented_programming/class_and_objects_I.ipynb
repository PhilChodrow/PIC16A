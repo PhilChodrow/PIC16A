{
 "cells": [
  {
   "cell_type": "markdown",
   "metadata": {},
   "source": [
    "# Classes and Objects I\n",
    "\n",
    "- [Download the lecture notes](https://philchodrow.github.io/PIC16A/content/object_oriented_programming/class_and_objects_I.ipynb). \n",
    "\n",
    "\n",
    "Like C++, Python is an **object-oriented** programming language. While the idea of object-orientation is somewhat difficult to define, a fairly general rule of thumb is that the right solution to complex problems in Python often involves creating one or more **objects**, which you can think of as bundles of related data and behaviors. \n",
    "\n",
    "A **class** defines an abstract set of possible objects sharing certain characteristics. For example, \"dog\" would be a good candidate for a class. There are many dogs, all of which have the same species. On the other hand, \"my dog\" refers to a single dog, who could be an **instance** in this class. \n",
    "\n",
    "For additional optional reading, here is a [nice, concise explanation](https://realpython.com/python3-object-oriented-programming/) (with excellently chosen examples) of object-oriented programming in Python. \n",
    "\n",
    "<br>\n",
    "<br>\n",
    "<br>\n",
    "<br>\n",
    "<br>\n",
    "<br>\n",
    "<br>\n",
    "<br>\n",
    "<br>\n",
    "<br>\n",
    "<br>\n",
    "<br>\n",
    "<br>\n",
    "<br>\n",
    "<br>\n",
    "<br>"
   ]
  },
  {
   "cell_type": "markdown",
   "metadata": {},
   "source": [
    "## Example: Totoro\n",
    "\n",
    "A **Totoro** is a friendly forest spirit native to charming rural villages in southern Japan. For our first example, we'll make a simple `Totoro` class that models some of the Totoro's typical properties and behaviors. "
   ]
  },
  {
   "cell_type": "markdown",
   "metadata": {},
   "source": [
    "<figure class=\"image\" style=\"width:50%\">\n",
    "  <img src=\"https://i0.wp.com/thespool.net/wp-content/uploads/2019/04/totoro.0.jpg?w=1200&ssl=1\" alt=\"Totoro and two smaller Totoros alongside two happy girls, in a tree.\">\n",
    "  <figcaption><i>Three Totoros in their natural habitat</i></figcaption>\n",
    "</figure>"
   ]
  },
  {
   "cell_type": "markdown",
   "metadata": {},
   "source": [
    "As we can see from the picture, there are multiple kinds of Totoros: large, medium, and small. So, the first thing we should do is define a class that models all three. "
   ]
  },
  {
   "cell_type": "code",
   "execution_count": 1,
   "metadata": {},
   "outputs": [],
   "source": [
    "class Totoro: \n",
    "    pass # nothing happens"
   ]
  },
  {
   "cell_type": "markdown",
   "metadata": {},
   "source": [
    "Great! Now we have a class, and can create instances of this class by calling the class with `()` parentheses. "
   ]
  },
  {
   "cell_type": "code",
   "execution_count": 2,
   "metadata": {},
   "outputs": [
    {
     "data": {
      "text/plain": [
       "__main__.Totoro"
      ]
     },
     "execution_count": 2,
     "metadata": {},
     "output_type": "execute_result"
    }
   ],
   "source": [
    "my_neighbor = Totoro()\n",
    "type(my_neighbor)"
   ]
  },
  {
   "cell_type": "markdown",
   "metadata": {},
   "source": [
    "We observe that the type of the object `my_neighbor` is the class which we have defined. But this is pretty boring -- there's not much that we can **do** with our new class. We need to add *variables* (data) and *methods* (behaviors).\n",
    "\n",
    "**Class variables** are shared between all instances of the class. For example, all Totoros have the scientific binomial nomenclature *Totoro miyazakiensis*. These variables should be assigned directly within the class definition. \n",
    "\n",
    "The `self` prefix is required to refer to local data and functions -- that is, data and functions that are only available within the object. These include class variables.  \n",
    "\n",
    "Additionally, all methods need to take `self` as their first argument. "
   ]
  },
  {
   "cell_type": "code",
   "execution_count": 3,
   "metadata": {},
   "outputs": [],
   "source": [
    "class Totoro: \n",
    "    \n",
    "    # class variables: shared across all instances of the Totoro class\n",
    "    genus = \"Totoro\"\n",
    "    species = \"miyazakiensis\"\n",
    "    \n",
    "    def binomial_nomenclature(self):\n",
    "        return(self.genus + \" \" + self.species)"
   ]
  },
  {
   "cell_type": "markdown",
   "metadata": {},
   "source": [
    "We can now initialize a new `Totoro` and call the `binomial_nomenclature()` method to print its biological genus and species. "
   ]
  },
  {
   "cell_type": "code",
   "execution_count": 5,
   "metadata": {},
   "outputs": [
    {
     "data": {
      "text/plain": [
       "('Totoro', 'Totoro miyazakiensis')"
      ]
     },
     "execution_count": 5,
     "metadata": {},
     "output_type": "execute_result"
    }
   ],
   "source": [
    "my_neighbor = Totoro()\n",
    "my_neighbor.genus, my_neighbor.binomial_nomenclature()"
   ]
  },
  {
   "cell_type": "code",
   "execution_count": 6,
   "metadata": {},
   "outputs": [
    {
     "data": {
      "text/plain": [
       "'Totoro'"
      ]
     },
     "execution_count": 6,
     "metadata": {},
     "output_type": "execute_result"
    }
   ],
   "source": [
    "my_neighbor_2 = Totoro()\n",
    "my_neighbor_2.genus"
   ]
  },
  {
   "cell_type": "markdown",
   "metadata": {},
   "source": [
    "## `__init__`\n",
    "\n",
    "Classes can have a special `__init__()` method, which allows one to pass additional data when initializing an object. Data passed to the object this way should be **instance variables,** which may differ between different instances of the same class. For example, all `Totoro`s have a size, color, and weight, but these attributes may differ between `Totoro`s. These variables should therefore be assigned in the `__init__()` method. \n",
    "\n",
    "We'll also write a `yell` method that depends on the size of the `Totoro`. "
   ]
  },
  {
   "cell_type": "markdown",
   "metadata": {},
   "source": [
    "<figure class=\"image\" style=\"width:50%\">\n",
    "  <img src=\"https://entropymag.org/wp-content/uploads/2015/01/Tonari.no_.Totoro.full_.279470.jpg\" alt=\"Totoro flying through the air, carrying two young girls.\">\n",
    "</figure>\n",
    "\n",
    "*Despite its size, the Totoro is surprisingly light*. \n",
    "\n"
   ]
  },
  {
   "cell_type": "code",
   "execution_count": 7,
   "metadata": {},
   "outputs": [],
   "source": [
    "class Totoro: \n",
    "    \n",
    "    genus = \"Totoro\"\n",
    "    species = \"miyazakiensis\"\n",
    "    \n",
    "    def __init__(self, size, color, weight):\n",
    "        self.size = size\n",
    "        self.color = color\n",
    "        self.weight = weight\n",
    "        \n",
    "    def yell(self):\n",
    "        if self.size == \"large\":\n",
    "            return(\"AAAAAHHHHHHHHHH!!!!!!!\")\n",
    "        elif self.size == \"medium\":\n",
    "            return(\"AAAAAHHHHH!\")\n",
    "        else:\n",
    "            return(\"aaahhhhh\")"
   ]
  },
  {
   "cell_type": "markdown",
   "metadata": {},
   "source": [
    "<figure class=\"image\" style=\"width:50%\">\n",
    "  <img src=\"https://data.whicdn.com/images/67713812/original.png\" alt=\"Three Totoros, two girls, and the Catbus yelling.\">\n",
    "</figure>\n",
    "\n",
    "*Illustration of the `yell()` method of the `Totoro` class*. "
   ]
  },
  {
   "cell_type": "code",
   "execution_count": 11,
   "metadata": {},
   "outputs": [
    {
     "data": {
      "text/plain": [
       "'AAAAAHHHHH!'"
      ]
     },
     "execution_count": 11,
     "metadata": {},
     "output_type": "execute_result"
    }
   ],
   "source": [
    "my_neighbor = Totoro(\"medium\", \"grey\", 1)\n",
    "my_neighbor.size\n",
    "my_neighbor.yell()"
   ]
  },
  {
   "cell_type": "markdown",
   "metadata": {},
   "source": [
    "You should always add docstrings to both your classes and your functions. "
   ]
  },
  {
   "cell_type": "code",
   "execution_count": 12,
   "metadata": {},
   "outputs": [],
   "source": [
    "class Totoro: \n",
    "    '''\n",
    "    A friendly forest spirit! Has size, color, and weight specified \n",
    "    by the user, as well as a yell method. \n",
    "    '''\n",
    "    \n",
    "    genus = \"Totoro\"\n",
    "    species = \"miyazakiensis\"\n",
    "    \n",
    "    def __init__(self, size, color, weight):\n",
    "        self.size = size\n",
    "        self.color = color\n",
    "        self.weight = weight\n",
    "        \n",
    "    def yell(self):\n",
    "        '''\n",
    "        Return a yell (as a string) depending on the size of the Totoro. \n",
    "        Larger Totoros have louder yells. \n",
    "        '''\n",
    "        if self.size == \"large\":\n",
    "            return(\"AAAAAHHHHHHHHHH!!!!!!!\")\n",
    "        elif self.size == \"medium\":\n",
    "            return(\"AAAAAHHHHH!\")\n",
    "        else:\n",
    "            return(\"aaahhhhh\")"
   ]
  },
  {
   "cell_type": "markdown",
   "metadata": {},
   "source": [
    "We can now get help on both the overall class and the inidividual methods: "
   ]
  },
  {
   "cell_type": "code",
   "execution_count": 14,
   "metadata": {},
   "outputs": [],
   "source": [
    "?Totoro\n",
    "?Totoro.yell\n",
    "# ---"
   ]
  },
  {
   "cell_type": "markdown",
   "metadata": {},
   "source": [
    "## Getters and Setters?\n",
    "\n",
    "In many other languages, it's recommended to use *getters* and *setters* in order to access and modify instance variables. For example, we might write functions like `Totoro.get_size()` and `Totoro.set_size()` in order to modify the `size` variable after a `Totoro` object has been created. \n",
    "\n",
    "In Python, however, this is generally unnecessary. The reason is that data encapsulation in other object-oriented languages requires the use of private instance variables. However, the broadly-used practice in Python is to use public instance variables, in which case direct access is no problem. "
   ]
  },
  {
   "cell_type": "code",
   "execution_count": 15,
   "metadata": {},
   "outputs": [
    {
     "data": {
      "text/plain": [
       "'medium'"
      ]
     },
     "execution_count": 15,
     "metadata": {},
     "output_type": "execute_result"
    }
   ],
   "source": [
    "my_neighbor.size"
   ]
  },
  {
   "cell_type": "code",
   "execution_count": 16,
   "metadata": {},
   "outputs": [
    {
     "data": {
      "text/plain": [
       "'small'"
      ]
     },
     "execution_count": 16,
     "metadata": {},
     "output_type": "execute_result"
    }
   ],
   "source": [
    "my_neighbor.size = \"small\"\n",
    "my_neighbor.size"
   ]
  },
  {
   "cell_type": "markdown",
   "metadata": {},
   "source": [
    "This [page on getters, setters, and the `@property` decorator](https://www.python-course.eu/python3_properties.php) gives a useful overview of these topics. While private instance variables do have their uses, especially in production code, we won't discuss them further in this course. "
   ]
  }
 ],
 "metadata": {
  "kernelspec": {
   "display_name": "Python 3",
   "language": "python",
   "name": "python3"
  },
  "language_info": {
   "codemirror_mode": {
    "name": "ipython",
    "version": 3
   },
   "file_extension": ".py",
   "mimetype": "text/x-python",
   "name": "python",
   "nbconvert_exporter": "python",
   "pygments_lexer": "ipython3",
   "version": "3.8.5"
  }
 },
 "nbformat": 4,
 "nbformat_minor": 4
}
