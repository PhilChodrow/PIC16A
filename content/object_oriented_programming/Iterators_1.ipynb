{
 "cells": [
  {
   "cell_type": "markdown",
   "metadata": {},
   "source": [
    "# Iterators\n",
    "\n",
    "- [Download the lecture notes](https://philchodrow.github.io/PIC16A/content/object_oriented_programming/Iterators_1.ipynb). \n",
    "\n",
    "In this lecture, we'll discuss **iterators** in some detail. We've already seen the keyword **iteration**, referring to constructs like `for`- and `while`-loops. Colloquially, an **iterable** is an object that can be \"`for`-looped\" over, and an **iterator** is the companion object which does so. In this lecture, we'll look into the operation of `for`-loops in a bit more detail, and reimplement looping over lists. In the next lecture, we'll define custom iterators with novel behavior. \n",
    "\n",
    "We've already seen several *containers*: objects that hold other objects. Examples of containers include lists, tuples, sets, and dictionaries. Most default containers already support iteration: "
   ]
  },
  {
   "cell_type": "code",
   "execution_count": 1,
   "metadata": {},
   "outputs": [
    {
     "name": "stdout",
     "output_type": "stream",
     "text": [
      "to\n",
      "boldly\n",
      "go\n"
     ]
    }
   ],
   "source": [
    "for w in [\"to\", \"boldly\", \"go\"]:\n",
    "    print(w)\n",
    "# ---"
   ]
  },
  {
   "cell_type": "markdown",
   "metadata": {},
   "source": [
    "However, not every container-like object automatically supports iteration. For example, here's a simple class that holds a list and...doesn't do much else. "
   ]
  },
  {
   "cell_type": "code",
   "execution_count": 2,
   "metadata": {},
   "outputs": [],
   "source": [
    "class boringList:\n",
    "    \n",
    "    def __init__(self, L):\n",
    "        self.L = L\n",
    "        \n",
    "    def __str__(self):\n",
    "        return(str(self.L))"
   ]
  },
  {
   "cell_type": "code",
   "execution_count": 3,
   "metadata": {},
   "outputs": [
    {
     "name": "stdout",
     "output_type": "stream",
     "text": [
      "[1, 2, 3]\n"
     ]
    }
   ],
   "source": [
    "B = boringList([1, 2, 3])\n",
    "print(B)\n",
    "# ---"
   ]
  },
  {
   "cell_type": "code",
   "execution_count": 4,
   "metadata": {},
   "outputs": [
    {
     "ename": "TypeError",
     "evalue": "'boringList' object is not iterable",
     "output_type": "error",
     "traceback": [
      "\u001b[0;31m---------------------------------------------------------------------------\u001b[0m",
      "\u001b[0;31mTypeError\u001b[0m                                 Traceback (most recent call last)",
      "\u001b[0;32m<ipython-input-4-bf094f7fbc9f>\u001b[0m in \u001b[0;36m<module>\u001b[0;34m\u001b[0m\n\u001b[0;32m----> 1\u001b[0;31m \u001b[0;32mfor\u001b[0m \u001b[0mi\u001b[0m \u001b[0;32min\u001b[0m \u001b[0mB\u001b[0m\u001b[0;34m:\u001b[0m\u001b[0;34m\u001b[0m\u001b[0;34m\u001b[0m\u001b[0m\n\u001b[0m\u001b[1;32m      2\u001b[0m     \u001b[0mprint\u001b[0m\u001b[0;34m(\u001b[0m\u001b[0mi\u001b[0m\u001b[0;34m)\u001b[0m\u001b[0;34m\u001b[0m\u001b[0;34m\u001b[0m\u001b[0m\n\u001b[1;32m      3\u001b[0m \u001b[0;31m# ---\u001b[0m\u001b[0;34m\u001b[0m\u001b[0;34m\u001b[0m\u001b[0;34m\u001b[0m\u001b[0m\n",
      "\u001b[0;31mTypeError\u001b[0m: 'boringList' object is not iterable"
     ]
    }
   ],
   "source": [
    "for i in B:\n",
    "    print(i)\n",
    "# ---"
   ]
  },
  {
   "cell_type": "markdown",
   "metadata": {},
   "source": [
    "So, what is needed to iterate over a container? Briefly, we need to define an **iterator** class that implements a `__next__()` method. To get the iterator from the container, we need to define an `__iter__()` method that tells Python how to construct an appropriate iterator, with the required `__next__()` method. If our class itself has a `__next__()` method, then `__iter__()` can just return the object itself. \n",
    "\n",
    "1. `myClass.__iter__()` returns an object of class `myIterator`. \n",
    "2. `myIterator.__next__()` returns objects until a `StopIteration` exception is raised. \n",
    "\n",
    "Let's try making our `boringList` iterable. We need an `__iter__()` method and a `__next__()` method. To make the workings of the code transparent, we'll add a few `print` statements. "
   ]
  },
  {
   "cell_type": "code",
   "execution_count": 6,
   "metadata": {},
   "outputs": [],
   "source": [
    "class boringList:\n",
    "    def __init__(self, L):\n",
    "        self.L = L\n",
    "    \n",
    "    def __str__(self):\n",
    "        return(str(self.L))\n",
    "    \n",
    "    def __iter__(self):\n",
    "        print(\"boringList.__iter__() called\")\n",
    "        return(boringListIterator(self))\n",
    "    \n",
    "class boringListIterator:\n",
    "    \n",
    "    def __init__(self, bL):\n",
    "        print(\"boringListIterator object created\")\n",
    "        self.L = bL.L\n",
    "        self.i = 0 \n",
    "        \n",
    "    def __next__(self):\n",
    "        print(\"boringListItator.__next__() called\")\n",
    "        \n",
    "        if self.i >= len(self.L):\n",
    "            print(\"StopIteration exception raised\")\n",
    "            raise StopIteration \n",
    "        \n",
    "        self.i += 1\n",
    "        return(self.L[self.i-1])\n",
    "        "
   ]
  },
  {
   "cell_type": "code",
   "execution_count": 7,
   "metadata": {},
   "outputs": [
    {
     "name": "stdout",
     "output_type": "stream",
     "text": [
      "boringList.__iter__() called\n",
      "boringListIterator object created\n",
      "boringListItator.__next__() called\n",
      "to\n",
      "boringListItator.__next__() called\n",
      "boldly\n",
      "boringListItator.__next__() called\n",
      "go\n",
      "boringListItator.__next__() called\n",
      "StopIteration exception raised\n"
     ]
    }
   ],
   "source": [
    "# now this works\n",
    "B = boringList([\"to\", \"boldly\", \"go\"])\n",
    "for w in B:\n",
    "    print(w)\n"
   ]
  },
  {
   "cell_type": "markdown",
   "metadata": {},
   "source": [
    "Behind the scenes, the `for` keyword calls `iter()` on `B`, creating an object of type `boringListIterator`. Because this object has a `__next__()` method, the `for` loop can then operate as expected. Here's the \"slow-motion\" version: "
   ]
  },
  {
   "cell_type": "code",
   "execution_count": 8,
   "metadata": {},
   "outputs": [
    {
     "name": "stdout",
     "output_type": "stream",
     "text": [
      "boringList.__iter__() called\n",
      "boringListIterator object created\n"
     ]
    }
   ],
   "source": [
    "bLI = iter(B)"
   ]
  },
  {
   "cell_type": "code",
   "execution_count": 12,
   "metadata": {},
   "outputs": [
    {
     "name": "stdout",
     "output_type": "stream",
     "text": [
      "boringListItator.__next__() called\n",
      "StopIteration exception raised\n"
     ]
    },
    {
     "ename": "StopIteration",
     "evalue": "",
     "output_type": "error",
     "traceback": [
      "\u001b[0;31m---------------------------------------------------------------------------\u001b[0m",
      "\u001b[0;31mStopIteration\u001b[0m                             Traceback (most recent call last)",
      "\u001b[0;32m<ipython-input-12-0d580e8ab66c>\u001b[0m in \u001b[0;36m<module>\u001b[0;34m\u001b[0m\n\u001b[1;32m      1\u001b[0m \u001b[0;31m# repeated until the StopIteration exception is raised.\u001b[0m\u001b[0;34m\u001b[0m\u001b[0;34m\u001b[0m\u001b[0;34m\u001b[0m\u001b[0m\n\u001b[0;32m----> 2\u001b[0;31m \u001b[0mnext\u001b[0m\u001b[0;34m(\u001b[0m\u001b[0mbLI\u001b[0m\u001b[0;34m)\u001b[0m\u001b[0;34m\u001b[0m\u001b[0;34m\u001b[0m\u001b[0m\n\u001b[0m",
      "\u001b[0;32m<ipython-input-6-e4a520935689>\u001b[0m in \u001b[0;36m__next__\u001b[0;34m(self)\u001b[0m\n\u001b[1;32m     22\u001b[0m         \u001b[0;32mif\u001b[0m \u001b[0mself\u001b[0m\u001b[0;34m.\u001b[0m\u001b[0mi\u001b[0m \u001b[0;34m>=\u001b[0m \u001b[0mlen\u001b[0m\u001b[0;34m(\u001b[0m\u001b[0mself\u001b[0m\u001b[0;34m.\u001b[0m\u001b[0mL\u001b[0m\u001b[0;34m)\u001b[0m\u001b[0;34m:\u001b[0m\u001b[0;34m\u001b[0m\u001b[0;34m\u001b[0m\u001b[0m\n\u001b[1;32m     23\u001b[0m             \u001b[0mprint\u001b[0m\u001b[0;34m(\u001b[0m\u001b[0;34m\"StopIteration exception raised\"\u001b[0m\u001b[0;34m)\u001b[0m\u001b[0;34m\u001b[0m\u001b[0;34m\u001b[0m\u001b[0m\n\u001b[0;32m---> 24\u001b[0;31m             \u001b[0;32mraise\u001b[0m \u001b[0mStopIteration\u001b[0m\u001b[0;34m\u001b[0m\u001b[0;34m\u001b[0m\u001b[0m\n\u001b[0m\u001b[1;32m     25\u001b[0m \u001b[0;34m\u001b[0m\u001b[0m\n\u001b[1;32m     26\u001b[0m         \u001b[0mself\u001b[0m\u001b[0;34m.\u001b[0m\u001b[0mi\u001b[0m \u001b[0;34m+=\u001b[0m \u001b[0;36m1\u001b[0m\u001b[0;34m\u001b[0m\u001b[0;34m\u001b[0m\u001b[0m\n",
      "\u001b[0;31mStopIteration\u001b[0m: "
     ]
    }
   ],
   "source": [
    "# repeated until the StopIteration exception is raised. \n",
    "next(bLI)"
   ]
  },
  {
   "cell_type": "markdown",
   "metadata": {},
   "source": [
    "Another approach to the same problem is to define a `__next__()` method for `boringList` itself. In this case, the `__iter__()` method can simply return `self`. The `__iter__()` method should reset `i` to 0 each time to ensure that we always loop starting from the beginning. "
   ]
  },
  {
   "cell_type": "code",
   "execution_count": 13,
   "metadata": {},
   "outputs": [],
   "source": [
    "class boringList:\n",
    "    def __init__(self, L):\n",
    "        self.L = L\n",
    "        self.i = 0\n",
    "        \n",
    "    def __str__(self):\n",
    "        return(str(self.L))\n",
    "    \n",
    "    def __iter__(self):\n",
    "        self.i = 0\n",
    "        return(self)\n",
    "    \n",
    "    def __next__(self):\n",
    "        if self.i >= len(self.L):\n",
    "            raise StopIteration\n",
    "        \n",
    "        self.i += 1\n",
    "        return(self.L[self.i-1])"
   ]
  },
  {
   "cell_type": "code",
   "execution_count": 14,
   "metadata": {},
   "outputs": [
    {
     "name": "stdout",
     "output_type": "stream",
     "text": [
      "to\n",
      "boldly\n",
      "go\n"
     ]
    }
   ],
   "source": [
    "# now this again works\n",
    "B = boringList([\"to\", \"boldly\", \"go\"])\n",
    "for w in B:\n",
    "    print(w)\n"
   ]
  },
  {
   "cell_type": "markdown",
   "metadata": {},
   "source": [
    "So far, we've essentially just reimplemented the standard looping behavior of built-in Python lists. In the next lecture, we'll see a more complex example. "
   ]
  }
 ],
 "metadata": {
  "kernelspec": {
   "display_name": "Python 3",
   "language": "python",
   "name": "python3"
  },
  "language_info": {
   "codemirror_mode": {
    "name": "ipython",
    "version": 3
   },
   "file_extension": ".py",
   "mimetype": "text/x-python",
   "name": "python",
   "nbconvert_exporter": "python",
   "pygments_lexer": "ipython3",
   "version": "3.8.5"
  }
 },
 "nbformat": 4,
 "nbformat_minor": 4
}
