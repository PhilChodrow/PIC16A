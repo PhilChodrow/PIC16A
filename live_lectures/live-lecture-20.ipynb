{
 "cells": [
  {
   "cell_type": "markdown",
   "metadata": {},
   "source": [
    "# Live Lecture 20\n",
    "\n",
    "- **Driver**: 2nd alphabetically by first name\n",
    "- **Proposer**: 3rd alphabetically by first name\n",
    "- **Reporter**: 1st alphabetically by first name\n",
    "\n",
    "## Visualization Case Study II: Trends in Global Data\n",
    "\n",
    "Gapminder is a foundation, based on Sweden, that aims to enhance basic awareness of basic facts about the socioeconomic global world. As part of their efforts, they collect detailed statistics on life expectancy, population, and GDP, sometimes going back over many years. \n",
    "\n",
    "In this case study, we'll look at an excerpt of the Gapminder data. This excerpt has been packaged up and made available via Jenny Bryan's [`gapminder` repo](https://github.com/jennybc/gapminder) on Github. \n",
    "\n",
    "Here's some familiar code to grab the data. "
   ]
  },
  {
   "cell_type": "code",
   "execution_count": null,
   "metadata": {},
   "outputs": [],
   "source": [
    "import urllib\n",
    "import pandas as pd\n",
    "def retrieve_data(url):\n",
    "    \"\"\"\n",
    "    Retrieve a file from the specified url and save it in a local file \n",
    "    called data.csv. \n",
    "    \"\"\"\n",
    "    \n",
    "    # grab the data and parse it\n",
    "    filedata = urllib.request.urlopen(url) \n",
    "    to_write = filedata.read()\n",
    "    \n",
    "    # write to file\n",
    "    with open(\"data.csv\", \"wb\") as f:\n",
    "        f.write(to_write)\n",
    "        \n",
    "retrieve_data(\"https://philchodrow.github.io/PIC16A/datasets/gapminder.csv\")\n",
    "gapminder = pd.read_csv(\"data.csv\")\n",
    "gapminder"
   ]
  },
  {
   "cell_type": "markdown",
   "metadata": {},
   "source": [
    "## Part A (10 minutes)\n",
    "\n",
    "We are going to visualize long-term trends on a *per-continent* basis. As a warmup, write a simple function that will return the mean value of a user-specified `metric` on a user-specified `continent`, in each year. For example: \n",
    "\n",
    "```python\n",
    "continent_trend('pop', 'Asia')\n",
    "```\n",
    "```\n",
    "\n",
    "year\tpop\n",
    "--- \t---\n",
    "1952\t4.228356e+07\n",
    "1957\t4.735699e+07\n",
    "1962\t5.140476e+07\n",
    "1967\t5.774736e+07\n",
    "1972\t6.518098e+07\n",
    "1977\t7.225799e+07\n",
    "1982\t7.909502e+07\n",
    "1987\t8.700669e+07\n",
    "1992\t9.494825e+07\n",
    "1997\t1.025238e+08\n",
    "2002\t1.091455e+08\n",
    "2007\t1.155138e+08\n",
    "```\n",
    "\n",
    "\n",
    "You should use the double bracket notation `df[[column]]` where needed to ensure that your result is displayed as a data frame, not a series. \n",
    "\n",
    "Comments and docstrings not needed. "
   ]
  },
  {
   "cell_type": "code",
   "execution_count": null,
   "metadata": {},
   "outputs": [],
   "source": [
    "# your code here\n",
    "\n"
   ]
  },
  {
   "cell_type": "markdown",
   "metadata": {},
   "source": [
    "## Part B (15 minutes)\n",
    "\n",
    "Write a function called `trend_lines()` which accepts a user-specified metric and a user-specified axis. This function should plot a different trend line for each of the five continents in the data. You should use your function from Part A. \n",
    "\n",
    "For example, \n",
    "\n",
    "```python\n",
    "fig, ax = plt.subplots(1)\n",
    "trend_lines('lifeExp', ax)\n",
    "```\n",
    "\n",
    "<figure class=\"image\" style=\"width:70%\">\n",
    "  <img src=\"https://philchodrow.github.io/PIC16A/live_lectures/trend_lines_example.png\n",
    "\" alt=\"A plot with five trend lines, all generally sloping upwards. The lines are not labeled or otherwise annotated.\" width=\"400px\">\n",
    "</figure>\n",
    "\n",
    "It's not necessary to attend to labels etc. in this part. \n",
    "\n",
    "**Hint:** If you use `axis.plot()` on a data frame whose index is numerical, the index will be automatically plotted on the horizontal axis. In particular, you don't need to worry about plotting the years on the horizontal axis -- `matplotlib` will handle that for you.  \n",
    "\n",
    "Comments and docstrings not needed. While it is possible to solve this problem with `apply`, a simple `for`-loop is also fine. "
   ]
  },
  {
   "cell_type": "code",
   "execution_count": null,
   "metadata": {},
   "outputs": [],
   "source": [
    "# your code here\n",
    "\n"
   ]
  },
  {
   "cell_type": "markdown",
   "metadata": {},
   "source": [
    "## Part C (10 minutes)\n",
    "\n",
    "Add labels to your lines and automated titles to your plots. Label the horizontal axis appropriately. Add a legend (it might overlap the data, that's ok). You should be able to make an informative visualization like this: \n",
    "\n",
    "```python\n",
    "fig, ax = plt.subplots(1, 3, figsize = (12, 3))\n",
    "trend_lines('lifeExp', ax[0])\n",
    "trend_lines('pop', ax[1])\n",
    "trend_lines('gdpPercap', ax[2])\n",
    "ax[0].legend()\n",
    "plt.tight_layout()\n",
    "```\n",
    "\n",
    "<figure class=\"image\" style=\"width:70%\">\n",
    "  <img src=\"https://philchodrow.github.io/PIC16A/live_lectures/trend_lines_example_2.png\n",
    "\" alt=\"A three-paneled plot, each with five trend lines corresponding to continents gradually sloping upwards. The first panel gives life expectancies, the second population, and the third GDP per capita.\" width=\"800px\">\n",
    "</figure>"
   ]
  },
  {
   "cell_type": "code",
   "execution_count": null,
   "metadata": {},
   "outputs": [],
   "source": [
    "# your code here\n",
    "\n"
   ]
  }
 ],
 "metadata": {
  "kernelspec": {
   "display_name": "Python 3",
   "language": "python",
   "name": "python3"
  },
  "language_info": {
   "codemirror_mode": {
    "name": "ipython",
    "version": 3
   },
   "file_extension": ".py",
   "mimetype": "text/x-python",
   "name": "python",
   "nbconvert_exporter": "python",
   "pygments_lexer": "ipython3",
   "version": "3.8.5"
  }
 },
 "nbformat": 4,
 "nbformat_minor": 4
}
