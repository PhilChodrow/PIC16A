{
 "cells": [
  {
   "cell_type": "markdown",
   "metadata": {},
   "source": [
    "# Project Activity: Plotting Penguins"
   ]
  },
  {
   "cell_type": "markdown",
   "metadata": {},
   "source": [
    "### Group Members and Roles\n",
    "\n",
    "- Group Member 1 (Role)\n",
    "- Group Member 2 (Role)\n",
    "- Group Member 3 (Role)\n",
    "\n",
    "This Discussion activity is a component of your [group mini-project](https://philchodrow.github.io/PIC16A/project/). While the usual Discussion expectations apply with regards to your participation grade (i.e. if you work for the full 50 minutes, you will get full credit), it is recommended for the purposes of your final project that you coordinate with your group to eventually complete all parts of this assignment. \n",
    "\n",
    "### §0. Data Import\n",
    "\n",
    "Run the following cell to load the penguin dataset as a `pandas` `DataFrame` called `penguins`. \n",
    "\n",
    "*If you experience `ConnectionRefused` errors when doing this, instead copy/paste the url into your browser. Save the data in the same directory as this notebook in a file called `penguins.csv`, and then replace `url` with `\"penguins.csv\"` in the block below.* "
   ]
  },
  {
   "cell_type": "code",
   "execution_count": null,
   "metadata": {},
   "outputs": [],
   "source": [
    "import pandas as pd\n",
    "\n",
    "url = 'https://philchodrow.github.io/PIC16A/datasets/palmer_penguins.csv'\n",
    "penguins = pd.read_csv(url)"
   ]
  },
  {
   "cell_type": "markdown",
   "metadata": {},
   "source": [
    "Run the next cell to check that your data was read in correctly, and to see what the dataset looks like."
   ]
  },
  {
   "cell_type": "code",
   "execution_count": null,
   "metadata": {
    "scrolled": true
   },
   "outputs": [],
   "source": [
    "penguins"
   ]
  },
  {
   "cell_type": "markdown",
   "metadata": {},
   "source": [
    "In the next cell we will import the remaining modules that we'll need in order to process the dataset. As you progress through the worksheet, add `import` statements for the modules you need to the following cell (and run the cell each time you add a new item)."
   ]
  },
  {
   "cell_type": "code",
   "execution_count": null,
   "metadata": {},
   "outputs": [],
   "source": [
    "# put all your import directives here (add new ones once you need them)"
   ]
  },
  {
   "cell_type": "markdown",
   "metadata": {},
   "source": [
    "### §1. Basic scatterplot"
   ]
  },
  {
   "cell_type": "markdown",
   "metadata": {},
   "source": [
    "Run the next cell and observe the output."
   ]
  },
  {
   "cell_type": "code",
   "execution_count": null,
   "metadata": {},
   "outputs": [],
   "source": [
    "fig, ax = plt.subplots(1)"
   ]
  },
  {
   "cell_type": "markdown",
   "metadata": {},
   "source": [
    "We want to turn the plot above into a scatterplot of the length against the depth of the penguins' culmens. (The culmen, defined by Wikipedia as \"the dorsal ridge of the upper mandible\", is just the ridge that goes down the whole length of the top of the beak.) First let's label the axes:"
   ]
  },
  {
   "attachments": {
    "MeasureBeakThrush%20%282%29.jpg": {
     "image/jpeg": "[encoded data removed]"
    }
   },
   "cell_type": "markdown",
   "metadata": {},
   "source": [
    "![MeasureBeakThrush%20%282%29.jpg](attachment:MeasureBeakThrush%20%282%29.jpg)\n",
    "<center><i>A bird (probably not a penguin) getting its culmen length measured</i></center>"
   ]
  },
  {
   "cell_type": "code",
   "execution_count": null,
   "metadata": {},
   "outputs": [],
   "source": [
    "ax.set(xlabel = \"Culmen Length (mm)\",\n",
    "       ylabel = \"Culmen Depth (mm)\")\n",
    "fig"
   ]
  },
  {
   "cell_type": "markdown",
   "metadata": {},
   "source": [
    "Our scatterplot will be a plot of points in which each point corresponds to one penguin. The location of the point is a pair of the two variables, culmen length and depth, of that penguin. Call the `ax.scatter` function with the two appropriate columns of your `penguins` dataframe passed as the two arguments. (Make sure to put them in the right order.)"
   ]
  },
  {
   "cell_type": "code",
   "execution_count": null,
   "metadata": {},
   "outputs": [],
   "source": [
    "# function call goes here\n",
    "fig"
   ]
  },
  {
   "cell_type": "markdown",
   "metadata": {},
   "source": [
    "Do you notice any correlation between the culmen length and the culmen depth? For instance, do penguins with longer culmens also have deeper culmens, or is there another relationship? Write your best preliminary guess below."
   ]
  },
  {
   "cell_type": "markdown",
   "metadata": {},
   "source": [
    "*write your answer here*"
   ]
  },
  {
   "cell_type": "markdown",
   "metadata": {},
   "source": [
    "### §2. Scatterplot by species"
   ]
  },
  {
   "cell_type": "markdown",
   "metadata": {},
   "source": [
    "In the cell below, make `fig` and `ax` a new plot, just like in the section above, and label the axes as before."
   ]
  },
  {
   "cell_type": "code",
   "execution_count": null,
   "metadata": {},
   "outputs": [],
   "source": []
  },
  {
   "cell_type": "markdown",
   "metadata": {},
   "source": [
    "In the next cell, make a set of all the species of penguin in your dataset. Then, iterating over this set of species with a `for` loop, slice off only those penguins from the dataset that are of a given species, and plot their culmen lengths and depths on the scatterplot. (That is, you are plotting each species separately.)\n",
    "\n",
    "In the `scatter` function, pass a short name for each species to an argument named `label` (for example, you could pass the first word of the full species name), and a value of `0.5` for an argument named `alpha` (this makes the points translucent)."
   ]
  },
  {
   "cell_type": "code",
   "execution_count": null,
   "metadata": {},
   "outputs": [],
   "source": []
  },
  {
   "cell_type": "markdown",
   "metadata": {},
   "source": [
    "Lastly, run the next cell to add a legend and show your scatterplot. You should now see different colors for different species."
   ]
  },
  {
   "cell_type": "code",
   "execution_count": null,
   "metadata": {},
   "outputs": [],
   "source": [
    "ax.legend()\n",
    "fig"
   ]
  },
  {
   "cell_type": "markdown",
   "metadata": {},
   "source": [
    "Do you notice any correlation between the culmen length and the culmen depth for penguins within a given species? See [Simpson's paradox](https://en.m.wikipedia.org/wiki/Simpson%27s_paradox)."
   ]
  },
  {
   "cell_type": "markdown",
   "metadata": {},
   "source": [
    "---\n",
    "\n",
    "*Discuss here*\n",
    "\n",
    "---"
   ]
  },
  {
   "cell_type": "markdown",
   "metadata": {},
   "source": [
    "### §3. Culmen length histogram"
   ]
  },
  {
   "cell_type": "markdown",
   "metadata": {},
   "source": [
    "In the next cell, use `ax.hist` to make a histogram of the lengths of the penguins' culmens by species. (This will involve going through all the steps as above, using `ax.hist` in place of `ax.scatter`.) You will need to remove the NaN values from your series of culmen lengths -- use `.notnull()`.\n",
    "\n",
    "Pass the `label` and `alpha` arguments as before, along with the lengths. Your y-axis should be called \"Density\"."
   ]
  },
  {
   "cell_type": "code",
   "execution_count": null,
   "metadata": {},
   "outputs": [],
   "source": []
  },
  {
   "cell_type": "markdown",
   "metadata": {},
   "source": [
    "### §4. Plot by species and location"
   ]
  },
  {
   "cell_type": "markdown",
   "metadata": {},
   "source": [
    "Pick your favorite type of plot of the two -- scattergram or histogram -- and extend one of the two constructions in the cell below, this time plotting the penguins not just by species but by both species and location (for instance, separate them by commas). Adjust the text labels accordingly, and provide a legend."
   ]
  },
  {
   "cell_type": "code",
   "execution_count": null,
   "metadata": {},
   "outputs": [],
   "source": []
  }
 ],
 "metadata": {
  "kernelspec": {
   "display_name": "Python 3",
   "language": "python",
   "name": "python3"
  },
  "language_info": {
   "codemirror_mode": {
    "name": "ipython",
    "version": 3
   },
   "file_extension": ".py",
   "mimetype": "text/x-python",
   "name": "python",
   "nbconvert_exporter": "python",
   "pygments_lexer": "ipython3",
   "version": "3.8.8"
  }
 },
 "nbformat": 4,
 "nbformat_minor": 4
}
