{
 "cells": [
  {
   "cell_type": "markdown",
   "metadata": {},
   "source": [
    "# Discussion Activity: Lyft Calculator\n",
    "\n",
    "## Group Names and Roles\n",
    "\n",
    "- Partner 1 (Role)\n",
    "- Partner 2 (Role)\n",
    "- Partner 3 (Role)\n",
    "\n",
    "In this activity, we will use functions to write code that might be used in a ridesharing app such as Uber or Lyft. \n",
    "\n",
    "## Part A: Review of Functions\n",
    "\n",
    "Write a function called square which inputs an list and returns a list with each item squared. (Don't worry about error handling for now.) Test it out on the list below. "
   ]
  },
  {
   "cell_type": "code",
   "execution_count": null,
   "metadata": {},
   "outputs": [],
   "source": [
    "#Write your code here\n"
   ]
  },
  {
   "cell_type": "code",
   "execution_count": null,
   "metadata": {},
   "outputs": [],
   "source": [
    "#Run this cell to test your function. Expected output: [1, 4, 9]\n",
    "L=[1,2,3]\n",
    "square(L)"
   ]
  },
  {
   "cell_type": "markdown",
   "metadata": {},
   "source": [
    "Now, let's make a more flexible function called compute_power(L,n) that let's user raise each element to the nth power. Give n a default value of 2. "
   ]
  },
  {
   "cell_type": "code",
   "execution_count": null,
   "metadata": {},
   "outputs": [],
   "source": []
  },
  {
   "cell_type": "code",
   "execution_count": null,
   "metadata": {},
   "outputs": [],
   "source": [
    "#run this code to test your solution. It should return True.\n",
    "compute_power(L)==square(L)"
   ]
  },
  {
   "cell_type": "markdown",
   "metadata": {},
   "source": [
    "## Part B: Computing distances with functions\n",
    "\n",
    "<img src=\"https://i.imgur.com/FrMebl0.png\" width=300px>\n",
    "<div style=\"text-align: center\">  </div>\n",
    "<br>\n",
    "\n",
    "\n",
    "For the next part of this assignment, we're going to think about how we might be able to write functions that can be used to compute distances on a map.\n",
    "\n",
    "### Part B.1: Computing the Euclidean distance\n",
    "\n",
    "\"Euclidean distance\" is simply the distance of the straight line that connects two points in Euclidean space. It's basically the distance \"as the crow flies\". On a map, it might look something like this:\n",
    "\n",
    "<img src=\"https://i.imgur.com/KSmguA5.png\" width=500px>\n",
    "<div style=\"text-align: center\"> </div>"
   ]
  },
  {
   "cell_type": "markdown",
   "metadata": {},
   "source": [
    "Write a function called Euclidean_distance which inputs two points `p` and `q` (as either lists or tuples) and returns the Euclidean distance. Please write a docstring for this function.\n",
    "\n",
    "For example: \n",
    "\n",
    "```python\n",
    "Euclidean_distance([2, 1], [5, 5])\n",
    "```\n",
    "```\n",
    "5.0\n",
    "```\n",
    "\n",
    "\n",
    "**Hint:** $d((x_1,y_1),(x_2,y_2))=\\sqrt{(x_1-x_2)^2+(y_1-y_2)^2}$"
   ]
  },
  {
   "cell_type": "code",
   "execution_count": null,
   "metadata": {},
   "outputs": [],
   "source": [
    "#Your Code Here"
   ]
  },
  {
   "cell_type": "markdown",
   "metadata": {},
   "source": [
    "Run the following code to test your function"
   ]
  },
  {
   "cell_type": "code",
   "execution_count": null,
   "metadata": {},
   "outputs": [],
   "source": [
    "#Euclidean_distance([2, 1], [5, 5])"
   ]
  },
  {
   "cell_type": "markdown",
   "metadata": {},
   "source": [
    "### Part B.2: Computing the \"Lyft\" distance\n",
    "\n",
    "For this part of the assignment, let's say that you've been thinking about starting a new rideshare company similar to Uber or Lyft. You've started thinking about how you should go about estimating the amount you should charge for a given ride. You've realized that computing the Euclidean distance between two points makes sense for \"as the bird flies\" distance computations, but not for vehicles which need to navigate city blocks. Now you need to create a new function that computes an estimate for the total distance of the ride for your new \"Lyft-like\" service.\n",
    "\n",
    "When you're driving a car you can't just travel in a straight line between two points, you're forced to drive along the grid structure defined by where the streets are. Your path might look something like this:\n",
    "\n",
    "<img src=\"https://i.imgur.com/ieJ1Z4k.png\" width=500px>\n",
    "<div style=\"text-align: center\"> </div>\n",
    "<br>\n",
    "\n",
    "For the purposes of computing these new \"Lyft\"-like distances, you're going to assume that the drivers for your company are generally pretty good about taking the shortest possible route, and you're also going to assume that, most of the time, the streets will have a pretty standard grid-like structure. After all, it would be pretty hard to predict just how irregular the routes might end up being.\n",
    "\n",
    "**Write a function for computing a \"Lyft\" distance** based on the restriction that the car must travel on a grid of roads that run parallel to the $x$ and $y$ axes of an $x$-$y$ plane. Your function should take a **starting point and a stopping point as input variables** and **return** the distance estimate. Your estimate will essentially tell you how many blocks the driver will travel to get to the destination. Make sure to write a docstring for your function. \n",
    "\n",
    "**Hint**: The formula is $d((x_1,y_1),(x_2,y_2))=\\vert x_1-x_2\\vert + \\vert y_1-y_2\\vert$\n",
    "\n",
    "**Hint**: The python syntax for absolute value is `abs(x)`.\n"
   ]
  },
  {
   "cell_type": "code",
   "execution_count": null,
   "metadata": {},
   "outputs": [],
   "source": [
    "#Your Code Here\n"
   ]
  },
  {
   "cell_type": "markdown",
   "metadata": {},
   "source": [
    "Run the code below to test your function. The answer should be 17"
   ]
  },
  {
   "cell_type": "code",
   "execution_count": null,
   "metadata": {},
   "outputs": [],
   "source": [
    "distance=lyft_distance((4,5),(-2,-6))\n",
    "print(distance)"
   ]
  },
  {
   "cell_type": "markdown",
   "metadata": {},
   "source": [
    "### Creating a fare-computing function\n",
    "\n",
    "Let's assume that you want to be able to quickly calculate an estimate for the cost of the trip so that you can let your riders know roughly how much you'll charge them.  \n",
    "\n",
    "**Write another function** called `trip_cost` that **calls the function you just wrote** for computing the total distance of the ride to ***print* the cost of the trip** so that it reads \"The cost of the trip will be $< amount >\" where < amount > is the total in dollars that the trip will cost. Your function should take as arguments the starting point, the stopping point, and the fare (per mile), with a default value of 40 cents.  Please include an informative docstring. (For the purposes of this exercise, we will assume that each block is one mile so that we don't need to worry about unit conversions.)\n",
    "\n",
    "***Hints:***\n",
    "\n",
    "1.) To make the dollar value look nice, first calculate the cost, and the write ``cost=\"{:.2f}\".format(cost)''.\n",
    "\n",
    "2.) Your trip_cost function should call your lyft_distance function\n",
    "    \n"
   ]
  },
  {
   "cell_type": "code",
   "execution_count": null,
   "metadata": {},
   "outputs": [],
   "source": []
  },
  {
   "cell_type": "code",
   "execution_count": null,
   "metadata": {},
   "outputs": [],
   "source": [
    "#run this code to test your function, the cost should be $6.80\n",
    "\n",
    "trip_cost((-2,-6),(4,5))"
   ]
  },
  {
   "cell_type": "markdown",
   "metadata": {},
   "source": [
    "---\n",
    "## Part C: Combining your functions\n",
    "\n",
    "Now that you've written two different functions for finding the distance, you're thinking that it would be more convenient if you could use the same function to compute both the Euclidean distance and the Lyft distance. It would also make it a lot easier to compare how much longer the Lyft distance is than the Euclidean distance.\n",
    "\n",
    "**Write a function** that is capable of computing the Euclidean distance **or** the Lyft distance based on a keyword argument call `path_type`. \n",
    "* If the `path_type` is 'Lyft', compute the Lyft distance, otherwise compute the standard Euclidean distance. \n",
    "* Your function should call the lyft_distance and Euclidean_distance functions that you have written earlier.\n",
    "\n",
    "As before, your function should **return** the distance. Make sure to write an appropriate docstring.\n"
   ]
  },
  {
   "cell_type": "code",
   "execution_count": null,
   "metadata": {},
   "outputs": [],
   "source": [
    "#Your code here"
   ]
  },
  {
   "cell_type": "markdown",
   "metadata": {},
   "source": [
    "Run this code to test your fuction. The answers should be 12.52996 and 17\n"
   ]
  },
  {
   "cell_type": "code",
   "execution_count": null,
   "metadata": {},
   "outputs": [],
   "source": [
    "print(compute_distance((4,5),(-2,-6)))\n",
    "print(compute_distance((4,5),(-2,-6),path_type=\"lyft\"))"
   ]
  },
  {
   "cell_type": "markdown",
   "metadata": {},
   "source": [
    "## Part D: Planning your route\n",
    "\n",
    "Now that you've worked out a system for estimating travel distances and ride fares, you're ready to start testing your new rideshare service. You fire up your fancy new program and immediately get three simultaneous rider requests, but luckily they all are looking for a ride to the same place -- the airport!\n",
    "\n",
    "Let's assume that:\n",
    "\n",
    "1. Your starting location is (-2,3).\n",
    "2. The ride locations are (-1, -2), (3,3), and (2, -1).\n",
    "3. The stopping location, the airport, is at (4,0).\n",
    "\n",
    "Run the cell below to visualize the locations"
   ]
  },
  {
   "cell_type": "code",
   "execution_count": null,
   "metadata": {},
   "outputs": [],
   "source": [
    "from matplotlib import pyplot as plt\n",
    "\n",
    "start = (-2,3)\n",
    "stops = [(-1,-2),(3,3),(2,-1)]\n",
    "end=(4,0)\n",
    "\n",
    "x_stops=[p[0] for p in stops]\n",
    "y_stops=[p[1] for p in stops]\n",
    "start_point = [start[0],start[1]]\n",
    "stop_point = [end[0],end[1]]\n",
    "\n",
    "plt.scatter(x_stops,y_stops)\n",
    "plt.scatter(start_point[0],start_point[1],color=\"red\")\n",
    "plt.scatter(stop_point[0],stop_point[1],color=\"gold\")\n"
   ]
  },
  {
   "cell_type": "markdown",
   "metadata": {},
   "source": [
    "Let's first assume that we pick the riders up in order, i.e. that we go first from the start to (-1, -2), then from (-1,-2) to (3,3), then from (3,3) to (2, -1), and then lastly from (2,-1) to the airport.\n",
    "\n",
    "Write a function called simple_route which inputs three variables, start, stops, and end, and then returns the total distance of the trip. Your solution should call the lyft_distance function several times."
   ]
  },
  {
   "cell_type": "code",
   "execution_count": null,
   "metadata": {},
   "outputs": [],
   "source": [
    "#Your code here"
   ]
  },
  {
   "cell_type": "markdown",
   "metadata": {},
   "source": [
    "Run the code below to test your function. It should return 23"
   ]
  },
  {
   "cell_type": "code",
   "execution_count": null,
   "metadata": {},
   "outputs": [],
   "source": [
    "simple_route(start,stops,end)"
   ]
  },
  {
   "cell_type": "markdown",
   "metadata": {},
   "source": [
    "Now, lets  figure out the best order to pick the riders up. Run the code below to get a list of all the possible permutations of 0,1, and 2. (By permuatations, we mean all the different possible ordering of 0, 1, and 2.)"
   ]
  },
  {
   "cell_type": "code",
   "execution_count": null,
   "metadata": {},
   "outputs": [],
   "source": [
    "#run the code below to get a list of all the possible permutations of 0,1, and 2\n",
    "from itertools import permutations\n",
    "perms =permutations(range(3))\n",
    "perms=list(perms)\n",
    "perms"
   ]
  },
  {
   "cell_type": "markdown",
   "metadata": {},
   "source": [
    "**Now for the most challenging part**: You need to create a function that takes in a starting position, a list of three rider locations, and a stopping location and determines the order of rider pickups that will require the least amount of driving. You want to make the default stopping location be the airport, since you figure this is where people will be headed most often. You should be able to use your function for computing the Lyft distance to help solve this problem.\n",
    "\n",
    "Once you've come up with a plan, try **writing the function**. The function should **return the total distance of the trip and the list of rider locations in the appropriate pick-up order**.\n",
    "\n"
   ]
  },
  {
   "cell_type": "markdown",
   "metadata": {},
   "source": [
    "Your function should have three input parameters start, stops, and end. It should return the best_distance and the best_perm as a tuple. It is recommeded that your best route function call the simple_route function that you wrote earlier, although this is not required. "
   ]
  },
  {
   "cell_type": "code",
   "execution_count": null,
   "metadata": {},
   "outputs": [],
   "source": [
    "#Your code here"
   ]
  },
  {
   "cell_type": "markdown",
   "metadata": {},
   "source": [
    "Run the code below to test your funciton. The anwer should be (19, (0, 2, 1))\n"
   ]
  },
  {
   "cell_type": "code",
   "execution_count": null,
   "metadata": {},
   "outputs": [],
   "source": [
    "best_distance, best_perm= best_route(start,stops,end)\n",
    "best_distance, best_perm"
   ]
  },
  {
   "cell_type": "markdown",
   "metadata": {},
   "source": [
    "Now run the code below to visualize your best route. (It is okay if you don't understand the code yet.)"
   ]
  },
  {
   "cell_type": "code",
   "execution_count": null,
   "metadata": {},
   "outputs": [],
   "source": [
    "plt.scatter(x_stops,y_stops)\n",
    "plt.scatter(start_point[0],start_point[1],color=\"red\")\n",
    "plt.scatter(stop_point[0],stop_point[1],color=\"gold\")\n",
    "\n",
    "def plot_line(p,q):\n",
    "    plt.plot([p[0],q[0]],[p[1],q[1]],color=\"black\")\n",
    "    \n",
    "plot_line(start,stops[best_perm[0]])\n",
    "plot_line(stops[best_perm[0]],stops[best_perm[1]])\n",
    "plot_line(stops[best_perm[1]],stops[best_perm[2]])\n",
    "plot_line(stops[best_perm[2]],end)\n"
   ]
  },
  {
   "cell_type": "code",
   "execution_count": null,
   "metadata": {},
   "outputs": [],
   "source": []
  }
 ],
 "metadata": {
  "kernelspec": {
   "display_name": "Python 3",
   "language": "python",
   "name": "python3"
  },
  "language_info": {
   "codemirror_mode": {
    "name": "ipython",
    "version": 3
   },
   "file_extension": ".py",
   "mimetype": "text/x-python",
   "name": "python",
   "nbconvert_exporter": "python",
   "pygments_lexer": "ipython3",
   "version": "3.7.3"
  }
 },
 "nbformat": 4,
 "nbformat_minor": 4
}
