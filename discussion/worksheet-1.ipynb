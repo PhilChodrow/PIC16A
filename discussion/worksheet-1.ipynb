{
 "cells": [
  {
   "cell_type": "markdown",
   "metadata": {},
   "source": [
    "# Worksheet 1"
   ]
  },
  {
   "cell_type": "markdown",
   "metadata": {},
   "source": [
    "Always read the instructions at the top (if any), because I try not to write anything that wastes your time.\n",
    "\n",
    "This worksheet is meant to be a gentle first discussion section activity. The point is to get you oriented with your groups,  with Jupyter notebooks, and with the introductory content of the Monday lectures (numbers, strings, lists) without weighing you down with having to write any real code. Problem 1 will illustrate some very important theory, which can otherwise remain hidden when you write code until you run into problems, so make sure that you understand it well.\n",
    "\n",
    "Don't rush through this worksheet and copypaste everything I wrote into the code cells -- just read it and type it in yourself, because that will help you remember the syntax. Don't split up the worksheets and do the parts independently -- this would miss the point, which is to teach you enough for the exams in a sequential manner. Working through them productively (in a way that makes you learn something) is more important than finishing every problem."
   ]
  },
  {
   "cell_type": "markdown",
   "metadata": {},
   "source": [
    "## Problem 1: what are variables and objects"
   ]
  },
  {
   "cell_type": "markdown",
   "metadata": {},
   "source": [
    "*a)* In the code cell below, write the three lines:\n",
    "```python\n",
    "x = 2\n",
    "x = [5]\n",
    "x = \"a\"\n",
    "```\n",
    "Print the identity of `x` after each line. Run the cell (use Ctrl+Enter) -- try pressing it multiple times. Observe the output. In a few words, what does this tell you about what happens, in terms of objects and variables? Write your answer in the space below the code cell."
   ]
  },
  {
   "cell_type": "code",
   "execution_count": null,
   "metadata": {},
   "outputs": [],
   "source": []
  },
  {
   "cell_type": "markdown",
   "metadata": {},
   "source": [
    "*Double-click this text and replace it with your answer.*"
   ]
  },
  {
   "cell_type": "markdown",
   "metadata": {},
   "source": [
    "*b)* Now write the three lines:\n",
    "```python\n",
    "y = [1, 2, 3]\n",
    "y[0] = 8\n",
    "y.sort()\n",
    "```\n",
    "Print the identity of `y` after each line. What does this tell you about what happens, in terms of objects and variables?"
   ]
  },
  {
   "cell_type": "code",
   "execution_count": null,
   "metadata": {},
   "outputs": [],
   "source": []
  },
  {
   "cell_type": "markdown",
   "metadata": {},
   "source": [
    "*Double-click this text and replace it with your answer.*"
   ]
  },
  {
   "cell_type": "markdown",
   "metadata": {},
   "source": [
    "*c)* Write the three lines:\n",
    "```python\n",
    "z = 5\n",
    "z += 6\n",
    "z += 7\n",
    "```\n",
    "Print the identity of `z` after each line. What does this tell you about what happens, in terms of objects and variables? Contrast this behavior with C++."
   ]
  },
  {
   "cell_type": "code",
   "execution_count": null,
   "metadata": {},
   "outputs": [],
   "source": []
  },
  {
   "cell_type": "markdown",
   "metadata": {},
   "source": [
    "*Double-click this text and replace it with your answer.*"
   ]
  },
  {
   "cell_type": "markdown",
   "metadata": {},
   "source": [
    "## Problem 2: how to slice up strings and lists, and how to add and edit cells"
   ]
  },
  {
   "cell_type": "markdown",
   "metadata": {},
   "source": [
    "*a)* To add your own cells to the worksheet, first click once on the cell below which you want to add a new one, then press `b` on your keyboard.\n",
    "\n",
    "Notice that this text is inside a cell. First add a new cell right below this one -- click *this* text, which will highlight this cell with an outline and a blue bar on the left, and then press `b` on your keyboard. Make sure your cell is a *code* cell (check the drop-down menu in the toolbar). In your cell, assign the string `\"string\"` to a new variable named `s`. Then run the cell -- use Ctrl+Enter to do it fast so that you don't spend all your time navigating the toolbar menus.\n",
    "\n",
    "For each of the following items, first guess what the output should be, and then add a new code cell, run the corresponding item inside it, and compare your guess with the output:\n",
    "\n",
    "```python\n",
    "s[2]\n",
    "s[-2]\n",
    "s[:4]\n",
    "s[4:]\n",
    "s[1:5]\n",
    "s[:]\n",
    "s[2:-1]\n",
    "s[::2]\n",
    "```\n",
    "\n",
    "Make sure you run each of these in a separate cell, and don't clear the output -- else we won't know that you did the work.\n",
    "\n",
    "Discuss in your group which of these would also work the same way if we had declared `s` to be a list (of the same length). Write your hypothesis in a new *markdown* cell below. (Markdown cells like this one don't run their contents through the Python interpreter -- they just display nicely whatever you put inside them. Use the drop-down menu in the toolbar to turn a code cell into a markdown cell. Double-click a markdown cell to edit it; Ctrl+Enter to commit changes.)"
   ]
  },
  {
   "cell_type": "markdown",
   "metadata": {},
   "source": [
    "*b)* Based on what you know about strings, what do you think will happen if you run the two lines:\n",
    "```\n",
    "s[1] = 'p'\n",
    "print(s)\n",
    "```\n",
    "Add one new cell right below this one with both lines, and run it (Ctrl+Enter) to test your hypothesis. As always, keep the output so that we see your work.\n",
    "\n",
    "Discuss in your group what would happen if we had declared `s` to be a list of the same length (for instance, the list `[1, 2, 3, 4, 5, 6]`) and ran the same code. Write your hypothesis in a new markdown cell below."
   ]
  },
  {
   "cell_type": "markdown",
   "metadata": {},
   "source": [
    "*c)* Edit the next cell to fill in the missing positive and negative index labels. (Double click to edit a markdown cell; Ctrl+Enter to commit changes.)"
   ]
  },
  {
   "cell_type": "markdown",
   "metadata": {},
   "source": [
    "```\n",
    "| s | t | r | i | n | g |\n",
    "?   ?   ?   ?   ?   ?   ?    <-- replace these question marks with positive indices\n",
    "                             <-- add negative indices on this line (use spaces to align)\n",
    "```"
   ]
  },
  {
   "cell_type": "markdown",
   "metadata": {},
   "source": [
    "## Problem 3: let's recall some useful built-in functions and learn new ones"
   ]
  },
  {
   "cell_type": "markdown",
   "metadata": {},
   "source": [
    "*a)* In the code cell below we have declared two lists. First run the code cell below (click it and Ctrl+Enter) -- you need to run it in order for the variables to be assigned as needed."
   ]
  },
  {
   "cell_type": "code",
   "execution_count": null,
   "metadata": {},
   "outputs": [],
   "source": [
    "m1 = [0, 3, 6, 9]\n",
    "m2 = [0, 2, 4, 6]"
   ]
  },
  {
   "cell_type": "markdown",
   "metadata": {},
   "source": [
    "Make a new code cell right below this one. Inside it, define a new list that consists of two copies of `m1` followed by one copy of `m2` (do this the smart way). Using the same single code cell, do the following operations on the list, printing the list after each operation:\n",
    "\n",
    "- Sort this list\n",
    "- Reverse the resulting list\n",
    "- Throw out the first value of the list\n",
    "- Throw out the last two values of the list\n",
    "- Append the number 5 to the list\n",
    "- Replace the list with two copies of itself put together (use `=`)\n",
    "- Sort the list in reverse order (using just one function call)\n",
    "\n",
    "You can (and should) hit Ctrl+Enter intermittently to check your work."
   ]
  },
  {
   "cell_type": "markdown",
   "metadata": {},
   "source": [
    "*b)* Run each of the following code cells in order starting with the first. For each of the cells after the first, make a markdown cell below it and guess what each of the functions called in the corresponding code cell do. (You are welcome -- and encouraged -- to edit the code cell and experiment with the functions to clarify it for yourself.) A couple of words per function (not per line of code) will suffice."
   ]
  },
  {
   "cell_type": "code",
   "execution_count": null,
   "metadata": {},
   "outputs": [],
   "source": [
    "p = ['t', 'e', 's', 't']\n",
    "q = ['a', 'b', 'c', 'd']\n",
    "r = [10, 20, 8, 17]"
   ]
  },
  {
   "cell_type": "code",
   "execution_count": null,
   "metadata": {},
   "outputs": [],
   "source": [
    "print(len(p))\n",
    "print(len(p + q))\n",
    "print(len([]))"
   ]
  },
  {
   "cell_type": "code",
   "execution_count": null,
   "metadata": {},
   "outputs": [],
   "source": [
    "t1 = ', '.join(q)\n",
    "t2 = ''.join(p)\n",
    "print(t1)\n",
    "print(t2)\n",
    "print(t1.upper())\n",
    "print(t1.upper().lower())\n",
    "print(''.join(q).split('b'))"
   ]
  },
  {
   "cell_type": "code",
   "execution_count": null,
   "metadata": {},
   "outputs": [],
   "source": [
    "print(t1.count(','))\n",
    "print(t2.count('t'))"
   ]
  },
  {
   "cell_type": "code",
   "execution_count": null,
   "metadata": {},
   "outputs": [],
   "source": [
    "print(min(p))\n",
    "print(max(q))\n",
    "print(max(r))\n",
    "print(sum(r))"
   ]
  },
  {
   "cell_type": "code",
   "execution_count": null,
   "metadata": {},
   "outputs": [],
   "source": [
    "print(sorted(p))\n",
    "print(list(zip(p,q,r)))"
   ]
  }
 ],
 "metadata": {
  "kernelspec": {
   "display_name": "Python 3",
   "language": "python",
   "name": "python3"
  },
  "language_info": {
   "codemirror_mode": {
    "name": "ipython",
    "version": 3
   },
   "file_extension": ".py",
   "mimetype": "text/x-python",
   "name": "python",
   "nbconvert_exporter": "python",
   "pygments_lexer": "ipython3",
   "version": "3.8.5"
  }
 },
 "nbformat": 4,
 "nbformat_minor": 4
}
