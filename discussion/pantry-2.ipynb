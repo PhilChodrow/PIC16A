{
 "cells": [
  {
   "cell_type": "markdown",
   "metadata": {},
   "source": [
    "# Discussion Activity: Pantries and Cooking\n",
    "\n",
    "## Group Names and Roles\n",
    "\n",
    "- Partner 1 (Role)\n",
    "- Partner 2 (Role)\n",
    "- Partner 3 (Role)\n",
    "\n",
    "In this activity, we'll create a class for managing a pantry of food ingredients. This class will interact with the `recipe` class from a previous worksheet, allowing us to check whether we have enough ingredients to make the desired recipe. We'll also be able to add ingredients to the pantry, representing \"going shopping.\" Schematically: \n",
    "\n",
    "$$\\text{go shopping} \\implies \\text{ingredients in pantry} \\implies \\text{cook recipes}\\;.$$"
   ]
  },
  {
   "cell_type": "markdown",
   "metadata": {},
   "source": [
    "## Part A\n",
    "\n",
    "A `Pantry` is a subclass of `dict` that supports addition (with `dict`s) and subtraction (with `recipe`s). The code below implements a simple `Pantry` class with entrywise addition. If this code looks a bit familiar, that's because it is! This is just a rebranded `ArithmeticDict` from the [first lecture on inheritance](https://nbviewer.jupyter.org/github/PhilChodrow/PIC16A/blob/master/content/object_oriented_programming/inheritance_I.ipynb). \n",
    "\n",
    "Run this block. \n",
    "\n",
    "***Note:*** *In a more thorough implementation of `__add__()` and subsequent methods, we would do input checking to ensure that we are dealing with dictionaries with integer or float values. Because we've already practiced input checking when we wrote the `recipe` class, we're not going to worry about that again here.* "
   ]
  },
  {
   "cell_type": "code",
   "execution_count": null,
   "metadata": {},
   "outputs": [],
   "source": [
    "# run this block\n",
    "\n",
    "# used for warning for low ingredients (Part E)\n",
    "import warnings \n",
    "\n",
    "class Pantry(dict):\n",
    "    \"\"\"\n",
    "    A dictionary class that supports entrywise addition.\n",
    "    \"\"\"\n",
    "    \n",
    "    # supplied to students\n",
    "    def __add__(self, to_add):\n",
    "        \"\"\"\n",
    "        Add the contents of a dictionary to_add to self entrywise.\n",
    "        Keys present in to_add but not in self are treated as though\n",
    "        they are present in self with value 0. \n",
    "        Similarly, keys present in self but not in to_add are treated \n",
    "        as though they are present in to_add with value 0. \n",
    "        \"\"\"\n",
    "        new = {}\n",
    "        keys1 = set(self.keys())\n",
    "        keys2 = set(to_add.keys())\n",
    "        all_keys = keys1.union(keys2)\n",
    "\n",
    "        for key in all_keys:\n",
    "            new.update({key : self.get(key,0) + to_add.get(key,0)})\n",
    "            \n",
    "        return Pantry(new)\n",
    "    \n",
    "    # implement subtraction in Part B here\n",
    "    # in Part B, you don't have to worry about \n",
    "    # edge cases -- please read the directions!\n",
    "    # additionally, no need for copy/paste. \n",
    "    # it's ok to just modify this code block. \n",
    "    def __sub__(self, recipe):\n",
    "        pass"
   ]
  },
  {
   "cell_type": "markdown",
   "metadata": {},
   "source": [
    "Let's say that we'd like to make some delicious chocolate chip cookies. But wait -- we don't have any chocolate chips in our pantry! (Run this block): "
   ]
  },
  {
   "cell_type": "code",
   "execution_count": null,
   "metadata": {},
   "outputs": [],
   "source": [
    "my_pantry = Pantry({\"flour (grams)\"  : 2000, \n",
    "                    \"sugar (grams)\"  : 1000, \n",
    "                    \"butter (grams)\" : 500, \n",
    "                    \"salt (grams)\"   : 1000})"
   ]
  },
  {
   "cell_type": "markdown",
   "metadata": {},
   "source": [
    "In the code cell below, use addition to add to your pantry. To do so, first make a `dict` called `grocery_trip` in which you buy: \n",
    "\n",
    "- 1000 grams of flour\n",
    "- 500 grams of butter\n",
    "- 500 grams of chocolate chips\n",
    "- 2 onions\n",
    "\n",
    "The format should be the same as `my_pantry`. For example, `grocery_trip` might begin like this: \n",
    "\n",
    "```python\n",
    "grocery_trip = {\n",
    "    \"flour (grams)\" : 1000,\n",
    "    ...\n",
    "}\n",
    "```\n",
    "\n",
    "Then, add the contents of `grocery_trip` to `my_pantry`. Check the result to ensure that it makes sense. "
   ]
  },
  {
   "cell_type": "code",
   "execution_count": null,
   "metadata": {},
   "outputs": [],
   "source": [
    "# your solution here\n"
   ]
  },
  {
   "cell_type": "markdown",
   "metadata": {},
   "source": [
    "## Part B\n",
    "\n",
    "Here is solution code for the `Recipe` class from last time. To simplify the code, we have removed the input checking in the `__init__` method, as well as the `__str__` method. "
   ]
  },
  {
   "cell_type": "code",
   "execution_count": null,
   "metadata": {},
   "outputs": [],
   "source": [
    "class Recipe:\n",
    "    \n",
    "    def __init__(self, title, ingredients, directions):\n",
    "        self.title       = title\n",
    "        self.ingredients = ingredients\n",
    "        self.directions  = directions\n",
    "    \n",
    "    def __rmul__(self, multiplier):\n",
    "        multiplied_ingredients = {key : multiplier*val for key, val in self.ingredients.items()}\n",
    "        return recipe(self.title, multiplied_ingredients, self.directions)"
   ]
  },
  {
   "cell_type": "markdown",
   "metadata": {},
   "source": [
    "Now, implement **subtraction**  in which the first argument is a `Pantry` and the second argument is a `Recipe`. The relevant magic method for this is called `__sub__()`, and should be implemented in the `Pantry` class. Here's how subtraction `my_pantry - my_recipe` should work: \n",
    "\n",
    "1. You may assume that `my_pantry` and `my_recipe` are valid instances of their class. In particular, all quantities of ingredients are positive numbers (`int`s or `float`s). \n",
    "2. If all keys from `my_recipe.ingredients` are present in `my_pantry`, and if they all have values smaller than their values in `my_pantry`, then the result of `my_pantry - my_recipe` is a new `Pantry` object in which the values corresponding to the keys have been reduced by the quantity in `my_recipe`. \n",
    "3. If a key is present in `my_pantry` but not in `my_recipe`, then it is treated as though it is present in `my_pantry` with value `0`. \n",
    "\n",
    "For now, you can assume that the conditions of clause 2. are met, and that subtraction should therefore \"work.\" That is, you can assume that you have enough of all ingredients in the pantry to make the recipe. For example, with `my_pantry` from Part A,\n",
    "\n",
    "```python\n",
    "title = \"cookies\"\n",
    "ingredients = {\n",
    "    \"flour (grams)\"  : 400,\n",
    "    \"butter (grams)\" : 200,\n",
    "    \"salt (grams)\"   : 10,\n",
    "    \"sugar (grams)\"  : 100\n",
    "}\n",
    "\n",
    "# Great British Baking Show-style directions\n",
    "directions = [\"make the cookies\"]\n",
    "\n",
    "cookies = Recipe(title, ingredients, directions)\n",
    "my_pantry - cookies\n",
    "```\n",
    "```\n",
    "{'salt (grams)': 990,\n",
    " 'flour (grams)': 2600,\n",
    " 'butter (grams)': 800,\n",
    " 'chocolate chips (grams)': 500,\n",
    " 'sugar (grams)': 900,\n",
    " 'onions': 2}\n",
    "```\n",
    "\n",
    "You can implement subtraction by modifying the code block in Part A -- no need to copy/paste your class. \n",
    "\n",
    "***Hint***: *Dictionary comprehensions* provide a convenient way to make new dictionaries from old ones. Their syntax is related to list comprehensions. For example:\n",
    "```python\n",
    "d = {\"shortbread cookie\" : 2, \"chocolate chip cookie\" : 1}\n",
    "{\"tasty \" + key : val for key, val in d.items()}\n",
    "```\n",
    "\n",
    "***Hint***: The method `dict.get()` will let you specify a \"default\" value in a dictionary, returned when a key is not found. For example, \n",
    "```python\n",
    "{\"cinnamon cookie\" : 1, \"florentine cookie\" : 1}.get(\"brownie\", 0)\n",
    "```\n",
    "will return value 0 because the key `\"brownie\"` is not found. "
   ]
  },
  {
   "cell_type": "code",
   "execution_count": null,
   "metadata": {},
   "outputs": [],
   "source": [
    "# test your solution here\n",
    "# reminder: changes you make to your pantry class\n",
    "#   won't be reflected until you run the definition\n",
    "#   AND create an object with the new definition. \n",
    "# second reminder: you'll only get the same answer \n",
    "#   we got above if you run the required code \n",
    "#   exactly once. You might need to re-run your \n",
    "#   code if you've already tried to run a few times. \n"
   ]
  },
  {
   "cell_type": "markdown",
   "metadata": {},
   "source": [
    "## Part D\n",
    "\n",
    "Now, handle the case in which `my_recipe` contains a key not contained in `my_pantry`, or in which case the associated value in `my_recipe` is larger. This models the situation in which your recipe requires an ingredient that you don't have, or that you don't have in sufficient quantity. \n",
    "\n",
    "In this case, `my_pantry - my_recipe` should raise an informative `ValueError`, stating which ingredients need to be added in order to make the recipe. For example, here's `my_pantry` as it was at the end of Part A. \n",
    "\n",
    "```python\n",
    "my_pantry = Pantry({'salt (grams)': 1000,\n",
    "                    'flour (grams)': 4000,\n",
    "                    'butter (grams)': 1500,\n",
    "                    'chocolate chips (grams)': 1000,\n",
    "                    'sugar (grams)': 1000,\n",
    "                    'onions': 2})\n",
    "\n",
    "title = \"oatmeal cookies\"\n",
    "ingredients = {\n",
    "    \"oatmeal (grams)\" : 200,\n",
    "    \"flour (grams)\"   : 500,\n",
    "    \"sugar (grams)\"   : 100,\n",
    "    \"raisins (grams)\" : 200,\n",
    "    \"butter (grams)\"  : 200\n",
    "}\n",
    "directions = [\"make the cookies\"]\n",
    "\n",
    "my_recipe = Recipe(title, ingredients, directions)\n",
    "\n",
    "my_pantry - my_recipe\n",
    "```\n",
    "\n",
    "In this case, an informative `ValueError` should be raised indicating which ingredients are ndeed, and in what quantities. \n",
    "\n",
    "***Hints***\n",
    "\n",
    "Implementing this behavior efficiently can be a bit challenging. Here are some suggestions: \n",
    "\n",
    "1. The command `set(L1).union(set(L2))` will create a set of all items in either `L1` or `L2`, where `L1` and `L2` are lists or other iterables. \n",
    "2. I found it helpful to first create a dictionary containing the full state of the pantry after subtraction, with negative numbers allowed. I then checked to see whether there were any negative numbers in this dictionary, raising the `ValueError` if so.  "
   ]
  },
  {
   "cell_type": "code",
   "execution_count": null,
   "metadata": {},
   "outputs": [],
   "source": []
  },
  {
   "cell_type": "markdown",
   "metadata": {},
   "source": [
    "## Part E\n",
    "\n",
    "If you have completed Parts A-D and still have some time, do one of two things: \n",
    "\n",
    "1. Implement an `__str__()` method for your class to enable attractive printing. As a reminder, the `__str__()` method should return a string, rather than printing a message. One then prints the string directly. \n",
    "2. Modify the subtraction method so that a *warning* is shown when subtraction results in an ingredient running low. For the purposes of today, let's say that \"low\" means that there are fewer than 100g of the ingredient in the pantry. \n",
    "\n",
    "To issue warnings, you need to `import` the `warnings` module and then call `warnings.warn` with the text of the warning. \n",
    "\n",
    "```python\n",
    "import warnings\n",
    "# ... other code\n",
    "warnings.warn(\"Uh oh! These ingredients are running low.: ... \")\n",
    "```"
   ]
  },
  {
   "cell_type": "code",
   "execution_count": null,
   "metadata": {},
   "outputs": [],
   "source": [
    "# test your new features here\n"
   ]
  }
 ],
 "metadata": {
  "kernelspec": {
   "display_name": "Python 3",
   "language": "python",
   "name": "python3"
  },
  "language_info": {
   "codemirror_mode": {
    "name": "ipython",
    "version": 3
   },
   "file_extension": ".py",
   "mimetype": "text/x-python",
   "name": "python",
   "nbconvert_exporter": "python",
   "pygments_lexer": "ipython3",
   "version": "3.7.3"
  }
 },
 "nbformat": 4,
 "nbformat_minor": 4
}
