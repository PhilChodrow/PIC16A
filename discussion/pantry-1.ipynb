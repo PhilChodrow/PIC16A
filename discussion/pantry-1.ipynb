{
 "cells": [
  {
   "cell_type": "markdown",
   "metadata": {},
   "source": [
    "# Baking Cookies!\n",
    "\n",
    "![](https://raw.githubusercontent.com/PhilChodrow/PIC16A/master/_images/cookie_monster.jpeg)\n",
    "\n",
    "## Group Names and Roles\n",
    "\n",
    "- Partner 1 (Role)\n",
    "- Partner 2 (Role)\n",
    "- Partner 3 (Role)\n",
    "\n",
    "## Introduction\n",
    "\n",
    "In this worksheet, you'll implement a `recipe` class that stores data on how to create a tasty dish--like cookies!--in a structured way. We'll build on this `recipe` class in a future Discussion activity. \n",
    "\n",
    "Schematically, a recipe has three primary pieces of data: \n",
    "\n",
    "1. A title (e.g. \"Cookies\")\n",
    "2. A list of ingredients, with quantities. Example: \n",
    "```\n",
    "    Flour (grams)  : 400\n",
    "    Butter (grams) : 200\n",
    "    Salt (grams)   : 10\n",
    "    Sugar (grams)  : 100\n",
    "```\n",
    "3. A list of directions. Example: \n",
    "    \n",
    "> 1. In a large mixing bowl, cut the chilled butter into the flour and sugar. \n",
    "> 2. Add the salt and sugar, and combine. \n",
    "> 3. Roll into a log, and freeze. \n",
    "> 4. Preheat the oven to 200 C°. \n",
    "> 5. Cut the log of dough into thin disks and place on baking sheet. \n",
    "> 6. Bake for 12 minutes, flipping after 7 minutes. \n",
    "\n",
    "Our `recipe` class will store such data. \n",
    "\n",
    "In this activity, it is not necessary to copy/paste the code that corresponds to your class. Rather, you can keep all the code for your class in Part A, and then just run the tests in the subsequent parts to verify that your code is working. \n",
    "\n",
    "## Part A\n",
    "\n",
    "Start by creating a class called `Recipe`. Give this class an `__init__()` method that allows the user to set the `title`, `ingredients`, and `directions` as instance variables. That is, after having defined your class, you should be able to run the following code and receive the printed result. \n",
    "\n",
    "```python\n",
    "cookies = Recipe(\"cookies\", {\"cookie jar\" : 1}, [\"take a cookie out of the jar\"])\n",
    "print(cookies.title)\n",
    "print(cookies.ingredients)\n",
    "print(cookies.directions)\n",
    "```\n",
    "```\n",
    "cookies\n",
    "{'cookie jar': 1}\n",
    "['take a cookie out of the jar']\n",
    "```"
   ]
  },
  {
   "cell_type": "code",
   "execution_count": null,
   "metadata": {},
   "outputs": [],
   "source": [
    "# write class here\n"
   ]
  },
  {
   "cell_type": "code",
   "execution_count": null,
   "metadata": {},
   "outputs": [],
   "source": [
    "# test code here\n"
   ]
  },
  {
   "cell_type": "markdown",
   "metadata": {},
   "source": [
    "## Part B\n",
    "\n",
    "Now add **input checking.** Modify the `__init__()` method to enforce the following conditions: \n",
    "\n",
    "1. `title` must be a string. If not, raise an informative `TypeError`. \n",
    "2. `ingredients` must be a `dict`. If not, raise an informative `TypeError`. \n",
    "3. The keys of `ingredients` must all be strings. If not, raise an informative `TypeError`.  \n",
    "    - ***Hint***: `all([x == \"cookies\" for x in container])` will check whether `x` has value \"cookies\" for all `x` in `container`. You can modify this idea to perform this check without writing a `for`-`loop`, although such a loop is also a fine approach. \n",
    "4. The `directions` must be a `list`. If not, raise an informative `TypeError`. \n",
    "\n",
    "In this and future parts, you can modify your code in Part A -- no need to copy/paste your class. \n",
    "\n",
    "Write a simple test case for each of these four conditions to show that the corresponding error is raised. The first one is written for you. Each of these test cases can be completed in a single line. \n",
    "\n",
    "If you finish early, you can come back and add the following additional checks to your class: \n",
    "\n",
    "1. The entries of `directions` must be strings. If not, raise an informative `TypeError`. \n",
    "2. The values of `ingredients` must all be `int`s or `float`s. If not, raise an informative `TypeError`. \n",
    "3. The values of `ingredients` must all be nonnegative. If not, raise an informative `ValueError`."
   ]
  },
  {
   "cell_type": "code",
   "execution_count": null,
   "metadata": {},
   "outputs": [],
   "source": [
    "# first test\n"
   ]
  },
  {
   "cell_type": "code",
   "execution_count": null,
   "metadata": {},
   "outputs": [],
   "source": [
    "# second test\n"
   ]
  },
  {
   "cell_type": "code",
   "execution_count": null,
   "metadata": {},
   "outputs": [],
   "source": [
    "# third test\n"
   ]
  },
  {
   "cell_type": "code",
   "execution_count": null,
   "metadata": {},
   "outputs": [],
   "source": [
    "# fourth test\n"
   ]
  },
  {
   "cell_type": "markdown",
   "metadata": {},
   "source": [
    "## Part C\n",
    "\n",
    "Implement *scalar multiplication.* If `cookies` is a `recipe`, then `2*cookies` is a new `recipe` in which all the values of the `ingredients` have been doubled. For example: \n",
    "\n",
    "```python\n",
    "title = \"cookies\"\n",
    "\n",
    "ingredients = {\n",
    "    \"Flour (grams)\"  : 400,\n",
    "    \"Butter (grams)\" : 200,\n",
    "    \"Salt (grams)\"   : 10,\n",
    "    \"Sugar (grams)\"  : 100\n",
    "}\n",
    "\n",
    "directions = [\n",
    "    \"In a large mixing bowl, cut the chilled butter into the flour and sugar.\" , \n",
    "    \"Add the salt and sugar, and combine.\" ,\n",
    "    \"Roll into a log, and freeze.\" ,\n",
    "    \"Preheat the oven to 200 C°.\" ,\n",
    "    \"Cut the log of dough into thin disks and place on baking sheet.\" ,\n",
    "    \"Bake for 12 minutes, flipping after 7 minutes.\" \n",
    "]\n",
    "\n",
    "cookies = Recipe(title, ingredients, directions)\n",
    "```\n",
    "\n",
    "Then,\n",
    "\n",
    "```python\n",
    "doubled_cookies = 2*cookies\n",
    "doubled_cookies.ingredients\n",
    "```\n",
    "\n",
    "```\n",
    "{'Flour (grams)': 800,\n",
    " 'Butter (grams)': 400,\n",
    " 'Salt (grams)': 20,\n",
    " 'Sugar (grams)': 200}\n",
    "```\n",
    "\n",
    "***Hints***: \n",
    "\n",
    "- The required magic method is called `__rmul__(self, multiplier)`. Please make sure that the return value of this magic method is a new instance of class `Recipe`. \n",
    "- *Dictionary comprehensions* provide a convenient way to make new dictionaries from old ones. Their syntax is related to list comprehensions. For example: \n",
    "```python\n",
    "d = {\"shortbread cookie\" : 2, \"chocolate chip cookie\" : 1}\n",
    "{\"tasty \" + key : val for key, val in d.items()}\n",
    "```"
   ]
  },
  {
   "cell_type": "code",
   "execution_count": null,
   "metadata": {},
   "outputs": [],
   "source": [
    "# test case -- run this code, no need to modify. \n",
    "title = \"cookies\"\n",
    "\n",
    "ingredients = {\n",
    "    \"Flour (grams)\"  : 400,\n",
    "    \"Butter (grams)\" : 200,\n",
    "    \"Salt (grams)\"   : 10,\n",
    "    \"Sugar (grams)\"  : 100\n",
    "}\n",
    "\n",
    "directions = [\n",
    "    \"In a large mixing bowl, cut the chilled butter into the flour and sugar.\" , \n",
    "    \"Add the salt and combine.\" ,\n",
    "    \"Roll into a log, and freeze.\" ,\n",
    "    \"Preheat the oven to 200 C°.\" ,\n",
    "    \"Cut the log of dough into thin disks and place on baking sheet.\" ,\n",
    "    \"Bake for 12 minutes, flipping after 7 minutes.\" \n",
    "]\n",
    "cookies = Recipe(title, ingredients, directions)\n",
    "\n",
    "doubled_cookies = 2*cookies\n",
    "doubled_cookies.ingredients"
   ]
  },
  {
   "cell_type": "markdown",
   "metadata": {},
   "source": [
    "## Part D"
   ]
  },
  {
   "cell_type": "markdown",
   "metadata": {},
   "source": [
    "Implement attractive printing, such that, if `cookies` is a `Recipe`, then calling\n",
    "\n",
    "```python\n",
    "print(cookies)\n",
    "```\n",
    "\n",
    "will print out the title, ingredients, and directions in an attractive and readable format. Feel free to be creative! Here's one illustration. Using the same recipe for `cookies` from Part C, \n",
    "\n",
    "```python\n",
    "print(cookies)\n",
    "```\n",
    "\n",
    "```\n",
    "# printed output\n",
    "\n",
    "How To Make Cookies\n",
    "-------------------------------\n",
    "\n",
    "Ingredients\n",
    "\n",
    "   Flour (grams) : 400\n",
    "   Butter (grams) : 200\n",
    "   Salt (grams) : 10\n",
    "   Sugar (grams) : 100\n",
    "\n",
    "Directions\n",
    "\n",
    "   1. In a large mixing bowl, cut the chilled butter into the flour and sugar.\n",
    "   2. Add the salt and sugar, and combine.\n",
    "   3. Roll into a log, and freeze.\n",
    "   4. Preheat the oven to 200 C°.\n",
    "   5. Cut the log of dough into thin disks and place on baking sheet.\n",
    "   6. Bake for 12 minutes, flipping after 7 minutes.\n",
    "```\n",
    "\n",
    "***Hint***: printing is controlled by the `__str__()` magic method. The `__str__()` method should **return** the string you desire to print. Actual printing should happen separately.  \n",
    "\n",
    "***Note***: feel free to use any tools that you can think of to solve this problem. "
   ]
  },
  {
   "cell_type": "code",
   "execution_count": null,
   "metadata": {},
   "outputs": [],
   "source": [
    "# demonstration of printing\n",
    "print(cookies)"
   ]
  },
  {
   "cell_type": "markdown",
   "metadata": {},
   "source": [
    "## Part E (Optional)\n",
    "\n",
    "Create an object of class `Recipe` called `our_recipe` and instantiate it with the Reviewer's favorite recipe. Paste the output of `print(our_recipe)` in a post on Campuswire! "
   ]
  }
 ],
 "metadata": {
  "kernelspec": {
   "display_name": "Python 3",
   "language": "python",
   "name": "python3"
  },
  "language_info": {
   "codemirror_mode": {
    "name": "ipython",
    "version": 3
   },
   "file_extension": ".py",
   "mimetype": "text/x-python",
   "name": "python",
   "nbconvert_exporter": "python",
   "pygments_lexer": "ipython3",
   "version": "3.7.3"
  }
 },
 "nbformat": 4,
 "nbformat_minor": 4
}
