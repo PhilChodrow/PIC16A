{
 "cells": [
  {
   "cell_type": "markdown",
   "metadata": {},
   "source": [
    "# Hello, PIC16A \n",
    "\n",
    "### Group Members and Roles\n",
    "\n",
    "- Group Member 1 (Role)\n",
    "- Group Member 2 (Role)\n",
    "- Group Member 3 (Role)\n",
    "\n",
    "### Recap of Roles\n",
    "\n",
    "Today, the group member whose first name comes first in the alphabet is the **Driver**. They are responsible for opening a copy of this worksheet and sharing their screen. They are the only one who needs to modify the worksheet directly. \n",
    "\n",
    "The group member whose first name comes next in the alphabet is the **Proposer**. They are responsible for suggesting ideas for what the Driver should do next. \n",
    "\n",
    "The final group member is the **Reviewer**. They are responsible for finding improvements, giving feedback, and researching questions if the group gets stuck. \n",
    "\n",
    "You'll be rotating these roles throughout the quarter. \n",
    "\n",
    "**Add your names and roles beside the bullet points above.**\n",
    "\n",
    "# §1. Hello Team (~15 minutes)\n",
    "\n",
    "There's plenty of time for this part of the activity, so please take your time and feel free to ask each other follow-up questions. \n",
    "\n",
    "Starting with the Reviewer, introduce yourselves! First, share with each other the following. \n",
    "\n",
    "1. Your name. \n",
    "2. Your area or planned area of study at UCLA. \n",
    "3. Why you are interested in Python programming. \n",
    "\n",
    "Once each of you have shared your interest in Python programming move on to the following question. You might want to spend a minute or so thinking about this one.  \n",
    "> *If you were a vegetable, which vegetable would you be, **and why**?* \n",
    "\n",
    "Make sure that you have both selected a vegetable and a reason. Note that this question is **not** the same as \"what is your favorite vegetable?\"\n",
    "\n",
    "For the purposes of this question, botanical vegetables and culinary vegetables are valid choices. For example, \"tomato\" or \"squash\" are both fully acceptable responses."
   ]
  },
  {
   "cell_type": "markdown",
   "metadata": {},
   "source": [
    "# §2. Hello Jupyter (~10 minutes)\n",
    "\n",
    "The most important thing you will need to do in Jupyter is read, write, and run Python code. Write the following code, exactly as it appears, in the *code cell* below, underneath the `# comment`. \n",
    "\n",
    "```python\n",
    "print(\"to boldly go where no one has gone before\")\n",
    "```\n",
    "\n",
    "Then, with your cursor still in the code cell, hit `shift + enter` on your keyboard to run the code. You may also see a \"Play\" or \"Run\" button in the Jupyter toolbar which you can use to achieve the same result and advance to the next cell. There is also a keyboard shortcut to run the code and not advance to the next cell, which is often convenient. The shortcut depends on your operating system and whether you are using Jupyter Notebook or Jupyter Lab. These shortcuts are shown in the menu bar. "
   ]
  },
  {
   "cell_type": "code",
   "execution_count": 1,
   "metadata": {},
   "outputs": [],
   "source": [
    "# write your code here\n",
    "\n"
   ]
  },
  {
   "cell_type": "markdown",
   "metadata": {},
   "source": [
    "An important feature of the Jupyter interface is that the Python environment is persistent between code cells. That means that variables that you define in one code cell can be used in later code cells. \n",
    "\n",
    "In the cell below, type: \n",
    "\n",
    "```python\n",
    "vegetables = {\"driver\" : \"radish\", \"proposer\" : \"carrot\", \"reviewer\" : \"onion\"}\n",
    "```\n",
    "\n",
    "Replace the vegetables with the vegetables you each chose in §1. \n",
    "\n",
    "Run the code cell (`shift + enter`). "
   ]
  },
  {
   "cell_type": "code",
   "execution_count": 2,
   "metadata": {},
   "outputs": [],
   "source": [
    "# write your code here\n"
   ]
  },
  {
   "cell_type": "markdown",
   "metadata": {},
   "source": [
    "The variable `vegetables` is now part of the Python session and is available for future use. For example, type the following code in the cell below and run it. \n",
    "\n",
    "```python\n",
    "print(\"If they were a vegetable, the Driver would be a \" + vegetables[\"driver\"] + \".\")\n",
    "```\n",
    "\n",
    "You'll learn more about how this works in the next week or so. Heuristically, `vegetables[\"driver\"]` means \"get me the data associated with `\"driver\"` in the `vegetables` data structure.\""
   ]
  },
  {
   "cell_type": "code",
   "execution_count": 4,
   "metadata": {},
   "outputs": [],
   "source": [
    "# write your code here\n"
   ]
  },
  {
   "cell_type": "markdown",
   "metadata": {},
   "source": [
    "Sometimes, you'll need to write some code, but there won't be a code cell present. In this case, you can use the `+` symbol on the toolbar to add a new code cell. Add a new cell now, immediately below this text, and type the following code: \n",
    "\n",
    "```python\n",
    "print(\"If they were a vegetable, the Reviewer would be a \" + vegetables[\"reviewer\"] + \".\")\n",
    "```\n",
    "\n",
    "\\[add code cell immediately below\\]"
   ]
  },
  {
   "cell_type": "markdown",
   "metadata": {},
   "source": [
    "\n",
    "\n",
    "On occasion, you may find it useful to *restart the kernel*. Restarting the kernel has the effect of erasing all variables in the current Python session. \n",
    "\n",
    "**Restart the kernel by clicking the ↻ button in the Jupyter toolbar.** If asked whether you are sure you want to restart the kernel, choose \"yes\" \n",
    "\n",
    "Create a code cell below, and type in the following code: \n",
    "\n",
    "```python\n",
    "print(\"If they were a vegetable, the Proposer would be a \" + vegetables[\"proposer\"] + \".\")\n",
    "```\n",
    "\n",
    "\\[add code cell immediately below\\]"
   ]
  },
  {
   "cell_type": "markdown",
   "metadata": {},
   "source": [
    "You should observe a `NameError: name 'vegetables' is not defined`. This is because, after restarting the kernel, the variable `vegetables` is no longer present in our namespace. To get it back, go back to the code cell in which you first defined this variable and run it. Then, the cell above will run without error. \n",
    "\n",
    "The toolbar also contains useful tools for duplicating cells, removing cells, and moving cells up and down. "
   ]
  },
  {
   "cell_type": "markdown",
   "metadata": {},
   "source": [
    "# §3. Hello Markdown (~15 minutes)\n",
    "\n",
    "Throughout PIC16A, you will frequently be asked to write explanatory text in which you describe your problem-solving strategy and the structure of your code. One way to do this will be in comments and docstrings, which we will introduce later. Another important way is with *Markdown cells.* [Markdown](https://en.wikipedia.org/wiki/Markdown#Example) is a simple, readable way to create formatted text. It was invented by John Gruber and Aaron Swartz. This [cheatsheet](https://commonmark.org/help/) contains a useful and concise set of instructions for Markdown editing. One item that's not in there: you can create ~~strikethrough~~ text by surrounding your text with two `~~` symbols on each side, `~~like this~~`. \n",
    "\n",
    "To create a Markdown cell, first create a code cell like you did before. Then, with your cursor in the code cell, click the dropdown menu in the toolbar that says \"Code\".  Select \"Markdown\" from this menu instead. \n",
    "\n",
    "Return to the cell and type the following characters, exactly as they appear:\n",
    "\n",
    "`*To boldly go* **where no one has gone before.**`\n",
    "\n",
    "Then, \"run\" the Markdown cell (`shift + enter` again) to see your text rendered with italic and bold formatting. \n",
    "\n",
    "\\[add markdown cell immediately below\\]"
   ]
  },
  {
   "cell_type": "markdown",
   "metadata": {},
   "source": [
    "## §3.1 Group Norms\n",
    "\n",
    "A **group norm** is a shared, mutually-agreed upon expectation to which all group members will be held. In this part of the activity, you'll agree on several group norms and write them using Markdown formatting. \n",
    "\n",
    "### §3.1.1 My Suggestions\n",
    "\n",
    "The image below gives some of my **suggested** group norms. \n",
    "\n",
    "\n",
    "\n",
    "<figure class=\"image\" style=\"width:40%\">\n",
    "  <img src=\"https://raw.githubusercontent.com/PhilChodrow/PIC16A/master/_images/group-norms.png\" alt=\"A list of possible norms for group interactions. The list reads:             \n",
    "1. **Preparation**: Watch lectures and complete the quiz *before Discussion*. \n",
    "2. **Words and actions**: work to *encourage* and *support* each other's learning.  \n",
    "3. **Critiques**: Critique ~~people~~ techniques, and learn from discarded ideas. \n",
    "4. **Making space**: make space for everyone to participate. \n",
    "    - Check whether you are dominating conversation. \n",
    "    - Ask each group member to share perspectives. \n",
    "    - Build on each other's ideas\">\n",
    "  <figcaption><i></i></figcaption>\n",
    "</figure>"
   ]
  },
  {
   "cell_type": "markdown",
   "metadata": {},
   "source": [
    "Work with your group to reproduce the above list in Markdown, including the Header. \n",
    "\n",
    "\\[add markdown cell immediately below\\]"
   ]
  },
  {
   "cell_type": "markdown",
   "metadata": {},
   "source": [
    "### §3.1.2 Your Norms\n",
    "\n",
    "Copy and paste the suggested norms from above into a new Markdown cell below. Then, discuss with your group and:  \n",
    "\n",
    "1. Agree on **at least two** additional norms to which you will hold each other accountable. Some possibilities include norms around doing equitable proportions of work, or arriving at Discussion on time, or communicating outside of Discussion activities. \n",
    "2. Modify any of the norms I suggested above in ways that feel right for your group. \n",
    "\n",
    "\\[add markdown cell immediately below\\]"
   ]
  },
  {
   "cell_type": "markdown",
   "metadata": {},
   "source": [
    "# §4. Goodbye Worksheet (~5 minutes)\n",
    "\n",
    "Great job! It's time to submit the worksheet. To do so, the Driver should **convert the worksheet to PDF** and then submit the PDF. There are a few valid ways to do this. Start by  going to `File` -> `Download As` on the menu. \n",
    "\n",
    "1. It is likely that the $\\LaTeX$ markup language was installed with Anaconda. $\\LaTeX$ is a popular way to create scientific reports and presentations. In this case, you can download the worksheet as a PDF by choosing `File -> Download As -> PDF via LaTeX (.pdf)` on the Jupyter toolbar. This will produce an attractive report.\n",
    "2. If you would prefer not to use $\\LaTeX$, you can also choose `File -> Print Preview`. This will open a new window with a simplified view of the notebook suitable for printing. Choose the `Save as PDF` option from your print menu. \n",
    "\n",
    "After obtaining a PDF, submit it on CCLE. Only one member of the group (the Driver) needs to submit the worksheet. \n",
    "\n",
    "**Note on grading**: Discussion worksheets are graded on *participation*. This means that it is not necessary to complete the entire worksheet in order to receive full credit, provided that you are actively working on the activity for the entirety of the Discussion period. If, however, you would like to meet up later with your partners to finish up the activity, then please do -- this will be very helpful for your learning. "
   ]
  }
 ],
 "metadata": {
  "kernelspec": {
   "display_name": "Python 3",
   "language": "python",
   "name": "python3"
  },
  "language_info": {
   "codemirror_mode": {
    "name": "ipython",
    "version": 3
   },
   "file_extension": ".py",
   "mimetype": "text/x-python",
   "name": "python",
   "nbconvert_exporter": "python",
   "pygments_lexer": "ipython3",
   "version": "3.8.5"
  }
 },
 "nbformat": 4,
 "nbformat_minor": 4
}
