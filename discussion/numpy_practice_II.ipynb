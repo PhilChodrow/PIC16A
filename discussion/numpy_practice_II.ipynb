{
 "cells": [
  {
   "cell_type": "markdown",
   "metadata": {},
   "source": [
    "# More Numpy Practice\n",
    "\n",
    "## Group Names and Roles\n",
    "\n",
    "- Partner 1 (Role)\n",
    "- Partner 2 (Role)\n",
    "- Partner 3 (Role)\n",
    "\n",
    "\n",
    "Go ahead and run the code block below to load in the packages we'll need for today: "
   ]
  },
  {
   "cell_type": "code",
   "execution_count": null,
   "metadata": {},
   "outputs": [],
   "source": [
    "# run this block\n",
    "import numpy as np\n",
    "from matplotlib import pyplot as plt"
   ]
  },
  {
   "cell_type": "markdown",
   "metadata": {},
   "source": [
    "## Exercise 1\n",
    "\n",
    "The function `np.percentile` computes a specified percentile of an array. For example, `np.percentile(a, 80)` will return the 80th percentile of `a`. \n",
    "\n",
    "```python\n",
    "a = np.random.rand(1000)\n",
    "np.percentile(a, 80)\n",
    "```\n",
    "```\n",
    "0.8066467817256507\n",
    "```"
   ]
  },
  {
   "cell_type": "markdown",
   "metadata": {},
   "source": [
    "### Part A. \n",
    "\n",
    "Write a function called `stats_summary` that prints out a readable summary of the data: \n",
    "\n",
    "```python\n",
    "a = np.random.randn(1000)\n",
    "stats_summary(a)\n",
    "```\n",
    "```\n",
    "The 20th percentile is -0.85\n",
    "The mean is -0.03\n",
    "The median is -0.04\n",
    "The 80th percentile is 0.85\n",
    "The standard deviation is 1.01\n",
    "```\n",
    "\n",
    "Recall that the median is the 50th percentile. \n",
    "\n",
    "**Hint:** `np.round(x, 2)`. "
   ]
  },
  {
   "cell_type": "code",
   "execution_count": null,
   "metadata": {},
   "outputs": [],
   "source": [
    "# your solution\n"
   ]
  },
  {
   "cell_type": "code",
   "execution_count": null,
   "metadata": {},
   "outputs": [],
   "source": [
    "# try it out\n",
    "a = np.random.randn(1000) # 1000 normal variables\n",
    "stats_summary(a)"
   ]
  },
  {
   "cell_type": "markdown",
   "metadata": {},
   "source": [
    "### Part B.\n",
    "\n",
    "Modify your function so that it can compute the same summaries when the input `a` contains `np.nan` values. This should require only minimal modifications. \n",
    "\n",
    "***Note***: *You will receive a *warning* when you run the block that constructs the new data `b`. `numpy` is warning you that `nan` values have been produced. This happens because `a` includes some negative values, and taking the logarithm of a negative value produces `nan` in `numpy`. You should read this warning and then move on -- everything is going as it should.*  "
   ]
  },
  {
   "cell_type": "code",
   "execution_count": null,
   "metadata": {},
   "outputs": [],
   "source": [
    "# modified function here\n"
   ]
  },
  {
   "cell_type": "code",
   "execution_count": null,
   "metadata": {},
   "outputs": [],
   "source": [
    "# new test data: will generate a RuntimeWarning\n",
    "b = np.log(a)"
   ]
  },
  {
   "cell_type": "code",
   "execution_count": null,
   "metadata": {},
   "outputs": [],
   "source": [
    "# test new version of stats_summary here\n",
    "# should obtain numbers, no NaN values. \n",
    "stats_summary(b)"
   ]
  },
  {
   "cell_type": "markdown",
   "metadata": {},
   "source": [
    "## Exercise 2\n",
    "\n",
    "The famous [Basel problem](https://en.wikipedia.org/wiki/Basel_problem) asks for a closed form of the infinite series \n",
    "\n",
    "$$\\sum_{n = 1}^{\\infty} \\frac{1}{n^2} = \\frac{1}{1^2} + \\frac{1}{2^2} + \\frac{1}{3^2} + \\cdots$$\n",
    "\n",
    "In 1735, Leonhard Euler, one of the all-time mathematical greats, showed that this sum is exactly equal to $\\pi^2/6$, although it wasn't until a few years later that his result would be made fully rigorous. \n",
    "\n",
    "Define a variable `n_max = 50`. Then, create the following two 1-dimensional `numpy` arrays, each of length `n_max`: \n",
    "\n",
    "- `asymptote`: each entry is equal to $\\pi^2/6$. **Hint**: `np.ones()`, `np.pi`.  \n",
    "- `partial_sums`: entry `k` of `partial sums` should have value equal to \n",
    "$$\\sum_{n = 1}^{k+1}\\frac{1}{n^2} = \\frac{1}{1^2} + \\frac{1}{2^2} + \\cdots + \\frac{1}{(k+1)^2}$$\n",
    "- **Hint:** `np.cumsum()`. \n",
    "\n",
    "Create each of these arrays **in a single line of code each, of less than 80 characters.**"
   ]
  },
  {
   "cell_type": "code",
   "execution_count": null,
   "metadata": {},
   "outputs": [],
   "source": [
    "                                                                                # 80 characters"
   ]
  },
  {
   "cell_type": "code",
   "execution_count": null,
   "metadata": {},
   "outputs": [],
   "source": [
    "# your solution\n"
   ]
  },
  {
   "cell_type": "markdown",
   "metadata": {},
   "source": [
    "Once you've created your arrays, run the code block below to visualize the convergence of the partial sums to the theoretical asymptote. \n",
    "\n",
    "<figure class=\"image\" style=\"width:50%\">\n",
    "  <img src=\"https://raw.githubusercontent.com/PhilChodrow/PIC16A/master/discussion/numpy_practice_II-example-1.png\" alt=\"\">\n",
    "  <figcaption><i>Expected output.</i></figcaption>\n",
    "</figure>"
   ]
  },
  {
   "cell_type": "code",
   "execution_count": null,
   "metadata": {},
   "outputs": [],
   "source": [
    "# run this once you've created the two needed arrays\n",
    "plt.plot(asymptote, label = r\"$\\pi^2/6$\")\n",
    "plt.scatter(np.arange(1, n_max+1), \n",
    "            partial_sums, \n",
    "            label = r\"$\\sum_{n = 1}^k \\frac{1}{n^2}$\", \n",
    "            edgecolors = \"black\",\n",
    "            facecolors = 'none')\n",
    "plt.gca().set(xlabel = \"k\")\n",
    "plt.legend()"
   ]
  },
  {
   "cell_type": "markdown",
   "metadata": {},
   "source": [
    "If you've made it this far, great! If there are fewer than 10 minutes remaining in Discussion, feel free to submit your assignment. Otherwise, continue on to Exercise 3. \n",
    "\n",
    "---\n",
    "\n",
    "## Exercise 3\n",
    "\n",
    "The *law of large numbers* asserts that, if $X_1,\\ldots,X_k$ is a sequence of independent and identically distributed random variables with mean $\\mu$, then, if $k$ is sufficiently large, \n",
    "$$\\frac{1}{k}\\sum_{n = 1}^kX_n = \\frac{1}{k}\\left(X_1 + X_2 + \\cdots + X_k\\right) \\approx \\mu\\;.$$\n",
    "\n",
    "Here is some random data:"
   ]
  },
  {
   "cell_type": "code",
   "execution_count": null,
   "metadata": {},
   "outputs": [],
   "source": [
    "# run this block\n",
    "\n",
    "k = 1000\n",
    "a = np.random.randn(k) + np.random.randn()"
   ]
  },
  {
   "cell_type": "markdown",
   "metadata": {},
   "source": [
    "Create a visualization, similar to the one in Exercise 2, that illustrates the law of large numbers for this data set. You'll need to first compute the required arrays. It's not necessary to worry about making attractive labels for the legend, but if you'd like to, you can use the raw strings `r\"$\\frac{1}{k}\\sum_{n = 1}^k X_n$\"` and `r\"$\\mu$\"` for the series labels. \n",
    "\n",
    "\n",
    "Save the mean in an **array called `m`**, which is simply `k` copies of the mean of the data. Then, compute the progressive partial means in an array **called `means`**. You'll want to check that both of these arrays have length `k`. \n",
    "\n",
    "<figure class=\"image\" style=\"width:50%\">\n",
    "  <img src=\"https://raw.githubusercontent.com/PhilChodrow/PIC16A/master/discussion/numpy_practice_II-example-2.png\" alt=\"\">\n",
    "  <figcaption><i>An example of what your output might look like. Yours will be slightly different, since we are working with random numbers.</i></figcaption>\n",
    "</figure>"
   ]
  },
  {
   "cell_type": "code",
   "execution_count": null,
   "metadata": {},
   "outputs": [],
   "source": [
    "# create the arrays here\n"
   ]
  },
  {
   "cell_type": "code",
   "execution_count": null,
   "metadata": {},
   "outputs": [],
   "source": [
    "# run this once you've created the two needed arrays\n",
    "plt.plot(m, label = r\"$\\mu$\")\n",
    "plt.scatter(np.arange(1, k+1), \n",
    "            means, \n",
    "            label = r\"$\\frac{1}{k}\\sum_{n = 1}^k X_n$\", \n",
    "            edgecolors = \"black\",\n",
    "            facecolors = 'none')\n",
    "plt.gca().set(xlabel = \"k\")\n",
    "plt.legend()"
   ]
  }
 ],
 "metadata": {
  "kernelspec": {
   "display_name": "Python 3",
   "language": "python",
   "name": "python3"
  },
  "language_info": {
   "codemirror_mode": {
    "name": "ipython",
    "version": 3
   },
   "file_extension": ".py",
   "mimetype": "text/x-python",
   "name": "python",
   "nbconvert_exporter": "python",
   "pygments_lexer": "ipython3",
   "version": "3.8.8"
  }
 },
 "nbformat": 4,
 "nbformat_minor": 4
}
