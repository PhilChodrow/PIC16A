{
 "cells": [
  {
   "cell_type": "markdown",
   "metadata": {},
   "source": [
    "# Finding a Path Through a Maze\n",
    "\n",
    "### Group Names and Roles\n",
    "\n",
    "- Partner 1 (Role)\n",
    "- Partner 2 (Role)\n",
    "- Partner 3 (Role)\n",
    "\n",
    "Don't forget to *rotate your roles*. The Driver from last time is now the Proposer, the Proposer from last time is now the Reviewer, and the Reviewer from last time is now the Driver. \n",
    "\n",
    "Additionally, don't forget that **it's ok not to finish the worksheet.** Just do your best, work on it for approximately 50 minutes, and turn it in. If you'd like to set up some time to finish it up with your group mates, that's great and will help you learn. If not, no worries! "
   ]
  },
  {
   "cell_type": "markdown",
   "metadata": {},
   "source": [
    "## Introduction \n",
    "\n",
    "In this activity, we'll write a program to find a path through the maze below. (**Walls** are yellow, and **passable space** is purple.) "
   ]
  },
  {
   "attachments": {
    "maze.png": {
     "image/png": "[encoded data removed]"
    }
   },
   "cell_type": "markdown",
   "metadata": {},
   "source": [
    "![maze.png](attachment:maze.png)"
   ]
  },
  {
   "cell_type": "markdown",
   "metadata": {},
   "source": [
    "We start the maze in the empty space at `(1, 0)` -- where we write the **row first**, followed by the column. At each step, we can move up, down, left, or right, but not diagonally. Our goal is to come out of the other side of the maze at `(7, 15)`."
   ]
  },
  {
   "cell_type": "markdown",
   "metadata": {},
   "source": [
    "Start by running the next cell."
   ]
  },
  {
   "cell_type": "code",
   "execution_count": null,
   "metadata": {},
   "outputs": [],
   "source": [
    "from matplotlib import pyplot as plt\n",
    "import copy"
   ]
  },
  {
   "cell_type": "markdown",
   "metadata": {},
   "source": [
    "In the above two lines, we are importing the modules we'll use for our program. `pyplot` from `matplotlib` will allow us to draw a picture of our maze, just like the one above. We will explain why we need `copy` once we get there."
   ]
  },
  {
   "cell_type": "markdown",
   "metadata": {},
   "source": [
    "Now, go ahead and run the following:"
   ]
  },
  {
   "cell_type": "code",
   "execution_count": null,
   "metadata": {},
   "outputs": [],
   "source": [
    "maze_str = \"\"\"\n",
    "++++++++++++++++\n",
    "  +      +     +\n",
    "+ + +++ ++ +++ +\n",
    "+   + +++  + +++\n",
    "+++       ++ + +\n",
    "+ ++ +++ ++    +\n",
    "+  + + + +  ++ +\n",
    "++   +     ++   \n",
    "++++++++++++++++\n",
    "    \"\"\"\n",
    "start = (1, 0)\n",
    "end = (7, 15)\n"
   ]
  },
  {
   "cell_type": "markdown",
   "metadata": {},
   "source": [
    "`maze_str` is a string representation of the maze from the picture above; `+` is a wall and a single space character is passable space. Note that triple quotes are used to define a string across multiple lines. `start` and `end` are the positions for where we start and where we want to end up in the maze, as explained in the beginning."
   ]
  },
  {
   "cell_type": "markdown",
   "metadata": {},
   "source": [
    "## §A. Write `build_maze()`\n",
    "\n",
    "\n",
    "\n",
    "\n",
    "In the code cell below, declare and implement the `build_maze` function. The function needs to take a string like `maze_str` and turn it into a two-dimensional list of integers (list of lists of integers), where the inner lists are rows of wall or empty space, `0` is empty space, and `1` is a wall.\n",
    "\n",
    "For instance, the list `[[1, 1, 1], [1, 1, 0], [1, 1, 1]]` would represent a 3x3 block of walls with an empty space carved out in the middle right.\n",
    "\n",
    "The function `build_maze` ought to take around 6 lines.\n",
    "\n",
    "**Note**: before you split the maze string across lines, you should call `.strip()` on it -- this will trim the whitespace from the ends of it.\n",
    "\n",
    "***Hint***: Use `str.split(\"\\n\")` to parse `maze_str` line-by-line. \n",
    "***Hint***: Recall that `L[-1]` refers to the final element of a list `L`. "
   ]
  },
  {
   "cell_type": "code",
   "execution_count": null,
   "metadata": {},
   "outputs": [],
   "source": [
    "# your code here\n"
   ]
  },
  {
   "cell_type": "markdown",
   "metadata": {},
   "source": [
    "## §B. Build and plot your maze. \n",
    "\n",
    "Run the code below to build and plot your maze. All you need to do for this part is press enter. (If your code from part A is correct, you should produce a picture identical to the one at the top.)"
   ]
  },
  {
   "cell_type": "code",
   "execution_count": null,
   "metadata": {},
   "outputs": [],
   "source": [
    "def plot_maze(maze):\n",
    "    '''\n",
    "    plt is shorthand for the matplotlib package we will learn about later in the course\n",
    "    imshow is used for displaying 2D Images\n",
    "    '''\n",
    "    plt.imshow(maze)\n",
    "    \n",
    "maze = build_maze(maze_str)\n",
    "plot_maze(maze)\n"
   ]
  },
  {
   "cell_type": "markdown",
   "metadata": {},
   "source": [
    "## §C. Write `choose_valid_move()`. \n",
    "\n",
    "In the next part, we will implement a `solve_maze()` function. Here's the idea: \n",
    "\n",
    "- Declare a list called `path` that keeps track of the path, containing only the tuple `start`. The last element of this list is your \"current position\". \n",
    "- In a loop:\n",
    "    - Replace the square in the maze at your current position with `2` -- a visited square. \n",
    "    - Then look for any adjacent square that you can move to which has not yet been visited. If there are no such squares, backtrack (throw away elements from the end of the path).\n",
    "\n",
    "**We will implement the above idea in part D. In this part, we will write a helper function called choose_valid_move.**  This function should take two inputs maze and pos, which store the maze and the current position. It should return a tuple called new which satisfies two criteria: i) new is adjacent to pos ii) there is not a wall at pos. If there is no valid move, your function should return None. My solution took exactly 5 lines, but it is okay if yours is different. \n",
    "\n",
    "**Note:** there are many ways to implement this function. It's sufficient for your function to choose *any* valid move. If there are multiple, you can pick one at random, always choose the first one you see, or any other approach."
   ]
  },
  {
   "cell_type": "code",
   "execution_count": null,
   "metadata": {},
   "outputs": [],
   "source": [
    "# your code here\n"
   ]
  },
  {
   "cell_type": "markdown",
   "metadata": {},
   "source": [
    "---\n",
    "\n",
    "If you've made it this far, great job! If there are more than 5 minutes left in Discussion, go ahead and continue on to the remaining parts, in which you'll use your functions from above to fully solve the maze. Otherwise, feel free to submit your worksheet. Finding some time to work with your group to complete the worksheet is optional but heartily recommended. \n",
    "\n",
    "---"
   ]
  },
  {
   "cell_type": "markdown",
   "metadata": {},
   "source": [
    "## §D. Write `solve_maze()`. \n",
    "\n",
    "Using the `choose_valid_move()` function that from above, write the `solve_maze` function according to the outline in §C.\n",
    "\n",
    "**Important technicality:** In order to mark the spaces already visited, you have to change the `maze` object passed to the function. Because lists are mutable, this will end up changing the original maze, which we want to avoid. In situations like this, the key is to make a copy. Normally, the syntax for this would be `myMaze=maze.copy()`. However, since maze is a list of lists, it is actually a *compound mutable object*. Therefore, the first line of your function should be `myMaze = copy.deepcopy(maze)`. \n",
    "\n",
    "Fill in the function below. It should take around 10-12 lines, not counting whitespace."
   ]
  },
  {
   "cell_type": "code",
   "execution_count": null,
   "metadata": {},
   "outputs": [],
   "source": [
    "# your code here\n"
   ]
  },
  {
   "cell_type": "markdown",
   "metadata": {},
   "source": [
    "After you write your function, run the line below:"
   ]
  },
  {
   "cell_type": "code",
   "execution_count": null,
   "metadata": {},
   "outputs": [],
   "source": [
    "path = solve_maze(maze, start, end)"
   ]
  },
  {
   "cell_type": "markdown",
   "metadata": {},
   "source": [
    "## §E. Write `plot_maze_solution()`. \n",
    "\n",
    "Lastly, write the `plot_maze_solution()` function in the code cell below. The function ought to take a maze and a path as arguments. You should then mark the squares along the path with value `2`. After you've done this, call `plot_maze()` on the marked maze. Remember to make a deep copy of the maze again, just as above, since otherwise you would be changing the original list that is passed as an argument to the function. This function ought to take around 4 lines."
   ]
  },
  {
   "cell_type": "code",
   "execution_count": null,
   "metadata": {},
   "outputs": [],
   "source": [
    "# your code here\n"
   ]
  },
  {
   "cell_type": "markdown",
   "metadata": {},
   "source": [
    "After you are done, run the line below to look at your solution. "
   ]
  },
  {
   "cell_type": "code",
   "execution_count": null,
   "metadata": {},
   "outputs": [],
   "source": [
    "plot_maze_solution(maze, path)"
   ]
  }
 ],
 "metadata": {
  "kernelspec": {
   "display_name": "Python 3",
   "language": "python",
   "name": "python3"
  },
  "language_info": {
   "codemirror_mode": {
    "name": "ipython",
    "version": 3
   },
   "file_extension": ".py",
   "mimetype": "text/x-python",
   "name": "python",
   "nbconvert_exporter": "python",
   "pygments_lexer": "ipython3",
   "version": "3.8.8"
  }
 },
 "nbformat": 4,
 "nbformat_minor": 4
}
