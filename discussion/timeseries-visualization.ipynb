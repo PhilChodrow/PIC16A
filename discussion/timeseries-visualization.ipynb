{
 "cells": [
  {
   "cell_type": "markdown",
   "metadata": {},
   "source": [
    "# Time Series Visualization\n",
    "\n",
    "### Group Members and Roles\n",
    "\n",
    "- Group Member 1 (Role)\n",
    "- Group Member 2 (Role)\n",
    "- Group Member 3 (Role)\n",
    "\n",
    "\n",
    "In this Discussion, we'll practice our skills with `numpy` indexing and `matplotlib` plotting. Our ultimate goal is to plot time series of several US financial equities, also known as ***stonks***. However, our data has been scrambled by our clumsy research assistant, and we need to unscramble it prior to plotting. \n",
    "\n",
    "\n",
    "## §1. Load the Data\n",
    "\n",
    "Run the code block below to load the data. \n",
    "\n",
    "- The function `pd.read_csv()` is used to read CSV files into a Python data structure called a *data frame*. We'll make good friends with data frames very, very soon. We won't be working with data frames directly -- instead, in the final three lines, we create three `numpy` arrays which will be our primary focus. \n",
    "- The function `pd.to_datetime()` is a utility to ensure that Python will interpret dates as objects with meaningful order, rather than strings. \n",
    "\n",
    "If the code below doesn't work for you, then you can instead directly download the file containing the data from CCLE (on the activity corresponding to this assignment) and save it in the same directory as this notebook. You would then substitute the `url` variable below with the path to the file. \n",
    "\n",
    "You can also try copying and pasting this code into a new code block and running it: \n",
    "\n",
    "```python\n",
    "import os, ssl\n",
    "if (not os.environ.get('PYTHONHTTPSVERIFY', '') andgetattr(ssl, '_create_unverified_context', None)):\n",
    "ssl._create_default_https_context = ssl._create_unverified_context\n",
    "\n",
    "```"
   ]
  },
  {
   "cell_type": "code",
   "execution_count": null,
   "metadata": {},
   "outputs": [],
   "source": [
    "# run this code block\n",
    "import numpy as np\n",
    "import pandas as pd # you'll learn much more about this line soon\n",
    "\n",
    "url = \"https://raw.githubusercontent.com/PhilChodrow/PIC16A/master/discussion/timeseries-sample-data.csv\"\n",
    "df = pd.read_csv(url)\n",
    "\n",
    "dates = np.array(pd.to_datetime(df[\"dates\"]))\n",
    "symbols = np.array(df[\"symbols\"])\n",
    "prices = np.array(df[\"prices\"])"
   ]
  },
  {
   "cell_type": "markdown",
   "metadata": {},
   "source": [
    "## §2. Explore the Data\n",
    "\n",
    "Each of these three arrays have the same shape, as you can check. The element `prices[i]` gives the closing price of the stock with symbol `symbols[i]` on day `dates[i]`. There are three stock symbols, represented by integers `0,1,2`. These symbols were chosen for no particular reason: \n",
    "\n",
    "```python\n",
    "symbol_dict = {\n",
    "    0 :  \"Gamestop\", # a brick-and-mortar video game store. \n",
    "    1 :  \"AMC\",      # an American movie theater chain.\n",
    "    2 :  \"Exxon\"     # a major oil company.\n",
    "}\n",
    "```\n",
    "\n",
    "For example, if `symbols[i] == 0`, then the corresponding entry `prices[i]` is the closing price of shares of Gamestop on day `dates[i]`. \n",
    "\n",
    "### What you should do\n",
    "\n",
    "Write a short function that uses `numpy` tools (no `for`-loops!) to print a message like the following: \n",
    "\n",
    "```python\n",
    "describe(0, dates, symbols, prices)\n",
    "```\n",
    "\n",
    "The `0` in the first argument corresponds to the Gamestop array. \n",
    "\n",
    "```\n",
    "There are 252 entries for symbol 0.\n",
    "The average value was 13.182539682539682.\n",
    "The max value was 347.0.\n",
    "The time period ran from 2020-02-03T00:00:00.000000000 to 2021-02-01T00:00:00.000000000.\n",
    "```\n",
    "\n",
    "Use your function to describe each of the three stock symbols. Note that you can use `np.min()` to extract the earliest date from `dates`.  Feel free to round relevant values if you'd like. Optionally, you can also make it so that your function prints the name of the symbol (like `\"Gamestop\"`) rather than the number `0`. \n",
    "\n",
    "***Hint***: Define a single Boolean array called `ix` which is `true` where the `symbols` array matches the input symbol (such as `0` for Gamestop). You can then use this Boolean array to easily obtain data subsets required to compute the other statistics.  "
   ]
  },
  {
   "cell_type": "code",
   "execution_count": null,
   "metadata": {},
   "outputs": [],
   "source": [
    "# solution\n"
   ]
  },
  {
   "cell_type": "markdown",
   "metadata": {},
   "source": [
    "## §3. Create a Figure\n",
    "\n",
    "Using `matplotlib`, create a figure with three axes stacked on top of each other, one for each stock symbol. Your figure will look best if it's roughly square. For this part, it's not necessary to place anything on the figure. \n",
    "\n",
    "Recall that the relevant syntax is \n",
    "\n",
    "```python\n",
    "fig, axarr = plt.subplots(num_plots, figsize)\n",
    "```\n",
    "\n",
    "Don't forget to import the `pyplot` module from `matplotlib`. \n",
    "\n",
    "At this stage, your output should look something like this: \n",
    "\n",
    "<figure class=\"image\" style=\"width:50%\">\n",
    "  <img src=\"https://raw.githubusercontent.com/PhilChodrow/PIC16A/master/discussion/timeseries-example-blank.png\" alt=\"\">\n",
    "  <figcaption><i></i></figcaption>\n",
    "</figure>"
   ]
  },
  {
   "cell_type": "code",
   "execution_count": null,
   "metadata": {},
   "outputs": [],
   "source": [
    "# your code here\n"
   ]
  },
  {
   "cell_type": "markdown",
   "metadata": {},
   "source": [
    "## §4. Plot Data\n",
    "\n",
    "Write a function called `plot_symbol(s, dates, symbols, prices, ax)`. This function, when called, should plot (i.e. `plt.plot()`) the price vs. date for the symbol `s` on the `ax` specified. Use your function to plot one of the three symbols on each of the three axes of your figure. If you're having trouble getting the figure to display, try copying the code from §3 into the same code block in which you call `plot_symbol`. \n",
    "\n",
    "You should see data plotted on each of the three axes. If it looks weird and very \"zig-zaggy,\" that's expected -- you'll fix it in the next part. \n",
    "\n",
    "At this stage, your output should look something like this: \n",
    "\n",
    "<figure class=\"image\" style=\"width:50%\">\n",
    "  <img src=\"https://raw.githubusercontent.com/PhilChodrow/PIC16A/master/discussion/timeseries-example-jumbled.png\" alt=\"\">\n",
    "  <figcaption><i></i></figcaption>\n",
    "</figure>"
   ]
  },
  {
   "cell_type": "code",
   "execution_count": null,
   "metadata": {},
   "outputs": [],
   "source": [
    "# your code here\n"
   ]
  },
  {
   "cell_type": "markdown",
   "metadata": {},
   "source": [
    "## §5. Sort and Plot\n",
    "\n",
    "The `plt.plot()` function is confused because the data is not sorted by date. Copy and paste your code from §4 into the block below. Then, modify the `plot_symbol()` function so that it sorts both date and the price data before plotting. \n",
    "\n",
    "A good way to do this is with `np.argsort`. The result of `np.argsort(a)` is an array `ix` such that `a[ix]` is sorted. You can then use, say, `b[ix]` to sort `b` in exactly the same order as you sorted `a`. \n",
    "\n",
    "Remember, you need to sort **by date**, not by stock value. \n",
    "\n",
    "At this stage, your output should look something like this: \n",
    "\n",
    "<figure class=\"image\" style=\"width:50%\">\n",
    "  <img src=\"https://raw.githubusercontent.com/PhilChodrow/PIC16A/master/discussion/timeseries-example-unlabeled.png\" alt=\"\">\n",
    "  <figcaption><i></i></figcaption>\n",
    "</figure>"
   ]
  },
  {
   "cell_type": "code",
   "execution_count": null,
   "metadata": {},
   "outputs": [],
   "source": [
    "# your code here\n"
   ]
  },
  {
   "cell_type": "markdown",
   "metadata": {},
   "source": [
    "## §6. Label and Annotate\n",
    "\n",
    "Label your plots. This includes:\n",
    "\n",
    "- Labels to the horizontal and vertical axes.\n",
    "- Informative axis titles indicating which plot corresponds to which stock symbol. Feel free to use the dictionary from the description of §2 to create the titles. \n",
    "\n",
    "Additionally, feel free to make any other modifications you would like to the plot. You can change the color of the trendlines, for example. Another common modification is to remove the top and right axis borders, which can be done for a single axis `ax` via the code: \n",
    "\n",
    "```\n",
    "ax.spines['right'].set_visible(False)\n",
    "ax.spines['top'].set_visible(False)\n",
    "\n",
    "ax.yaxis.set_ticks_position('left')\n",
    "ax.xaxis.set_ticks_position('bottom')\n",
    "```\n",
    "\n",
    "If your figure looks \"squished,\" calling `plt.tight_layout()` after your other plotting code can often help. \n",
    "\n",
    "Your output should look something like this: \n",
    "\n",
    "<figure class=\"image\" style=\"width:50%\">\n",
    "  <img src=\"https://raw.githubusercontent.com/PhilChodrow/PIC16A/master/discussion/timeseries-example-labeled.png\" alt=\"\">\n",
    "  <figcaption><i></i></figcaption>\n",
    "</figure>"
   ]
  },
  {
   "cell_type": "code",
   "execution_count": null,
   "metadata": {},
   "outputs": [],
   "source": [
    "# your code here\n"
   ]
  }
 ],
 "metadata": {
  "kernelspec": {
   "display_name": "Python 3",
   "language": "python",
   "name": "python3"
  },
  "language_info": {
   "codemirror_mode": {
    "name": "ipython",
    "version": 3
   },
   "file_extension": ".py",
   "mimetype": "text/x-python",
   "name": "python",
   "nbconvert_exporter": "python",
   "pygments_lexer": "ipython3",
   "version": "3.8.8"
  }
 },
 "nbformat": 4,
 "nbformat_minor": 4
}
