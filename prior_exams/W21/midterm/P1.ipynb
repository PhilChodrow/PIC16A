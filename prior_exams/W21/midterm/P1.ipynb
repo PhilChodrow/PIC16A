{
 "cells": [
  {
   "cell_type": "markdown",
   "metadata": {},
   "source": [
    "# Academic Integrity Statement\n",
    "\n",
    "As a matter of Departmental policy, **we are required to give you a 0** unless you **type your name** after the following statement: \n",
    "\n",
    "> *I certify on my honor that I have neither given nor received any help, or used any non-permitted resources, while completing this evaluation.*\n",
    "\n",
    "\\[TYPE YOUR NAME HERE\\]\n",
    "\n",
    "### Partial Credit\n",
    "\n",
    "Let us give you partial credit! If you're stuck on a problem and just can't get your code to run: \n",
    "\n",
    "First, **breathe**. Then, do any or all of the following: \n",
    "    \n",
    "1. Write down everything relevant that you know about the problem, as comments where your code would go. \n",
    "2. If you have non-functioning code that demonstrates some correct ideas, indicate that and keep it (commented out). \n",
    "3. Write down pseudocode (written instructions) outlining your solution approach. \n",
    "\n",
    "In brief, even if you can't quite get your code to work, you can still **show us what you know.**\n",
    "\n",
    "\n",
    "## Problem 1 (50 points)\n",
    "\n",
    "This problem has three parts which can be completed independently. "
   ]
  },
  {
   "cell_type": "markdown",
   "metadata": {},
   "source": [
    "## Part A (20 points)\n",
    "\n",
    "The code below is intended to model a PIC student who attends OH and uses what they learn to do better on future homework assignments. There are several functions intended to model this student's actions. The docstring correctly states the intended functionality of the class, but the code itself does not necessarily implement the docstring correctly. "
   ]
  },
  {
   "cell_type": "code",
   "execution_count": 4,
   "metadata": {},
   "outputs": [],
   "source": [
    "import random\n",
    "\n",
    "class PICStudent:\n",
    "    \"\"\"\n",
    "    A class representing a PIC student. \n",
    "    \n",
    "    Includes the following instance variables: \n",
    "    - name (string), the name of the student. \n",
    "    - understanding (int or float), the student's understanding of Python. \n",
    "    \n",
    "    Includes the following methods: \n",
    "    - add_name(), sets a user-specified value of name for the student. \n",
    "        No return value.\n",
    "    - say_hi(), prints a message containing the student's name. \n",
    "    - go_to_OH(), increases the student's understanding by one unit. \n",
    "        No return value.\n",
    "    - do_HW(), returns a score (int or float) out of 100 based on the student's \n",
    "        understanding of Python.\n",
    "    \"\"\"\n",
    "    pass\n",
    "\n",
    "def add_name(PCS, name):\n",
    "    if type(PCS) != PICStudent:\n",
    "        raise TypeError(\"This function is designed to work with objects of class PICStudent\")\n",
    "    PCS.name = name\n",
    "\n",
    "def say_hi(PCS, name):\n",
    "    print(\"Hello! My name is \" + str(self.name))\n",
    "\n",
    "def go_to_OH(PCS):\n",
    "    if type(PCS) != PICStudent:\n",
    "        raise TypeError(\"This function is designed to work with objects of class PICStudent\")\n",
    "    PCS.understanding += 1\n",
    "    \n",
    "def do_HW(PCS):\n",
    "    if type(PCS) != PICStudent:\n",
    "        raise TypeError(\"This function is designed to work with objects of class PICStudent\")\n",
    "    \n",
    "    score = max(75+25*random.random(), 25*PCS.understanding)\n",
    "    return score    "
   ]
  },
  {
   "cell_type": "code",
   "execution_count": 5,
   "metadata": {},
   "outputs": [],
   "source": [
    "pc = PICStudent()"
   ]
  },
  {
   "cell_type": "markdown",
   "metadata": {},
   "source": [
    "First, **critique** this solution. For full credit, state **four (4) distinct issues** in this code. Your issues should include one of each of the following types: \n",
    "\n",
    "- One way in which the code **does not match the docstring.** \n",
    "- One way in which an **unexpected exception** could be raised. \n",
    "- One way in which the code might give an **illogical or absurd output** without raising an exception. \n",
    "- One additional issue. This could be a second instance of one of the above categories, or an issue of a completely different type. \n",
    "\n",
    "There may be some overlap between these types of issues. For example, an illogical or absurd output could also be in contradiction of the docstring. In such a case, you can choose which category in which to count the issue, but must still describe a total of four distinct issues. \n",
    "\n",
    "Feel free to add code cells as needed to demonstrate your critiques. "
   ]
  },
  {
   "cell_type": "markdown",
   "metadata": {},
   "source": [
    "---\n",
    "\n",
    "*Double click this cell and write your critique*. \n",
    "\n",
    "---"
   ]
  },
  {
   "cell_type": "markdown",
   "metadata": {},
   "source": [
    "Second, **improve the code**. Write a modified version that (a) fully matches the supplied docstring and (b) fixes the issues that you indicated above. **It is not necessary to add new docstrings,** even if the old ones are no longer appropriate due to your changes. It is not necessary to demonstrate your code, although doing so may help us give you partial credit. "
   ]
  },
  {
   "cell_type": "code",
   "execution_count": null,
   "metadata": {},
   "outputs": [],
   "source": [
    "# your improvement\n"
   ]
  },
  {
   "cell_type": "markdown",
   "metadata": {},
   "source": [
    "## Part B (20 points)\n",
    "\n",
    "Write a class that matches the following docstring. You may find it helpful to consult the [lecture notes](https://nbviewer.jupyter.org/github/PhilChodrow/PIC16A/blob/master/content/object_oriented_programming/inheritance_I.ipynb) in which we first defined `ArithmeticDict()`. \n",
    "\n",
    "Then, demonstrate each of the examples given in the docstring. "
   ]
  },
  {
   "cell_type": "code",
   "execution_count": null,
   "metadata": {},
   "outputs": [],
   "source": [
    "class SubtractionDict(dict):\n",
    "    \"\"\"\n",
    "    a SubtractionDict includes all properties and methods of the dict class. \n",
    "    Additionally, implements dictionary subtraction via the - binary operator. \n",
    "    \n",
    "    If SD1 and SD2 are both SubtractionDicts whose values are numbers (ints or floats),\n",
    "    and if all values in SD1 are equal to or larger than their corresponding values in SD2, \n",
    "    then SD1 - SD2 is a new SubtractionDict whose keys are the keys of SD1 and whose values\n",
    "    are the difference in values between SD1 and SD2. Keys present in SD1 but not in SD2 are \n",
    "    handled as though they are present in SD2 with value 0. \n",
    "    \n",
    "    A ValueError is raised when: \n",
    "    1. SD2 contains keys not contained in SD1.\n",
    "    2. The result of subtraction would result in negative values. \n",
    "    \n",
    "    If subtraction would result in a value of exactly zero, the key is instead \n",
    "    removed from the result. \n",
    "    \n",
    "    Examples: \n",
    "    \n",
    "    # making strawberry-onion pie\n",
    "    SD1 = SubtractionDict({\"onions\" : 3, \"strawberries (lbs)\" : 2})\n",
    "    SD2 = SubtractionDict({\"onions\" : 1, \"strawberries (lbs)\" : 1})\n",
    "    SD1 - SD2 # == SubtractionDict({\"onions\" : 2, \"strawberries (lbs)\" : 1})\n",
    "    \n",
    "    # raises error\n",
    "    SD1 = SubtractionDict({\"onions\" : 3, \"strawberries (lbs)\" : 2})\n",
    "    SD2 = SubtractionDict({\"onions\" : 4, \"strawberries (lbs)\" : 1})\n",
    "    SD1 - SD2 # error\n",
    "    \n",
    "    # raises error\n",
    "    SD1 = SubtractionDict({\"onions\" : 3, \"strawberries (lbs)\" : 2})\n",
    "    SD2 = SubtractionDict({\"onions\" : 1, \"snozzberries (lbs)\" : 1})\n",
    "    SD1 - SD2 # error\n",
    "    \n",
    "    # key removed\n",
    "    SD1 = SubtractionDict({\"onions\" : 3, \"strawberries (lbs)\" : 2})\n",
    "    SD2 = SubtractionDict({\"onions\" : 1, \"strawberries (lbs)\" : 2})\n",
    "    SD1 - SD2 # == SubtractionDict({\"onions\" : 2})\n",
    "    \"\"\"\n",
    "    \n",
    "    # your code here \n",
    "    "
   ]
  },
  {
   "cell_type": "code",
   "execution_count": null,
   "metadata": {},
   "outputs": [],
   "source": [
    "# example 1\n"
   ]
  },
  {
   "cell_type": "code",
   "execution_count": null,
   "metadata": {},
   "outputs": [],
   "source": [
    "# example 2\n"
   ]
  },
  {
   "cell_type": "code",
   "execution_count": null,
   "metadata": {},
   "outputs": [],
   "source": [
    "# example 3\n"
   ]
  },
  {
   "cell_type": "code",
   "execution_count": null,
   "metadata": {},
   "outputs": [],
   "source": [
    "# example 4\n"
   ]
  },
  {
   "cell_type": "markdown",
   "metadata": {},
   "source": [
    "### Part C (10 points)\n",
    "\n",
    "It is not required to write any functioning code for this problem. \n",
    "\n",
    "**(I).** Document the `lookup()` function supplied below. You should include:\n",
    "\n",
    "- A few well-placed comments. \n",
    "- A docstring that makes clear what assumptions are made about the arguments and what the user can expect from the output. \n",
    "\n",
    "**(II).** Then, state what the `lookup()` function would do if `d` is a `SubtractionDict` from Part B. Would it be possible to access information from `d` in this case? If so, explain. If not, describe the smallest and most robust change that you could make so that the user could use `lookup()` to access information from `d` when `d` is a `SubtractionDict`. For full credit, your modified code should not explicitly mention `SubtractionDict`s. "
   ]
  },
  {
   "cell_type": "code",
   "execution_count": null,
   "metadata": {},
   "outputs": [],
   "source": [
    "def lookup(d, x, default = None):\n",
    "    \"\"\"\n",
    "    your docstring here\n",
    "    don't forget comments below! \n",
    "    \"\"\"\n",
    "    if type(d) != dict:   \n",
    "        raise TypeError(\"First argument must be a dict.\")\n",
    "    try:\n",
    "        return d[x]\n",
    "    except KeyError:\n",
    "        return default"
   ]
  },
  {
   "cell_type": "markdown",
   "metadata": {},
   "source": [
    "---\n",
    "\n",
    "*Respond to (II) here.*\n",
    "\n",
    "---"
   ]
  }
 ],
 "metadata": {
  "kernelspec": {
   "display_name": "Python 3",
   "language": "python",
   "name": "python3"
  },
  "language_info": {
   "codemirror_mode": {
    "name": "ipython",
    "version": 3
   },
   "file_extension": ".py",
   "mimetype": "text/x-python",
   "name": "python",
   "nbconvert_exporter": "python",
   "pygments_lexer": "ipython3",
   "version": "3.8.8"
  }
 },
 "nbformat": 4,
 "nbformat_minor": 4
}
