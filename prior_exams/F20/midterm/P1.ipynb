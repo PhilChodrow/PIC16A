{
 "cells": [
  {
   "cell_type": "markdown",
   "metadata": {},
   "source": [
    "# Academic Integrity Statement\n",
    "\n",
    "As a matter of Departmental policy, **we are required to give you a 0** unless you **type your name** after the following statement: \n",
    "\n",
    "> *I certify on my honor that I have neither given nor received any help, or used any non-permitted resources, while completing this evaluation.*\n",
    "\n",
    "\\[TYPE YOUR NAME HERE\\]"
   ]
  },
  {
   "cell_type": "markdown",
   "metadata": {},
   "source": [
    "# PIC16A: Midterm Exam, Problem 1\n",
    "\n",
    "This exam is graded out of 100 points. There are 55 points in Problem 1 and 45 points in Problem 2. Each problem is divided into multiple parts, some of which may be completed independently of others. The exam is intended to require approximately 90 minutes, and may be worked on at any time between the hours of 12:00am and 11:59, Pacific Time, on Friday, October 30th. You are free to work on the exam in excess of 90 minutes during this time period. \n",
    "\n",
    "**Permissible resources**: You may freely use lectures notes and videos; any **pre-existing** online resources; Google; etc. \n",
    "\n",
    "**Impermissible resources**: You may not collaborate with each other or solicit help from any in-person or online resources.\n",
    "\n",
    "**Example:** browsing an online Python forum is fine; posting on the forum is not. \n",
    "\n",
    "### Submission Expectations\n",
    "\n",
    "Each of the two notebooks should be submitted as .pdf files following the usual submission format. You should also include comments and docstrings in your class and function definitions unless stated otherwise. \n",
    "\n",
    "### Partial Credit\n",
    "\n",
    "Let us give you partial credit! \n",
    "\n",
    "1. Are you completely stuck on Part (A)? Can't get your code to run? Breathe, and write down (as a comment or \"docstring\") your approach. What is your idea? What have you tried so far? What is your best guess for what's not working? **We will give you partial credit for these notes**. \n",
    "2. Being stuck on Part (A) doesn't mean you can't do Part (B)! Do your best, and again write down everything you can think of that is relevant. Write the code that you would expect to run if part (A) were working. Explicitly state that you are unable to test your code in (B) because you couldn't get (A) to run. If your answers fully demonstrate understanding of the problem, then you can receive **up to full credit** this way. "
   ]
  },
  {
   "cell_type": "markdown",
   "metadata": {},
   "source": [
    "### Problem Intro\n",
    "\n",
    "In this problem, we'll construct a function for flagging potential spam emails. Here's an example spam email from Prof. Chodrow's inbox: \n",
    "\n",
    "```\n",
    "from: sender@domain.com\n",
    "to: me@ucla.edu\n",
    "subject: GREETING I NEED YOUR ASSISTANCE \n",
    "\n",
    "I need a foreign partner to enable me transport my investment capital and then Relocate with my family, honestly I wish I will discuss more and get along I need a partner because my investment capital is in my international account. Am interested in buying Properties, houses, building real estates, my capital for investment is ($16.5million USD) Meanwhile if there is any profitable investment that you have so much experience on it then we can join together as partners.\n",
    "```\n",
    "\n",
    "For this problem, you may assume that emails are provided as strings in the following format: the first line contains the `from` field, the second line contains the `to` field, the third line contains the subject. The fourth line is empty, and the fifth line contains the body text. \n",
    "\n",
    "### Part A (15 points)\n",
    "\n",
    "Write a function called `extract_fields()` that extracts the email address in the `from` field, the email address in the `to` field, the subject, and the body of the email, returning them as a `dict`. For example, the following code should work: "
   ]
  },
  {
   "cell_type": "code",
   "execution_count": null,
   "metadata": {},
   "outputs": [],
   "source": [
    "# run this block\n",
    "\n",
    "email1 = \"\"\"from: sender@domain.com\n",
    "to: me@ucla.edu\n",
    "subject: GREETING I NEED YOUR ASSISTANCE\n",
    "\n",
    "I need a foreign partner to enable me transport my investment capital and then Relocate with my family, honestly I wish I will discuss more and get along I need a partner because my investment capital is in my international account. Am interested in buying Properties, houses, building real estates, my capital for investment is ($16.5million USD) Meanwhile if there is any profitable investment that you have so much experience on it then we can join together as partners.\"\"\""
   ]
  },
  {
   "cell_type": "markdown",
   "metadata": {},
   "source": [
    "```python\n",
    "extract_fields(email) # function that you will define\n",
    "\n",
    "{'from': 'sender@domain.com',\n",
    " 'to': 'me@ucla.edu',\n",
    " 'subject': 'GREETING I NEED YOUR ASSISTANCE',\n",
    " 'body': 'I need a foreign partner to enable me transport my investment capital and then Relocate with my family, honestly I wish I will discuss more and get along I need a partner because my investment capital is in my international account. Am interested in buying Properties, houses, building real estates, my capital for investment is ($16.5million USD) Meanwhile if there is any profitable investment that you have so much experience on it then we can join together as partners.'}\n",
    "```\n",
    "\n",
    "**Demonstrate that your function replicates this result.** \n",
    "\n",
    "**Hint**: `s.split(\"\\n\")`, `s.split(\": \")`. Don't forget to add comments and docstrings! \n",
    "\n",
    "### Your Solution"
   ]
  },
  {
   "cell_type": "markdown",
   "metadata": {},
   "source": [
    "\n"
   ]
  },
  {
   "cell_type": "code",
   "execution_count": null,
   "metadata": {},
   "outputs": [],
   "source": [
    "# define extract_fields() here\n",
    "\n"
   ]
  },
  {
   "cell_type": "code",
   "execution_count": null,
   "metadata": {},
   "outputs": [],
   "source": [
    "# test code -- run but do not modify\n",
    "extract_fields(email1)"
   ]
  },
  {
   "cell_type": "markdown",
   "metadata": {},
   "source": [
    "### Part B (10 points)\n",
    "\n",
    "Write a function called `compute_spam_score()` that will, eventually, assign a **spam score** to an email based on the output of `extract_fields`. \n",
    "\n",
    "Your function should check that its input is a dictionary with keys `\"from\"`, `\"to\"`, `\"subject\"`, and `\"body\"`. It should additionally check that values associated to these keys are strings. If either the keys or values violate these conditions, raise an informative `ValueError`. \n",
    "\n",
    "At this stage, your function does not need to actually compute a score -- we'll do that in Part C. \n",
    "\n",
    "Since we are going to continue working on this function below, it is not necessary to supply comments or docstrings in this part. However, you should remember to do so in Part C. "
   ]
  },
  {
   "cell_type": "code",
   "execution_count": null,
   "metadata": {},
   "outputs": [],
   "source": [
    "# define compute_spam_score() here\n"
   ]
  },
  {
   "cell_type": "code",
   "execution_count": null,
   "metadata": {},
   "outputs": [],
   "source": [
    "# test code -- run but do not modify\n",
    "# should raise an exception stating that the from field is missing\n",
    "compute_spam_score({\"to\" : \"you\", \"subject\" : \"blah\", \"body\" : \"hi\"})"
   ]
  },
  {
   "cell_type": "code",
   "execution_count": null,
   "metadata": {},
   "outputs": [],
   "source": [
    "# test code -- run but do not modify\n",
    "# should raise an exception stating that the \"to\" field is not a string\n",
    "compute_spam_score({\"from\" : \"me\", \"to\" : 1, \"subject\" : \"blah\", \"body\" : \"hi\"})"
   ]
  },
  {
   "cell_type": "markdown",
   "metadata": {},
   "source": [
    "### Part C (20 points)\n",
    "\n",
    "Modify your function from Part B to execute the following calculation after running the tests on the input. If you did not complete Part B, you can still receive full credit on this part by defining a new function without the Part B code. \n",
    "\n",
    "Provided that no `ValueError` is raised, here's how to compute the spam score: \n",
    "\n",
    "Your *approved senders* are: "
   ]
  },
  {
   "cell_type": "code",
   "execution_count": null,
   "metadata": {},
   "outputs": [],
   "source": [
    "# NOTE: run this code block\n",
    "approved_senders = {\"friend1@ucla.edu\", \"friend2@ucla.edu\", \"friend3@ucla.edu\"}"
   ]
  },
  {
   "cell_type": "markdown",
   "metadata": {},
   "source": [
    "Your *flag words* are: \n",
    "\n"
   ]
  },
  {
   "cell_type": "code",
   "execution_count": null,
   "metadata": {},
   "outputs": [],
   "source": [
    "# NOTE: run this code block\n",
    "flag_words = {\n",
    "    \"prince\"     : 1.0,\n",
    "    \"capital\"    : 0.5,\n",
    "    \"deposit\"    : 1.0,\n",
    "    \"investment\" : 0.5,\n",
    "    \"bank\"       : 1.0,\n",
    "    \"account\"    : 2.0,\n",
    "    \"loan\"       : 1.0\n",
    "}"
   ]
  },
  {
   "cell_type": "markdown",
   "metadata": {},
   "source": [
    "The spam score starts at 0. Then: \n",
    "\n",
    "1. If the `from` email address is not on your approved senders, add `2.0` to the spam score. \n",
    "2. If the `subject` is in ALL CAPS, add `2.0` to the spam score. \n",
    "3. Then, each time a flag word is encountered in the `body`, add the corresponding value to the spam score. The flag words should be **case insensitive**: if `\"Deposit\"` is encountered, for example, then `1.0` should be added to the score. \n",
    "\n",
    "There are many ways to achieve the desired behavior. **For full credit in this problem, your solution should contain at least one example of a `try`-`except` block.** \n",
    "\n",
    "Example usage: \n",
    "\n",
    "```\n",
    "fields = extract_fields(email)\n",
    "compute_spam_score(fields)\n",
    "9.5\n",
    "```\n",
    "\n",
    "**Demonstrate that your function replicates this result.** \n",
    "\n",
    "\n",
    "\n",
    "\n",
    "\n",
    "Even if you did not completely solve Part A, it is still possible to receive full credit on this part. In this case, test your function using `fields` with value\n"
   ]
  },
  {
   "cell_type": "code",
   "execution_count": null,
   "metadata": {},
   "outputs": [],
   "source": [
    "# NOTE: run this code block\n",
    "fields = {'from': 'sender@domain.com',\n",
    " 'to': 'me@ucla.edu',\n",
    " 'subject': 'GREETING I NEED YOUR ASSISTANCE',\n",
    " 'body': 'I need a foreign partner to enable me transport my investment capital and then Relocate with my family, honestly I wish I will discuss more and get along I need a partner because my investment capital is in my international account. Am interested in buying Properties, houses, building real estates, my capital for investment is ($16.5million USD) Meanwhile if there is any profitable investment that you have so much experience on it then we can join together as partners.'}"
   ]
  },
  {
   "cell_type": "markdown",
   "metadata": {},
   "source": [
    "**Don't forget comments and docstrings!**\n",
    "\n",
    "### Your Solution"
   ]
  },
  {
   "cell_type": "code",
   "execution_count": null,
   "metadata": {},
   "outputs": [],
   "source": [
    "# define updated compute_spam_score() here\n"
   ]
  },
  {
   "cell_type": "code",
   "execution_count": null,
   "metadata": {},
   "outputs": [],
   "source": [
    "# test code: run but do not modify\n",
    "# should return 9.5\n",
    "compute_spam_score(extract_fields(email1))"
   ]
  },
  {
   "cell_type": "markdown",
   "metadata": {},
   "source": [
    "### Part D (10 points)\n",
    "\n",
    "Write a few sentences about how you might deploy this function in email systems. Would you use a threshold, where an email is sent to spam if the spam score is high enough? How would you pick the threshold? Would you use a different method? Would you modify the function we wrote in order to achieve more reliable results? What changes would you make, and why? \n",
    "\n",
    "**It is not required to write any code for this part**. \n",
    "\n",
    "It is possible to receive full credit on this problem even if you did not completely solve all of the previous parts. \n",
    "\n",
    "### Your Solution"
   ]
  },
  {
   "cell_type": "markdown",
   "metadata": {},
   "source": [
    " *Write here*. "
   ]
  }
 ],
 "metadata": {
  "kernelspec": {
   "display_name": "Python 3",
   "language": "python",
   "name": "python3"
  },
  "language_info": {
   "codemirror_mode": {
    "name": "ipython",
    "version": 3
   },
   "file_extension": ".py",
   "mimetype": "text/x-python",
   "name": "python",
   "nbconvert_exporter": "python",
   "pygments_lexer": "ipython3",
   "version": "3.8.8"
  }
 },
 "nbformat": 4,
 "nbformat_minor": 4
}
