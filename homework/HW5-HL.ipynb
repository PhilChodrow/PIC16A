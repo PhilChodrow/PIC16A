{
 "cells": [
  {
   "cell_type": "markdown",
   "metadata": {},
   "source": [
    "# Homework 5"
   ]
  },
  {
   "cell_type": "markdown",
   "metadata": {},
   "source": [
    "## Problem 1: Changing colors\n",
    "\n",
    "Take a picture of something and put the file in the same folder as this notebook. This will be a lot more fun if the picture has multiple colors!"
   ]
  },
  {
   "cell_type": "code",
   "execution_count": null,
   "metadata": {},
   "outputs": [],
   "source": [
    "import numpy as np\n",
    "from matplotlib import pyplot as plt\n",
    "import matplotlib.image as mpimg"
   ]
  },
  {
   "cell_type": "markdown",
   "metadata": {},
   "source": [
    "Write code below that reads your image file, saves it to a variable `img`, and plots it. You can copy paste code from the lecture."
   ]
  },
  {
   "cell_type": "markdown",
   "metadata": {},
   "source": [
    "my example:\n",
    "\n",
    "![image1.png](image1.png)\n",
    "\n"
   ]
  },
  {
   "cell_type": "code",
   "execution_count": null,
   "metadata": {},
   "outputs": [],
   "source": [
    "#your code here"
   ]
  },
  {
   "cell_type": "markdown",
   "metadata": {},
   "source": [
    "How many pixels does your image have?\n",
    "What are the minimum and maximum values of your image? What is the data type?\n",
    "\n",
    "You should use https://numpy.org/doc/stable/reference/generated/numpy.ndarray.dtype.html"
   ]
  },
  {
   "cell_type": "code",
   "execution_count": null,
   "metadata": {},
   "outputs": [],
   "source": [
    "# write and run code here that displays your answer\n"
   ]
  },
  {
   "cell_type": "markdown",
   "metadata": {},
   "source": [
    "Run the code below and concisely explain what it does in the comments."
   ]
  },
  {
   "cell_type": "code",
   "execution_count": null,
   "metadata": {},
   "outputs": [],
   "source": [
    "fig, ax = plt.subplots(1)\n",
    "\n",
    "# write here\n",
    "ax.set(xticks=[], yticks=[])\n",
    "\n",
    "# write something here that involves RGB\n",
    "ax.imshow(img[:,:,::-1])"
   ]
  },
  {
   "cell_type": "markdown",
   "metadata": {},
   "source": [
    "Let's apply a sepia filter to your picture. You've probably seen this effect in movies and photo apps: https://helpx.adobe.com/photoshop/key-concepts/sepia-tone.html\n",
    "\n",
    "The algorithm is actually very simple:\n",
    "1. Let R, G, B be the RGB channels of the image.\n",
    "2. Calculate:\n",
    "```\n",
    "newRed = 0.393*R + 0.769*G + 0.189*B\n",
    "newGreen = 0.349*R + 0.686*G + 0.168*B\n",
    "newBlue = 0.272*R + 0.534*G + 0.131*B\n",
    "```\n",
    "3. Clip newRed, newGreen, newBlue such that their values stay <= 255.\n",
    "4. Turn values of newRed, newGreen, newBlue to integers.\n",
    "5. Set newRed, newGreen, newBlue to be the new RGB channels of the image.\n",
    "\n",
    "Links that might be helpful:\n",
    "- https://numpy.org/doc/stable/reference/generated/numpy.minimum.html\n",
    "- https://numpy.org/doc/stable/reference/generated/numpy.ndarray.astype.html\n",
    "- https://numpy.org/doc/stable/reference/generated/numpy.dstack.html\n",
    "\n",
    "To get full credit:\n",
    "- No for loops over the pixels.\n",
    "- No modifying the original image.\n",
    "- Add a short docstring."
   ]
  },
  {
   "cell_type": "markdown",
   "metadata": {},
   "source": [
    "![image2.png](image2.png)"
   ]
  },
  {
   "cell_type": "code",
   "execution_count": null,
   "metadata": {},
   "outputs": [],
   "source": [
    "def make_sepia(img):\n",
    "    pass"
   ]
  },
  {
   "cell_type": "code",
   "execution_count": null,
   "metadata": {},
   "outputs": [],
   "source": [
    "#call the function here to show the image"
   ]
  },
  {
   "cell_type": "markdown",
   "metadata": {},
   "source": [
    "This time, turn your color image into black & white (grayscale). \n",
    "You need to:\n",
    "\n",
    "1. Take the average of the R, G, B channels.\n",
    "2. Turn them into integers.\n",
    "3. Set that as the new RGB channels of the image.\n",
    "4. Write a short docstring."
   ]
  },
  {
   "cell_type": "markdown",
   "metadata": {},
   "source": [
    "![image3.png](image3.png)"
   ]
  },
  {
   "cell_type": "code",
   "execution_count": null,
   "metadata": {},
   "outputs": [],
   "source": [
    "def make_grayscale(img):\n",
    "    pass"
   ]
  },
  {
   "cell_type": "code",
   "execution_count": null,
   "metadata": {},
   "outputs": [],
   "source": [
    "#call the function here to show the image"
   ]
  },
  {
   "cell_type": "markdown",
   "metadata": {},
   "source": [
    "(extra credit)\n",
    "\n",
    "Now that you can make grayscale images, let's try making it look old. Many photos have salt and pepper noises, which are just randomly occurring black and white pixels: https://en.wikipedia.org/wiki/Salt-and-pepper_noise.\n",
    "\n",
    "You need to:\n",
    "1. Turn your image grayscale by calling your function from the previous part.\n",
    "2. Based on the percent parameter `pct`, figure out how many pixels in your image will be modified. Set that number `n`.\n",
    "3. Randomly select `0.5n` pixels and set those pixel values to be 0.\n",
    "4. Randomly select `0.5n` pixels and set those pixel values to be 255.\n",
    "5. Write a short docstring.\n",
    "\n",
    "This might be useful: https://numpy.org/doc/stable/reference/random/generated/numpy.random.randint.html"
   ]
  },
  {
   "cell_type": "markdown",
   "metadata": {},
   "source": [
    "![image4.png](image4.png)"
   ]
  },
  {
   "cell_type": "code",
   "execution_count": null,
   "metadata": {},
   "outputs": [],
   "source": [
    "def salt_pepper_noise(img, pct):\n",
    "    pass"
   ]
  },
  {
   "cell_type": "code",
   "execution_count": null,
   "metadata": {},
   "outputs": [],
   "source": [
    "#call the function here to show the image"
   ]
  },
  {
   "cell_type": "markdown",
   "metadata": {},
   "source": [
    "Congratulations! You're basically Photoshop now!"
   ]
  },
  {
   "cell_type": "markdown",
   "metadata": {},
   "source": [
    "## Problem 2: Scatterplot Matrices\n",
    "\n",
    "Run the following code to download, import, and display a data set from the 2021 World Happiness Report. \n",
    "\n",
    "https://worldhappiness.report/ed/2021/"
   ]
  },
  {
   "cell_type": "code",
   "execution_count": null,
   "metadata": {},
   "outputs": [],
   "source": [
    "# if you experience ConnectionRefused errors, you may instead \n",
    "# copy the url into your browser and save the file manually\n",
    "\n",
    "import pandas as pd\n",
    "\n",
    "url = \"https://happiness-report.s3.amazonaws.com/2021/DataForFigure2.1WHR2021C2.xls\"\n",
    "happiness = pd.read_excel(url)\n",
    "\n",
    "# uncomment to see what the raw data looks like\n",
    "# happiness"
   ]
  },
  {
   "cell_type": "code",
   "execution_count": null,
   "metadata": {},
   "outputs": [],
   "source": [
    "# only take some of the columns\n",
    "happiness = happiness[happiness.columns[[0, 2, 13, 14, 15, 16, 17, 18]]]\n",
    "\n",
    "# add overall rank\n",
    "happiness.loc[:, \"Overall rank\"] = range(1, len(happiness)+1) \n",
    "\n",
    "# renaming columns\n",
    "cols = [c.replace(\"Explained by: \", \"\") for c in happiness.columns]\n",
    "cols[0] = \"Country or region\"\n",
    "cols[1] = \"Score\"\n",
    "cols[2] = \"GDP per capita\"\n",
    "happiness = happiness.rename(columns= dict(zip(happiness.columns, cols)))\n",
    "\n",
    "# switching column order\n",
    "cols = [\"Overall rank\"] + cols[:-1]\n",
    "happiness = happiness[cols]\n",
    "\n",
    "# save changed table to csv file\n",
    "happiness.to_csv('happiness_report_2021.csv', header=True)"
   ]
  },
  {
   "cell_type": "code",
   "execution_count": null,
   "metadata": {},
   "outputs": [],
   "source": [
    "happiness"
   ]
  },
  {
   "cell_type": "markdown",
   "metadata": {},
   "source": [
    "This is a `pandas` data frame. Observe the following: \n",
    "\n",
    "1. Each row corresponds to a country or region. \n",
    "2. The `Score` column is the overall happiness score of the country, evaluated via surveys. \n",
    "3. The other columns give indicators of different features of life in the country, including GDP, level of social support, life expectancy, freedom, generosity of compatriots, and perceptions of corruption in governmental institutions. \n",
    "\n",
    " You can extract each of these columns using dictionary-like syntax: \n",
    " \n",
    " ```python\n",
    " happiness[\"Score\"]\n",
    " ```\n",
    " \n",
    " ```\n",
    "0      7.769\n",
    "1      7.600\n",
    "2      7.554\n",
    "3      7.494\n",
    "4      7.488\n",
    "       ...  \n",
    "151    3.334\n",
    "152    3.231\n",
    "153    3.203\n",
    "154    3.083\n",
    "155    2.853\n",
    "Name: Score, Length: 156, dtype: float64\n",
    " ```\n",
    " \n",
    "Technically, this output is a `pandas` `Series`; however, in this context (and most others) it's fine to simply think of it as a 1-dimensional `np.array()`. "
   ]
  },
  {
   "cell_type": "markdown",
   "metadata": {},
   "source": [
    "### Part A\n",
    "\n",
    "As a warmup, create a scatterplot of the overall `Score` column against a numerical column of your choice. Give the horizontal and vertical axes appropriate labels. Discuss your result. Is there a correlation? Does that correlation make sense to you? "
   ]
  },
  {
   "cell_type": "code",
   "execution_count": null,
   "metadata": {},
   "outputs": [],
   "source": [
    "# plotting code here"
   ]
  },
  {
   "cell_type": "markdown",
   "metadata": {},
   "source": [
    "---\n",
    "\n",
    "*Discuss here*\n",
    "\n",
    "---"
   ]
  },
  {
   "cell_type": "markdown",
   "metadata": {},
   "source": [
    "## Part B\n",
    "\n",
    "That plot you made may have helped you understand whether or not there's a relationship between the overall happiness score and the variable that you chose to plot. However, there are several variables in this data set, and we don't want to manually re-run the plot for each pair of variables. Let's see if we can get a more systematic view of the correlations in the data. \n",
    "\n",
    "Write a function called `scatterplot_matrix()`, with arguments `cols` and `figsize`. The `cols` argument should be a list of strings, each of which are the name of one of the columns above, for example `cols = [\"Score\", \"GDP per capita\", \"Social support\"]`. Your function should create a *scatterplot matrix*, like this:  \n",
    "\n",
    "```python\n",
    "cols = [\"Score\", \n",
    "        \"GDP per capita\", \n",
    "        \"Social support\"]\n",
    "           \n",
    "scatterplot_matrix(cols,figsize = (7,7))\n",
    "```\n",
    "\n",
    "<figure class=\"image\" style=\"width:70%\">\n",
    "  <img src=\"scatterplot_matrix.png\" alt=\"A 3x3 grid of scatterplots, showing relationships between Score and GDP, Score and Social support, and GDP and Social support. The diagonal is blank. All three variables are strongly correlated with each other.\" width=\"400px\">\n",
    "</figure>\n",
    "\n",
    "There is a separate scatterplot for each possible pair of variables. In fact, there are two: one where the first variable is on the horizontal axis, and one where it's on the vertical axis. Some analysts prefer to remove half the plots to avoid redundancy, but you don't have to bother with that. The diagonal is empty, since there's no point in investigating the relationship between a variable and itself. \n",
    "\n",
    "Don't forget comments and docstrings! "
   ]
  },
  {
   "cell_type": "code",
   "execution_count": null,
   "metadata": {},
   "outputs": [],
   "source": [
    "# define your function\n",
    "def scatterplot_matrix(cols, figsize):\n",
    "    \"\"\"\n",
    "    Create a grid of scatterplots between each pair of the specified columns in the happiness\n",
    "    data set. \n",
    "    cols: a list of column names in the  happiness data set. Only these columns will be plotted. \n",
    "    figsize: the desired dimensions of the figure. \n",
    "    \"\"\"\n",
    "    pass"
   ]
  },
  {
   "cell_type": "code",
   "execution_count": null,
   "metadata": {},
   "outputs": [],
   "source": [
    "# test your code, several times if needed, and discuss the correlations you observe. \n",
    "# Add code cells if needed to show multiple outputs. "
   ]
  },
  {
   "cell_type": "markdown",
   "metadata": {},
   "source": [
    "## Part C\n",
    "\n",
    "The *correlation coefficient* is a measure of linear correlation between two variables. The correlation coefficient between $X$ and $Y$ is high if $X$ tends to be high when $Y$ is, and vice versa. Correlation coefficients lie in the interval $[-1, 1]$. \n",
    "\n",
    "`numpy` provides a function to conveniently compute the correlation coefficient between two or more variables. Find it, and then use it to add \"captions\" (as horizontal axis labels) to each panel of your plot giving the correlation coefficient between the plotted variables. For example, \n",
    "\n",
    "```python\n",
    "cols = [\"Score\", \n",
    "        \"GDP per capita\", \n",
    "        \"Social support\"]\n",
    "           \n",
    "scatterplot_matrix(cols,figsize = (7,7))\n",
    "```\n",
    "\n",
    "<figure class=\"image\" style=\"width:70%\">\n",
    "  <img src=\"scatterplot_matrix_with_cors.png\" alt=\"A 3x3 grid of scatterplots, showing relationships between Score and GDP, Score and Social support, and GDP and Social support. The diagonal is blank. All three variables are strongly correlated with each other. Correlation coefficients between 0.70 and 0.84 lie beneath each plot.\" width=\"400px\">\n",
    "</figure>\n",
    "\n",
    "It's not required that you add the Greek letter $\\rho$ (the classical symbol for correlation coefficients), but if you do want to, here's how. You can also tweak the rounding as desired.  \n",
    "\n",
    "```python\n",
    "ax.set(xlabel = r\"$\\rho$ = \" + str(np.round(my_number, 2)))\n",
    "```"
   ]
  },
  {
   "cell_type": "markdown",
   "metadata": {},
   "source": [
    "\n",
    "Run your code on several different subsets of the columns. Discuss your findings. What positive correlations do you observe? Do they make sense? Are there any negative correlations? Do the quantitative results match what you see \"by eye\"? \n",
    "\n",
    "If you were going to create a model to attempt to predict overall happiness from other indicators, which columns would you use? Why? \n",
    "\n",
    "---\n",
    "\n",
    "*Discuss here*\n",
    "\n",
    "---"
   ]
  },
  {
   "cell_type": "markdown",
   "metadata": {},
   "source": [
    "## Problem 3: Plotting Time Series\n",
    "\n",
    "Run the following code to download two time series data sets: \n",
    "- Historical data on the Dow Jones Industrial Average (a composite performance measure of the US stock market), retrieved from Yahoo Finance. \n",
    "- Cumulative COVID19 cases over time, from the [New York Times](https://github.com/nytimes/covid-19-data). "
   ]
  },
  {
   "cell_type": "code",
   "execution_count": null,
   "metadata": {},
   "outputs": [],
   "source": [
    "# run this block\n",
    "# if you experience ConnectionRefused errors, you may instead \n",
    "# copy the urls into your browser, save the files as DJI.csv \n",
    "# and COVID.csv respectively in the same directory as the notebook.\n",
    "# Then, in the lines using the function pd.read_csv(), replace \n",
    "# the url with \"DJI.csv\" and \"COVID.csv\" \n",
    "\n",
    "import datetime\n",
    "\n",
    "url = \"https://query1.finance.yahoo.com/v7/finance/download/%5EDJI?period1=1580750232&period2=1712372632&interval=1d&events=history&includeAdjustedClose=true\"\n",
    "DJI = pd.read_csv(url)\n",
    "DJI['date'] = pd.to_datetime(DJI['Date'])\n",
    "DJI.drop([\"Date\"], axis = 1)\n",
    "\n",
    "url = \"https://raw.githubusercontent.com/nytimes/covid-19-data/master/us.csv\"\n",
    "COVID = pd.read_csv(url)\n",
    "COVID['date'] = pd.to_datetime(COVID['date'])"
   ]
  },
  {
   "cell_type": "markdown",
   "metadata": {},
   "source": [
    "## Part A\n",
    "\n",
    "The series `COVID['cases']` is essentially a `numpy` array containing the cumulative case counts over time. The COVID19 case data  is cumulative, but we would like to see the number of new cases per day (i.e. as in [this kind of plot](https://www.google.com/search?q=covid+stats)). Check the documentation for the `np.diff` function and figure out what it does. Use it appropriately to construct a new array, called `per_day`, giving the number of new cases per day. Then, make a new array called `per_day_date` that gives the appropriate date for each case count. In particular, you will need to ensure that `per_day` and `per_day_date` have the same shape. "
   ]
  },
  {
   "cell_type": "code",
   "execution_count": null,
   "metadata": {},
   "outputs": [],
   "source": [
    "# your solution here"
   ]
  },
  {
   "cell_type": "code",
   "execution_count": null,
   "metadata": {},
   "outputs": [],
   "source": []
  },
  {
   "cell_type": "markdown",
   "metadata": {},
   "source": [
    "## Part B\n",
    "\n",
    "Create a figure with two very wide axes, one on top of the other (i.e. two rows, one column). Use the `sharex` argument of `plt.subplots()` to ensure that these two plots will share the same horizontal axis. \n",
    "\n",
    "Then: \n",
    "\n",
    "1. On the upper axis, plot the Dow Jones Industrial Average over time. For the horizontal axis use `DJI['date']`; the for the vertical use `DJI['Close']`. \n",
    "2. On the lower axis, plot the variables `per_day_date` and `per_day` to visualize the progress of the COVID19 pandemic over time. Use a different color for the time series. \n",
    "\n",
    "Give your plot horizontal and vertical axis labels. "
   ]
  },
  {
   "cell_type": "code",
   "execution_count": null,
   "metadata": {},
   "outputs": [],
   "source": [
    "#your code here"
   ]
  },
  {
   "cell_type": "markdown",
   "metadata": {},
   "source": [
    "## Part C\n",
    "\n",
    "The command \n",
    "\n",
    "```\n",
    "ax[0].axvspan(datetime.datetime(2020,6,1),\n",
    "              datetime.datetime(2020,6,30), \n",
    "              alpha = .3, \n",
    "              color = \"gray\")\n",
    "```\n",
    "\n",
    "will add a simple rectangular shade which can be used to highlight specific portions of a time-series. In the given code, this shade runs through the month of June 2020. Add at least two such rectangular shades to your figure corresponding to important time intervals. You can put two shades on one axis, or one on each. If you're not sure what time periods are important, just choose intervals at random. Feel free to modify the color and transparency as desired. You can modify your figure code from Part B -- no need for copy/paste. \n",
    "\n",
    "## Part D\n",
    "\n",
    "The command \n",
    "\n",
    "```\n",
    "ax[0].text(datetime.datetime(2020,9,15), \n",
    "           22000, \n",
    "           \"penguins?\\npenguins!\")\n",
    "```\n",
    "\n",
    "will add a fun text annotation to your plot, with the first letter in horizontal position corresponding to September 15th, and at vertical position 22,000. Annotate each of your shaded regions with a few words describing their significance. Again, just modify your Part B code. \n",
    "\n",
    "## Part E\n",
    "\n",
    "Add an overall title, spruce up your axis labels, and add anything else you think will make the plot look good. Again, you can just modify your Part B code, without copy/paste. \n",
    "\n",
    "Then, submit a job application at www.FiveThirtyEight.com and show Nate Silver your cool data visualization.  "
   ]
  },
  {
   "cell_type": "code",
   "execution_count": null,
   "metadata": {},
   "outputs": [],
   "source": []
  }
 ],
 "metadata": {
  "kernelspec": {
   "display_name": "Python 3 (ipykernel)",
   "language": "python",
   "name": "python3"
  },
  "language_info": {
   "codemirror_mode": {
    "name": "ipython",
    "version": 3
   },
   "file_extension": ".py",
   "mimetype": "text/x-python",
   "name": "python",
   "nbconvert_exporter": "python",
   "pygments_lexer": "ipython3",
   "version": "3.9.7"
  }
 },
 "nbformat": 4,
 "nbformat_minor": 4
}
