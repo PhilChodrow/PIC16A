{
 "cells": [
  {
   "cell_type": "markdown",
   "metadata": {},
   "source": [
    "# Homework 3\n",
    "\n",
    "### Released:\n",
    "### Due Date:\n",
    "### Name: [Your name]\n",
    "### Collaborators: [Your collaborators]"
   ]
  },
  {
   "cell_type": "markdown",
   "metadata": {},
   "source": [
    "This homework focuses on topics related to classes, inheritance, exceptions, and iterators.\n",
    "\n",
    "I encourage collaborating with your peers, but the final text, code, and comments in this homework assignment should still be written by you.\n",
    "\n",
    "**Submission instructions**: \n",
    "- Convert this notebook into a pdf file and submit it on GradeScope under \"HW3 - PDF\". \n",
    "- Compress files `PageRank.py`, and `utils.py` into one `HW3.zip`, and submit it to Gradescope under \"HW3 - Autograder\". Make sure the python files are at the top of the directory when you zip them, and don't change their name."
   ]
  },
  {
   "cell_type": "markdown",
   "metadata": {},
   "source": [
    "### PageRank\n",
    "\n",
    "What is the most important website on the internet? Who is the \"key player\" on a sports team? Which countries are the most central players in the world economy? There is no one correct answer to any of these questions, but there is a most profitable one. [PageRank](https://en.wikipedia.org/wiki/PageRank) is an algorithm for ranking individual elements of complex systems, invited by Sergey Brin and Larry Page. It was the first and most famous algorithm used by the Google Search engine, and it is fair to say that the internet as we know it today would not exist without PageRank. \n",
    "\n",
    "In this assignment, we will implement PageRank. There are many good ways to implement this algorithm, but in this assignment we will use our newfound skills with object-oriented programming and iterators. \n",
    "\n",
    "### How it works\n",
    "\n",
    "For the purposes of this example, let's assume that we are talking about webpages. PageRank works by allowing a \"random surfer\" to move around webpages by following links. Each time the surfer lands on a page, it then looks for all the links on that page. It then picks one at random and follows it, thereby arriving at the next page, where the process repeats. Because the surfer moves between linked pages, PageRank expresses an intuitive idea: **important pages are linked to other important pages.** [This diagram](https://en.wikipedia.org/wiki/PageRank#/media/File:PageRanks-Example.jpg) from Wikipedia gives a nice illustration. Note that more important webpages (higher PageRank) tend to be connected to other important webpages. \n",
    "\n",
    "<figure class=\"image\" style=\"width:50%\">\n",
    "  <img src=\"https://upload.wikimedia.org/wikipedia/en/thumb/8/8b/PageRanks-Example.jpg/1920px-PageRanks-Example.jpg\n",
    "\" alt=\"A set of 11 circles, with arrows between them. Some of the circles are larger than others, reflecting their high PageRank score. Large circles tend to be linked to other large circles by arrows.\" width=\"300px\">\n",
    "  <figcaption><i>A schematic for PageRank. </i></figcaption>\n",
    "</figure>\n",
    "\n",
    "\n",
    "(There's a small issue related to webpages that don't have any links, which we'll address later on in the assignment. This is the \"damping factor\" in the diagram, which comes into play when we implement \"teleportation\" below.)\n",
    "\n",
    "### Data\n",
    "\n",
    "This data set comes from the hit Broadway musical \"Hamilton.\"\n",
    "\n",
    "<figure class=\"image\" style=\"width:50%\">\n",
    "  <img src=\"https://upload.wikimedia.org/wikipedia/en/8/83/Hamilton-poster.jpg\" alt=\"The logo of the musical Hamilton, showing a silhouette dressed in period custom standing on top of a five-pointed star.\" width=\"300px\">\n",
    "  <figcaption><i>The Hamilton data set</i></figcaption>\n",
    "</figure>\n",
    "\n",
    "The good folks at [The Hamilton Project](http://hamilton.newtfire.org/) analyzed the script for us, obtaining data on **who talks about whom** in each of the show's songs. When character A mentions character B, we'll think of this as a *link* from A to B, suggesting that B might be important. \n",
    "\n",
    "Listening to the soundtrack while working is strongly recommended. "
   ]
  },
  {
   "cell_type": "code",
   "execution_count": 9,
   "metadata": {},
   "outputs": [],
   "source": [
    "# import functions and classes from other files.\n",
    "from utils import retrieve_data, read_data, describe, data_to_dictionary\n",
    "from PageRank import PageRankDiGraph, PageRankIterator"
   ]
  },
  {
   "cell_type": "markdown",
   "metadata": {},
   "source": [
    "## Problem 1\n",
    "\n",
    "### Part (a): Call `retrieve_data` and `read_data` with proper arguments\n",
    "\n",
    "In `utils.py`, take a look at the two functions that are already defined.\n",
    "The first one `retrieve_data` retrieves the data from the internet and saves it to your local computer, while the second `read_data` reads in the data from the local copy, producing a list of tuples. \n",
    "\n",
    "The Hamilton dataset lives at the following URL: \n",
    "\n",
    "`https://philchodrow.github.io/PIC16A/homework/HW3-hamilton-data.csv`\n",
    "\n",
    "Each row corresponds to a \"link\" between objects, and the pairs have format `mentioner, mentioned`.\n",
    "\n",
    "The cell below\n",
    "\n",
    "- sets the variable `url`,\n",
    "- calls `retrieve_data` and `read_data` with proper arguments\n",
    "- saves the return value of `read_data` in a variable called `data`. \n",
    "\n",
    "You don't need to change anything in this cell, but read and make sure you understand what the lines are doing. It's not important for you to understand the code inside these functions right now -- we'll discuss them in a coming week. "
   ]
  },
  {
   "cell_type": "code",
   "execution_count": 10,
   "metadata": {},
   "outputs": [],
   "source": [
    "url = \"https://philchodrow.github.io/PIC16A/homework/HW3-hamilton-data.csv\"\n",
    "\n",
    "fname = \"data.csv\"\n",
    "retrieve_data(url, fname)\n",
    "data = read_data(fname)"
   ]
  },
  {
   "cell_type": "markdown",
   "metadata": {},
   "source": [
    "### Part (b): Define `describe` in utils.py\n",
    "\n",
    "This would also be a good time to inspect the data to make sure you understand how it is structured. Write a function `describe` that describes the meaning of the `n`th row of `data`. Running `describe(data, 5)` on the Hamilton data set should print the following:\n",
    "```python\n",
    "\"Element 5 of the Hamilton data set is ('burr', 'betsy'). This means that Burr mentions Betsy in a song.\" \n",
    "```\n",
    "\n",
    "Please attend to capitalization and formatting. While the standard string concatenation operator `+` is completely fine for this task, the fancy `str.format()` function may make your code somewhat simpler. [This page](https://realpython.com/python-formatted-output/) has some useful examples in case you'd like to try this. "
   ]
  },
  {
   "cell_type": "code",
   "execution_count": null,
   "metadata": {},
   "outputs": [],
   "source": [
    "# test your describe function here"
   ]
  },
  {
   "cell_type": "markdown",
   "metadata": {},
   "source": [
    "### Part (c): Define `data_to_dictionary` in utils.py\n",
    "\n",
    "Write a function called `data_to_dictionary` that converts the data into a dictionary such that: \n",
    "\n",
    "1. There is a single key for each character in Hamilton. \n",
    "2. The value corresponding to each key is a list of the characters/airports to which that key links. The list should contain repeats if there are multiple links. \n",
    "\n",
    "Here's an example of the desired behavior on a fake data set. \n",
    "\n",
    "```python\n",
    "data = [(\"a\", \"b\"), \n",
    "        (\"a\", \"b\"), \n",
    "        (\"a\", \"c\"),\n",
    "        (\"b\", \"c\"),\n",
    "        (\"b\", \"a\")]\n",
    "        \n",
    "data_to_dictionary(data)\n",
    "\n",
    "# output\n",
    "{\"a\" : [\"b\", \"b\", \"c\"], \"b\" : [\"a\", \"c\"]}\n",
    "\n",
    "```"
   ]
  },
  {
   "cell_type": "code",
   "execution_count": null,
   "metadata": {},
   "outputs": [],
   "source": [
    "# run this code to test\n",
    "\n",
    "toy_data = [(\"a\", \"b\"), (\"a\", \"b\"), (\"a\", \"c\"), (\"b\", \"c\"), (\"b\", \"a\")]\n",
    "D = data_to_dictionary(toy_data)\n",
    "print(D)"
   ]
  },
  {
   "cell_type": "markdown",
   "metadata": {},
   "source": [
    "## Problem 2: Define `PageRankDiGraph` class in PageRank.py\n",
    "\n",
    "A **directed graph**, or DiGraph, is just a set of arrows (\"edges\") between objects (\"nodes\"). It is a natural way to represent data that represents one-way relationships, such as links from one webpage to another or mentions of one character by another. We already saw a directed graph above when we introduced the idea of PageRank. Here's a paired-down example. \n",
    "\n",
    "<figure class=\"image\" style=\"width:50%\">\n",
    "  <img src=\"https://computersciencewiki.org/images/c/c6/Directed_graph.png\" alt=\"Six circles, representing nodes, labeled A through F. There are directed arrows between certain pairs of nodes.\" width=\"300px\">\n",
    "  <figcaption><i>Example of a directed graph. </i></figcaption>\n",
    "</figure>\n",
    "\n",
    "Implement a `PageRankDiGraph` class according to the following specs. https://docs.python.org/3/reference/datamodel.html#special-method-names might be helpful. Let `G`, `G1`, `G2` be instances of `PageRankDiGraph`.\n",
    "\n",
    "- The `__init__` method should accept one argument, `data`, which you can expect to be a list of tuples like our Hamilton data. It should save `data` as `self.data`, then construct an instance variable `self.link_dict` which is simply the output of `data_to_dictionary` applied to the argument `data`.\n",
    "- `get_nodes` returns a list of all nodes in the graph.\n",
    "- Running `{character name} in G` should return `True` if the character is a node in the graph, `False` otherwise.\n",
    "- `print(G)` should print `PageRankDiGraph with {number of nodes} nodes and {number of edges} edges.`\n",
    "- `G1 + G2` returns a new instance of `PageRankDiGraph` that contains both the edges of `G1` and `G2`.\n",
    "- Define a method `self.linked_by(x)` which, when called, returns the list of characters that `x` connects to. Hint: It should be a one liner using `self.link_dict`.  \n",
    "\n",
    "Example: \n",
    "\n",
    "```python \n",
    "D = PageRankDiGraph(data)\n",
    "print(D.linked_by('peggy'))\n",
    "\n",
    "# output\n",
    "['peggy', 'schuylerSis']\n",
    "```"
   ]
  },
  {
   "cell_type": "code",
   "execution_count": null,
   "metadata": {},
   "outputs": [],
   "source": [
    "G = PageRankDiGraph(data)\n",
    "\n",
    "# test different methods of PageRankDiGraph here"
   ]
  },
  {
   "cell_type": "markdown",
   "metadata": {},
   "source": [
    "## Problem 3: Define `PageRankIterator` class in PageRank.py\n",
    "\n",
    "Define a `PageRankIterator` class that iterates through a `PageRankDiGraph` via a custom `__next__` method. \n",
    "\n",
    "When initialized, this class should create instance variables to store:\n",
    "- `graph`, the `PageRankDiGraph` instance, given as input\n",
    "- `iteration_limit`, an integer given as input,\n",
    "- `jump_prob`, a number between 0 and 1 (inclusive), given as input,\n",
    "- a counter `iter`, starting at 0, to log the number of steps taken,\n",
    "- `current_state` variable whose value is one of the keys of the `link_dict` of the `PageRankDiGraph`. You can choose its initial value arbitrarily; in my code I chose `self.current_state = \"hamilton\"`.\n",
    "\n",
    "Your `__init__` method should check that the input `graph` is an instance of `PageRankDiGraph`, and raise `TypeError` if it is not. Hint: which one of these would be useful? https://docs.python.org/3/library/functions.html \n",
    "\n",
    "We are going to use iteration to implement the PageRank algorithm. This  means we are going to imagine a surfer who is following the links in our data set. **Implement the following two methods:** \n",
    "\n",
    "1. `follow_link()`. \n",
    "    1. Pick a random new character mentioned by the current character, or new airport served by the current airport. Let's call this `next_state`. \n",
    "    2. If `next_state != current_state`, set `current_state` to `next_state`. \n",
    "    3. Otherwise (if `next_state == current_state`), teleport (see below). \n",
    "    4. You might run into `KeyError`s, in which case you should again teleport (use a `try-except` block). \n",
    "2. `teleport()`. \n",
    "    1. Set the current state to a new state (key of the link dict) completely at random. \n",
    "\n",
    "*Hint*: use `random.choice` from the `random` module to choose elements of lists. \n",
    "\n",
    "Finally, **implement** `__next__()`. `__next__()` should do `follow_link()` with `jump_prob`% probability, and do `teleport()` with `1-jump_prob`% probability. Then return the `current_state`. You should also define a custom `StopIteration` condition to ensure that only as many steps are taken as the `iteration_limit` supplied to the `PageRankDiGraph` initializer.\n",
    "\n",
    "1. To do something with 85% probability, use the following: \n",
    "\n",
    "```python\n",
    "if random.random() < 0.85:\n",
    "    # do the thing\n",
    "else:\n",
    "    # do the other thing\n",
    "```\n",
    "\n",
    "\n",
    "#### Example Usage\n",
    "\n",
    "After you define your class, run the following code and show that it works. Note: your precise sequence may be different from mine. \n",
    "\n",
    "```python\n",
    "I = PageRankIterator(G, 5, 0.6)\n",
    "for x in I:\n",
    "    print(x)\n",
    "    \n",
    "following link : current state = burr\n",
    "following link : current state = washington\n",
    "following link : current state = burr\n",
    "following link : current state = hamilton\n",
    "teleporting    : current state = washington\n",
    "```\n",
    "\n",
    "I have added printed messages here for you to more clearly see what should be happening, but it is not necessary for you to do this. It is sufficient for your output to look like: \n",
    "\n",
    "```python\n",
    "burr\n",
    "washington\n",
    "burr\n",
    "hamilton\n",
    "washington\n",
    "```"
   ]
  },
  {
   "cell_type": "code",
   "execution_count": null,
   "metadata": {},
   "outputs": [],
   "source": [
    "# test PageRankIterator here"
   ]
  },
  {
   "cell_type": "markdown",
   "metadata": {},
   "source": [
    "## Problem 4: Implement class `IterablePageRankDiGraph` from scratch in PageRank.py.\n",
    "\n",
    "`IterablePageRankDiGraph` is a subclass of `PageRankDiGraph`, and should inherit all of `PageRankDiGraph`'s methods. You need to define three methods, `__init__`, `__str__`, and `__iter__` such that:\n",
    "\n",
    "- At `__init__`, in addition to what initializing `PageRankDiGraph` requires, it should also get `iteration_limit` (default 20) and `jump_prob` (default 0.75), and save corresponding instance variables.\n",
    "- If `IG` is an instance of `IterablePageRankDiGraph`, `print(IG)` should print `IterablePageRankDiGraph with {number of nodes} nodes and {number of edges} edges.`\n",
    "- `__iter__` returns a new instance of `PageRankIterator` initialized with the `IterablePageRankDiGraph` instance, and its `iteration_limit` and `jump_prob` values.\n",
    "\n",
    "If successful, the following cell should run without throwing any errors."
   ]
  },
  {
   "cell_type": "code",
   "execution_count": null,
   "metadata": {},
   "outputs": [],
   "source": [
    "from PageRank import IterablePageRankDiGraph\n",
    "\n",
    "# test IterablePageRankDiGraph here"
   ]
  },
  {
   "cell_type": "markdown",
   "metadata": {},
   "source": [
    "## Problem 5\n",
    "\n",
    "### Part (a): Compute PageRank\n",
    "\n",
    "Finally, we are ready to compute the PageRank in our data set. Initialize a `PageRankDiGraph` with a large iteration limit (say, 1,000,000). We will let our surfer randomly move through the data set this many times. The number of times that the surfer visits state `x` is the PageRank score of `x`. \n",
    "\n",
    "Create a `dict` which logs how many times a given state appears when iterating through the `PageRankDiGraph`. \n",
    "\n",
    "#### Your Solution"
   ]
  },
  {
   "cell_type": "code",
   "execution_count": null,
   "metadata": {},
   "outputs": [],
   "source": [
    "# write your code here"
   ]
  },
  {
   "cell_type": "markdown",
   "metadata": {},
   "source": [
    "### Part (b): Display Your Result\n",
    "\n",
    "Use your favorite approach to show the results in sorted format, descending by PageRank score. The entries at the top should be the entries with highest PageRank. \n",
    "You may show either the complete list or just the top 10. \n",
    "\n",
    "Consider using the sort method of list https://docs.python.org/3/library/stdtypes.html#list.sort with an appropriate lambda expression  - `L.sort(key = lambda ...)`\n",
    "\n",
    "Check your code by comparing your top 10 to mine. Because we are using a randomized algorithm, your results will not agree exactly with mine, but they should be relatively close. If your top 10 list is very different, then you might want to revisit your previous solutions. \n",
    "\n",
    "My top 10 were: \n",
    "\n",
    "```\n",
    "[('hamilton', 101962),\n",
    " ('burr', 61948),\n",
    " ('washington', 57775),\n",
    " ('jefferson', 45480),\n",
    " ('jAdams', 32970),\n",
    " ('eliza', 32941),\n",
    " ('angelica', 31817),\n",
    " ('schuylerSis', 25556),\n",
    " ('madison', 24702),\n",
    " ('lafayette', 23070)]\n",
    "```\n",
    "\n",
    "What are the most important elements in the data set? Does it change with different jump probabilities in the iterator? Does it change with different initial states?"
   ]
  },
  {
   "cell_type": "code",
   "execution_count": null,
   "metadata": {},
   "outputs": [],
   "source": [
    "# write your code here"
   ]
  }
 ],
 "metadata": {
  "kernelspec": {
   "display_name": "Python 3 (ipykernel)",
   "language": "python",
   "name": "python3"
  },
  "language_info": {
   "codemirror_mode": {
    "name": "ipython",
    "version": 3
   },
   "file_extension": ".py",
   "mimetype": "text/x-python",
   "name": "python",
   "nbconvert_exporter": "python",
   "pygments_lexer": "ipython3",
   "version": "3.9.7"
  }
 },
 "nbformat": 4,
 "nbformat_minor": 4
}
