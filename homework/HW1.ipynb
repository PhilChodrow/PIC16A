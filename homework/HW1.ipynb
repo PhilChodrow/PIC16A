{
 "cells": [
  {
   "cell_type": "markdown",
   "metadata": {},
   "source": [
    "# Homework 1\n",
    "\n",
    "*Fill in your name and the names of any students who helped you below.* \n",
    "\n",
    "> I affirm that I personally wrote the text, code, and comments in this homework assignment. \n",
    "\n",
    "> I received help from \\[other student\\] who gave me suggestions on \\[problem\\].\n",
    "\n",
    "\\- \\[Your name\\]\n",
    "\n",
    "\n",
    "This homework focuses on topics related to basic data types, collections, and iterations. For each problem, place your solution below the **Solution** headers. \n",
    "\n",
    "## Submitting the Assignment\n",
    "\n",
    "Refer to [Expectations for Assignments](https://nbviewer.jupyter.org/github/PhilChodrow/PIC16A/blob/master/content/preliminaries/expectations_for_assignments.ipynb) for instructions on submitting this assignment. In particular, please attend to the following: \n",
    "\n",
    "1. Complex blocks of code have comments to help the reader understand what is going on. Blocks of code of under five lines usually don't require comments. \n",
    "2. Your assignment is submitted as a PDF on Gradescope. This PDF must be: \n",
    "    - Paginated (split into multiple pages of normal size). \n",
    "    - Marked on Gradescope. This entails indicating the page(s) on which each problem lies. \n",
    "    - **The reader may decline to grade your homework if you do not paginate and mark your submission!**\n",
    "\n",
    "\n"
   ]
  },
  {
   "cell_type": "markdown",
   "metadata": {},
   "source": [
    "## Problem 1\n",
    "\n",
    "### (a)\n",
    "\n",
    "Create a string variable `s` such that printing it yields the following result: \n",
    "\n",
    "***Hint***: If you use triple quote delimiters `\"\"\"`, you'll be able to stretch the string across multiple lines without manually typing special characters. However, careful use of special characters is also acceptable. \n",
    "\n",
    "```python\n",
    "print(s)\n",
    "```\n",
    "```\n",
    "Tired    : Doing math on your calculator. \n",
    "Wired    : Doing math in Python. \n",
    "Inspired : Training literal pythons to carry out long division using an abacus.\n",
    "```"
   ]
  },
  {
   "cell_type": "code",
   "execution_count": null,
   "metadata": {},
   "outputs": [],
   "source": [
    "# your solution here.\n",
    "# solutions using \\n are also acceptable. \n"
   ]
  },
  {
   "cell_type": "markdown",
   "metadata": {},
   "source": [
    "Next, write Python commands **which use `s`** to print the specified outputs. Feel free to use loops and comprehensions; however, keep your code as concise as possible. Each solution should require at most three short lines of code.  \n",
    "\n",
    "For full credit, you should minimize the use of positional indexing (e.g. `s[5:10]`) when possible. \n",
    "\n",
    "### (b)\n",
    "\n",
    "Output: \n",
    "\n",
    "```\n",
    "Tired    \n",
    "Doing math on your calculator. \n",
    "Wired    \n",
    "Doing math in Python. \n",
    "Inspired \n",
    "Training literal pythons to carry out long-division using an abacus.\n",
    "\n",
    "```"
   ]
  },
  {
   "cell_type": "code",
   "execution_count": null,
   "metadata": {},
   "outputs": [],
   "source": [
    "# your solution here. \n"
   ]
  },
  {
   "cell_type": "markdown",
   "metadata": {},
   "source": [
    "### (c)\n",
    "\n",
    "Output: \n",
    "\n",
    "```\n",
    "Tired\n",
    "Wired\n",
    "Inspired\n",
    "```\n",
    "\n",
    "**Hint**: look at the endings of words. A small amount of positional indexing might be handy here. "
   ]
  },
  {
   "cell_type": "code",
   "execution_count": null,
   "metadata": {},
   "outputs": [],
   "source": [
    "# your solution here. \n"
   ]
  },
  {
   "cell_type": "markdown",
   "metadata": {},
   "source": [
    "### (d)\n",
    "\n",
    "Output: \n",
    "\n",
    "```\n",
    "Tired    : Doing math on your calculator. \n",
    "Wired    : Doing math in Python. \n",
    "```\n",
    "\n",
    "**Hint**: These two lines are shorter than the other one.  \n"
   ]
  },
  {
   "cell_type": "code",
   "execution_count": null,
   "metadata": {},
   "outputs": [],
   "source": [
    "# your solution here. \n"
   ]
  },
  {
   "cell_type": "markdown",
   "metadata": {},
   "source": [
    "### (e)\n",
    "\n",
    "Output (note the lack of quotation marks). \n",
    "\n",
    "```\n",
    "Tired    : Doing data science on your calculator. \n",
    "Wired    : Doing data science in Python. \n",
    "Inspired : Training literal pythons to carry out machine learning using an abacus.\n",
    "```\n",
    "\n",
    "**Hint**: `str.replace`. \n"
   ]
  },
  {
   "cell_type": "code",
   "execution_count": null,
   "metadata": {},
   "outputs": [],
   "source": [
    "# your solution here. \n"
   ]
  },
  {
   "cell_type": "markdown",
   "metadata": {},
   "source": [
    "## Problem 2\n",
    "\n",
    "Write code which, given a list `L`, produces a dictionary `D` where: \n",
    "\n",
    "- The *keys* of `D` are the unique elements of `L` (i.e. each element of `L` appears only once). \n",
    "- The value `D[i]` is the number of times that `i` appears in list `L`. \n",
    "\n",
    "Demonstrate that your code works for lists of strings, lists of integers, and lists containing both strings and integers. (it's fine to copy and paste your code for this, although if you happen to know how to define functions then you might find that more efficient). **You should test your code on all three cases and visibly show the results in your submitted PDF.**\n",
    "\n",
    "\n",
    "\n",
    "### Example\n",
    "\n",
    "```python\n",
    "L = [\"a\", \"a\", \"b\", \"c\"]\n",
    "# your code here\n",
    "# ...\n",
    "D\n",
    "# output\n",
    "{\"a\" : 2, \"b\" : 1, \"c\" : 1}\n",
    "```\n",
    "\n",
    "### Attend to Efficiency\n",
    "\n",
    "A good way to solve this problem is using the `list.count()` method. However, you should carefully check the structure of your code to ensure that you are not calling `list.count()` an unnecessary number of times. Consider the supplied example above: how many times should `list.count()` be called? \n",
    "\n",
    "There are also other good solutions to this problem which do not use `list.count()`. Here as well, make sure that you are not performing unnecessary computations. "
   ]
  },
  {
   "cell_type": "markdown",
   "metadata": {},
   "source": [
    "## Solution"
   ]
  },
  {
   "cell_type": "code",
   "execution_count": null,
   "metadata": {},
   "outputs": [],
   "source": [
    "# your solution here.\n",
    "\n"
   ]
  },
  {
   "cell_type": "markdown",
   "metadata": {},
   "source": [
    "# Problem 3\n",
    "\n",
    "The `input()` function allows you to accept typed input from a user as a string. For example, \n",
    "\n",
    "```python\n",
    "x = input(\"Please enter an integer. \")\n",
    "# user types 7\n",
    "x\n",
    "# output \n",
    "'7'\n",
    "```\n",
    "\n",
    "Write code that prompts a user to input an odd `int`. If the user inputs an even `int`, the code should re-prompt them for an odd integer. After the user has entered an odd integer, the code should print a list of all numbers that the user input. \n",
    "\n",
    "The code `int(\"1\")` will convert strings composed of numerals into integers. You may assume that the user will only input such strings. \n",
    "\n",
    "*Hint*: Try `while` and associated tools. \n",
    "\n",
    "### Example\n",
    "\n",
    "```python\n",
    "\n",
    "# your code\n",
    "\n",
    "> Please enter an integer. 6\n",
    "> Please enter an integer. 8\n",
    "> Please enter an integer. 4\n",
    "> Please enter an integer. 9\n",
    "> [6, 8, 4, 9]\n",
    "\n",
    "```\n",
    "\n",
    "## Solution"
   ]
  },
  {
   "cell_type": "code",
   "execution_count": null,
   "metadata": {},
   "outputs": [],
   "source": [
    "# your solution here.\n"
   ]
  },
  {
   "cell_type": "markdown",
   "metadata": {},
   "source": [
    "# Problem 4"
   ]
  },
  {
   "cell_type": "markdown",
   "metadata": {},
   "source": [
    "Write list comprehensions which produce the specified list. Each list comprehension should fit on one line and be no longer than 80 characters. "
   ]
  },
  {
   "cell_type": "code",
   "execution_count": null,
   "metadata": {},
   "outputs": [],
   "source": [
    "                                                                      # 80 characters"
   ]
  },
  {
   "cell_type": "markdown",
   "metadata": {},
   "source": [
    "## (a) \n",
    "\n",
    "A list of the first 10 [triangular numbers](https://en.wikipedia.org/wiki/Triangular_number). The $i$th triangular number is the sum of the integers up to and including $i$. For example, the sixth triangular number is \n",
    "\n",
    "$$1+2+3+4+5+6 = 21\\;.$$\n",
    "\n",
    "The first element in your list should be 1, and the last one should be 55. \n",
    "\n",
    "#### Note\n",
    "\n",
    "Some of you may be familiar with the formula\n",
    "\n",
    "$$1 + 2 + 3 + \\cdots + (n-1) + n = \\frac{n(n+1)}{2}\\;,$$\n",
    "\n",
    "which is usually attributed to an 8-year-old Carl Friedrich Gauss (the same one after whom Gaussian elimination, Gauss's Theorem, Gaussian (normal) distributions, and many other mathematical constructs are named). **For full credit, you should not use this formula.**   \n",
    "\n",
    "### Solution"
   ]
  },
  {
   "cell_type": "code",
   "execution_count": null,
   "metadata": {},
   "outputs": [],
   "source": [
    "# your solution here.\n"
   ]
  },
  {
   "cell_type": "markdown",
   "metadata": {},
   "source": [
    "## (b)\n",
    "\n",
    "A list of the letters in a predefined string `s`, **except for vowels.** For the purposes of this example, an English vowel is any of the letters `[\"a\", \"e\", \"i\", \"o\", \"u\"]`. For example: \n",
    "\n",
    "```python\n",
    "s = \"make it so, number one\"\n",
    "# your code here\n",
    "# ...\n",
    "L\n",
    "# output\n",
    "[\"m\", \"k\", \"t\", \"s\", \"n\", \"m\", \"b\", \"r\", \"n\"]\n",
    "```\n",
    "You should also exclude spaces. It is ok to include punctuation.  \n",
    "\n",
    "*Hint:* Consider the following code: \n",
    "\n",
    "```python\n",
    "l = \"a\"\n",
    "l not in [\"e\", \"w\"]\n",
    "```\n",
    "\n",
    "### Solution"
   ]
  },
  {
   "cell_type": "code",
   "execution_count": null,
   "metadata": {},
   "outputs": [],
   "source": [
    "# your solution here.\n",
    "# longer solutions acceptable if they also handle\n",
    "# uppercase letters\n"
   ]
  },
  {
   "cell_type": "markdown",
   "metadata": {},
   "source": [
    "## (c)\n",
    "\n",
    "A list `L` whose elements are themselves lists. The `i`th element of `L` contains the powers of `X[i]` from `0` to `k`, where `X` is a list and `k` an integer that can be specified by the user. \n",
    "For example, \n",
    "\n",
    "```python\n",
    "X = [5, 6, 7]\n",
    "k = 2\n",
    "# your code here\n",
    "# ... \n",
    "L\n",
    "# output\n",
    "[[1, 5, 25], [1, 6, 36], [1, 7, 49]]\n",
    "```\n",
    "\n",
    "### Solution"
   ]
  },
  {
   "cell_type": "code",
   "execution_count": null,
   "metadata": {},
   "outputs": [],
   "source": [
    "# your solution here.\n",
    "\n"
   ]
  },
  {
   "cell_type": "markdown",
   "metadata": {},
   "source": [
    "## (d)\n",
    "\n",
    "\n",
    "As in **(c)**, but now include only even powers of `X`. For example, \n",
    "\n",
    "```python\n",
    "X = [5, 6, 7]\n",
    "k = 8\n",
    "# your code here\n",
    "# ...\n",
    "L\n",
    "# output\n",
    "[[1, 25, 625, 15625, 390625],\n",
    " [1, 36, 1296, 46656, 1679616],\n",
    " [1, 49, 2401, 117649, 5764801]]\n",
    "```\n",
    "\n",
    "### Solution"
   ]
  },
  {
   "cell_type": "code",
   "execution_count": null,
   "metadata": {},
   "outputs": [],
   "source": [
    "# your solution here.\n"
   ]
  },
  {
   "cell_type": "markdown",
   "metadata": {},
   "source": [
    "# Problem 5\n",
    "\n",
    "In this problem, we'll simulate the *simple random walk*, perhaps the most important discrete-time stochastic process. Random walks are commonly used to model phenomena in physics,  chemistry, biology, and finance. In the simple random walk, at each timestep we flip a fair coin. If heads, we move foward one step; if tails, we move backwards. Let \"forwards\" be represented by positive integers, and \"backwards\" be represented by negative integers. For example, if we are currently three steps backwards from the starting point, our position is `-3`. \n",
    "\n",
    "Write code to simulate a random walk. Your code should: \n",
    "\n",
    "- Specify an upper and lower bound -- once the walk reaches one of these two numbers, the process terminates. \n",
    "- Keep a log of the results of the coin flips. \n",
    "- Keep a log of the position of the walk at each time step. \n",
    "- When the walk reaches the upper or lower bound, print a message and terminate the walk. \n",
    "\n",
    "To simulate a coin flip, run the following code once: \n",
    "\n",
    "```python \n",
    "import random\n",
    "```\n",
    "\n",
    "Then, you can let `x` be the value of a fairly flipped coin by writing:\n",
    "\n",
    "```python\n",
    "x = random.choice([\"heads\",\"tails\"])\n",
    "```\n",
    "\n",
    "You don't have to use `\"heads\"` and `\"tails\"` when using this function -- can you think of a more useful choice set?\n",
    "\n",
    "**Your code should include at least one instance of an `elif` statement and at least one instance of a `break` statement**. (It is possible to write a good version of this code without these constructs; however, I am specifically asking you to demonstrate their use). \n",
    "\n",
    "## Example\n",
    "\n",
    "\n",
    "\n",
    "```python\n",
    "import random\n",
    "\n",
    "upper_bound = 10\n",
    "lower_bound = -10\n",
    "\n",
    "# your code here\n",
    "# ...\n",
    "\n",
    "# message\n",
    "Upper bound at 10 reached\n",
    "\n",
    "positions \n",
    "# output\n",
    "[1, 2, 1, 2, 1, 0, 1, 2, 3]\n",
    "```\n",
    "\n",
    "For full credit, you must display the list of previous positions by typing out the `positions` variable as above. \n",
    "\n",
    "**Optionally,** you may also enjoy visualizing the random walk. After your main code, run the following two lines to produce a plot. When the bounds are set very large, the resulting visualization can be quite intriguing and attractive. It is not necessary for you to understand the syntax of these commands at this stage -- we'll cover them later in the course. "
   ]
  },
  {
   "cell_type": "markdown",
   "metadata": {},
   "source": [
    "## Solution"
   ]
  },
  {
   "cell_type": "code",
   "execution_count": null,
   "metadata": {},
   "outputs": [],
   "source": [
    "# your solution here.\n",
    "\n"
   ]
  },
  {
   "cell_type": "code",
   "execution_count": null,
   "metadata": {},
   "outputs": [],
   "source": [
    "# run this to check that your positions list looks ok\n",
    "positions"
   ]
  },
  {
   "cell_type": "code",
   "execution_count": null,
   "metadata": {},
   "outputs": [],
   "source": [
    "# A longer walk \n",
    "# run your code here again and increase the number of steps (if you'd like)\n",
    "# then, run the code below\n"
   ]
  },
  {
   "cell_type": "code",
   "execution_count": null,
   "metadata": {},
   "outputs": [],
   "source": [
    "from matplotlib import pyplot as plt\n",
    "plt.plot(positions)"
   ]
  }
 ],
 "metadata": {
  "kernelspec": {
   "display_name": "Python 3",
   "language": "python",
   "name": "python3"
  },
  "language_info": {
   "codemirror_mode": {
    "name": "ipython",
    "version": 3
   },
   "file_extension": ".py",
   "mimetype": "text/x-python",
   "name": "python",
   "nbconvert_exporter": "python",
   "pygments_lexer": "ipython3",
   "version": "3.8.8"
  }
 },
 "nbformat": 4,
 "nbformat_minor": 4
}
