{
 "cells": [
  {
   "cell_type": "markdown",
   "metadata": {},
   "source": [
    "## Applications of Regular Expressions"
   ]
  },
  {
   "cell_type": "code",
   "execution_count": 1,
   "metadata": {},
   "outputs": [],
   "source": [
    "#import \n",
    "import re"
   ]
  },
  {
   "cell_type": "markdown",
   "metadata": {},
   "source": [
    "### Parsing URLs\n",
    "\n",
    "Some of the most informative pieces of information in a URL are: \n",
    "\n",
    "1. The security scheme (like `https`), \n",
    "3. The hostname (like `google`).\n",
    "4. The domain extension (like `.com` or `.edu`). \n",
    "5. The subdomain (like `/images`). \n",
    "\n",
    "Many websites insert `www` between the security scheme and hostname, websites hosted as subdomains skip this component. \n",
    "\n",
    "Let's write a regular expression to extract these pieces of information from a URL. Note that there are many ways to parse these data. "
   ]
  },
  {
   "cell_type": "code",
   "execution_count": 2,
   "metadata": {},
   "outputs": [],
   "source": [
    "s = \"\"\"\n",
    "    Our websites today are \n",
    "    https://www.ucla.edu/, \n",
    "    http://ccle.ucla.edu/, \n",
    "    https://www.google.com/images/, \n",
    "    and https://sites.google.com/view/perlmutma/home\n",
    "    \"\"\""
   ]
  },
  {
   "cell_type": "code",
   "execution_count": 3,
   "metadata": {},
   "outputs": [],
   "source": [
    "pattern = r\"(https*)://([www]+|[a-z]+)\\.([a-z]+)\\.([a-z]+)([/A-z0-9]*)\""
   ]
  },
  {
   "cell_type": "code",
   "execution_count": 4,
   "metadata": {},
   "outputs": [
    {
     "data": {
      "text/plain": [
       "[('https', 'www', 'ucla', 'edu', '/'),\n",
       " ('http', 'ccle', 'ucla', 'edu', '/'),\n",
       " ('https', 'www', 'google', 'com', '/images/'),\n",
       " ('https', 'sites', 'google', 'com', '/view/perlmutma/home')]"
      ]
     },
     "execution_count": 4,
     "metadata": {},
     "output_type": "execute_result"
    }
   ],
   "source": [
    "re.findall(pattern, s)"
   ]
  },
  {
   "cell_type": "markdown",
   "metadata": {},
   "source": [
    "We can now check, for example, whether a given website is a subdomain of another by checking whether `www` is the second element of the resulting tuples. "
   ]
  },
  {
   "cell_type": "markdown",
   "metadata": {},
   "source": [
    "# Parsing Unstructured Scientific Data\n",
    "\n",
    "Sometimes, data doesn't come to us neatly wrapped in CSV files. For example, consider the following: "
   ]
  },
  {
   "cell_type": "code",
   "execution_count": 5,
   "metadata": {},
   "outputs": [
    {
     "data": {
      "text/plain": [
       "'\\nAndrea    5:31\\nBen       5:02\\nCarl      6:21\\nDidi      5:10\\n'"
      ]
     },
     "execution_count": 5,
     "metadata": {},
     "output_type": "execute_result"
    }
   ],
   "source": [
    "data = \"\"\"\n",
    "Andrea    5:31\n",
    "Ben       5:02\n",
    "Carl      6:21\n",
    "Didi      5:10\n",
    "\"\"\"\n",
    "data"
   ]
  },
  {
   "cell_type": "markdown",
   "metadata": {},
   "source": [
    "Since it looks like these data represent times, let's parse the data into names, minutes, and seconds. "
   ]
  },
  {
   "cell_type": "code",
   "execution_count": 6,
   "metadata": {},
   "outputs": [],
   "source": [
    "#\\d in place of [0-9]\n",
    "pattern = r\"([A-z]+)\\s+(\\d+):(\\d+)\"\n"
   ]
  },
  {
   "cell_type": "code",
   "execution_count": 7,
   "metadata": {},
   "outputs": [
    {
     "data": {
      "text/plain": [
       "[('Andrea', '5', '31'),\n",
       " ('Ben', '5', '02'),\n",
       " ('Carl', '6', '21'),\n",
       " ('Didi', '5', '10')]"
      ]
     },
     "execution_count": 7,
     "metadata": {},
     "output_type": "execute_result"
    }
   ],
   "source": [
    "parsed = re.findall(pattern, data)\n",
    "parsed"
   ]
  },
  {
   "cell_type": "markdown",
   "metadata": {},
   "source": [
    "Now we can compute the total times in seconds: "
   ]
  },
  {
   "cell_type": "code",
   "execution_count": 8,
   "metadata": {},
   "outputs": [
    {
     "data": {
      "text/plain": [
       "{'Andrea': 331, 'Ben': 302, 'Carl': 381, 'Didi': 310}"
      ]
     },
     "execution_count": 8,
     "metadata": {},
     "output_type": "execute_result"
    }
   ],
   "source": [
    "{p[0] : 60*int(p[1]) + int(p[2]) for p in parsed}"
   ]
  },
  {
   "cell_type": "code",
   "execution_count": null,
   "metadata": {},
   "outputs": [],
   "source": []
  }
 ],
 "metadata": {
  "kernelspec": {
   "display_name": "Python 3",
   "language": "python",
   "name": "python3"
  },
  "language_info": {
   "codemirror_mode": {
    "name": "ipython",
    "version": 3
   },
   "file_extension": ".py",
   "mimetype": "text/x-python",
   "name": "python",
   "nbconvert_exporter": "python",
   "pygments_lexer": "ipython3",
   "version": "3.8.5"
  }
 },
 "nbformat": 4,
 "nbformat_minor": 4
}
