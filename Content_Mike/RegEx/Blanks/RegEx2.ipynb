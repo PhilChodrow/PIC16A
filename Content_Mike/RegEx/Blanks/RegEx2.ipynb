{
 "cells": [
  {
   "cell_type": "markdown",
   "metadata": {},
   "source": [
    "# Regular Expressions: Groups\n",
    "\n",
    "Suppose that we'd like to extract some email addresses from a body of text. For example: \n",
    "\n",
    "> Students should email me at michael.perlmutter.ucla@gmail.com. \n",
    "        Nonstudents should use perlmutter@math.ucla.edu.\n",
    "\n",
    "We'd like to extract the usernames and domains of each of these two email addresses. "
   ]
  },
  {
   "cell_type": "code",
   "execution_count": 2,
   "metadata": {},
   "outputs": [],
   "source": [
    "s = \"\"\"Students should email me at michael.perlmutter.ucla@gmail.com. \n",
    "        Nonstudents should use perlmutter@math.ucla.edu.\"\"\""
   ]
  },
  {
   "cell_type": "markdown",
   "metadata": {},
   "source": [
    "For this we can use **groups**. Groups allow us to give names to \"parts\" of matches, enabling further processing. \n",
    "\n",
    "Intuitively, we are looking for: \n",
    "\n",
    "1. **The username**: A sequence of one or more letters and numbers, possibly with a period followed by \n",
    "2. An `@` symbol, followed by  \n",
    "3. **The domain:** another sequence of characters, numbers, or the symbol `.`.\n",
    "4. We should not include the final `.` in the domain name for the string above \n",
    "\n",
    "To see how groups work, let's take a look at an interactive demonstration in [Pythex](https://pythex.org/). "
   ]
  },
  {
   "cell_type": "code",
   "execution_count": 3,
   "metadata": {},
   "outputs": [],
   "source": [
    "#import "
   ]
  },
  {
   "cell_type": "code",
   "execution_count": 1,
   "metadata": {},
   "outputs": [],
   "source": [
    "#Extract full email,\n",
    "#one of more letters, numbers, and periods followed by at\n",
    "#at is followed by more letters and periods, needs one letter after the last period\n"
   ]
  },
  {
   "cell_type": "markdown",
   "metadata": {},
   "source": [
    "We have extracted the first email, but now we need to create groups"
   ]
  },
  {
   "cell_type": "code",
   "execution_count": 4,
   "metadata": {},
   "outputs": [],
   "source": [
    "#so far we don't have anything meaningful\n"
   ]
  },
  {
   "cell_type": "markdown",
   "metadata": {},
   "source": [
    "We create groups with parentheses"
   ]
  },
  {
   "cell_type": "code",
   "execution_count": null,
   "metadata": {},
   "outputs": [],
   "source": []
  },
  {
   "cell_type": "code",
   "execution_count": null,
   "metadata": {},
   "outputs": [],
   "source": []
  },
  {
   "cell_type": "code",
   "execution_count": null,
   "metadata": {},
   "outputs": [],
   "source": []
  },
  {
   "cell_type": "markdown",
   "metadata": {},
   "source": [
    "Now, if we use findall, we get "
   ]
  },
  {
   "cell_type": "code",
   "execution_count": null,
   "metadata": {},
   "outputs": [],
   "source": []
  },
  {
   "cell_type": "code",
   "execution_count": null,
   "metadata": {},
   "outputs": [],
   "source": []
  }
 ],
 "metadata": {
  "kernelspec": {
   "display_name": "Python 3",
   "language": "python",
   "name": "python3"
  },
  "language_info": {
   "codemirror_mode": {
    "name": "ipython",
    "version": 3
   },
   "file_extension": ".py",
   "mimetype": "text/x-python",
   "name": "python",
   "nbconvert_exporter": "python",
   "pygments_lexer": "ipython3",
   "version": "3.8.5"
  }
 },
 "nbformat": 4,
 "nbformat_minor": 4
}
