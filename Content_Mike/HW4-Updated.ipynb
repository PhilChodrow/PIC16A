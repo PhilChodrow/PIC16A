{
 "cells": [
  {
   "cell_type": "markdown",
   "metadata": {},
   "source": [
    "# Homework 4"
   ]
  },
  {
   "cell_type": "markdown",
   "metadata": {},
   "source": [
    "## Problem 1\n",
    "\n",
    "Construct the following `numpy` arrays. For full credit, you should **not** use the code pattern `np.array(my_list)` in any of your answers, nor should you use `for`-loops or any other solution that involves creating or modifying the array one entry at a time. Instead use build in methods such as  reshape, linspace, or  arange.  Use of boolean indexing may also be helpful. \n",
    "\n",
    "### (A). \n",
    "\n",
    "```\n",
    "array([[0, 1],\n",
    "       [2, 3],\n",
    "       [4, 5],\n",
    "       [6, 7],\n",
    "       [8, 9]])\n",
    "```"
   ]
  },
  {
   "cell_type": "markdown",
   "metadata": {},
   "source": [
    "#### Your Solution"
   ]
  },
  {
   "cell_type": "code",
   "execution_count": 1,
   "metadata": {},
   "outputs": [],
   "source": [
    "# run this block to import numpy\n",
    "import numpy as np"
   ]
  },
  {
   "cell_type": "code",
   "execution_count": null,
   "metadata": {},
   "outputs": [],
   "source": []
  },
  {
   "cell_type": "markdown",
   "metadata": {},
   "source": [
    "### (B). \n",
    "\n",
    "```\n",
    "array([[0, 1, 2, 3, 4],\n",
    "       [5, 6, 7, 8, 9]])\n",
    "```\n",
    "\n",
    "#### Your Solution"
   ]
  },
  {
   "cell_type": "code",
   "execution_count": null,
   "metadata": {},
   "outputs": [],
   "source": []
  },
  {
   "cell_type": "markdown",
   "metadata": {},
   "source": [
    "### (C). \n",
    "\n",
    "```\n",
    "array([0. , 0.1, 0.2, 0.3, 0.4, 0.5, 0.6, 0.7, 0.8, 0.9, 1. ])\n",
    "```\n",
    "\n",
    "#### Your Solution"
   ]
  },
  {
   "cell_type": "code",
   "execution_count": null,
   "metadata": {},
   "outputs": [],
   "source": []
  },
  {
   "cell_type": "markdown",
   "metadata": {},
   "source": [
    "### (D). \n",
    "\n",
    "```\n",
    "array([ 1,  1,  1,  1,  1, 10, 10, 10, 10, 10])\n",
    "```\n",
    "\n",
    "#### Your Solution"
   ]
  },
  {
   "cell_type": "code",
   "execution_count": null,
   "metadata": {},
   "outputs": [],
   "source": []
  },
  {
   "cell_type": "markdown",
   "metadata": {},
   "source": [
    "### (E).\n",
    "```\n",
    "array([[30,  1,  2, 30,  4],\n",
    "       [ 5, 30,  7,  8, 30]])\n",
    "```\n",
    "\n",
    "#### Your Solution"
   ]
  },
  {
   "cell_type": "code",
   "execution_count": null,
   "metadata": {},
   "outputs": [],
   "source": []
  },
  {
   "cell_type": "markdown",
   "metadata": {},
   "source": [
    "### (F).\n",
    "\n",
    "```\n",
    "array([[ 5,  6,  7,  8,  9],\n",
    "       [10, 11, 12, 13, 14]])\n",
    "```\n",
    "#### Your Solution"
   ]
  },
  {
   "cell_type": "code",
   "execution_count": null,
   "metadata": {},
   "outputs": [],
   "source": []
  },
  {
   "cell_type": "markdown",
   "metadata": {},
   "source": [
    "### (G). \n",
    "\n",
    "```\n",
    "array([[ 1,  3],\n",
    "       [ 5,  7],\n",
    "       [ 9, 11],\n",
    "       [13, 15],\n",
    "       [17, 19]])\n",
    "```\n",
    "#### Your Solution"
   ]
  },
  {
   "cell_type": "code",
   "execution_count": null,
   "metadata": {},
   "outputs": [],
   "source": []
  },
  {
   "cell_type": "markdown",
   "metadata": {},
   "source": [
    "## Problem 2\n",
    "\n",
    "Consider the following array:\n",
    "\n",
    "```python\n",
    "A = np.arange(12).reshape(4, 3)\n",
    "A\n",
    "```\n",
    "```\n",
    "array([[ 0,  1,  2],\n",
    "       [ 3,  4,  5],\n",
    "       [ 6,  7,  8],\n",
    "       [ 9, 10, 11]])\n",
    "```\n",
    "\n",
    "Construct the specified arrays by indexing `A`. For example, if asked for `array([0, 1, 2])`, a correct answer would be `A[0,:]`. Each of the parts below may be performed in a single line. \n",
    "\n",
    "### (A). \n",
    "\n",
    "```\n",
    "array([6, 7, 8])\n",
    "```"
   ]
  },
  {
   "cell_type": "code",
   "execution_count": null,
   "metadata": {},
   "outputs": [],
   "source": [
    "# run this block to initialize A\n",
    "A = np.arange(12).reshape(4, 3)\n",
    "A"
   ]
  },
  {
   "cell_type": "markdown",
   "metadata": {},
   "source": [
    "#### Your Solution"
   ]
  },
  {
   "cell_type": "code",
   "execution_count": null,
   "metadata": {},
   "outputs": [],
   "source": []
  },
  {
   "cell_type": "markdown",
   "metadata": {},
   "source": [
    "### (B). \n",
    "\n",
    "```\n",
    "array([5, 8])\n",
    "```\n",
    "\n",
    "#### Your Solution"
   ]
  },
  {
   "cell_type": "code",
   "execution_count": null,
   "metadata": {},
   "outputs": [],
   "source": []
  },
  {
   "cell_type": "markdown",
   "metadata": {},
   "source": [
    "### (C). \n",
    "\n",
    "```\n",
    "array([ 6,  7,  8,  9, 10, 11])\n",
    "```\n",
    "\n",
    "#### Your Solution"
   ]
  },
  {
   "cell_type": "code",
   "execution_count": null,
   "metadata": {},
   "outputs": [],
   "source": []
  },
  {
   "cell_type": "markdown",
   "metadata": {},
   "source": [
    "### (D). \n",
    "\n",
    "```\n",
    "array([ 0,  2,  4,  6,  8, 10])\n",
    "```\n",
    "\n",
    "#### Your Solution"
   ]
  },
  {
   "cell_type": "code",
   "execution_count": null,
   "metadata": {},
   "outputs": [],
   "source": []
  },
  {
   "cell_type": "markdown",
   "metadata": {},
   "source": [
    "### (E). \n",
    "\n",
    "```\n",
    "array([ 0,  1,  2,  3,  4,  5, 11])\n",
    "```\n",
    "\n",
    "#### Your Solution"
   ]
  },
  {
   "cell_type": "code",
   "execution_count": null,
   "metadata": {},
   "outputs": [],
   "source": []
  },
  {
   "cell_type": "markdown",
   "metadata": {},
   "source": [
    "### (F). \n",
    "\n",
    "```\n",
    "array([ 4, 11])\n",
    "```\n",
    "\n",
    "#### Your Solution"
   ]
  },
  {
   "cell_type": "code",
   "execution_count": null,
   "metadata": {},
   "outputs": [],
   "source": []
  },
  {
   "cell_type": "markdown",
   "metadata": {},
   "source": [
    "## Problem 3\n",
    "\n",
    "In this problem, we will use `numpy` array indexing to repair an image that has been artificially separated into multiple pieces. The following code will retrieve two images, one of which has been cutout from the other. Your job is to piece them back together again. \n",
    "\n",
    "You've already seen `urllib.request.urlopen()` to retrieve online data. We'll play with `mpimg.imread()` a bit more in the future. The short story is that it produces a representation of an image as a `numpy` array of `RGB` values; see below. You'll see `imshow()` a lot more in the near future. To download the images, run the code below. (You just need to press enter.)"
   ]
  },
  {
   "cell_type": "code",
   "execution_count": 2,
   "metadata": {},
   "outputs": [
    {
     "data": {
      "text/plain": [
       "<matplotlib.image.AxesImage at 0x207c7edc4c0>"
      ]
     },
     "execution_count": 2,
     "metadata": {},
     "output_type": "execute_result"
    },
    {
     "data": {
      "image/png": "[encoded data removed]",
      "text/plain": [
       "<Figure size 432x288 with 2 Axes>"
      ]
     },
     "metadata": {
      "needs_background": "light"
     },
     "output_type": "display_data"
    }
   ],
   "source": [
    "import matplotlib.image as mpimg \n",
    "from matplotlib import pyplot as plt\n",
    "import urllib\n",
    "\n",
    "f    = urllib.request.urlopen(\"https://philchodrow.github.io/PIC16A/homework/main.jpg\")\n",
    "main = mpimg.imread(f, format = \"jpg\").copy()\n",
    "\n",
    "f     = urllib.request.urlopen(\"https://philchodrow.github.io/PIC16A/homework/cutout.jpg\")\n",
    "cutout= mpimg.imread(f, format = \"jpg\").copy()\n",
    "\n",
    "fig, ax = plt.subplots(1, 2)\n",
    "ax[0].imshow(main)\n",
    "ax[1].imshow(cutout)"
   ]
  },
  {
   "cell_type": "markdown",
   "metadata": {},
   "source": [
    "The images are stored as two `np.array`s `main` and `cutout`. Inspect each one. You'll observe that each is a 3-dimensional `np.array` of shape `(height, width, 3)`. The `3` in this case indicates that the color of each pixel is encoded as an RGB (Red-Blue-Green) value. Each pixel has one RGB value, each of which has three elements. \n",
    "\n",
    "Use array indexing to fix the image. The result should be that array `main` also contains the data for the face. This can be done just a few lines of carefully-crafted `numpy`. Once you're done, visualize the result by running the indicated code block. \n",
    "\n",
    "**The black region in `main` starts at row 0, and column 50**. You can learn more about its shape by inspecting the shape of `cutout`. "
   ]
  },
  {
   "cell_type": "code",
   "execution_count": null,
   "metadata": {},
   "outputs": [],
   "source": [
    "# your solution\n"
   ]
  },
  {
   "cell_type": "code",
   "execution_count": null,
   "metadata": {},
   "outputs": [],
   "source": [
    "# run this block to check your solution\n",
    "plt.imshow(main)"
   ]
  },
  {
   "cell_type": "markdown",
   "metadata": {},
   "source": [
    "## Problem 4\n",
    "\n",
    "### (A). Read about array  broadcasting\n",
    "\n",
    "One particularly nice thing about numpy arrays is that you can (sometimes) add them, even if they are different shapes. This is called *array* broadcasting. The three rules of broadcasting are:\n",
    "\n",
    "1) If one array has fewer dimenensions than the other, is one with fewer dimensions is padded with  ones __on the left__.\n",
    "\n",
    "__Example:__  If a has shape 3 and b has shape 1 by 3 and you try to type a+b, it will automatically pad a 1 to the start of a so that both arrays have shape 1 by 3.\n",
    "\n",
    "2) Suppose two arrays have the same number of dimensions, but different shapes. If one of shapes has length one along a given dimension, then that array is \"stretched out\" along that direction.\n",
    "\n",
    "__Example:__ Suppose A=array([1,2]) (shape is 2) an B=array(([1,2],[3,4])). Numpy first converts A to an array with shape (1,2) (by rule 1) and then converts it to an array with shape (2,2) by stretching it out, so the result is array([[1,2],[1,2]]). It does this conversion, then performs the addition so the final answer is A+B=array([2,4],[4,6])\n",
    "\n",
    "3) Suppose two arrays have the same number of dimensions, but different shapes along a given dimension. If neither has length one, then there is nothing you can do and an error is raised.\n",
    "\n",
    "__Example:__ If A has shape (3,4) and B has shape(4,3) then A+B will yield an error.\n",
    "\n",
    "For more information, and many more examples read [these notes](https://jakevdp.github.io/PythonDataScienceHandbook/02.05-computation-on-arrays-broadcasting.html) from the Python Data Science Handbook.\n",
    " \n",
    "\n",
    "### (B). - Review Unittest\n",
    "\n",
    "Review, if needed, the `unittest` module for constructing automated unit tests in Python. You may wish to refer to the [required reading](https://docs.python.org/3/library/unittest.html) from that week, the [lecture notes](https://nbviewer.jupyter.org/github/PhilChodrow/PIC16A/blob/master/content/IO_and_modules/modules/unit_testing.ipynb) or the lecture notes/videos. \n",
    "\n",
    "### (C). - Apply Unittest to Array Broadcasting\n",
    "\n",
    "Implement an automated test class called `TestBroadcastingRules` which tests the three rules of array broadcasting. \n",
    "\n",
    "> **Rule 1**: If the two arrays differ in their number of dimensions, the shape of the one with fewer dimensions is padded with ones on its leading (left) side.\n",
    "\n",
    "To test this rule, write a method `test_rule_1()` that constructs the arrays:\n",
    "\n",
    "```\n",
    "a = np.ones(3)\n",
    "b = np.arange(3).reshape(1, 3) \n",
    "c = a + b\n",
    "```\n",
    "\n",
    "Then, within the method, check (a) that the `shape` of `c` has the value you would expect according to Rule 1 and (b) that the final entry of `c` has the value that you would expect. **Note:** you should use `assertEqual()` twice within this method. \n",
    "\n",
    "In a docstring to this method, explain how this works. In particular, explain which of `a` or `b` is broadcasted, and what its new shape is according to Rule 1. You should also explain the value of the final entry of `c`. \n",
    "\n",
    "> **Rule 2**: If the shape of the two arrays does not match in any dimension, the array with shape equal to 1 in that dimension is stretched to match the other shape.\n",
    "\n",
    "To test this rule, write a method `test_rule_2()` that constructs the following two arrays: \n",
    "\n",
    "```\n",
    "a = np.ones((1, 3))\n",
    "b = np.arange(9).reshape(3, 3)\n",
    "c = a + b\n",
    "```\n",
    "\n",
    "Then, within the method, check (a) that the `shape` of `c` has the value you would expect according to Rule 2 and (b) that the entry `c[1,2]` has the value that you would expect.  You should again use `assertEqual()` twice within this method. \n",
    "\n",
    "In a docstring to this method, explain how this works. In particular, explain which of `a` or `b` is broadcasted, and what its new shape is according to Rule 2. You should also explain the value of the entry `c[1,2]`. \n",
    "\n",
    "> **Rule 3**: If in any dimension the sizes disagree and neither is equal to 1, an error is raised.\n",
    "\n",
    "To test this rule, write a method `test_rule_3` that constructs the arrays \n",
    "\n",
    "```\n",
    "a = np.ones((2, 3))\n",
    "b = np.ones((3, 3))\n",
    "```\n",
    "\n",
    "It should then attempt to construct `c = a + b`. The test should *pass* if the Rule 3 error is raised, and fail otherwise. You will need to figure out what kind of error is raised by Rule 3 (is it a `TypeError`? `ValueError`? `KeyError`?). You will also need to handle the error using the `assertRaises()` method as demonstrated in the readings. \n",
    "\n",
    "In a docstring to this method, explain why an error is raised according to Rule 3. \n",
    "\n",
    "You should be able to perform the unit tests like this: \n",
    "\n",
    "```\n",
    "tester = TestBroadcastingRules()\n",
    "tester.test_rule_1()\n",
    "tester.test_rule_2()\n",
    "tester.test_rule_3()\n",
    "```\n",
    "\n",
    "Your tests have passed if no output is printed when you run this code. \n",
    "\n",
    "### Your Solution"
   ]
  },
  {
   "cell_type": "code",
   "execution_count": null,
   "metadata": {},
   "outputs": [],
   "source": [
    "# write your tester class here\n"
   ]
  },
  {
   "cell_type": "code",
   "execution_count": null,
   "metadata": {},
   "outputs": [],
   "source": [
    "# run your tests\n",
    "# your tests have passed if no output or errors are shown. \n",
    "\n",
    "tester = TestBroadcastingRules()\n",
    "tester.test_rule_1()\n",
    "tester.test_rule_2()\n",
    "tester.test_rule_3()"
   ]
  },
  {
   "cell_type": "markdown",
   "metadata": {},
   "source": [
    "# Problem 5\n",
    "\n",
    "Recall the simple random walk.  At each step, we flip a fair coin. If heads, we move \"foward\" one unit; if tails, we move \"backward.\" \n",
    "\n",
    "## (A).\n",
    "\n",
    "Way back in Homework 1, you wrote some code to simulate a random walk in Python. \n",
    "\n",
    "Start with this code, or use posted solutions for HW1. Modify your code, and enclose it in a function `rw()`. This function should accept a single argument `n`, the length of the walk. The output should be a list giving the position of the random walker, starting with the position after the first step. For example, \n",
    "\n",
    "```python\n",
    "rw(5)\n",
    "[1, 2, 3, 2, 3]\n",
    "```\n",
    "\n",
    "__Unlike in the HW1 problem, you should not use upper or lower bounds.__ The walk should always run for as long as the user-specified number of steps `n`. \n",
    "\n",
    "Use your function to print out the positions of a random walk of length `n = 10`. \n",
    "\n",
    "Don't forget a helpful docstring! "
   ]
  },
  {
   "cell_type": "code",
   "execution_count": 1,
   "metadata": {},
   "outputs": [],
   "source": [
    "# solution (with demonstration) here\n"
   ]
  },
  {
   "cell_type": "markdown",
   "metadata": {},
   "source": [
    "## (B).\n",
    "\n",
    "Now create a function called `rw2(n)`, where the argument `n` means the same thing that it did in Part A. Do so using `numpy` tools. Demonstrate your function as above, by creating a random walk of length 10. You can (and should) return your walk as a `numpy` array. \n",
    "\n",
    "**Requirements**: \n",
    "\n",
    "- No for-loops. \n",
    "- This function is simple enough to be implemented as a one-liner of fewer than 80 characters, using lambda notation. Even if you choose not to use lambda notation, the body of your function definition should be no more than three lines long. Importing `numpy` does not count as a line. \n",
    "- A docstring is required if and only if you take more than one line to define the function. \n",
    "\n",
    "**Hints**:\n",
    "\n",
    "- Check the documentation for `np.random.choice()`. \n",
    "- Discussion 9. \n",
    "- Use the aggreation functions. (Not sum, but...) "
   ]
  },
  {
   "cell_type": "code",
   "execution_count": 2,
   "metadata": {},
   "outputs": [],
   "source": [
    "# solution (with demonstration) here\n"
   ]
  },
  {
   "cell_type": "markdown",
   "metadata": {},
   "source": [
    "## (C).\n",
    "\n",
    "Use the `%timeit` magic macro to compare the runtime of `rw()` and `rw2()`. Test how each function does in computing a random walk of length `n = 10000`. "
   ]
  },
  {
   "cell_type": "code",
   "execution_count": 3,
   "metadata": {},
   "outputs": [],
   "source": [
    "# solution (with demonstration) here\n"
   ]
  },
  {
   "cell_type": "markdown",
   "metadata": {},
   "source": [
    "## (D).\n",
    "\n",
    "Write a few sentences in which you comment on (a) the performance of each function and (b) the ease of writing and reading each function. "
   ]
  },
  {
   "cell_type": "markdown",
   "metadata": {},
   "source": [
    "*Your discussion here*"
   ]
  },
  {
   "cell_type": "code",
   "execution_count": null,
   "metadata": {},
   "outputs": [],
   "source": []
  }
 ],
 "metadata": {
  "kernelspec": {
   "display_name": "Python 3",
   "language": "python",
   "name": "python3"
  },
  "language_info": {
   "codemirror_mode": {
    "name": "ipython",
    "version": 3
   },
   "file_extension": ".py",
   "mimetype": "text/x-python",
   "name": "python",
   "nbconvert_exporter": "python",
   "pygments_lexer": "ipython3",
   "version": "3.8.5"
  }
 },
 "nbformat": 4,
 "nbformat_minor": 4
}
