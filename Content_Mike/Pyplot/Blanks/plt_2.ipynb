{
 "cells": [
  {
   "cell_type": "markdown",
   "metadata": {},
   "source": [
    "# 2d Plotting\n",
    "\n",
    "Often we want to visualize data with two independent variables. In this case, your \"go-to\" function should usually be `plt.imshow()`. Let's see how it works. \n",
    "\n",
    "__In order to follow along:__ Please make sure that the file Troy.jpg is in the same folder as this notebook"
   ]
  },
  {
   "cell_type": "code",
   "execution_count": 1,
   "metadata": {},
   "outputs": [],
   "source": [
    "#standard imports"
   ]
  },
  {
   "cell_type": "markdown",
   "metadata": {},
   "source": [
    "## Mathematical Functions"
   ]
  },
  {
   "cell_type": "markdown",
   "metadata": {},
   "source": [
    "Here's how we'll plot the function \n",
    "\n",
    "$$z = \\sin(x) + \\cos(y)$$"
   ]
  },
  {
   "cell_type": "code",
   "execution_count": 2,
   "metadata": {},
   "outputs": [],
   "source": [
    "# horizontal and vertical axes\n"
   ]
  },
  {
   "cell_type": "code",
   "execution_count": 3,
   "metadata": {},
   "outputs": [],
   "source": [
    "# meshgrid turns each into a 2d array\n"
   ]
  },
  {
   "cell_type": "code",
   "execution_count": 4,
   "metadata": {},
   "outputs": [],
   "source": [
    "# compute the function values\n"
   ]
  },
  {
   "cell_type": "code",
   "execution_count": 5,
   "metadata": {},
   "outputs": [],
   "source": [
    "#create a new figure with one axis and plot Z\n",
    "\n",
    "# add a colorbar to help interpret the scales. \n"
   ]
  },
  {
   "cell_type": "markdown",
   "metadata": {},
   "source": [
    "## Example 2: the Mandelbrot Set\n",
    "\n",
    "You have my permission not to type for this example"
   ]
  },
  {
   "cell_type": "code",
   "execution_count": 11,
   "metadata": {},
   "outputs": [],
   "source": [
    "# create the background grid, higher resolution this time\n",
    "\n",
    "x = np.linspace(-1, 1, 1001)\n",
    "y = np.linspace(-1.5, .5, 1001)\n",
    "\n",
    "X, Y = np.meshgrid(x, y)\n",
    "\n",
    "# create the Mandelbrot set: start with a 2d grid of \n",
    "# complex constants C: \n",
    "C = X*1j + Y\n",
    "\n",
    "# initialize a dummy value of Z\n",
    "Z = 0\n",
    "\n",
    "# repeatedly square Z and add constant C to it\n",
    "# Mandelbrot set is the set of values of C such that the \n",
    "# resulting value of Z is finite. \n",
    "\n",
    "for i in range(200):\n",
    "    Z = Z**2 + C"
   ]
  },
  {
   "cell_type": "code",
   "execution_count": 6,
   "metadata": {},
   "outputs": [],
   "source": [
    "fig, ax = plt.subplots(1, figsize = (10, 10))\n",
    "ax.imshow(abs(Z), interpolation = \"none\")\n",
    "ax.axis('off') # turn off the surrounding frame"
   ]
  },
  {
   "cell_type": "markdown",
   "metadata": {},
   "source": [
    "## Plotting Images\n",
    "\n",
    "__Okay start typing again__ It's time to play with my dog. __VERY IMPORTANT__\n",
    "\n",
    "The `ax.imshow()` method is actually strikingly versatile, and can plot RGB color data when used with `numpy` arrays of the correct data type. This allows us to use `imshow()` to inspect images, for example, those that we read in from files. "
   ]
  },
  {
   "cell_type": "code",
   "execution_count": 7,
   "metadata": {},
   "outputs": [],
   "source": [
    "\n",
    "# This is a 1600x1199 image. Each pixel has an RGB value, represented as 3 numbers\n"
   ]
  },
  {
   "cell_type": "code",
   "execution_count": null,
   "metadata": {},
   "outputs": [],
   "source": []
  },
  {
   "cell_type": "markdown",
   "metadata": {},
   "source": [
    "### We can separate out the RGB values"
   ]
  },
  {
   "cell_type": "code",
   "execution_count": null,
   "metadata": {},
   "outputs": [],
   "source": []
  },
  {
   "cell_type": "markdown",
   "metadata": {},
   "source": [
    "If we want to edit the image, we need to make a copy"
   ]
  },
  {
   "cell_type": "code",
   "execution_count": null,
   "metadata": {},
   "outputs": [],
   "source": []
  },
  {
   "cell_type": "markdown",
   "metadata": {},
   "source": [
    "Now, we can make our DIY instagram filters"
   ]
  },
  {
   "cell_type": "code",
   "execution_count": null,
   "metadata": {},
   "outputs": [],
   "source": []
  },
  {
   "cell_type": "code",
   "execution_count": null,
   "metadata": {},
   "outputs": [],
   "source": []
  }
 ],
 "metadata": {
  "kernelspec": {
   "display_name": "Python 3",
   "language": "python",
   "name": "python3"
  },
  "language_info": {
   "codemirror_mode": {
    "name": "ipython",
    "version": 3
   },
   "file_extension": ".py",
   "mimetype": "text/x-python",
   "name": "python",
   "nbconvert_exporter": "python",
   "pygments_lexer": "ipython3",
   "version": "3.8.5"
  }
 },
 "nbformat": 4,
 "nbformat_minor": 4
}
