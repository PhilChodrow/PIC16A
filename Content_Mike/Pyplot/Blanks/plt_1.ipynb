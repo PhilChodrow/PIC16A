{
 "cells": [
  {
   "cell_type": "markdown",
   "metadata": {},
   "source": [
    "# Plotting with `matplotlib`\n",
    "\n",
    "In this lecture, we'll introduce the `matplotlib` package for data visualization. `matplotlib` is second core library for computational and data science in Python. It works very well with `numpy`. \n",
    "\n",
    "In this course, we'll only make use of tools in the `matplotlib.pyplot` module. The standard way to import these tools is: "
   ]
  },
  {
   "cell_type": "code",
   "execution_count": null,
   "metadata": {},
   "outputs": [],
   "source": []
  },
  {
   "cell_type": "markdown",
   "metadata": {},
   "source": [
    "We've seen a few examples of using `matplotlib` functions before. In these cases, we called `plt.plot()` and it \"just worked.\" In order to obtain finer-grained control over our visualizations, we are going to start with the \"object-oriented interface\" to `matplotlib`. Here are the main ingredients: \n",
    "\n",
    "1. A *figure* is the overall space in which visualizations may be created. \n",
    "2. An *axis* is a single visualization (i.e. \"a plot\"). Figures can contain one or more axes. \n",
    "\n",
    "<figure class=\"image\" style=\"width:80%\">\n",
    "  <img src=\"https://2.bp.blogspot.com/-F__I5bCe3uI/XRS1Y3gdP9I/AAAAAAAAHxk/plElt8VRYRMp42BuHTe9wkD29hZaPvo-ACLcBGAs/s1600/figure_axes.PNG\" alt=\"Four blank axes (plots) with gridlines, arranged in a 2x2 grid. The four axes form a single figure\">\n",
    "  <figcaption><i>Image from the <a href = \"https://www.listendata.com/2019/06/matplotlib-tutorial-learn-plot-python.html\"> ListenData</a> matplotlib tutorial.  </i></figcaption>\n",
    "</figure>\n",
    "\n",
    "The basic workflow for `matplotlib` figures is:\n",
    "\n",
    "1. Create a figure. \n",
    "2. Add one or more axes. \n",
    "3. Add data markers (i.e. \"the plot\") to the axes. \n",
    "4. Add annotation (axis labels, titles, ticks, legends)\n",
    "5. Save the figure. \n",
    "\n",
    "Let's work through these stages. "
   ]
  },
  {
   "cell_type": "markdown",
   "metadata": {},
   "source": [
    "## 1. Create a Figure and 2. Add Axes\n",
    "\n",
    "Unless you need something very customized, it's easiest to do these two steps simultaneously, using `plt.subplots()`: "
   ]
  },
  {
   "cell_type": "code",
   "execution_count": 1,
   "metadata": {},
   "outputs": [],
   "source": [
    "# create a single figure with a single axis (1 row x 1 column)\n"
   ]
  },
  {
   "cell_type": "code",
   "execution_count": 2,
   "metadata": {},
   "outputs": [],
   "source": [
    "# two plots side by side, using figsize to stretch \n",
    "# them out to a better aspect ratio 5,2\n"
   ]
  },
  {
   "cell_type": "code",
   "execution_count": 3,
   "metadata": {},
   "outputs": [],
   "source": [
    "# 2x2 grid\n"
   ]
  },
  {
   "cell_type": "markdown",
   "metadata": {},
   "source": [
    "Let's take a moment to notice what kind of object `ax` is: "
   ]
  },
  {
   "cell_type": "code",
   "execution_count": null,
   "metadata": {},
   "outputs": [],
   "source": []
  },
  {
   "cell_type": "markdown",
   "metadata": {},
   "source": [
    "It's a `numpy` array! It's shape is: "
   ]
  },
  {
   "cell_type": "code",
   "execution_count": null,
   "metadata": {},
   "outputs": [],
   "source": []
  },
  {
   "cell_type": "markdown",
   "metadata": {},
   "source": [
    "This means, for example, that if we want the axis in the first row and second column, we can access it like this: "
   ]
  },
  {
   "cell_type": "code",
   "execution_count": null,
   "metadata": {},
   "outputs": [],
   "source": []
  },
  {
   "cell_type": "markdown",
   "metadata": {},
   "source": [
    "## Add Data Markers\n",
    "\n",
    "To add data markings, we need: \n",
    "\n",
    "1. Data.\n",
    "2. A choice of how to visualize that data. \n",
    "3. An axis on which to put the data. "
   ]
  },
  {
   "cell_type": "code",
   "execution_count": 4,
   "metadata": {},
   "outputs": [],
   "source": [
    "#1x2 grid with figsize 7 by 3 "
   ]
  },
  {
   "cell_type": "code",
   "execution_count": 5,
   "metadata": {},
   "outputs": [],
   "source": [
    "# something to plot. Lets us 21 evenly spaced points and plot sin(x) and log(x)\n"
   ]
  },
  {
   "cell_type": "code",
   "execution_count": 6,
   "metadata": {},
   "outputs": [],
   "source": [
    "#scatter plot of x and y in ax[0]\n"
   ]
  },
  {
   "cell_type": "code",
   "execution_count": 7,
   "metadata": {},
   "outputs": [],
   "source": [
    "#line plot of x vs z on ax[1]\n"
   ]
  },
  {
   "cell_type": "markdown",
   "metadata": {},
   "source": [
    "You can add as many layers as you want: "
   ]
  },
  {
   "cell_type": "code",
   "execution_count": 8,
   "metadata": {},
   "outputs": [],
   "source": [
    "#put scatter plot on top of line plot\n"
   ]
  },
  {
   "cell_type": "markdown",
   "metadata": {},
   "source": [
    "## Annotations\n",
    "\n",
    "Don't forget to label your axes!! We can also add axis titles and an overall figure title. "
   ]
  },
  {
   "cell_type": "code",
   "execution_count": null,
   "metadata": {},
   "outputs": [],
   "source": []
  },
  {
   "cell_type": "markdown",
   "metadata": {},
   "source": [
    "When layering similar kinds of data markings, `matplotlib` will usually change the color each time. If you `label` your markings, then you'll be able to tell them apart with a `legend()`.  "
   ]
  },
  {
   "cell_type": "code",
   "execution_count": null,
   "metadata": {},
   "outputs": [],
   "source": []
  },
  {
   "cell_type": "code",
   "execution_count": null,
   "metadata": {},
   "outputs": [],
   "source": []
  },
  {
   "cell_type": "markdown",
   "metadata": {},
   "source": [
    "## Save the Figure\n",
    "\n",
    "Once you're happy with how the figure looks, you can save it in one of several file formats using the `savefig()` method. PNG is usually a good choice. "
   ]
  },
  {
   "cell_type": "code",
   "execution_count": null,
   "metadata": {},
   "outputs": [],
   "source": []
  },
  {
   "cell_type": "markdown",
   "metadata": {},
   "source": [
    "We now have the basic components in place to create figures with multiple axes, populate them with data markings, annotate them, and save the results. In the next lecture, we'll look at plotting 2d data, including mathematical functions and images. "
   ]
  }
 ],
 "metadata": {
  "kernelspec": {
   "display_name": "Python 3",
   "language": "python",
   "name": "python3"
  },
  "language_info": {
   "codemirror_mode": {
    "name": "ipython",
    "version": 3
   },
   "file_extension": ".py",
   "mimetype": "text/x-python",
   "name": "python",
   "nbconvert_exporter": "python",
   "pygments_lexer": "ipython3",
   "version": "3.8.5"
  }
 },
 "nbformat": 4,
 "nbformat_minor": 4
}
