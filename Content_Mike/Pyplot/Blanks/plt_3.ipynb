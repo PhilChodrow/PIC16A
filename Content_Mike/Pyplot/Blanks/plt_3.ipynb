{
 "cells": [
  {
   "cell_type": "markdown",
   "metadata": {},
   "source": [
    "# Statistical Graphics: Histograms and Box Plots\n",
    "\n",
    "Quite often, it's most insightful to visualize not \"raw\" data points, but rather some distributional information about the points. Histograms and box plots are three of the most common statistical graphics for visualizing distributional properties of data. "
   ]
  },
  {
   "cell_type": "code",
   "execution_count": 1,
   "metadata": {},
   "outputs": [],
   "source": [
    "#Standard Imports"
   ]
  },
  {
   "cell_type": "markdown",
   "metadata": {},
   "source": [
    "## 1d Histograms"
   ]
  },
  {
   "cell_type": "code",
   "execution_count": 2,
   "metadata": {},
   "outputs": [],
   "source": [
    "# 1000 random normal variables"
   ]
  },
  {
   "cell_type": "code",
   "execution_count": 3,
   "metadata": {},
   "outputs": [],
   "source": [
    " # histogram with automatically chooses a binwidth, usually pretty smart"
   ]
  },
  {
   "cell_type": "markdown",
   "metadata": {},
   "source": [
    "We can also specify the number of bins with a keyword arguement"
   ]
  },
  {
   "cell_type": "code",
   "execution_count": null,
   "metadata": {},
   "outputs": [],
   "source": []
  },
  {
   "cell_type": "markdown",
   "metadata": {},
   "source": [
    "When comparing distributions of several data sets, it's often useful to use *transparency* via the keyword `alpha`. `alpha = 1` generates fully opaque data markings, while `alpha = 0` is fully transparent (and therefore invisible). "
   ]
  },
  {
   "cell_type": "code",
   "execution_count": 4,
   "metadata": {},
   "outputs": [],
   "source": [
    "#Generate three different data sets with different means and variances\n",
    "\n",
    "#pass these kwargs into our plot\n",
    "\n",
    "#plot the three distributions on top of each other\n"
   ]
  },
  {
   "cell_type": "markdown",
   "metadata": {},
   "source": [
    "Another excellent way to visualize distributions of data is via __boxplots.__ The orange line gives the median, the vertical bounds of the box the quartiles, the \"whiskers\" show the range of the bulk of the distribution, and the individual points are alleged to be \"outliers\". To create multiple boxplots (almost always a good idea), pass a list of 1d arrays to the function call.  "
   ]
  },
  {
   "cell_type": "code",
   "execution_count": 5,
   "metadata": {},
   "outputs": [],
   "source": [
    "#new axis one plot\n",
    "\n",
    "#make box plot\n"
   ]
  },
  {
   "cell_type": "markdown",
   "metadata": {},
   "source": [
    "# 2d Histograms\n",
    "\n",
    "Histograms are also an excellent way to visualize relationships between variables. "
   ]
  },
  {
   "cell_type": "code",
   "execution_count": 6,
   "metadata": {},
   "outputs": [],
   "source": [
    "#multivariate normal distributions are specified by their mean and covariance\n",
    "\n",
    "#it's okay if you don't understand this line, but please type it \n"
   ]
  },
  {
   "cell_type": "code",
   "execution_count": null,
   "metadata": {},
   "outputs": [],
   "source": []
  },
  {
   "cell_type": "markdown",
   "metadata": {},
   "source": [
    "Let's make this look a bit nicer"
   ]
  },
  {
   "cell_type": "code",
   "execution_count": null,
   "metadata": {},
   "outputs": [],
   "source": []
  },
  {
   "cell_type": "markdown",
   "metadata": {},
   "source": [
    "While there's often no problem with square grids, __hexagonal grids__ often look a bit nicer. Note that the relevant keyword for hexagonal grids is `gridsize` rather than `bins`. "
   ]
  },
  {
   "cell_type": "code",
   "execution_count": null,
   "metadata": {},
   "outputs": [],
   "source": []
  },
  {
   "cell_type": "code",
   "execution_count": null,
   "metadata": {},
   "outputs": [],
   "source": []
  }
 ],
 "metadata": {
  "kernelspec": {
   "display_name": "Python 3",
   "language": "python",
   "name": "python3"
  },
  "language_info": {
   "codemirror_mode": {
    "name": "ipython",
    "version": 3
   },
   "file_extension": ".py",
   "mimetype": "text/x-python",
   "name": "python",
   "nbconvert_exporter": "python",
   "pygments_lexer": "ipython3",
   "version": "3.8.5"
  }
 },
 "nbformat": 4,
 "nbformat_minor": 4
}
