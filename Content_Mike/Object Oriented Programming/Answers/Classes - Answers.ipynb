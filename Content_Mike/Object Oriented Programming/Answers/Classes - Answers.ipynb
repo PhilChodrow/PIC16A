{
 "cells": [
  {
   "cell_type": "markdown",
   "metadata": {},
   "source": [
    "# Classes (Part I)"
   ]
  },
  {
   "cell_type": "markdown",
   "metadata": {},
   "source": [
    "Like C++, Python is an object-oriented programming language. While the idea of object-orientation is somewhat difficult to define, a fairly general rule of thumb is that the right solution to complex problems in Python often involves creating one or more __objects__, which you can think of as bundles of related data and behaviors.\n",
    "\n",
    "A class defines an abstract set of possible objects sharing certain characteristics. For example, \"dog\" would be a good candidate for a class. There are many dogs, all of which have the same species. On the other hand, \"my dog\" refers to a single dog, who could be an __instance__ in this class.\n",
    "\n",
    "For additional optional reading, here is a nice, concise explanation (with excellently chosen examples) of object-oriented programming in Python."
   ]
  },
  {
   "cell_type": "markdown",
   "metadata": {},
   "source": [
    "## Example: The dog class\n",
    "\n",
    "Lets start by creating an empty class"
   ]
  },
  {
   "cell_type": "code",
   "execution_count": 12,
   "metadata": {},
   "outputs": [],
   "source": [
    "class Dog:  \n",
    "    pass #nothing happens"
   ]
  },
  {
   "cell_type": "markdown",
   "metadata": {},
   "source": [
    "So far, our Dog class doesn't do anything, but it is enough to create a dog object. "
   ]
  },
  {
   "cell_type": "code",
   "execution_count": 13,
   "metadata": {},
   "outputs": [],
   "source": [
    "skippy = Dog()"
   ]
  },
  {
   "cell_type": "code",
   "execution_count": 14,
   "metadata": {},
   "outputs": [
    {
     "data": {
      "text/plain": [
       "__main__.Dog"
      ]
     },
     "execution_count": 14,
     "metadata": {},
     "output_type": "execute_result"
    }
   ],
   "source": [
    "type(skippy)"
   ]
  },
  {
   "cell_type": "markdown",
   "metadata": {},
   "source": [
    "## Now, let's given the dog some member variables: Age, Weight, and Breed.\n",
    "\n",
    "It turns out this is much easier in python than in C++. We start by giving the function an initializer which creates the class object and assigns values to the member variables."
   ]
  },
  {
   "cell_type": "code",
   "execution_count": 15,
   "metadata": {},
   "outputs": [],
   "source": [
    "class Dog:  \n",
    "    def __init__(self,age,weight,breed):\n",
    "        self.age=age\n",
    "        self.weight=weight\n",
    "        self.breed=breed"
   ]
  },
  {
   "cell_type": "code",
   "execution_count": 16,
   "metadata": {},
   "outputs": [],
   "source": [
    "skippy=Dog(10,80,\"Golden Retreiver\")"
   ]
  },
  {
   "cell_type": "markdown",
   "metadata": {},
   "source": [
    "### Some things to note: \n",
    "-  Unlike in C++ there is no public and private\n",
    "-  In python, the word self plays the role that the implicit parameter does in C++"
   ]
  },
  {
   "cell_type": "code",
   "execution_count": 17,
   "metadata": {},
   "outputs": [
    {
     "data": {
      "text/plain": [
       "10"
      ]
     },
     "execution_count": 17,
     "metadata": {},
     "output_type": "execute_result"
    }
   ],
   "source": [
    "skippy.age"
   ]
  },
  {
   "cell_type": "code",
   "execution_count": 18,
   "metadata": {},
   "outputs": [
    {
     "data": {
      "text/plain": [
       "'Golden Retreiver'"
      ]
     },
     "execution_count": 18,
     "metadata": {},
     "output_type": "execute_result"
    }
   ],
   "source": [
    "skippy.breed"
   ]
  },
  {
   "cell_type": "markdown",
   "metadata": {},
   "source": [
    "Now let's give the dog a member function: Bark"
   ]
  },
  {
   "cell_type": "code",
   "execution_count": 19,
   "metadata": {},
   "outputs": [],
   "source": [
    "class Dog:  \n",
    "    def __init__(self,age,weight,breed):\n",
    "        self.age=age\n",
    "        self.weight=weight\n",
    "        self.breed=breed\n",
    "        \n",
    "    def bark(self, n=1):\n",
    "        for i in range(n):\n",
    "            if self.weight<50:\n",
    "                print(\"ruff\")\n",
    "            elif self.weight<100:\n",
    "                print(\"Ruff\")\n",
    "            else:\n",
    "                print(\"RUFF\")"
   ]
  },
  {
   "cell_type": "code",
   "execution_count": 20,
   "metadata": {},
   "outputs": [],
   "source": [
    "skippy=Dog(10,80,\"Golden Retriever\")"
   ]
  },
  {
   "cell_type": "code",
   "execution_count": 21,
   "metadata": {},
   "outputs": [
    {
     "name": "stdout",
     "output_type": "stream",
     "text": [
      "Ruff\n"
     ]
    }
   ],
   "source": [
    "skippy.bark()"
   ]
  },
  {
   "cell_type": "code",
   "execution_count": 22,
   "metadata": {},
   "outputs": [
    {
     "name": "stdout",
     "output_type": "stream",
     "text": [
      "ruff\n",
      "ruff\n",
      "ruff\n"
     ]
    }
   ],
   "source": [
    "chappy=Dog(8,40,\"Golden Retriever\")\n",
    "chappy.bark(3)"
   ]
  },
  {
   "cell_type": "markdown",
   "metadata": {},
   "source": [
    "### Class Variables and Instance Variables\n",
    "\n",
    "The variables age, weight, and breed might be different for each instance of the dog class. Therefore, they are called __instance variables__. By constrast, __class variables__ are the same for all instances of a class."
   ]
  },
  {
   "cell_type": "code",
   "execution_count": 23,
   "metadata": {},
   "outputs": [],
   "source": [
    "class Dog:  \n",
    "    \n",
    "    species = \"Canine\"\n",
    "    cute = True\n",
    "    \n",
    "    def __init__(self,age,weight,breed):\n",
    "        self.age=age\n",
    "        self.weight=weight\n",
    "        self.breed=breed\n",
    "        \n",
    "    def bark(self, n=1):\n",
    "        for i in range(n):\n",
    "            if self.weight<50:\n",
    "                print(\"ruff\")\n",
    "            elif self.weight<100:\n",
    "                print(\"Ruff\")\n",
    "            else:\n",
    "                print(\"RUFF\")"
   ]
  },
  {
   "cell_type": "code",
   "execution_count": 24,
   "metadata": {},
   "outputs": [
    {
     "name": "stdout",
     "output_type": "stream",
     "text": [
      "RUFF\n",
      "RUFF\n"
     ]
    },
    {
     "data": {
      "text/plain": [
       "True"
      ]
     },
     "execution_count": 24,
     "metadata": {},
     "output_type": "execute_result"
    }
   ],
   "source": [
    "troy = Dog(12,120,\"Golden Retriever\")\n",
    "troy.bark(2)\n",
    "troy.cute"
   ]
  },
  {
   "cell_type": "markdown",
   "metadata": {},
   "source": [
    "### Don't forget documenation\n",
    "\n",
    "Last, but not least, we should add documenation like the good programmers we are "
   ]
  },
  {
   "cell_type": "code",
   "execution_count": 25,
   "metadata": {},
   "outputs": [],
   "source": [
    "\n",
    "class Dog:  \n",
    "    \"\"\"A class which models dogs\"\"\"\n",
    "    \n",
    "    #These variables are self explanatory (dont need comments)\n",
    "    species = \"Canine\"\n",
    "    cute = True\n",
    "    \n",
    "    #initializers don't need comments either unless you are doing something fancy\n",
    "    def __init__(self,age,weight,breed):\n",
    "        self.age=age\n",
    "        self.weight=weight\n",
    "        self.breed=breed\n",
    "        \n",
    "    def bark(self, n=1):\n",
    "        '''\n",
    "        Print a bark sound (ruff) depending on the size of the dog. Larger dogs bark louders\n",
    "        Parameter n controls how many times the dog barks. (Defaults to one)\n",
    "        '''  \n",
    "    \n",
    "        for i in range(n):\n",
    "            if self.weight<50:\n",
    "                print(\"ruff\")\n",
    "            elif self.weight<100:\n",
    "                print(\"Ruff\")\n",
    "            else:\n",
    "                print(\"RUFF\")"
   ]
  },
  {
   "cell_type": "code",
   "execution_count": 26,
   "metadata": {},
   "outputs": [],
   "source": [
    "?Dog"
   ]
  },
  {
   "cell_type": "markdown",
   "metadata": {},
   "source": [
    "Note: We can write member functions two different ways"
   ]
  },
  {
   "cell_type": "code",
   "execution_count": 27,
   "metadata": {},
   "outputs": [
    {
     "name": "stdout",
     "output_type": "stream",
     "text": [
      "RUFF\n",
      "RUFF\n",
      "RUFF\n"
     ]
    }
   ],
   "source": [
    "troy.bark(3)"
   ]
  },
  {
   "cell_type": "code",
   "execution_count": 29,
   "metadata": {},
   "outputs": [
    {
     "name": "stdout",
     "output_type": "stream",
     "text": [
      "RUFF\n",
      "RUFF\n",
      "RUFF\n"
     ]
    }
   ],
   "source": [
    "Dog.bark(troy,3)"
   ]
  },
  {
   "cell_type": "code",
   "execution_count": 30,
   "metadata": {},
   "outputs": [],
   "source": [
    "?Dog.__init__"
   ]
  },
  {
   "cell_type": "code",
   "execution_count": null,
   "metadata": {},
   "outputs": [],
   "source": []
  },
  {
   "cell_type": "code",
   "execution_count": null,
   "metadata": {},
   "outputs": [],
   "source": []
  },
  {
   "cell_type": "code",
   "execution_count": null,
   "metadata": {},
   "outputs": [],
   "source": []
  },
  {
   "cell_type": "code",
   "execution_count": null,
   "metadata": {},
   "outputs": [],
   "source": []
  }
 ],
 "metadata": {
  "kernelspec": {
   "display_name": "Python 3",
   "language": "python",
   "name": "python3"
  },
  "language_info": {
   "codemirror_mode": {
    "name": "ipython",
    "version": 3
   },
   "file_extension": ".py",
   "mimetype": "text/x-python",
   "name": "python",
   "nbconvert_exporter": "python",
   "pygments_lexer": "ipython3",
   "version": "3.8.5"
  }
 },
 "nbformat": 4,
 "nbformat_minor": 4
}
