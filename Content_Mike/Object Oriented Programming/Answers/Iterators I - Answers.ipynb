{
 "cells": [
  {
   "cell_type": "markdown",
   "metadata": {},
   "source": [
    "# Iterators\n",
    "\n",
    "In this lecture, we'll discuss iterators in some detail. We've already seen the keyword iteration, referring to constructs like for- and while-loops. Colloquially, an iterable is an object that can be \"for-looped\" over, and an iterator is the companion object which does so. In this lecture, we'll look into the operation of for-loops in a bit more detail, and define a custom iterators with novel behavior.\n",
    "\n",
    "\n"
   ]
  },
  {
   "cell_type": "markdown",
   "metadata": {},
   "source": [
    "### Containers\n",
    "We've already seen several containers: objects that hold other objects. Examples of containers include lists, tuples, sets, and dictionaries. Most default containers already support iteration:"
   ]
  },
  {
   "cell_type": "code",
   "execution_count": 1,
   "metadata": {},
   "outputs": [
    {
     "name": "stdout",
     "output_type": "stream",
     "text": [
      "1 1\n",
      "2 4\n",
      "4 16\n",
      "8 64\n",
      "16 256\n"
     ]
    }
   ],
   "source": [
    "#Loop over a list\n",
    "for x in [1,2,4,8,16]:\n",
    "    print(x,x**2)"
   ]
  },
  {
   "cell_type": "markdown",
   "metadata": {},
   "source": [
    "The fact that you can for loop over a container-like object seems obvious, but you shouldn't take it for granted. To illustrate this we will introduce the ReverseList class. It will be similar to a list, but will print backwards."
   ]
  },
  {
   "cell_type": "code",
   "execution_count": 3,
   "metadata": {},
   "outputs": [],
   "source": [
    "class ReverseList:\n",
    "    \n",
    "    def __init__(self,L):\n",
    "        self.L=L\n",
    "        \n",
    "    def __str__(self):\n",
    "        return(str(self.L))"
   ]
  },
  {
   "cell_type": "markdown",
   "metadata": {},
   "source": [
    "This already works"
   ]
  },
  {
   "cell_type": "code",
   "execution_count": 5,
   "metadata": {},
   "outputs": [
    {
     "name": "stdout",
     "output_type": "stream",
     "text": [
      "[1, 2, 3]\n"
     ]
    }
   ],
   "source": [
    "R=ReverseList([1,2,3])\n",
    "print(R)"
   ]
  },
  {
   "cell_type": "markdown",
   "metadata": {},
   "source": [
    "This does not work... yet"
   ]
  },
  {
   "cell_type": "code",
   "execution_count": 8,
   "metadata": {},
   "outputs": [],
   "source": [
    "#for r in R:\n",
    " #   print(r)"
   ]
  },
  {
   "cell_type": "markdown",
   "metadata": {},
   "source": [
    "In order to make the above code work, we need to use the iter method\n",
    "\n"
   ]
  },
  {
   "cell_type": "code",
   "execution_count": 2,
   "metadata": {},
   "outputs": [],
   "source": [
    "\n",
    "\n",
    "class ReverseList:\n",
    "    \n",
    "    def __init__(self,L):\n",
    "        self.L=L\n",
    "        \n",
    "    def __str__(self):\n",
    "        return(str(self.L))\n",
    "\n",
    "    def __iter__(self):\n",
    "        return(ReverseListIterator(self))\n",
    "    \n",
    "class ReverseListIterator:\n",
    "    \n",
    "    #iterator classes need i)  rule for where to start ii) a rule for where to go next and iii) when to stop\n",
    "    \n",
    "    def __init__(self,RL):\n",
    "        self.L=RL.L\n",
    "        self.index=len(self.L)-1\n",
    "        #the index variable stores the current position\n",
    "        #since this is a reverese iterator we start at the last position\n",
    "        \n",
    "    def __next__(self):\n",
    "        \n",
    "        if self.index<0:\n",
    "            raise StopIteration\n",
    "        self.index-=1\n",
    "        return(self.L[self.index+1])\n",
    "    "
   ]
  },
  {
   "cell_type": "code",
   "execution_count": 3,
   "metadata": {},
   "outputs": [
    {
     "name": "stdout",
     "output_type": "stream",
     "text": [
      "3\n",
      "2\n",
      "1\n"
     ]
    }
   ],
   "source": [
    "R=ReverseList([1,2,3])\n",
    "for r in R:\n",
    "    print(r)"
   ]
  },
  {
   "cell_type": "markdown",
   "metadata": {},
   "source": [
    "To aid in understanding, let's add in some comments to trace through the order functions are called in"
   ]
  },
  {
   "cell_type": "code",
   "execution_count": 22,
   "metadata": {},
   "outputs": [],
   "source": [
    "\n",
    "class ReverseList:\n",
    "    \n",
    "    def __init__(self,L):\n",
    "        self.L=L\n",
    "        \n",
    "    def __str__(self):\n",
    "        return(str(self.L))\n",
    "\n",
    "    def __iter__(self):\n",
    "        print(\"__iter__() is called\")\n",
    "        return(ReverseListIterator(self))\n",
    "    \n",
    "class ReverseListIterator:\n",
    "    \n",
    "    #iterator classes need i)  rule for where to start ii) a rule for where to go next and iii) a rule for when to stop\n",
    "    \n",
    "    def __init__(self,RL):\n",
    "        print(\"RL Iterator Created\")\n",
    "        self.L=RL.L\n",
    "        self.index=len(self.L)-1\n",
    "        #the index variable stores the current position\n",
    "        #since this is a reverese iterator we start at the last position\n",
    "        \n",
    "    def __next__(self):\n",
    "        print(\"next is called\")\n",
    "        if self.index<0:\n",
    "            print(\"stopping now\")\n",
    "            raise StopIteration\n",
    "        self.index-=1\n",
    "        return(self.L[self.index+1])\n",
    "    "
   ]
  },
  {
   "cell_type": "code",
   "execution_count": 23,
   "metadata": {},
   "outputs": [
    {
     "name": "stdout",
     "output_type": "stream",
     "text": [
      "__iter__() is called\n",
      "RL Iterator Created\n",
      "next is called\n",
      "3\n",
      "next is called\n",
      "2\n",
      "next is called\n",
      "1\n",
      "next is called\n",
      "stopping now\n"
     ]
    }
   ],
   "source": [
    "R=ReverseList([1,2,3])\n",
    "for r in R:\n",
    "    print(r)"
   ]
  },
  {
   "cell_type": "code",
   "execution_count": null,
   "metadata": {},
   "outputs": [],
   "source": []
  }
 ],
 "metadata": {
  "kernelspec": {
   "display_name": "Python 3",
   "language": "python",
   "name": "python3"
  },
  "language_info": {
   "codemirror_mode": {
    "name": "ipython",
    "version": 3
   },
   "file_extension": ".py",
   "mimetype": "text/x-python",
   "name": "python",
   "nbconvert_exporter": "python",
   "pygments_lexer": "ipython3",
   "version": "3.8.8"
  }
 },
 "nbformat": 4,
 "nbformat_minor": 4
}
