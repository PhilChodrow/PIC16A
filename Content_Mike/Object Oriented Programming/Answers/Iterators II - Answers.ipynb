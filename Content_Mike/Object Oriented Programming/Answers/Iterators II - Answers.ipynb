{
 "cells": [
  {
   "cell_type": "markdown",
   "metadata": {},
   "source": [
    "# More iterators\n",
    "\n",
    "In this lecture, we'll construct another complex iterator example. Our goal is to implement a `sortedDict` class such that, when we iterate over key-value pairs, always returns these pairs in sorted order according to the keys. We'll define this class as a subclass of `dict`, so we will automatically inherit all the standard `dict` behavior. We just need to define the `__iter__()` and `__next__()` methods. It would be interesting to extend this class to allow custom sorting behavior. For now, we'll just rely on the built-in list-sorting. \n",
    "\n",
    "Recall that dictionaries, by default implementation, do not have any set order. "
   ]
  },
  {
   "cell_type": "code",
   "execution_count": 5,
   "metadata": {},
   "outputs": [
    {
     "name": "stdout",
     "output_type": "stream",
     "text": [
      "Boston\n",
      "New York\n",
      "Los Angeles\n",
      "Chicago\n"
     ]
    }
   ],
   "source": [
    "#Dictionary of cities and populations (all numbers made up)\n",
    "cities = {\n",
    "    \"Boston\":1000000,\n",
    "    \"New York\": 10000000,\n",
    "    \"Los Angeles\": 12000000,\n",
    "    \"Chicago\":8000000\n",
    "         }\n",
    "for key in cities:\n",
    "    print(key)"
   ]
  },
  {
   "cell_type": "markdown",
   "metadata": {},
   "source": [
    "In this class, we will construct a sortedDict class which will let us print the cities along with their populations in alphabetical order"
   ]
  },
  {
   "cell_type": "code",
   "execution_count": 15,
   "metadata": {},
   "outputs": [],
   "source": [
    "class sortedDict(dict):\n",
    "    \"\"\"\n",
    "    A subclass of 'dict' that prints in order of the keys\n",
    "    \"\"\"\n",
    "    \n",
    "    def __iter__(self):\n",
    "        return sortedDictIterator(self)\n",
    "    \n",
    "class sortedDictIterator():\n",
    "    \"\"\"\n",
    "    An iterator class for sortedDicts\n",
    "    \"\"\"\n",
    "    \n",
    "    \n",
    "    def __init__(self,sD):\n",
    "        self.sD=sD\n",
    "        self.index=0\n",
    "        self.keys=list(sD.keys()) #get a list of the keys of the sortedDict\n",
    "        self.keys.sort()          #put them in order\n",
    "        \n",
    "    def __next__(self):\n",
    "        \n",
    "        if self.index==len(self.keys):\n",
    "            raise StopIteration\n",
    "            \n",
    "        key=self.keys[self.index]    \n",
    "        self.index+=1\n",
    "        return (key,self.sD[key])\n",
    "        \n",
    "        \n",
    "        \n",
    "        "
   ]
  },
  {
   "cell_type": "code",
   "execution_count": 16,
   "metadata": {},
   "outputs": [],
   "source": [
    "cities=sortedDict(cities)"
   ]
  },
  {
   "cell_type": "code",
   "execution_count": 17,
   "metadata": {},
   "outputs": [
    {
     "name": "stdout",
     "output_type": "stream",
     "text": [
      "('Boston', 1000000)\n",
      "('Chicago', 8000000)\n",
      "('Los Angeles', 12000000)\n",
      "('New York', 10000000)\n"
     ]
    }
   ],
   "source": [
    "for city in cities:\n",
    "    print(city)"
   ]
  },
  {
   "cell_type": "code",
   "execution_count": null,
   "metadata": {},
   "outputs": [],
   "source": []
  },
  {
   "cell_type": "code",
   "execution_count": null,
   "metadata": {},
   "outputs": [],
   "source": []
  },
  {
   "cell_type": "code",
   "execution_count": null,
   "metadata": {},
   "outputs": [],
   "source": []
  }
 ],
 "metadata": {
  "kernelspec": {
   "display_name": "Python 3",
   "language": "python",
   "name": "python3"
  },
  "language_info": {
   "codemirror_mode": {
    "name": "ipython",
    "version": 3
   },
   "file_extension": ".py",
   "mimetype": "text/x-python",
   "name": "python",
   "nbconvert_exporter": "python",
   "pygments_lexer": "ipython3",
   "version": "3.7.3"
  }
 },
 "nbformat": 4,
 "nbformat_minor": 4
}
