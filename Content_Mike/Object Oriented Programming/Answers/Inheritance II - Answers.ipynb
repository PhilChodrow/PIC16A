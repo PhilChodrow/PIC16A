{
 "cells": [
  {
   "cell_type": "markdown",
   "metadata": {},
   "source": [
    "# Jedi Class\n",
    "\n",
    "In this video, we will introduce the Jedi class based on the movie franchise Star Wars. This class will have two child classes called Jedi Master and Sith.\n",
    "\n",
    "For those of you who have never seen star wars. They Jedi are a knight-like order who protect the galaxy. They are best known for having lightsabers and the ability to move stuff with their minds (using the force). The Sith are like the Jedi, but evil."
   ]
  },
  {
   "cell_type": "code",
   "execution_count": 91,
   "metadata": {},
   "outputs": [],
   "source": [
    "class Jedi:\n",
    "    \n",
    "    allegiance = \"the Jedi order\"\n",
    "    health=100\n",
    "    \n",
    "    def __init__(self, first,last,skill):\n",
    "        self.first=first\n",
    "        self.last=last\n",
    "        self.skill=skill\n",
    "\n",
    "        \n",
    "    def introduce(self):\n",
    "        print(\"Hello, I am \" + self.first  + \" \" + self.last +\" of \"+ self.allegiance)\n",
    "        \n",
    "    def train(self,other):\n",
    "        if other.skill<self.skill:\n",
    "            other.skill+=1\n",
    "        else:\n",
    "            print(\"The is nothing that I can teach you\")\n",
    "    \n",
    "    \n",
    "        \n",
    "    "
   ]
  },
  {
   "cell_type": "code",
   "execution_count": 92,
   "metadata": {},
   "outputs": [],
   "source": [
    "Obiwan = Jedi(\"Obiwan\",\"Kenobi\",30)"
   ]
  },
  {
   "cell_type": "code",
   "execution_count": 93,
   "metadata": {},
   "outputs": [
    {
     "name": "stdout",
     "output_type": "stream",
     "text": [
      "Hello, I am Obiwan Kenobi of the Jedi order\n"
     ]
    }
   ],
   "source": [
    "Obiwan.introduce()"
   ]
  },
  {
   "cell_type": "code",
   "execution_count": 94,
   "metadata": {},
   "outputs": [],
   "source": [
    "Luke = Jedi(\"Luke\",\"Skywalker\",20)"
   ]
  },
  {
   "cell_type": "code",
   "execution_count": 95,
   "metadata": {},
   "outputs": [
    {
     "data": {
      "text/plain": [
       "21"
      ]
     },
     "execution_count": 95,
     "metadata": {},
     "output_type": "execute_result"
    }
   ],
   "source": [
    "Obiwan.train(Luke)\n",
    "Luke.skill"
   ]
  },
  {
   "cell_type": "markdown",
   "metadata": {},
   "source": [
    "## JediMasters\n",
    "\n",
    "The class JediMaster inherits from the class Jedi"
   ]
  },
  {
   "cell_type": "code",
   "execution_count": 96,
   "metadata": {},
   "outputs": [],
   "source": [
    "class JediMaster(Jedi):\n",
    "    \n",
    "    #This is called OVERRIDING\n",
    "    def introduce(self):\n",
    "        print(\"Hello, I am Master \" + self.first  + \" \" + self.last +\" of \"+ self.allegiance)\n",
    "        \n",
    "    def call_meeting(self):\n",
    "        print(\"I am calling a meeting of the Jedi Council.\")\n",
    "     "
   ]
  },
  {
   "cell_type": "code",
   "execution_count": 97,
   "metadata": {},
   "outputs": [],
   "source": [
    "Mace=JediMaster(\"Mace\",\"Windu\",50)"
   ]
  },
  {
   "cell_type": "code",
   "execution_count": 98,
   "metadata": {},
   "outputs": [
    {
     "name": "stdout",
     "output_type": "stream",
     "text": [
      "Hello, I am Master Mace Windu of the Jedi order\n"
     ]
    }
   ],
   "source": [
    "Mace.introduce()"
   ]
  },
  {
   "cell_type": "code",
   "execution_count": 99,
   "metadata": {},
   "outputs": [
    {
     "data": {
      "text/plain": [
       "22"
      ]
     },
     "execution_count": 99,
     "metadata": {},
     "output_type": "execute_result"
    }
   ],
   "source": [
    "Mace.train(Luke)\n",
    "Luke.skill\n",
    "#This is very apocryphal"
   ]
  },
  {
   "cell_type": "code",
   "execution_count": 100,
   "metadata": {},
   "outputs": [
    {
     "name": "stdout",
     "output_type": "stream",
     "text": [
      "I am calling a meeting of the Jedi Council.\n"
     ]
    }
   ],
   "source": [
    "Mace.call_meeting()"
   ]
  },
  {
   "cell_type": "code",
   "execution_count": 101,
   "metadata": {},
   "outputs": [],
   "source": [
    "#This doesn't work because Luke is not a master\n",
    "#Luke.call_meeting()"
   ]
  },
  {
   "cell_type": "markdown",
   "metadata": {},
   "source": [
    "Suppose we want  Mace Windu to introduce himself the normal way, without referring to himself as a master"
   ]
  },
  {
   "cell_type": "code",
   "execution_count": 102,
   "metadata": {},
   "outputs": [],
   "source": [
    "class JediMaster(Jedi):\n",
    "    \n",
    "    #This is called OVERRIDING\n",
    "    def introduce(self):\n",
    "        print(\"Hello, I am Master \" + self.first  + \" \" + self.last +\" of \"+ self.allegiance)\n",
    "        \n",
    "    def call_meeting(self):\n",
    "        print(\"I am calling a meeting of the Jedi Council.\")\n",
    "     \n",
    "    def humble_intro(self):\n",
    "        super().introduce()"
   ]
  },
  {
   "cell_type": "code",
   "execution_count": 103,
   "metadata": {},
   "outputs": [],
   "source": [
    "Mace=JediMaster(\"Mace\",\"Windu\",50)"
   ]
  },
  {
   "cell_type": "code",
   "execution_count": 104,
   "metadata": {},
   "outputs": [
    {
     "name": "stdout",
     "output_type": "stream",
     "text": [
      "Hello, I am Mace Windu of the Jedi order\n"
     ]
    }
   ],
   "source": [
    "Mace.humble_intro()"
   ]
  },
  {
   "cell_type": "markdown",
   "metadata": {},
   "source": [
    "## Sith\n",
    "\n",
    "Now, we introduce the villians, the dark lords of the sith"
   ]
  },
  {
   "cell_type": "code",
   "execution_count": 105,
   "metadata": {},
   "outputs": [],
   "source": [
    "class Sith(Jedi):\n",
    "    \n",
    "    allegiance = \"the dark lords of the sith\"\n",
    "    \n",
    "    def attack(self,other):\n",
    "        other.health-=1"
   ]
  },
  {
   "cell_type": "code",
   "execution_count": 110,
   "metadata": {},
   "outputs": [],
   "source": [
    "Vader=Sith(\"Darth\",\"Vader\",50)\n"
   ]
  },
  {
   "cell_type": "code",
   "execution_count": 111,
   "metadata": {},
   "outputs": [
    {
     "data": {
      "text/plain": [
       "96"
      ]
     },
     "execution_count": 111,
     "metadata": {},
     "output_type": "execute_result"
    }
   ],
   "source": [
    "Vader.attack(Luke)\n",
    "Luke.health"
   ]
  },
  {
   "cell_type": "code",
   "execution_count": null,
   "metadata": {},
   "outputs": [],
   "source": []
  }
 ],
 "metadata": {
  "kernelspec": {
   "display_name": "Python 3",
   "language": "python",
   "name": "python3"
  },
  "language_info": {
   "codemirror_mode": {
    "name": "ipython",
    "version": 3
   },
   "file_extension": ".py",
   "mimetype": "text/x-python",
   "name": "python",
   "nbconvert_exporter": "python",
   "pygments_lexer": "ipython3",
   "version": "3.7.3"
  }
 },
 "nbformat": 4,
 "nbformat_minor": 4
}
