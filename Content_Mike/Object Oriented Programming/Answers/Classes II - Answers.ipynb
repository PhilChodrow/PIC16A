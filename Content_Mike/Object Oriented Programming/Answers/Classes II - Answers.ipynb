{
 "cells": [
  {
   "cell_type": "markdown",
   "metadata": {},
   "source": [
    "# Classes II\n",
    "\n",
    "In this video, we will explore an example that is less adorable and more mathematical. (Sorry)\n",
    "\n"
   ]
  },
  {
   "cell_type": "markdown",
   "metadata": {},
   "source": [
    "## Example: 2D-Vectors\n",
    "\n",
    "    We will construct a vector class which allows you add and subtract vectors. It will also allow scalar multiplication. We note that this not how python works be default. For example:"
   ]
  },
  {
   "cell_type": "code",
   "execution_count": 4,
   "metadata": {},
   "outputs": [
    {
     "name": "stdout",
     "output_type": "stream",
     "text": [
      "(1, 2, 3, 4)\n",
      "(3, 4, 3, 4)\n"
     ]
    }
   ],
   "source": [
    "print((1,2)+(3,4))\n",
    "print(2*(3,4))"
   ]
  },
  {
   "cell_type": "markdown",
   "metadata": {},
   "source": [
    "We want to construct a new class similar to tuples or lists, but where (1,2)+(3,4)=(4,6) and 2*(3,4)=(6,8)\n",
    "\n",
    "__Note:__ Later we will learn about the numpy module which solves this problem for you. This example is to help you understand classes in general and magic methods in particular"
   ]
  },
  {
   "cell_type": "code",
   "execution_count": 8,
   "metadata": {},
   "outputs": [],
   "source": [
    "class Vector:\n",
    "    \n",
    "    def __init__(self,x,y):\n",
    "        self.x=x\n",
    "        self.y=y\n",
    "    \n",
    "    def scalar_multiply(self,c):\n",
    "        \"\"\"returns a Vector with components multiplied by c\"\"\"\n",
    "        return Vector(c*self.x,c*self.y)\n",
    "    "
   ]
  },
  {
   "cell_type": "code",
   "execution_count": 10,
   "metadata": {},
   "outputs": [
    {
     "name": "stdout",
     "output_type": "stream",
     "text": [
      "1 2 5 10\n"
     ]
    }
   ],
   "source": [
    "v=Vector(1,2)\n",
    "u=v.scalar_multiply(5)\n",
    "print(v.x,v.y,u.x,u.y)"
   ]
  },
  {
   "cell_type": "markdown",
   "metadata": {},
   "source": [
    "We would like to be able to just print the vectors, but unfortunately the following wont work... yet"
   ]
  },
  {
   "cell_type": "code",
   "execution_count": 11,
   "metadata": {},
   "outputs": [
    {
     "name": "stdout",
     "output_type": "stream",
     "text": [
      "<__main__.Vector object at 0x0000025DBE0BC940>\n"
     ]
    }
   ],
   "source": [
    "print(v)\n",
    "#this worked, but it didn't do what we would want."
   ]
  },
  {
   "cell_type": "markdown",
   "metadata": {},
   "source": [
    "In order to be able to print the vector directly, we use the str magic method. (If you have taken PIC10B, this corresponds to overloading cout <<. If you haven't taken PIC 10B, don't worry about this.)"
   ]
  },
  {
   "cell_type": "code",
   "execution_count": 16,
   "metadata": {},
   "outputs": [],
   "source": [
    "class Vector:\n",
    "    \n",
    "    def __init__(self,x,y):\n",
    "        self.x=x\n",
    "        self.y=y\n",
    "    \n",
    "    def scalar_multiply(self,c):\n",
    "        \"\"\"returns a Vector with components multiplied by c\"\"\"\n",
    "        return Vector(c*self.x,c*self.y)\n",
    "    \n",
    "    def __str__(self):\n",
    "        return(\"<\"+str(self.x)+\",\"+str(self.y)+\">\")\n",
    "    "
   ]
  },
  {
   "cell_type": "code",
   "execution_count": 19,
   "metadata": {},
   "outputs": [
    {
     "name": "stdout",
     "output_type": "stream",
     "text": [
      "<1,2>\n",
      "<5,10>\n"
     ]
    }
   ],
   "source": [
    "v=Vector(1,2)\n",
    "print(v)\n",
    "u=v.scalar_multiply(5)\n",
    "print(u)"
   ]
  },
  {
   "cell_type": "markdown",
   "metadata": {},
   "source": [
    "This is great, but we still cant write u+v or u-v. To that we will use the add and sub magic methods"
   ]
  },
  {
   "cell_type": "code",
   "execution_count": 23,
   "metadata": {},
   "outputs": [],
   "source": [
    "#u+v doesnt work, yet"
   ]
  },
  {
   "cell_type": "code",
   "execution_count": 24,
   "metadata": {},
   "outputs": [],
   "source": [
    "class Vector:\n",
    "    \n",
    "    def __init__(self,x,y):\n",
    "        self.x=x\n",
    "        self.y=y\n",
    "    \n",
    "    def scalar_multiply(self,c):\n",
    "        \"\"\"returns a Vector with components multiplied by c\"\"\"\n",
    "        return Vector(c*self.x,c*self.y)\n",
    "    \n",
    "    def __str__(self):\n",
    "        return(\"<\"+str(self.x)+\",\"+str(self.y)+\">\")\n",
    "    \n",
    "    def __add__(self,other):\n",
    "        return(Vector(self.x+other.x,self.y+other.y))\n",
    "    \n",
    "    def __sub__(self,other):\n",
    "        return(Vector(self.x-other.x,self.y-other.y))"
   ]
  },
  {
   "cell_type": "code",
   "execution_count": 25,
   "metadata": {},
   "outputs": [
    {
     "name": "stdout",
     "output_type": "stream",
     "text": [
      "<4,7>\n",
      "<2,3>\n"
     ]
    }
   ],
   "source": [
    "v=Vector(3,5)\n",
    "u=Vector(1,2)\n",
    "print(u+v)\n",
    "print(v-u)"
   ]
  },
  {
   "cell_type": "markdown",
   "metadata": {},
   "source": [
    "## Documentation\n",
    "\n",
    "Lastly, let's add some documentation."
   ]
  },
  {
   "cell_type": "code",
   "execution_count": 1,
   "metadata": {},
   "outputs": [],
   "source": [
    "\n",
    "class Vector:\n",
    "    \"\"\"\n",
    "    2D vector class supporting additon, subtraction, and scalar multiplication\n",
    "    \"\"\"\n",
    "\n",
    "    \n",
    "    def __init__(self,x,y):\n",
    "        self.x=x\n",
    "        self.y=y\n",
    "    \n",
    "    def scalar_multiply(self,c):\n",
    "        \"\"\"returns a Vector with components multiplied by c\"\"\"\n",
    "        return Vector(c*self.x,c*self.y)\n",
    "    \n",
    "    #These are self explanatory (as is the intializer)\n",
    "    def __str__(self):\n",
    "        return(\"<\"+str(self.x)+\",\"+str(self.y)+\">\")\n",
    "    \n",
    "    def __add__(self,other):\n",
    "        return(Vector(self.x+other.x,self.y+other.y))\n",
    "    \n",
    "    def __sub__(self,other):\n",
    "        return(Vector(self.x-other.x,self.y-other.y))"
   ]
  },
  {
   "cell_type": "code",
   "execution_count": 2,
   "metadata": {},
   "outputs": [],
   "source": [
    "?Vector"
   ]
  },
  {
   "cell_type": "code",
   "execution_count": 5,
   "metadata": {},
   "outputs": [],
   "source": [
    "?Vector.scalar_multiply"
   ]
  },
  {
   "cell_type": "code",
   "execution_count": null,
   "metadata": {},
   "outputs": [],
   "source": []
  }
 ],
 "metadata": {
  "kernelspec": {
   "display_name": "Python 3",
   "language": "python",
   "name": "python3"
  },
  "language_info": {
   "codemirror_mode": {
    "name": "ipython",
    "version": 3
   },
   "file_extension": ".py",
   "mimetype": "text/x-python",
   "name": "python",
   "nbconvert_exporter": "python",
   "pygments_lexer": "ipython3",
   "version": "3.7.3"
  }
 },
 "nbformat": 4,
 "nbformat_minor": 4
}
