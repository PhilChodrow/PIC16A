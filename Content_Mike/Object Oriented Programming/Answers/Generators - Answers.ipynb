{
 "cells": [
  {
   "cell_type": "markdown",
   "metadata": {},
   "source": [
    "# Generators\n",
    "A generator is a powerful syntactic shortcut for creating iterators. Rather than writing a whole customized iterator class, a generator allows you to construct iterators using function-like syntax. The key syntactic difference between functions and generators is the yield keyword, which replaces return in functions. There are also several important semantic differences. Let's look at an example."
   ]
  },
  {
   "cell_type": "code",
   "execution_count": 1,
   "metadata": {},
   "outputs": [],
   "source": [
    "s=\"abcdefghijklmnopqrstuvwxyz\""
   ]
  },
  {
   "cell_type": "markdown",
   "metadata": {},
   "source": [
    "We could write an iterator such that \n",
    "\n",
    "for x in s: \n",
    "    print(x)\n",
    "    \n",
    "would print every other letter, but instead we are going to use a generator to save time and code lines"
   ]
  },
  {
   "cell_type": "code",
   "execution_count": 2,
   "metadata": {},
   "outputs": [],
   "source": [
    "#generators look just like functions, but end with yield rather than return\n",
    "def every_other(L):\n",
    "    for i in range(0,len(L)-1,2):\n",
    "        yield L[i]"
   ]
  },
  {
   "cell_type": "code",
   "execution_count": 3,
   "metadata": {},
   "outputs": [],
   "source": [
    "#create a generator\n",
    "it = every_other(s)"
   ]
  },
  {
   "cell_type": "code",
   "execution_count": 4,
   "metadata": {},
   "outputs": [
    {
     "data": {
      "text/plain": [
       "generator"
      ]
     },
     "execution_count": 4,
     "metadata": {},
     "output_type": "execute_result"
    }
   ],
   "source": [
    "#check its type\n",
    "type(it)"
   ]
  },
  {
   "cell_type": "code",
   "execution_count": 5,
   "metadata": {},
   "outputs": [
    {
     "data": {
      "text/plain": [
       "'a'"
      ]
     },
     "execution_count": 5,
     "metadata": {},
     "output_type": "execute_result"
    }
   ],
   "source": [
    "#use next to get the next item in s (according to the generator)\n",
    "next(it)"
   ]
  },
  {
   "cell_type": "code",
   "execution_count": 6,
   "metadata": {},
   "outputs": [
    {
     "data": {
      "text/plain": [
       "'c'"
      ]
     },
     "execution_count": 6,
     "metadata": {},
     "output_type": "execute_result"
    }
   ],
   "source": [
    "next(it)"
   ]
  },
  {
   "cell_type": "code",
   "execution_count": 7,
   "metadata": {},
   "outputs": [
    {
     "data": {
      "text/plain": [
       "'e'"
      ]
     },
     "execution_count": 7,
     "metadata": {},
     "output_type": "execute_result"
    }
   ],
   "source": [
    "next(it)"
   ]
  },
  {
   "cell_type": "markdown",
   "metadata": {},
   "source": [
    "As we can see, the next function lets us print the next letter. We can also use generators combined with for loops"
   ]
  },
  {
   "cell_type": "code",
   "execution_count": 8,
   "metadata": {},
   "outputs": [
    {
     "name": "stdout",
     "output_type": "stream",
     "text": [
      "a\n",
      "c\n",
      "e\n",
      "g\n",
      "i\n",
      "k\n",
      "m\n",
      "o\n",
      "q\n",
      "s\n",
      "u\n",
      "w\n",
      "y\n"
     ]
    }
   ],
   "source": [
    "for letter in every_other(s):\n",
    "    print(letter)"
   ]
  },
  {
   "cell_type": "markdown",
   "metadata": {},
   "source": [
    "This took many fewer code lines than the equivalent code whcih would have been as shown below:"
   ]
  },
  {
   "cell_type": "code",
   "execution_count": 12,
   "metadata": {},
   "outputs": [],
   "source": [
    "class funnyList:\n",
    "    \"\"\"\n",
    "    A list where you print every other item\n",
    "    \"\"\"\n",
    "    def __init__(self,L):\n",
    "        self.L=L\n",
    "        \n",
    "    def __str__(self):\n",
    "        return(str(self.L))\n",
    "\n",
    "    def __iter__(self):\n",
    "        return(FunnyListIterator(self))\n",
    "    \n",
    "class FunnyListIterator:\n",
    "    \n",
    "    \n",
    "    def __init__(self,FL):\n",
    "        self.L=FL.L\n",
    "        self.index=0\n",
    "        \n",
    "        \n",
    "    def __next__(self):\n",
    "        #Stop if you are at (or past) the end\n",
    "        if self.index>=len(self.L):\n",
    "            raise StopIteration\n",
    "        \n",
    "        #move two spaces at a time\n",
    "        self.index+=2\n",
    "        return(self.L[self.index-2])\n",
    "    "
   ]
  },
  {
   "cell_type": "code",
   "execution_count": 22,
   "metadata": {},
   "outputs": [],
   "source": [
    "funnys=funnyList(s)\n",
    "for letter in funnys:\n",
    "    print(letter)"
   ]
  },
  {
   "cell_type": "code",
   "execution_count": null,
   "metadata": {},
   "outputs": [],
   "source": []
  }
 ],
 "metadata": {
  "kernelspec": {
   "display_name": "Python 3",
   "language": "python",
   "name": "python3"
  },
  "language_info": {
   "codemirror_mode": {
    "name": "ipython",
    "version": 3
   },
   "file_extension": ".py",
   "mimetype": "text/x-python",
   "name": "python",
   "nbconvert_exporter": "python",
   "pygments_lexer": "ipython3",
   "version": "3.8.8"
  }
 },
 "nbformat": 4,
 "nbformat_minor": 4
}
