{
 "cells": [
  {
   "cell_type": "markdown",
   "metadata": {},
   "source": [
    "# Wizard Class\n",
    "\n",
    "In this video, we will introduce a wizard class based on the Harry Potter books / movies. This class will have two child classes called HogwartsProfessor and DeathEater.\n",
    "\n",
    "For those of you who have never seen/read Harry Potter, Hogwarts is school where young wizards go to pursue their magical education. The DeathEaters are the evil wizards who follow the Dark Lord, Lord Voldemort (he who must not be named)"
   ]
  },
  {
   "cell_type": "code",
   "execution_count": 8,
   "metadata": {},
   "outputs": [],
   "source": [
    "class Wizard:\n",
    "    \n",
    "    school = \"Hogwarts School of Witchcraft and Wizardry\"\n",
    "    health=100\n",
    "    \n",
    "    def __init__(self, first,last,skill):\n",
    "        self.first=first\n",
    "        self.last=last\n",
    "        self.skill=skill\n",
    "\n",
    "        \n",
    "    def introduce(self):\n",
    "        print(\"Hello, I am \" + self.first  + \" \" + self.last +\" of \"+ self.school)\n",
    "        \n",
    "    def train(self,other):\n",
    "        if other.skill<self.skill:\n",
    "            other.skill+=1\n",
    "        else:\n",
    "            print(\"Sorry, you are already more skilled than me\")\n",
    "    \n",
    "    \n",
    "        \n",
    "    "
   ]
  },
  {
   "cell_type": "code",
   "execution_count": 9,
   "metadata": {},
   "outputs": [],
   "source": [
    "Harry  = Wizard(\"Harry\",\"Potter\",30)"
   ]
  },
  {
   "cell_type": "code",
   "execution_count": 10,
   "metadata": {},
   "outputs": [
    {
     "name": "stdout",
     "output_type": "stream",
     "text": [
      "Hello, I am Harry Potter of Hogwarts School of Witchcraft and Wizardry\n"
     ]
    }
   ],
   "source": [
    "Harry.introduce()"
   ]
  },
  {
   "cell_type": "code",
   "execution_count": 11,
   "metadata": {},
   "outputs": [],
   "source": [
    "Ron = Wizard(\"Ron\",\"Weasley\",10)"
   ]
  },
  {
   "cell_type": "code",
   "execution_count": 12,
   "metadata": {},
   "outputs": [
    {
     "data": {
      "text/plain": [
       "11"
      ]
     },
     "execution_count": 12,
     "metadata": {},
     "output_type": "execute_result"
    }
   ],
   "source": [
    "Harry.train(Ron)\n",
    "Ron.skill"
   ]
  },
  {
   "cell_type": "markdown",
   "metadata": {},
   "source": [
    "## HogwartsProfessor\n",
    "\n",
    "The class HogwartsProfessor inherits from the class Wizard"
   ]
  },
  {
   "cell_type": "code",
   "execution_count": 23,
   "metadata": {},
   "outputs": [],
   "source": [
    "class HogwartsProfessor(Wizard):\n",
    "    \n",
    "    #This is called OVERRIDING\n",
    "    def introduce(self):\n",
    "        print(\"Hello, I am Professor \" + self.first  + \" \" + self.last +\" of \"+ self.school)\n",
    "        \n",
    "    def start_class(self):\n",
    "        print(\"Put down your wands and open up your spell book, its time to start class.\")\n",
    "     "
   ]
  },
  {
   "cell_type": "code",
   "execution_count": 24,
   "metadata": {},
   "outputs": [],
   "source": [
    "Albus=HogwartsProfessor(\"Albus\",\"Dumbledore\",100)"
   ]
  },
  {
   "cell_type": "code",
   "execution_count": 25,
   "metadata": {},
   "outputs": [
    {
     "name": "stdout",
     "output_type": "stream",
     "text": [
      "Hello, I am Professor Albus Dumbledore of Hogwarts School of Witchcraft and Wizardry\n"
     ]
    }
   ],
   "source": [
    "Albus.introduce()"
   ]
  },
  {
   "cell_type": "code",
   "execution_count": 26,
   "metadata": {},
   "outputs": [
    {
     "data": {
      "text/plain": [
       "31"
      ]
     },
     "execution_count": 26,
     "metadata": {},
     "output_type": "execute_result"
    }
   ],
   "source": [
    "Albus.train(Harry)\n",
    "Harry.skill"
   ]
  },
  {
   "cell_type": "code",
   "execution_count": 27,
   "metadata": {},
   "outputs": [
    {
     "name": "stdout",
     "output_type": "stream",
     "text": [
      "Put down your wands and open up your spell book, its time to start class.\n"
     ]
    }
   ],
   "source": [
    "Albus.start_class()"
   ]
  },
  {
   "cell_type": "code",
   "execution_count": 19,
   "metadata": {},
   "outputs": [],
   "source": [
    "#This doesn't work\n",
    "#Harry.start_class()"
   ]
  },
  {
   "cell_type": "code",
   "execution_count": 20,
   "metadata": {},
   "outputs": [],
   "source": [
    "class HogwartsProfessor(Wizard):\n",
    "    \n",
    "    #This is called OVERRIDING\n",
    "    def introduce(self):\n",
    "        print(\"Hello, I am Professor \" + self.first  + \" \" + self.last +\" of \"+ self.school)\n",
    "        \n",
    "    def start_class(self):\n",
    "        print(\"Alright students, open up your spell book, its time to start class.\")\n",
    "     \n",
    "    def humble_intro(self):\n",
    "        super().introduce()"
   ]
  },
  {
   "cell_type": "code",
   "execution_count": 28,
   "metadata": {},
   "outputs": [],
   "source": [
    "Albus=HogwartsProfessor(\"Albus\",\"Dumbledore\",100)\n",
    "\n"
   ]
  },
  {
   "cell_type": "code",
   "execution_count": 29,
   "metadata": {},
   "outputs": [
    {
     "ename": "AttributeError",
     "evalue": "'HogwartsProfessor' object has no attribute 'humble_intro'",
     "output_type": "error",
     "traceback": [
      "\u001b[1;31m---------------------------------------------------------------------------\u001b[0m",
      "\u001b[1;31mAttributeError\u001b[0m                            Traceback (most recent call last)",
      "\u001b[1;32m<ipython-input-29-fd498c42d7cb>\u001b[0m in \u001b[0;36m<module>\u001b[1;34m\u001b[0m\n\u001b[1;32m----> 1\u001b[1;33m \u001b[0mAlbus\u001b[0m\u001b[1;33m.\u001b[0m\u001b[0mhumble_intro\u001b[0m\u001b[1;33m(\u001b[0m\u001b[1;33m)\u001b[0m\u001b[1;33m\u001b[0m\u001b[1;33m\u001b[0m\u001b[0m\n\u001b[0m",
      "\u001b[1;31mAttributeError\u001b[0m: 'HogwartsProfessor' object has no attribute 'humble_intro'"
     ]
    }
   ],
   "source": [
    "Albus.humble_intro()"
   ]
  },
  {
   "cell_type": "markdown",
   "metadata": {},
   "source": [
    "## DeathEaters\n",
    "\n",
    "Now, we introduce the villians, the DeathEaters (evil wizards)"
   ]
  },
  {
   "cell_type": "code",
   "execution_count": 20,
   "metadata": {},
   "outputs": [],
   "source": [
    "class DeathEater(Wizard):\n",
    "    \n",
    "    school=\"EvilHogwarts\"\n",
    "    def attack(self,other):\n",
    "        other.health-=1\n",
    "    def AvadaKedavra(self,other):\n",
    "        other.health=0"
   ]
  },
  {
   "cell_type": "code",
   "execution_count": 21,
   "metadata": {},
   "outputs": [],
   "source": [
    "Voldemort=DeathEater(\"Thomas\",\"Riddle\",100)"
   ]
  },
  {
   "cell_type": "code",
   "execution_count": 22,
   "metadata": {},
   "outputs": [
    {
     "data": {
      "text/plain": [
       "99"
      ]
     },
     "execution_count": 22,
     "metadata": {},
     "output_type": "execute_result"
    }
   ],
   "source": [
    "Voldemort.attack(Harry)\n",
    "Harry.health"
   ]
  },
  {
   "cell_type": "code",
   "execution_count": null,
   "metadata": {},
   "outputs": [],
   "source": []
  }
 ],
 "metadata": {
  "kernelspec": {
   "display_name": "Python 3",
   "language": "python",
   "name": "python3"
  },
  "language_info": {
   "codemirror_mode": {
    "name": "ipython",
    "version": 3
   },
   "file_extension": ".py",
   "mimetype": "text/x-python",
   "name": "python",
   "nbconvert_exporter": "python",
   "pygments_lexer": "ipython3",
   "version": "3.8.5"
  }
 },
 "nbformat": 4,
 "nbformat_minor": 4
}
