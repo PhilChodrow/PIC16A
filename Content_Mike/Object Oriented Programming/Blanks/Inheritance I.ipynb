{
 "cells": [
  {
   "cell_type": "markdown",
   "metadata": {},
   "source": [
    "# Inheritance"
   ]
  },
  {
   "cell_type": "markdown",
   "metadata": {},
   "source": [
    "Sometimes, you have a class which almost does what you want, but not quite. In times like these, you can create a ``child class\" which inherits features from a \"parent class\".\n",
    "\n",
    "Let's suppose I have two dicts which keep track of the items in my pantry and the items I purchased at Ralph's last night after writing this lesson plan"
   ]
  },
  {
   "cell_type": "code",
   "execution_count": 2,
   "metadata": {},
   "outputs": [],
   "source": [
    "pantry={\n",
    "    \"Pounds of Chicken Breast\": 5,\n",
    "    \"Bags of Frozen Broccoli\": 1,\n",
    "    \"Pounds of Brown Rice\": 4,\n",
    "    \"Bottles of Hot Sauce\":2,\n",
    "}\n",
    "\n",
    "shopping_trip={\n",
    "    \"Pounds of Chicken Breast\":5,\n",
    "    \"Pounds of Mushrooms\": 2,\n",
    "    \"Bags of Spinach\":2,\n",
    "    \"Bottles of Soy Sauce\":1\n",
    "}"
   ]
  },
  {
   "cell_type": "markdown",
   "metadata": {},
   "source": [
    "We want to be able to add the items from my shopping trip to my pantry. update almost does the trick but not quite"
   ]
  },
  {
   "cell_type": "code",
   "execution_count": null,
   "metadata": {},
   "outputs": [],
   "source": []
  },
  {
   "cell_type": "markdown",
   "metadata": {},
   "source": [
    "For later use, let's set pantry and shopping_trip back to their original values "
   ]
  },
  {
   "cell_type": "code",
   "execution_count": null,
   "metadata": {},
   "outputs": [],
   "source": []
  },
  {
   "cell_type": "markdown",
   "metadata": {},
   "source": [
    "## Solution: AdditionDict\n",
    "\n",
    "To solve our problem, we will create a new class called AdditionDict which builds on the dictionary class "
   ]
  },
  {
   "cell_type": "code",
   "execution_count": null,
   "metadata": {},
   "outputs": [],
   "source": [
    "        "
   ]
  },
  {
   "cell_type": "markdown",
   "metadata": {},
   "source": [
    "As of now, AdditionDict can do the exact same things as a regular dictionary"
   ]
  },
  {
   "cell_type": "code",
   "execution_count": null,
   "metadata": {},
   "outputs": [],
   "source": []
  },
  {
   "cell_type": "code",
   "execution_count": null,
   "metadata": {},
   "outputs": [],
   "source": []
  },
  {
   "cell_type": "code",
   "execution_count": null,
   "metadata": {},
   "outputs": [],
   "source": []
  },
  {
   "cell_type": "markdown",
   "metadata": {},
   "source": [
    "We note that A is actually a dict in addition to being an AdditionDict"
   ]
  },
  {
   "cell_type": "code",
   "execution_count": null,
   "metadata": {},
   "outputs": [],
   "source": []
  },
  {
   "cell_type": "markdown",
   "metadata": {},
   "source": [
    "__Pause for a moment__: why were we able to do:\n",
    "\n",
    "A = AdditionDict({'a' : 1, 'b' : 2})\n",
    "\n",
    "and get the expected result?"
   ]
  },
  {
   "cell_type": "code",
   "execution_count": 1,
   "metadata": {},
   "outputs": [],
   "source": [
    "#First lets note that dicts can be created like list:\n",
    "\n",
    "\n",
    "\n",
    "#but also like this\n"
   ]
  },
  {
   "cell_type": "code",
   "execution_count": null,
   "metadata": {},
   "outputs": [],
   "source": []
  },
  {
   "cell_type": "markdown",
   "metadata": {},
   "source": [
    "Secondly, note that since AdditionDict inherits from dict, it automatically has all of it's member functions including the initializer, so \n",
    "\n",
    "AdditionDict.__init__({'a':1,'b':2}) is the same as dict.__init__({'a':1,'b':2})"
   ]
  },
  {
   "cell_type": "markdown",
   "metadata": {},
   "source": [
    "### Now, let's Equip AdditionDict with Addition"
   ]
  },
  {
   "cell_type": "code",
   "execution_count": null,
   "metadata": {},
   "outputs": [],
   "source": [
    "\n",
    "        "
   ]
  },
  {
   "cell_type": "code",
   "execution_count": null,
   "metadata": {},
   "outputs": [],
   "source": []
  },
  {
   "cell_type": "code",
   "execution_count": null,
   "metadata": {},
   "outputs": [],
   "source": []
  },
  {
   "cell_type": "code",
   "execution_count": null,
   "metadata": {},
   "outputs": [],
   "source": []
  },
  {
   "cell_type": "code",
   "execution_count": null,
   "metadata": {},
   "outputs": [],
   "source": []
  }
 ],
 "metadata": {
  "kernelspec": {
   "display_name": "Python 3",
   "language": "python",
   "name": "python3"
  },
  "language_info": {
   "codemirror_mode": {
    "name": "ipython",
    "version": 3
   },
   "file_extension": ".py",
   "mimetype": "text/x-python",
   "name": "python",
   "nbconvert_exporter": "python",
   "pygments_lexer": "ipython3",
   "version": "3.8.5"
  }
 },
 "nbformat": 4,
 "nbformat_minor": 4
}
