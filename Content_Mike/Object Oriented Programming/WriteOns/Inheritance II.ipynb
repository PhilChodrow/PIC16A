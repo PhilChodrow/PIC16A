{
 "cells": [
  {
   "cell_type": "markdown",
   "metadata": {},
   "source": [
    "# Jedi Class\n",
    "\n",
    "In this video, we will introduce the Jedi class based on the movie franchise Star Wars. This class will have two child classes called Jedi Master and Sith.\n",
    "\n",
    "For those of you who have never seen star wars. They Jedi are a knight-like order who protect the galaxy. They are best known for having lightsabers and the ability to move stuff with their minds (using the force). The Sith are like the Jedi, but evil."
   ]
  },
  {
   "cell_type": "code",
   "execution_count": 57,
   "metadata": {},
   "outputs": [],
   "source": [
    "class Jedi:\n",
    "    \n",
    "    allegiance=\"the Jedi Order\"\n",
    "    health = 100\n",
    "    \n",
    "    \n",
    "    def __init__(self,first,last,skill):\n",
    "        self.first=first\n",
    "        self.last=last\n",
    "        self.skill=skill\n",
    "    \n",
    "    def introduce(self):\n",
    "        print(\"Hello, I am \" + self.first + \" \"  + self.last + \" of the \" + self.allegiance)\n",
    "        \n",
    "    def train(self,other):\n",
    "        if self.skill>other.skill:\n",
    "            other.skill+=1\n",
    "        else:\n",
    "            print(\"I am sorry, there is nothing I can teach you\")\n",
    "    "
   ]
  },
  {
   "cell_type": "code",
   "execution_count": 58,
   "metadata": {},
   "outputs": [],
   "source": [
    "Obiwan=Jedi(\"Obiwan\",\"Kenobi\",30)"
   ]
  },
  {
   "cell_type": "code",
   "execution_count": 59,
   "metadata": {},
   "outputs": [
    {
     "name": "stdout",
     "output_type": "stream",
     "text": [
      "Hello, I am Obiwan Kenobi of the the Jedi Order\n"
     ]
    }
   ],
   "source": [
    "Obiwan.introduce()"
   ]
  },
  {
   "cell_type": "code",
   "execution_count": 60,
   "metadata": {},
   "outputs": [],
   "source": [
    "Luke=Jedi(\"Luke\",\"Skywalker\",10)"
   ]
  },
  {
   "cell_type": "code",
   "execution_count": 61,
   "metadata": {},
   "outputs": [
    {
     "data": {
      "text/plain": [
       "11"
      ]
     },
     "execution_count": 61,
     "metadata": {},
     "output_type": "execute_result"
    }
   ],
   "source": [
    "Obiwan.train(Luke)\n",
    "Luke.skill"
   ]
  },
  {
   "cell_type": "code",
   "execution_count": 62,
   "metadata": {},
   "outputs": [
    {
     "name": "stdout",
     "output_type": "stream",
     "text": [
      "I am sorry, there is nothing I can teach you\n"
     ]
    }
   ],
   "source": [
    "Luke.train(Obiwan)"
   ]
  },
  {
   "cell_type": "markdown",
   "metadata": {},
   "source": [
    "## JediMasters\n",
    "\n",
    "The class JediMaster inherits from the class Jedi"
   ]
  },
  {
   "cell_type": "code",
   "execution_count": 66,
   "metadata": {},
   "outputs": [],
   "source": [
    "class JediMaster(Jedi):\n",
    "    \n",
    "    #OVERRIDING\n",
    "    def introduce(self):\n",
    "        print(\"Hello, I am master \"+ self.first+ \" \" + self.last + \" or the \"+ self.allegiance)\n",
    "        \n",
    "    def call_meeting(self):\n",
    "        print(\"I am calling an order of the Jedi Council\")"
   ]
  },
  {
   "cell_type": "code",
   "execution_count": 67,
   "metadata": {},
   "outputs": [],
   "source": [
    "Mace=JediMaster(\"Mace\",\"Windu\",50)"
   ]
  },
  {
   "cell_type": "code",
   "execution_count": 68,
   "metadata": {},
   "outputs": [
    {
     "name": "stdout",
     "output_type": "stream",
     "text": [
      "Hello, I am master Mace Windu or the the Jedi Order\n"
     ]
    }
   ],
   "source": [
    "Mace.introduce()"
   ]
  },
  {
   "cell_type": "code",
   "execution_count": 69,
   "metadata": {},
   "outputs": [
    {
     "name": "stdout",
     "output_type": "stream",
     "text": [
      "I am calling an order of the Jedi Council\n"
     ]
    }
   ],
   "source": [
    "Mace.call_meeting()"
   ]
  },
  {
   "cell_type": "code",
   "execution_count": 70,
   "metadata": {},
   "outputs": [
    {
     "ename": "AttributeError",
     "evalue": "'Jedi' object has no attribute 'call_meeting'",
     "output_type": "error",
     "traceback": [
      "\u001b[1;31m---------------------------------------------------------------------------\u001b[0m",
      "\u001b[1;31mAttributeError\u001b[0m                            Traceback (most recent call last)",
      "\u001b[1;32m<ipython-input-70-3c0f280b9639>\u001b[0m in \u001b[0;36m<module>\u001b[1;34m\u001b[0m\n\u001b[1;32m----> 1\u001b[1;33m \u001b[0mLuke\u001b[0m\u001b[1;33m.\u001b[0m\u001b[0mcall_meeting\u001b[0m\u001b[1;33m(\u001b[0m\u001b[1;33m)\u001b[0m\u001b[1;33m\u001b[0m\u001b[1;33m\u001b[0m\u001b[0m\n\u001b[0m",
      "\u001b[1;31mAttributeError\u001b[0m: 'Jedi' object has no attribute 'call_meeting'"
     ]
    }
   ],
   "source": []
  },
  {
   "cell_type": "code",
   "execution_count": 71,
   "metadata": {},
   "outputs": [],
   "source": [
    "class JediMaster(Jedi):\n",
    "    \n",
    "    #OVERRIDING\n",
    "    def introduce(self):\n",
    "        print(\"Hello, I am master \"+ self.first+ \" \" + self.last + \" or the \"+ self.allegiance)\n",
    "        \n",
    "    def call_meeting(self):\n",
    "        print(\"I am calling an order of the Jedi Council\")\n",
    "        \n",
    "    def humble_introduce(self):\n",
    "        super().introduce()"
   ]
  },
  {
   "cell_type": "markdown",
   "metadata": {},
   "source": [
    "Suppose we want  Mace Windu to introduce himself the normal way, without referring to himself as a master"
   ]
  },
  {
   "cell_type": "code",
   "execution_count": 72,
   "metadata": {},
   "outputs": [],
   "source": [
    "Mace=JediMaster(\"Mace\",\"Windu\",50)"
   ]
  },
  {
   "cell_type": "code",
   "execution_count": 73,
   "metadata": {},
   "outputs": [
    {
     "name": "stdout",
     "output_type": "stream",
     "text": [
      "Hello, I am master Mace Windu or the the Jedi Order\n"
     ]
    }
   ],
   "source": [
    "Mace.introduce()            "
   ]
  },
  {
   "cell_type": "code",
   "execution_count": 74,
   "metadata": {},
   "outputs": [
    {
     "name": "stdout",
     "output_type": "stream",
     "text": [
      "Hello, I am Mace Windu of the the Jedi Order\n"
     ]
    }
   ],
   "source": [
    "Mace.humble_introduce()"
   ]
  },
  {
   "cell_type": "markdown",
   "metadata": {},
   "source": [
    "## Sith\n",
    "\n",
    "Now, we introduce the villians, the dark lords of the sith"
   ]
  },
  {
   "cell_type": "code",
   "execution_count": 80,
   "metadata": {},
   "outputs": [],
   "source": [
    "class Sith(Jedi):\n",
    "    \n",
    "    allegiance=\"the dark lords of the sith\"\n",
    "    \n",
    "    def attack(self,other):\n",
    "        other.health-=1\n",
    "        \n",
    "        \n",
    "    def force_choke(self,other):\n",
    "        other.health-=10"
   ]
  },
  {
   "cell_type": "code",
   "execution_count": 81,
   "metadata": {},
   "outputs": [],
   "source": [
    "Vader=Sith(\"Darth\",\"Vader\",50)"
   ]
  },
  {
   "cell_type": "code",
   "execution_count": 79,
   "metadata": {},
   "outputs": [
    {
     "data": {
      "text/plain": [
       "97"
      ]
     },
     "execution_count": 79,
     "metadata": {},
     "output_type": "execute_result"
    }
   ],
   "source": [
    "Vader.attack(Luke)\n",
    "Luke.health"
   ]
  },
  {
   "cell_type": "code",
   "execution_count": 82,
   "metadata": {},
   "outputs": [
    {
     "data": {
      "text/plain": [
       "87"
      ]
     },
     "execution_count": 82,
     "metadata": {},
     "output_type": "execute_result"
    }
   ],
   "source": [
    "Vader.force_choke(Luke)\n",
    "Luke.health"
   ]
  },
  {
   "cell_type": "code",
   "execution_count": null,
   "metadata": {},
   "outputs": [],
   "source": []
  }
 ],
 "metadata": {
  "kernelspec": {
   "display_name": "Python 3",
   "language": "python",
   "name": "python3"
  },
  "language_info": {
   "codemirror_mode": {
    "name": "ipython",
    "version": 3
   },
   "file_extension": ".py",
   "mimetype": "text/x-python",
   "name": "python",
   "nbconvert_exporter": "python",
   "pygments_lexer": "ipython3",
   "version": "3.8.5"
  }
 },
 "nbformat": 4,
 "nbformat_minor": 4
}
