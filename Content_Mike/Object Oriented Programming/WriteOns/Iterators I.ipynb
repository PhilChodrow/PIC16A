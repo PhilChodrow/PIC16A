{
 "cells": [
  {
   "cell_type": "markdown",
   "metadata": {},
   "source": [
    "# Iterators\n",
    "\n",
    "In this lecture, we'll discuss iterators in some detail. We've already seen the keyword iteration, referring to constructs like for- and while-loops. Colloquially, an iterable is an object that can be \"for-looped\" over, and an iterator is the companion object which does so. In this lecture, we'll look into the operation of for-loops in a bit more detail, and define a custom iterators with novel behavior.\n",
    "\n",
    "\n"
   ]
  },
  {
   "cell_type": "markdown",
   "metadata": {},
   "source": [
    "### Containers\n",
    "We've already seen several containers: objects that hold other objects. Examples of containers include lists, tuples, sets, and dictionaries. Most default containers already support iteration:"
   ]
  },
  {
   "cell_type": "code",
   "execution_count": 1,
   "metadata": {},
   "outputs": [
    {
     "name": "stdout",
     "output_type": "stream",
     "text": [
      "1 1\n",
      "2 4\n",
      "3 9\n",
      "4 16\n",
      "5 25\n"
     ]
    }
   ],
   "source": [
    "#Loop over a list\n",
    "L=[1,2,3,4,5]\n",
    "for ell in L:\n",
    "    print(ell,ell**2)"
   ]
  },
  {
   "cell_type": "markdown",
   "metadata": {},
   "source": [
    "The fact that you can for loop over a container-like object seems obvious, but you shouldn't take it for granted. To illustrate this we will introduce the ReverseList class. It will be similar to a list, but will print backwards."
   ]
  },
  {
   "cell_type": "code",
   "execution_count": 2,
   "metadata": {},
   "outputs": [],
   "source": [
    "class ReverseList:\n",
    "    def __init__(self,L):\n",
    "        self.L=L\n",
    "        \n",
    "    def __str__(self):\n",
    "        return(str(self.L))"
   ]
  },
  {
   "cell_type": "markdown",
   "metadata": {},
   "source": [
    "This already works"
   ]
  },
  {
   "cell_type": "code",
   "execution_count": 5,
   "metadata": {},
   "outputs": [
    {
     "name": "stdout",
     "output_type": "stream",
     "text": [
      "[1, 2, 3]\n"
     ]
    }
   ],
   "source": [
    "R=ReverseList([1,2,3])\n",
    "type(R)\n",
    "print(R)"
   ]
  },
  {
   "cell_type": "markdown",
   "metadata": {},
   "source": [
    "This does not work... yet"
   ]
  },
  {
   "cell_type": "code",
   "execution_count": 6,
   "metadata": {},
   "outputs": [
    {
     "ename": "TypeError",
     "evalue": "'ReverseList' object is not iterable",
     "output_type": "error",
     "traceback": [
      "\u001b[1;31m---------------------------------------------------------------------------\u001b[0m",
      "\u001b[1;31mTypeError\u001b[0m                                 Traceback (most recent call last)",
      "\u001b[1;32m<ipython-input-6-21f212b1517d>\u001b[0m in \u001b[0;36m<module>\u001b[1;34m\u001b[0m\n\u001b[1;32m----> 1\u001b[1;33m \u001b[1;32mfor\u001b[0m \u001b[0mr\u001b[0m \u001b[1;32min\u001b[0m \u001b[0mR\u001b[0m\u001b[1;33m:\u001b[0m\u001b[1;33m\u001b[0m\u001b[1;33m\u001b[0m\u001b[0m\n\u001b[0m\u001b[0;32m      2\u001b[0m     \u001b[0mprint\u001b[0m\u001b[1;33m(\u001b[0m\u001b[0mr\u001b[0m\u001b[1;33m)\u001b[0m\u001b[1;33m\u001b[0m\u001b[1;33m\u001b[0m\u001b[0m\n",
      "\u001b[1;31mTypeError\u001b[0m: 'ReverseList' object is not iterable"
     ]
    }
   ],
   "source": [
    "for r in R:\n",
    "    print(r)"
   ]
  },
  {
   "cell_type": "markdown",
   "metadata": {},
   "source": [
    "In order to make the above code work, we need to use the iter method\n",
    "\n"
   ]
  },
  {
   "cell_type": "code",
   "execution_count": 7,
   "metadata": {},
   "outputs": [],
   "source": [
    "class ReverseList:\n",
    "    def __init__(self,L):\n",
    "        self.L=L\n",
    "        \n",
    "    def __str__(self):\n",
    "        return(str(self.L))\n",
    "    \n",
    "    def __iter__(self):\n",
    "        return(ReverseListIterator(self))\n",
    "    \n",
    "class ReverseListIterator:\n",
    "    '''\n",
    "    We need three things\n",
    "    1) Rule for where to start\n",
    "    2) If you are a current position, the rule for where to go next\n",
    "    3) Rule for when to stop\n",
    "    '''\n",
    "    \n",
    "    def __init__(self,RL):\n",
    "        self.L=RL.L\n",
    "        self.index=len(self.L)-1  #this variable stores the current position, start at end because its a ReverseList\n",
    "        \n",
    "    def __next__(self):\n",
    "        \n",
    "        if self.index<0:\n",
    "            raise StopIteration\n",
    "        self.index-=1 #move position back on space\n",
    "        return(self.L[self.index+1])"
   ]
  },
  {
   "cell_type": "code",
   "execution_count": 8,
   "metadata": {},
   "outputs": [
    {
     "name": "stdout",
     "output_type": "stream",
     "text": [
      "5\n",
      "4\n",
      "3\n",
      "2\n",
      "1\n"
     ]
    }
   ],
   "source": [
    "R=ReverseList([1,2,3,4,5])\n",
    "for r in R:\n",
    "    print(r)"
   ]
  },
  {
   "cell_type": "markdown",
   "metadata": {},
   "source": [
    "To aid in understanding, let's add in some comments to trace through the order functions are called in"
   ]
  },
  {
   "cell_type": "code",
   "execution_count": 9,
   "metadata": {},
   "outputs": [],
   "source": [
    "class ReverseList:\n",
    "    def __init__(self,L):\n",
    "        self.L=L\n",
    "        \n",
    "    def __str__(self):\n",
    "        return(str(self.L))\n",
    "    \n",
    "    def __iter__(self):\n",
    "        print(\"__iter__() is called\")\n",
    "        return(ReverseListIterator(self))\n",
    "    \n",
    "class ReverseListIterator:\n",
    "    '''\n",
    "    We need three things\n",
    "    1) Rule for where to start\n",
    "    2) If you are a current position, the rule for where to go next\n",
    "    3) Rule for when to stop\n",
    "    '''\n",
    "    \n",
    "    def __init__(self,RL):\n",
    "        print(\"__init__() is called\")\n",
    "        self.L=RL.L\n",
    "        self.index=len(self.L)-1  #this variable stores the current position, start at end because its a ReverseList\n",
    "        \n",
    "    def __next__(self):\n",
    "        print(\"__next__() is called\")\n",
    "        \n",
    "        if self.index<0:\n",
    "            print(\"Stopping now\")\n",
    "            raise StopIteration\n",
    "        self.index-=1 #move position back on space\n",
    "        return(self.L[self.index+1])"
   ]
  },
  {
   "cell_type": "code",
   "execution_count": 13,
   "metadata": {},
   "outputs": [
    {
     "name": "stdout",
     "output_type": "stream",
     "text": [
      "__iter__() is called\n",
      "__init__() is called\n",
      "__next__() is called\n",
      "5\n",
      "__next__() is called\n",
      "4\n",
      "__next__() is called\n",
      "3\n",
      "__next__() is called\n",
      "2\n",
      "__next__() is called\n",
      "1\n",
      "__next__() is called\n",
      "Stopping now\n"
     ]
    }
   ],
   "source": [
    "R=ReverseList([1,2,3,4,5])\n",
    "for r in R:\n",
    "    print(r)"
   ]
  },
  {
   "cell_type": "code",
   "execution_count": null,
   "metadata": {},
   "outputs": [],
   "source": []
  }
 ],
 "metadata": {
  "kernelspec": {
   "display_name": "Python 3",
   "language": "python",
   "name": "python3"
  },
  "language_info": {
   "codemirror_mode": {
    "name": "ipython",
    "version": 3
   },
   "file_extension": ".py",
   "mimetype": "text/x-python",
   "name": "python",
   "nbconvert_exporter": "python",
   "pygments_lexer": "ipython3",
   "version": "3.8.5"
  }
 },
 "nbformat": 4,
 "nbformat_minor": 4
}
