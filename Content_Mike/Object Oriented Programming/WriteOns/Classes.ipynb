{
 "cells": [
  {
   "cell_type": "markdown",
   "metadata": {},
   "source": [
    "# Classes (Part I)"
   ]
  },
  {
   "cell_type": "markdown",
   "metadata": {},
   "source": [
    "Like C++, Python is an object-oriented programming language. While the idea of object-orientation is somewhat difficult to define, a fairly general rule of thumb is that the right solution to complex problems in Python often involves creating one or more __objects__, which you can think of as bundles of related data and behaviors.\n",
    "\n",
    "A class defines an abstract set of possible objects sharing certain characteristics. For example, \"dog\" would be a good candidate for a class. There are many dogs, all of which have the same species. On the other hand, \"my dog\" refers to a single dog, who could be an __instance__ in this class.\n",
    "\n",
    "For additional optional reading, here is a nice, concise explanation (with excellently chosen examples) of object-oriented programming in Python."
   ]
  },
  {
   "cell_type": "markdown",
   "metadata": {},
   "source": [
    "## Example: The dog class\n",
    "\n",
    "Lets start by creating an empty class"
   ]
  },
  {
   "cell_type": "code",
   "execution_count": 29,
   "metadata": {},
   "outputs": [],
   "source": [
    "class Dog:\n",
    "    pass #Doesn't do anything yet"
   ]
  },
  {
   "cell_type": "markdown",
   "metadata": {},
   "source": [
    "So far, our Dog class doesn't do anything, but it is enough to create a dog object. "
   ]
  },
  {
   "cell_type": "code",
   "execution_count": 30,
   "metadata": {},
   "outputs": [],
   "source": [
    "skippy = Dog()"
   ]
  },
  {
   "cell_type": "code",
   "execution_count": 31,
   "metadata": {},
   "outputs": [
    {
     "data": {
      "text/plain": [
       "__main__.Dog"
      ]
     },
     "execution_count": 31,
     "metadata": {},
     "output_type": "execute_result"
    }
   ],
   "source": [
    "type(skippy)"
   ]
  },
  {
   "cell_type": "markdown",
   "metadata": {},
   "source": [
    "## Now, let's given the dog some member variables: Age, Weight, and Breed.\n",
    "\n",
    "It turns out this is much easier in python than in C++. We start by giving the function an initializer which creates the class object and assigns values to the member variables."
   ]
  },
  {
   "cell_type": "code",
   "execution_count": 32,
   "metadata": {},
   "outputs": [],
   "source": [
    "class Dog:\n",
    "\n",
    "    #Member variables, age, weight, breed\n",
    "    def __init__(self,age,weight,breed):\n",
    "        self.age=age\n",
    "        self.weight=weight\n",
    "        self.breed=breed\n",
    "    \n",
    "    \n",
    "    \n",
    "    "
   ]
  },
  {
   "cell_type": "code",
   "execution_count": 33,
   "metadata": {},
   "outputs": [],
   "source": [
    "skippy=Dog(10,120,\"Golden Retriever\")"
   ]
  },
  {
   "cell_type": "markdown",
   "metadata": {},
   "source": [
    "### Some things to note: \n",
    "-  Unlike in C++ there is no public and private\n",
    "-  In python, the word self plays the role that the implicit parameter does in C++"
   ]
  },
  {
   "cell_type": "code",
   "execution_count": 34,
   "metadata": {},
   "outputs": [
    {
     "data": {
      "text/plain": [
       "'Golden Retriever'"
      ]
     },
     "execution_count": 34,
     "metadata": {},
     "output_type": "execute_result"
    }
   ],
   "source": [
    "skippy.breed"
   ]
  },
  {
   "cell_type": "code",
   "execution_count": 35,
   "metadata": {},
   "outputs": [
    {
     "data": {
      "text/plain": [
       "(120, 10)"
      ]
     },
     "execution_count": 35,
     "metadata": {},
     "output_type": "execute_result"
    }
   ],
   "source": [
    "skippy.weight, skippy.age"
   ]
  },
  {
   "cell_type": "markdown",
   "metadata": {},
   "source": [
    "Now let's give the dog a member function: Bark"
   ]
  },
  {
   "cell_type": "code",
   "execution_count": 40,
   "metadata": {},
   "outputs": [],
   "source": [
    "class Dog:\n",
    "\n",
    "    def __init__(self,age,weight,breed):\n",
    "        self.age=age\n",
    "        self.weight=weight\n",
    "        self.breed=breed\n",
    "    \n",
    "    def  bark(self,n=1):\n",
    "        for i in range(n):\n",
    "            if self.weight<50:\n",
    "                print(\"ruff\")\n",
    "            elif self.weight<100:\n",
    "                print(\"Ruff\")\n",
    "            else:\n",
    "                print(\"RUFF!!!\")\n",
    "    "
   ]
  },
  {
   "cell_type": "code",
   "execution_count": 43,
   "metadata": {},
   "outputs": [],
   "source": [
    "chappy=Dog(8,180,\"Golden Retriever\")"
   ]
  },
  {
   "cell_type": "code",
   "execution_count": 45,
   "metadata": {},
   "outputs": [
    {
     "name": "stdout",
     "output_type": "stream",
     "text": [
      "RUFF!!!\n",
      "RUFF!!!\n",
      "RUFF!!!\n"
     ]
    }
   ],
   "source": [
    "chappy.bark(3)"
   ]
  },
  {
   "cell_type": "code",
   "execution_count": null,
   "metadata": {},
   "outputs": [],
   "source": []
  },
  {
   "cell_type": "markdown",
   "metadata": {},
   "source": [
    "### Class Variables and Instance Variables\n",
    "\n",
    "The variables age, weight, and breed might be different for each instance of the dog class. Therefore, they are called __instance variables__. By constrast, __class variables__ are the same for all instances of a class."
   ]
  },
  {
   "cell_type": "code",
   "execution_count": 46,
   "metadata": {},
   "outputs": [],
   "source": [
    "class Dog:\n",
    "\n",
    "    species=\"Canine\"\n",
    "    cute=True\n",
    "    \n",
    "    def __init__(self,age,weight,breed):\n",
    "        self.age=age\n",
    "        self.weight=weight\n",
    "        self.breed=breed\n",
    "    \n",
    "    def  bark(self,n=1):\n",
    "        for i in range(n):\n",
    "            if self.weight<50:\n",
    "                print(\"ruff\")\n",
    "            elif self.weight<100:\n",
    "                print(\"Ruff\")\n",
    "            else:\n",
    "                print(\"RUFF!!!\")\n",
    "    "
   ]
  },
  {
   "cell_type": "code",
   "execution_count": 50,
   "metadata": {},
   "outputs": [
    {
     "name": "stdout",
     "output_type": "stream",
     "text": [
      "Ruff\n",
      "Ruff\n",
      "Ruff\n"
     ]
    }
   ],
   "source": [
    "Troy=Dog(12,73,\"Golden Retriever\")\n",
    "if Troy.cute==True:\n",
    "    Troy.bark(3)"
   ]
  },
  {
   "cell_type": "markdown",
   "metadata": {},
   "source": [
    "### Don't forget documenation\n",
    "\n",
    "Last, but not least, we should add documenation like the good programmers we are "
   ]
  },
  {
   "cell_type": "code",
   "execution_count": 51,
   "metadata": {},
   "outputs": [],
   "source": [
    "class Dog:\n",
    "    \"\"\"\n",
    "    A class which models dogs. Each dog has an age, weight, and breed specified by user and can bark\n",
    "    \"\"\"\n",
    "    \n",
    "    #Class Variables\n",
    "    species=\"Canine\"\n",
    "    cute=True\n",
    "    \n",
    "    \n",
    "    def __init__(self,age,weight,breed):\n",
    "        self.age=age\n",
    "        self.weight=weight\n",
    "        self.breed=breed\n",
    "    \n",
    "    \n",
    "        \n",
    "    def  bark(self,n=1):\n",
    "        \"\"\"\n",
    "        The dog makes a bark noise (ruff). Larger dogs bark louder. \n",
    "        parameter n determines how many times the dog bars, defaults to one\n",
    "        \"\"\"\n",
    "        for i in range(n):\n",
    "            if self.weight<50:\n",
    "                print(\"ruff\")\n",
    "            elif self.weight<100:\n",
    "                print(\"Ruff\")\n",
    "            else:\n",
    "                print(\"RUFF!!!\")\n",
    "    "
   ]
  },
  {
   "cell_type": "code",
   "execution_count": 54,
   "metadata": {},
   "outputs": [],
   "source": []
  },
  {
   "cell_type": "markdown",
   "metadata": {},
   "source": [
    "Note: We can write member functions two different ways"
   ]
  },
  {
   "cell_type": "code",
   "execution_count": 55,
   "metadata": {},
   "outputs": [],
   "source": [
    "Troy=Dog(10,120,\"Golden Retriever\")"
   ]
  },
  {
   "cell_type": "code",
   "execution_count": 56,
   "metadata": {},
   "outputs": [
    {
     "name": "stdout",
     "output_type": "stream",
     "text": [
      "RUFF!!!\n"
     ]
    }
   ],
   "source": [
    "Troy.bark()"
   ]
  },
  {
   "cell_type": "code",
   "execution_count": 58,
   "metadata": {},
   "outputs": [
    {
     "name": "stdout",
     "output_type": "stream",
     "text": [
      "RUFF!!!\n"
     ]
    }
   ],
   "source": [
    "Dog.bark(Troy)"
   ]
  },
  {
   "cell_type": "code",
   "execution_count": null,
   "metadata": {},
   "outputs": [],
   "source": []
  }
 ],
 "metadata": {
  "kernelspec": {
   "display_name": "Python 3",
   "language": "python",
   "name": "python3"
  },
  "language_info": {
   "codemirror_mode": {
    "name": "ipython",
    "version": 3
   },
   "file_extension": ".py",
   "mimetype": "text/x-python",
   "name": "python",
   "nbconvert_exporter": "python",
   "pygments_lexer": "ipython3",
   "version": "3.8.5"
  }
 },
 "nbformat": 4,
 "nbformat_minor": 4
}
