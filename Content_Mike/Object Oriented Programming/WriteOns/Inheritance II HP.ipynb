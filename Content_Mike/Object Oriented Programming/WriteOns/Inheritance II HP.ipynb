{
 "cells": [
  {
   "cell_type": "markdown",
   "metadata": {},
   "source": [
    "# Wizard Class\n",
    "\n",
    "In this video, we will introduce a wizard class based on the Harry Potter books / movies. This class will have two child classes called HogwartsProfessor and DeathEater.\n",
    "\n",
    "For those of you who have never seen/read Harry Potter, Hogwarts is school where young wizards go to pursue their magical education. The DeathEaters are the evil wizards who follow the Dark Lord, Lord Voldemort (he who must not be named)"
   ]
  },
  {
   "cell_type": "code",
   "execution_count": 4,
   "metadata": {},
   "outputs": [],
   "source": [
    "class Wizard:\n",
    "    \n",
    "    school = \"Hogwarts School of Witchcraft and Wizardry\"\n",
    "    health=100\n",
    "    \n",
    "    def __init__(self,first,last,skill):\n",
    "        self.first=first\n",
    "        self.last=last\n",
    "        self.skill=skill\n",
    "        \n",
    "    def introduce(self):\n",
    "        print(\"Hello, I am \" +self.first + \" \" + self.last+ \" of the \" + self.school)\n",
    "        \n",
    "    def train(self,other):\n",
    "        if other.skill<self.skill:\n",
    "            other.skill+=1\n",
    "        else:\n",
    "            print(\"Sorry, you are already more skilled than me\")\n",
    "    "
   ]
  },
  {
   "cell_type": "code",
   "execution_count": 5,
   "metadata": {},
   "outputs": [],
   "source": [
    "Harry=Wizard(\"Harry\",\"Potter\",30)"
   ]
  },
  {
   "cell_type": "code",
   "execution_count": 6,
   "metadata": {},
   "outputs": [
    {
     "name": "stdout",
     "output_type": "stream",
     "text": [
      "Hello, I am Harry Potter of the Hogwarts School of Witchcraft and Wizardry\n"
     ]
    }
   ],
   "source": [
    "Harry.introduce()"
   ]
  },
  {
   "cell_type": "code",
   "execution_count": 7,
   "metadata": {},
   "outputs": [],
   "source": [
    "Ron=Wizard(\"Ron\",\"Weasley\",10)"
   ]
  },
  {
   "cell_type": "code",
   "execution_count": 9,
   "metadata": {},
   "outputs": [
    {
     "data": {
      "text/plain": [
       "11"
      ]
     },
     "execution_count": 9,
     "metadata": {},
     "output_type": "execute_result"
    }
   ],
   "source": [
    "Harry.train(Ron)\n",
    "Ron.skill"
   ]
  },
  {
   "cell_type": "markdown",
   "metadata": {},
   "source": [
    "## HogwartsProfessor\n",
    "\n",
    "The class HogwartsProfessor inherits from the class Wizard"
   ]
  },
  {
   "cell_type": "code",
   "execution_count": 10,
   "metadata": {},
   "outputs": [],
   "source": [
    "class HogwartsProfessor(Wizard):\n",
    "    \n",
    "    #Overriding\n",
    "    def introduce(self):\n",
    "        print(\"Hello, I am Professor \"+self.first+\" \" +self.last+\" of the \" + self.school)\n",
    "        \n",
    "    def start_class(self):\n",
    "        print(\"Put down your wands and open up your spell books, it's time to start class.\")"
   ]
  },
  {
   "cell_type": "code",
   "execution_count": 11,
   "metadata": {},
   "outputs": [],
   "source": [
    "Albus=HogwartsProfessor(\"Albus\",\"Dumbledore\",100)"
   ]
  },
  {
   "cell_type": "code",
   "execution_count": 12,
   "metadata": {},
   "outputs": [
    {
     "name": "stdout",
     "output_type": "stream",
     "text": [
      "Hello, I am Professor Albus Dumbledore of the Hogwarts School of Witchcraft and Wizardry\n"
     ]
    }
   ],
   "source": [
    "Albus.introduce()"
   ]
  },
  {
   "cell_type": "code",
   "execution_count": 13,
   "metadata": {},
   "outputs": [
    {
     "data": {
      "text/plain": [
       "31"
      ]
     },
     "execution_count": 13,
     "metadata": {},
     "output_type": "execute_result"
    }
   ],
   "source": [
    "Albus.train(Harry)\n",
    "\n",
    "Harry.skill"
   ]
  },
  {
   "cell_type": "code",
   "execution_count": 14,
   "metadata": {},
   "outputs": [
    {
     "name": "stdout",
     "output_type": "stream",
     "text": [
      "Put down your wands and open up your spell books, it's time to start class.\n"
     ]
    }
   ],
   "source": [
    "Albus.start_class()"
   ]
  },
  {
   "cell_type": "code",
   "execution_count": 16,
   "metadata": {},
   "outputs": [],
   "source": [
    "#THis won't work\n",
    "#Harry.start_class()"
   ]
  },
  {
   "cell_type": "code",
   "execution_count": 17,
   "metadata": {},
   "outputs": [],
   "source": [
    "class HogwartsProfessor(Wizard):\n",
    "    \n",
    "    #Overriding\n",
    "    def introduce(self):\n",
    "        print(\"Hello, I am Professor \"+self.first+\" \" +self.last+\" of the \" + self.school)\n",
    "        \n",
    "    def start_class(self):\n",
    "        print(\"Put down your wands and open up your spell books, it's time to start class.\")\n",
    "        \n",
    "    def humble_intro(self):\n",
    "        super().introduce()"
   ]
  },
  {
   "cell_type": "code",
   "execution_count": 18,
   "metadata": {},
   "outputs": [],
   "source": [
    "Albus=HogwartsProfessor(\"Albus\",\"Dumbledore\",100)"
   ]
  },
  {
   "cell_type": "code",
   "execution_count": 19,
   "metadata": {},
   "outputs": [
    {
     "name": "stdout",
     "output_type": "stream",
     "text": [
      "Hello, I am Albus Dumbledore of the Hogwarts School of Witchcraft and Wizardry\n"
     ]
    }
   ],
   "source": [
    "Albus.humble_intro()"
   ]
  },
  {
   "cell_type": "markdown",
   "metadata": {},
   "source": [
    "## DeathEaters\n",
    "\n",
    "Now, we introduce the villians, the DeathEaters (evil wizards)"
   ]
  },
  {
   "cell_type": "code",
   "execution_count": 20,
   "metadata": {},
   "outputs": [],
   "source": [
    "class DeathEater(Wizard):\n",
    "    \n",
    "    school = \"EvilHogwarts\"\n",
    "    def attack(self,other):\n",
    "        other.health-=1\n",
    "    \n",
    "    def AvadaKedavra(self,other):\n",
    "        other.health=0"
   ]
  },
  {
   "cell_type": "code",
   "execution_count": 23,
   "metadata": {},
   "outputs": [],
   "source": [
    "Voldemort=DeathEater(\"Thomas\",\"Riddle\",100)"
   ]
  },
  {
   "cell_type": "code",
   "execution_count": 24,
   "metadata": {},
   "outputs": [],
   "source": [
    "Voldemort.attack(Harry)"
   ]
  },
  {
   "cell_type": "code",
   "execution_count": 25,
   "metadata": {},
   "outputs": [
    {
     "data": {
      "text/plain": [
       "99"
      ]
     },
     "execution_count": 25,
     "metadata": {},
     "output_type": "execute_result"
    }
   ],
   "source": [
    "Harry.health"
   ]
  },
  {
   "cell_type": "code",
   "execution_count": null,
   "metadata": {},
   "outputs": [],
   "source": []
  }
 ],
 "metadata": {
  "kernelspec": {
   "display_name": "Python 3",
   "language": "python",
   "name": "python3"
  },
  "language_info": {
   "codemirror_mode": {
    "name": "ipython",
    "version": 3
   },
   "file_extension": ".py",
   "mimetype": "text/x-python",
   "name": "python",
   "nbconvert_exporter": "python",
   "pygments_lexer": "ipython3",
   "version": "3.8.5"
  }
 },
 "nbformat": 4,
 "nbformat_minor": 4
}
