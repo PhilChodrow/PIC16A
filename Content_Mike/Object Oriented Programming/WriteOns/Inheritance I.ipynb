{
 "cells": [
  {
   "cell_type": "markdown",
   "metadata": {},
   "source": [
    "# Inheritance"
   ]
  },
  {
   "cell_type": "markdown",
   "metadata": {},
   "source": [
    "Sometimes, you have a class which almost does what you want, but not quite. In times like these, you can create a ``child class\" which inherits features from a \"parent class\".\n",
    "\n",
    "Let's suppose I have two dicts which keep track of the items in my pantry and the items I purchased at Ralph's last night after writing this lesson plan"
   ]
  },
  {
   "cell_type": "code",
   "execution_count": 6,
   "metadata": {},
   "outputs": [],
   "source": [
    "pantry={\n",
    "    \"Pounds of Chicken Breast\": 5,\n",
    "    \"Bags of Frozen Broccoli\": 1,\n",
    "    \"Pounds of Brown Rice\": 4,\n",
    "    \"Bottles of Hot Sauce\":5,\n",
    "}\n",
    "\n",
    "shopping_trip={\n",
    "    \"Pounds of Chicken Breast\":5,\n",
    "    \"Pounds of Mushrooms\": 2,\n",
    "    \"Bags of Spinach\":2,\n",
    "    \"Bottles of Soy Sauce\":1\n",
    "}"
   ]
  },
  {
   "cell_type": "markdown",
   "metadata": {},
   "source": [
    "We want to be able to add the items from my shopping trip to my pantry. update almost does the trick but not quite"
   ]
  },
  {
   "cell_type": "code",
   "execution_count": 7,
   "metadata": {},
   "outputs": [
    {
     "data": {
      "text/plain": [
       "{'Pounds of Chicken Breast': 5,\n",
       " 'Bags of Frozen Broccoli': 1,\n",
       " 'Pounds of Brown Rice': 4,\n",
       " 'Bottles of Hot Sauce': 5,\n",
       " 'Pounds of Mushrooms': 2,\n",
       " 'Bags of Spinach': 2,\n",
       " 'Bottles of Soy Sauce': 1}"
      ]
     },
     "execution_count": 7,
     "metadata": {},
     "output_type": "execute_result"
    }
   ],
   "source": [
    "pantry.update(shopping_trip)\n",
    "pantry"
   ]
  },
  {
   "cell_type": "markdown",
   "metadata": {},
   "source": [
    "For later use, let's set pantry and shopping_trip back to their original values "
   ]
  },
  {
   "cell_type": "code",
   "execution_count": 8,
   "metadata": {},
   "outputs": [],
   "source": [
    "pantry={\n",
    "    \"Pounds of Chicken Breast\": 5,\n",
    "    \"Bags of Frozen Broccoli\": 1,\n",
    "    \"Pounds of Brown Rice\": 4,\n",
    "    \"Bottles of Hot Sauce\":5,\n",
    "}\n",
    "\n",
    "shopping_trip={\n",
    "    \"Pounds of Chicken Breast\":5,\n",
    "    \"Pounds of Mushrooms\": 2,\n",
    "    \"Bags of Spinach\":2,\n",
    "    \"Bottles of Soy Sauce\":1\n",
    "}"
   ]
  },
  {
   "cell_type": "markdown",
   "metadata": {},
   "source": [
    "## Solution: AdditionDict\n",
    "\n",
    "To solve our problem, we will create a new class called AdditionDict which builds on the dictionary class "
   ]
  },
  {
   "cell_type": "code",
   "execution_count": 9,
   "metadata": {},
   "outputs": [],
   "source": [
    "class AdditionDict(dict):\n",
    "    pass"
   ]
  },
  {
   "cell_type": "markdown",
   "metadata": {},
   "source": [
    "As of now, AdditionDict can do the exact same things as a regular dictionary"
   ]
  },
  {
   "cell_type": "code",
   "execution_count": 10,
   "metadata": {},
   "outputs": [
    {
     "data": {
      "text/plain": [
       "1"
      ]
     },
     "execution_count": 10,
     "metadata": {},
     "output_type": "execute_result"
    }
   ],
   "source": [
    "A=AdditionDict({'a':1,'b':2})\n",
    "A['a']"
   ]
  },
  {
   "cell_type": "code",
   "execution_count": 11,
   "metadata": {},
   "outputs": [
    {
     "data": {
      "text/plain": [
       "__main__.AdditionDict"
      ]
     },
     "execution_count": 11,
     "metadata": {},
     "output_type": "execute_result"
    }
   ],
   "source": [
    "type(A)"
   ]
  },
  {
   "cell_type": "code",
   "execution_count": null,
   "metadata": {},
   "outputs": [],
   "source": []
  },
  {
   "cell_type": "markdown",
   "metadata": {},
   "source": [
    "We note that A is actually a dict in addition to being an AdditionDict"
   ]
  },
  {
   "cell_type": "code",
   "execution_count": 12,
   "metadata": {},
   "outputs": [
    {
     "data": {
      "text/plain": [
       "True"
      ]
     },
     "execution_count": 12,
     "metadata": {},
     "output_type": "execute_result"
    }
   ],
   "source": [
    "isinstance(A,dict)"
   ]
  },
  {
   "cell_type": "markdown",
   "metadata": {},
   "source": [
    "__Pause for a moment__: why were we able to do:\n",
    "\n",
    "A = AdditionDict({'a' : 1, 'b' : 2})\n",
    "\n",
    "and get the expected result?"
   ]
  },
  {
   "cell_type": "code",
   "execution_count": 13,
   "metadata": {},
   "outputs": [],
   "source": [
    "#First lets note that dicts can be created like list:\n",
    "D1={'a':1,'b':2}\n",
    "\n",
    "\n",
    "#but also like this\n",
    "D2=dict({'a':1,'b':2})"
   ]
  },
  {
   "cell_type": "code",
   "execution_count": 14,
   "metadata": {},
   "outputs": [
    {
     "name": "stdout",
     "output_type": "stream",
     "text": [
      "{'a': 1, 'b': 2} {'a': 1, 'b': 2} {'a': 1, 'b': 2}\n"
     ]
    }
   ],
   "source": [
    "print(D1,D2,A)"
   ]
  },
  {
   "cell_type": "markdown",
   "metadata": {},
   "source": [
    "Secondly, note that since AdditionDict inherits from dict, it automatically has all of it's member functions including the initializer, so \n",
    "\n",
    "AdditionDict.__init__({'a':1,'b':2}) is the same as dict.__init__({'a':1,'b':2})"
   ]
  },
  {
   "cell_type": "markdown",
   "metadata": {},
   "source": [
    "### Now, let's Equip AdditionDict with Addition"
   ]
  },
  {
   "cell_type": "code",
   "execution_count": 15,
   "metadata": {},
   "outputs": [],
   "source": [
    "class AdditionDict(dict):\n",
    "\n",
    "    def __add__(self,other):\n",
    "        \"\"\"\n",
    "        Add the items of other and self pointwise\n",
    "        \"\"\"\n",
    "        \n",
    "        new={}  #new has type dict so far\n",
    "        self_keys=set(self.keys())\n",
    "        other_keys=set(other.keys())\n",
    "        all_keys=self_keys.union(other_keys)\n",
    "        \n",
    "        for key in all_keys:\n",
    "            new.update({key: self.get(key,0) + other.get(key,0)})\n",
    "            \n",
    "        new=AdditionDict(new)\n",
    "        return new"
   ]
  },
  {
   "cell_type": "code",
   "execution_count": 18,
   "metadata": {},
   "outputs": [
    {
     "name": "stdout",
     "output_type": "stream",
     "text": [
      "{'Bottles of Hot Sauce': 5, 'Bags of Frozen Broccoli': 1, 'Pounds of Mushrooms': 2, 'Bottles of Soy Sauce': 1, 'Bags of Spinach': 2, 'Pounds of Brown Rice': 4, 'Pounds of Chicken Breast': 10}\n"
     ]
    }
   ],
   "source": [
    "pantry=AdditionDict(pantry)\n",
    "shopping_trip=AdditionDict(shopping_trip)\n",
    "\n",
    "pantry+=shopping_trip\n",
    "print(pantry)"
   ]
  },
  {
   "cell_type": "code",
   "execution_count": null,
   "metadata": {},
   "outputs": [],
   "source": []
  },
  {
   "cell_type": "code",
   "execution_count": null,
   "metadata": {},
   "outputs": [],
   "source": []
  },
  {
   "cell_type": "code",
   "execution_count": null,
   "metadata": {},
   "outputs": [],
   "source": []
  }
 ],
 "metadata": {
  "kernelspec": {
   "display_name": "Python 3",
   "language": "python",
   "name": "python3"
  },
  "language_info": {
   "codemirror_mode": {
    "name": "ipython",
    "version": 3
   },
   "file_extension": ".py",
   "mimetype": "text/x-python",
   "name": "python",
   "nbconvert_exporter": "python",
   "pygments_lexer": "ipython3",
   "version": "3.8.5"
  }
 },
 "nbformat": 4,
 "nbformat_minor": 4
}
