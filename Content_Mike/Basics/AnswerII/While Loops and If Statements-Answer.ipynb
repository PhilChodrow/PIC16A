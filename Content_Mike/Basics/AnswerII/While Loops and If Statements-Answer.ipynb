{
 "cells": [
  {
   "cell_type": "markdown",
   "metadata": {},
   "source": [
    "### Recall from last time: For Loops"
   ]
  },
  {
   "cell_type": "code",
   "execution_count": 1,
   "metadata": {},
   "outputs": [
    {
     "name": "stdout",
     "output_type": "stream",
     "text": [
      "0\n",
      "1\n",
      "2\n",
      "3\n",
      "4\n",
      "5\n"
     ]
    }
   ],
   "source": [
    "for i in range(6):\n",
    "    print(i)"
   ]
  },
  {
   "cell_type": "markdown",
   "metadata": {},
   "source": [
    "__Key things to rember:__ 1) Colon at the start 2) Indenting matters (indents are used in place of braces)\n",
    "\n",
    "# While Loops\n",
    "\n",
    "Example: Print all powers of 3 which are less than 1000\n"
   ]
  },
  {
   "cell_type": "code",
   "execution_count": 2,
   "metadata": {},
   "outputs": [
    {
     "name": "stdout",
     "output_type": "stream",
     "text": [
      "1\n",
      "3\n",
      "9\n",
      "27\n",
      "81\n",
      "243\n",
      "729\n"
     ]
    }
   ],
   "source": [
    "x = 1\n",
    "while x<1000:\n",
    "    print(x)\n",
    "    x*=3"
   ]
  },
  {
   "cell_type": "code",
   "execution_count": 3,
   "metadata": {},
   "outputs": [
    {
     "name": "stdout",
     "output_type": "stream",
     "text": [
      "2187\n"
     ]
    }
   ],
   "source": [
    "#Similar example: Find the largest power of 3 which is less than 1000, print only the last one\n",
    "\n",
    "#This doesn't work. Why?\n",
    "x = 1\n",
    "while x<1000:\n",
    "    x*=3\n",
    "    \n",
    "print(x) \n"
   ]
  },
  {
   "cell_type": "markdown",
   "metadata": {},
   "source": [
    "# IF Statements"
   ]
  },
  {
   "cell_type": "code",
   "execution_count": 6,
   "metadata": {},
   "outputs": [
    {
     "name": "stdout",
     "output_type": "stream",
     "text": [
      "x is less than y\n"
     ]
    }
   ],
   "source": [
    "x=3\n",
    "y=7\n",
    "if (x<y):\n",
    "    print(\"x is less than y\")\n",
    "else:\n",
    "    print(\"x is greater than y\")\n",
    "    \n",
    "#This code is missing something. Fix it"
   ]
  },
  {
   "cell_type": "markdown",
   "metadata": {},
   "source": [
    "Now, let check  is some numbers are perfect squares"
   ]
  },
  {
   "cell_type": "code",
   "execution_count": 4,
   "metadata": {},
   "outputs": [
    {
     "name": "stdout",
     "output_type": "stream",
     "text": [
      "37 is not a square\n"
     ]
    }
   ],
   "source": [
    "squares=[i**2 for i in range(1,11)]\n",
    "\n",
    "if 37 in squares:\n",
    "    print(\"37 is a square\")\n",
    "else: \n",
    "    print(\"37 is not a square\")"
   ]
  },
  {
   "cell_type": "markdown",
   "metadata": {},
   "source": [
    "__and / or__\n",
    "\n",
    "Lets check if x is even and a square"
   ]
  },
  {
   "cell_type": "code",
   "execution_count": 5,
   "metadata": {},
   "outputs": [
    {
     "name": "stdout",
     "output_type": "stream",
     "text": [
      "x is an even square\n"
     ]
    }
   ],
   "source": [
    "x=64\n",
    "\n",
    "if x%2==0 and x in squares:\n",
    "    print(\"x is an even square\")\n",
    "else:\n",
    "    print(\"x is not an even square\")\n",
    "\n",
    "#What happens if we rerun this with 49 or 62?"
   ]
  },
  {
   "cell_type": "code",
   "execution_count": 9,
   "metadata": {},
   "outputs": [
    {
     "name": "stdout",
     "output_type": "stream",
     "text": [
      "x is even or a square\n"
     ]
    }
   ],
   "source": [
    "x=49\n",
    "\n",
    "if x%2==0 or x in squares:\n",
    "    print(\"x is even or a square\")\n",
    "else:\n",
    "    print(\"x is neither even nor a  square\")"
   ]
  },
  {
   "cell_type": "markdown",
   "metadata": {},
   "source": [
    "## Break and Continue\n",
    "\n",
    "Break breaks you out of a while loop"
   ]
  },
  {
   "cell_type": "code",
   "execution_count": 6,
   "metadata": {},
   "outputs": [
    {
     "name": "stdout",
     "output_type": "stream",
     "text": [
      "4 1000\n",
      "6 250.0\n",
      "0 41.666666666666664\n"
     ]
    },
    {
     "data": {
      "text/plain": [
       "41.666666666666664"
      ]
     },
     "execution_count": 6,
     "metadata": {},
     "output_type": "execute_result"
    }
   ],
   "source": [
    "n=1000\n",
    "L=[4,6,0,5,2]\n",
    "\n",
    "for item in L:\n",
    "    print(item,n)\n",
    "    if item==0:\n",
    "        break\n",
    "    n=n/item\n",
    "n"
   ]
  },
  {
   "cell_type": "markdown",
   "metadata": {},
   "source": [
    "__continue__ skips the rest of the current interatin, goes to start of next line\n"
   ]
  },
  {
   "cell_type": "code",
   "execution_count": 7,
   "metadata": {},
   "outputs": [
    {
     "name": "stdout",
     "output_type": "stream",
     "text": [
      "4 1000\n",
      "6 250.0\n",
      "0 41.666666666666664\n",
      "5 41.666666666666664\n",
      "2 8.333333333333332\n"
     ]
    },
    {
     "data": {
      "text/plain": [
       "4.166666666666666"
      ]
     },
     "execution_count": 7,
     "metadata": {},
     "output_type": "execute_result"
    }
   ],
   "source": [
    "\n",
    "n=1000\n",
    "L=[4,6,0,5,2]\n",
    "\n",
    "for item in L:\n",
    "    print(item,n)\n",
    "    if item==0:\n",
    "        continue\n",
    "    n=n/item\n",
    "n"
   ]
  },
  {
   "cell_type": "markdown",
   "metadata": {},
   "source": [
    "__Use break and continue sparringly__ You can usually avoid them with careful logic"
   ]
  },
  {
   "cell_type": "code",
   "execution_count": 8,
   "metadata": {},
   "outputs": [
    {
     "name": "stdout",
     "output_type": "stream",
     "text": [
      "4 1000\n",
      "6 250.0\n",
      "0 41.666666666666664\n",
      "5 41.666666666666664\n",
      "2 8.333333333333332\n"
     ]
    },
    {
     "data": {
      "text/plain": [
       "4.166666666666666"
      ]
     },
     "execution_count": 8,
     "metadata": {},
     "output_type": "execute_result"
    }
   ],
   "source": [
    "#previous example revisited\n",
    "n=1000\n",
    "L=[4,6,0,5,2]\n",
    "\n",
    "for item in L:\n",
    "    print(item,n)\n",
    "    if item!=0:\n",
    "        n=n/item\n",
    "n"
   ]
  },
  {
   "cell_type": "code",
   "execution_count": null,
   "metadata": {},
   "outputs": [],
   "source": []
  }
 ],
 "metadata": {
  "kernelspec": {
   "display_name": "Python 3",
   "language": "python",
   "name": "python3"
  },
  "language_info": {
   "codemirror_mode": {
    "name": "ipython",
    "version": 3
   },
   "file_extension": ".py",
   "mimetype": "text/x-python",
   "name": "python",
   "nbconvert_exporter": "python",
   "pygments_lexer": "ipython3",
   "version": "3.8.8"
  }
 },
 "nbformat": 4,
 "nbformat_minor": 4
}
