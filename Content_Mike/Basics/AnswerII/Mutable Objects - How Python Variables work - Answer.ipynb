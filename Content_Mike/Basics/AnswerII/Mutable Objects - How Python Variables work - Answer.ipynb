{
 "cells": [
  {
   "cell_type": "markdown",
   "metadata": {},
   "source": [
    "# Mutable and Immutable Objects\n",
    "\n",
    "For this video, __and only this video__ , you have permission to not type what I type \n",
    "\n",
    "This code does what you expect"
   ]
  },
  {
   "cell_type": "code",
   "execution_count": 10,
   "metadata": {},
   "outputs": [
    {
     "name": "stdout",
     "output_type": "stream",
     "text": [
      "3 2\n"
     ]
    }
   ],
   "source": [
    "x=2  #x=2\n",
    "y=x  #x=2,y=2\n",
    "x=3  #x=3,y=2\n",
    "print(x,y)  #3,2"
   ]
  },
  {
   "cell_type": "markdown",
   "metadata": {},
   "source": [
    "This code does not"
   ]
  },
  {
   "cell_type": "code",
   "execution_count": 11,
   "metadata": {},
   "outputs": [
    {
     "name": "stdout",
     "output_type": "stream",
     "text": [
      "[3] [3]\n"
     ]
    }
   ],
   "source": [
    "x=[2]     #x=[2]\n",
    "y=x       #x=[2],y=[2]\n",
    "x[0]=3    #x=[3],y=[2]\n",
    "print(x,y) #[3],[2]"
   ]
  },
  {
   "cell_type": "markdown",
   "metadata": {},
   "source": [
    "__What the heck is going on????__"
   ]
  },
  {
   "cell_type": "code",
   "execution_count": 12,
   "metadata": {},
   "outputs": [
    {
     "name": "stdout",
     "output_type": "stream",
     "text": [
      "140725964973888 140725964973888\n"
     ]
    }
   ],
   "source": [
    "x=2\n",
    "y=2\n",
    "print(id(x),id(y))  #x and y are currently in the same location in memory"
   ]
  },
  {
   "cell_type": "code",
   "execution_count": 14,
   "metadata": {},
   "outputs": [
    {
     "name": "stdout",
     "output_type": "stream",
     "text": [
      "140725964973920 140725964973888\n"
     ]
    },
    {
     "data": {
      "text/plain": [
       "(3, 2)"
      ]
     },
     "execution_count": 14,
     "metadata": {},
     "output_type": "execute_result"
    }
   ],
   "source": [
    "x=3\n",
    "print(id(x),id(y)) #x is now in a different location - this makes sense\n",
    "x,y"
   ]
  },
  {
   "cell_type": "code",
   "execution_count": 15,
   "metadata": {},
   "outputs": [
    {
     "name": "stdout",
     "output_type": "stream",
     "text": [
      "140725964973888 140725964973888\n",
      "140725964973920 140725964973888\n"
     ]
    }
   ],
   "source": [
    "#This is kind of weird\n",
    "x=2\n",
    "y=2\n",
    "print(id(x),id(y))\n",
    "x=3\n",
    "print(id(x),id(y))\n"
   ]
  },
  {
   "cell_type": "markdown",
   "metadata": {},
   "source": [
    "### Here is how variables work:\n",
    "\n",
    "-  When you type x=2, it creates an instance of the object 2 and binds the __name__ x to the object 2\n",
    "-  When you type y=2, it observes that there is already have an instance of the object 2 so it binds the name y to the same object\n",
    "-  When you type x=3, the computer wants to change the object bound to the name x to be the object 3, but it can't. This is because 2 an int and ints are __immutable objects__\n",
    "-  Instead, it therefore, creates an new object called 3, unbinds x from 2 and binds x to 3.\n",
    "-  y is still bound to two\n",
    "\n",
    "Now, what happens with lists?"
   ]
  },
  {
   "cell_type": "code",
   "execution_count": 16,
   "metadata": {},
   "outputs": [
    {
     "name": "stdout",
     "output_type": "stream",
     "text": [
      "1970179936768 1970179936768\n",
      "1970179936768 1970179936768\n"
     ]
    }
   ],
   "source": [
    "x=[2]\n",
    "y=x\n",
    "print(id(x),id(y))\n",
    "x[0]=3\n",
    "print(id(x),id(y))\n"
   ]
  },
  {
   "cell_type": "markdown",
   "metadata": {},
   "source": [
    "### Here is how it works with lists\n",
    "\n",
    "-  When you type x=[2], it creates a list containing the number 2 and binds the name x to that list\n",
    "-  When you type y=x, it creates also binds the name y to that same list\n",
    "-  When you type x=[3], the computer CAN change the object bound to the name x to be the object [3] because [2] a list are lists are __Mutable objects__\n",
    "-  Therefore, x and y are both still bound to the original list. It has a differenent value, but it is still in the same place in the computers memory"
   ]
  },
  {
   "cell_type": "markdown",
   "metadata": {},
   "source": [
    "## Last Example\n",
    "\n",
    "This works the way you would expect\n"
   ]
  },
  {
   "cell_type": "code",
   "execution_count": 18,
   "metadata": {},
   "outputs": [
    {
     "name": "stdout",
     "output_type": "stream",
     "text": [
      "1970179906880 1970179918336\n",
      "[3] [2]\n"
     ]
    }
   ],
   "source": [
    "x=[2]\n",
    "y=[2]\n",
    "print(id(x),id(y))\n",
    "x=[3]\n",
    "print(x,y)"
   ]
  },
  {
   "cell_type": "markdown",
   "metadata": {},
   "source": [
    "x and y are never stored at the same location in memory, despite having the same value"
   ]
  },
  {
   "cell_type": "code",
   "execution_count": 19,
   "metadata": {},
   "outputs": [
    {
     "name": "stdout",
     "output_type": "stream",
     "text": [
      "1970179661056 1970179907328\n"
     ]
    }
   ],
   "source": [
    "x=[2]\n",
    "y=[2]\n",
    "print(id(x),id(y))\n",
    "\n"
   ]
  },
  {
   "cell_type": "markdown",
   "metadata": {},
   "source": [
    "Contrast this with"
   ]
  },
  {
   "cell_type": "code",
   "execution_count": 20,
   "metadata": {},
   "outputs": [
    {
     "name": "stdout",
     "output_type": "stream",
     "text": [
      "140725964973888 140725964973888\n"
     ]
    }
   ],
   "source": [
    "a=2\n",
    "b=2\n",
    "print(id(a),id(b))\n"
   ]
  },
  {
   "cell_type": "markdown",
   "metadata": {},
   "source": [
    "This caputures an important differnece between mutable types and immutable types\n",
    "-  If a is immutable, and b is assigned the same value as a, python automatically binds the name b to the same obect as a\n",
    "-  If x is a mutable obect, it does not do this unless you type y=x\n",
    "\n",
    "Being careful about this will help you avoid errors"
   ]
  },
  {
   "cell_type": "code",
   "execution_count": null,
   "metadata": {},
   "outputs": [],
   "source": []
  }
 ],
 "metadata": {
  "kernelspec": {
   "display_name": "Python 3",
   "language": "python",
   "name": "python3"
  },
  "language_info": {
   "codemirror_mode": {
    "name": "ipython",
    "version": 3
   },
   "file_extension": ".py",
   "mimetype": "text/x-python",
   "name": "python",
   "nbconvert_exporter": "python",
   "pygments_lexer": "ipython3",
   "version": "3.8.8"
  }
 },
 "nbformat": 4,
 "nbformat_minor": 4
}
