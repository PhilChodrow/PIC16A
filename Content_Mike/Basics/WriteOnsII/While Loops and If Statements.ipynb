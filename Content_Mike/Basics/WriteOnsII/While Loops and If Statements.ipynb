{
 "cells": [
  {
   "cell_type": "markdown",
   "metadata": {},
   "source": [
    "### Recall from last time "
   ]
  },
  {
   "cell_type": "code",
   "execution_count": 6,
   "metadata": {},
   "outputs": [
    {
     "name": "stdout",
     "output_type": "stream",
     "text": [
      "0\n",
      "1\n",
      "2\n",
      "3\n",
      "4\n",
      "5\n"
     ]
    }
   ],
   "source": [
    "for i in range(6):\n",
    "    print(i)"
   ]
  },
  {
   "cell_type": "markdown",
   "metadata": {},
   "source": [
    "__Key things to rember:__ 1) Colon at the start 2) Indenting matters (indents are used in place of braces)\n",
    "\n",
    "# While Loops\n",
    "\n",
    "Example: Print all powers of 3 which are less than 1000\n"
   ]
  },
  {
   "cell_type": "code",
   "execution_count": 7,
   "metadata": {},
   "outputs": [
    {
     "name": "stdout",
     "output_type": "stream",
     "text": [
      "1\n",
      "3\n",
      "9\n",
      "27\n",
      "81\n",
      "243\n",
      "729\n"
     ]
    }
   ],
   "source": [
    "x=1\n",
    "while(x<1000):\n",
    "    print(x)\n",
    "    x*=3"
   ]
  },
  {
   "cell_type": "code",
   "execution_count": 10,
   "metadata": {},
   "outputs": [
    {
     "name": "stdout",
     "output_type": "stream",
     "text": [
      "729\n"
     ]
    }
   ],
   "source": [
    "#Similar example: Find the largest power of 3 which is less than 1000, print only the last one\n",
    "\n",
    "#This doesn't work. Why?\n",
    "x=1\n",
    "while 3*x<1000:\n",
    "    x*=3\n",
    "\n",
    "print(x)    \n"
   ]
  },
  {
   "cell_type": "markdown",
   "metadata": {},
   "source": [
    "# IF Statements"
   ]
  },
  {
   "cell_type": "code",
   "execution_count": 16,
   "metadata": {},
   "outputs": [
    {
     "name": "stdout",
     "output_type": "stream",
     "text": [
      "7 is equal to 7\n"
     ]
    }
   ],
   "source": [
    "x=7\n",
    "y=7\n",
    "\n",
    "if (x<y):\n",
    "    print(str(x)+\" is less than \"+str(y))\n",
    "elif x==y:\n",
    "    print(str(x)+\" is equal to \" + str(y))\n",
    "else:\n",
    "    print(str(y)+\" is less than \"+str(x))\n"
   ]
  },
  {
   "cell_type": "markdown",
   "metadata": {},
   "source": [
    "Now, let check  is some numbers are perfect squares"
   ]
  },
  {
   "cell_type": "code",
   "execution_count": 20,
   "metadata": {},
   "outputs": [
    {
     "name": "stdout",
     "output_type": "stream",
     "text": [
      "63 is not a square\n"
     ]
    }
   ],
   "source": [
    "squares=[i**2 for  i in range(1,21)]\n",
    "x=63\n",
    "\n",
    "if x in squares:\n",
    "    print(str(x)+\" is a square\")\n",
    "else:\n",
    "    print(str(x)+\" is not a square\")"
   ]
  },
  {
   "cell_type": "markdown",
   "metadata": {},
   "source": [
    "## and / or\n",
    "\n",
    "Lets check if x is even and a square"
   ]
  },
  {
   "cell_type": "code",
   "execution_count": 24,
   "metadata": {},
   "outputs": [
    {
     "name": "stdout",
     "output_type": "stream",
     "text": [
      "63 is not an even square\n"
     ]
    }
   ],
   "source": [
    "x=63\n",
    "if x in squares and x%2==0:\n",
    "    print(str(x)+\" is an even square\")\n",
    "else: \n",
    "    print(str(x)+\" is not an even square\")"
   ]
  },
  {
   "cell_type": "code",
   "execution_count": 25,
   "metadata": {},
   "outputs": [
    {
     "name": "stdout",
     "output_type": "stream",
     "text": [
      "63 neither even nor a square\n"
     ]
    }
   ],
   "source": [
    "x=63\n",
    "if x in squares or x%2==0:\n",
    "    print(str(x)+\" is even or a square\")\n",
    "else: \n",
    "    print(str(x)+\" neither even nor a square\")"
   ]
  },
  {
   "cell_type": "markdown",
   "metadata": {},
   "source": [
    "## Break and Continue\n",
    "\n",
    "Break breaks you out of a while loop"
   ]
  },
  {
   "cell_type": "code",
   "execution_count": 26,
   "metadata": {},
   "outputs": [
    {
     "name": "stdout",
     "output_type": "stream",
     "text": [
      "4 1000\n",
      "6 250.0\n",
      "0 41.666666666666664\n"
     ]
    },
    {
     "data": {
      "text/plain": [
       "41.666666666666664"
      ]
     },
     "execution_count": 26,
     "metadata": {},
     "output_type": "execute_result"
    }
   ],
   "source": [
    "n=1000\n",
    "L=[4,6,0,5,2]\n",
    "\n",
    "for item in L:\n",
    "    print(item,n)\n",
    "    if item==0:\n",
    "        break\n",
    "    n=n/item\n",
    "    \n",
    "n"
   ]
  },
  {
   "cell_type": "markdown",
   "metadata": {},
   "source": [
    "__continue__ skips the rest of the current interatin, goes to start of next line\n"
   ]
  },
  {
   "cell_type": "code",
   "execution_count": 27,
   "metadata": {},
   "outputs": [
    {
     "name": "stdout",
     "output_type": "stream",
     "text": [
      "4 1000\n",
      "6 250.0\n",
      "0 41.666666666666664\n",
      "5 41.666666666666664\n",
      "2 8.333333333333332\n"
     ]
    },
    {
     "data": {
      "text/plain": [
       "4.166666666666666"
      ]
     },
     "execution_count": 27,
     "metadata": {},
     "output_type": "execute_result"
    }
   ],
   "source": [
    "n=1000\n",
    "L=[4,6,0,5,2]\n",
    "\n",
    "for item in L:\n",
    "    print(item,n)\n",
    "    if item==0:\n",
    "        continue\n",
    "    n=n/item\n",
    "    \n",
    "n"
   ]
  },
  {
   "cell_type": "markdown",
   "metadata": {},
   "source": [
    "__Use break and continue sparringly__ You can usually avoid them with careful logic"
   ]
  },
  {
   "cell_type": "code",
   "execution_count": 28,
   "metadata": {},
   "outputs": [
    {
     "name": "stdout",
     "output_type": "stream",
     "text": [
      "4 1000\n",
      "6 250.0\n",
      "0 41.666666666666664\n",
      "5 41.666666666666664\n",
      "2 8.333333333333332\n"
     ]
    },
    {
     "data": {
      "text/plain": [
       "4.166666666666666"
      ]
     },
     "execution_count": 28,
     "metadata": {},
     "output_type": "execute_result"
    }
   ],
   "source": [
    "#previous example revisited\n",
    "\n",
    "n=1000\n",
    "L=[4,6,0,5,2]\n",
    "\n",
    "for item in L:\n",
    "    print(item,n)\n",
    "    if item!=0:\n",
    "        n=n/item\n",
    "    \n",
    "n\n"
   ]
  },
  {
   "cell_type": "code",
   "execution_count": null,
   "metadata": {},
   "outputs": [],
   "source": []
  }
 ],
 "metadata": {
  "kernelspec": {
   "display_name": "Python 3",
   "language": "python",
   "name": "python3"
  },
  "language_info": {
   "codemirror_mode": {
    "name": "ipython",
    "version": 3
   },
   "file_extension": ".py",
   "mimetype": "text/x-python",
   "name": "python",
   "nbconvert_exporter": "python",
   "pygments_lexer": "ipython3",
   "version": "3.8.5"
  }
 },
 "nbformat": 4,
 "nbformat_minor": 4
}
