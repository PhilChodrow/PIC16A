{
 "cells": [
  {
   "cell_type": "markdown",
   "metadata": {},
   "source": [
    "# Modules\n",
    "\n",
    "-  The great thing about python is that there are tons and tons of functions which have been prewritten by someone else (probably teams of someone elses).\n",
    "-  These prewritten functions are stored in modules\n",
    "-  If you want to use a module you have to import it"
   ]
  },
  {
   "cell_type": "markdown",
   "metadata": {},
   "source": [
    "The module numpy allows you to do numerical operations with arrays. (Much more on this later)"
   ]
  },
  {
   "cell_type": "code",
   "execution_count": 1,
   "metadata": {},
   "outputs": [],
   "source": [
    "import numpy"
   ]
  },
  {
   "cell_type": "markdown",
   "metadata": {},
   "source": [
    "We can now use all predefined numpy functions, but we need to type numpy dot function name"
   ]
  },
  {
   "cell_type": "code",
   "execution_count": 2,
   "metadata": {},
   "outputs": [
    {
     "data": {
      "text/plain": [
       "array([0., 0., 0., 0.])"
      ]
     },
     "execution_count": 2,
     "metadata": {},
     "output_type": "execute_result"
    }
   ],
   "source": [
    "#Ex 1: Create an array of 4 Zeros\n",
    "x=numpy.zeros(4)\n",
    "x"
   ]
  },
  {
   "cell_type": "markdown",
   "metadata": {},
   "source": [
    "Sometimes  big modules have submodules"
   ]
  },
  {
   "cell_type": "code",
   "execution_count": 4,
   "metadata": {},
   "outputs": [
    {
     "data": {
      "text/plain": [
       "array([[0.18562101, 0.88377722, 0.2230798 , 0.1223862 , 0.34966008],\n",
       "       [0.40089507, 0.93091636, 0.6634339 , 0.1926727 , 0.15457577],\n",
       "       [0.26562193, 0.29929556, 0.32504191, 0.60531544, 0.81944809],\n",
       "       [0.30268832, 0.4961867 , 0.69489643, 0.9916585 , 0.97067906],\n",
       "       [0.96231728, 0.35441862, 0.10496641, 0.49211595, 0.14314085]])"
      ]
     },
     "execution_count": 4,
     "metadata": {},
     "output_type": "execute_result"
    }
   ],
   "source": [
    "#Ex 2: Create a 5x5 array of random numbers between 0 and 1\n",
    "A=numpy.random.rand(5,5)\n",
    "A"
   ]
  },
  {
   "cell_type": "markdown",
   "metadata": {},
   "source": [
    "Now, lets try to plot our array and see what it looks like. To do this, we import a module called matplotlib. Since matplotlib is huge, we only import the part we need"
   ]
  },
  {
   "cell_type": "code",
   "execution_count": 6,
   "metadata": {},
   "outputs": [
    {
     "data": {
      "text/plain": [
       "<matplotlib.image.AxesImage at 0x1e195921550>"
      ]
     },
     "execution_count": 6,
     "metadata": {},
     "output_type": "execute_result"
    },
    {
     "data": {
      "image/png": "[encoded data removed]",
      "text/plain": [
       "<Figure size 432x288 with 1 Axes>"
      ]
     },
     "metadata": {
      "needs_background": "light"
     },
     "output_type": "display_data"
    }
   ],
   "source": [
    "#import pyplot\n",
    "from matplotlib import pyplot\n",
    "#use imshow to look at A\n",
    "pyplot.imshow(A)"
   ]
  },
  {
   "cell_type": "markdown",
   "metadata": {},
   "source": [
    "Many of the common modules have standard nicknames. For example, people usually call pyplot plt"
   ]
  },
  {
   "cell_type": "code",
   "execution_count": 7,
   "metadata": {},
   "outputs": [
    {
     "data": {
      "text/plain": [
       "<matplotlib.image.AxesImage at 0x1e195a024f0>"
      ]
     },
     "execution_count": 7,
     "metadata": {},
     "output_type": "execute_result"
    },
    {
     "data": {
      "image/png": "[encoded data removed]",
      "text/plain": [
       "<Figure size 432x288 with 1 Axes>"
      ]
     },
     "metadata": {
      "needs_background": "light"
     },
     "output_type": "display_data"
    }
   ],
   "source": [
    "#Same as before, but with pyplot as plt\n",
    "from matplotlib import pyplot as plt\n",
    "#use imshow to look at A\n",
    "plt.imshow(A)"
   ]
  },
  {
   "cell_type": "markdown",
   "metadata": {},
   "source": [
    "__Reading Documentation__\n",
    "There are many functions in many modules, and you can never remember them all. You can check how a function works by typing ?function name"
   ]
  },
  {
   "cell_type": "code",
   "execution_count": 10,
   "metadata": {},
   "outputs": [
    {
     "name": "stdout",
     "output_type": "stream",
     "text": [
      "Object `numpy.zeros()` not found.\n"
     ]
    }
   ],
   "source": [
    "?numpy.zeros\n",
    "\n",
    "#Make sure not to put parenthesis on the end. That would make it look like you were trying to call the function"
   ]
  },
  {
   "cell_type": "markdown",
   "metadata": {},
   "source": [
    "## Writing Documentation\n",
    "\n",
    "So far, we have be breaking one of the first rules of programming. We haven't been writing comments for our function. BAD!!!"
   ]
  },
  {
   "cell_type": "code",
   "execution_count": 12,
   "metadata": {},
   "outputs": [],
   "source": [
    "#Here is the print_multiple_times function from last time. Let's add a docstring!\n",
    "def print_multiple_times(message, n=1):\n",
    "    '''\n",
    "    Prints a message specified  number of times\n",
    "    parameter message: the message we are printing\n",
    "    parameter n: the number of times we are printing it\n",
    "    '''\n",
    "    \n",
    "    for i in range(n):\n",
    "        print(message)\n",
    "        \n",
    "?print_multiple_times        "
   ]
  },
  {
   "cell_type": "markdown",
   "metadata": {},
   "source": [
    "__Writing Your Own Module__ "
   ]
  },
  {
   "cell_type": "markdown",
   "metadata": {},
   "source": [
    "We won't ask you do this in this class, but it might be useful if you go on to do more programming"
   ]
  },
  {
   "cell_type": "code",
   "execution_count": 13,
   "metadata": {},
   "outputs": [],
   "source": [
    "#First write your code in a triple quote\n",
    "\n",
    "code = '''\n",
    "\n",
    "def square(x):\n",
    "    \"\"\" Computes x^2 \"\"\"\n",
    "    return(x*x)\n",
    "'''\n",
    "\n",
    "#Create a new file called square.py\n",
    "file = open('my_module.py','w')\n",
    "\n",
    "#write your code in the file\n",
    "file.write(code)\n",
    "\n",
    "#close the file when you are done using it\n",
    "file.close()\n"
   ]
  },
  {
   "cell_type": "markdown",
   "metadata": {},
   "source": [
    "We can now use our new module called my_module"
   ]
  },
  {
   "cell_type": "code",
   "execution_count": 16,
   "metadata": {},
   "outputs": [
    {
     "data": {
      "text/plain": [
       "9"
      ]
     },
     "execution_count": 16,
     "metadata": {},
     "output_type": "execute_result"
    }
   ],
   "source": [
    "import my_module\n",
    "my_module.square(3)"
   ]
  },
  {
   "cell_type": "markdown",
   "metadata": {},
   "source": [
    "# Args and Kwargs"
   ]
  },
  {
   "cell_type": "markdown",
   "metadata": {},
   "source": [
    "Let's write a function which takes in an arbitrary number of inputs"
   ]
  },
  {
   "cell_type": "code",
   "execution_count": 18,
   "metadata": {},
   "outputs": [
    {
     "data": {
      "text/plain": [
       "23"
      ]
     },
     "execution_count": 18,
     "metadata": {},
     "output_type": "execute_result"
    }
   ],
   "source": [
    "def add(*args):\n",
    "    #The star args command allows you to have an arbitrary number of inputs, yay!\n",
    "    total=0\n",
    "    for a in args:\n",
    "        total+=a\n",
    "    return total\n",
    "    \n",
    "\n",
    "\n",
    "#After we write the function the following line will work\n",
    "add(2,3,4,5,2,3,4)\n"
   ]
  },
  {
   "cell_type": "markdown",
   "metadata": {},
   "source": [
    "kwargs is similar to args, but it will assume we have an arbitrary number of (key,val) pairs\n",
    "\n",
    "In this example, we are going to assume that we have a bunch of tuples of the form (state, capital) (e.g. ('CA','Sacremento') and print out \"The capital of CA is Sacremento\")"
   ]
  },
  {
   "cell_type": "code",
   "execution_count": 19,
   "metadata": {},
   "outputs": [],
   "source": [
    "def print_capitals(**kwargs):\n",
    "    for key,val in kwargs.items():\n",
    "        print(\"The capital of \"+ key +\" is \" + val)\n",
    "        \n"
   ]
  },
  {
   "cell_type": "code",
   "execution_count": 20,
   "metadata": {},
   "outputs": [
    {
     "name": "stdout",
     "output_type": "stream",
     "text": [
      "The capital of CA is Sacremento\n",
      "The capital of MA is Boston\n"
     ]
    }
   ],
   "source": [
    "print_capitals(CA=\"Sacremento\",MA=\"Boston\")"
   ]
  },
  {
   "cell_type": "markdown",
   "metadata": {},
   "source": [
    "If you use args and kwargs together, args must always come before kwargs because as we have already seen, keyword arguements have to come last.\n",
    "\n",
    "In the next example, we will use kwargs to make a beautiful scatter plot"
   ]
  },
  {
   "cell_type": "code",
   "execution_count": 21,
   "metadata": {},
   "outputs": [],
   "source": [
    "#If we hadn't already imported pyplot, we would need the following line\n",
    "#from matplotlib import pyplot as plt\n",
    "\n",
    "#This module lets us generate random points\n",
    "import random"
   ]
  },
  {
   "cell_type": "code",
   "execution_count": 24,
   "metadata": {},
   "outputs": [],
   "source": [
    "#Random Scatter plot\n",
    "def random_scatter(n,**kwargs):\n",
    "    \"\"\"\n",
    "    produce a random scatter plot\n",
    "    parameter n is the number of points we are plotting\n",
    "    parameter kwargs are passed into pyplots scatter function\n",
    "    \"\"\"\n",
    "    \n",
    "    #create two random lists x and y\n",
    "    x=[]\n",
    "    y=[]\n",
    "    for i in range(n):\n",
    "        x.append(random.random())\n",
    "        y.append(random.random())\n",
    "    plt.scatter(x,y,**kwargs)"
   ]
  },
  {
   "cell_type": "code",
   "execution_count": 23,
   "metadata": {},
   "outputs": [
    {
     "data": {
      "image/png": "[encoded data removed]",
      "text/plain": [
       "<Figure size 432x288 with 1 Axes>"
      ]
     },
     "metadata": {
      "needs_background": "light"
     },
     "output_type": "display_data"
    }
   ],
   "source": [
    "#run random scatter with n=100\n",
    "random_scatter(100)"
   ]
  },
  {
   "cell_type": "code",
   "execution_count": 25,
   "metadata": {},
   "outputs": [
    {
     "data": {
      "image/png": "[encoded data removed]",
      "text/plain": [
       "<Figure size 432x288 with 1 Axes>"
      ]
     },
     "metadata": {
      "needs_background": "light"
     },
     "output_type": "display_data"
    }
   ],
   "source": [
    "#add kwargs, run it again, but make the points orange\n",
    "random_scatter(100,color='orange')"
   ]
  },
  {
   "cell_type": "code",
   "execution_count": 26,
   "metadata": {},
   "outputs": [
    {
     "data": {
      "image/png": "[encoded data removed]",
      "text/plain": [
       "<Figure size 432x288 with 1 Axes>"
      ]
     },
     "metadata": {
      "needs_background": "light"
     },
     "output_type": "display_data"
    }
   ],
   "source": [
    "#run it again, with red points size = 100, transparancy=.3\n",
    "random_scatter(100,color='red',s=100,alpha=.3)"
   ]
  },
  {
   "cell_type": "markdown",
   "metadata": {},
   "source": [
    "__Take away:__ plt.scatter has a ton of keyword arguments, but we were able to incorporate them all into our new function via kwargs"
   ]
  },
  {
   "cell_type": "code",
   "execution_count": 28,
   "metadata": {},
   "outputs": [],
   "source": [
    "#Let's look at just how many potential keyword arguments there are!\n",
    "?plt.scatter"
   ]
  },
  {
   "cell_type": "code",
   "execution_count": null,
   "metadata": {},
   "outputs": [],
   "source": []
  }
 ],
 "metadata": {
  "kernelspec": {
   "display_name": "Python 3",
   "language": "python",
   "name": "python3"
  },
  "language_info": {
   "codemirror_mode": {
    "name": "ipython",
    "version": 3
   },
   "file_extension": ".py",
   "mimetype": "text/x-python",
   "name": "python",
   "nbconvert_exporter": "python",
   "pygments_lexer": "ipython3",
   "version": "3.8.5"
  }
 },
 "nbformat": 4,
 "nbformat_minor": 4
}
