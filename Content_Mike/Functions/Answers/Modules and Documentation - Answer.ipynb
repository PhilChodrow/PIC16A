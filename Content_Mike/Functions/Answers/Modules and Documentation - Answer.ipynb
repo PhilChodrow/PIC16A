{
 "cells": [
  {
   "cell_type": "markdown",
   "metadata": {},
   "source": [
    "# Modules\n",
    "\n",
    "-  The great thing about python is that there are tons and tons of functions which have been prewritten by someone else (probably teams of someone elses).\n",
    "-  These prewritten functions are stored in modules\n",
    "-  If you want to use a module you have to import it"
   ]
  },
  {
   "cell_type": "markdown",
   "metadata": {},
   "source": [
    "The module numpy allows you to do numerical operations with arrays. (Much more on this later)"
   ]
  },
  {
   "cell_type": "code",
   "execution_count": 2,
   "metadata": {},
   "outputs": [],
   "source": [
    "import numpy "
   ]
  },
  {
   "cell_type": "markdown",
   "metadata": {},
   "source": [
    "We can now use all predefined numpy functions, but we need to type numpy dot function name"
   ]
  },
  {
   "cell_type": "code",
   "execution_count": 5,
   "metadata": {},
   "outputs": [
    {
     "data": {
      "text/plain": [
       "array([0., 0., 0., 0.])"
      ]
     },
     "execution_count": 5,
     "metadata": {},
     "output_type": "execute_result"
    }
   ],
   "source": [
    "#Ex 1: Create an array of 4 Zeros\n",
    "x= numpy.zeros(4) \n",
    "x"
   ]
  },
  {
   "cell_type": "markdown",
   "metadata": {},
   "source": [
    "Sometimes  big modules have submodules"
   ]
  },
  {
   "cell_type": "code",
   "execution_count": 6,
   "metadata": {},
   "outputs": [
    {
     "data": {
      "text/plain": [
       "array([[0.48482687, 0.88402271, 0.53841323, 0.95270268, 0.79519865],\n",
       "       [0.85306348, 0.51832032, 0.65330565, 0.61257511, 0.01140949],\n",
       "       [0.36295581, 0.85402316, 0.24655105, 0.14123709, 0.09334661],\n",
       "       [0.62590577, 0.27049955, 0.91605351, 0.74821892, 0.34168338],\n",
       "       [0.80735152, 0.39697322, 0.87937715, 0.69165876, 0.65404436]])"
      ]
     },
     "execution_count": 6,
     "metadata": {},
     "output_type": "execute_result"
    }
   ],
   "source": [
    "#Ex 2: Create a 5x5 array of random numbers between 0 and 1\n",
    "A=numpy.random.rand(5,5)\n",
    "A"
   ]
  },
  {
   "cell_type": "markdown",
   "metadata": {},
   "source": [
    "Now, lets try to plot our array and see what it looks like. To do this, we import a module called matplotlib. Since matplotlib is huge, we only import the part we need"
   ]
  },
  {
   "cell_type": "code",
   "execution_count": 9,
   "metadata": {},
   "outputs": [
    {
     "data": {
      "text/plain": [
       "<matplotlib.image.AxesImage at 0x142e3947580>"
      ]
     },
     "execution_count": 9,
     "metadata": {},
     "output_type": "execute_result"
    },
    {
     "data": {
      "image/png": "[encoded data removed]",
      "text/plain": [
       "<Figure size 432x288 with 1 Axes>"
      ]
     },
     "metadata": {
      "needs_background": "light"
     },
     "output_type": "display_data"
    }
   ],
   "source": [
    "#import pyplot\n",
    "from matplotlib import pyplot\n",
    "\n",
    "#use imshow to look at A\n",
    "pyplot.imshow(A)"
   ]
  },
  {
   "cell_type": "markdown",
   "metadata": {},
   "source": [
    "Many of the common modules have standard nicknames. For example, people usually call pyplot plt"
   ]
  },
  {
   "cell_type": "code",
   "execution_count": 15,
   "metadata": {},
   "outputs": [
    {
     "data": {
      "text/plain": [
       "<matplotlib.image.AxesImage at 0x142e39be9a0>"
      ]
     },
     "execution_count": 15,
     "metadata": {},
     "output_type": "execute_result"
    },
    {
     "data": {
      "image/png": "[encoded data removed]",
      "text/plain": [
       "<Figure size 432x288 with 1 Axes>"
      ]
     },
     "metadata": {
      "needs_background": "light"
     },
     "output_type": "display_data"
    }
   ],
   "source": [
    "from matplotlib import pyplot as plt\n",
    "plt.imshow(A)"
   ]
  },
  {
   "cell_type": "markdown",
   "metadata": {},
   "source": [
    "__Reading Documentation__\n",
    "There are many functions in many modules, and you can never remember them all. You can check how a function works by typing ?function name"
   ]
  },
  {
   "cell_type": "code",
   "execution_count": 10,
   "metadata": {},
   "outputs": [],
   "source": [
    "?numpy.zeros\n",
    "\n",
    "#Make sure not to put parenthesis on the end. That would make it look like you were trying to call the function"
   ]
  },
  {
   "cell_type": "markdown",
   "metadata": {},
   "source": [
    "## Writing Documentation"
   ]
  },
  {
   "cell_type": "code",
   "execution_count": 18,
   "metadata": {},
   "outputs": [],
   "source": [
    "def print_multiple_times(message, n=1):\n",
    "    '''\n",
    "    Prints a message a specified number of times\n",
    "    Paremeter1: message, the message we are printing\n",
    "    Parameter2: the number of times we are printing it\n",
    "    '''\n",
    "    \n",
    "    \n",
    "    for i in range(n):\n",
    "        print(message)"
   ]
  },
  {
   "cell_type": "markdown",
   "metadata": {},
   "source": [
    "__Writing Your Own Module__ "
   ]
  },
  {
   "cell_type": "markdown",
   "metadata": {},
   "source": [
    "We won't ask you do this in this class, but it might be useful if you go on to do more programming"
   ]
  },
  {
   "cell_type": "code",
   "execution_count": 27,
   "metadata": {},
   "outputs": [],
   "source": [
    "#First write your function in a triple quote\n",
    "\n",
    "code = '''\n",
    "\n",
    "def square(x):\n",
    "    \"\"\" Computes x^2 \"\"\"\n",
    "    return(x*x)\n",
    "'''\n",
    "\n",
    "file = open('my_module.py','w')  #Create a new file called square.py\n",
    "file.write(code)              #write your code in the file\n",
    "file.close()                  #close the file when you are done using it"
   ]
  },
  {
   "cell_type": "markdown",
   "metadata": {},
   "source": [
    "We can now use our new module called my_module"
   ]
  },
  {
   "cell_type": "code",
   "execution_count": 28,
   "metadata": {},
   "outputs": [
    {
     "data": {
      "text/plain": [
       "9"
      ]
     },
     "execution_count": 28,
     "metadata": {},
     "output_type": "execute_result"
    }
   ],
   "source": [
    "import my_module\n",
    "my_module.square(3)"
   ]
  },
  {
   "cell_type": "markdown",
   "metadata": {},
   "source": [
    "# Args and Kwargs"
   ]
  },
  {
   "cell_type": "markdown",
   "metadata": {},
   "source": [
    "Let's write a function which takes in an arbitrary number of inputs"
   ]
  },
  {
   "cell_type": "code",
   "execution_count": 30,
   "metadata": {},
   "outputs": [
    {
     "data": {
      "text/plain": [
       "23"
      ]
     },
     "execution_count": 30,
     "metadata": {},
     "output_type": "execute_result"
    }
   ],
   "source": [
    "def add(*args):\n",
    "    #The star args command says that there will be some input parameter, but we don't know how many\n",
    "    total =0\n",
    "    #loop over the input parameters\n",
    "    for a in args:\n",
    "        total+=a\n",
    "    return(total)\n",
    "\n",
    "add(2,3,4,5,2,3,4)\n",
    "    "
   ]
  },
  {
   "cell_type": "markdown",
   "metadata": {},
   "source": [
    "kwargs is similar to args, but it will assume we have an arbitrary number of (key,val) pairs\n",
    "\n",
    "In this example, we are going to assume that we have a bunch of tuples of the form (state, capital) (e.g. ('CA','Sacremento') and print out \"The capital of CA is Sacremento\")"
   ]
  },
  {
   "cell_type": "code",
   "execution_count": 32,
   "metadata": {},
   "outputs": [],
   "source": [
    "def print_capitals(**kwargs):\n",
    "    for key,val in kwargs.items():\n",
    "        print(\"The capital of \" + key+ \" is \"+val)"
   ]
  },
  {
   "cell_type": "code",
   "execution_count": 36,
   "metadata": {},
   "outputs": [
    {
     "name": "stdout",
     "output_type": "stream",
     "text": [
      "The capital of CA is Sacremento\n",
      "The capital of MA is Boston\n"
     ]
    }
   ],
   "source": [
    "print_capitals(CA=\"Sacremento\",MA=\"Boston\")"
   ]
  },
  {
   "cell_type": "markdown",
   "metadata": {},
   "source": [
    "If you use args and kwargs together, args must always come before kwargs because as we have already seen, keyword arguements have to come last.\n",
    "\n",
    "In the next example, we will use kwargs to make a beautiful scatter plot"
   ]
  },
  {
   "cell_type": "code",
   "execution_count": 11,
   "metadata": {},
   "outputs": [],
   "source": [
    "#If we hadn't already imported pyplot, we would need the following line\n",
    "#from matplotlib import pyplot as plt\n",
    "\n",
    "#This module lets us generate random points\n",
    "import random"
   ]
  },
  {
   "cell_type": "code",
   "execution_count": 16,
   "metadata": {},
   "outputs": [],
   "source": [
    "#Random Scatter plot\n",
    "def random_scatter(n,**kwargs):\n",
    "    \"\"\"Produce a random scatter plot\"\"\"\n",
    "    \n",
    "    #create random lists x and y\n",
    "    x=[]\n",
    "    y=[]\n",
    "    for i in range(n):\n",
    "        x.append(random.random())\n",
    "        y.append(random.random())\n",
    "    plt.scatter(x,y,**kwargs)"
   ]
  },
  {
   "cell_type": "code",
   "execution_count": 17,
   "metadata": {},
   "outputs": [
    {
     "data": {
      "image/png": "[encoded data removed]",
      "text/plain": [
       "<Figure size 432x288 with 1 Axes>"
      ]
     },
     "metadata": {
      "needs_background": "light"
     },
     "output_type": "display_data"
    }
   ],
   "source": [
    "#run random scatter with n=100\n",
    "random_scatter(100)"
   ]
  },
  {
   "cell_type": "code",
   "execution_count": 18,
   "metadata": {},
   "outputs": [
    {
     "data": {
      "image/png": "[encoded data removed]",
      "text/plain": [
       "<Figure size 432x288 with 1 Axes>"
      ]
     },
     "metadata": {
      "needs_background": "light"
     },
     "output_type": "display_data"
    }
   ],
   "source": [
    "#run it again, but make the points oragne\n",
    "random_scatter(100,color='orange')"
   ]
  },
  {
   "cell_type": "code",
   "execution_count": 43,
   "metadata": {},
   "outputs": [
    {
     "data": {
      "image/png": "[encoded data removed]",
      "text/plain": [
       "<Figure size 432x288 with 1 Axes>"
      ]
     },
     "metadata": {
      "needs_background": "light"
     },
     "output_type": "display_data"
    }
   ],
   "source": [
    "#run it again, with red points size = 100, transparancy=.3\n",
    "random_scatter(100,color='red',alpha=.3,s=100)"
   ]
  },
  {
   "cell_type": "markdown",
   "metadata": {},
   "source": [
    "__Take away:__ plt.scatter has a ton of keyword arguments, but we were able to incorporate them all into our new function via kwargs"
   ]
  },
  {
   "cell_type": "code",
   "execution_count": 19,
   "metadata": {},
   "outputs": [],
   "source": [
    "#Let's look at just how many keyword arguments there are!\n"
   ]
  },
  {
   "cell_type": "code",
   "execution_count": null,
   "metadata": {},
   "outputs": [],
   "source": []
  }
 ],
 "metadata": {
  "kernelspec": {
   "display_name": "Python 3",
   "language": "python",
   "name": "python3"
  },
  "language_info": {
   "codemirror_mode": {
    "name": "ipython",
    "version": 3
   },
   "file_extension": ".py",
   "mimetype": "text/x-python",
   "name": "python",
   "nbconvert_exporter": "python",
   "pygments_lexer": "ipython3",
   "version": "3.8.5"
  }
 },
 "nbformat": 4,
 "nbformat_minor": 4
}
