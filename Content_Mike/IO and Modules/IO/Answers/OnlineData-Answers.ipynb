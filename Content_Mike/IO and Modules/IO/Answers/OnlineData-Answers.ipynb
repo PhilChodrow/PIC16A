{
 "cells": [
  {
   "cell_type": "markdown",
   "metadata": {},
   "source": [
    "# Online Data\n",
    "\n",
    "Webscraping is the activity of downloading, manipulating, and using information obtained online. Webscraping can get very complicated, and we won't do much in this course. This set of lecture notes can help you get started on the basics. We'll look into this a bit more when we get to regular expressions in a few lectures. \n",
    "\n",
    "## Downloading Files\n",
    "\n",
    "There are several modules for downloading files from the internet. We'll use `urllib`: "
   ]
  },
  {
   "cell_type": "code",
   "execution_count": 1,
   "metadata": {},
   "outputs": [],
   "source": [
    "import urllib"
   ]
  },
  {
   "cell_type": "markdown",
   "metadata": {},
   "source": [
    "Conveniently, my one of my colleagues has a copy of the Palmer Penguins dataset on his website"
   ]
  },
  {
   "cell_type": "code",
   "execution_count": 2,
   "metadata": {},
   "outputs": [],
   "source": [
    "url = \"https://philchodrow.github.io/PIC16A/content/IO_and_modules/IO/palmer_penguins.csv\""
   ]
  },
  {
   "cell_type": "markdown",
   "metadata": {},
   "source": [
    "Now, let's read in the data"
   ]
  },
  {
   "cell_type": "code",
   "execution_count": 3,
   "metadata": {},
   "outputs": [],
   "source": [
    "filedata= urllib.request.urlopen(url)\n",
    "to_write=filedata.read()\n",
    "\n",
    "#we need to use \"wb\" instead of \"w\" here\n",
    "with open(\"interweb_penguins.csv\",\"wb\") as f:\n",
    "    f.write(to_write)"
   ]
  },
  {
   "cell_type": "markdown",
   "metadata": {},
   "source": [
    "Having run this code, you can check in your file explorer that a file called `interweb_penguins.csv` now lives in the same directory as this notebook. We used the somewhat unusual flag `\"wb\"` to `open()` in order to indicate that we need to write a *binary* file, rather than the usual text file. This is because `to_write, the return value of `filedata.read()`, is by default binary data. We might ask you in assignments to use this pattern, but you we won't evaluate you on it in any timed or closed-book contexts. \n",
    "\n",
    "The module `wget` is another popular tool for downloading files from the internet. "
   ]
  },
  {
   "cell_type": "markdown",
   "metadata": {},
   "source": [
    "## Data from Websites\n",
    "\n",
    "Often, we want to access the contents of a webpage. In this case, the request.urlopen submodule of urllib can help us easily access the contents of a desired URL."
   ]
  },
  {
   "cell_type": "code",
   "execution_count": 11,
   "metadata": {},
   "outputs": [],
   "source": [
    "from urllib.request import urlopen"
   ]
  },
  {
   "cell_type": "markdown",
   "metadata": {},
   "source": [
    "Here is a website the url of my old website."
   ]
  },
  {
   "cell_type": "code",
   "execution_count": 12,
   "metadata": {},
   "outputs": [],
   "source": [
    "url=\"https://www.math.purdue.edu/~mperlmut/\""
   ]
  },
  {
   "cell_type": "markdown",
   "metadata": {},
   "source": [
    "The following code reads in the html code"
   ]
  },
  {
   "cell_type": "code",
   "execution_count": 13,
   "metadata": {},
   "outputs": [],
   "source": [
    "page=urlopen(url)\n",
    "html_bits=page.read()"
   ]
  },
  {
   "cell_type": "markdown",
   "metadata": {},
   "source": [
    "Let's look at html_bits"
   ]
  },
  {
   "cell_type": "code",
   "execution_count": 14,
   "metadata": {},
   "outputs": [
    {
     "data": {
      "text/plain": [
       "b'r><br>Course ID: mcgee93777\\n<br><br>Access Code: WSCMMV-QUIPU-BRAND-ASWAN-MIMIR-PIPES\\n<br><br>eText ID: educator254232eb\\n\\n<br><br>________________________________________________________________________\\n\\n <!---<br><br>ATTENTION: BONUS PRE-EXAM Office Hours will be held Monday 11/5/2012 4-5pm in PHYSICS201 and Tuesday 11/13/2012 also in PHYSICS from 2:30-3:30pm.\\n\\n <!--- <br><br> To vote on BONUS PRE-EXAM Office Hours, use the link below. Location will be decided Thursday 11/1/2012  \\n\\n<br><br><a h'"
      ]
     },
     "execution_count": 14,
     "metadata": {},
     "output_type": "execute_result"
    }
   ],
   "source": [
    "html_bits[10000:10500]"
   ]
  },
  {
   "cell_type": "markdown",
   "metadata": {},
   "source": [
    "Not too nice! Instad, lets add a decode line"
   ]
  },
  {
   "cell_type": "code",
   "execution_count": 15,
   "metadata": {},
   "outputs": [
    {
     "name": "stdout",
     "output_type": "stream",
     "text": [
      "r><br>Course ID: mcgee93777\n",
      "<br><br>Access Code: WSCMMV-QUIPU-BRAND-ASWAN-MIMIR-PIPES\n",
      "<br><br>eText ID: educator254232eb\n",
      "\n",
      "<br><br>________________________________________________________________________\n",
      "\n",
      " <!---<br><br>ATTENTION: BONUS PRE-EXAM Office Hours will be held Monday 11/5/2012 4-5pm in PHYSICS201 and Tuesday 11/13/2012 also in PHYSICS from 2:30-3:30pm.\n",
      "\n",
      " <!--- <br><br> To vote on BONUS PRE-EXAM Office Hours, use the link below. Location will be decided Thursday 11/1/2012  \n",
      "\n",
      "<br><br><a h\n"
     ]
    }
   ],
   "source": [
    "html = html_bits.decode(\"utf-8\")\n",
    "\n",
    "print(html[10000:10500])"
   ]
  },
  {
   "cell_type": "markdown",
   "metadata": {},
   "source": [
    "__Better!__ Now, lets say we want to extract all of the links on this website\n",
    "\n",
    "We will do this using regular expressions. We will learn more about regular expressions later in the course, but since we haven't covered them yet, you have my permission to stop typing for the rest of the video. "
   ]
  },
  {
   "cell_type": "code",
   "execution_count": 9,
   "metadata": {},
   "outputs": [
    {
     "data": {
      "text/plain": [
       "['/share/styles/main/v2_purdue.css',\n",
       " '/share/styles/main/v2_ie6_is_broken.css',\n",
       " '/share/styles/2009/bio.css',\n",
       " '/share/styles/sos/dir.css',\n",
       " '/',\n",
       " 'http://www.purdue.edu',\n",
       " '/about/',\n",
       " '/people/faculty/',\n",
       " '/people/emeritus/',\n",
       " '/people/visiting/',\n",
       " '/people/lecturer/',\n",
       " '/people/gradstudents/',\n",
       " '/people/tas/',\n",
       " '/people/staff/',\n",
       " '/people/studentorgs/',\n",
       " '/about/diversity/',\n",
       " '/jobs/',\n",
       " '/about/purview/',\n",
       " '/academic/',\n",
       " '/academic/undergrad/',\n",
       " '/academic/grad/',\n",
       " '/academic/applied/',\n",
       " '/academic/actuary',\n",
       " '/academic/courses/',\n",
       " '/academic/courses/',\n",
       " '/academic/courses/schedule/',\n",
       " '/academic/courses/textbook/',\n",
       " '/academic/courses/grad/',\n",
       " '/academic/tutor/',\n",
       " '/academic/courses/oldexams/',\n",
       " '/academic/courses/past/',\n",
       " '/resources/',\n",
       " '/resources/internal/',\n",
       " '/resources/computing/',\n",
       " '/business/',\n",
       " '/resources/gta/',\n",
       " '/resources/banner/faculty/',\n",
       " '/resources/banner/grad/',\n",
       " '/resources/ada/',\n",
       " '/research/',\n",
       " '/research/faculty/',\n",
       " 'http://ccam.math.purdue.edu/',\n",
       " 'http://gmig.math.purdue.edu/',\n",
       " 'http://hopf.math.purdue.edu/',\n",
       " 'https://sites.google.com/site/purduemathbio/',\n",
       " '/calendar/',\n",
       " '/calendar/',\n",
       " '/calendar/seminars',\n",
       " '/calendar/conferences/',\n",
       " '/~mperlmut/index.html',\n",
       " '/~mperlmut/Michael_Perlmutter_CV_120615.pdf',\n",
       " '/~mperlmut/Photos.html',\n",
       " '/~mperlmut/Publications.html',\n",
       " '/~mperlmut/Talks.html',\n",
       " 'mailto:mperlmut@math.purdue.edu',\n",
       " 'http://www.math.purdue.edu/~mperlmut/',\n",
       " 'http://www.math.purdue.edu/',\n",
       " 'http://www.math.purdue.edu/~banuelos',\n",
       " 'http://www.math.purdue.edu/academic/courses/coursepage?subject=MA&course=16010',\n",
       " '/~mcgee3/ma250_Syllabus.pdf',\n",
       " '/~mcgee3/ma250_Course_Calendar.pdf',\n",
       " 'http://www.tufts.edu/',\n",
       " 'http://www.purduebarbell.com',\n",
       " 'http://portal.mypearson.com/mypearson-login.jsp',\n",
       " 'http://doodle.com/ftnv2rp4k56bampw',\n",
       " 'http://www.math.purdue.edu/~krotz',\n",
       " 'ShapesOfGraphs.pdf',\n",
       " 'Exam3Prac.pdf',\n",
       " 'PracFinal.pdf',\n",
       " 'quiz1.pdf',\n",
       " 'quiz1solutions.pdf',\n",
       " 'quiz2.pdf',\n",
       " 'quiz2solutions.pdf',\n",
       " 'quiz3.pdf',\n",
       " 'quiz3solutions.pdf',\n",
       " 'quiz4.pdf',\n",
       " 'quiz4solutions.pdf',\n",
       " 'quiz5.pdf',\n",
       " 'quiz5solutions.pdf',\n",
       " 'quiz6.pdf',\n",
       " 'quiz6solutions.pdf',\n",
       " 'quiz7.pdf',\n",
       " 'quiz7solutions.pdf',\n",
       " 'quiz8.pdf',\n",
       " 'quiz8solutions.pdf',\n",
       " 'quiz9.pdf',\n",
       " 'quiz9solutions.pdf',\n",
       " 'quiz10.pdf',\n",
       " 'quiz10solutions.pdf',\n",
       " 'quiz11.pdf',\n",
       " 'quiz11solutions.pdf',\n",
       " 'quiz12.pdf',\n",
       " 'quiz12solutions.pdf',\n",
       " 'quiz13.pdf',\n",
       " 'quiz13solutions.pdf',\n",
       " 'quiz14.pdf',\n",
       " 'quiz14solutions.pdf',\n",
       " 'quiz15.pdf',\n",
       " 'quiz15solutions.pdf',\n",
       " 'quiz16.pdf',\n",
       " 'quiz16solutions.pdf',\n",
       " 'quiz17.pdf',\n",
       " 'quiz17solutions.pdf',\n",
       " 'quiz18.pdf',\n",
       " '/~mperlmut/Home',\n",
       " '/~mperlmut/Michael_Perlmutter_CV',\n",
       " '/help/web/',\n",
       " '&#109;&#97;&#105;&#108;&#116;&#111;&#58;%77%65%62%65%64%69%74%6f%72@%6d%61%74%68.%70%75%72%64%75%65.%65%64%75']"
      ]
     },
     "execution_count": 9,
     "metadata": {},
     "output_type": "execute_result"
    }
   ],
   "source": [
    "import re\n",
    "\n",
    "urls=re.findall(r'href=[\\'\"]?([^\\'\">]+)',html)\n",
    "\n",
    "urls\n"
   ]
  },
  {
   "cell_type": "markdown",
   "metadata": {},
   "source": [
    "If we want to only look at urls containing http, we can use a list constructor"
   ]
  },
  {
   "cell_type": "code",
   "execution_count": 10,
   "metadata": {},
   "outputs": [
    {
     "data": {
      "text/plain": [
       "['http://www.purdue.edu',\n",
       " 'http://ccam.math.purdue.edu/',\n",
       " 'http://gmig.math.purdue.edu/',\n",
       " 'http://hopf.math.purdue.edu/',\n",
       " 'https://sites.google.com/site/purduemathbio/',\n",
       " 'http://www.math.purdue.edu/~mperlmut/',\n",
       " 'http://www.math.purdue.edu/',\n",
       " 'http://www.math.purdue.edu/~banuelos',\n",
       " 'http://www.math.purdue.edu/academic/courses/coursepage?subject=MA&course=16010',\n",
       " 'http://www.tufts.edu/',\n",
       " 'http://www.purduebarbell.com',\n",
       " 'http://portal.mypearson.com/mypearson-login.jsp',\n",
       " 'http://doodle.com/ftnv2rp4k56bampw',\n",
       " 'http://www.math.purdue.edu/~krotz']"
      ]
     },
     "execution_count": 10,
     "metadata": {},
     "output_type": "execute_result"
    }
   ],
   "source": [
    "[line for line in urls if \"http\" in line ]"
   ]
  },
  {
   "cell_type": "code",
   "execution_count": null,
   "metadata": {},
   "outputs": [],
   "source": []
  },
  {
   "cell_type": "code",
   "execution_count": null,
   "metadata": {},
   "outputs": [],
   "source": []
  },
  {
   "cell_type": "code",
   "execution_count": null,
   "metadata": {},
   "outputs": [],
   "source": []
  }
 ],
 "metadata": {
  "kernelspec": {
   "display_name": "Python 3",
   "language": "python",
   "name": "python3"
  },
  "language_info": {
   "codemirror_mode": {
    "name": "ipython",
    "version": 3
   },
   "file_extension": ".py",
   "mimetype": "text/x-python",
   "name": "python",
   "nbconvert_exporter": "python",
   "pygments_lexer": "ipython3",
   "version": "3.8.5"
  }
 },
 "nbformat": 4,
 "nbformat_minor": 4
}
