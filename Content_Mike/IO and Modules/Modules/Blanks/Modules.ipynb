{
 "cells": [
  {
   "cell_type": "markdown",
   "metadata": {},
   "source": [
    "# Custom Modules\n",
    "\n",
    "In this offering of PIC16A, we have primarily done our coding in the Jupyter Notebook interface, which emphasizes interactivity and exploratory coding. Another useful skill is writing and using your own modules (i.e. `.py` files), which can hold useful classes and functions that you would like to reuse. In this lecture, we'll go into some more detail on how to create and use modules.\n",
    "\n",
    "## Importing, Revisited\n",
    "\n",
    "At core, the `import` keyword is just a fancy way to run the code in one or more `.py` files -- the main difference is that the `import` keyword will additionally assign objects and functions created within those files to the module's namespace. That is, a function `f` defined in module `m` will have name `m.f`. We've seen ways to use `from` and `as` to further manipulate how names are organized. \n",
    "\n",
    "Because `import` literally runs code, we can also use it to execute other commands in local `.py` files. "
   ]
  },
  {
   "cell_type": "markdown",
   "metadata": {},
   "source": [
    "__Before we get started:__ Make sure that the files hello.py, my_script.py, and my_script2.py, unit_test_example.py are in the same folder as this Jupyter notebook. Please also do the same with the example_module folder.\n",
    "\n",
    "### Now, let's get started\n",
    "\n",
    "The hello ``module\" is very simple, it just has one line of code which prints the phrase \"Hello, I am  being imported:"
   ]
  },
  {
   "cell_type": "code",
   "execution_count": null,
   "metadata": {},
   "outputs": [],
   "source": []
  },
  {
   "cell_type": "markdown",
   "metadata": {},
   "source": [
    "Because the `import` keyword checks whether a module has already been loaded, you can only `import` a given file once per session (In Jupyter, you can \"restart the kernel\" to start a new session.) So, running `import hello` again doesn't do anything. "
   ]
  },
  {
   "cell_type": "code",
   "execution_count": null,
   "metadata": {},
   "outputs": [],
   "source": []
  },
  {
   "cell_type": "markdown",
   "metadata": {},
   "source": [
    "## Multi-file Projects\n",
    "\n",
    "When you have many hundreds, thousands, or tens of thousands of lines of code, you don't want to put them all in the same `.py` file. Instead, it's common to split these up into multiple files. A **package** is a directory structure containing multiple modules, alongside a special `__init__.py` file that tells the Python interpreter that the files in the given directory should be treated as modules. These directories can be arbitrarily nested.  \n",
    "\n",
    "Here's an example, with the following directory structure: \n",
    "\n",
    "```\n",
    "example_module/\n",
    "+-- __init__.py\n",
    "+-- top_level.py\n",
    "+-- example_submodule/\n",
    "    +-- __init__.py\n",
    "    +-- funs_1.py\n",
    "    +-- funs_2.py\n",
    "```\n",
    "\n",
    "Both of the files `__init__.py` are completely empty -- the only thing that matters is their name. Once these files are in place, we can use `import` in exactly the way we did previously on modules written by others. "
   ]
  },
  {
   "cell_type": "code",
   "execution_count": null,
   "metadata": {},
   "outputs": [],
   "source": []
  },
  {
   "cell_type": "markdown",
   "metadata": {},
   "source": [
    "That wasn't so bad! When we imported the top_level.py file, we gained access to all functions written there. Afterwards, we  could then call the function describe with top_level.describe().\n",
    "\n",
    "Now, lets import funs_1.py and funs_2.py from the example submodule. The syntax will be almost the same but with a little extra syntax in the import"
   ]
  },
  {
   "cell_type": "code",
   "execution_count": null,
   "metadata": {},
   "outputs": [],
   "source": [
    "\n"
   ]
  },
  {
   "cell_type": "code",
   "execution_count": null,
   "metadata": {},
   "outputs": [],
   "source": []
  },
  {
   "cell_type": "code",
   "execution_count": null,
   "metadata": {},
   "outputs": [],
   "source": []
  },
  {
   "cell_type": "markdown",
   "metadata": {},
   "source": [
    "# Modules as Scripts"
   ]
  },
  {
   "cell_type": "markdown",
   "metadata": {},
   "source": [
    "A very common pattern is to write a single `.py` file that contains both function or object definitions and imperative commands (e.g. function calls). Please open the my_script.py file in spyder and take a look"
   ]
  },
  {
   "cell_type": "code",
   "execution_count": null,
   "metadata": {},
   "outputs": [],
   "source": []
  },
  {
   "cell_type": "markdown",
   "metadata": {},
   "source": [
    "Two things to note:\n",
    "    \n",
    "-  The imperative command caused the function say_hello to be executed as soon as we imported it\n",
    "-  We can reuse this function"
   ]
  },
  {
   "cell_type": "code",
   "execution_count": null,
   "metadata": {},
   "outputs": [],
   "source": []
  },
  {
   "cell_type": "markdown",
   "metadata": {},
   "source": [
    "Often, we might want to be able to use the say_hello function without it being exectued immediately upon import. However, it is still useful to have it be exectued when running  it in spyder. (In particular, this is useful if you are testnig your code. More on this next time.)\n",
    "\n",
    "my_script2 adds in the phrase if __name__ == \"__main__\" to fix this problem. Now say_hello doesn't get exectued upon import but does if you run the script in spyder where it is the main file."
   ]
  },
  {
   "cell_type": "code",
   "execution_count": null,
   "metadata": {},
   "outputs": [],
   "source": []
  },
  {
   "cell_type": "code",
   "execution_count": null,
   "metadata": {},
   "outputs": [],
   "source": []
  },
  {
   "cell_type": "code",
   "execution_count": null,
   "metadata": {},
   "outputs": [],
   "source": []
  }
 ],
 "metadata": {
  "kernelspec": {
   "display_name": "Python 3",
   "language": "python",
   "name": "python3"
  },
  "language_info": {
   "codemirror_mode": {
    "name": "ipython",
    "version": 3
   },
   "file_extension": ".py",
   "mimetype": "text/x-python",
   "name": "python",
   "nbconvert_exporter": "python",
   "pygments_lexer": "ipython3",
   "version": "3.8.5"
  }
 },
 "nbformat": 4,
 "nbformat_minor": 4
}
