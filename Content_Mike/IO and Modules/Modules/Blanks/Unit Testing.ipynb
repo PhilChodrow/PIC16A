{
 "cells": [
  {
   "cell_type": "markdown",
   "metadata": {},
   "source": [
    "# Unit Testing\n",
    "How do you know that your function or class behaves correctly? One very natural way to check for correct behavior is to try a few test cases, and compare the result to your expectation. You've been informally doing this throughout this course. In these lecture notes, we'll discuss a formal and automated way to approach testing your code. This is called unit testing, and refers to the practice of checking that each function and class (i.e. each unit of your program) behaves as you expect. Almost all production code is extensively unit-tested, and often the \"actual\" code is dwarfed by the amount of code used to implement unit tests.\n",
    "\n",
    "__Before starting__ Makes sure the file `unit_test_example.py` and place it in the same folder as this notebook.\n",
    "\n",
    "\n",
    "#### Reverse Lookup Function\n",
    "\n",
    "For a review of the informal approach to unit testing, let's look at the following function. This function conducts a reverse lookup in a dictionary: that is, it finds all the keys corresponding to a user-specified value."
   ]
  },
  {
   "cell_type": "code",
   "execution_count": 1,
   "metadata": {},
   "outputs": [],
   "source": [
    "#Here is a test dictionary keys are words, values are the number of letters in the word\n",
    "D={\n",
    "    \"cat\":3,\n",
    "    \"dog\":3,\n",
    "    \"platypus\":8,\n",
    "    \"cow\":3,\n",
    "    \"duck\":4\n",
    "}\n",
    "\n",
    "#if our reverse look-up function works correctly, 3 should return \"cat\", \"dog\", and \"platypus\"\n",
    " # 4 should return \"duck\", 8 should return \"platypus\" and all other numbers should return 0 "
   ]
  },
  {
   "cell_type": "markdown",
   "metadata": {},
   "source": [
    "Now let's write the function reverse_lookup"
   ]
  },
  {
   "cell_type": "code",
   "execution_count": null,
   "metadata": {},
   "outputs": [],
   "source": []
  },
  {
   "cell_type": "markdown",
   "metadata": {},
   "source": [
    "Now, let's test it"
   ]
  },
  {
   "cell_type": "code",
   "execution_count": 1,
   "metadata": {},
   "outputs": [],
   "source": [
    "#test 3\n"
   ]
  },
  {
   "cell_type": "code",
   "execution_count": 2,
   "metadata": {},
   "outputs": [],
   "source": [
    "#test 4\n"
   ]
  },
  {
   "cell_type": "code",
   "execution_count": 3,
   "metadata": {},
   "outputs": [],
   "source": [
    "#test 8\n"
   ]
  },
  {
   "cell_type": "code",
   "execution_count": 4,
   "metadata": {},
   "outputs": [],
   "source": [
    "#test 10, this should return an empty list\n"
   ]
  },
  {
   "cell_type": "code",
   "execution_count": 5,
   "metadata": {},
   "outputs": [],
   "source": [
    "#Last we need to check that we get a type error if the first argument  isn't a dict\n"
   ]
  },
  {
   "cell_type": "markdown",
   "metadata": {},
   "source": [
    "This works fine for simple functions, but more complex functions or classes might have tens or even hundreds of tests. We wouldn't want to re-run all those tests by hand when we change the code (protip: code is **never** finalized). \n",
    "\n",
    "Let's see how to automate these test cases using the `unittest` module.  To organize and automate our testing, we are going to write a custom *class*. Each method of the class corresponds to one or more of these test cases. This class should inherit from the special class `unittest.TestCase`. When the nature of the tests is sufficiently obvious, it is not necessary to supply docstrings. "
   ]
  },
  {
   "cell_type": "markdown",
   "metadata": {},
   "source": [
    "# The unittest module"
   ]
  },
  {
   "cell_type": "code",
   "execution_count": null,
   "metadata": {},
   "outputs": [],
   "source": []
  },
  {
   "cell_type": "markdown",
   "metadata": {},
   "source": [
    "To organize and automate our testing, we are going to write a custom *class*. Each method of the class corresponds to one or more of these test cases. This class should inherit from the special class `unittest.TestCase`. When the nature of the tests is sufficiently obvious, it is not necessary to supply docstrings. "
   ]
  },
  {
   "cell_type": "code",
   "execution_count": 13,
   "metadata": {},
   "outputs": [],
   "source": [
    "\n",
    "\n",
    "            \n",
    "    "
   ]
  },
  {
   "cell_type": "code",
   "execution_count": 14,
   "metadata": {},
   "outputs": [],
   "source": []
  },
  {
   "cell_type": "markdown",
   "metadata": {},
   "source": [
    "To give you an example of what happens when the test fails, lets change one of the above lines and try again"
   ]
  },
  {
   "cell_type": "code",
   "execution_count": 15,
   "metadata": {},
   "outputs": [],
   "source": []
  },
  {
   "cell_type": "markdown",
   "metadata": {},
   "source": [
    "We get an Assertion Error 0!=1. (Okay, now let's change it back.)"
   ]
  },
  {
   "cell_type": "markdown",
   "metadata": {},
   "source": [
    "## Tests in Modules\n",
    "\n",
    "While this test setup works well, it's cumbersome -- you need to call and run the tests by hand each time. The standard and much more convenient approach is to embed your tests into the module in which you define your classes and functions. Pause the video and open the file `unit_test_example.py` in spyder.The key trick is in the following two lines: \n",
    "\n",
    "```python\n",
    "if __name__ == \"__main__\":\n",
    "    unittest.main()\n",
    "```\n",
    "\n",
    "The `unittest.main()` method will find all classes that inherit from `unittest.TestCase`, construct an instance of each class, and then run each method of each class exactly once, with custom exception handling to ensure that all tests run even if some of them produce `AssertionErrors`. It will then give a summary of the number of failures and the time it took to run the tests. The first line ensures that the unit tests are performed only when running the module as a script, and not when importing the module. "
   ]
  },
  {
   "cell_type": "code",
   "execution_count": 12,
   "metadata": {},
   "outputs": [],
   "source": [
    "import unit_test_example"
   ]
  },
  {
   "cell_type": "markdown",
   "metadata": {},
   "source": [
    "In PIC16A, you are not generally required to include unit tests with your code. However, you are responsible for understanding how to construct them, and may be asked to do so in assignments and exams. "
   ]
  },
  {
   "cell_type": "code",
   "execution_count": 16,
   "metadata": {},
   "outputs": [],
   "source": [
    "my_tester=unit_test_example.TestReverseLookup()"
   ]
  },
  {
   "cell_type": "code",
   "execution_count": 17,
   "metadata": {},
   "outputs": [],
   "source": [
    "my_tester.test_type_error()"
   ]
  },
  {
   "cell_type": "code",
   "execution_count": null,
   "metadata": {},
   "outputs": [],
   "source": []
  }
 ],
 "metadata": {
  "kernelspec": {
   "display_name": "Python 3",
   "language": "python",
   "name": "python3"
  },
  "language_info": {
   "codemirror_mode": {
    "name": "ipython",
    "version": 3
   },
   "file_extension": ".py",
   "mimetype": "text/x-python",
   "name": "python",
   "nbconvert_exporter": "python",
   "pygments_lexer": "ipython3",
   "version": "3.8.5"
  }
 },
 "nbformat": 4,
 "nbformat_minor": 4
}
