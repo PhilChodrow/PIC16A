{
 "cells": [
  {
   "cell_type": "markdown",
   "metadata": {},
   "source": [
    "# Unit Testing\n",
    "How do you know that your function or class behaves correctly? One very natural way to check for correct behavior is to try a few test cases, and compare the result to your expectation. You've been informally doing this throughout this course. In these lecture notes, we'll discuss a formal and automated way to approach testing your code. This is called unit testing, and refers to the practice of checking that each function and class (i.e. each unit of your program) behaves as you expect. Almost all production code is extensively unit-tested, and often the \"actual\" code is dwarfed by the amount of code used to implement unit tests.\n",
    "\n",
    "__Before starting__ Makes sure the file `unit_test_example.py` and place it in the same folder as this notebook.\n",
    "\n",
    "\n",
    "#### Reverse Lookup Function\n",
    "\n",
    "For a review of the informal approach to unit testing, let's look at the following function. This function conducts a reverse lookup in a dictionary: that is, it finds all the keys corresponding to a user-specified value."
   ]
  },
  {
   "cell_type": "code",
   "execution_count": 1,
   "metadata": {},
   "outputs": [],
   "source": [
    "#Here is a test dictionary keys are words, values are the number of letters in the word\n",
    "D={\n",
    "    \"cat\":3,\n",
    "    \"dog\":3,\n",
    "    \"platypus\":8,\n",
    "    \"cow\":3,\n",
    "    \"duck\":4\n",
    "}\n",
    "\n",
    "#if our reverse look-up function works correctly, 3 should return \"cat\", \"dog\", and \"platypus\"\n",
    " # 4 should return \"duck\", 8 should return \"platypus\" and all other numbers should return 0 "
   ]
  },
  {
   "cell_type": "markdown",
   "metadata": {},
   "source": [
    "Now let's write the function"
   ]
  },
  {
   "cell_type": "code",
   "execution_count": 3,
   "metadata": {},
   "outputs": [],
   "source": [
    "def reverse_lookup(D,val):\n",
    "    \"\"\"\n",
    "    Find's all keys in the dictionary D with specified value val\n",
    "    \"\"\"\n",
    "    if type(D)!=dict:\n",
    "        raise TypeError(\"First argument must be a dict!\")\n",
    "    \n",
    "    return [key for key in D.keys() if D[key]==val]\n",
    "    "
   ]
  },
  {
   "cell_type": "markdown",
   "metadata": {},
   "source": [
    "Now, let's test it"
   ]
  },
  {
   "cell_type": "code",
   "execution_count": 4,
   "metadata": {},
   "outputs": [
    {
     "data": {
      "text/plain": [
       "['cat', 'dog', 'cow']"
      ]
     },
     "execution_count": 4,
     "metadata": {},
     "output_type": "execute_result"
    }
   ],
   "source": [
    "#test 3\n",
    "reverse_lookup(D,3)"
   ]
  },
  {
   "cell_type": "code",
   "execution_count": 5,
   "metadata": {},
   "outputs": [
    {
     "data": {
      "text/plain": [
       "['duck']"
      ]
     },
     "execution_count": 5,
     "metadata": {},
     "output_type": "execute_result"
    }
   ],
   "source": [
    "#test 4\n",
    "reverse_lookup(D,4)"
   ]
  },
  {
   "cell_type": "code",
   "execution_count": 6,
   "metadata": {},
   "outputs": [
    {
     "data": {
      "text/plain": [
       "['platypus']"
      ]
     },
     "execution_count": 6,
     "metadata": {},
     "output_type": "execute_result"
    }
   ],
   "source": [
    "#test 8\n",
    "reverse_lookup(D,8)"
   ]
  },
  {
   "cell_type": "code",
   "execution_count": 7,
   "metadata": {},
   "outputs": [
    {
     "data": {
      "text/plain": [
       "[]"
      ]
     },
     "execution_count": 7,
     "metadata": {},
     "output_type": "execute_result"
    }
   ],
   "source": [
    "#test 10, this should return an empty list\n",
    "reverse_lookup(D,10)"
   ]
  },
  {
   "cell_type": "code",
   "execution_count": 8,
   "metadata": {},
   "outputs": [
    {
     "ename": "TypeError",
     "evalue": "First argument must be a dict!",
     "output_type": "error",
     "traceback": [
      "\u001b[1;31m---------------------------------------------------------------------------\u001b[0m",
      "\u001b[1;31mTypeError\u001b[0m                                 Traceback (most recent call last)",
      "\u001b[1;32m<ipython-input-8-7b289c37cac0>\u001b[0m in \u001b[0;36m<module>\u001b[1;34m\u001b[0m\n\u001b[0;32m      1\u001b[0m \u001b[1;31m#Last we need to check that we get a type error if the first argument  isn't a dict\u001b[0m\u001b[1;33m\u001b[0m\u001b[1;33m\u001b[0m\u001b[1;33m\u001b[0m\u001b[0m\n\u001b[1;32m----> 2\u001b[1;33m \u001b[0mreverse_lookup\u001b[0m\u001b[1;33m(\u001b[0m\u001b[1;33m[\u001b[0m\u001b[1;34m\"cat\"\u001b[0m\u001b[1;33m,\u001b[0m\u001b[1;34m\"dog\"\u001b[0m\u001b[1;33m,\u001b[0m\u001b[1;34m\"giraffe\"\u001b[0m\u001b[1;33m]\u001b[0m\u001b[1;33m,\u001b[0m\u001b[1;36m3\u001b[0m\u001b[1;33m)\u001b[0m\u001b[1;33m\u001b[0m\u001b[1;33m\u001b[0m\u001b[0m\n\u001b[0m",
      "\u001b[1;32m<ipython-input-3-916f7d800854>\u001b[0m in \u001b[0;36mreverse_lookup\u001b[1;34m(D, val)\u001b[0m\n\u001b[0;32m      4\u001b[0m     \"\"\"\n\u001b[0;32m      5\u001b[0m     \u001b[1;32mif\u001b[0m \u001b[0mtype\u001b[0m\u001b[1;33m(\u001b[0m\u001b[0mD\u001b[0m\u001b[1;33m)\u001b[0m\u001b[1;33m!=\u001b[0m\u001b[0mdict\u001b[0m\u001b[1;33m:\u001b[0m\u001b[1;33m\u001b[0m\u001b[1;33m\u001b[0m\u001b[0m\n\u001b[1;32m----> 6\u001b[1;33m         \u001b[1;32mraise\u001b[0m \u001b[0mTypeError\u001b[0m\u001b[1;33m(\u001b[0m\u001b[1;34m\"First argument must be a dict!\"\u001b[0m\u001b[1;33m)\u001b[0m\u001b[1;33m\u001b[0m\u001b[1;33m\u001b[0m\u001b[0m\n\u001b[0m\u001b[0;32m      7\u001b[0m \u001b[1;33m\u001b[0m\u001b[0m\n\u001b[0;32m      8\u001b[0m     \u001b[1;32mreturn\u001b[0m \u001b[1;33m[\u001b[0m\u001b[0mkey\u001b[0m \u001b[1;32mfor\u001b[0m \u001b[0mkey\u001b[0m \u001b[1;32min\u001b[0m \u001b[0mD\u001b[0m\u001b[1;33m.\u001b[0m\u001b[0mkeys\u001b[0m\u001b[1;33m(\u001b[0m\u001b[1;33m)\u001b[0m \u001b[1;32mif\u001b[0m \u001b[0mD\u001b[0m\u001b[1;33m[\u001b[0m\u001b[0mkey\u001b[0m\u001b[1;33m]\u001b[0m\u001b[1;33m==\u001b[0m\u001b[0mval\u001b[0m\u001b[1;33m]\u001b[0m\u001b[1;33m\u001b[0m\u001b[1;33m\u001b[0m\u001b[0m\n",
      "\u001b[1;31mTypeError\u001b[0m: First argument must be a dict!"
     ]
    }
   ],
   "source": [
    "#Last we need to check that we get a type error if the first argument  isn't a dict\n",
    "reverse_lookup([\"cat\",\"dog\",\"giraffe\"],3)"
   ]
  },
  {
   "cell_type": "markdown",
   "metadata": {},
   "source": [
    "This works fine for simple functions, but more complex functions or classes might have tens or even hundreds of tests. We wouldn't want to re-run all those tests by hand when we change the code (protip: code is **never** finalized). \n",
    "\n",
    "Let's see how to automate these test cases using the `unittest` module.  To organize and automate our testing, we are going to write a custom *class*. Each method of the class corresponds to one or more of these test cases. This class should inherit from the special class `unittest.TestCase`. When the nature of the tests is sufficiently obvious, it is not necessary to supply docstrings. "
   ]
  },
  {
   "cell_type": "markdown",
   "metadata": {},
   "source": [
    "# The unittest module"
   ]
  },
  {
   "cell_type": "code",
   "execution_count": 9,
   "metadata": {},
   "outputs": [],
   "source": [
    "import unittest"
   ]
  },
  {
   "cell_type": "markdown",
   "metadata": {},
   "source": [
    "To organize and automate our testing, we are going to write a custom *class*. Each method of the class corresponds to one or more of these test cases. This class should inherit from the special class `unittest.TestCase`. When the nature of the tests is sufficiently obvious, it is not necessary to supply docstrings. "
   ]
  },
  {
   "cell_type": "code",
   "execution_count": 13,
   "metadata": {},
   "outputs": [],
   "source": [
    "class TestReverseLookup(unittest.TestCase):\n",
    "    \n",
    "    def test_type_error(self):\n",
    "        D=[\"cat\",\"dog\",\"giraffe\"]\n",
    "        with self.assertRaises(TypeError):\n",
    "            reverse_lookup(D,\"cat\")\n",
    "            \n",
    "    def test_standard_lookup(self):\n",
    "        D={\n",
    "            \"cat\":3,\n",
    "            \"dog\":3,\n",
    "            \"platypus\":8,\n",
    "            \"cow\":3,\n",
    "            \"duck\":4\n",
    "        }\n",
    "        result=len(reverse_lookup(D,3))\n",
    "        self.assertEqual(result,3)\n",
    "        \n",
    "    def test_no_matches(self):\n",
    "        D={\n",
    "            \"cat\":3,\n",
    "            \"dog\":3,\n",
    "            \"platypus\":8,\n",
    "            \"cow\":3,\n",
    "            \"duck\":4\n",
    "        }\n",
    "        result=len(reverse_lookup(D,6))\n",
    "        self.assertEqual(result,0)\n",
    "\n",
    "            \n",
    "    "
   ]
  },
  {
   "cell_type": "code",
   "execution_count": 14,
   "metadata": {},
   "outputs": [],
   "source": [
    "tester=TestReverseLookup()\n",
    "tester.test_type_error()\n",
    "#if you pass the test nothing happens\n",
    "tester.test_standard_lookup()\n",
    "tester.test_no_matches()\n"
   ]
  },
  {
   "cell_type": "markdown",
   "metadata": {},
   "source": [
    "To give you an example of what happens when the test fails, lets change one of the above lines and try again"
   ]
  },
  {
   "cell_type": "code",
   "execution_count": 15,
   "metadata": {},
   "outputs": [],
   "source": [
    "tester=TestReverseLookup()\n",
    "\n",
    "tester.test_no_matches()\n"
   ]
  },
  {
   "cell_type": "markdown",
   "metadata": {},
   "source": [
    "We get an Assertion Error 0!=1. (Okay, now let's change it back.)"
   ]
  },
  {
   "cell_type": "markdown",
   "metadata": {},
   "source": [
    "## Tests in Modules\n",
    "\n",
    "While this test setup works well, it's cumbersome -- you need to call and run the tests by hand each time. The standard and much more convenient approach is to embed your tests into the module in which you define your classes and functions. Pause the video and open the file `unit_test_example.py` in spyder.The key trick is in the following two lines: \n",
    "\n",
    "```python\n",
    "if __name__ == \"__main__\":\n",
    "    unittest.main()\n",
    "```\n",
    "\n",
    "The `unittest.main()` method will find all classes that inherit from `unittest.TestCase`, construct an instance of each class, and then run each method of each class exactly once, with custom exception handling to ensure that all tests run even if some of them produce `AssertionErrors`. It will then give a summary of the number of failures and the time it took to run the tests. The first line ensures that the unit tests are performed only when running the module as a script, and not when importing the module. "
   ]
  },
  {
   "cell_type": "code",
   "execution_count": 12,
   "metadata": {},
   "outputs": [],
   "source": [
    "import unit_test_example"
   ]
  },
  {
   "cell_type": "markdown",
   "metadata": {},
   "source": [
    "In PIC16A, you are not generally required to include unit tests with your code. However, you are responsible for understanding how to construct them, and may be asked to do so in assignments and exams. "
   ]
  },
  {
   "cell_type": "code",
   "execution_count": 16,
   "metadata": {},
   "outputs": [],
   "source": [
    "my_tester=unit_test_example.TestReverseLookup()"
   ]
  },
  {
   "cell_type": "code",
   "execution_count": 17,
   "metadata": {},
   "outputs": [],
   "source": [
    "my_tester.test_type_error()"
   ]
  },
  {
   "cell_type": "code",
   "execution_count": null,
   "metadata": {},
   "outputs": [],
   "source": []
  }
 ],
 "metadata": {
  "kernelspec": {
   "display_name": "Python 3",
   "language": "python",
   "name": "python3"
  },
  "language_info": {
   "codemirror_mode": {
    "name": "ipython",
    "version": 3
   },
   "file_extension": ".py",
   "mimetype": "text/x-python",
   "name": "python",
   "nbconvert_exporter": "python",
   "pygments_lexer": "ipython3",
   "version": "3.8.5"
  }
 },
 "nbformat": 4,
 "nbformat_minor": 4
}
