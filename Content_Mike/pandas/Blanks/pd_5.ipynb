{
 "cells": [
  {
   "cell_type": "markdown",
   "metadata": {},
   "source": [
    "## Split-Apply-Combine\n",
    "\n",
    "It's pretty common to want to ask questions like\n",
    "\n",
    "-  What is the average culmen length of the penguins living on the Island Torgersen?\n",
    "-  Does the average culmen depth differ from one species to another?\n",
    "\n",
    "\n",
    "One of the fundamental tasks in exploratory data analysis is to summarize your data **by group**. In our penguins data, for example, a very natural thing to do is to compute summary statistics **by species**, or perhaps by habitat (or both!). We can contextualize this task in three stages: \n",
    "\n",
    "1. **Split** the data data frame into pieces, one for each species. \n",
    "2. **Apply** an aggregation function to each piece, yielding a single number. \n",
    "3. **Combine** the results into a new data frame.\n",
    "\n",
    "This pattern is so common that the phrase \"split-apply-combine\" now appears in many texts on data analysis. This phrase was originally coined by Hadley Wickham, who is famous for developing many of the modern tools for data analysis in the `R` programming language. \n",
    "\n",
    "<figure class=\"image\" style=\"width:50%\">\n",
    "  <img src=\"https://jakevdp.github.io/PythonDataScienceHandbook/figures/03.08-split-apply-combine.png\" alt=\"Left: A single dataframe is split into three pieces. Middle: The data within each piece is summed. Right: the resulting sums are combined, resulting in a new data frame with one sum for each piece.\">\n",
    "  <figcaption><i>split-apply-combine. Image credit: Jake VanderPlas, in the Python Data Science Handbook</i></figcaption>\n",
    "</figure>\n",
    "\n",
    "### Python lets us easily perform split-apply-combine operations using the `groupby()` method of data frames. "
   ]
  },
  {
   "cell_type": "code",
   "execution_count": 1,
   "metadata": {},
   "outputs": [],
   "source": [
    "# Same preprocessing as last video \n",
    "\n",
    "import pandas as pd\n",
    "import numpy as np\n",
    "\n",
    "#read in data from csv\n",
    "penguins=pd.read_csv(\"palmer_penguins.csv\")\n",
    "\n",
    "cols=[\"Species\", \"Region\", \"Island\", \"Culmen Length (mm)\", \"Culmen Depth (mm)\"]\n",
    "penguins=penguins[cols]\n",
    "\n",
    "penguins[\"Species\"]=penguins[\"Species\"].str.split().str.get(0)\n",
    "\n",
    "penguins[\"Length\"]=penguins[\"Culmen Length (mm)\"]\n",
    "penguins[\"Depth\"]=penguins[\"Culmen Depth (mm)\"]\n",
    "\n",
    "penguins = penguins.drop(labels=[\"Culmen Depth (mm)\",\"Culmen Length (mm)\"],axis=1)\n",
    "penguins.head()"
   ]
  },
  {
   "cell_type": "markdown",
   "metadata": {},
   "source": [
    "We can group by species with the groupby() method"
   ]
  },
  {
   "cell_type": "code",
   "execution_count": null,
   "metadata": {},
   "outputs": [],
   "source": []
  },
  {
   "cell_type": "markdown",
   "metadata": {},
   "source": [
    "Now, we can get the mean of each species by adding .mean()"
   ]
  },
  {
   "cell_type": "code",
   "execution_count": null,
   "metadata": {},
   "outputs": [],
   "source": []
  },
  {
   "cell_type": "markdown",
   "metadata": {},
   "source": [
    "If we only want the mean of the Length column, we add in [[\"Length\"]] (Note the double brackets)"
   ]
  },
  {
   "cell_type": "code",
   "execution_count": null,
   "metadata": {},
   "outputs": [],
   "source": []
  },
  {
   "cell_type": "markdown",
   "metadata": {},
   "source": [
    "We can get multiple summary statistics e.g., mean and standard deviation together via the aggreate() method"
   ]
  },
  {
   "cell_type": "code",
   "execution_count": 3,
   "metadata": {},
   "outputs": [],
   "source": [
    "#note there is no () in the function names"
   ]
  },
  {
   "cell_type": "markdown",
   "metadata": {},
   "source": [
    "### Group by multiple columns at the same time \n",
    "\n",
    "Group by Species and Island"
   ]
  },
  {
   "cell_type": "code",
   "execution_count": null,
   "metadata": {},
   "outputs": [],
   "source": []
  },
  {
   "cell_type": "markdown",
   "metadata": {},
   "source": [
    "Hierarchical Indexing\n",
    "Complex data summary tables like the one above are useful and powerful, but they also pose an important problem -- how can we extract the data from these summaries? For example, how can I get the mean bill length for Chinstrap penguins on Dream island? To extract this kind of data, we need to use hierarchical indexing, in which we pass multiple keys to the .loc attribute. After passing all the row indices, we need to use .loc again to get at the column indices."
   ]
  },
  {
   "cell_type": "code",
   "execution_count": 4,
   "metadata": {},
   "outputs": [],
   "source": [
    "#first restrict to adelie, dream\n"
   ]
  },
  {
   "cell_type": "code",
   "execution_count": 5,
   "metadata": {},
   "outputs": [],
   "source": [
    "#now grab the mean of the length column"
   ]
  },
  {
   "cell_type": "code",
   "execution_count": null,
   "metadata": {},
   "outputs": [],
   "source": []
  }
 ],
 "metadata": {
  "kernelspec": {
   "display_name": "Python 3",
   "language": "python",
   "name": "python3"
  },
  "language_info": {
   "codemirror_mode": {
    "name": "ipython",
    "version": 3
   },
   "file_extension": ".py",
   "mimetype": "text/x-python",
   "name": "python",
   "nbconvert_exporter": "python",
   "pygments_lexer": "ipython3",
   "version": "3.8.5"
  }
 },
 "nbformat": 4,
 "nbformat_minor": 4
}
