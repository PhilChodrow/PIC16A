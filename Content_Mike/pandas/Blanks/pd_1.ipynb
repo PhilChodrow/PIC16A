{
 "cells": [
  {
   "cell_type": "markdown",
   "metadata": {},
   "source": [
    "# Data Manipulation with Pandas\n",
    "\n",
    "The `pandas` package for Python offers a set of powerful tools for working with tabular data. The name `pandas` is originally derived from the common term \"panel data.\" While different programmers pronounce the package name in different ways, I prefer to pronounce it like the plural of \"panda [bears]\". I then imagine a small army of bears performing my computations for me. \n",
    "\n",
    "<figure class=\"image\" style=\"width:50%\">\n",
    "  <img src=\"https://i.imgflip.com/yjdc4.jpg\" alt=\"A baby panda lying on its head, with its feet in the air.\">\n",
    "  <figcaption><i>This panda is upside down because it is sorting data in reverse order.</i></figcaption>\n",
    "</figure>\n",
    "\n",
    "The first step when working with `pandas` is always to `import` it: "
   ]
  },
  {
   "cell_type": "code",
   "execution_count": null,
   "metadata": {},
   "outputs": [],
   "source": []
  },
  {
   "cell_type": "markdown",
   "metadata": {},
   "source": [
    "# CSV Data, Revisited\n",
    "\n",
    "\n",
    "__Before we get started:__ Make sure that the file palmer_penguins.csv is in the same folder as this file.  \n",
    "\n",
    "A while ago, we discussed some tools for reading CSV data from files using the `csv` module. `pandas` is usually a better choice for reading (and working with) CSV data. \n",
    "\n",
    "To read a CSV file  from data, we use the function `pd.read_csv()`. "
   ]
  },
  {
   "cell_type": "markdown",
   "metadata": {},
   "source": [
    "The pd.read_csv command will let us save the .csv file as a pandas dataframe"
   ]
  },
  {
   "cell_type": "code",
   "execution_count": null,
   "metadata": {},
   "outputs": [],
   "source": []
  },
  {
   "cell_type": "markdown",
   "metadata": {},
   "source": [
    "The type of penguins is"
   ]
  },
  {
   "cell_type": "code",
   "execution_count": null,
   "metadata": {},
   "outputs": [],
   "source": []
  },
  {
   "cell_type": "markdown",
   "metadata": {},
   "source": [
    "Okay, now let's look at our data. (Be ready for a lot of info.)"
   ]
  },
  {
   "cell_type": "code",
   "execution_count": null,
   "metadata": {},
   "outputs": [],
   "source": []
  },
  {
   "cell_type": "markdown",
   "metadata": {},
   "source": [
    "We can learn more about our data frame with penguins.shape, penguins.dtypes, and penguins.describe"
   ]
  },
  {
   "cell_type": "code",
   "execution_count": 4,
   "metadata": {},
   "outputs": [],
   "source": [
    "#shape gives you the number of rows and columns"
   ]
  },
  {
   "cell_type": "code",
   "execution_count": 5,
   "metadata": {},
   "outputs": [],
   "source": [
    "#dtypes tells you the type of each columm\n"
   ]
  },
  {
   "cell_type": "code",
   "execution_count": 6,
   "metadata": {},
   "outputs": [],
   "source": [
    "#describe gives you statisical information of each column (for the numerical columns)\n"
   ]
  },
  {
   "cell_type": "markdown",
   "metadata": {},
   "source": [
    "When working with data frames, it's important to get comfortable with their different parts. These are: \n",
    "\n",
    "1. The index. The index is used to refer to **rows**. In many cases, you can think of the index as a unique numerical label for a row. \n",
    "2. The column names. These tell you what kinds of data appear in each row. It is important to be able to comfortably grab columns from the data frame for use in computations. \n",
    "3. The data itself. You can think of the data as a set of different arrays, one for each column name. Each array has the same length. Many of the methods of these arrays will be familiar from `np.array`s. \n",
    "\n",
    "<figure class=\"image\" style=\"width:100%\">\n",
    "  <img src=\"https://miro.medium.com/max/3452/1*6p6nF4_5XpHgcrYRrLYVAw.png\" alt=\"A data frame on mountaineering. The labels at the top of each column, such as Range and Coordinates, are highlighted and called column names. The numbers zero through nine appear vertically, giving the number of each row. A few numbers and words appearing inside the columns are highlighted, and labeled as data.\">\n",
    "  <figcaption><i>The parts of a data frame.</i></figcaption>\n",
    "</figure>\n",
    "\n",
    "Let's now begin to look at how to obtain different parts of a data frame.\n",
    "\n",
    "## Selecting Columns\n",
    "\n",
    "The easiest way to select a column of a data frame is to pass the name of the column to the DataFrame with `[]` brackets. In this way, you can think of a data frame as being similar to a dictionary whose keys are the column names. \n",
    "\n",
    "If you just type in pengiuns['Island'] you get a pandas Series"
   ]
  },
  {
   "cell_type": "code",
   "execution_count": null,
   "metadata": {},
   "outputs": [],
   "source": []
  },
  {
   "cell_type": "markdown",
   "metadata": {},
   "source": [
    "Usually, you want another data frame, which you can get by replacing 'Island' with ['Island']"
   ]
  },
  {
   "cell_type": "code",
   "execution_count": null,
   "metadata": {},
   "outputs": [],
   "source": []
  },
  {
   "cell_type": "markdown",
   "metadata": {},
   "source": [
    "Using lists is also a useful way to select multiple columns at the same time "
   ]
  },
  {
   "cell_type": "code",
   "execution_count": 7,
   "metadata": {},
   "outputs": [],
   "source": [
    "#Select Species, Region, and Island"
   ]
  },
  {
   "cell_type": "code",
   "execution_count": null,
   "metadata": {},
   "outputs": [],
   "source": []
  }
 ],
 "metadata": {
  "kernelspec": {
   "display_name": "Python 3",
   "language": "python",
   "name": "python3"
  },
  "language_info": {
   "codemirror_mode": {
    "name": "ipython",
    "version": 3
   },
   "file_extension": ".py",
   "mimetype": "text/x-python",
   "name": "python",
   "nbconvert_exporter": "python",
   "pygments_lexer": "ipython3",
   "version": "3.8.5"
  }
 },
 "nbformat": 4,
 "nbformat_minor": 4
}
