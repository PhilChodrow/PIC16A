{
 "cells": [
  {
   "cell_type": "markdown",
   "metadata": {},
   "source": [
    "# Expectations for Submitted Assignments\n",
    "\n",
    "In this short notebook, we'll discuss expectations for submitted  assignments, including homework and in-class assignments. The same expectations will apply to the midterm and final exam. \n",
    "\n",
    "## Submission Format\n",
    "\n",
    "We recommend that you complete most of your homework assignments in Jupyter Notebooks. Most of you will find this to be both easier and more fun. \n",
    "\n",
    "**Homework will be submitted via gradescope.** Unless otherwise instructed, do not turn in homeworks on CCLE.\n",
    "\n",
    "### Do Not Submit `.ipynb` Files\n",
    "\n",
    "A Jupyter Notebook is natively a file of format `.ipynb`. **Do not submit `.ipynb` files. We will not grade `.ipynb` files.**\n",
    "\n",
    "Instead, you must convert your notebook into a `.pdf`. The easiest way to do this is to go to your browser's `File` menu, choose `Print`. Then, choose `Save as PDF`.  After you print, please look at your .pdf. If you have printed correctly, your file should look like a normal pdf and should not all be one big page. You should also make sure that all of your code is visible and not cut off.\n"
   ]
  },
  {
   "cell_type": "markdown",
   "metadata": {},
   "source": [
    "## Header Material\n",
    "\n",
    "The top of your assignment should include the homework assignment number (e.g. \"HW4\"), your name, and the date. It should also include the honor statement shown below. \n",
    "\n",
    "## Expository Text\n",
    "\n",
    "Your notebook should include expository text that (a) states the problem you are solving and (b) describes the operation of each code chunk. We will provide you with an outline of each homework assignment that includes the problem statements, so if you use the outline then that will satisfy (a). An example of (b) is shown below. \n",
    "\n",
    "## Comments and Docstrings\n",
    "\n",
    "Your code should include comments and docstrings. Assigments which are not properly commented will not receive full credit.\n",
    "\n",
    "**Comments** (marked in Python with a `#`) explain the intention and operation of small lines or blocks of code. \n",
    "\n",
    "**Docstrings** give a detailed explanation of the inputs and outputs of a function. Docstrings are typically placed directly below the first line of a function definition. They are placed between three pairs of quotation marks `\"\"\"like this\"\"\"`. You won't need to worry about docstrings until we discuss defining functions. "
   ]
  },
  {
   "cell_type": "markdown",
   "metadata": {},
   "source": [
    "---"
   ]
  },
  {
   "cell_type": "markdown",
   "metadata": {},
   "source": [
    "# HW5: Example\n",
    "\n",
    "- *By Michael Perlmutter*\n",
    "- Jan 4th, 2021\n",
    "\n",
    "> I affirm that I personally wrote the text, code, and comments in this homework assignment. "
   ]
  },
  {
   "cell_type": "markdown",
   "metadata": {},
   "source": [
    "## Problem 1\n",
    "\n",
    "*Write a function called `say_hello()` that repeatedly prints the phrase \"Hello Python!\". The function should take as an argument the number of times to print this phrase. It is not necessary for the function to return anything. For example:*\n",
    "\n",
    "```python\n",
    "say_hello(5)\n",
    "\n",
    "Hello Python!     # output\n",
    "Hello Python!\n",
    "Hello Python!\n",
    "Hello Python!\n",
    "Hello Python!\n",
    "```"
   ]
  },
  {
   "cell_type": "code",
   "execution_count": 3,
   "metadata": {},
   "outputs": [],
   "source": [
    "def say_hello(k):\n",
    "    \"\"\"\n",
    "    print the phrase \"Hello Python!\" a number of times specified by the user. \n",
    "    \n",
    "    Parameters\n",
    "    ----------\n",
    "    k: int, the number of times to print the phrase \"to boldly go\"\n",
    "    \n",
    "    Return \n",
    "    ----------\n",
    "    No return value\n",
    "    \"\"\"\n",
    "    \n",
    "    # I'll use a for loop to print repeatedly\n",
    "    for i in range(k):\n",
    "        print(\"Hello Python!\")"
   ]
  },
  {
   "cell_type": "code",
   "execution_count": 4,
   "metadata": {},
   "outputs": [
    {
     "name": "stdout",
     "output_type": "stream",
     "text": [
      "Hello Python!\n",
      "Hello Python!\n",
      "Hello Python!\n",
      "Hello Python!\n",
      "Hello Python!\n"
     ]
    }
   ],
   "source": [
    "say_hello(5)\n",
    "# ---"
   ]
  },
  {
   "cell_type": "markdown",
   "metadata": {},
   "source": [
    "## Problem 2\n",
    "\n",
    "*Write a function that returns a [Collatz sequence](https://en.wikipedia.org/wiki/Collatz_conjecture) starting with a user-specified integer. The sequence should be returned as an `np.array()`. The first entry should always be the user input, while the last entry should always be 1. For example:*\n",
    "\n",
    "```\n",
    "collatz(17)\n",
    "\n",
    "# output\n",
    "array([17., 52., 26., 13., 40., 20., 10.,  5., 16.,  8.,  4.,  2.,  1.])\n",
    "```"
   ]
  },
  {
   "cell_type": "markdown",
   "metadata": {},
   "source": [
    "I'll approach this problem by:\n",
    "\n",
    "1. Initializing an empty `array()` to hold the sequence. \n",
    "2. Looping and updating the sequence according to the rules described [here](https://en.wikipedia.org/wiki/Collatz_conjecture) until the sequence equals one. In each iteration, I'll add the current term to the sequence. \n",
    "3. Then, I'll return the sequence. "
   ]
  },
  {
   "cell_type": "code",
   "execution_count": 3,
   "metadata": {},
   "outputs": [],
   "source": [
    "import numpy as np\n",
    "\n",
    "def collatz(k0):\n",
    "    \"\"\"\n",
    "    Parameters\n",
    "    ----------\n",
    "    k: int, the initial integer at which to initiate the sequence\n",
    "    \n",
    "    Return \n",
    "    ----------\n",
    "    np.array(), an array of ints \n",
    "    \"\"\"\n",
    "    \n",
    "    c = np.array([])        # initialize an empty array\n",
    "    k = k0\n",
    "    c = np.append(c, k)     # not forgetting the initial value!\n",
    "    \n",
    "    while k > 1:            # loop until the sequence reaches 1  \n",
    "        if k % 2 == 0:      # even case\n",
    "            k = k/2\n",
    "        else:               # odd case\n",
    "            k = 3*k+1\n",
    "        c = np.append(c, k) # add result to c\n",
    "    return c"
   ]
  },
  {
   "cell_type": "code",
   "execution_count": 4,
   "metadata": {},
   "outputs": [
    {
     "data": {
      "text/plain": [
       "array([17., 52., 26., 13., 40., 20., 10.,  5., 16.,  8.,  4.,  2.,  1.])"
      ]
     },
     "execution_count": 4,
     "metadata": {},
     "output_type": "execute_result"
    }
   ],
   "source": [
    "collatz(17) # test, looks ok! "
   ]
  }
 ],
 "metadata": {
  "kernelspec": {
   "display_name": "Python 3",
   "language": "python",
   "name": "python3"
  },
  "language_info": {
   "codemirror_mode": {
    "name": "ipython",
    "version": 3
   },
   "file_extension": ".py",
   "mimetype": "text/x-python",
   "name": "python",
   "nbconvert_exporter": "python",
   "pygments_lexer": "ipython3",
   "version": "3.8.8"
  }
 },
 "nbformat": 4,
 "nbformat_minor": 4
}
