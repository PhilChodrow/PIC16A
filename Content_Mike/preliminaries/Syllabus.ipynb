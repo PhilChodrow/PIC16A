{
 "cells": [
  {
   "cell_type": "markdown",
   "metadata": {},
   "source": [
    "# Syllabus\n",
    "\n",
    "Welcome to PIC16A! I’m Professor Michael Perlmutter, your instructor, and I’m grateful that you’re here. Before we dive into the details, I want to lay out some guiding principles for this course:\n",
    "\n",
    "1) __I want you to succeed.__ The purpose of this course is for you to build a set of skills that can support you in your studies, hobbies, and careers. You (yes, __you__) can learn some cool stuff and get a good grade in this course.\n",
    "\n",
    "2) __None of us signed up for remote learning.__ We are all doing the best we can during a time of catastrophe and intense uncertainty. My main aims in designing this course are to (a) offer you flexibility to adapt to changing circumstances and (b) encourage you to support and be supported by your classmates. Python programming is fun, and I hope that this course can be a positive part of your experience during these difficult times.\n",
    "\n",
    "3) __Your wellbeing comes first.__ If your wellbeing or that of a loved one comes into conflict with course obligations, I hope that you will attend to the former.  If you anticipate extended difficulties related to participation or assignments, reach out to me at the earliest opportunity. We’ll make it happen.\n",
    "\n",
    "4) __We’ve got your back.__ As the instructor, I’m available to you through multiple channels. You also have an amazing support team—your TAs, LAs, and peers are all here to help you in your learning journey.\n",
    "We now return to your regularly scheduled syllabus."
   ]
  },
  {
   "cell_type": "markdown",
   "metadata": {},
   "source": [
    "# Course Overview\n",
    "\n",
    "Python is a powerful and intuitive programming language, used extensively throughout industry and academia alike. The first part of this course introduces core Python programming constructs, including data types, functions, and classes. The second part of this course includes several applications, with particular focus on data science, data visualization, and machine learning. This offering of PIC16A places special emphasis on collaborative and project-based learning.\n",
    "\n",
    "# Primary Learning Goals\n",
    "\n",
    "1.) __Reinforce Programming Fundamentals:__ You will use core Python data structures, functions, and object-oriented programming to solve complex problems.\n",
    "\n",
    "2.) __Applications:__ You will use Python’s package ecosystem to approach data science problems drawn from science, economics, politics, and literature.\n",
    "\n",
    "3) __Code Quality:__ You will create readable, documented, and reusable code. You will compare and evaluate multiple approaches to programming tasks."
   ]
  },
  {
   "cell_type": "markdown",
   "metadata": {},
   "source": [
    "### Official Course Description\n",
    "\n",
    "Lecture, three hours; discussion, two hours. Enforced requisite: course 10A, Computer Science 31, or equivalent, with grades of C- or better. Python programming and programming with Python packages. General Python programming constructs; standard data structures, flow control, exception handling, and input and output. Object oriented programming with Python. Application programming with commonly used Python modules such as PyQt or tkinter, NumPy, SciPy, and NLTK. P/NP or letter grading."
   ]
  },
  {
   "cell_type": "markdown",
   "metadata": {},
   "source": [
    "### Programming Fundamentals\n",
    "\n",
    "__Containers:__ You will use lists and dictionaries to manage collections of data.\n",
    "\n",
    "__Functions:__ You will write reusable functions to perform complex, customized tasks.\n",
    "\n",
    "__Control Flow:__ You will use branching logic and loops to structure sophisticated programs.\n",
    "\n",
    "__Object-oriented programming:__ You will write custom classes and define their behavior, and use inheritance to extend their functionality."
   ]
  },
  {
   "cell_type": "markdown",
   "metadata": {},
   "source": [
    "### Applications\n",
    "\n",
    "__Modules:__ You will access and apply a wide variety of Python modules commonly used in software development, data analysis and computational science.\n",
    "\n",
    "__Arrays and Vectorizaton:__ You will use the Numpy and Pandas packages to efficiently manipulate arrays and data frames.\n",
    "Data Visualization: You will use the Matplotlib package to create insightful and attractive data graphics.\n",
    "\n",
    "__Machine Learning:__ You will deploy and evaluate machine learning algorithms on real-world data sets.\n",
    "\n",
    "__Project:__ You will collaboratively complete an extended project in which you analyze and make predictions on a real scientific data set."
   ]
  },
  {
   "cell_type": "markdown",
   "metadata": {},
   "source": [
    "### Code Quality\n",
    "\n",
    "__Concision:__ You will eliminate redundant code components and enclose reused code within functions and manipulating arrays with vectorized tools.\n",
    "\n",
    "__Documentation:__ You will carefully document your code with comments, docstrings, and surrounding text.\n",
    "\n",
    "__Robustness:__ You will use exceptions to appropriately inform the user about invalid inputs, and design unit tests to ensure the correct functioning of your functions and classes."
   ]
  },
  {
   "cell_type": "markdown",
   "metadata": {},
   "source": [
    "# Basics "
   ]
  },
  {
   "cell_type": "markdown",
   "metadata": {},
   "source": [
    "## Schedule\n",
    "\n",
    "__Discussion A__ TR, 1:00pm-1:50pm (Pacific Time)\n",
    "\n",
    "__Discussion B__ MW, 1:00pm-1:50pm (Pacific Time)\n",
    "\n",
    "__Lecture__  MTWR, 12:00pm-12:50pm (Pacific Time)"
   ]
  },
  {
   "cell_type": "markdown",
   "metadata": {},
   "source": [
    "## Course Team\n",
    "\n",
    "__Instructor:__ Michael Perlmutter, michael.perlmutter.ucla@gmail.com, Office Hours: TBA\n",
    "\n",
    "__Teaching Assistant:__ Wonjun Lee, wlee10@ucla.edu, Office Hours: TBA\n",
    "\n",
    "__Learning Assistants:__ TBD"
   ]
  },
  {
   "cell_type": "markdown",
   "metadata": {},
   "source": [
    "# Assessment\n",
    "\n",
    "## Core Rubric\n",
    "\n",
    "__Homework:__ 40%\n",
    "\n",
    "__Participation:__ 10%\n",
    "\n",
    "__Quizzes:__ 10%\n",
    "\n",
    "__Mini-Project:__ 20%\n",
    "\n",
    "__Midterm Exam:__ 20%\n",
    "\n",
    "\n",
    "# Grading Philosophy\n",
    "\n",
    "I do not grade on the basis of ranks or other distributional information. Your final letter grade in this course is a reflection of your own effort, learning, and teamwork. If every student fully meets my expectations along these axes, then I will not hesitate to give every student an A.\n",
    "\n",
    "Concretely, your final letter grade in PIC16A is based on the following two factors:\n",
    "\n",
    "- Your final course average. I use the straight scale as a minimum, and reserve the right to be more generous. For example, if you achieve a final average of a 92 in the course, that guarantees you at least an A-. The only exception is the A+ grade, which is not guaranteed by any numerical average. I am very stingy with these and only give them out to students who have shown exceptional teamwork and creativity, in addition to ending the quarter with a very high average.\n",
    "- My professional assessment of your learning. This is the “extra” that could push that A- to an A. You will have an opportunity on the final exam to reflect on your time in the course and share with me any information about your learning that may not be reflected in your numerical average.\n",
    "Thus, you are not competing against your peers for grades. This means that you don’t hurt your own prospects when you help your peers understand a concept. Indeed, just the opposite, when reasonably possible, I will reward exceptional collaboration.\n",
    "\n",
    "We are all on the same team here."
   ]
  },
  {
   "cell_type": "markdown",
   "metadata": {},
   "source": [
    "## Homework\n",
    "\n",
    "There will be about 6 homework assignments throughout the quarter. You should consult the 'coding expectations' and 'expectations for submitted assignments' documents (posted in the course info tab) for guidance on how to polish, document and submit your work. \n",
    "\n",
    "Late homework will be accepted up to three days late. Assignments which are less than 24 hours late will receive a ten point penalty. Assigments which are less than 48 hours late will receive a twenty point penalty, and assigments which are less than 72 hours late will receive a 30 point penalty. If you have extenuating circumstances, such as a hospitilization, which prevent you from completing an assignment on time, please contact me as soon as possible. There will not be any dropped homeworks."
   ]
  },
  {
   "cell_type": "markdown",
   "metadata": {},
   "source": [
    "## Participation\n",
    "\n",
    "Attendance at scheduled lecture sessions is encouraged but does not count towards your participation grade. Of course, attendance at lecture will help you learn the material more rapidly and thoroughly. Scheduled lecture sessions will include Q&A, discussion, supplementary lectures, and both individual and group activities.\n",
    "\n",
    "__Attendance at discussion sessions is required and counts towards your participation grade.__ Exceptions will be made in circumstances that make this extremely difficult (such as lack of internet access or time zone issues). Students in timezones outside the U.S. will generally be offered timezone exemptions, in which case they will work with a group of students in a similar situation at an alternate meeting time.\n",
    "\n",
    "Discussion sections will include graded group work, including exercises and creative problem-solving. This graded work is the basis of your participation score. The lowest four grades from discussion assignments will be dropped. You are expected to consult the expectations for working in groups prior to the first Discussion section of the quarter.\n",
    "\n",
    "In discussion, you will be working with the same group throughout the quarter. If you unenroll in the class after the groups have been created please let me know so I can adjust the groups and not inconvenience your classmates. "
   ]
  },
  {
   "cell_type": "markdown",
   "metadata": {},
   "source": [
    "## Quizzes\n",
    "\n",
    "All traditional lectures will be pre-recorded and available online. Each lecture day, there will be a quiz consisting of questions related to that day’s lecture videos. The primary purpose of the quizzes is to encourage you to study the required lecture content in time to apply your knowledge in the group Discussion sections.\n",
    "\n",
    "Quizzes are untimed, and typically require approximately 5 minutes per question. Quizzes are due at 11:00am the day after lecture. For example, a typical quiz on a Wednesday might consist of 2-3 questions, and can be taken in any time before 10:00am that Thursday.\n",
    "\n",
    "The lowest 5 quiz grades will be dropped. Lectures, lecture notes, and required readings will always be posted at least 48 hours before the quiz is due.\n",
    "\n",
    "## Mini-Project\n",
    "\n",
    "There will be a group mini-project due at the end of the course. Working with your group, you will produce a small data science project in which you will read, explore, train machine learning models, and communicate your findings using a real data set. Several Discussion sections in the second half of the course will be devoted to helping you get started on the stages of this mini-project. The project will be designed to require approximately 3-5 person-hours per group member outside of scheduled class times. \n",
    "\n",
    "## Midterm Exam\n",
    "\n",
    "The midterm exam will take place on Thursday, July 15. It will be released at 8am, Pacific Time, and will be due 24 hours later at 7:59am, Pacific Time, on Friday, July 16. The exam is intended to require approximately ninety minutes of effort, but you are free to spend more time on it within the 24 hours. This exam is open-book and open-notes.\n",
    "\n",
    "## Final Exam\n",
    "\n",
    "There will not be a final exam in this course. \n",
    "\n",
    "## Extra Credit\n",
    "\n",
    "There are several waysfor you to earn extra credit."
   ]
  },
  {
   "cell_type": "markdown",
   "metadata": {},
   "source": [
    "### Essay\n",
    "\n",
    "At any time prior to the end of instruction, you may submit an essay of between 900 and 1,200 words (3-4 double-spaced pages) on a topic broadly related to the societal impacts of data science, including but not limited to privacy or equity and social justice. Your essay should address a concrete problem, assess the current state of affairs, and suggest one or more paths forward. Examples of suitable topics include but are no means limited to, i) bias in facial recognition, ii) the impact of automation on social services for the poor, and iii) the role of technology in combatting climate change. Please note that you should pick a specific topic and not just write about the general impact of social media or tech companies on society as a whole. Essays on such general topics will likely receive only partial credit.\n",
    "\n",
    "You are welcome to argue any angle on your topic, provided that you can offer sound sources and argumentation. For example, you may argue that bias in facial recognition is a major problem in need of solution, or you may argue that no substantial problem exists. You are welcome to ask me about your sources and proposed argument before you begin writing. Similarly, if you are not sure if you topic is specific enough, please ask before you get started.\n",
    "\n",
    "This essay will be graded out of 2 points, and the result will be added as a percentage to your final average in the course. For instance, if your essay earns 1.5 points, 1.5% will be added to your final average. Please note that, because 2% is quite a lot of extra credit, I will tend to grade these essays quite strictly. Exceptional effort is required if you want all the full 2 points.\n",
    "\n",
    "Your essay should satisfy the following criteria.\n",
    "\n",
    "__Sources:__ The essay should cite and elaborate on at least five news articles, scholarly journal articles, or other primary sources. Opinion articles do not count. Blog posts are generally unsuitable, but posts by established experts may be permissible; ask me if you’re not sure. You should use a consistent citation convention. If you’re not sure which one to use, APA and MLA are both good choices. Up to one source may be a documentary film, while the remainder must be written. You are free to use any sources to which you have access. If you are having trouble getting started, you may email me for useful starting places.\n",
    "\n",
    "__Argument:__ The essay should have a thesis statement, which is supported by the discussion of the sources. Several examples of successful thesis statements:\n",
    "\n",
    "-  Taken together, these articles suggest that algorithmic surveillance of marginalized groups is only increasing with time.\n",
    "\n",
    "-  Although studies have revealed significant biases in Google Search, more recent work suggests that these biases may be less important in practice than once believed.\n",
    "-  While many proposals exist for how algorithms and computation can be used to combat climate change, these proposals often overlook the role of human interpretation in implementing computer-generating guidance.\n",
    "\n",
    "__Grammar and Writing:__ Your essay should be written in grammatical English, with complete sentences and careful punctuation.\n",
    "\n",
    "The Undergraduate Writing Center is an excellent resource for helping you craft high-quality essays.\n",
    "\n",
    "## Campus Wire\n",
    "\n",
    "There is a Campuswire discussion forum associated with this course, where you can post both questions and answers about the course content. If you post a particularly insightful question or answer, I will (at my discretion) award you 0.25% of extra credit toward your final grade. You can earn extra credit this way up to four times, for a total of 1% extra credit."
   ]
  },
  {
   "cell_type": "markdown",
   "metadata": {},
   "source": [
    "## Office Hours\n",
    "\n",
    "You can get extra credit just by coming to office hours! The first time you attend OH and ask me a question, you will receive 0.25% extra credit.\n",
    "\n",
    "## Course Feedback\n",
    "\n",
    "There will be several surveys throughout the quarter which allow you to give me feedback on the course. Completing these feedback surveys is worth 0.25% extra credit, each."
   ]
  },
  {
   "cell_type": "markdown",
   "metadata": {},
   "source": [
    "# Learning on Zoom"
   ]
  },
  {
   "cell_type": "markdown",
   "metadata": {},
   "source": [
    "## Cameras\n",
    "\n",
    "We’re all humans. Many of us are feeling isolated or lonely in the time of COVID. As your instructor, it brightens my day to see your faces. So, when attending lecture, please consider turning your camera on, if your situation admits. There is no judgement and no penalty for attending lecture in bed, in you pajamas, wrapped in a blanket, etc. Conversely, there is no penalty for leaving your camera off, and I will not inquire.\n",
    "\n",
    "When working in groups in your discussion section, it is especially important to engage with your group members as peers, mentors, and individuals. __You are strongly encouraged to turn your cameras on when working with your teams.__ LAs rotating through the groups may ask you why your camera is off."
   ]
  },
  {
   "cell_type": "markdown",
   "metadata": {},
   "source": [
    "## Microphones\n",
    "\n",
    "In large meetings, it’s good etiquette to mute your microphone when you are not actively talking. Feel free to unmute yourself when you have a question for me or for the TA. When working in small groups, leave your microphone on unless there’s a lot of ambient noise."
   ]
  },
  {
   "cell_type": "markdown",
   "metadata": {},
   "source": [
    "# Diversity\n",
    "\n",
    "You deserve to be welcomed and celebrated by our community. We embrace diversity of age, background, beliefs, ethnicity, gender, gender identity, gender expression, national origin, religious affiliation, sexual orientation, and other visible and non-visible categories. Discrimination is not tolerated in my classroom.\n",
    "\n",
    "__Title IX:__ \n",
    "You deserve a learning environment free from discrimination, sexual harassment, sexual assault, domestic violence, dating violence, and stalking. If you experience these behaviors or otherwise know of a Title IX violation, you have many options for support and/or reporting. The UCLA Title IX Office can help you navigate your options.\n",
    "\n",
    "__Accessibility:__\n",
    "You deserve to fully and equitably participate in our learning environment. I am actively putting effort into ensuring that course materials are screen-reader accessible, and welcome feedback on where I can do better. The UCLA Center for Accessible Education and Disabilities and Computing Program may be able to help remove barriers to learning.\n",
    "\n",
    "__Names and Pronouns:__ \n",
    "You deserve to be addressed in the manner that reflects who you are. I welcome to tell me your pronouns and/or preferred name at any time, either in person or via email. Conversely, please address your classmates according to their expressed preferences.\n"
   ]
  },
  {
   "cell_type": "markdown",
   "metadata": {},
   "source": [
    "# Collaboration and Academic Honesty\n",
    "\n",
    "I heartily encourage you to collaborate with your peers on homework and many in-class activities. You should ask questions, brainstorm ideas, and offer suggestions at a conceptual level. In general, __you should not share code with your peers__ in any circumstances, as this deprives them of the opportunity to learn how to operationalize their ideas.\n",
    "\n",
    "The quizzes, midterm, and finals are open-book and open-notes. You should not discuss any aspect of these evaluations with your peers, and doing so will constitute a violation of UCLA’s student code of conduct."
   ]
  },
  {
   "cell_type": "markdown",
   "metadata": {},
   "source": [
    "### Extensions Policy\n",
    "\n",
    "These are challenging times. From disease to internet access to political unrest, there are many reasons why you might struggle to complete your work on time. In awareness of this situation, PIC16A includes an large number of drops for homework, participation assignments, and quizzes – around two weeks worth of drops in each category. Additionally, there are several opportunities to earn a substantial amount of extra credit. Because of this, I will generally not grant extensions on assignments. If you are not able to complete an assignment on time, you will need to use one of your drops. If you foresee that you will be unable to complete multiple weeks worth of assignments, then please contact me and we will find a solution.\n",
    "\n",
    "### Coding Problems\n",
    "\n",
    "If you are struggling with a problem on a homework assignment, or wondering about an in-class activity, you have several ways to get help. In approximate order, you should try:\n",
    "\n",
    "1) Posting your question on the class discussion forum AND/OR asking your Discussion group members.\n",
    "\n",
    "2) Attending the next lecture period, which will often be used for relevant examples or Q&A.\n",
    "\n",
    "3) Attending the office hours of either Nikita or myself."
   ]
  },
  {
   "cell_type": "markdown",
   "metadata": {},
   "source": [
    "__Acknowledgements:__ Much of this syllabus (and the general organization of this course) is directly borrowed from Professor Phil Chodrow. (The real Dr. Phil.) I should also mention that Phil's syllabus is a bit longer than mine and includes numerous statements on the courses values. I have made this ommisions for the sake of brevity, but I 100% agree with the sentiment expressed in Phil's longer version of this syllabus. I want all students to feel respected and feel comfortable speaking with me about any experience or aspect of your life that may effect your safety, ability to learn, or ability to participate in this course."
   ]
  },
  {
   "cell_type": "code",
   "execution_count": null,
   "metadata": {},
   "outputs": [],
   "source": []
  }
 ],
 "metadata": {
  "kernelspec": {
   "display_name": "Python 3",
   "language": "python",
   "name": "python3"
  },
  "language_info": {
   "codemirror_mode": {
    "name": "ipython",
    "version": 3
   },
   "file_extension": ".py",
   "mimetype": "text/x-python",
   "name": "python",
   "nbconvert_exporter": "python",
   "pygments_lexer": "ipython3",
   "version": "3.8.8"
  }
 },
 "nbformat": 4,
 "nbformat_minor": 4
}
