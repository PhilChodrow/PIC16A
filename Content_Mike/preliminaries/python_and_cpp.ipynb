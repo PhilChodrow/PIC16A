{
 "cells": [
  {
   "cell_type": "markdown",
   "metadata": {},
   "source": [
    "# Welcome to Python\n",
    "\n",
    "## Suggested Reading\n",
    "\n",
    "\n",
    "You may find the chapter [How to Run Python Code](https://nbviewer.jupyter.org/github/jakevdp/WhirlwindTourOfPython/blob/master/01-How-to-Run-Python-Code.ipynb) from \n",
    "\n",
    ">    A Whirlwind Tour of Python by Jake VanderPlas (O’Reilly). Copyright 2016 O’Reilly Media, Inc., 978-1-491-96465-1\n",
    "\n",
    "to be of interest, as it introduces some of the many ways to run Python, highlighting its increased flexibility when compared to C++. \n",
    "\n",
    "\n",
    "# Python vs. C++\n",
    "\n",
    "Your background coding in C++ from PIC10A will be extremely useful to you when studying Python. However, there are several important differences that you will need to understand in order to use Python effectively. These notes cover the two most important of these differences. \n",
    "\n",
    "1. C++ is **compiled**, while Python is **interpreted.**\n",
    "2. C++ is **statically typed**, while Python is **dynamically typed.** \n",
    "\n",
    "## C++ is a Compiled Language\n",
    "\n",
    "When learning C++ in PIC10A, you probably wrote a program like this: \n",
    "\n",
    "```cpp\n",
    "\n",
    "// Filename: boldy.cpp\n",
    "\n",
    "#include <iostream>\n",
    "\n",
    "int main() {\n",
    "    std::cout << \"To boldly go\";\n",
    "    return 0;\n",
    "}\n",
    "```\n",
    "\n",
    "To run this program, you need to perform two steps. Using the command line, you would write\n",
    "\n",
    "```\n",
    "user@local:~$ sudo g++ -o boldly boldly.cpp   # compile program\n",
    "user@local:~$ ./boldly                        # run executable\n",
    "To boldly go                                  # output\n",
    "```\n",
    "\n",
    "If you don't recognize these lines of code, that's ok -- you might have been using the \"play\" button in Visual Studio or something similar. Under the hood, the \"play\" button is using a more complicated version of exactly this two-step sequence. \n",
    "\n",
    "The first line *compiles* our code, producing an executable program called `boldly`. The second line then invokes our new executable program, thereby printing the output. \n",
    "\n",
    "## Python is an Interpreted Language\n",
    "\n",
    "Unlike the two-step process for running a program in C++, running a program in Python is much simpler. \n",
    "If our Python file is: \n",
    "\n",
    "```python\n",
    "# filename: boldly.py\n",
    "print(\"To boldly go\")\n",
    "```\n",
    "\n",
    "then we can execute it at the command line like this: \n",
    "\n",
    "```\n",
    "user@local:~$ python3 boldly.py  # execute boldly.py using Python 3\n",
    "To boldly go                     # output\n",
    "```\n",
    "\n",
    "There is no compilation step: the Python 3 *interpreter* directly executes the code in our file line-by-line. \n",
    "\n",
    "It is also possible to interact with the Python 3 interpreter *interactively,* by giving it code a few lines at a time. In this course, we will usually do this using *Jupyter Notebooks*. Jupyter Notebooks allow you to intermingle interactively executable code with text and media. The bulk of this course's lecture notes will be housed in Jupyter notebooks. \n",
    "\n",
    "## C++ is Statically Typed \n",
    "\n",
    "When coding in C++, we always need to declare the *type* of a variable, or the return type of a function. In our C++ program above, for example, we needed to explicitly declare that the function `main()` returns an `int`. \n",
    "\n",
    "For a simpler example, to construct an integer variable `x`, we would write\n",
    "\n",
    "```cpp\n",
    "int x = 0;\n",
    "```\n",
    "\n",
    "The `int` component of this line tells the compiler that the variable `x` is an integer, and not, for example, a float or a string. The type of `x` is then set in stone -- we now can't use `x` as the name of a float or string. These characteristics of C++ make it *statically typed:* we explicitly declare the type of a variable, and then once declared it never changes.  \n",
    "\n",
    "## Python is Dynamically Typed\n",
    "\n",
    "Unlike C++, Python is *dynamically typed.* In a dynamically-typed language, we can simply initialize variables, without declaring their type: "
   ]
  },
  {
   "cell_type": "code",
   "execution_count": 1,
   "metadata": {},
   "outputs": [
    {
     "name": "stdout",
     "output_type": "stream",
     "text": [
      "The value of the variable x is 2\n",
      "x has type <class 'int'>\n"
     ]
    }
   ],
   "source": [
    "x = 2\n",
    "print(\"The value of the variable x is\", x)\n",
    "print(\"x has type\", type(x))\n",
    "# ---"
   ]
  },
  {
   "cell_type": "markdown",
   "metadata": {},
   "source": [
    "Furthermore, we can arbitrarily reassign the variable `x` to any value, including values of new types. "
   ]
  },
  {
   "cell_type": "code",
   "execution_count": 2,
   "metadata": {},
   "outputs": [
    {
     "name": "stdout",
     "output_type": "stream",
     "text": [
      "The value of the variable x is two\n",
      "x has type <class 'str'>\n",
      "The value of the variable x is 2.0\n",
      "x has type <class 'float'>\n"
     ]
    }
   ],
   "source": [
    "x = \"two\"\n",
    "print(\"The value of the variable x is\", x)\n",
    "print(\"x has type\", type(x))\n",
    "\n",
    "x = 2.0\n",
    "print(\"The value of the variable x is\", x)\n",
    "print(\"x has type\", type(x))\n",
    "# ---"
   ]
  },
  {
   "cell_type": "markdown",
   "metadata": {},
   "source": [
    "The Python interpreter is usually able to determine the type of `x` based on the value that we assign to it. In this sense, declaring variables in Python is similar to using the type declaration `auto` in C++. "
   ]
  },
  {
   "cell_type": "markdown",
   "metadata": {},
   "source": [
    "# Benefits and Drawbacks of Python\n",
    "\n",
    "The fact that Python is interpreted rather than compiled makes it simpler to *run* programs. The fact that Python is dynamically typed makes it simpler to *write* programs. As we'll see throughout this course, these two features are **extremely** convenient, and often allow Python programs to be substantially shorter and simpler than equivalent C++ programs. So, why would anyone program in C++? Two answers: \n",
    "\n",
    "1. *Bugs*: Python's dynamic typing makes it easier for type-related bugs to sneak into your code. In C++, such issues would usually be caught by the compiler. \n",
    "2. *Performance*: Interpreted languages are usually significantly slower than compiled languages. In [many benchmarks](https://benchmarksgame-team.pages.debian.net/benchmarksgame/fastest/gpp-python3.html), Python is 10x-100x slower than C++. For the code we run in this course, performance will usually not be a major issue. For code deployed in production settings (like apps or video games), however, this performance gap can make a big difference. \n",
    "\n",
    "For these reasons, interpreted languages like Python are often preferred when interactivity and exploration are priorities, with data science being a very important contemporary example. In contrast, C++ and other compiled languages are often preferred when performance is an important consideration. "
   ]
  }
 ],
 "metadata": {
  "kernelspec": {
   "display_name": "Python 3",
   "language": "python",
   "name": "python3"
  },
  "language_info": {
   "codemirror_mode": {
    "name": "ipython",
    "version": 3
   },
   "file_extension": ".py",
   "mimetype": "text/x-python",
   "name": "python",
   "nbconvert_exporter": "python",
   "pygments_lexer": "ipython3",
   "version": "3.8.5"
  }
 },
 "nbformat": 4,
 "nbformat_minor": 4
}
