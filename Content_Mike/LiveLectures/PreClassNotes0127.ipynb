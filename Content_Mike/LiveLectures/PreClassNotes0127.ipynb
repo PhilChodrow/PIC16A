{
 "cells": [
  {
   "cell_type": "markdown",
   "metadata": {},
   "source": [
    "# Quiz 10 Problem 1"
   ]
  },
  {
   "cell_type": "markdown",
   "metadata": {},
   "source": [
    "Which of the following must be true for the following code to execute without error? \n",
    "\n",
    "for x in C:\n",
    "\n",
    "      print(x)\n",
    "\n",
    "Choose all that apply. \n",
    "\n",
    "Note: it is not required that the code do anything useful or sensible. \n",
    "\n",
    "C has an __iter__() method. __correct__\n",
    "\n",
    "C has a __next__() method. __incorrect__ next method belongs to the iterator class, not C itself\n",
    "\n",
    "The output of iter(C) has a  __next__() method.  __correct__\n",
    "\n",
    "C is a container. __incorrect__ (see page rank)\n",
    "\n",
    "The code  len(C) executes without error. __incorrect__ (counter example below)"
   ]
  },
  {
   "cell_type": "code",
   "execution_count": 3,
   "metadata": {},
   "outputs": [],
   "source": [
    "\n",
    "\n",
    "class ReverseList:\n",
    "    \n",
    "    def __init__(self,L):\n",
    "        self.L=L\n",
    "        \n",
    "    def __str__(self):\n",
    "        return(str(self.L))\n",
    "\n",
    "    def __iter__(self):\n",
    "        return(ReverseListIterator(self))\n",
    "    \n",
    "class ReverseListIterator:\n",
    "    \n",
    "    #iterator classes need i)  rule for where to start ii) a rule for where to go next and iii) when to stop\n",
    "    \n",
    "    def __init__(self,RL):\n",
    "        self.L=RL.L\n",
    "        self.index=len(self.L)-1\n",
    "        #the index variable stores the current position\n",
    "        #since this is a reverese iterator we start at the last position\n",
    "        \n",
    "    def __next__(self):\n",
    "        \n",
    "        if self.index<0:\n",
    "            raise StopIteration\n",
    "        self.index-=1\n",
    "        return(self.L[self.index+1])\n",
    "\n",
    "R=ReverseList([1,2,3])\n",
    "#len(R)\n",
    "\n"
   ]
  },
  {
   "cell_type": "markdown",
   "metadata": {},
   "source": [
    "# Example\n",
    "\n",
    "In Class Today, we will construct a PositiveListClass\n",
    "\n",
    "This will be a list like object which can contain positive negative numbers as well as other data types, but when you call for, it will only print the positive numbers  in the list"
   ]
  },
  {
   "cell_type": "code",
   "execution_count": null,
   "metadata": {},
   "outputs": [],
   "source": []
  }
 ],
 "metadata": {
  "kernelspec": {
   "display_name": "Python 3",
   "language": "python",
   "name": "python3"
  },
  "language_info": {
   "codemirror_mode": {
    "name": "ipython",
    "version": 3
   },
   "file_extension": ".py",
   "mimetype": "text/x-python",
   "name": "python",
   "nbconvert_exporter": "python",
   "pygments_lexer": "ipython3",
   "version": "3.8.5"
  }
 },
 "nbformat": 4,
 "nbformat_minor": 4
}
