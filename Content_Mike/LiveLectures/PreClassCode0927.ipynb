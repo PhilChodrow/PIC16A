{
 "cells": [
  {
   "cell_type": "markdown",
   "id": "b201db1f",
   "metadata": {},
   "source": [
    "# Python Variables \n",
    "\n",
    "Dynamically typed..."
   ]
  },
  {
   "cell_type": "code",
   "execution_count": null,
   "id": "f52b92b7",
   "metadata": {},
   "outputs": [],
   "source": []
  },
  {
   "cell_type": "code",
   "execution_count": null,
   "id": "65e8d7a4",
   "metadata": {},
   "outputs": [],
   "source": []
  },
  {
   "cell_type": "code",
   "execution_count": null,
   "id": "61b67f9a",
   "metadata": {},
   "outputs": [],
   "source": []
  },
  {
   "cell_type": "code",
   "execution_count": null,
   "id": "bbb48407",
   "metadata": {},
   "outputs": [],
   "source": []
  },
  {
   "cell_type": "code",
   "execution_count": null,
   "id": "274cc37b",
   "metadata": {},
   "outputs": [],
   "source": []
  },
  {
   "cell_type": "code",
   "execution_count": null,
   "id": "d1026d61",
   "metadata": {},
   "outputs": [],
   "source": []
  },
  {
   "cell_type": "code",
   "execution_count": null,
   "id": "1249deda",
   "metadata": {},
   "outputs": [],
   "source": []
  },
  {
   "cell_type": "markdown",
   "id": "5b6acb8f",
   "metadata": {},
   "source": [
    "### Lists are like vectors in C++ \n",
    "\n",
    "Append, concatenate..."
   ]
  },
  {
   "cell_type": "code",
   "execution_count": null,
   "id": "e24449a0",
   "metadata": {},
   "outputs": [],
   "source": []
  },
  {
   "cell_type": "code",
   "execution_count": 8,
   "id": "717b5bde",
   "metadata": {},
   "outputs": [],
   "source": []
  },
  {
   "cell_type": "code",
   "execution_count": null,
   "id": "326b7549",
   "metadata": {},
   "outputs": [],
   "source": []
  },
  {
   "cell_type": "code",
   "execution_count": null,
   "id": "77dc04f1",
   "metadata": {},
   "outputs": [],
   "source": []
  },
  {
   "cell_type": "code",
   "execution_count": null,
   "id": "039fc270",
   "metadata": {},
   "outputs": [],
   "source": []
  },
  {
   "cell_type": "markdown",
   "id": "bbca40ec",
   "metadata": {},
   "source": [
    "So far, it looks like variables are quite simple in python, but... "
   ]
  },
  {
   "cell_type": "code",
   "execution_count": 1,
   "id": "f90f9176",
   "metadata": {},
   "outputs": [],
   "source": [
    "#what does this code do? Is it the same as it would have been in C++?\n"
   ]
  },
  {
   "cell_type": "code",
   "execution_count": 2,
   "id": "7f4cdef2",
   "metadata": {},
   "outputs": [],
   "source": [
    "#what does this code do? Is it the same as it would have been in C++?\n"
   ]
  },
  {
   "cell_type": "code",
   "execution_count": 3,
   "id": "9c526445",
   "metadata": {},
   "outputs": [],
   "source": [
    "#what does this code do? Is it the same as it would have been in C++?\n"
   ]
  },
  {
   "cell_type": "code",
   "execution_count": 4,
   "id": "c5ac5b54",
   "metadata": {},
   "outputs": [],
   "source": [
    "#what does this code do? Is it the same as it would have been in C++?\n"
   ]
  },
  {
   "cell_type": "code",
   "execution_count": 5,
   "id": "a1419143",
   "metadata": {},
   "outputs": [],
   "source": [
    "#another example\n"
   ]
  },
  {
   "cell_type": "code",
   "execution_count": 6,
   "id": "c45eaa6b",
   "metadata": {},
   "outputs": [],
   "source": [
    "#but what about this one\n"
   ]
  },
  {
   "cell_type": "markdown",
   "id": "718ec031",
   "metadata": {},
   "source": [
    "Okay, so what the heck is going on?\n",
    "\n",
    "Lets' think about this? What is the different?\n",
    "\n",
    "In the first example it behaves as if L2=L1 is behaving like a normal assigment, vector<int> L2=L1; in c++\n",
    "    \n",
    "In the seconed it behaves like a reference vector<int>& L2=L1; in c++\n",
    "    \n",
    "So variables are kind of acting like a value and kind of like a reference\n",
    "    \n",
    "From the python tutorial \"value is not value, value is reference\" ??????"
   ]
  },
  {
   "cell_type": "markdown",
   "id": "be861e9d",
   "metadata": {},
   "source": [
    "Here is some C++ code: Let's walk through what going on (pictures of boxes)\n",
    "\n",
    "1 int i;\n",
    "\n",
    "2 i=0;\n",
    "\n",
    "3 i=1;\n",
    "\n",
    "4 int j=8; \n",
    "\n",
    "5 int k=18;\n",
    "\n",
    "6 i=j;\n",
    "\n",
    "7 i=j+k;\n",
    "\n",
    "What are the values of i,jk after this?\n"
   ]
  },
  {
   "cell_type": "markdown",
   "id": "940acd4c",
   "metadata": {},
   "source": [
    "DRAW PICTURE * On IPAD"
   ]
  },
  {
   "cell_type": "markdown",
   "id": "b22573b5",
   "metadata": {},
   "source": [
    "These differences between lines 6 and 7 are responsible for the differences between L.append(1) and L=L+[1]"
   ]
  },
  {
   "cell_type": "markdown",
   "id": "d91df599",
   "metadata": {},
   "source": [
    "Basic pictures: How to visualize the following"
   ]
  },
  {
   "cell_type": "code",
   "execution_count": null,
   "id": "bfb15e34",
   "metadata": {},
   "outputs": [],
   "source": []
  },
  {
   "cell_type": "markdown",
   "id": "518a3da9",
   "metadata": {},
   "source": [
    "Draw Pickture  ** on IPAD"
   ]
  },
  {
   "cell_type": "markdown",
   "id": "ebed2da0",
   "metadata": {},
   "source": [
    "Address Examples above"
   ]
  },
  {
   "cell_type": "code",
   "execution_count": null,
   "id": "f2968f1d",
   "metadata": {},
   "outputs": [],
   "source": []
  },
  {
   "cell_type": "markdown",
   "id": "4e902439",
   "metadata": {},
   "source": [
    "Draw Picture ***"
   ]
  },
  {
   "cell_type": "code",
   "execution_count": null,
   "id": "7d461559",
   "metadata": {},
   "outputs": [],
   "source": []
  },
  {
   "cell_type": "code",
   "execution_count": 7,
   "id": "3b19bc52",
   "metadata": {},
   "outputs": [],
   "source": [
    "#Now lets recall this example\n"
   ]
  },
  {
   "cell_type": "markdown",
   "id": "bf5817c4",
   "metadata": {},
   "source": [
    "Draw picture ****"
   ]
  },
  {
   "cell_type": "code",
   "execution_count": null,
   "id": "79d9237c",
   "metadata": {},
   "outputs": [],
   "source": []
  },
  {
   "cell_type": "code",
   "execution_count": 8,
   "id": "18a57881",
   "metadata": {},
   "outputs": [],
   "source": [
    "#Now what about\n"
   ]
  },
  {
   "cell_type": "markdown",
   "id": "c60146bb",
   "metadata": {},
   "source": [
    "Draw picture *** **"
   ]
  },
  {
   "cell_type": "code",
   "execution_count": null,
   "id": "771b1209",
   "metadata": {},
   "outputs": [],
   "source": []
  },
  {
   "cell_type": "markdown",
   "id": "53682554",
   "metadata": {},
   "source": [
    "symbol tables"
   ]
  },
  {
   "cell_type": "code",
   "execution_count": null,
   "id": "b16e6de8",
   "metadata": {},
   "outputs": [],
   "source": []
  },
  {
   "cell_type": "markdown",
   "id": "a6c081c2",
   "metadata": {},
   "source": [
    "Draw Symbol Tables"
   ]
  },
  {
   "cell_type": "code",
   "execution_count": 9,
   "id": "7234317c",
   "metadata": {},
   "outputs": [],
   "source": [
    "#Recall this example\n"
   ]
  },
  {
   "cell_type": "markdown",
   "id": "67400a7f",
   "metadata": {},
   "source": [
    "Draw Symbol Table 2"
   ]
  },
  {
   "cell_type": "code",
   "execution_count": null,
   "id": "547692ce",
   "metadata": {},
   "outputs": [],
   "source": []
  },
  {
   "cell_type": "code",
   "execution_count": 10,
   "id": "2a98c32e",
   "metadata": {},
   "outputs": [],
   "source": [
    "#Tricky example\n"
   ]
  },
  {
   "cell_type": "code",
   "execution_count": null,
   "id": "92a21c63",
   "metadata": {},
   "outputs": [],
   "source": []
  }
 ],
 "metadata": {
  "kernelspec": {
   "display_name": "Python 3",
   "language": "python",
   "name": "python3"
  },
  "language_info": {
   "codemirror_mode": {
    "name": "ipython",
    "version": 3
   },
   "file_extension": ".py",
   "mimetype": "text/x-python",
   "name": "python",
   "nbconvert_exporter": "python",
   "pygments_lexer": "ipython3",
   "version": "3.8.8"
  }
 },
 "nbformat": 4,
 "nbformat_minor": 5
}
