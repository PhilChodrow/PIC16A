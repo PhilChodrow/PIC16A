{
 "cells": [
  {
   "cell_type": "markdown",
   "metadata": {},
   "source": [
    "# Using Functions for a Lyft Calculator\n",
    "\n",
    "## Part 1: Review of Functions\n",
    "\n",
    "\n",
    "Write a function called square which inputs an list and returns a list with each item squared. (Don't worry about error handling for now.) Test it out on the list below. First write it without lambda functions, then with lambda"
   ]
  },
  {
   "cell_type": "code",
   "execution_count": 1,
   "metadata": {},
   "outputs": [],
   "source": [
    "#Without lambdas\n",
    "def square(L):\n",
    "    return [x**2 for x in L]"
   ]
  },
  {
   "cell_type": "code",
   "execution_count": 2,
   "metadata": {},
   "outputs": [
    {
     "data": {
      "text/plain": [
       "[1, 4, 9]"
      ]
     },
     "execution_count": 2,
     "metadata": {},
     "output_type": "execute_result"
    }
   ],
   "source": [
    "L=[1,2,3]\n",
    "square(L)"
   ]
  },
  {
   "cell_type": "code",
   "execution_count": 4,
   "metadata": {},
   "outputs": [
    {
     "data": {
      "text/plain": [
       "[1, 4, 9]"
      ]
     },
     "execution_count": 4,
     "metadata": {},
     "output_type": "execute_result"
    }
   ],
   "source": [
    "#with lambdas\n",
    "square = lambda L:[x**2 for x in L]\n",
    "\n",
    "square(L)"
   ]
  },
  {
   "cell_type": "markdown",
   "metadata": {},
   "source": [
    "Let's make square more flexible. Write a function called compute_power that inputs a list L and a power a and raises each element to the a-th power."
   ]
  },
  {
   "cell_type": "code",
   "execution_count": 6,
   "metadata": {},
   "outputs": [],
   "source": [
    "def compute_power(L,a=2):\n",
    "    return [x**a for x in L]"
   ]
  },
  {
   "cell_type": "code",
   "execution_count": 9,
   "metadata": {},
   "outputs": [
    {
     "data": {
      "text/plain": [
       "True"
      ]
     },
     "execution_count": 9,
     "metadata": {},
     "output_type": "execute_result"
    }
   ],
   "source": [
    "compute_power(L)==square(L)"
   ]
  },
  {
   "cell_type": "markdown",
   "metadata": {},
   "source": [
    "## Part 2: Computing distances with functions\n",
    "\n",
    "<img src=\"https://i.imgur.com/FrMebl0.png\" width=300px>\n",
    "<div style=\"text-align: center\">  </div>\n",
    "<br>\n",
    "\n",
    "\n",
    "For the next part of this assignment, we're going to think about how we might be able to write functions that can be used to compute distances on a map.\n",
    "\n",
    "### Part 2.1: Computing the Euclidean distance\n",
    "\n",
    "\"Euclidean distance\" is simply the distance of the straight line that connects two points in Euclidean space. It's basically the distance \"as the crow flies\". On a map, it might look something like this:\n",
    "\n",
    "<img src=\"https://i.imgur.com/KSmguA5.png\" width=500px>\n",
    "<div style=\"text-align: center\"> </div>"
   ]
  },
  {
   "cell_type": "markdown",
   "metadata": {},
   "source": [
    "Write a function called Euclidean_distance which inputs two points p and q (as either lists of tuples) and returns there distance.\n",
    "\n",
    "**Hint:** $d((x_1,y_1),(x_2,y_2))=\\sqrt{(x_1-x_2)^2+(y_1-y_2)^2}$"
   ]
  },
  {
   "cell_type": "code",
   "execution_count": 10,
   "metadata": {},
   "outputs": [],
   "source": [
    "def Euclidean_distance(p,q):\n",
    "    \"\"\"\n",
    "    computes the Eucliean distance between 2D points\n",
    "    p and q\n",
    "    using the classical distance formula\n",
    "    \"\"\"\n",
    "    return ((p[0]-q[0])**2+(p[1]-q[1])**2)**.5"
   ]
  },
  {
   "cell_type": "markdown",
   "metadata": {},
   "source": [
    "### Part 2.2: Computing the \"Lyft\" distance\n",
    "\n",
    "For this part of the assignment, let's say that you've been thinking about starting a new rideshare company similar to Uber or Lyft. You've started thinking about how you should go about estimating the amount you should charge for a given ride, but you've realized that computing the Euclidean distance between two points doesn't really make sense. Now you need to create a new function that computes an estimate for the total distance of the ride for your new \"Lyft-like\" service.\n",
    "\n",
    "When you're driving a car you can't just travel in a straight line between two points, you're forced to drive along the grid structure defined by where the streets are. Your path might look something like this:\n",
    "\n",
    "<img src=\"https://i.imgur.com/ieJ1Z4k.png\" width=500px>\n",
    "<div style=\"text-align: center\"> </div>\n",
    "<br>\n",
    "\n",
    "For the purposes of computing these new \"Lyft\"-like distances, you're going to assume that the drivers for your company are generally pretty good about taking the shortest possible route, and you're also going to assume that, most of the time, the streets will have a pretty standard grid-like structure. After all, it would be pretty hard to predict just how irregular the routes might end up being.\n",
    "\n",
    "**Write a function for computing a \"Lyft\" distance** based on the restriction that the car must travel on a grid of roads that run parallel to the $x$ and $y$ axes of an $x$-$y$ plane. Your function should take a **starting point and a stopping point as input variables** and **return** the distance estimate. Your estimate will essentially tell you how many blocks the driver will travel to get to the destination. **Hint**: you may want to use the absolute value function for this calculation."
   ]
  },
  {
   "cell_type": "code",
   "execution_count": 11,
   "metadata": {},
   "outputs": [],
   "source": [
    "#total distance in taxi-metric is \n",
    "#up distance + the left/right distance \n",
    "\n",
    "#method one, find the corner point in the path that goes \n",
    "#all the way up then all the way over\n",
    "#add up the straight line distance\n",
    "\n",
    "def lyft_distance(p,q):\n",
    "    return abs(p[0]-q[0])+abs(p[1]-q[1])\n",
    "\n",
    "#this called the 1 norm or 1 distance "
   ]
  },
  {
   "cell_type": "code",
   "execution_count": 12,
   "metadata": {},
   "outputs": [
    {
     "name": "stdout",
     "output_type": "stream",
     "text": [
      "17\n"
     ]
    }
   ],
   "source": [
    "distance=lyft_distance((4,5),(-2,-6))\n",
    "print(distance)"
   ]
  },
  {
   "cell_type": "markdown",
   "metadata": {},
   "source": [
    "### Creating a fare-computing function\n",
    "\n",
    "Let's assume that you want to be able to quickly calculate an estimate for the cost of the trip so that you can let your riders know roughly how much you'll charge them.  \n",
    "\n",
    "**Write another function** called `trip_cost` that **uses the function you just wrote** for computing the total distance of the ride to ***print* the cost of the trip** so that it reads \"The cost of the trip will be $< amount >\" where < amount > is the total in dollars that the trip will cost. Your function should take the starting point, the stopping point, and the rate (with a default value of 40 cents) as inputs."
   ]
  },
  {
   "cell_type": "code",
   "execution_count": 17,
   "metadata": {},
   "outputs": [
    {
     "name": "stdout",
     "output_type": "stream",
     "text": [
      "The cost of the the trip will be $6.80\n"
     ]
    }
   ],
   "source": [
    "def trip_cost(start,stop,fare=.40):\n",
    "    cost=lyft_distance(start,stop)*fare\n",
    "    #method one, looks ugly\n",
    "    #print(\"The cost of the the trip will be \" + str(cost))\n",
    "    \n",
    "    cost=\"{:.2f}\".format(cost)\n",
    "    print(\"The cost of the the trip will be $\" + cost)\n",
    "\n",
    "trip_cost((-2,-6),(4,5))"
   ]
  },
  {
   "cell_type": "markdown",
   "metadata": {},
   "source": [
    "## Part 3: Combining your functions\n",
    "\n",
    "Now that you've written two different functions for finding the distance, you're thinking that it would be more convenient if you could use the same function to compute both the Euclidean distance and the Lyft distance. It would also make it a lot easier to compare how much longer the Lyft distance is than the Euclidean distance.\n",
    "\n",
    "**Write a function** that is capable of computing the Euclidean distance **or** the Lyft distance based on a keyword argument call `path_type`. \n",
    "* If the `path_type` is 'Lyft', compute the Lyft distance, otherwise compute the standard Euclidean distance.\n",
    "* Make sure that the default stopping point is (0,0).\n",
    "\n",
    "As before, your function should **return** the distance."
   ]
  },
  {
   "cell_type": "markdown",
   "metadata": {},
   "source": [
    "---\n",
    "## Part 3: Combining your functions\n",
    "\n",
    "Now that you've written two different functions for finding the distance, you're thinking that it would be more convenient if you could use the same function to compute both the Euclidean distance and the Lyft distance. It would also make it a lot easier to compare how much longer the Lyft distance is than the Euclidean distance.\n",
    "\n",
    "**Write a function** that is capable of computing the Euclidean distance **or** the Lyft distance based on a keyword argument call `path_type`. \n",
    "* If the `path_type` is 'Lyft', compute the Lyft distance, otherwise compute the standard Euclidean distance.\n",
    "\n",
    "As before, your function should **return** the distance."
   ]
  },
  {
   "cell_type": "code",
   "execution_count": 18,
   "metadata": {},
   "outputs": [],
   "source": [
    "def compute_distance(p,q,path_type=\"\"):\n",
    "    if path_type==\"lyft\" or path_type==\"Lyft\":\n",
    "        return lyft_distance(p,q)\n",
    "    else:\n",
    "        return Euclidean_distance(p,q)"
   ]
  },
  {
   "cell_type": "code",
   "execution_count": 21,
   "metadata": {},
   "outputs": [
    {
     "name": "stdout",
     "output_type": "stream",
     "text": [
      "12.529964086141668\n",
      "17\n"
     ]
    }
   ],
   "source": [
    "print(compute_distance((4,5),(-2,-6)))\n",
    "print(compute_distance((4,5),(-2,-6),path_type=\"lyft\"))"
   ]
  },
  {
   "cell_type": "markdown",
   "metadata": {},
   "source": [
    "Write another function that uses your previous function to compute both the Euclidean distance and the Lyft distances and prints:\n",
    "\n",
    "\"The Lyft distance is < X > times longer than the Euclidean distance\"\n",
    "\n",
    "where < X > is the appropriate ratio of the two distances.\n",
    "\n",
    "Compare the two distances for a starting point of (-2, -6) and stopping point of (4,5)."
   ]
  },
  {
   "cell_type": "code",
   "execution_count": 24,
   "metadata": {},
   "outputs": [],
   "source": [
    "def compute_ratio(p,q):\n",
    "    ratio=lyft_distance(p,q)/ Euclidean_distance(p,q)\n",
    "    ratio=round(ratio,2)\n",
    "    message=\"The Lyft distance is \"+str(ratio)\n",
    "    message+=\" times longer than the Euclidean distance\"\n",
    "    print(message)\n",
    "    "
   ]
  },
  {
   "cell_type": "code",
   "execution_count": 25,
   "metadata": {},
   "outputs": [
    {
     "name": "stdout",
     "output_type": "stream",
     "text": [
      "The Lyft distance is 1.36 times longer than the Euclidean distance\n"
     ]
    }
   ],
   "source": [
    "compute_ratio((-2,-6),(4,5))"
   ]
  },
  {
   "cell_type": "markdown",
   "metadata": {},
   "source": [
    "## Part 4: Planning your route\n",
    "\n",
    "Now that you've worked out a system for estimating travel distances and ride fares, you're ready to start testing your new rideshare service. You fire up your fancy new program and immediately get three simultaneous rider requests, but luckily they all are looking for a ride to the same place -- the airport!\n",
    "\n",
    "You plan on picking up all three passengers on the **same trip** so that you can drop them all off at the same time. You want to take the shortest possible route so that you minimize the cost of gas and, in turn, the amount of money the trip costs you!\n",
    "\n",
    "**The challenge**: You need to create a function that takes in a starting position, a list of three rider locations, and a stopping location and determines the order of rider pickups that will require the least amount of driving. You want to make the default stopping location be the airport, since you figure this is where people will be headed most often. You should be able to use your function for computing the Lyft distance to help solve this problem.\n",
    "\n",
    "Once you've come up with a plan, try **writing the function**. The function should **return the list of rider locations in the appropriate pick-up order and the total distance of the trip**.\n",
    "\n",
    "Let's assume that:\n",
    "\n",
    "1. Your starting location is (-2,3).\n",
    "2. The ride locations are (-1, -2), (3,3), and (2, -1).\n",
    "3. The stopping location, the airport, is at (4,0).\n"
   ]
  },
  {
   "cell_type": "code",
   "execution_count": 41,
   "metadata": {},
   "outputs": [],
   "source": [
    "from itertools import permutations\n",
    "perms =permutations(range(3))\n",
    "perms=list(perms)\n",
    "\n",
    "\n",
    "start = (-2,3)\n",
    "stops = [(-1,-2),(3,3),(2,-1)]\n",
    "end=(4,0)\n",
    "\n"
   ]
  },
  {
   "cell_type": "code",
   "execution_count": 44,
   "metadata": {},
   "outputs": [],
   "source": [
    "def best_route(start,stops,end):\n",
    "    '''\n",
    "    finds best route for an uber that must make mulitple stops\n",
    "    locations are 2D points\n",
    "    \n",
    "    start - the start of the trip\n",
    "    stops - a list of locations where you are stopping\n",
    "    end - the destinate\n",
    "    \n",
    "    return - the best order and the length of the best route\n",
    "    '''\n",
    "    \n",
    "    best_distance=float('inf')\n",
    "    \n",
    "    for p in perms:\n",
    "        distance=lyft_distance(start,stops[p[0]])\n",
    "        distance+=lyft_distance(stops[p[0]],stops[p[1]])\n",
    "        distance+=lyft_distance(stops[p[1]],stops[p[2]])\n",
    "        distance+=lyft_distance(stops[p[2]],end)\n",
    "        if distance<best_distance:\n",
    "            best_distance=distance\n",
    "            best_perm=p\n",
    "    return best_distance, best_perm\n",
    "\n",
    "        "
   ]
  },
  {
   "cell_type": "code",
   "execution_count": 45,
   "metadata": {},
   "outputs": [
    {
     "data": {
      "text/plain": [
       "(19, (0, 2, 1))"
      ]
     },
     "execution_count": 45,
     "metadata": {},
     "output_type": "execute_result"
    }
   ],
   "source": [
    "best_distance, best_perm= best_route(start,stops,end)\n",
    "best_distance, best_perm"
   ]
  },
  {
   "cell_type": "code",
   "execution_count": 67,
   "metadata": {},
   "outputs": [
    {
     "data": {
      "text/plain": [
       "[]"
      ]
     },
     "execution_count": 67,
     "metadata": {},
     "output_type": "execute_result"
    }
   ],
   "source": []
  },
  {
   "cell_type": "code",
   "execution_count": null,
   "metadata": {},
   "outputs": [],
   "source": []
  }
 ],
 "metadata": {
  "kernelspec": {
   "display_name": "Python 3",
   "language": "python",
   "name": "python3"
  },
  "language_info": {
   "codemirror_mode": {
    "name": "ipython",
    "version": 3
   },
   "file_extension": ".py",
   "mimetype": "text/x-python",
   "name": "python",
   "nbconvert_exporter": "python",
   "pygments_lexer": "ipython3",
   "version": "3.8.8"
  }
 },
 "nbformat": 4,
 "nbformat_minor": 4
}
