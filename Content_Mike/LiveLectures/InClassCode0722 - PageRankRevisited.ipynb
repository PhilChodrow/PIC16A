{
 "cells": [
  {
   "cell_type": "markdown",
   "metadata": {},
   "source": [
    "# PageRank Revisited\n",
    "\n",
    "A graph $G=(V,E)$ is a collection of vertices and edges.\n",
    "\n",
    "\n",
    "<figure class=\"image\" style=\"width:50%\">\n",
    "  <img src=\"https://upload.wikimedia.org/wikipedia/commons/thumb/5/5b/6n-graf.svg/1200px-6n-graf.svg.png\" alt=\"Six circles, representing nodes, labeled A through F. There are directed arrows between certain pairs of nodes.\" width=\"300px\">\n",
    "  <figcaption><i>Example of a graph.  </i></figcaption>\n",
    "</figure>\n",
    "\n",
    "Graphs can model lots of things, social networks, molecules, air-traffic, musical plays, etc. In those contexts, the vertices might have a name like \"Hamilton\" or \"LAX\", but for today we will just number them $0,1,\\ldots,N-1$. Depending on context, edges may or may not have a natural version of direction. (Facebook friends are a two-way street, twitter followers are not.) Today, to keep things simple, we will assume no direction."
   ]
  },
  {
   "cell_type": "markdown",
   "metadata": {},
   "source": [
    "In order to mathematically model a graph, we construct an `adjacency matrix`. $A$ by the rule $A[i,j]=1$ if user $i$ is friends with user $j$ and $A[i,j]=0$ otherwise.  Example:"
   ]
  },
  {
   "cell_type": "code",
   "execution_count": 1,
   "metadata": {},
   "outputs": [],
   "source": [
    "import numpy as np \n",
    "\n",
    "A=np.array([[0,1,1,1],[1,0,1,0],[1,1,0,0],[1,0,0,0]])\n",
    "A"
   ]
  },
  {
   "cell_type": "markdown",
   "metadata": {},
   "source": [
    "There are four people in our social network. User 0 is friends with everybody. Users 1 and 2 are also firends. User 3 doesn't have any friends other than user 0 (Sad!).  \n",
    "\n",
    "Who is the most popular person? To answer this question formally we construct the degree vector. \n",
    "\n",
    "\\begin{equation*}\n",
    "d[i]=\\text{number of friends user i has}=\\text{number of ones in row i}=\\sum_{j}A[i,j]\n",
    "\\end{equation*}\n",
    "\n",
    "How can we get this via numpy?"
   ]
  },
  {
   "cell_type": "code",
   "execution_count": null,
   "metadata": {},
   "outputs": [],
   "source": []
  },
  {
   "cell_type": "markdown",
   "metadata": {},
   "source": [
    "Now, let's develop a Random Walk matrix $P$. Suppose you were doing a random walk on the graph similar to the homework. We want \n",
    "\\begin{equation*}\n",
    "P[i,j]=\\text{Probability that your next location is j given that your current location is i}\n",
    "\\end{equation*}\n",
    "\n",
    "Looking at A below, what should the top row of $P$ be?"
   ]
  },
  {
   "cell_type": "code",
   "execution_count": 2,
   "metadata": {},
   "outputs": [],
   "source": [
    "A"
   ]
  },
  {
   "cell_type": "markdown",
   "metadata": {},
   "source": [
    "The formula should be \n",
    "\\begin{equation*}\n",
    "P[i,j]=\\frac{A[i,j]}{d[i]}\n",
    "\\end{equation*}\n",
    "\n",
    "How can we get this in python?"
   ]
  },
  {
   "cell_type": "code",
   "execution_count": 3,
   "metadata": {},
   "outputs": [],
   "source": [
    "#Bad solution\n"
   ]
  },
  {
   "cell_type": "code",
   "execution_count": 4,
   "metadata": {},
   "outputs": [],
   "source": [
    "#better solution attempt 1\n"
   ]
  },
  {
   "cell_type": "code",
   "execution_count": null,
   "metadata": {},
   "outputs": [],
   "source": []
  },
  {
   "cell_type": "markdown",
   "metadata": {},
   "source": [
    "\n",
    "Let's assume that the starting location $X_0$ is node zero. Then,\n",
    "\n",
    "\\begin{equation*}\n",
    "\\mathbb{P}(X_1=1)=\\text{probability that you moved from space 0 to space 1}=P[0,1]=1/3\n",
    "\\end{equation*}\n",
    "\n",
    "This is one step of a random walk. How can we compute the two-step transition matrix. \n",
    "\n",
    "\\begin{align*}\n",
    "&\\mathbb{P}(X_2=1)\\\\\n",
    "=&\\mathbb{P}(X_2=1, X_1=0) + \\mathbb{P}(X_2=1, X_1=1) + \\mathbb{P}(X_2=1, X_1=2) + \\mathbb{P}(X_2=1, X_1=3)\\\\\n",
    "\\end{align*}\n",
    "\n",
    "How can we compute $\\mathbb{P}(X_2=1,X_1=3)$? If both of these are true thhis means we took first a step from 0 to 3 then a step from 3 to 1. Therefore,\n",
    "\n",
    "\\begin{equation*}\n",
    "\\mathbb{P}(X_2=1,X_1=3)=P[0,3]P[3,1].\n",
    "\\end{equation*}\n",
    "\n",
    "Using the above equation we have \n",
    "\\begin{align*}\n",
    "&\\mathbb{P}(X_2=1)\\\\\n",
    "=&\\mathbb{P}(X_2=1, X_1=0) + \\mathbb{P}(X_2=1, X_1=1) + \\mathbb{P}(X_2=1, X_1=2) + \\mathbb{P}(X_2=1, X_1=3)\\\\\n",
    "=&P[0,0]P[0,1] + P[0,1]P[1,1] + P[0,2]P[2,1] + P[0,3]P[3,1] \\\\\n",
    "=&\\sum_k P[0,k]P[k,1]\\\\\n",
    "\\end{align*}\n",
    "\n",
    "Recall that if $C=AB$ then \n",
    "\\begin{equation*}\n",
    "C[i,j]=\\sum_k A[i,k]B[k,j]\n",
    "\\end{equation*}\n",
    "\n",
    "Thus, \n",
    "\\begin{equation*}\n",
    "\\mathbb{P}(X_2=1)\n",
    "=P^2[0,1]\n",
    "\\end{equation*}\n",
    "\n",
    "where $P^2$ is the square of $P$. \n",
    "\n"
   ]
  },
  {
   "cell_type": "markdown",
   "metadata": {},
   "source": [
    "Up above, we said we always started at 0. We can record this information with the vector $\\mathbf{x}=(1,0,\\ldots,0)$. \n",
    "\n",
    "What if we wanted to start completely at random? If instead we would use $\\mathbf{x}=(1/N,\\ldots,1/N)$\n",
    "\n",
    "Then \n",
    "\\begin{equation*}\n",
    "\\mathbb{P}(X_1=2) = \\sum_k \\mathbb{P}(X_1=2, X_0 = k) = \\sum_k P[k,2]\\mathbf{x}[k] = (P^T\\mathbf{x})[2]\n",
    "\\end{equation*}\n",
    "\n",
    "\n",
    "In general, if $x$ is the starting distibution\n",
    "\n",
    "\\begin{equation*}\n",
    "(P^T)^t\\mathbf{x}(j) = \\mathbb{P}(X_t=j)\n",
    "\\end{equation*}"
   ]
  },
  {
   "cell_type": "markdown",
   "metadata": {},
   "source": [
    "__What does this have to do with page rank?__\n",
    "\n",
    "If we want to find the long-run average of the random walker we can multiply by a large power. Recall A is given by"
   ]
  },
  {
   "cell_type": "code",
   "execution_count": 5,
   "metadata": {},
   "outputs": [],
   "source": [
    "A"
   ]
  },
  {
   "cell_type": "code",
   "execution_count": 6,
   "metadata": {},
   "outputs": [],
   "source": []
  },
  {
   "cell_type": "code",
   "execution_count": null,
   "metadata": {},
   "outputs": [],
   "source": []
  },
  {
   "cell_type": "code",
   "execution_count": null,
   "metadata": {},
   "outputs": [],
   "source": []
  },
  {
   "cell_type": "code",
   "execution_count": null,
   "metadata": {},
   "outputs": [],
   "source": []
  },
  {
   "cell_type": "code",
   "execution_count": null,
   "metadata": {},
   "outputs": [],
   "source": []
  },
  {
   "cell_type": "markdown",
   "metadata": {},
   "source": [
    "__Something is wrong__"
   ]
  },
  {
   "cell_type": "code",
   "execution_count": null,
   "metadata": {},
   "outputs": [],
   "source": []
  },
  {
   "cell_type": "code",
   "execution_count": null,
   "metadata": {},
   "outputs": [],
   "source": []
  },
  {
   "cell_type": "code",
   "execution_count": null,
   "metadata": {},
   "outputs": [],
   "source": []
  },
  {
   "cell_type": "code",
   "execution_count": null,
   "metadata": {},
   "outputs": [],
   "source": []
  },
  {
   "cell_type": "markdown",
   "metadata": {},
   "source": [
    "__What about teleporting?__"
   ]
  },
  {
   "cell_type": "code",
   "execution_count": null,
   "metadata": {},
   "outputs": [],
   "source": []
  },
  {
   "cell_type": "code",
   "execution_count": null,
   "metadata": {},
   "outputs": [],
   "source": []
  },
  {
   "cell_type": "code",
   "execution_count": null,
   "metadata": {},
   "outputs": [],
   "source": []
  },
  {
   "cell_type": "code",
   "execution_count": null,
   "metadata": {},
   "outputs": [],
   "source": []
  },
  {
   "cell_type": "markdown",
   "metadata": {},
   "source": [
    "Page rank get's basically the same results, but is slighlty more `democratic`"
   ]
  },
  {
   "cell_type": "code",
   "execution_count": null,
   "metadata": {},
   "outputs": [],
   "source": []
  }
 ],
 "metadata": {
  "kernelspec": {
   "display_name": "Python 3",
   "language": "python",
   "name": "python3"
  },
  "language_info": {
   "codemirror_mode": {
    "name": "ipython",
    "version": 3
   },
   "file_extension": ".py",
   "mimetype": "text/x-python",
   "name": "python",
   "nbconvert_exporter": "python",
   "pygments_lexer": "ipython3",
   "version": "3.8.5"
  }
 },
 "nbformat": 4,
 "nbformat_minor": 4
}
