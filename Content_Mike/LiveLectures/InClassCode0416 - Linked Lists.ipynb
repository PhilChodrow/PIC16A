{
 "cells": [
  {
   "cell_type": "markdown",
   "metadata": {},
   "source": [
    "# Live Lecture 8: Linked Lists\n",
    "\n",
    "In this live lecture, we'll discuss a very common and useful data type -- the linked list. We'll show how to construct a simple linked list using our new skills with object-oriented programming. We'll also use some exception-handling techniques from our recent lectures on functions. \n",
    "\n",
    "A linked list is a special kind of list, each of whose values (\"links\") contains two parts. The first part is the **data**, i.e. the main informationt that you would like to store in the list. The second part is a **reference** to the next item in the list. Here's an example, courtesy of my colleague, Professor Wikipedia: \n",
    "\n",
    "<figure class=\"image\" style=\"width:80%\">\n",
    "  <img src=\"https://upload.wikimedia.org/wikipedia/commons/thumb/6/6d/Singly-linked-list.svg/1920px-Singly-linked-list.svg.png\" alt=\"\">\n",
    "  <figcaption><i></i></figcaption>\n",
    "</figure>\n",
    "\n",
    "Our implementation is just a bit different from the one above. Rather than including a special terminal element of the list, we'll just handle the case in which a value in the list does not have a reference to a next element. \n",
    "\n",
    "The first and most important step is to design the a class that models each link in the linked list. This link should contain data, a reference to the next link in the list, and methods for moving to the next link. \n",
    "\n",
    "__Note:__ We are NOT going to use iterators in this lecture since some students may not have watched those videos yet"
   ]
  },
  {
   "cell_type": "code",
   "execution_count": 43,
   "metadata": {},
   "outputs": [],
   "source": [
    "class link:\n",
    "    \"\"\"informative docstring:\n",
    "    -INputs to __init__\n",
    "    -overall behavior\"\"\"\n",
    "    \n",
    "    #create class variable if we need them\n",
    "    my_type=\"LinkedList\"\n",
    "    \n",
    "    \n",
    "    def __init__(self,data):\n",
    "        self.data=data\n",
    "        #is data a class varaible or instance varaible???\n",
    "        \n",
    "    def follow(self):\n",
    "        \"\"\"add careful docstring later\"\"\"\n",
    "        \n",
    "        label1=str(self.data)\n",
    "        try:\n",
    "            label2=str(self.next.data)\n",
    "            print(\"moving from \" + label1+\" to \"+label2)\n",
    "            return self.next\n",
    "        \n",
    "        except AttributeError:\n",
    "            print(\"no next link, returning self\")\n",
    "            return self\n",
    "        \n",
    "    def __add__(self,other):\n",
    "        \"\"\"Mike is agood programmer and always writes\n",
    "        a doc string\n",
    "        He has the best doc strings\n",
    "        \"\"\"\n",
    "        if not isinstance(other,link):\n",
    "            print(\"The type of other must be a link\")\n",
    "            print(\"Your input had type \"+str(type(other)))\n",
    "            raise TypeError\n",
    "        #There shoud be some type checking here\n",
    "        #not doing it in class to save time\n",
    "        \n",
    "        self.next=other\n",
    "        return self\n",
    "        \n",
    "        "
   ]
  },
  {
   "cell_type": "code",
   "execution_count": 45,
   "metadata": {},
   "outputs": [],
   "source": [
    "L1=link(1)\n",
    "L2=link(2)\n",
    "L3=link(3)\n",
    "\n",
    "#L1.next=L2\n",
    "#L2.next=L3\n",
    "\n",
    "#I am goign to make it so that \n",
    "L1 +=L2\n",
    "L2 +=L3\n",
    "#L2+=\"Elephant\"\n",
    "\n",
    "#is equivalent to the code above\n",
    "\n"
   ]
  },
  {
   "cell_type": "code",
   "execution_count": 36,
   "metadata": {},
   "outputs": [
    {
     "name": "stdout",
     "output_type": "stream",
     "text": [
      "no next link, returning self\n"
     ]
    },
    {
     "data": {
      "text/plain": [
       "2"
      ]
     },
     "execution_count": 36,
     "metadata": {},
     "output_type": "execute_result"
    }
   ],
   "source": [
    "L2.follow().data"
   ]
  },
  {
   "cell_type": "code",
   "execution_count": 7,
   "metadata": {},
   "outputs": [
    {
     "data": {
      "text/plain": [
       "'Hippopatamus'"
      ]
     },
     "execution_count": 7,
     "metadata": {},
     "output_type": "execute_result"
    }
   ],
   "source": [
    "#Something weird to note here, you can add instance variables which\n",
    "#aren't \"declared\" in the init method for example, you can do this\n",
    "\n",
    "class C:\n",
    "    pass\n",
    "\n",
    "myC=C()\n",
    "type(myC)\n",
    "myC.myvariable=\"Hippopatamus\"\n",
    "myC.myvariable"
   ]
  },
  {
   "cell_type": "code",
   "execution_count": null,
   "metadata": {},
   "outputs": [],
   "source": []
  },
  {
   "cell_type": "code",
   "execution_count": 6,
   "metadata": {},
   "outputs": [],
   "source": []
  },
  {
   "cell_type": "code",
   "execution_count": null,
   "metadata": {},
   "outputs": [],
   "source": []
  },
  {
   "cell_type": "code",
   "execution_count": null,
   "metadata": {},
   "outputs": [],
   "source": []
  },
  {
   "cell_type": "markdown",
   "metadata": {},
   "source": [
    "\n",
    "Now, let's write a function which turns a list into a linkedlist"
   ]
  },
  {
   "cell_type": "code",
   "execution_count": 26,
   "metadata": {},
   "outputs": [],
   "source": [
    "#Canteloupe IS a fruit. I googled\n",
    "Fruits = [\"Apple\", \"Banana\", \"Canteloupe\"]\n",
    "\n"
   ]
  },
  {
   "cell_type": "code",
   "execution_count": 32,
   "metadata": {},
   "outputs": [],
   "source": [
    "def create_linked_list(A):\n",
    "    \"\"\"\n",
    "    create a linked list from an input list A\n",
    "    returns an object of class link with data A[0]\n",
    "    and next instance variable iwth link with data A[1]\n",
    "    whose next instance varaible is a link with data A[2]\n",
    "    \"\"\"\n",
    "    \n",
    "    L=link(A[0])\n",
    "    x=L\n",
    "    for i in range(1,len(A)):\n",
    "        x+=link(A[i])\n",
    "        x=x.next\n",
    "    return L"
   ]
  },
  {
   "cell_type": "code",
   "execution_count": 33,
   "metadata": {},
   "outputs": [
    {
     "name": "stdout",
     "output_type": "stream",
     "text": [
      "moving from Apple to Banana\n",
      "moving from Banana to Canteloupe\n"
     ]
    },
    {
     "data": {
      "text/plain": [
       "<__main__.link at 0x28226fd61f0>"
      ]
     },
     "execution_count": 33,
     "metadata": {},
     "output_type": "execute_result"
    }
   ],
   "source": [
    "L=create_linked_list(Fruits)\n",
    "L.follow().follow()"
   ]
  },
  {
   "cell_type": "code",
   "execution_count": null,
   "metadata": {},
   "outputs": [],
   "source": []
  },
  {
   "cell_type": "code",
   "execution_count": null,
   "metadata": {},
   "outputs": [],
   "source": []
  },
  {
   "cell_type": "code",
   "execution_count": null,
   "metadata": {},
   "outputs": [],
   "source": []
  }
 ],
 "metadata": {
  "kernelspec": {
   "display_name": "Python 3",
   "language": "python",
   "name": "python3"
  },
  "language_info": {
   "codemirror_mode": {
    "name": "ipython",
    "version": 3
   },
   "file_extension": ".py",
   "mimetype": "text/x-python",
   "name": "python",
   "nbconvert_exporter": "python",
   "pygments_lexer": "ipython3",
   "version": "3.8.8"
  }
 },
 "nbformat": 4,
 "nbformat_minor": 4
}
