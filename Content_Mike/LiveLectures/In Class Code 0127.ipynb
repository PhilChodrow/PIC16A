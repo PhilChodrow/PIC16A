{
 "cells": [
  {
   "cell_type": "markdown",
   "metadata": {},
   "source": [
    "# Quiz 10 Problem 1\n",
    "\n",
    "Which of the following must be true for the following code to execute without error? \n",
    "\n",
    "for x in C:\n",
    "\n",
    "      print(x)\n",
    "\n",
    "Choose all that apply. \n",
    "\n",
    "Note: it is not required that the code do anything useful or sensible. \n",
    "\n",
    "C has an __iter__() method. __correct__\n",
    "\n",
    "C has a __next__() method. __incorrect__ next method belongs to the iterator class, not C itself\n",
    "\n",
    "The output of iter(C) has a  __next__() method.  __correct__\n",
    "\n",
    "C is a container. __incorrect__ (see page rank)\n",
    "\n",
    "The code  len(C) executes without error. __incorrect__ (counter example below)\n"
   ]
  },
  {
   "cell_type": "code",
   "execution_count": 6,
   "metadata": {},
   "outputs": [
    {
     "data": {
      "text/plain": [
       "3"
      ]
     },
     "execution_count": 6,
     "metadata": {},
     "output_type": "execute_result"
    }
   ],
   "source": [
    "\n",
    "\n",
    "class ReverseList:\n",
    "    \n",
    "    def __init__(self,L):\n",
    "        self.L=L\n",
    "        \n",
    "    def __str__(self):\n",
    "        return(str(self.L))\n",
    "\n",
    "    def __iter__(self):\n",
    "        return(ReverseListIterator(self))\n",
    "    \n",
    "    def __len__(self):\n",
    "        return(len(self.L))\n",
    "    \n",
    "class ReverseListIterator:\n",
    "    \n",
    "    #iterator classes need i)  rule for where to start ii) a rule for where to go next and iii) when to stop\n",
    "    \n",
    "    def __init__(self,RL):\n",
    "        self.L=RL.L\n",
    "        self.index=len(self.L)-1\n",
    "        #the index variable stores the current position\n",
    "        #since this is a reverese iterator we start at the last position\n",
    "        \n",
    "    def __next__(self):\n",
    "        \n",
    "        if self.index<0:\n",
    "            raise StopIteration\n",
    "        self.index-=1\n",
    "        return(self.L[self.index+1])\n",
    "\n",
    "R=ReverseList([1,2,3])\n",
    "len(R)\n",
    "\n"
   ]
  },
  {
   "cell_type": "markdown",
   "metadata": {},
   "source": [
    "# Example\n",
    "\n",
    "In Class Today, we will construct a PositiveListClass\n",
    "\n",
    "This will be a list like object which can contain positive negative numbers as well as other data types, but when you call for, it will only print the positive numbers  in the list. It should also print the positive numbers in ascending order.\n",
    "\n",
    "So if the list is P=[2,1,-3,\"cat\"] the code \n",
    "\n",
    "for p in P:\n",
    "\n",
    "    print(p)\n",
    "\n",
    "should print \n",
    "\n",
    "1\n",
    "\n",
    "2\n"
   ]
  },
  {
   "cell_type": "code",
   "execution_count": 14,
   "metadata": {},
   "outputs": [],
   "source": [
    "class PositiveList:\n",
    "    \n",
    "    def __init__(self,L):\n",
    "        self.L=L\n",
    "        \n",
    "    def __str__(self):\n",
    "        return(str(self.L))\n",
    "    \n",
    "    def __iter__(self):\n",
    "        print(\"A\")\n",
    "        return(PositiveListIterator(self))\n",
    "\n",
    "class PositiveListIterator:\n",
    "    \n",
    "    def __init__(self,PL):\n",
    "        \"\"\"\n",
    "        create a counter and a list with everything removed except positive numbers\n",
    "        sort the resulting list\n",
    "        \"\"\"\n",
    "        print(\"B\")\n",
    "        self.index=0\n",
    "        self.L=PL.L\n",
    "        self.L=[x for x in self.L if ((type(x)==int or type(x)==float) and x>0)]\n",
    "        self.L.sort()\n",
    "        \n",
    "        \n",
    "    def __next__(self):\n",
    "        print(\"C\")\n",
    "        if self.index >=len(self.L):\n",
    "            print(\"D\")\n",
    "            raise StopIteration\n",
    "        self.index+=1\n",
    "        return(self.L[self.index-1])\n",
    "    \n",
    "        \n",
    "    "
   ]
  },
  {
   "cell_type": "code",
   "execution_count": 15,
   "metadata": {},
   "outputs": [
    {
     "name": "stdout",
     "output_type": "stream",
     "text": [
      "A\n",
      "B\n",
      "C\n",
      "1\n",
      "C\n",
      "2\n",
      "C\n",
      "67\n",
      "C\n",
      "D\n"
     ]
    }
   ],
   "source": [
    "P=PositiveList([2,1,-3,-2,\"cat\",67,-3])\n",
    "for p in P:\n",
    "    print(p)"
   ]
  },
  {
   "cell_type": "markdown",
   "metadata": {},
   "source": [
    "How can we do something similar with a  generator"
   ]
  },
  {
   "cell_type": "code",
   "execution_count": 16,
   "metadata": {},
   "outputs": [],
   "source": [
    "def print_pos(L):\n",
    "    C=[x for x in L if (type(x)==int or type(x)==float) and x>0]\n",
    "    C.sort()\n",
    "    for i in range(len(C)):\n",
    "        yield C[i]"
   ]
  },
  {
   "cell_type": "code",
   "execution_count": 24,
   "metadata": {},
   "outputs": [],
   "source": [
    "L=[1,2,3,\"cat\",-63,23]\n",
    "it=print_pos(L)"
   ]
  },
  {
   "cell_type": "code",
   "execution_count": 25,
   "metadata": {},
   "outputs": [
    {
     "data": {
      "text/plain": [
       "generator"
      ]
     },
     "execution_count": 25,
     "metadata": {},
     "output_type": "execute_result"
    }
   ],
   "source": [
    "type(it)"
   ]
  },
  {
   "cell_type": "code",
   "execution_count": 26,
   "metadata": {},
   "outputs": [
    {
     "name": "stdout",
     "output_type": "stream",
     "text": [
      "1\n",
      "2\n",
      "3\n",
      "23\n"
     ]
    }
   ],
   "source": [
    "for p in print_pos(L):\n",
    "    print(p)"
   ]
  },
  {
   "cell_type": "code",
   "execution_count": null,
   "metadata": {},
   "outputs": [],
   "source": [
    "### When should you use iterators and when should you use generators\n",
    "\n",
    "#downside of an iterator is we had to makke a whole new class"
   ]
  },
  {
   "cell_type": "code",
   "execution_count": null,
   "metadata": {},
   "outputs": [],
   "source": []
  }
 ],
 "metadata": {
  "kernelspec": {
   "display_name": "Python 3",
   "language": "python",
   "name": "python3"
  },
  "language_info": {
   "codemirror_mode": {
    "name": "ipython",
    "version": 3
   },
   "file_extension": ".py",
   "mimetype": "text/x-python",
   "name": "python",
   "nbconvert_exporter": "python",
   "pygments_lexer": "ipython3",
   "version": "3.8.5"
  }
 },
 "nbformat": 4,
 "nbformat_minor": 4
}
