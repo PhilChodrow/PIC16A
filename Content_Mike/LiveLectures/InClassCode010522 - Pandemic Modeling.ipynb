{
 "cells": [
  {
   "cell_type": "markdown",
   "metadata": {},
   "source": [
    "Before we get started: A quick primer on lists and variables "
   ]
  },
  {
   "cell_type": "code",
   "execution_count": 5,
   "metadata": {},
   "outputs": [
    {
     "name": "stdout",
     "output_type": "stream",
     "text": [
      "2\n",
      "[1, 2, 3]\n",
      "2\n",
      "[1, 2, 3, 4]\n"
     ]
    }
   ],
   "source": [
    "x=2\n",
    "print(x)\n",
    "\n",
    "L=[1,2,3]\n",
    "print(L)\n",
    "print(L[1])\n",
    "\n",
    "L.append(4) #this is like pushback\n",
    "print(L)"
   ]
  },
  {
   "cell_type": "code",
   "execution_count": 11,
   "metadata": {},
   "outputs": [
    {
     "name": "stdout",
     "output_type": "stream",
     "text": [
      "[]\n",
      "[1]\n",
      "[1, 2]\n"
     ]
    }
   ],
   "source": [
    "L=[]\n",
    "print(L)\n",
    "L.append(1)\n",
    "print(L)\n",
    "L.append(2)\n",
    "print(L)"
   ]
  },
  {
   "cell_type": "markdown",
   "metadata": {},
   "source": [
    "# How can we model a Pandemic???\n",
    "\n",
    "There are a wide range of infectious disease models, as many as there are diseases, their variants and strategies to control them. However, the starting point for modeling many infectious diseases is the SIR model, which can be understood as:\n",
    "* **S**: people susceptible to the disease (number of people who can get it)\n",
    "* **I**: those who are infectious with the disease (can spread it)\n",
    "* **R**: people recovered from the disease (they are well and not spreading)\n",
    "\n",
    "    The SIR model is called a `compartment model` because everyone in the population is put into one of three different compartments. You find out more about the model [here](https://en.wikipedia.org/wiki/Compartmental_models_in_epidemiology#The_SIR_model).\n",
    "\n",
    "In this model, we let N be the total population, and let S0, I0, R0 be the number of susceptible, infection, and recovered people at the start of the pandemic. \n",
    "\n",
    "There are two parameters in this model, $\\beta$ which can be thought of as the `coefficient of infection` and and $\\gamma$ which can be thought of as the `coefficient of recovery`. (Disclaimer: I am not an epidemiologist and made these terms up.) \n",
    "\n",
    "The \"official version\" of this model uses calculus and/or differential equations. In this class, we will implement a discrete time version of this model. We will assume that each day\n",
    "- some people move from susceptible to infected: $\\beta*S*I$\n",
    "- some people move from infected to recovered: $\\gamma*I$\n",
    "\n",
    "This leads to the model:\n",
    "\\begin{align*}\n",
    "S_{t+1}-S_t&=-\\beta S_t I_t +\\delta R_t\\\\\n",
    "I_{t+1}-I_t&=\\beta S_t I_t - \\gamma I_t\\\\\n",
    "R_{t+1}-R_t&= \\gamma I_t - \\delta R_t\n",
    "\\end{align*}\n",
    "\n",
    "$S_{t+1}-S_t=-\\beta S_t I_t\\Rightarrow S_{t+1}=S_t-\\beta S_t I_t$\n",
    "\n",
    "More sophisticated versions of this model are similar, but use more compartments,\n",
    "\n",
    "you might add a \"dead compartment\", you might also have separate comparments for Susceptible and age 20-30, susceptible age 30-40, etc\n",
    "\n",
    "\n",
    "Change in I = Number of people moving from S to I  -   Number of People moving I to R \n",
    "\n",
    "Number of people moving form S to I = proportial to number of interactions between S people and I people\n",
    "\n",
    "if you doulbe the number of S people, you double the number of interactions same with the number of I people\n",
    "$\\beta*I*S$\n",
    "\n",
    "For this example, we will assume N=1000000, I0=10, $\\beta=.0000001$,\n",
    "$\\gamma=.01$, and run the model for 365 days. In the real word, estimating $\\beta$ and $\\gamma$ should be done via statistical methods such as maximum likelihood estimates."
   ]
  },
  {
   "cell_type": "code",
   "execution_count": 37,
   "metadata": {},
   "outputs": [],
   "source": [
    "#Note: the official version of SIR uses differnetial equations\n",
    "#however, there are no math prereqs, so we are going to use a discretized versions\n",
    "\n",
    "N=1000000   #population\n",
    "\n",
    "#model coefficients\n",
    "beta = .00000005\n",
    "gamma=.02\n",
    "delta = .005\n",
    "\n",
    "#length of simulation\n",
    "N_days=365\n",
    "\n",
    "#initial values\n",
    "I0=10\n",
    "S0=N-I0\n",
    "R0=0"
   ]
  },
  {
   "cell_type": "code",
   "execution_count": 38,
   "metadata": {},
   "outputs": [
    {
     "data": {
      "text/plain": [
       "(10,\n",
       " 10.299995000000001,\n",
       " 10.608989442505202,\n",
       " 10.927253283415524,\n",
       " 205649.73995658357)"
      ]
     },
     "execution_count": 38,
     "metadata": {},
     "output_type": "execute_result"
    }
   ],
   "source": [
    "#lists containing number of people in each category each day\n",
    "S=[S0]\n",
    "I=[I0]\n",
    "R=[R0] \n",
    "\n",
    "for i in range(1,N_days+1):\n",
    "    S.append(S[i-1]-beta*S[i-1]*I[i-1]+delta*R[i-1]) #−𝛽𝑆𝑡𝐼\n",
    "    I.append(I[i-1]+beta*S[i-1]*I[i-1]- gamma*I[i-1])\n",
    "    R.append(R[i-1]+gamma*I[i-1]-delta*R[i-1])\n",
    "    \n",
    "#after this for loop, there will be 366 entries in each of the lists    \n",
    "\n",
    "\n",
    "I[0],I[1],I[2],I[3], I[N_days]"
   ]
  },
  {
   "cell_type": "code",
   "execution_count": 39,
   "metadata": {},
   "outputs": [
    {
     "name": "stdout",
     "output_type": "stream",
     "text": [
      "1\n",
      "2\n",
      "3\n",
      "4\n",
      "5\n",
      "6\n",
      "7\n",
      "8\n",
      "9\n",
      "10\n"
     ]
    }
   ],
   "source": [
    "#C++ For loops\n",
    "'''for(int i =0; i<=N;i++){\n",
    "    do stuff;\n",
    "}'''\n",
    "\n",
    "for i in range(1,11): #range(10) is the number 0,1,2,3,4,5,6,7,8,9\n",
    "    print(i)\n",
    "#range(1,11) is the number starting at 1, up to but not including 11\n",
    "\n",
    "\n"
   ]
  },
  {
   "cell_type": "markdown",
   "metadata": {},
   "source": [
    "Now, let's visualize this model. You will learn about matplotlib later in the class."
   ]
  },
  {
   "cell_type": "code",
   "execution_count": 40,
   "metadata": {},
   "outputs": [
    {
     "data": {
      "text/plain": [
       "[<matplotlib.lines.Line2D at 0x2803c3667f0>]"
      ]
     },
     "execution_count": 40,
     "metadata": {},
     "output_type": "execute_result"
    },
    {
     "data": {
      "image/png": "[encoded data removed]",
      "text/plain": [
       "<Figure size 432x288 with 1 Axes>"
      ]
     },
     "metadata": {
      "needs_background": "light"
     },
     "output_type": "display_data"
    }
   ],
   "source": [
    "from matplotlib import pyplot as plt\n",
    "plt.plot(S)\n",
    "plt.plot(I)\n",
    "plt.plot(R)\n",
    "\n",
    "#we are going to learn a lot, lot, lot about data visualization and plotting in the second \n",
    "#half of the course\n",
    "#this is a very brief preview"
   ]
  },
  {
   "cell_type": "markdown",
   "metadata": {},
   "source": [
    "## Other discrete time models\n",
    "\n",
    "### Lotka-Volterra Predatory Prey Model\n",
    "\n",
    "Here we let $H$ be the population of a prey species and $P$ be the population of the predator species.\n",
    "\n",
    "\\begin{align*}\n",
    "H_{t+1}-H_t&=\\alpha H_t - \\beta H_t P_t\\\\\n",
    "P_{t+1}-P_t&=\\gamma H_t P_t - \\delta P_t\n",
    "\\end{align*}\n",
    "\n"
   ]
  },
  {
   "cell_type": "markdown",
   "metadata": {},
   "source": [
    "## Social Science: The Daley-Kendall Model\n",
    "___\n",
    "![rumor](http://www.thatsnonsense.com/wp-content/uploads/2012/01/rumours.jpg)\n",
    "\n",
    "The flow of information through society impacts all of us, whether it be through malicious rumors about us, government propaganda, or fake news cites attempting to influence the government. Daley and Kendall formulated a basic model for the spread of rumors that we can build new models from. Their model has three compartments:\n",
    "1. Ignorants (I): these are people ignorant of the rumor. \n",
    "2. Spreaders (S): these are people actively spreading the rumor.\n",
    "3. Stiflers (R): there are people who are bored with the rumor.\n",
    "\n",
    "More interesting than the compartments of the models are the rules in which they interact:\n",
    "$$I + S \\to S + S,$$\n",
    "$$S + S \\to S + R,$$\n",
    "$$R + S \\to R + R.$$\n",
    "\n",
    "This leads to the following equations:\n",
    "\\begin{align*}\n",
    "I_{t+1}-I_{t}&=-\\beta I_tS_t\\\\\n",
    "S_{t+1}-S_t&=\\beta I_tS_t - \\alpha S_t(S_t+R_t)\\\\\n",
    "R_{t+1}-R_{t}&=\\alpha S_t(S_t+R_t)\n",
    "\\end{align*}"
   ]
  },
  {
   "cell_type": "markdown",
   "metadata": {},
   "source": [
    "# Fibonacci Numbers and Prime Numbers\n",
    "\n",
    "1) Create a list of the first 10 prime numbers\n"
   ]
  },
  {
   "cell_type": "code",
   "execution_count": 60,
   "metadata": {},
   "outputs": [],
   "source": [
    "N=10\n"
   ]
  },
  {
   "cell_type": "code",
   "execution_count": null,
   "metadata": {},
   "outputs": [],
   "source": []
  },
  {
   "cell_type": "markdown",
   "metadata": {},
   "source": [
    "2) The  Fibonnaci numbers are given by $a_1=a_2=1$, $a_{n}=a_{n-1}+a_{n-2}$ for $n\\geq 2$.\n",
    "\n",
    "Create a list of the first ten Fibonnaci numbers"
   ]
  },
  {
   "cell_type": "code",
   "execution_count": 2,
   "metadata": {},
   "outputs": [],
   "source": [
    "N=10\n"
   ]
  },
  {
   "cell_type": "markdown",
   "metadata": {},
   "source": [
    "\n",
    "\n",
    "I asked you, what is 11/5? Answer 1 is 2.2 Answer 2 is 2 with a remainder of 1"
   ]
  },
  {
   "cell_type": "code",
   "execution_count": 41,
   "metadata": {},
   "outputs": [
    {
     "data": {
      "text/plain": [
       "2.2"
      ]
     },
     "execution_count": 41,
     "metadata": {},
     "output_type": "execute_result"
    }
   ],
   "source": [
    "11/5"
   ]
  },
  {
   "cell_type": "code",
   "execution_count": 42,
   "metadata": {},
   "outputs": [
    {
     "data": {
      "text/plain": [
       "2"
      ]
     },
     "execution_count": 42,
     "metadata": {},
     "output_type": "execute_result"
    }
   ],
   "source": [
    "11//5"
   ]
  },
  {
   "cell_type": "code",
   "execution_count": 43,
   "metadata": {},
   "outputs": [
    {
     "data": {
      "text/plain": [
       "1"
      ]
     },
     "execution_count": 43,
     "metadata": {},
     "output_type": "execute_result"
    }
   ],
   "source": [
    "11%5"
   ]
  },
  {
   "cell_type": "markdown",
   "metadata": {},
   "source": [
    "This a markdown cell\n",
    "\n",
    "\n",
    "$$\\pi  = 3 $$"
   ]
  },
  {
   "cell_type": "code",
   "execution_count": null,
   "metadata": {},
   "outputs": [],
   "source": []
  }
 ],
 "metadata": {
  "kernelspec": {
   "display_name": "Python 3",
   "language": "python",
   "name": "python3"
  },
  "language_info": {
   "codemirror_mode": {
    "name": "ipython",
    "version": 3
   },
   "file_extension": ".py",
   "mimetype": "text/x-python",
   "name": "python",
   "nbconvert_exporter": "python",
   "pygments_lexer": "ipython3",
   "version": "3.7.3"
  }
 },
 "nbformat": 4,
 "nbformat_minor": 4
}
