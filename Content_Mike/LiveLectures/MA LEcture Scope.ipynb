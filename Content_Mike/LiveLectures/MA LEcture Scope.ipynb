{
 "cells": [
  {
   "cell_type": "markdown",
   "id": "a025aa73",
   "metadata": {},
   "source": [
    "# Function Scope"
   ]
  },
  {
   "cell_type": "markdown",
   "id": "6e3c2710",
   "metadata": {},
   "source": [
    "Recall the one rule of local variables:\n",
    "    \n",
    " ___If a variable is assigned to within a function call, it is a local variable___"
   ]
  },
  {
   "cell_type": "code",
   "execution_count": 5,
   "id": "87fdffeb",
   "metadata": {},
   "outputs": [
    {
     "name": "stdout",
     "output_type": "stream",
     "text": [
      "[1] [2, 88] [22]\n"
     ]
    }
   ],
   "source": [
    "#INCLUDE THIS CODE IN PRECLASS NOTES\n",
    "#EX1\n",
    "def f(localtoFunc1):\n",
    "    localtoFunc1.append(88)\n",
    "    localtoFunc1=[11]\n",
    "    \n",
    "    localtoFunc2=[22]\n",
    "    return localtoFunc2\n",
    "\n",
    "global1=[1]\n",
    "global2=[2]\n",
    "global3=f(global2)\n",
    "\n",
    "print(global1,global2,global3)"
   ]
  },
  {
   "cell_type": "markdown",
   "id": "fbaf980a",
   "metadata": {},
   "source": [
    "Recall things happen in order:\n",
    "    \n",
    "1) Local scope and symbol table created\n",
    "\n",
    "2) Parameters assigned to argmuments\n",
    "\n",
    "3) Run the rest of the code\n",
    "\n",
    "4) Destroy local scope "
   ]
  },
  {
   "cell_type": "code",
   "execution_count": 9,
   "id": "da6836fa",
   "metadata": {},
   "outputs": [
    {
     "ename": "UnboundLocalError",
     "evalue": "local variable 'confused' referenced before assignment",
     "output_type": "error",
     "traceback": [
      "\u001b[1;31m---------------------------------------------------------------------------\u001b[0m",
      "\u001b[1;31mUnboundLocalError\u001b[0m                         Traceback (most recent call last)",
      "\u001b[1;32m<ipython-input-9-cd3451dca76c>\u001b[0m in \u001b[0;36m<module>\u001b[1;34m\u001b[0m\n\u001b[0;32m     13\u001b[0m \u001b[1;33m\u001b[0m\u001b[0m\n\u001b[0;32m     14\u001b[0m \u001b[0mconfused\u001b[0m \u001b[1;33m=\u001b[0m \u001b[1;33m[\u001b[0m\u001b[1;36m666\u001b[0m\u001b[1;33m]\u001b[0m\u001b[1;33m\u001b[0m\u001b[1;33m\u001b[0m\u001b[0m\n\u001b[1;32m---> 15\u001b[1;33m \u001b[0mg\u001b[0m\u001b[1;33m(\u001b[0m\u001b[1;33m)\u001b[0m\u001b[1;33m\u001b[0m\u001b[1;33m\u001b[0m\u001b[0m\n\u001b[0m\u001b[0;32m     16\u001b[0m \u001b[0mprint\u001b[0m\u001b[1;33m(\u001b[0m\u001b[0mconfused\u001b[0m\u001b[1;33m)\u001b[0m\u001b[1;33m\u001b[0m\u001b[1;33m\u001b[0m\u001b[0m\n",
      "\u001b[1;32m<ipython-input-9-cd3451dca76c>\u001b[0m in \u001b[0;36mg\u001b[1;34m()\u001b[0m\n\u001b[0;32m      5\u001b[0m     \u001b[1;31m#version 1 ths is uncommented\u001b[0m\u001b[1;33m\u001b[0m\u001b[1;33m\u001b[0m\u001b[1;33m\u001b[0m\u001b[0m\n\u001b[0;32m      6\u001b[0m \u001b[1;33m\u001b[0m\u001b[0m\n\u001b[1;32m----> 7\u001b[1;33m     \u001b[0mprint\u001b[0m\u001b[1;33m(\u001b[0m\u001b[0mconfused\u001b[0m\u001b[1;33m)\u001b[0m\u001b[1;33m\u001b[0m\u001b[1;33m\u001b[0m\u001b[0m\n\u001b[0m\u001b[0;32m      8\u001b[0m     \u001b[0mconfused\u001b[0m\u001b[1;33m.\u001b[0m\u001b[0mappend\u001b[0m\u001b[1;33m(\u001b[0m\u001b[1;36m999\u001b[0m\u001b[1;33m)\u001b[0m\u001b[1;33m\u001b[0m\u001b[1;33m\u001b[0m\u001b[0m\n\u001b[0;32m      9\u001b[0m \u001b[1;33m\u001b[0m\u001b[0m\n",
      "\u001b[1;31mUnboundLocalError\u001b[0m: local variable 'confused' referenced before assignment"
     ]
    }
   ],
   "source": [
    "#EX2\n",
    "def g():\n",
    "    #confused = [911]\n",
    "    #Version 0 and 2 this is commented\n",
    "    #version 1 ths is uncommented\n",
    "    \n",
    "    print(confused)\n",
    "    confused.append(999)\n",
    "    \n",
    "    confused=[911]\n",
    "    #Version 0 and 1 this is commented\n",
    "    #version 2 this is uncommented\n",
    "    \n",
    "confused = [666]\n",
    "g()\n",
    "print(confused)"
   ]
  },
  {
   "cell_type": "markdown",
   "id": "6c4d5abb",
   "metadata": {},
   "source": [
    "Why are you able to access global variables in local scope?"
   ]
  },
  {
   "cell_type": "code",
   "execution_count": 10,
   "id": "b9fffc6e",
   "metadata": {},
   "outputs": [],
   "source": [
    "from math import cos"
   ]
  },
  {
   "cell_type": "code",
   "execution_count": 11,
   "id": "19d3d0c7",
   "metadata": {},
   "outputs": [],
   "source": [
    "def f():\n",
    "    return cos(1)"
   ]
  },
  {
   "cell_type": "code",
   "execution_count": 12,
   "id": "783e7404",
   "metadata": {},
   "outputs": [
    {
     "data": {
      "text/plain": [
       "0.5403023058681398"
      ]
     },
     "execution_count": 12,
     "metadata": {},
     "output_type": "execute_result"
    }
   ],
   "source": [
    "f()"
   ]
  },
  {
   "cell_type": "markdown",
   "id": "1d779a0f",
   "metadata": {},
   "source": [
    "cos is a global VARIABLE because functions are just another type of variable"
   ]
  },
  {
   "cell_type": "markdown",
   "id": "fd3af8d0",
   "metadata": {},
   "source": [
    "# Default  Values "
   ]
  },
  {
   "cell_type": "code",
   "execution_count": 14,
   "id": "cd0c40ba",
   "metadata": {},
   "outputs": [
    {
     "name": "stdout",
     "output_type": "stream",
     "text": [
      "88\n",
      "8\n"
     ]
    }
   ],
   "source": [
    "#EX3\n",
    "def print_a_number(num=8):\n",
    "    print(num)\n",
    "    \n",
    "print_a_number(88)\n",
    "print_a_number()"
   ]
  },
  {
   "cell_type": "markdown",
   "id": "89a62f19",
   "metadata": {},
   "source": [
    "This seems easy, but what do we mean by ``default value\" how can we picture this "
   ]
  },
  {
   "cell_type": "code",
   "execution_count": 16,
   "id": "93121d43",
   "metadata": {},
   "outputs": [
    {
     "name": "stdout",
     "output_type": "stream",
     "text": [
      "[8, 0]\n",
      "[8, 0, 0]\n"
     ]
    }
   ],
   "source": [
    "#Ex 4\n",
    "def print_a_list(L=[8]):\n",
    "    L.append(0)\n",
    "    print(L)\n",
    "print_a_list()\n",
    "print_a_list()"
   ]
  },
  {
   "cell_type": "code",
   "execution_count": 18,
   "id": "d535151a",
   "metadata": {},
   "outputs": [
    {
     "name": "stdout",
     "output_type": "stream",
     "text": [
      "[0]\n"
     ]
    }
   ],
   "source": [
    "#Ex 5\n",
    "L=[0]\n",
    "def f(forPrinting=L):\n",
    "    print(forPrinting)\n",
    "    \n",
    "L=[1]\n",
    "f()"
   ]
  },
  {
   "cell_type": "code",
   "execution_count": 20,
   "id": "c18b14fb",
   "metadata": {},
   "outputs": [
    {
     "name": "stdout",
     "output_type": "stream",
     "text": [
      "[0, 1]\n"
     ]
    }
   ],
   "source": [
    "#Ex 6\n",
    "L=[0]\n",
    "def f(forPrinting=L):\n",
    "    print(forPrinting)\n",
    "\n",
    "L.append(1)\n",
    "f()"
   ]
  },
  {
   "cell_type": "code",
   "execution_count": 21,
   "id": "fdbfb45d",
   "metadata": {},
   "outputs": [
    {
     "name": "stdout",
     "output_type": "stream",
     "text": [
      "[0, 1, 2]\n",
      "[0, 1, 2]\n"
     ]
    }
   ],
   "source": [
    "#Ex6 continued\n",
    "g=f\n",
    "L.append(2)\n",
    "f()\n",
    "g()"
   ]
  },
  {
   "cell_type": "code",
   "execution_count": null,
   "id": "677f52a6",
   "metadata": {},
   "outputs": [],
   "source": []
  }
 ],
 "metadata": {
  "kernelspec": {
   "display_name": "Python 3",
   "language": "python",
   "name": "python3"
  },
  "language_info": {
   "codemirror_mode": {
    "name": "ipython",
    "version": 3
   },
   "file_extension": ".py",
   "mimetype": "text/x-python",
   "name": "python",
   "nbconvert_exporter": "python",
   "pygments_lexer": "ipython3",
   "version": "3.8.8"
  }
 },
 "nbformat": 4,
 "nbformat_minor": 5
}
