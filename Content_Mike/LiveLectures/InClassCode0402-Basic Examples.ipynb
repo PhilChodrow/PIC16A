{
 "cells": [
  {
   "cell_type": "code",
   "execution_count": 1,
   "metadata": {},
   "outputs": [
    {
     "name": "stdout",
     "output_type": "stream",
     "text": [
      "Hello Everybody!!! Welcome to Live Lecture\n"
     ]
    }
   ],
   "source": [
    "print(\"Hello Everybody!!! Welcome to Live Lecture\")"
   ]
  },
  {
   "cell_type": "code",
   "execution_count": 3,
   "metadata": {},
   "outputs": [],
   "source": [
    "#Why are built in functions good?????\n",
    "#1) Easier if you know how to use them\n",
    "#2) New in python - built in functions are usually way faster\n",
    "#"
   ]
  },
  {
   "cell_type": "code",
   "execution_count": 4,
   "metadata": {},
   "outputs": [],
   "source": [
    "x=2\n",
    "x=\"Cat\""
   ]
  },
  {
   "cell_type": "code",
   "execution_count": 6,
   "metadata": {},
   "outputs": [],
   "source": [
    "#all computer languages are somewhere between human languages\n",
    "#and binary or machine language\n",
    "#languages which are closer to human are called higher-level\n",
    "#languages which are close to machine are called lower-level\n",
    "\n",
    "#which is higher-level c++ or python?\n",
    "#python is higher level - good cuz easier to do stuff \n",
    "#can change variable types etc\n",
    "\n",
    "#bad - slower, code 'always' runs "
   ]
  },
  {
   "cell_type": "code",
   "execution_count": 7,
   "metadata": {},
   "outputs": [],
   "source": [
    "# how to we get the best of both worlds\n",
    "# for the slower problem, the answer is to use prewritten fucntions as much as you can\n",
    "#prewritten functions, are typically written in C, C++, etc\n",
    "#for the always run problem - the answer is careful testing - which cover later"
   ]
  },
  {
   "cell_type": "code",
   "execution_count": 8,
   "metadata": {},
   "outputs": [
    {
     "name": "stdout",
     "output_type": "stream",
     "text": [
      "Hello, this is a very long sentence. It has many words, there are so many words that you cannot see them all\n"
     ]
    }
   ],
   "source": [
    "print(\"Hello, this is a very long sentence. It has many words, there are so many words that you cannot see them all\")"
   ]
  },
  {
   "cell_type": "code",
   "execution_count": 9,
   "metadata": {},
   "outputs": [
    {
     "name": "stdout",
     "output_type": "stream",
     "text": [
      "Hello, this is a very long sentence. It has many words, there are so many words that you cannot see them all\n"
     ]
    }
   ],
   "source": [
    "s1=\"Hello, this is a very long sentence. It has many words, there are so many words\"\n",
    "s2=\" that you cannot see them all\"\n",
    "s=s1+s2\n",
    "print(s)"
   ]
  },
  {
   "cell_type": "code",
   "execution_count": 25,
   "metadata": {},
   "outputs": [],
   "source": [
    "#Examples\n",
    "s=\"if you can dodge a wrench, you can dodge a ball.\"\n",
    "#how do I get a list of all the words split up\n",
    "#all the words\n",
    "#s.split()"
   ]
  },
  {
   "cell_type": "code",
   "execution_count": 31,
   "metadata": {},
   "outputs": [
    {
     "data": {
      "text/plain": [
       "['if', 'wrench', 'ball']"
      ]
     },
     "execution_count": 31,
     "metadata": {},
     "output_type": "execute_result"
    }
   ],
   "source": [
    "#how do I get all of the words with an even number of letters?\n",
    "[word for word in s.split() if len(word)%2==0]\n",
    "#how can we get our wrench back\n",
    "\n",
    "#use the strip command\n",
    "[word.strip(\",.\") for word in s.split() if len(word.strip(',.'))%2==0]\n"
   ]
  },
  {
   "cell_type": "code",
   "execution_count": 17,
   "metadata": {},
   "outputs": [
    {
     "data": {
      "text/plain": [
       "[1, 4, 9]"
      ]
     },
     "execution_count": 17,
     "metadata": {},
     "output_type": "execute_result"
    }
   ],
   "source": [
    "#list comprehensions work like this \n",
    "L=[1,2,3]\n",
    "#suppose we want a list of [1**2,2**2,3**3]\n",
    "[item**2 for item in L]"
   ]
  },
  {
   "cell_type": "code",
   "execution_count": 39,
   "metadata": {},
   "outputs": [
    {
     "data": {
      "text/plain": [
       "['Red Animal',\n",
       " 'Red Mineral',\n",
       " 'Red Vegetable',\n",
       " 'blue Animal',\n",
       " 'blue Mineral',\n",
       " 'blue Vegetable',\n",
       " 'Green Animal',\n",
       " 'Green Mineral',\n",
       " 'Green Vegetable']"
      ]
     },
     "execution_count": 39,
     "metadata": {},
     "output_type": "execute_result"
    }
   ],
   "source": [
    "#Example \n",
    "L1=[\"Red\",\"blue\",\"Green\"]\n",
    "L2=[\"Animal\",\"Mineral\",\"Vegetable\"]\n",
    "#all of the possible combinations of one word from each list\n",
    "\n",
    "#here is a long way to do this\n",
    "#newlist=[]\n",
    "#for item in L1:\n",
    "#    for other_item in L2:\n",
    "#        newlist.append(item + \" \" + other_item)\n",
    "\n",
    "#list comprehensions are good, don't make them too long\n",
    "[(item + \" \" + other_item) for item in L1 for other_item in L2] \n",
    "\n"
   ]
  },
  {
   "cell_type": "code",
   "execution_count": 42,
   "metadata": {},
   "outputs": [
    {
     "name": "stdout",
     "output_type": "stream",
     "text": [
      "0\n",
      "1\n",
      "2\n",
      "3\n",
      "4\n",
      "5\n",
      "6\n",
      "7\n",
      "8\n",
      "9\n"
     ]
    }
   ],
   "source": [
    "for i in range(10):\n",
    "    print(i)\n",
    "#No curly braces\n",
    "#indentation is very very important"
   ]
  },
  {
   "cell_type": "code",
   "execution_count": 43,
   "metadata": {},
   "outputs": [
    {
     "name": "stdout",
     "output_type": "stream",
     "text": [
      "no\n"
     ]
    }
   ],
   "source": [
    "x=2\n",
    "if(x>2):\n",
    "    print(\"yes\")\n",
    "else:\n",
    "    print(\"no\")"
   ]
  },
  {
   "cell_type": "code",
   "execution_count": 44,
   "metadata": {},
   "outputs": [],
   "source": [
    "L=[4,\"blah\",10]\n",
    "#how can make a newlist P by the following rule\n",
    "#if an item is a number, divide by 4 and add to P\n",
    "#if an item in L is a word, multiply by 3 and add to P"
   ]
  },
  {
   "cell_type": "code",
   "execution_count": 46,
   "metadata": {},
   "outputs": [
    {
     "data": {
      "text/plain": [
       "[1.0, 'blahblahblah', 2.5]"
      ]
     },
     "execution_count": 46,
     "metadata": {},
     "output_type": "execute_result"
    }
   ],
   "source": [
    "P=[]\n",
    "for x in L:\n",
    "    if type(x)==str:\n",
    "        P.append(3*x)\n",
    "    else:\n",
    "        P.append(x/4)\n",
    "P\n",
    "    \n",
    "    "
   ]
  },
  {
   "cell_type": "code",
   "execution_count": 48,
   "metadata": {},
   "outputs": [
    {
     "name": "stdout",
     "output_type": "stream",
     "text": [
      "[2, 3, 5, 7, 11, 13, 17, 19, 23, 29, 31, 37, 41, 43, 47, 53, 59, 61, 67, 71, 73, 79, 83, 89, 97]\n"
     ]
    }
   ],
   "source": [
    "#example 4\n",
    "#list of all the prime numbers less thann 100\n",
    "#remember, 1 is not a prime number\n",
    "\n",
    "#nested for loops, with an if statement, and modular arithmetic\n",
    "primes=[]\n",
    "for i in range(2,101):\n",
    "    is_prime=True\n",
    "    for j in range(2,i):\n",
    "        if i%j==0:\n",
    "            is_prime=False\n",
    "    if is_prime:\n",
    "        primes.append(i)\n",
    "        \n",
    "print(primes)"
   ]
  },
  {
   "cell_type": "code",
   "execution_count": 49,
   "metadata": {},
   "outputs": [
    {
     "name": "stdout",
     "output_type": "stream",
     "text": [
      "20\n",
      "21\n",
      "22\n",
      "23\n",
      "24\n"
     ]
    }
   ],
   "source": [
    "#this is equivalent to \n",
    "#for(int i =20;i<25;++i)\n",
    "for i in range(20,25):\n",
    "    print(i)"
   ]
  },
  {
   "cell_type": "code",
   "execution_count": null,
   "metadata": {},
   "outputs": [],
   "source": []
  }
 ],
 "metadata": {
  "kernelspec": {
   "display_name": "Python 3",
   "language": "python",
   "name": "python3"
  },
  "language_info": {
   "codemirror_mode": {
    "name": "ipython",
    "version": 3
   },
   "file_extension": ".py",
   "mimetype": "text/x-python",
   "name": "python",
   "nbconvert_exporter": "python",
   "pygments_lexer": "ipython3",
   "version": "3.8.8"
  }
 },
 "nbformat": 4,
 "nbformat_minor": 4
}
