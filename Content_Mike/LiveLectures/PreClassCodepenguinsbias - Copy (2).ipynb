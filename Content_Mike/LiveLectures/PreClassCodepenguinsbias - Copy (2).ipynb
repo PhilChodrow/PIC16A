{
 "cells": [
  {
   "cell_type": "markdown",
   "metadata": {},
   "source": [
    "# Exploring Biased Data via Penguins\n",
    "\n",
    "Many popular machine algorithms are affected by issues of bias. For example, facial recognition algorithms often work better on people with lighter skin than on people with darker skin. The potential harm is massive. For example, someone could be wrongly arrested because of faulty facial recognition. \n",
    "\n",
    "There are many possible sources of these issues, but one well-understood issue is that machine learning models are typically trained on majority white datasets.\n",
    "\n",
    "In today's lecture, we will illustrate the potential harms of this via penguins."
   ]
  },
  {
   "cell_type": "markdown",
   "metadata": {},
   "source": [
    "## Introduction\n",
    "\n",
    "To start with, we are going to do a modified version of Discussion 14. The difference is that we will be predicting the `Sex` of the penguin rather than the species."
   ]
  },
  {
   "cell_type": "markdown",
   "metadata": {},
   "source": [
    "Let's begin by importing all the libraries we'll need, and by downloading the penguins dataset:\n",
    "\n",
    "*If you experience `ConnectionRefused` errors when doing this, instead copy/paste the url into your browser. Save the data in the same directory as this notebook in a file called `penguins.csv`, and then replace `url` with `\"penguins.csv\"` in the block below.* "
   ]
  },
  {
   "cell_type": "code",
   "execution_count": 1,
   "metadata": {},
   "outputs": [],
   "source": [
    "#import needed libraries and read in data\n",
    "import pandas as pd\n",
    "from matplotlib import pyplot as plt\n",
    "from sklearn import tree, preprocessing\n",
    "import numpy as np\n",
    "url = \"https://philchodrow.github.io/PIC16A/datasets/palmer_penguins.csv\"\n",
    "penguins = pd.read_csv(url)"
   ]
  },
  {
   "cell_type": "markdown",
   "metadata": {},
   "source": [
    "### §1. Preparing your data"
   ]
  },
  {
   "cell_type": "markdown",
   "metadata": {},
   "source": [
    "For this activity, we will use only the following columns: `\"Species\"`, `\"Flipper Length (mm)\"`, `\"Body Mass (g)\"`, `\"Sex\"`. (Use the square brackets operator on the list of these strings, and **assign the result back to `penguins`.**)"
   ]
  },
  {
   "cell_type": "code",
   "execution_count": 2,
   "metadata": {},
   "outputs": [
    {
     "data": {
      "text/html": [
       "<div>\n",
       "<style scoped>\n",
       "    .dataframe tbody tr th:only-of-type {\n",
       "        vertical-align: middle;\n",
       "    }\n",
       "\n",
       "    .dataframe tbody tr th {\n",
       "        vertical-align: top;\n",
       "    }\n",
       "\n",
       "    .dataframe thead th {\n",
       "        text-align: right;\n",
       "    }\n",
       "</style>\n",
       "<table border=\"1\" class=\"dataframe\">\n",
       "  <thead>\n",
       "    <tr style=\"text-align: right;\">\n",
       "      <th></th>\n",
       "      <th>Species</th>\n",
       "      <th>Flipper Length (mm)</th>\n",
       "      <th>Body Mass (g)</th>\n",
       "      <th>Sex</th>\n",
       "    </tr>\n",
       "  </thead>\n",
       "  <tbody>\n",
       "    <tr>\n",
       "      <th>0</th>\n",
       "      <td>Adelie Penguin (Pygoscelis adeliae)</td>\n",
       "      <td>181.0</td>\n",
       "      <td>3750.0</td>\n",
       "      <td>MALE</td>\n",
       "    </tr>\n",
       "    <tr>\n",
       "      <th>1</th>\n",
       "      <td>Adelie Penguin (Pygoscelis adeliae)</td>\n",
       "      <td>186.0</td>\n",
       "      <td>3800.0</td>\n",
       "      <td>FEMALE</td>\n",
       "    </tr>\n",
       "    <tr>\n",
       "      <th>2</th>\n",
       "      <td>Adelie Penguin (Pygoscelis adeliae)</td>\n",
       "      <td>195.0</td>\n",
       "      <td>3250.0</td>\n",
       "      <td>FEMALE</td>\n",
       "    </tr>\n",
       "    <tr>\n",
       "      <th>4</th>\n",
       "      <td>Adelie Penguin (Pygoscelis adeliae)</td>\n",
       "      <td>193.0</td>\n",
       "      <td>3450.0</td>\n",
       "      <td>FEMALE</td>\n",
       "    </tr>\n",
       "    <tr>\n",
       "      <th>5</th>\n",
       "      <td>Adelie Penguin (Pygoscelis adeliae)</td>\n",
       "      <td>190.0</td>\n",
       "      <td>3650.0</td>\n",
       "      <td>MALE</td>\n",
       "    </tr>\n",
       "    <tr>\n",
       "      <th>...</th>\n",
       "      <td>...</td>\n",
       "      <td>...</td>\n",
       "      <td>...</td>\n",
       "      <td>...</td>\n",
       "    </tr>\n",
       "    <tr>\n",
       "      <th>338</th>\n",
       "      <td>Gentoo penguin (Pygoscelis papua)</td>\n",
       "      <td>214.0</td>\n",
       "      <td>4925.0</td>\n",
       "      <td>FEMALE</td>\n",
       "    </tr>\n",
       "    <tr>\n",
       "      <th>340</th>\n",
       "      <td>Gentoo penguin (Pygoscelis papua)</td>\n",
       "      <td>215.0</td>\n",
       "      <td>4850.0</td>\n",
       "      <td>FEMALE</td>\n",
       "    </tr>\n",
       "    <tr>\n",
       "      <th>341</th>\n",
       "      <td>Gentoo penguin (Pygoscelis papua)</td>\n",
       "      <td>222.0</td>\n",
       "      <td>5750.0</td>\n",
       "      <td>MALE</td>\n",
       "    </tr>\n",
       "    <tr>\n",
       "      <th>342</th>\n",
       "      <td>Gentoo penguin (Pygoscelis papua)</td>\n",
       "      <td>212.0</td>\n",
       "      <td>5200.0</td>\n",
       "      <td>FEMALE</td>\n",
       "    </tr>\n",
       "    <tr>\n",
       "      <th>343</th>\n",
       "      <td>Gentoo penguin (Pygoscelis papua)</td>\n",
       "      <td>213.0</td>\n",
       "      <td>5400.0</td>\n",
       "      <td>MALE</td>\n",
       "    </tr>\n",
       "  </tbody>\n",
       "</table>\n",
       "<p>333 rows × 4 columns</p>\n",
       "</div>"
      ],
      "text/plain": [
       "                                 Species  Flipper Length (mm)  Body Mass (g)  \\\n",
       "0    Adelie Penguin (Pygoscelis adeliae)                181.0         3750.0   \n",
       "1    Adelie Penguin (Pygoscelis adeliae)                186.0         3800.0   \n",
       "2    Adelie Penguin (Pygoscelis adeliae)                195.0         3250.0   \n",
       "4    Adelie Penguin (Pygoscelis adeliae)                193.0         3450.0   \n",
       "5    Adelie Penguin (Pygoscelis adeliae)                190.0         3650.0   \n",
       "..                                   ...                  ...            ...   \n",
       "338    Gentoo penguin (Pygoscelis papua)                214.0         4925.0   \n",
       "340    Gentoo penguin (Pygoscelis papua)                215.0         4850.0   \n",
       "341    Gentoo penguin (Pygoscelis papua)                222.0         5750.0   \n",
       "342    Gentoo penguin (Pygoscelis papua)                212.0         5200.0   \n",
       "343    Gentoo penguin (Pygoscelis papua)                213.0         5400.0   \n",
       "\n",
       "        Sex  \n",
       "0      MALE  \n",
       "1    FEMALE  \n",
       "2    FEMALE  \n",
       "4    FEMALE  \n",
       "5      MALE  \n",
       "..      ...  \n",
       "338  FEMALE  \n",
       "340  FEMALE  \n",
       "341    MALE  \n",
       "342  FEMALE  \n",
       "343    MALE  \n",
       "\n",
       "[333 rows x 4 columns]"
      ]
     },
     "execution_count": 2,
     "metadata": {},
     "output_type": "execute_result"
    }
   ],
   "source": [
    "#drop nans and one row where the sex was not recorded\n",
    "penguins = penguins[['Species', 'Flipper Length (mm)', 'Body Mass (g)', \"Sex\"]]\n",
    "penguins = penguins.dropna()\n",
    "penguins=penguins[penguins[\"Sex\"]!=\".\"]\n",
    "penguins"
   ]
  },
  {
   "cell_type": "markdown",
   "metadata": {},
   "source": [
    "# Training a model the same way as in Discussion\n",
    "\n",
    "Run the next cell. Doing this will make sure that the random values that your code will generate will be the same every time you run the code."
   ]
  },
  {
   "cell_type": "code",
   "execution_count": 3,
   "metadata": {},
   "outputs": [],
   "source": [
    "np.random.seed(3354354524)"
   ]
  },
  {
   "cell_type": "code",
   "execution_count": 4,
   "metadata": {},
   "outputs": [],
   "source": [
    "from sklearn import preprocessing\n",
    "\n",
    "le=preprocessing.LabelEncoder()\n",
    "\n",
    "def prep_data(df):\n",
    "\n",
    "\n",
    "    X = df.drop(['Sex'], axis = 1)\n",
    "    y = df['Sex']\n",
    " \n",
    "    le = preprocessing.LabelEncoder()\n",
    "    X['Species'] = le.fit_transform(X['Species'])\n",
    "    y = le.fit_transform(y)\n",
    "    return X,y\n",
    "\n",
    "X,y=prep_data(penguins)"
   ]
  },
  {
   "cell_type": "markdown",
   "metadata": {},
   "source": [
    "To make sure that you know what is going on, look at your `X` and `y` variables by running the next cells."
   ]
  },
  {
   "cell_type": "code",
   "execution_count": 5,
   "metadata": {},
   "outputs": [
    {
     "data": {
      "text/html": [
       "<div>\n",
       "<style scoped>\n",
       "    .dataframe tbody tr th:only-of-type {\n",
       "        vertical-align: middle;\n",
       "    }\n",
       "\n",
       "    .dataframe tbody tr th {\n",
       "        vertical-align: top;\n",
       "    }\n",
       "\n",
       "    .dataframe thead th {\n",
       "        text-align: right;\n",
       "    }\n",
       "</style>\n",
       "<table border=\"1\" class=\"dataframe\">\n",
       "  <thead>\n",
       "    <tr style=\"text-align: right;\">\n",
       "      <th></th>\n",
       "      <th>Species</th>\n",
       "      <th>Flipper Length (mm)</th>\n",
       "      <th>Body Mass (g)</th>\n",
       "    </tr>\n",
       "  </thead>\n",
       "  <tbody>\n",
       "    <tr>\n",
       "      <th>0</th>\n",
       "      <td>0</td>\n",
       "      <td>181.0</td>\n",
       "      <td>3750.0</td>\n",
       "    </tr>\n",
       "    <tr>\n",
       "      <th>1</th>\n",
       "      <td>0</td>\n",
       "      <td>186.0</td>\n",
       "      <td>3800.0</td>\n",
       "    </tr>\n",
       "    <tr>\n",
       "      <th>2</th>\n",
       "      <td>0</td>\n",
       "      <td>195.0</td>\n",
       "      <td>3250.0</td>\n",
       "    </tr>\n",
       "    <tr>\n",
       "      <th>4</th>\n",
       "      <td>0</td>\n",
       "      <td>193.0</td>\n",
       "      <td>3450.0</td>\n",
       "    </tr>\n",
       "    <tr>\n",
       "      <th>5</th>\n",
       "      <td>0</td>\n",
       "      <td>190.0</td>\n",
       "      <td>3650.0</td>\n",
       "    </tr>\n",
       "    <tr>\n",
       "      <th>...</th>\n",
       "      <td>...</td>\n",
       "      <td>...</td>\n",
       "      <td>...</td>\n",
       "    </tr>\n",
       "    <tr>\n",
       "      <th>338</th>\n",
       "      <td>2</td>\n",
       "      <td>214.0</td>\n",
       "      <td>4925.0</td>\n",
       "    </tr>\n",
       "    <tr>\n",
       "      <th>340</th>\n",
       "      <td>2</td>\n",
       "      <td>215.0</td>\n",
       "      <td>4850.0</td>\n",
       "    </tr>\n",
       "    <tr>\n",
       "      <th>341</th>\n",
       "      <td>2</td>\n",
       "      <td>222.0</td>\n",
       "      <td>5750.0</td>\n",
       "    </tr>\n",
       "    <tr>\n",
       "      <th>342</th>\n",
       "      <td>2</td>\n",
       "      <td>212.0</td>\n",
       "      <td>5200.0</td>\n",
       "    </tr>\n",
       "    <tr>\n",
       "      <th>343</th>\n",
       "      <td>2</td>\n",
       "      <td>213.0</td>\n",
       "      <td>5400.0</td>\n",
       "    </tr>\n",
       "  </tbody>\n",
       "</table>\n",
       "<p>333 rows × 3 columns</p>\n",
       "</div>"
      ],
      "text/plain": [
       "     Species  Flipper Length (mm)  Body Mass (g)\n",
       "0          0                181.0         3750.0\n",
       "1          0                186.0         3800.0\n",
       "2          0                195.0         3250.0\n",
       "4          0                193.0         3450.0\n",
       "5          0                190.0         3650.0\n",
       "..       ...                  ...            ...\n",
       "338        2                214.0         4925.0\n",
       "340        2                215.0         4850.0\n",
       "341        2                222.0         5750.0\n",
       "342        2                212.0         5200.0\n",
       "343        2                213.0         5400.0\n",
       "\n",
       "[333 rows x 3 columns]"
      ]
     },
     "execution_count": 5,
     "metadata": {},
     "output_type": "execute_result"
    }
   ],
   "source": [
    "X"
   ]
  },
  {
   "cell_type": "code",
   "execution_count": 6,
   "metadata": {},
   "outputs": [
    {
     "data": {
      "text/plain": [
       "array([1, 0, 0, 0, 1, 0, 1, 0, 1, 1, 0, 0, 1, 0, 1, 0, 1, 0, 1, 1, 0, 1,\n",
       "       0, 0, 1, 0, 1, 0, 1, 0, 1, 1, 0, 0, 1, 0, 1, 0, 1, 0, 1, 1, 0, 1,\n",
       "       0, 1, 0, 1, 0, 1, 0, 1, 0, 1, 0, 1, 0, 1, 0, 1, 0, 1, 0, 1, 0, 1,\n",
       "       0, 1, 0, 1, 0, 1, 0, 1, 0, 1, 0, 1, 0, 1, 1, 0, 1, 0, 0, 1, 0, 1,\n",
       "       0, 1, 0, 1, 0, 1, 0, 1, 0, 1, 0, 1, 0, 1, 0, 1, 0, 1, 0, 1, 0, 1,\n",
       "       0, 1, 0, 1, 0, 1, 0, 1, 0, 1, 0, 1, 0, 1, 0, 1, 0, 1, 0, 1, 0, 1,\n",
       "       0, 1, 0, 1, 0, 1, 0, 1, 1, 0, 0, 1, 0, 1, 0, 1, 1, 0, 1, 0, 0, 1,\n",
       "       0, 1, 0, 1, 0, 1, 0, 1, 1, 0, 0, 1, 0, 1, 0, 1, 0, 1, 0, 1, 0, 1,\n",
       "       0, 1, 0, 1, 1, 0, 0, 1, 0, 1, 1, 0, 1, 0, 0, 1, 0, 1, 1, 0, 0, 1,\n",
       "       0, 1, 0, 1, 0, 1, 1, 0, 1, 0, 0, 1, 0, 1, 1, 0, 0, 1, 0, 1, 1, 0,\n",
       "       0, 1, 0, 1, 0, 1, 0, 1, 0, 1, 0, 1, 0, 1, 1, 0, 0, 1, 0, 1, 1, 0,\n",
       "       1, 1, 0, 0, 1, 0, 1, 0, 1, 0, 1, 0, 1, 0, 1, 1, 0, 0, 1, 0, 1, 0,\n",
       "       1, 0, 1, 0, 1, 0, 1, 0, 1, 0, 1, 0, 1, 0, 1, 1, 0, 1, 0, 1, 1, 0,\n",
       "       0, 1, 0, 1, 0, 1, 0, 1, 0, 1, 0, 1, 0, 1, 0, 1, 0, 1, 0, 1, 0, 1,\n",
       "       1, 0, 0, 1, 0, 1, 0, 1, 1, 0, 1, 0, 1, 0, 1, 0, 1, 0, 1, 1, 0, 0,\n",
       "       1, 0, 1])"
      ]
     },
     "execution_count": 6,
     "metadata": {},
     "output_type": "execute_result"
    }
   ],
   "source": [
    "y"
   ]
  },
  {
   "cell_type": "markdown",
   "metadata": {},
   "source": [
    "Now split `X` and `y` into training and test data (80/20% of the rows).\n",
    "\n",
    "**Note**: *You should conduct all splits using a single call to the function `train_test_split` from `sklearn.model_selection`.* You can achieve this by supplying two arrays to this function, as illustrated in the [second example here](https://scikit-learn.org/stable/modules/generated/sklearn.model_selection.train_test_split.html)."
   ]
  },
  {
   "cell_type": "code",
   "execution_count": 7,
   "metadata": {},
   "outputs": [],
   "source": [
    "from sklearn.model_selection import train_test_split\n",
    "X_train, X_test, y_train, y_test = train_test_split(X, y, test_size = 0.2)"
   ]
  },
  {
   "cell_type": "code",
   "execution_count": 58,
   "metadata": {},
   "outputs": [
    {
     "data": {
      "text/plain": [
       "(0.8555555555555555, 0.8366013071895425)"
      ]
     },
     "execution_count": 58,
     "metadata": {},
     "output_type": "execute_result"
    }
   ],
   "source": [
    "T = tree.DecisionTreeClassifier(max_depth=3)\n",
    "T.fit(X_train, y_train)\n",
    "T.score(X_train, y_train), T.score(X_test, y_test)"
   ]
  },
  {
   "cell_type": "markdown",
   "metadata": {},
   "source": [
    "# Biased Data\n",
    "\n",
    "## What if the training data was nearly all Adelie penguins?\n",
    "\n",
    "To help answer this, let's split up the data into three smaller data frames. One for each species"
   ]
  },
  {
   "cell_type": "code",
   "execution_count": 12,
   "metadata": {},
   "outputs": [
    {
     "data": {
      "text/plain": [
       "(146, 68, 119)"
      ]
     },
     "execution_count": 12,
     "metadata": {},
     "output_type": "execute_result"
    }
   ],
   "source": [
    "just_A=penguins[penguins[\"Species\"]==\"Adelie Penguin (Pygoscelis adeliae)\"]\n",
    "just_C=penguins[penguins[\"Species\"]==\"Chinstrap penguin (Pygoscelis antarctica)\"]\n",
    "just_G=penguins[penguins[\"Species\"]==\"Gentoo penguin (Pygoscelis papua)\"]\n",
    "len(just_A),len(just_C),len(just_G)\n"
   ]
  },
  {
   "cell_type": "markdown",
   "metadata": {},
   "source": [
    "Now, lets grab test data from each of those columns. I am being a bit lazy and not using a random split here. (Don't imitate this behavior on your project!)"
   ]
  },
  {
   "cell_type": "code",
   "execution_count": 61,
   "metadata": {},
   "outputs": [
    {
     "data": {
      "text/plain": [
       "(116, 38, 59)"
      ]
     },
     "execution_count": 61,
     "metadata": {},
     "output_type": "execute_result"
    }
   ],
   "source": [
    "A_samples=30\n",
    "C_samples=30\n",
    "G_samples=60\n",
    "\n",
    "A_train=just_A.iloc[0:A_samples]\n",
    "C_train=just_C.iloc[0:C_samples]\n",
    "G_train=just_G.iloc[0:G_samples]\n",
    "\n",
    "A_test=just_A.iloc[A_samples:]\n",
    "C_test=just_C.iloc[C_samples:]\n",
    "G_test=just_G.iloc[G_samples:]\n",
    "\n",
    "len(A_test),len(C_test),len(G_test)\n",
    "\n",
    "\n"
   ]
  },
  {
   "cell_type": "code",
   "execution_count": null,
   "metadata": {},
   "outputs": [],
   "source": []
  },
  {
   "cell_type": "code",
   "execution_count": null,
   "metadata": {},
   "outputs": [],
   "source": []
  },
  {
   "cell_type": "markdown",
   "metadata": {},
   "source": [
    "Now, let's build the total training set and testing set"
   ]
  },
  {
   "cell_type": "code",
   "execution_count": 62,
   "metadata": {},
   "outputs": [],
   "source": [
    "train=pd.concat([A_train,C_train,G_train])\n",
    "test=pd.concat([A_test,C_test,G_test])"
   ]
  },
  {
   "cell_type": "code",
   "execution_count": 63,
   "metadata": {},
   "outputs": [],
   "source": [
    "X_train,y_train=prep_data(train)\n",
    "X_test,y_test=prep_data(test)"
   ]
  },
  {
   "cell_type": "code",
   "execution_count": 64,
   "metadata": {},
   "outputs": [
    {
     "data": {
      "text/plain": [
       "(0.7, 0.6103286384976526)"
      ]
     },
     "execution_count": 64,
     "metadata": {},
     "output_type": "execute_result"
    }
   ],
   "source": [
    "T=tree.DecisionTreeClassifier(max_depth=2)\n",
    "T.fit(X_train,y_train)\n",
    "T.score(X_train,y_train), T.score(X_test,y_test)"
   ]
  },
  {
   "cell_type": "code",
   "execution_count": 65,
   "metadata": {},
   "outputs": [],
   "source": [
    "def score_on_subset(subset):\n",
    "    subset_X=subset.drop([\"Sex\"],axis=1)\n",
    "    subset_y=subset[\"Sex\"]\n",
    "    \n",
    "    subset_X[\"Species\"]=le.fit_transform(subset_X[\"Species\"])\n",
    "    subset_y=le.fit_transform(subset_y)\n",
    "    \n",
    "    return(T.score(subset_X,subset_y))"
   ]
  },
  {
   "cell_type": "code",
   "execution_count": 66,
   "metadata": {},
   "outputs": [
    {
     "name": "stdout",
     "output_type": "stream",
     "text": [
      "Adelie score: 0.49137931034482757\n",
      "Chinstrap score: 0.5\n",
      "Gentoo score: 0.9152542372881356\n"
     ]
    }
   ],
   "source": [
    "print(\"Adelie score: \"+ str(score_on_subset(A_test)))\n",
    "print(\"Chinstrap score: \"+ str(score_on_subset(C_test)))\n",
    "print(\"Gentoo score: \"+ str(score_on_subset(G_test)))"
   ]
  },
  {
   "cell_type": "code",
   "execution_count": null,
   "metadata": {},
   "outputs": [],
   "source": [
    "\n",
    "\n",
    "\n"
   ]
  },
  {
   "cell_type": "code",
   "execution_count": null,
   "metadata": {},
   "outputs": [],
   "source": []
  },
  {
   "cell_type": "markdown",
   "metadata": {},
   "source": [
    "# Interpreting results \n",
    "\n",
    "With `balanced` data our model works worse on Gentoo. Let's try to explore why."
   ]
  },
  {
   "cell_type": "code",
   "execution_count": 56,
   "metadata": {},
   "outputs": [
    {
     "data": {
      "text/html": [
       "<div>\n",
       "<style scoped>\n",
       "    .dataframe tbody tr th:only-of-type {\n",
       "        vertical-align: middle;\n",
       "    }\n",
       "\n",
       "    .dataframe tbody tr th {\n",
       "        vertical-align: top;\n",
       "    }\n",
       "\n",
       "    .dataframe thead tr th {\n",
       "        text-align: left;\n",
       "    }\n",
       "\n",
       "    .dataframe thead tr:last-of-type th {\n",
       "        text-align: right;\n",
       "    }\n",
       "</style>\n",
       "<table border=\"1\" class=\"dataframe\">\n",
       "  <thead>\n",
       "    <tr>\n",
       "      <th></th>\n",
       "      <th></th>\n",
       "      <th colspan=\"8\" halign=\"left\">Flipper Length (mm)</th>\n",
       "      <th colspan=\"8\" halign=\"left\">Body Mass (g)</th>\n",
       "    </tr>\n",
       "    <tr>\n",
       "      <th></th>\n",
       "      <th></th>\n",
       "      <th>count</th>\n",
       "      <th>mean</th>\n",
       "      <th>std</th>\n",
       "      <th>min</th>\n",
       "      <th>25%</th>\n",
       "      <th>50%</th>\n",
       "      <th>75%</th>\n",
       "      <th>max</th>\n",
       "      <th>count</th>\n",
       "      <th>mean</th>\n",
       "      <th>std</th>\n",
       "      <th>min</th>\n",
       "      <th>25%</th>\n",
       "      <th>50%</th>\n",
       "      <th>75%</th>\n",
       "      <th>max</th>\n",
       "    </tr>\n",
       "    <tr>\n",
       "      <th>Species</th>\n",
       "      <th>Sex</th>\n",
       "      <th></th>\n",
       "      <th></th>\n",
       "      <th></th>\n",
       "      <th></th>\n",
       "      <th></th>\n",
       "      <th></th>\n",
       "      <th></th>\n",
       "      <th></th>\n",
       "      <th></th>\n",
       "      <th></th>\n",
       "      <th></th>\n",
       "      <th></th>\n",
       "      <th></th>\n",
       "      <th></th>\n",
       "      <th></th>\n",
       "      <th></th>\n",
       "    </tr>\n",
       "  </thead>\n",
       "  <tbody>\n",
       "    <tr>\n",
       "      <th rowspan=\"2\" valign=\"top\">Adelie Penguin (Pygoscelis adeliae)</th>\n",
       "      <th>FEMALE</th>\n",
       "      <td>73.0</td>\n",
       "      <td>187.794521</td>\n",
       "      <td>5.595035</td>\n",
       "      <td>172.0</td>\n",
       "      <td>185.00</td>\n",
       "      <td>188.0</td>\n",
       "      <td>191.00</td>\n",
       "      <td>202.0</td>\n",
       "      <td>73.0</td>\n",
       "      <td>3368.835616</td>\n",
       "      <td>269.380102</td>\n",
       "      <td>2850.0</td>\n",
       "      <td>3175.00</td>\n",
       "      <td>3400.0</td>\n",
       "      <td>3550.00</td>\n",
       "      <td>3900.0</td>\n",
       "    </tr>\n",
       "    <tr>\n",
       "      <th>MALE</th>\n",
       "      <td>73.0</td>\n",
       "      <td>192.410959</td>\n",
       "      <td>6.599317</td>\n",
       "      <td>178.0</td>\n",
       "      <td>189.00</td>\n",
       "      <td>193.0</td>\n",
       "      <td>197.00</td>\n",
       "      <td>210.0</td>\n",
       "      <td>73.0</td>\n",
       "      <td>4043.493151</td>\n",
       "      <td>346.811553</td>\n",
       "      <td>3325.0</td>\n",
       "      <td>3800.00</td>\n",
       "      <td>4000.0</td>\n",
       "      <td>4300.00</td>\n",
       "      <td>4775.0</td>\n",
       "    </tr>\n",
       "    <tr>\n",
       "      <th rowspan=\"2\" valign=\"top\">Chinstrap penguin (Pygoscelis antarctica)</th>\n",
       "      <th>FEMALE</th>\n",
       "      <td>34.0</td>\n",
       "      <td>191.735294</td>\n",
       "      <td>5.754096</td>\n",
       "      <td>178.0</td>\n",
       "      <td>187.25</td>\n",
       "      <td>192.0</td>\n",
       "      <td>195.75</td>\n",
       "      <td>202.0</td>\n",
       "      <td>34.0</td>\n",
       "      <td>3527.205882</td>\n",
       "      <td>285.333912</td>\n",
       "      <td>2700.0</td>\n",
       "      <td>3362.50</td>\n",
       "      <td>3550.0</td>\n",
       "      <td>3693.75</td>\n",
       "      <td>4150.0</td>\n",
       "    </tr>\n",
       "    <tr>\n",
       "      <th>MALE</th>\n",
       "      <td>34.0</td>\n",
       "      <td>199.911765</td>\n",
       "      <td>5.976558</td>\n",
       "      <td>187.0</td>\n",
       "      <td>196.00</td>\n",
       "      <td>200.5</td>\n",
       "      <td>203.00</td>\n",
       "      <td>212.0</td>\n",
       "      <td>34.0</td>\n",
       "      <td>3938.970588</td>\n",
       "      <td>362.137550</td>\n",
       "      <td>3250.0</td>\n",
       "      <td>3731.25</td>\n",
       "      <td>3950.0</td>\n",
       "      <td>4100.00</td>\n",
       "      <td>4800.0</td>\n",
       "    </tr>\n",
       "    <tr>\n",
       "      <th rowspan=\"2\" valign=\"top\">Gentoo penguin (Pygoscelis papua)</th>\n",
       "      <th>FEMALE</th>\n",
       "      <td>58.0</td>\n",
       "      <td>212.706897</td>\n",
       "      <td>3.897856</td>\n",
       "      <td>203.0</td>\n",
       "      <td>210.00</td>\n",
       "      <td>212.0</td>\n",
       "      <td>215.00</td>\n",
       "      <td>222.0</td>\n",
       "      <td>58.0</td>\n",
       "      <td>4679.741379</td>\n",
       "      <td>281.578294</td>\n",
       "      <td>3950.0</td>\n",
       "      <td>4462.50</td>\n",
       "      <td>4700.0</td>\n",
       "      <td>4875.00</td>\n",
       "      <td>5200.0</td>\n",
       "    </tr>\n",
       "    <tr>\n",
       "      <th>MALE</th>\n",
       "      <td>61.0</td>\n",
       "      <td>221.540984</td>\n",
       "      <td>5.673252</td>\n",
       "      <td>208.0</td>\n",
       "      <td>218.00</td>\n",
       "      <td>221.0</td>\n",
       "      <td>225.00</td>\n",
       "      <td>231.0</td>\n",
       "      <td>61.0</td>\n",
       "      <td>5484.836066</td>\n",
       "      <td>313.158596</td>\n",
       "      <td>4750.0</td>\n",
       "      <td>5300.00</td>\n",
       "      <td>5500.0</td>\n",
       "      <td>5700.00</td>\n",
       "      <td>6300.0</td>\n",
       "    </tr>\n",
       "  </tbody>\n",
       "</table>\n",
       "</div>"
      ],
      "text/plain": [
       "                                                 Flipper Length (mm)  \\\n",
       "                                                               count   \n",
       "Species                                   Sex                          \n",
       "Adelie Penguin (Pygoscelis adeliae)       FEMALE                73.0   \n",
       "                                          MALE                  73.0   \n",
       "Chinstrap penguin (Pygoscelis antarctica) FEMALE                34.0   \n",
       "                                          MALE                  34.0   \n",
       "Gentoo penguin (Pygoscelis papua)         FEMALE                58.0   \n",
       "                                          MALE                  61.0   \n",
       "\n",
       "                                                                               \\\n",
       "                                                        mean       std    min   \n",
       "Species                                   Sex                                   \n",
       "Adelie Penguin (Pygoscelis adeliae)       FEMALE  187.794521  5.595035  172.0   \n",
       "                                          MALE    192.410959  6.599317  178.0   \n",
       "Chinstrap penguin (Pygoscelis antarctica) FEMALE  191.735294  5.754096  178.0   \n",
       "                                          MALE    199.911765  5.976558  187.0   \n",
       "Gentoo penguin (Pygoscelis papua)         FEMALE  212.706897  3.897856  203.0   \n",
       "                                          MALE    221.540984  5.673252  208.0   \n",
       "\n",
       "                                                                         \\\n",
       "                                                     25%    50%     75%   \n",
       "Species                                   Sex                             \n",
       "Adelie Penguin (Pygoscelis adeliae)       FEMALE  185.00  188.0  191.00   \n",
       "                                          MALE    189.00  193.0  197.00   \n",
       "Chinstrap penguin (Pygoscelis antarctica) FEMALE  187.25  192.0  195.75   \n",
       "                                          MALE    196.00  200.5  203.00   \n",
       "Gentoo penguin (Pygoscelis papua)         FEMALE  210.00  212.0  215.00   \n",
       "                                          MALE    218.00  221.0  225.00   \n",
       "\n",
       "                                                        Body Mass (g)  \\\n",
       "                                                    max         count   \n",
       "Species                                   Sex                           \n",
       "Adelie Penguin (Pygoscelis adeliae)       FEMALE  202.0          73.0   \n",
       "                                          MALE    210.0          73.0   \n",
       "Chinstrap penguin (Pygoscelis antarctica) FEMALE  202.0          34.0   \n",
       "                                          MALE    212.0          34.0   \n",
       "Gentoo penguin (Pygoscelis papua)         FEMALE  222.0          58.0   \n",
       "                                          MALE    231.0          61.0   \n",
       "\n",
       "                                                                           \\\n",
       "                                                         mean         std   \n",
       "Species                                   Sex                               \n",
       "Adelie Penguin (Pygoscelis adeliae)       FEMALE  3368.835616  269.380102   \n",
       "                                          MALE    4043.493151  346.811553   \n",
       "Chinstrap penguin (Pygoscelis antarctica) FEMALE  3527.205882  285.333912   \n",
       "                                          MALE    3938.970588  362.137550   \n",
       "Gentoo penguin (Pygoscelis papua)         FEMALE  4679.741379  281.578294   \n",
       "                                          MALE    5484.836066  313.158596   \n",
       "\n",
       "                                                                           \\\n",
       "                                                     min      25%     50%   \n",
       "Species                                   Sex                               \n",
       "Adelie Penguin (Pygoscelis adeliae)       FEMALE  2850.0  3175.00  3400.0   \n",
       "                                          MALE    3325.0  3800.00  4000.0   \n",
       "Chinstrap penguin (Pygoscelis antarctica) FEMALE  2700.0  3362.50  3550.0   \n",
       "                                          MALE    3250.0  3731.25  3950.0   \n",
       "Gentoo penguin (Pygoscelis papua)         FEMALE  3950.0  4462.50  4700.0   \n",
       "                                          MALE    4750.0  5300.00  5500.0   \n",
       "\n",
       "                                                                   \n",
       "                                                      75%     max  \n",
       "Species                                   Sex                      \n",
       "Adelie Penguin (Pygoscelis adeliae)       FEMALE  3550.00  3900.0  \n",
       "                                          MALE    4300.00  4775.0  \n",
       "Chinstrap penguin (Pygoscelis antarctica) FEMALE  3693.75  4150.0  \n",
       "                                          MALE    4100.00  4800.0  \n",
       "Gentoo penguin (Pygoscelis papua)         FEMALE  4875.00  5200.0  \n",
       "                                          MALE    5700.00  6300.0  "
      ]
     },
     "execution_count": 56,
     "metadata": {},
     "output_type": "execute_result"
    }
   ],
   "source": [
    "penguins.groupby([\"Species\",\"Sex\"]).describe()"
   ]
  },
  {
   "cell_type": "markdown",
   "metadata": {},
   "source": [
    "We can see that Gentoo's are bigger than the other two species. Perhaps our classifier is seeing that a Gentoo is big and assuming that it is a male"
   ]
  },
  {
   "cell_type": "code",
   "execution_count": 57,
   "metadata": {},
   "outputs": [
    {
     "data": {
      "image/png": "[encoded data removed]",
      "text/plain": [
       "<Figure size 1440x1440 with 1 Axes>"
      ]
     },
     "metadata": {
      "needs_background": "light"
     },
     "output_type": "display_data"
    }
   ],
   "source": [
    "fig,ax=plt.subplots(1,figsize=(20,20))\n",
    "p=tree.plot_tree(T,filled=True,feature_names=X.columns)"
   ]
  },
  {
   "cell_type": "code",
   "execution_count": null,
   "metadata": {},
   "outputs": [],
   "source": []
  },
  {
   "cell_type": "code",
   "execution_count": null,
   "metadata": {},
   "outputs": [],
   "source": []
  }
 ],
 "metadata": {
  "kernelspec": {
   "display_name": "Python 3",
   "language": "python",
   "name": "python3"
  },
  "language_info": {
   "codemirror_mode": {
    "name": "ipython",
    "version": 3
   },
   "file_extension": ".py",
   "mimetype": "text/x-python",
   "name": "python",
   "nbconvert_exporter": "python",
   "pygments_lexer": "ipython3",
   "version": "3.7.3"
  }
 },
 "nbformat": 4,
 "nbformat_minor": 4
}
