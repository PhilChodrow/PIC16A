{
 "cells": [
  {
   "cell_type": "markdown",
   "metadata": {},
   "source": [
    "There is a small error here "
   ]
  },
  {
   "cell_type": "code",
   "execution_count": 14,
   "metadata": {},
   "outputs": [],
   "source": [
    "def sqrt(x):\n",
    "    \"\"\"\n",
    "    custom sqrt function with error messages for invalid input\n",
    "    \"\"\"\n",
    "    if type(x) not in [int,float]:\n",
    "        raise TypeError(\"This function only works with numerical data types\")\n",
    "    elif x<0:\n",
    "        raise ValueError(\"x must be nonnegative\")\n",
    "    else:\n",
    "        return x**(1/2)  "
   ]
  },
  {
   "cell_type": "markdown",
   "metadata": {},
   "source": [
    "Let's do some unittesting"
   ]
  },
  {
   "cell_type": "code",
   "execution_count": null,
   "metadata": {},
   "outputs": [],
   "source": []
  },
  {
   "cell_type": "code",
   "execution_count": 18,
   "metadata": {},
   "outputs": [],
   "source": [
    "import unittest #needed for unittesting\n",
    "\n",
    "#allways inherit from unittest.TestCase\n",
    "class TestSqrt(unittest.TestCase):\n",
    "    \n",
    "    def test_type_error(self):\n",
    "        #strings should raise typeerrors\n",
    "        s=\"Aardvarks love almonds\"\n",
    "        with self.assertRaises(TypeError):\n",
    "            sqrt(s)\n",
    "            \n",
    "    def test_standard(self):\n",
    "        self.assertEqual(sqrt(9),3)\n",
    "        \n",
    "    def test_negative(self):\n",
    "        with self.assertRaises(ValueError):\n",
    "            sqrt(-1)\n",
    "        \n",
    "        \n",
    "    \n",
    " "
   ]
  },
  {
   "cell_type": "code",
   "execution_count": 19,
   "metadata": {},
   "outputs": [],
   "source": [
    "tester=TestSqrt()\n",
    "tester.test_type_error()"
   ]
  },
  {
   "cell_type": "code",
   "execution_count": 20,
   "metadata": {},
   "outputs": [],
   "source": [
    "tester.test_standard()"
   ]
  },
  {
   "cell_type": "code",
   "execution_count": 22,
   "metadata": {},
   "outputs": [],
   "source": [
    "tester.test_negative()"
   ]
  },
  {
   "cell_type": "code",
   "execution_count": 23,
   "metadata": {},
   "outputs": [],
   "source": [
    "def sqrt(x):\n",
    "    \"\"\"\n",
    "    custom sqrt function with error messages for invalid input\n",
    "    \"\"\"\n",
    "    if type(x) not in [int,float]:\n",
    "        raise TypeError(\"This function only works with numerical data types\")\n",
    "    elif x<0:\n",
    "        raise ValueError(\"x must be nonnegative\")\n",
    "    else:\n",
    "        return x**(1/2)  \n",
    "    "
   ]
  },
  {
   "cell_type": "code",
   "execution_count": 37,
   "metadata": {},
   "outputs": [],
   "source": [
    "def another_sqrt(x):\n",
    "    try:\n",
    "        y=sqrt(x)\n",
    "        return(y)\n",
    "   \n",
    "    except TypeError:\n",
    "        print(\"You can't take the square root of \"+ str(x)+\".\")\n",
    "    except ValueError:\n",
    "        print(str(x)+\" is negative. Did you mean to type \"+str(-x)+\"?\")\n",
    "        "
   ]
  },
  {
   "cell_type": "code",
   "execution_count": 41,
   "metadata": {},
   "outputs": [
    {
     "name": "stdout",
     "output_type": "stream",
     "text": [
      "-2 is negative. Did you mean to type 2?\n"
     ]
    },
    {
     "data": {
      "text/plain": [
       "9"
      ]
     },
     "execution_count": 41,
     "metadata": {},
     "output_type": "execute_result"
    }
   ],
   "source": [
    "another_sqrt(-2)\n",
    "\n",
    "3+6"
   ]
  },
  {
   "cell_type": "code",
   "execution_count": 43,
   "metadata": {},
   "outputs": [
    {
     "ename": "ValueError",
     "evalue": "operands could not be broadcast together with shapes (3,4) (4,3) ",
     "output_type": "error",
     "traceback": [
      "\u001b[1;31m---------------------------------------------------------------------------\u001b[0m",
      "\u001b[1;31mValueError\u001b[0m                                Traceback (most recent call last)",
      "\u001b[1;32m<ipython-input-43-c54fc1b2f4bc>\u001b[0m in \u001b[0;36m<module>\u001b[1;34m\u001b[0m\n\u001b[0;32m      2\u001b[0m \u001b[0ma\u001b[0m\u001b[1;33m=\u001b[0m\u001b[0mnp\u001b[0m\u001b[1;33m.\u001b[0m\u001b[0mzeros\u001b[0m\u001b[1;33m(\u001b[0m\u001b[1;33m(\u001b[0m\u001b[1;36m3\u001b[0m\u001b[1;33m,\u001b[0m\u001b[1;36m4\u001b[0m\u001b[1;33m)\u001b[0m\u001b[1;33m)\u001b[0m\u001b[1;33m\u001b[0m\u001b[1;33m\u001b[0m\u001b[0m\n\u001b[0;32m      3\u001b[0m \u001b[0mb\u001b[0m\u001b[1;33m=\u001b[0m\u001b[0mnp\u001b[0m\u001b[1;33m.\u001b[0m\u001b[0mzeros\u001b[0m\u001b[1;33m(\u001b[0m\u001b[1;33m(\u001b[0m\u001b[1;36m4\u001b[0m\u001b[1;33m,\u001b[0m\u001b[1;36m3\u001b[0m\u001b[1;33m)\u001b[0m\u001b[1;33m)\u001b[0m\u001b[1;33m\u001b[0m\u001b[1;33m\u001b[0m\u001b[0m\n\u001b[1;32m----> 4\u001b[1;33m \u001b[0ma\u001b[0m\u001b[1;33m+\u001b[0m\u001b[0mb\u001b[0m\u001b[1;33m\u001b[0m\u001b[1;33m\u001b[0m\u001b[0m\n\u001b[0m",
      "\u001b[1;31mValueError\u001b[0m: operands could not be broadcast together with shapes (3,4) (4,3) "
     ]
    }
   ],
   "source": [
    "import numpy as np\n",
    "a=np.zeros((3,4))\n",
    "b=np.zeros((4,3))\n",
    "a+b"
   ]
  },
  {
   "cell_type": "code",
   "execution_count": 45,
   "metadata": {},
   "outputs": [
    {
     "ename": "TypeError",
     "evalue": "unsupported operand type(s) for +: 'int' and 'str'",
     "output_type": "error",
     "traceback": [
      "\u001b[1;31m---------------------------------------------------------------------------\u001b[0m",
      "\u001b[1;31mTypeError\u001b[0m                                 Traceback (most recent call last)",
      "\u001b[1;32m<ipython-input-45-f1c82add9fab>\u001b[0m in \u001b[0;36m<module>\u001b[1;34m\u001b[0m\n\u001b[1;32m----> 1\u001b[1;33m \u001b[1;36m3\u001b[0m\u001b[1;33m+\u001b[0m\u001b[1;34m\"my dog is barking\"\u001b[0m\u001b[1;33m\u001b[0m\u001b[1;33m\u001b[0m\u001b[0m\n\u001b[0m",
      "\u001b[1;31mTypeError\u001b[0m: unsupported operand type(s) for +: 'int' and 'str'"
     ]
    }
   ],
   "source": [
    "3+\"my dog is barking\""
   ]
  },
  {
   "cell_type": "code",
   "execution_count": 53,
   "metadata": {},
   "outputs": [],
   "source": [
    "s=\"abcdefghabcfgh\"\n",
    "#This is not a good solution\n",
    "#D={}\n",
    "#for letter in s:\n",
    " #   D[letter]=s.count(letter)\n",
    "    \n",
    "#if there there N letters in the string, it is taking N^2 steps\n",
    "#Here is a better approach\n",
    "\n",
    "#Better\n",
    "D={}\n",
    "for letter in s:\n",
    "    if letter in D.keys():\n",
    "        D[letter]+=1\n",
    "    else:\n",
    "        D[letter]=1\n",
    "\n",
    "#even better\n",
    "D={}\n",
    "s=\"abcdefgacefg\"\n",
    "for letter in s:\n",
    "    D[letter]=D.get(letter,0)+1"
   ]
  },
  {
   "cell_type": "markdown",
   "metadata": {},
   "source": [
    "# Walk through of  the loop\n",
    "\n",
    "D={}\n",
    "letter is s[0]\n",
    "D.get(a,0)+1, so now we get one and now we set D['a']=1\n",
    "D={a:1}\n",
    "D.get('b',0)....\n",
    "D={a:1,b:1}\n",
    "....\n",
    "D={a:1,b;1,...,g:1}\n",
    "D.get(a,0)+1=1+1=2\n",
    "D[a]=2\n",
    "D={a:2,b:1,....,g:1}\n"
   ]
  },
  {
   "cell_type": "code",
   "execution_count": null,
   "metadata": {},
   "outputs": [],
   "source": []
  }
 ],
 "metadata": {
  "kernelspec": {
   "display_name": "Python 3",
   "language": "python",
   "name": "python3"
  },
  "language_info": {
   "codemirror_mode": {
    "name": "ipython",
    "version": 3
   },
   "file_extension": ".py",
   "mimetype": "text/x-python",
   "name": "python",
   "nbconvert_exporter": "python",
   "pygments_lexer": "ipython3",
   "version": "3.8.5"
  }
 },
 "nbformat": 4,
 "nbformat_minor": 4
}
