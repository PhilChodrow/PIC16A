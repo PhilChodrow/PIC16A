{
 "cells": [
  {
   "cell_type": "markdown",
   "metadata": {},
   "source": [
    "# Discussion 5: Prime Numbers\n",
    "\n",
    "\n",
    "### Group Members and Roles\n",
    "\n",
    "- Group Member 1 (Role)\n",
    "- Group Member 2 (Role)\n",
    "- Group Member 3 (Role)\n",
    "\n",
    "## Introduction\n",
    "\n",
    "In this Discussion activity, our focus will be on writing some efficient Python functions for checking whether numbers are prime. "
   ]
  },
  {
   "cell_type": "markdown",
   "metadata": {},
   "source": [
    "## §1. Test Primes\n",
    "\n",
    "First, write a function called `is_prime(n)` that tests whether a integer `n` is prime. Do so by checking whether `i` divides `n` for every positive integer `i < n`. Remember that `0` and `1` are not prime. You should return `True` if the input is prime, and `False` otherwise. \n",
    "\n",
    "**Note:** `i` divides `n` iff `n % i == 0`.\n",
    "\n",
    "Check that your function works by checking `9973` (prime) and `9977` (not prime). "
   ]
  },
  {
   "cell_type": "code",
   "execution_count": 1,
   "metadata": {},
   "outputs": [],
   "source": [
    "# write is_prime(n) here\n"
   ]
  },
  {
   "cell_type": "markdown",
   "metadata": {},
   "source": [
    "## §2. Test Primes\n",
    "\n",
    "You may remember from math class that it's not necessary to check *all* numbers `i < n` to tell whether `n` is prime. In fact, it suffices to check only numbers `i` such that $i \\leq \\sqrt{n}$ (why?). Write a new function called `fast_is_prime(n)` that takes advantage of this fact. \n",
    "\n",
    "Check your function using the same tests as above. \n",
    "\n",
    "***Hint***: \n",
    "\n",
    "```python\n",
    "import math\n",
    "math.sqrt(2)\n",
    "```"
   ]
  },
  {
   "cell_type": "code",
   "execution_count": 2,
   "metadata": {},
   "outputs": [],
   "source": [
    "# write fast_is_prime(n) here\n"
   ]
  },
  {
   "cell_type": "markdown",
   "metadata": {},
   "source": [
    "## §3. Compare Speed\n",
    "\n",
    "Jupyter comes with a special \"magic macro\" that lets you compare the execution speed of your functions. To use it, add `%timeit` (\"time it\") in front of your function call. Write and run the following two lines: \n",
    "\n",
    "```python\n",
    "%timeit is_prime(9973)\n",
    "%timeit fast_is_prime(9973)\n",
    "```\n",
    "\n",
    "You'll see some summary statistics based on a large number of repetitions of your function. How much faster is `fast_is_prime` than `is_prime`? "
   ]
  },
  {
   "cell_type": "code",
   "execution_count": 3,
   "metadata": {},
   "outputs": [],
   "source": [
    "# try testing 9973\n"
   ]
  },
  {
   "cell_type": "markdown",
   "metadata": {},
   "source": [
    "Now test `n = 1000003`. How much faster is your implementation of `fast_is_prime()`? \n",
    "\n",
    "**Note:** What is $\\sqrt{1,000,000}$?"
   ]
  },
  {
   "cell_type": "code",
   "execution_count": 4,
   "metadata": {},
   "outputs": [],
   "source": [
    "# try testing 1000003\n"
   ]
  },
  {
   "cell_type": "markdown",
   "metadata": {},
   "source": [
    "## §4. All Primes Up to `n`\n",
    "\n",
    "Suppose I want to find all primes up to `n`, returned as a list. \n",
    "\n",
    "First, write a **very short** function which does this using `fast_is_prime()` from above. \n",
    "\n",
    "How short can you make this function definition? Can you get it into a single line using (conditional) list comprehensions and `lambda` notation? \n",
    "\n",
    "Test your function by returning all primes up to 20. \n",
    "\n",
    "**Note**: `1` is not a prime number. "
   ]
  },
  {
   "cell_type": "code",
   "execution_count": 5,
   "metadata": {},
   "outputs": [],
   "source": [
    "# write primes_up_to(n) here\n"
   ]
  },
  {
   "cell_type": "markdown",
   "metadata": {},
   "source": [
    "## §5. Another Approach\n",
    "\n",
    "So far, we are testing whether each individual number is prime. This is inefficient. In fact, a number `n` is prime if and only if it is not divisible by any *prime number* `p` such that `p < n`. In other words, we could make our function even faster if we used knowledge of previous primes when checking the next one. \n",
    "\n",
    "Write a function called `primes_up_to_2(n)` which uses this idea. Here's the pseudocode: \n",
    "\n",
    "1. Create and update a list of known primes, which starts off empty. \n",
    "2. For each `k < n`, check whether `k` is divisible by any primes on the list. If not, add `k` to the list. \n",
    "3. Finally, return the list. \n",
    "\n",
    "**Note**: This code may be a little slower than your previous function -- that's ok! We'll speed it up in a bit. \n",
    "\n",
    "**Hint**: in this and the following part, if you find it helpful, you may initialize the list of primes with value `primes = [2,3]`. `1` is not prime!\n",
    "\n"
   ]
  },
  {
   "cell_type": "code",
   "execution_count": null,
   "metadata": {},
   "outputs": [],
   "source": [
    "# write primes_up_to_2(n) here\n"
   ]
  },
  {
   "cell_type": "markdown",
   "metadata": {},
   "source": [
    "Now use `%timeit` to compare the speed of your two implementations, and comment on the result.  Check the time for both small and large numbers of `n`."
   ]
  },
  {
   "cell_type": "code",
   "execution_count": null,
   "metadata": {},
   "outputs": [],
   "source": [
    "# timing tests here\n"
   ]
  },
  {
   "cell_type": "markdown",
   "metadata": {},
   "source": [
    "---\n",
    "\n",
    "If you've made it this far, **great job**! If there are more than 5 minutes left in Discussion, go ahead and continue on to the remaining part, in which you'll create an even faster `primes_up_to` function. Otherwise, feel free to submit your worksheet. Finding some time to work with your group to complete the worksheet is optional but heartily recommended. \n",
    "\n",
    "---"
   ]
  },
  {
   "cell_type": "markdown",
   "metadata": {},
   "source": [
    "## §6. Ludicrous Speed\n",
    "\n",
    "<figure class=\"image\" style=\"width:80%\">\n",
    "  <img src=\"https://i.pinimg.com/600x315/53/3e/26/533e26bd14ce97d4818be53fb174794f.jpg\" alt=\"\">\n",
    "  <figcaption><i></i></figcaption>\n",
    "</figure>\n",
    "\n",
    "When we implemented `primes_up_to_2(n)`, we used one useful piece of information, but we \"forgot\" about the $\\sqrt{n}$ thing. More specifically, it's sufficient to check whether `n` is divisible by any prime *less than or equal to* $\\sqrt{n}$ . Write a new function called `fast_primes_up_to(n)` which uses this idea. You can do this by making modifications to `primes_up_to_2(n)` from the previous part."
   ]
  },
  {
   "cell_type": "code",
   "execution_count": null,
   "metadata": {},
   "outputs": [],
   "source": [
    "# write fast_primes_up_to(n) here\n"
   ]
  },
  {
   "cell_type": "markdown",
   "metadata": {},
   "source": [
    "Use `%timeit` one more time to compare your three implementations, and comment on the result. "
   ]
  },
  {
   "cell_type": "code",
   "execution_count": null,
   "metadata": {},
   "outputs": [],
   "source": [
    "# timing tests here\n"
   ]
  }
 ],
 "metadata": {
  "kernelspec": {
   "display_name": "Python 3",
   "language": "python",
   "name": "python3"
  },
  "language_info": {
   "codemirror_mode": {
    "name": "ipython",
    "version": 3
   },
   "file_extension": ".py",
   "mimetype": "text/x-python",
   "name": "python",
   "nbconvert_exporter": "python",
   "pygments_lexer": "ipython3",
   "version": "3.8.8"
  }
 },
 "nbformat": 4,
 "nbformat_minor": 4
}
