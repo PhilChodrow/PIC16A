{
 "cells": [
  {
   "cell_type": "markdown",
   "metadata": {},
   "source": [
    "# Basic Tic-Tac-Toe\n",
    "\n",
    "### Group Members and Roles\n",
    "\n",
    "- Group Member 1 (Role)\n",
    "- Group Member 2 (Role)\n",
    "- Group Member 3 (Role)\n",
    "\n",
    "### Intro\n",
    "\n",
    "In this activity, we'll work in groups to write a very simple version of the game [Tic-Tac-Toe](https://en.wikipedia.org/wiki/Tic-tac-toe). As you may know, Tic-Tac-Toe is a two-player game. \n",
    "\n",
    "- The game starts with an empty 3x3 grid: \n",
    "\n",
    "``` \n",
    ". . .\n",
    ". . .\n",
    ". . .\n",
    "```\n",
    "- Player 1 places an X in one of the 9 grid squares. \n",
    "- Player 2 places an O in one of the remaining 8 grid squares.\n",
    "- The players alternate until no grid squares remain. \n",
    "- A player wins if any row, column, or diagonal contains 3 copies of their symbol; if no player wins, the game ends in a draw. Here is an example of a game in which the O player has won (on the diagonal) after the 6th turn. \n",
    "\n",
    "```\n",
    "O X . \n",
    "X O .\n",
    "X . O\n",
    "```\n",
    "\n",
    "In this activity, we won't worry about evaluating which player has won -- instead, we'll focus on writing code that will allow players to place their symbols and visualize the grid. \n",
    "\n",
    "This activity will ask you to write a single, large chunk of code, which may appear somewhat disorganized. In future lectures, we'll discuss *functions*, which offer convenient ways to break large operations into simpler operations that are easier to manage. "
   ]
  },
  {
   "cell_type": "markdown",
   "metadata": {},
   "source": [
    "As often in programming, we'll start from the end and work our way back toward the beginning. In Parts (A)-(C), I will give you the code block, and your task is to describe in words what it does. Note: the operation of several of these code blocks may appear somewhat cryptic in isolation -- just interpret what you see. \n",
    "\n",
    "**Note**: you are free to run the code! But you'll need to reason about the structure of the code, in addition to observing the output, in order to understand what is going on. \n",
    "\n",
    "## § Part (A)"
   ]
  },
  {
   "cell_type": "code",
   "execution_count": 1,
   "metadata": {},
   "outputs": [
    {
     "name": "stdout",
     "output_type": "stream",
     "text": [
      "Player, please enter your move:0 0 \n",
      "Player, please enter your move:I win!\n",
      "good job\n"
     ]
    }
   ],
   "source": [
    "while True: \n",
    "    current_move = input(\"Player, please enter your move:\")\n",
    "    if current_move == \"I win!\":\n",
    "        print(\"good job\")\n",
    "        break"
   ]
  },
  {
   "cell_type": "markdown",
   "metadata": {},
   "source": [
    "## Solution\n",
    "\n",
    "Prompts user for input, until the user enters I win!. Then prints good job and finishes"
   ]
  },
  {
   "cell_type": "markdown",
   "metadata": {},
   "source": [
    "## § Part (B)"
   ]
  },
  {
   "cell_type": "code",
   "execution_count": 3,
   "metadata": {},
   "outputs": [
    {
     "data": {
      "text/plain": [
       "[['.', '.', '.'], ['.', '.', '.'], ['.', '.', '.']]"
      ]
     },
     "execution_count": 3,
     "metadata": {},
     "output_type": "execute_result"
    }
   ],
   "source": [
    "n = 3\n",
    "grid = [[\".\" for i in range(n)] for j in range(n)]\n",
    "grid\n"
   ]
  },
  {
   "cell_type": "markdown",
   "metadata": {},
   "source": [
    "## Solution\n",
    "\n",
    "List of lists, all entries are \".\""
   ]
  },
  {
   "cell_type": "markdown",
   "metadata": {},
   "source": [
    "## § Part (C)\n",
    "\n",
    "For this code to run, you'll need to run the code in Part (B) if you haven't done so already. \n",
    "\n",
    "*Hint: By default, `print(a)` will add a newline (`\\n`) after printing `a`. You can modify this behavior (to print rows) by using `print(a, end = \" \")`.*"
   ]
  },
  {
   "cell_type": "code",
   "execution_count": 5,
   "metadata": {},
   "outputs": [
    {
     "name": "stdout",
     "output_type": "stream",
     "text": [
      ". . . \n",
      "\n",
      ". . . \n",
      "\n",
      ". . . \n",
      "\n"
     ]
    }
   ],
   "source": [
    "for i in range(n):\n",
    "    for j in range(n):\n",
    "        print(grid[i][j], end = \" \")\n",
    "    print(\"\\n\")"
   ]
  },
  {
   "cell_type": "markdown",
   "metadata": {},
   "source": [
    "## Solution\n",
    "\n",
    "Prints the grid in the proper format. Uses \\n at the end of rows to go to new line. Uses end=\" \" to avoid starting a new line at each step\n"
   ]
  },
  {
   "cell_type": "markdown",
   "metadata": {},
   "source": [
    "## § Part (D)\n",
    "\n",
    "Now we are going to ask you to start synthesizing and modifying the code shown in parts **(A)--(C)** to produce a functioning Tic-Tac-Toe game. \n",
    "\n",
    "Use your understanding of the code shown in parts **(A)--(C)** to create a block of code which will: \n",
    "\n",
    "- Initialize the empty `grid` as in **(B)**. \n",
    "- Prompt the user until the user says \"I win!\", as in **(A)**. \n",
    "    - If the user gives any other input, print the grid, as in **(C)**. \n",
    "\n",
    "***Hint***: use `if-else` to check whether to terminate the loop or print the grid. <br>\n",
    "***Hint***: you may find it useful to modify the code from **(B)** so that another symbol (like `\".\"`) is printed instead of `\" \"`. \n",
    "\n",
    "You will not need to write much code (after you copy-paste from **(A)--(C)**).\n",
    "\n",
    "At this stage, it is not necessary to request or use any other input from the user. "
   ]
  },
  {
   "cell_type": "code",
   "execution_count": 8,
   "metadata": {},
   "outputs": [
    {
     "name": "stdout",
     "output_type": "stream",
     "text": [
      "Player, please enter your move:0 0\n",
      ". . . \n",
      "\n",
      ". . . \n",
      "\n",
      ". . . \n",
      "\n",
      "Player, please enter your move:0 1\n",
      ". . . \n",
      "\n",
      ". . . \n",
      "\n",
      ". . . \n",
      "\n",
      "Player, please enter your move:I win!\n",
      "good job\n"
     ]
    }
   ],
   "source": [
    "# your solution here\n",
    "\n",
    "## first, initialize the empty grid using the code from (b)\n",
    "n = 3\n",
    "grid = [[\".\" for i in range(n)] for j in range(n)]\n",
    "\n",
    "\n",
    "\n",
    "## then, until the user types \"I win!\":\n",
    "### prompt the user for input\n",
    "### if the input is \"I win!\", exit the loop\n",
    "### otherwise, print the grid using the code from (c)\n",
    "while True: \n",
    "    current_move = input(\"Player, please enter your move:\")\n",
    "    if current_move == \"I win!\":\n",
    "        print(\"good job\")\n",
    "        break\n",
    "    else:\n",
    "        for i in range(n):\n",
    "            for j in range(n):\n",
    "                print(grid[i][j], end = \" \")\n",
    "            print(\"\\n\")"
   ]
  },
  {
   "cell_type": "markdown",
   "metadata": {},
   "source": [
    "## § Part (E)\n",
    "\n",
    "Next, study the following code block. What does it do? "
   ]
  },
  {
   "cell_type": "code",
   "execution_count": 9,
   "metadata": {},
   "outputs": [
    {
     "name": "stdout",
     "output_type": "stream",
     "text": [
      "Player X, please enter your move:0 0\n",
      "Player O, please enter your move:1 1\n",
      "Player X, please enter your move:0 0 \n",
      "Player O, please enter your move:0 \n",
      "Player X, please enter your move:0\n",
      "Player O, please enter your move:0\n",
      "Player X, please enter your move:0\n",
      "Player O, please enter your move:0\n",
      "Player X, please enter your move:00\n",
      "Player O, please enter your move:0\n"
     ]
    }
   ],
   "source": [
    "turn = 0\n",
    "while turn < 10:\n",
    "    if turn % 2 == 0:\n",
    "        player = \"X\"\n",
    "    else:\n",
    "        player = \"O\"\n",
    "\n",
    "    current_move = input(\"Player \" + player + \", please enter your move:\")\n",
    "    turn += 1"
   ]
  },
  {
   "cell_type": "markdown",
   "metadata": {},
   "source": [
    "Once you feel comfortable with the above, copy your code from **(D)** into the code block below, and begin to modify it using the ideas illustrated immediately above. \n",
    "\n",
    "Your new code should include a `turn` variable which keeps track of whose turn it is. Additionally, your code should prompt each player (\"Player X\" and \"Player O\") on the appropriate turns. \n",
    "\n",
    "The code block above has most of the required pieces -- you just need to slot them in. "
   ]
  },
  {
   "cell_type": "code",
   "execution_count": 11,
   "metadata": {},
   "outputs": [
    {
     "name": "stdout",
     "output_type": "stream",
     "text": [
      "Player X, please enter your move:0 0 \n",
      ". . . \n",
      "\n",
      ". . . \n",
      "\n",
      ". . . \n",
      "\n",
      "Player O, please enter your move:0 1\n",
      ". . . \n",
      "\n",
      ". . . \n",
      "\n",
      ". . . \n",
      "\n",
      "Player X, please enter your move:1 2\n",
      ". . . \n",
      "\n",
      ". . . \n",
      "\n",
      ". . . \n",
      "\n",
      "Player O, please enter your move:I win!\n",
      "good job\n"
     ]
    }
   ],
   "source": [
    "# your solution here\n",
    "# your solution here\n",
    "\n",
    "## first, initialize the empty grid using the code from (b)\n",
    "n = 3\n",
    "grid = [[\".\" for i in range(n)] for j in range(n)]\n",
    "\n",
    "\n",
    "\n",
    "## then, until the user types \"I win!\":\n",
    "### prompt the user for input\n",
    "### if the input is \"I win!\", exit the loop\n",
    "### otherwise, print the grid using the code from (c)\n",
    "turn = 0\n",
    "\n",
    "\n",
    "while True: \n",
    "    if turn % 2 == 0:\n",
    "        player = \"X\"\n",
    "    else:\n",
    "        player = \"O\"\n",
    "\n",
    "    \n",
    "    current_move = input(\"Player \" + player + \", please enter your move:\")\n",
    "    if current_move == \"I win!\":\n",
    "        print(\"good job\")\n",
    "        break\n",
    "    else:\n",
    "        for i in range(n):\n",
    "            for j in range(n):\n",
    "                print(grid[i][j], end = \" \")\n",
    "            print(\"\\n\")\n",
    "    turn += 1"
   ]
  },
  {
   "cell_type": "markdown",
   "metadata": {},
   "source": [
    "## § Part (F)\n",
    "\n",
    "Now, allow both players to make moves. If Player X enters two integers separated by a space, then place an \"X\" in the corresponding grid position. You may assume that both players will always input either \"I win!\" or two nonnegative integers no larger than `n-1`. For now, you may assume that the players will not attempt to make a move on a square that is already occupied. \n",
    "\n",
    "***Hint***: the following block illustrates how to get two integer coordinates from the user input. \n",
    "\n",
    "```python\n",
    "current_move = \"1 1\"\n",
    "coords = current_move.split()\n",
    "```"
   ]
  },
  {
   "cell_type": "code",
   "execution_count": 12,
   "metadata": {},
   "outputs": [
    {
     "name": "stdout",
     "output_type": "stream",
     "text": [
      "Player X, please enter your move:0 0 \n",
      "X . . \n",
      "\n",
      ". . . \n",
      "\n",
      ". . . \n",
      "\n",
      "Player O, please enter your move:0 1\n",
      "X O . \n",
      "\n",
      ". . . \n",
      "\n",
      ". . . \n",
      "\n",
      "Player X, please enter your move:1 0\n",
      "X O . \n",
      "\n",
      "X . . \n",
      "\n",
      ". . . \n",
      "\n",
      "Player O, please enter your move:0 2\n",
      "X O O \n",
      "\n",
      "X . . \n",
      "\n",
      ". . . \n",
      "\n",
      "Player X, please enter your move:I win!\n",
      "good job\n"
     ]
    }
   ],
   "source": [
    "# your solution here\n",
    "# your solution here\n",
    "\n",
    "## first, initialize the empty grid using the code from (b)\n",
    "n = 3\n",
    "grid = [[\".\" for i in range(n)] for j in range(n)]\n",
    "\n",
    "\n",
    "\n",
    "## then, until the user types \"I win!\":\n",
    "### prompt the user for input\n",
    "### if the input is \"I win!\", exit the loop\n",
    "### otherwise, print the grid using the code from (c)\n",
    "turn = 0\n",
    "\n",
    "\n",
    "while True: \n",
    "    if turn % 2 == 0:\n",
    "        player = \"X\"\n",
    "    else:\n",
    "        player = \"O\"\n",
    "\n",
    "    \n",
    "    current_move = input(\"Player \" + player + \", please enter your move:\")\n",
    "    if current_move == \"I win!\":\n",
    "        print(\"good job\")\n",
    "        break\n",
    "    else:\n",
    "        coords = current_move.split()\n",
    "        row = int(coords[0])\n",
    "        col = int(coords[1])\n",
    "        \n",
    "        grid[row][col]=player\n",
    "        \n",
    "        for i in range(n):\n",
    "            for j in range(n):\n",
    "                print(grid[i][j], end = \" \")\n",
    "            print(\"\\n\")\n",
    "    turn += 1"
   ]
  },
  {
   "cell_type": "markdown",
   "metadata": {},
   "source": [
    "## § Part (G)\n",
    "\n",
    "Now modify your code so that, if the player attempts to make a move in a space that is already occupied, then ask the player for a different move. \n",
    "\n",
    "***Hint***: `continue` will return immediately to the beginning of the `while`-loop, and may be useful for reprompting after invalid inputs."
   ]
  },
  {
   "cell_type": "code",
   "execution_count": 13,
   "metadata": {},
   "outputs": [
    {
     "name": "stdout",
     "output_type": "stream",
     "text": [
      "Player X, please enter your move:0 0\n",
      "X . . \n",
      "\n",
      ". . . \n",
      "\n",
      ". . . \n",
      "\n",
      "Player O, please enter your move:2 2\n",
      "X . . \n",
      "\n",
      ". . . \n",
      "\n",
      ". . O \n",
      "\n",
      "Player X, please enter your move:0 1\n",
      "X X . \n",
      "\n",
      ". . . \n",
      "\n",
      ". . O \n",
      "\n",
      "Player O, please enter your move:0 2\n",
      "X X O \n",
      "\n",
      ". . . \n",
      "\n",
      ". . O \n",
      "\n",
      "Player X, please enter your move:1 1\n",
      "X X O \n",
      "\n",
      ". X . \n",
      "\n",
      ". . O \n",
      "\n",
      "Player O, please enter your move:1 2\n",
      "X X O \n",
      "\n",
      ". X O \n",
      "\n",
      ". . O \n",
      "\n",
      "Player X, please enter your move:I win!\n",
      "good job\n"
     ]
    }
   ],
   "source": [
    "# your solution here\n",
    "# your solution here\n",
    "# your solution here\n",
    "\n",
    "## first, initialize the empty grid using the code from (b)\n",
    "n = 3\n",
    "grid = [[\".\" for i in range(n)] for j in range(n)]\n",
    "\n",
    "\n",
    "\n",
    "## then, until the user types \"I win!\":\n",
    "### prompt the user for input\n",
    "### if the input is \"I win!\", exit the loop\n",
    "### otherwise, print the grid using the code from (c)\n",
    "turn = 0\n",
    "\n",
    "\n",
    "while True: \n",
    "    if turn % 2 == 0:\n",
    "        player = \"X\"\n",
    "    else:\n",
    "        player = \"O\"\n",
    "\n",
    "    \n",
    "    current_move = input(\"Player \" + player + \", please enter your move:\")\n",
    "    if current_move == \"I win!\":\n",
    "        print(\"good job\")\n",
    "        break\n",
    "    else:\n",
    "        coords = current_move.split()\n",
    "        row = int(coords[0])\n",
    "        col = int(coords[1])\n",
    "        \n",
    "        if grid[row][col]==\".\":\n",
    "            grid[row][col]=player\n",
    "        else:\n",
    "            print(\"Position occupied, please enter a valid move\")\n",
    "            continue\n",
    "        \n",
    "        for i in range(n):\n",
    "            for j in range(n):\n",
    "                print(grid[i][j], end = \" \")\n",
    "            print(\"\\n\")\n",
    "    turn += 1"
   ]
  },
  {
   "cell_type": "markdown",
   "metadata": {},
   "source": [
    "## § Part (H)\n",
    "\n",
    "Add comments to the important parts of your code and turn it in. Your comments should make clear which parts of your code are: \n",
    "\n",
    "- Initializing the grid. \n",
    "- Updating the grid. \n",
    "- Prompting the user. \n",
    "- Checking for the validity of moves. \n",
    "- Keeping track of turns. "
   ]
  },
  {
   "cell_type": "code",
   "execution_count": null,
   "metadata": {},
   "outputs": [],
   "source": [
    "# your solution here\n"
   ]
  },
  {
   "cell_type": "markdown",
   "metadata": {},
   "source": [
    "# Example Session\n",
    "\n",
    "Here is an example of the session output in a complete solution. In the final move, Player X types \"I win!\" instead of making their winning move at (2, 1). \n",
    "?\n",
    "```\n",
    "Player X, please enter your move: 1 1\n",
    "         \n",
    ". . .\n",
    ". X .    \n",
    ". . .\n",
    "         \n",
    "Player O, please enter your move: 0 0\n",
    "\n",
    "O . .       \n",
    ". X .     \n",
    ". . .\n",
    "         \n",
    "Player X, please enter your move: 0 1\n",
    "\n",
    "O X .     \n",
    ". X .\n",
    ". . .\n",
    "\n",
    "Player O, please enter your move: 2 0\n",
    "\n",
    "O X .     \n",
    ". X .\n",
    "0 . .\n",
    "\n",
    "Player X, please enter your move: I win!\n",
    "good job\n",
    "```"
   ]
  }
 ],
 "metadata": {
  "kernelspec": {
   "display_name": "Python 3",
   "language": "python",
   "name": "python3"
  },
  "language_info": {
   "codemirror_mode": {
    "name": "ipython",
    "version": 3
   },
   "file_extension": ".py",
   "mimetype": "text/x-python",
   "name": "python",
   "nbconvert_exporter": "python",
   "pygments_lexer": "ipython3",
   "version": "3.8.8"
  }
 },
 "nbformat": 4,
 "nbformat_minor": 4
}
