{
 "cells": [
  {
   "cell_type": "markdown",
   "id": "b6d25033",
   "metadata": {},
   "source": [
    "# Getting started with functions is easy"
   ]
  },
  {
   "cell_type": "code",
   "execution_count": 1,
   "id": "fc83c7f8",
   "metadata": {},
   "outputs": [],
   "source": []
  },
  {
   "cell_type": "code",
   "execution_count": 2,
   "id": "952359bf",
   "metadata": {},
   "outputs": [],
   "source": []
  },
  {
   "cell_type": "markdown",
   "id": "213a1f1e",
   "metadata": {},
   "source": [
    "### Let's test these out "
   ]
  },
  {
   "cell_type": "code",
   "execution_count": null,
   "id": "10e2334a",
   "metadata": {},
   "outputs": [],
   "source": []
  },
  {
   "cell_type": "code",
   "execution_count": 4,
   "id": "4765980c",
   "metadata": {},
   "outputs": [],
   "source": []
  },
  {
   "cell_type": "code",
   "execution_count": null,
   "id": "aba1e864",
   "metadata": {},
   "outputs": [],
   "source": []
  },
  {
   "cell_type": "markdown",
   "id": "32aea7b9",
   "metadata": {},
   "source": [
    "__Biggest Difference between Pythn and C++:__ don't have to specify types. This can be good or bad."
   ]
  },
  {
   "cell_type": "code",
   "execution_count": 2,
   "id": "4bcbe1d4",
   "metadata": {},
   "outputs": [],
   "source": [
    "#this works\n"
   ]
  },
  {
   "cell_type": "code",
   "execution_count": 1,
   "id": "25e86796",
   "metadata": {},
   "outputs": [],
   "source": [
    "#error\n"
   ]
  },
  {
   "cell_type": "markdown",
   "id": "4bdaf369",
   "metadata": {},
   "source": [
    "Functions can either have a return or no return. In C++ we said functions with no return were called Procedures and we had return type void."
   ]
  },
  {
   "cell_type": "code",
   "execution_count": null,
   "id": "4d591a5e",
   "metadata": {},
   "outputs": [],
   "source": []
  },
  {
   "cell_type": "code",
   "execution_count": null,
   "id": "3728b4cb",
   "metadata": {},
   "outputs": [],
   "source": []
  },
  {
   "cell_type": "code",
   "execution_count": null,
   "id": "2459bef1",
   "metadata": {},
   "outputs": [],
   "source": []
  },
  {
   "cell_type": "markdown",
   "id": "6f8b971e",
   "metadata": {},
   "source": [
    "When there is no return, the function returns a \"NoneType\" variable"
   ]
  },
  {
   "cell_type": "markdown",
   "id": "793065b1",
   "metadata": {},
   "source": [
    "You can also use return without a return value "
   ]
  },
  {
   "cell_type": "code",
   "execution_count": null,
   "id": "87077d4e",
   "metadata": {},
   "outputs": [],
   "source": []
  },
  {
   "cell_type": "code",
   "execution_count": null,
   "id": "bd2e5131",
   "metadata": {},
   "outputs": [],
   "source": []
  },
  {
   "cell_type": "markdown",
   "id": "f7ccc33b",
   "metadata": {},
   "source": [
    "return is useful if you want to break out of a function inside an if loop or something"
   ]
  },
  {
   "cell_type": "markdown",
   "id": "e35fa333",
   "metadata": {},
   "source": [
    "### How to picture a function?"
   ]
  },
  {
   "cell_type": "code",
   "execution_count": 2,
   "id": "c9a4b6a7",
   "metadata": {},
   "outputs": [],
   "source": [
    "#simplest possible function\n"
   ]
  },
  {
   "cell_type": "code",
   "execution_count": null,
   "id": "85296868",
   "metadata": {},
   "outputs": [],
   "source": []
  },
  {
   "cell_type": "code",
   "execution_count": null,
   "id": "893e790c",
   "metadata": {},
   "outputs": [],
   "source": []
  },
  {
   "cell_type": "markdown",
   "id": "7fe1cb49",
   "metadata": {},
   "source": [
    "Functions are just another type of variable"
   ]
  },
  {
   "cell_type": "markdown",
   "id": "6d5767fa",
   "metadata": {},
   "source": [
    "This means, the following is allowed "
   ]
  },
  {
   "cell_type": "code",
   "execution_count": null,
   "id": "604c5082",
   "metadata": {},
   "outputs": [],
   "source": []
  },
  {
   "cell_type": "code",
   "execution_count": null,
   "id": "a93046b1",
   "metadata": {},
   "outputs": [],
   "source": []
  },
  {
   "cell_type": "code",
   "execution_count": null,
   "id": "d4b5b3d8",
   "metadata": {},
   "outputs": [],
   "source": []
  },
  {
   "cell_type": "markdown",
   "id": "eb679af4",
   "metadata": {},
   "source": [
    "Functions are just like any other variable, which makes it easy to pass functions into functions"
   ]
  },
  {
   "cell_type": "code",
   "execution_count": 22,
   "id": "15137f82",
   "metadata": {},
   "outputs": [],
   "source": []
  },
  {
   "cell_type": "code",
   "execution_count": null,
   "id": "be7ad074",
   "metadata": {},
   "outputs": [],
   "source": []
  },
  {
   "cell_type": "markdown",
   "id": "af35f1b9",
   "metadata": {},
   "source": [
    "(Passing functions into functions in C++ is very hard) but having functions just be another type of variable fixes this problem. However, it creates other complications.\n",
    "\n"
   ]
  },
  {
   "cell_type": "code",
   "execution_count": 3,
   "id": "d49a238a",
   "metadata": {},
   "outputs": [],
   "source": [
    "#what does this code do?\n",
    "def f(L):\n",
    "    L=[0]\n",
    "    \n",
    "x=[]\n",
    "f(x)\n",
    "\n",
    "#print(x)"
   ]
  },
  {
   "cell_type": "code",
   "execution_count": 4,
   "id": "7aced78f",
   "metadata": {},
   "outputs": [],
   "source": [
    "#what does this code do?\n"
   ]
  },
  {
   "cell_type": "markdown",
   "id": "b23e936f",
   "metadata": {},
   "source": [
    "How function calls work in C++\n",
    "\n",
    "\n",
    "THIS CODE \n",
    "\n",
    "int f(int i) {\n",
    "    cout << i << endl;\n",
    "    i=i+1;\n",
    "    cout << i << endl;\n",
    "    \n",
    "   return i;\n",
    "   }\n",
    "   \n",
    "int main(){\n",
    "    int j1=0;\n",
    "    \n",
    "   int j2=f(j1);\n",
    "   \n",
    "   cout << j1 << \" \" << i2<<endl;\n",
    "   \n",
    "   return 0;\n",
    "   \n",
    "   }\n",
    "   \n",
    "IS EQUIVALENT TO THIS CODE\n",
    "\n",
    "\n",
    "int main(){\n",
    "    int j1=0;\n",
    "    \n",
    "   int j2;\n",
    "   \n",
    "   {#create a scope\n",
    "       int i=j1;\n",
    "       cout << i << endl;\n",
    "        i=i+1;\n",
    "        cout << i << endl;\n",
    "        j2=i #j2 lives in the global scope so it survives when we end the curly braces\n",
    "   }\n",
    "   \n",
    "   cout << j1 << \" \" << i2<<endl;\n",
    "   \n",
    "   return 0;\n",
    "   \n",
    "   }"
   ]
  },
  {
   "cell_type": "markdown",
   "id": "abd841c5",
   "metadata": {},
   "source": [
    "Recap: function calls\n",
    "1) create global  variable\n",
    "\n",
    "2) creat a local scope and do parameter assignments\n",
    "\n",
    "3) run the code inside  the function \n",
    "\n",
    "4) pass return value to a global variable"
   ]
  },
  {
   "cell_type": "markdown",
   "id": "883ef8a6",
   "metadata": {},
   "source": [
    "### Now, let's process Python function  calls "
   ]
  },
  {
   "cell_type": "code",
   "execution_count": null,
   "id": "968bf2d3",
   "metadata": {},
   "outputs": [],
   "source": []
  },
  {
   "cell_type": "code",
   "execution_count": null,
   "id": "caab7aeb",
   "metadata": {},
   "outputs": [],
   "source": []
  },
  {
   "cell_type": "markdown",
   "id": "9fa54ee8",
   "metadata": {},
   "source": [
    "Recall objects are only garbage collected if there is nothing pointing to them "
   ]
  },
  {
   "cell_type": "code",
   "execution_count": null,
   "id": "4afa7f7e",
   "metadata": {},
   "outputs": [],
   "source": []
  },
  {
   "cell_type": "markdown",
   "id": "00c0d0e0",
   "metadata": {},
   "source": [
    "Pass by value vs pass by ref?\n",
    "\n",
    "First thing we do is make a new varible L who gets the value of x, so its pass by value, but we are really \n",
    "having L reference to the same object as x, so \"value is not value, value is reference\""
   ]
  },
  {
   "cell_type": "markdown",
   "id": "9536c440",
   "metadata": {},
   "source": [
    "Now let's think about scope "
   ]
  },
  {
   "cell_type": "code",
   "execution_count": 40,
   "id": "47bd83fe",
   "metadata": {},
   "outputs": [],
   "source": []
  },
  {
   "cell_type": "code",
   "execution_count": 42,
   "id": "72c459a8",
   "metadata": {},
   "outputs": [],
   "source": []
  },
  {
   "cell_type": "code",
   "execution_count": null,
   "id": "cd9a4efe",
   "metadata": {},
   "outputs": [],
   "source": []
  },
  {
   "cell_type": "markdown",
   "id": "53842062",
   "metadata": {},
   "source": [
    "### can access global variables inside the function!"
   ]
  },
  {
   "cell_type": "code",
   "execution_count": null,
   "id": "7e9eb264",
   "metadata": {},
   "outputs": [],
   "source": []
  },
  {
   "cell_type": "code",
   "execution_count": 46,
   "id": "7b0eaee7",
   "metadata": {},
   "outputs": [],
   "source": []
  },
  {
   "cell_type": "code",
   "execution_count": 49,
   "id": "c1bef18a",
   "metadata": {},
   "outputs": [],
   "source": []
  },
  {
   "cell_type": "code",
   "execution_count": null,
   "id": "6edf857c",
   "metadata": {},
   "outputs": [],
   "source": []
  },
  {
   "cell_type": "markdown",
   "id": "a1bd1a9e",
   "metadata": {},
   "source": [
    "We modified a global variable in the local scope.\n",
    "\n",
    "___Rule for when is something local or global, the only rule:___ If a varible is assigned to during a function call, then it is local, otherwise it is global. (This includes parameters)"
   ]
  },
  {
   "cell_type": "code",
   "execution_count": 56,
   "id": "81e6066f",
   "metadata": {},
   "outputs": [
    {
     "name": "stdout",
     "output_type": "stream",
     "text": [
      "[]\n"
     ]
    }
   ],
   "source": [
    "def f():\n",
    "    L=[]\n",
    "    L.append(0)\n",
    "    \n",
    "L=[]\n",
    "f()\n",
    "#when a function is called,  \n",
    "#1) first thing that happens is a local symbol table is creatted\n",
    "#1A) All local variables are created \n",
    "#2) Arguments are assigned to parameters\n",
    "#3) Code inside the function\n",
    "#4) Delete local symbol table\n",
    "print(L)"
   ]
  },
  {
   "cell_type": "code",
   "execution_count": 53,
   "id": "21d6b68f",
   "metadata": {},
   "outputs": [
    {
     "name": "stdout",
     "output_type": "stream",
     "text": [
      "[0]\n"
     ]
    }
   ],
   "source": [
    "#almost the same example\n",
    "def f():\n",
    "    #L=[]  #only difference\n",
    "    L.append(0)\n",
    "    \n",
    "L=[]\n",
    "f()\n",
    "print(L)"
   ]
  },
  {
   "cell_type": "code",
   "execution_count": null,
   "id": "c7d138d5",
   "metadata": {},
   "outputs": [],
   "source": []
  },
  {
   "cell_type": "code",
   "execution_count": null,
   "id": "bbefeb1f",
   "metadata": {},
   "outputs": [],
   "source": []
  }
 ],
 "metadata": {
  "kernelspec": {
   "display_name": "Python 3",
   "language": "python",
   "name": "python3"
  },
  "language_info": {
   "codemirror_mode": {
    "name": "ipython",
    "version": 3
   },
   "file_extension": ".py",
   "mimetype": "text/x-python",
   "name": "python",
   "nbconvert_exporter": "python",
   "pygments_lexer": "ipython3",
   "version": "3.8.8"
  }
 },
 "nbformat": 4,
 "nbformat_minor": 5
}
