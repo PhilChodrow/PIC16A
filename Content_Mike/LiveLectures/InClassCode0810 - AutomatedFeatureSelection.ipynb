{
 "cells": [
  {
   "cell_type": "markdown",
   "metadata": {},
   "source": [
    "# Automated Feature Selection\n",
    "\n",
    "In this live lecture activity, we are going to consider the problem of how to write algorithms that automatically make reasonable choices about which features to include in machine learning models. There are many approaches to this problem, and we will look at just one. \n",
    "\n",
    "# How do we pick which columns?\n",
    "(For project required to have one qualitative and two quantitative)\n",
    "\n",
    "Idea 1: Try different combos of columns which you think are interesting based on exploratory data analysis\n",
    "\n",
    "Idea 2: Try every possible combo of columns (that meets the requirements)\n",
    "\n",
    "Idea 2 is good because it avoids the chance of overlooking something. Idea 2 is bad because on more complex data sets, there could be $N$ columns for $N>>>0$, and the number of possbile columns would be $N$ choose 3. Which is on the order of $N^3$. Which is massive!\n",
    "\n",
    "Idea 1 has two advantages, faster, and possibly more interpretable\n",
    "\n"
   ]
  },
  {
   "cell_type": "markdown",
   "metadata": {},
   "source": [
    "In today's lecture, we will do something in the middle. Our idea is as following\n",
    "\n",
    "1) Pick one column at random and calculate a CV score.\n",
    "\n",
    "2) Pick a new column at random, add it in and see if the CV scores improves. If so keep it (otherwise don't keep it).\n",
    "\n",
    "3) Pick a random `active` column and remove it. See if CV score improves, if so keep it gone (otherwise leave it in).\n",
    "\n",
    "4) Repeat 2 and 3 over and over a specified number of times "
   ]
  },
  {
   "cell_type": "markdown",
   "metadata": {},
   "source": [
    "## Grab and Prepare the Titanic Data"
   ]
  },
  {
   "cell_type": "code",
   "execution_count": 1,
   "metadata": {},
   "outputs": [],
   "source": [
    "import pandas as pd\n",
    "from matplotlib import pyplot as plt\n",
    "import numpy as np"
   ]
  },
  {
   "cell_type": "code",
   "execution_count": 2,
   "metadata": {},
   "outputs": [],
   "source": [
    "import urllib\n",
    "def retrieve_data(url):\n",
    "    \"\"\"\n",
    "    Retrieve a file from the specified url and save it in a local file \n",
    "    called data.csv. The intended values of url are:     \n",
    "    \"\"\"\n",
    "    \n",
    "    # grab the data and parse it\n",
    "    filedata = urllib.request.urlopen(url) \n",
    "    to_write = filedata.read()\n",
    "    \n",
    "    # write to file\n",
    "    with open(\"data.csv\", \"wb\") as f:\n",
    "        f.write(to_write)\n",
    "\n",
    "retrieve_data(\"https://philchodrow.github.io/PIC16A/datasets/titanic.csv\")\n",
    "titanic = pd.read_csv(\"data.csv\")\n",
    "\n",
    "from sklearn import preprocessing\n",
    "le = preprocessing.LabelEncoder()\n",
    "titanic[\"Sex\"] = le.fit_transform(titanic['Sex'])\n",
    "titanic = titanic.drop([\"Name\"], axis = 1)\n",
    "\n",
    "X = titanic.drop(['Survived'], axis = 1)\n",
    "y = titanic['Survived']"
   ]
  },
  {
   "cell_type": "code",
   "execution_count": 12,
   "metadata": {},
   "outputs": [],
   "source": [
    "\n",
    "    "
   ]
  },
  {
   "cell_type": "markdown",
   "metadata": {},
   "source": [
    "## Greedy Stagewise Feature Selection\n",
    "\n",
    "Here's what we are going to do. We will start with one randomly-chosen \"active\" column. Then, we will do the following a user-specified number of times: \n",
    "\n",
    "1. Compute the CV score of a model using only the active columns, and save it. \n",
    "2. Propose either \"activating\" or \"deactivating\" a column (i.e. adding or removing it from the list of active columns). Compute the CV score. If the CV score has improved, accept the proposal (i.e. add that column to the active set, or remove it)."
   ]
  },
  {
   "cell_type": "markdown",
   "metadata": {},
   "source": [
    "# Part A: Setup"
   ]
  },
  {
   "cell_type": "code",
   "execution_count": 1,
   "metadata": {},
   "outputs": [],
   "source": [
    "#Lets look at the columns of X\n"
   ]
  },
  {
   "cell_type": "code",
   "execution_count": 6,
   "metadata": {},
   "outputs": [],
   "source": [
    "#import Logistic Regression and Cross-val score\n",
    "from sklearn.linear_model import LogisticRegression\n",
    "from sklearn.model_selection import cross_val_score\n",
    "\n",
    "#instantiate a LR model\n",
    "LR=LogisticRegression(solver=\"liblinear\")"
   ]
  },
  {
   "cell_type": "code",
   "execution_count": 14,
   "metadata": {},
   "outputs": [
    {
     "data": {
      "text/plain": [
       "(['Siblings/Spouses Aboard'],\n",
       " ['Pclass', 'Sex', 'Age', 'Parents/Children Aboard', 'Fare'])"
      ]
     },
     "execution_count": 14,
     "metadata": {},
     "output_type": "execute_result"
    }
   ],
   "source": [
    "def initialize_lists(X):\n",
    "\n",
    "    active = [np.random.choice(X.columns)]\n",
    "\n",
    "    inactive=list(X.columns)\n",
    "    inactive.remove(active[0])\n",
    "\n",
    "    return active,inactive\n",
    "active,inactive=initialize_lists(X)\n",
    "active,inactive"
   ]
  },
  {
   "cell_type": "code",
   "execution_count": 16,
   "metadata": {},
   "outputs": [],
   "source": [
    "def move(col,active,inactive,mode=\"activate\"):\n",
    "    \n",
    "    new_active=active.copy()\n",
    "    new_inactive=inactive.copy()\n",
    "    \n",
    "    if mode==\"activate\":\n",
    "        new_inactive.remove(col)\n",
    "        new_active.append(col)\n",
    "    \n",
    "    if mode ==\"deactivate\":\n",
    "        new_active.remove(col)\n",
    "        new_inactive.append(col)\n",
    "    \n",
    "    return new_active,new_inactive\n",
    "\n",
    "\n"
   ]
  },
  {
   "cell_type": "markdown",
   "metadata": {},
   "source": [
    "### Illustrations"
   ]
  },
  {
   "cell_type": "code",
   "execution_count": 18,
   "metadata": {},
   "outputs": [
    {
     "data": {
      "text/plain": [
       "(['Siblings/Spouses Aboard'],\n",
       " ['Pclass', 'Sex', 'Age', 'Parents/Children Aboard', 'Fare'])"
      ]
     },
     "execution_count": 18,
     "metadata": {},
     "output_type": "execute_result"
    }
   ],
   "source": [
    "#If we run multiple times we get different results\n",
    "active,inactive=initialize_lists(X)\n",
    "active,inactive"
   ]
  },
  {
   "cell_type": "code",
   "execution_count": 19,
   "metadata": {},
   "outputs": [
    {
     "data": {
      "text/plain": [
       "(['Siblings/Spouses Aboard', 'Age'],\n",
       " ['Pclass', 'Sex', 'Parents/Children Aboard', 'Fare'])"
      ]
     },
     "execution_count": 19,
     "metadata": {},
     "output_type": "execute_result"
    }
   ],
   "source": [
    "#activate a column\n",
    "active,inactive = move(\"Age\",active,inactive,\"activate\")\n",
    "active,inactive"
   ]
  },
  {
   "cell_type": "code",
   "execution_count": 20,
   "metadata": {},
   "outputs": [
    {
     "data": {
      "text/plain": [
       "(['Age'],\n",
       " ['Pclass',\n",
       "  'Sex',\n",
       "  'Parents/Children Aboard',\n",
       "  'Fare',\n",
       "  'Siblings/Spouses Aboard'])"
      ]
     },
     "execution_count": 20,
     "metadata": {},
     "output_type": "execute_result"
    }
   ],
   "source": [
    "#remove a column\n",
    "active,inactive = move(\"Siblings/Spouses Aboard\",active,inactive,\"deactivate\")\n",
    "active,inactive"
   ]
  },
  {
   "cell_type": "markdown",
   "metadata": {},
   "source": [
    "# Part B: Feature Selection"
   ]
  },
  {
   "cell_type": "code",
   "execution_count": 37,
   "metadata": {},
   "outputs": [],
   "source": [
    "def greedy_selection(model,X,y,n_iter=20):\n",
    "\n",
    "    active,inactive=initialize_lists(X)\n",
    "    best_CV=0\n",
    "    \n",
    "    for i in range(n_iters):\n",
    "        for mode in [\"activate\",\"deactivate\"]:\n",
    "            new_active=active.copy()\n",
    "            new_inactive=inactive.copy()\n",
    "            \n",
    "            #active is a variable that is tied to a list and lists are mutable objects \n",
    "            #so if you just wrote new_active=active\n",
    "            #then appending things to new_active would automatically append things to \n",
    "            # the original list active\n",
    "            \n",
    "            #we don't want this, because we only want to append if the activation is an improvement\n",
    "            \n",
    "            #if you are still a bit confused, when dealing with mutable object such as a list of dataframe\n",
    "            #when in doubt make a copy if you dont want to change your original list by accident\n",
    "\n",
    "        \n",
    "            if mode==\"activate\" and len(inactive)>=1:\n",
    "                col=np.random.choice(inactive)\n",
    "                new_active,new_inactive=move(col,active,inactive,mode)\n",
    "            \n",
    "            elif mode==\"deactivate\" and len(active)>2:\n",
    "                col=np.random.choice(active)\n",
    "                new_active,new_inactive=move(col,active,inactive,mode)\n",
    "            \n",
    "            CV_score=cross_val_score(model,X[new_active],y,cv=5).mean()\n",
    "        \n",
    "            if (CV_score>best_CV) and (len(new_active)>=1):\n",
    "                best_CV=CV_score\n",
    "                active=new_active\n",
    "                inactive=new_inactive\n",
    "            \n",
    "            print(\"Number of columns: \" + str(len(active)) + \". CV score: \" + str(best_CV))\n",
    "    return active"
   ]
  },
  {
   "cell_type": "code",
   "execution_count": 36,
   "metadata": {},
   "outputs": [
    {
     "name": "stdout",
     "output_type": "stream",
     "text": [
      "Number of columns: 2. CV score: 0.6178251761569226\n",
      "Number of columns: 2. CV score: 0.6178251761569226\n",
      "Number of columns: 3. CV score: 0.7880149812734083\n",
      "Number of columns: 3. CV score: 0.7880149812734083\n",
      "Number of columns: 4. CV score: 0.7970418333015934\n",
      "Number of columns: 3. CV score: 0.798178124801625\n",
      "Number of columns: 3. CV score: 0.798178124801625\n",
      "Number of columns: 3. CV score: 0.798178124801625\n",
      "Number of columns: 3. CV score: 0.798178124801625\n",
      "Number of columns: 3. CV score: 0.798178124801625\n",
      "Number of columns: 3. CV score: 0.798178124801625\n",
      "Number of columns: 3. CV score: 0.798178124801625\n",
      "Number of columns: 3. CV score: 0.798178124801625\n",
      "Number of columns: 3. CV score: 0.798178124801625\n",
      "Number of columns: 3. CV score: 0.798178124801625\n",
      "Number of columns: 3. CV score: 0.798178124801625\n",
      "Number of columns: 3. CV score: 0.798178124801625\n",
      "Number of columns: 3. CV score: 0.798178124801625\n",
      "Number of columns: 3. CV score: 0.798178124801625\n",
      "Number of columns: 3. CV score: 0.798178124801625\n",
      "Number of columns: 3. CV score: 0.798178124801625\n",
      "Number of columns: 3. CV score: 0.798178124801625\n",
      "Number of columns: 3. CV score: 0.798178124801625\n",
      "Number of columns: 3. CV score: 0.798178124801625\n",
      "Number of columns: 3. CV score: 0.798178124801625\n",
      "Number of columns: 3. CV score: 0.798178124801625\n",
      "Number of columns: 3. CV score: 0.798178124801625\n",
      "Number of columns: 3. CV score: 0.798178124801625\n",
      "Number of columns: 3. CV score: 0.798178124801625\n",
      "Number of columns: 3. CV score: 0.798178124801625\n",
      "Number of columns: 3. CV score: 0.798178124801625\n",
      "Number of columns: 3. CV score: 0.798178124801625\n",
      "Number of columns: 3. CV score: 0.798178124801625\n",
      "Number of columns: 3. CV score: 0.798178124801625\n",
      "Number of columns: 3. CV score: 0.798178124801625\n",
      "Number of columns: 3. CV score: 0.798178124801625\n",
      "Number of columns: 3. CV score: 0.798178124801625\n",
      "Number of columns: 3. CV score: 0.798178124801625\n",
      "Number of columns: 3. CV score: 0.798178124801625\n",
      "Number of columns: 3. CV score: 0.798178124801625\n"
     ]
    },
    {
     "data": {
      "text/plain": [
       "['Siblings/Spouses Aboard', 'Sex', 'Pclass']"
      ]
     },
     "execution_count": 36,
     "metadata": {},
     "output_type": "execute_result"
    }
   ],
   "source": [
    "active=greedy_selection(LR,X,y)\n",
    "active"
   ]
  },
  {
   "cell_type": "markdown",
   "metadata": {},
   "source": [
    "# why is this not the right method for your project?\n",
    "\n",
    "1. This method is not guaranteed to produce three columns\n",
    "\n",
    "2. Also not guaranteed to select a \"qualitative column\""
   ]
  },
  {
   "cell_type": "markdown",
   "metadata": {},
   "source": []
  },
  {
   "cell_type": "markdown",
   "metadata": {},
   "source": []
  },
  {
   "cell_type": "code",
   "execution_count": null,
   "metadata": {},
   "outputs": [],
   "source": []
  },
  {
   "cell_type": "code",
   "execution_count": null,
   "metadata": {},
   "outputs": [],
   "source": []
  }
 ],
 "metadata": {
  "kernelspec": {
   "display_name": "Python 3",
   "language": "python",
   "name": "python3"
  },
  "language_info": {
   "codemirror_mode": {
    "name": "ipython",
    "version": 3
   },
   "file_extension": ".py",
   "mimetype": "text/x-python",
   "name": "python",
   "nbconvert_exporter": "python",
   "pygments_lexer": "ipython3",
   "version": "3.8.8"
  }
 },
 "nbformat": 4,
 "nbformat_minor": 4
}
