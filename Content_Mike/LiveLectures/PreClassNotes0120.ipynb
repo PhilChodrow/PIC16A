{
 "cells": [
  {
   "cell_type": "markdown",
   "metadata": {},
   "source": [
    "1) Have HW2 open (with solutions)\n",
    "\n",
    "2) Go over quiz 6\n",
    "\n",
    "3) Go over Quiz 5 question 1 (requested)\n",
    "\n",
    "4) Go over HW 2\n",
    "\n",
    "5) Custom sqrt"
   ]
  },
  {
   "cell_type": "code",
   "execution_count": 13,
   "metadata": {},
   "outputs": [],
   "source": [
    "def my_sqrt(x):\n",
    "    \n",
    "    if type(x) not in [int, float]:\n",
    "        raise TypeError(\"This function only works with ints and floats\")\n",
    "    elif x<0:\n",
    "        raise ValueError(\"Can't take the square root of a negative number\")\n",
    "        \n",
    "    \n",
    "    #error threshold\n",
    "    epsilon=10**-10\n",
    "    \n",
    "    #initialize variables\n",
    "    lower_bound=0\n",
    "    upper_bound=x\n",
    "    guess = (lower_bound+upper_bound)/2\n",
    "    \n",
    "    \n",
    "    while abs(guess*guess - x)>epsilon:\n",
    "        \n",
    "        if guess*guess > x:\n",
    "            upper_bound=guess\n",
    "        else:\n",
    "            lower_bound=guess\n",
    "        guess = (upper_bound+lower_bound)/2\n",
    "        \n",
    "    return guess\n",
    "        "
   ]
  },
  {
   "cell_type": "code",
   "execution_count": null,
   "metadata": {},
   "outputs": [],
   "source": []
  },
  {
   "cell_type": "code",
   "execution_count": 18,
   "metadata": {},
   "outputs": [],
   "source": [
    "def weird_function(x):\n",
    "    if x>0:\n",
    "        return x\n",
    "    if x<0:\n",
    "        return [x]"
   ]
  },
  {
   "cell_type": "code",
   "execution_count": 19,
   "metadata": {},
   "outputs": [
    {
     "data": {
      "text/plain": [
       "[-1]"
      ]
     },
     "execution_count": 19,
     "metadata": {},
     "output_type": "execute_result"
    }
   ],
   "source": [
    "weird_function(-1)"
   ]
  },
  {
   "cell_type": "markdown",
   "metadata": {},
   "source": [
    "Questions on HW 3) \n",
    "\n",
    "1) For problem 3 of the homework, are we supposed to generate the text as a string? If so, how can we add stuff to a string?\n",
    "\n",
    "2) For problem 3 of the homework, could you explain how we would/should approach this part of the code:\n",
    "\n",
    "\"We then look at our list of n+1-grams, and focus on grams whose first n characters match. Examples matching the include them, the, thei, and so on.\""
   ]
  },
  {
   "cell_type": "code",
   "execution_count": null,
   "metadata": {},
   "outputs": [],
   "source": [
    "#Example\n",
    "big_string= \"This is a sentence. And this is another sentence. This is a bit silly isn't it?\"\n",
    "\n",
    "n=3\n",
    "seed = \"is \"\n",
    "\n",
    "#'look for all 4 grams that are \"is X\"\n",
    "#is i\n",
    "#is a\n",
    "#is i\n",
    "#is a\n",
    "#is i \n",
    "\n",
    "#make a random choice - say it bikes i\n",
    "#current_n_gram \"s i\"\n",
    "#looking for 4-grams of the form \"s iX\""
   ]
  }
 ],
 "metadata": {
  "kernelspec": {
   "display_name": "Python 3",
   "language": "python",
   "name": "python3"
  },
  "language_info": {
   "codemirror_mode": {
    "name": "ipython",
    "version": 3
   },
   "file_extension": ".py",
   "mimetype": "text/x-python",
   "name": "python",
   "nbconvert_exporter": "python",
   "pygments_lexer": "ipython3",
   "version": "3.8.5"
  }
 },
 "nbformat": 4,
 "nbformat_minor": 4
}
