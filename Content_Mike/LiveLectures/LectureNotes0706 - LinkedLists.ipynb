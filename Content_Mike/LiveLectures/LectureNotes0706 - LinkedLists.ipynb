{
 "cells": [
  {
   "cell_type": "markdown",
   "metadata": {},
   "source": [
    "# Live Lecture 8: Linked Lists\n",
    "\n",
    "In this live lecture, we'll discuss a very common and useful data type -- the linked list. We'll show how to construct a simple linked list using our new skills with object-oriented programming. We'll also use some exception-handling techniques from our recent lectures on functions. \n",
    "\n",
    "A linked list is a special kind of list, each of whose values (\"links\") contains two parts. The first part is the **data**, i.e. the main informationt that you would like to store in the list. The second part is a **reference** to the next item in the list. Here's an example, courtesy of my colleague, Professor Wikipedia: \n",
    "\n",
    "<figure class=\"image\" style=\"width:80%\">\n",
    "  <img src=\"https://upload.wikimedia.org/wikipedia/commons/thumb/6/6d/Singly-linked-list.svg/1920px-Singly-linked-list.svg.png\" alt=\"\">\n",
    "  <figcaption><i></i></figcaption>\n",
    "</figure>\n",
    "\n",
    "Our implementation is just a bit different from the one above. Rather than including a special terminal element of the list, we'll just handle the case in which a value in the list does not have a reference to a next element. \n",
    "\n",
    "The first and most important step is to design the a class that models each link in the linked list. This link should contain data, a reference to the next link in the list, and methods for moving to the next link. \n",
    "\n",
    "__Note:__ We are NOT going to use iterators in this lecture since some students may not have watched those videos yet"
   ]
  },
  {
   "cell_type": "code",
   "execution_count": 4,
   "metadata": {},
   "outputs": [],
   "source": [
    "class link:\n",
    "    \"\"\"\n",
    "    informative docstring: \n",
    "        - Inputs to __init__\n",
    "        - Overall behavior/purpose\n",
    "    \"\"\"\n",
    "    my_type = \"Link\"\n",
    "    \n",
    "    def __init__(self, data):\n",
    "        self.data = data\n",
    "    \n",
    "    def follow(self):\n",
    "        \"\"\"\n",
    "        carefully describe what this method does\n",
    "        \n",
    "        return the next link in a linked list\n",
    "        no arguments other than self\n",
    "        if self has a next instance variable, return next\n",
    "        otherwise, print a message and return self\n",
    "        \"\"\"\n",
    "        label1 = str(self.data)\n",
    "        \n",
    "        try: \n",
    "            label2 = str(self.next.data)\n",
    "            print(\"moving from \" + label1 + \" to \" + label2)\n",
    "            return self.next\n",
    "        \n",
    "        except AttributeError:\n",
    "            print(\"no next link, returning self\")\n",
    "            return self\n",
    "        \n",
    "    def __add__(self, other):\n",
    "        \"\"\"\n",
    "        informative docstring describing overall behavior\n",
    "        careful description of inputs and outputs\n",
    "        \"\"\"\n",
    "        # input checking would be a good thing to do here\n",
    "        # check that other is a link()\n",
    "        self.next = other\n",
    "        return self"
   ]
  },
  {
   "cell_type": "code",
   "execution_count": 5,
   "metadata": {},
   "outputs": [
    {
     "name": "stdout",
     "output_type": "stream",
     "text": [
      "<class '__main__.C'>\n",
      "3\n"
     ]
    }
   ],
   "source": [
    "#Something weird to note here, you can add instance variables which\n",
    "#aren't \"declared\" in the init method for example, you can do this\n",
    "class C:\n",
    "    pass\n",
    "A=C()\n",
    "print(type(A))\n",
    "A.var=3\n",
    "print(A.var)"
   ]
  },
  {
   "cell_type": "code",
   "execution_count": null,
   "metadata": {},
   "outputs": [],
   "source": []
  },
  {
   "cell_type": "code",
   "execution_count": 6,
   "metadata": {},
   "outputs": [],
   "source": [
    "# create linked list\n",
    "L1 = link(1)\n",
    "L2 = link(2)\n",
    "L3 = link(3)\n",
    "\n",
    "# L1.next = L2\n",
    "# L2.next = L3\n",
    "\n",
    "L1 += L2\n",
    "L2 += L3\n",
    "L3 += L1"
   ]
  },
  {
   "cell_type": "code",
   "execution_count": 7,
   "metadata": {},
   "outputs": [
    {
     "name": "stdout",
     "output_type": "stream",
     "text": [
      "moving from 1 to 2\n",
      "moving from 2 to 3\n",
      "moving from 3 to 1\n"
     ]
    },
    {
     "data": {
      "text/plain": [
       "1"
      ]
     },
     "execution_count": 7,
     "metadata": {},
     "output_type": "execute_result"
    }
   ],
   "source": [
    "L1.follow().follow().follow().data"
   ]
  },
  {
   "cell_type": "code",
   "execution_count": null,
   "metadata": {},
   "outputs": [],
   "source": []
  },
  {
   "cell_type": "markdown",
   "metadata": {},
   "source": [
    "\n",
    "Now, let's write a function which turns a list into a linkedlist"
   ]
  },
  {
   "cell_type": "code",
   "execution_count": 8,
   "metadata": {},
   "outputs": [],
   "source": [
    "\n",
    "Fruits = [\"Apple\", \"Banana\", \"Canteloupe\"]\n",
    "# want: \"Apple\" -> \"Banana\" -> \"Canteloupe\" as linked list\n",
    "\n",
    "#Note: Professor Perlmutter had to google whether\n",
    "#Canteloupes were a fruit will writing this"
   ]
  },
  {
   "cell_type": "code",
   "execution_count": 9,
   "metadata": {},
   "outputs": [],
   "source": [
    "def create_linked_list(A):\n",
    "    \"\"\"\n",
    "    create a linked list from input list A\n",
    "    returns an object of class link with data A[0] and next\n",
    "    instance variable a link with data A[1], whose next instance\n",
    "    variable is a link with data A[2]...\n",
    "    \"\"\"\n",
    "    \n",
    "    L = link(A[0])\n",
    "    x = L\n",
    "    for i in range(1, len(A)):\n",
    "        x += link(A[i])\n",
    "        x  = x.next\n",
    "        \n",
    "    return L"
   ]
  },
  {
   "cell_type": "code",
   "execution_count": 10,
   "metadata": {},
   "outputs": [
    {
     "name": "stdout",
     "output_type": "stream",
     "text": [
      "moving from Apple to Banana\n",
      "moving from Banana to Canteloupe\n",
      "no next link, returning self\n"
     ]
    },
    {
     "data": {
      "text/plain": [
       "<__main__.link at 0x2c2ca2bd5e0>"
      ]
     },
     "execution_count": 10,
     "metadata": {},
     "output_type": "execute_result"
    }
   ],
   "source": [
    "L = create_linked_list(Fruits)\n",
    "L.follow().follow().follow()"
   ]
  },
  {
   "cell_type": "code",
   "execution_count": null,
   "metadata": {},
   "outputs": [],
   "source": []
  },
  {
   "cell_type": "code",
   "execution_count": null,
   "metadata": {},
   "outputs": [],
   "source": []
  },
  {
   "cell_type": "code",
   "execution_count": null,
   "metadata": {},
   "outputs": [],
   "source": []
  }
 ],
 "metadata": {
  "kernelspec": {
   "display_name": "Python 3",
   "language": "python",
   "name": "python3"
  },
  "language_info": {
   "codemirror_mode": {
    "name": "ipython",
    "version": 3
   },
   "file_extension": ".py",
   "mimetype": "text/x-python",
   "name": "python",
   "nbconvert_exporter": "python",
   "pygments_lexer": "ipython3",
   "version": "3.8.5"
  }
 },
 "nbformat": 4,
 "nbformat_minor": 4
}
