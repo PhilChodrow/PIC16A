{
 "cells": [
  {
   "cell_type": "markdown",
   "metadata": {},
   "source": [
    "# Automated Feature Selection\n",
    "\n",
    "In this live lecture activity, we are going to consider the problem of how to write algorithms that automatically make reasonable choices about which features to include in machine learning models. There are many approaches to this problem, and we will look at just one. "
   ]
  },
  {
   "cell_type": "markdown",
   "metadata": {},
   "source": [
    "## Grab and Prepare the Titanic Data"
   ]
  },
  {
   "cell_type": "code",
   "execution_count": 1,
   "metadata": {},
   "outputs": [],
   "source": [
    "import pandas as pd\n",
    "from matplotlib import pyplot as plt\n",
    "import numpy as np"
   ]
  },
  {
   "cell_type": "code",
   "execution_count": 2,
   "metadata": {},
   "outputs": [],
   "source": [
    "import urllib\n",
    "def retrieve_data(url):\n",
    "    \"\"\"\n",
    "    Retrieve a file from the specified url and save it in a local file \n",
    "    called data.csv. The intended values of url are:     \n",
    "    \"\"\"\n",
    "    \n",
    "    # grab the data and parse it\n",
    "    filedata = urllib.request.urlopen(url) \n",
    "    to_write = filedata.read()\n",
    "    \n",
    "    # write to file\n",
    "    with open(\"data.csv\", \"wb\") as f:\n",
    "        f.write(to_write)\n",
    "\n",
    "retrieve_data(\"https://philchodrow.github.io/PIC16A/datasets/titanic.csv\")\n",
    "titanic = pd.read_csv(\"data.csv\")\n",
    "\n",
    "from sklearn import preprocessing\n",
    "le = preprocessing.LabelEncoder()\n",
    "titanic[\"Sex\"] = le.fit_transform(titanic['Sex'])\n",
    "titanic = titanic.drop([\"Name\"], axis = 1)\n",
    "\n",
    "X = titanic.drop(['Survived'], axis = 1)\n",
    "y = titanic['Survived']"
   ]
  },
  {
   "cell_type": "code",
   "execution_count": 3,
   "metadata": {},
   "outputs": [],
   "source": [
    "#y"
   ]
  },
  {
   "cell_type": "markdown",
   "metadata": {},
   "source": [
    "## Greedy Stagewise Feature Selection\n",
    "\n",
    "Here's what we are going to do. We will start with one randomly-chosen \"active\" column. Then, we will do the following a user-specified number of times: \n",
    "\n",
    "1. Compute the CV score of a model using only the active columns, and save it. \n",
    "2. Propose either \"activating\" or \"deactivating\" a column (i.e. adding or removing it from the list of active columns). Compute the CV score. If the CV score has improved, accept the proposal (i.e. add that column to the active set, or remove it)."
   ]
  },
  {
   "cell_type": "markdown",
   "metadata": {},
   "source": [
    "# Part A: Setup"
   ]
  },
  {
   "cell_type": "code",
   "execution_count": 4,
   "metadata": {},
   "outputs": [
    {
     "data": {
      "text/plain": [
       "Index(['Pclass', 'Sex', 'Age', 'Siblings/Spouses Aboard',\n",
       "       'Parents/Children Aboard', 'Fare'],\n",
       "      dtype='object')"
      ]
     },
     "execution_count": 4,
     "metadata": {},
     "output_type": "execute_result"
    }
   ],
   "source": [
    "#Lets look at the columns of X\n",
    "X.columns"
   ]
  },
  {
   "cell_type": "code",
   "execution_count": 5,
   "metadata": {},
   "outputs": [],
   "source": [
    "#import Logistic Regression and Cross-val score\n",
    "from sklearn.linear_model import LogisticRegression\n",
    "from sklearn.model_selection import cross_val_score\n",
    "\n",
    "#instantiate a LR model\n",
    "LR=LogisticRegression(solver=\"liblinear\")\n",
    "#liblinear helps if the number of columns is small"
   ]
  },
  {
   "cell_type": "code",
   "execution_count": 6,
   "metadata": {},
   "outputs": [],
   "source": [
    "def initialize_lists(X):\n",
    "    \"\"\"\n",
    "    Create a list of \"active\" and \"inactive columns\"\n",
    "    from X.columns\n",
    "    \"\"\"\n",
    "    \n",
    "    #start with a single random active column\n",
    "    active = [np.random.choice(X.columns)]\n",
    "    \n",
    "    #all other columns inactive\n",
    "    inactive=list(X.columns)\n",
    "    inactive.remove(active[0])\n",
    "    \n",
    "    #return both lists\n",
    "    return active, inactive"
   ]
  },
  {
   "cell_type": "code",
   "execution_count": 7,
   "metadata": {},
   "outputs": [],
   "source": [
    "def move(col, active, inactive, mode = \"activate\"):\n",
    "    \"\"\"\n",
    "    Activate or deactivate a single column\n",
    "    by moving it between the active and inactive\n",
    "    lists. \n",
    "    Does not modify active or inactive -- instead \n",
    "    returns copies. \n",
    "    \"\"\"\n",
    "    # create copies\n",
    "    new_active = active.copy()\n",
    "    new_inactive = inactive.copy()\n",
    "    \n",
    "    if mode == \"activate\":\n",
    "        # if we are activating a column\n",
    "        new_inactive.remove(col)\n",
    "        # add col to the active list\n",
    "        new_active.append(col)\n",
    "    \n",
    "    # if we are deactivating a column\n",
    "    \n",
    "    if mode == \"deactivate\":\n",
    "        new_active.remove(col)\n",
    "        new_inactive.append(col)\n",
    "    \n",
    "    \n",
    "    # return copies\n",
    "    return new_active, new_inactive    \n",
    "    "
   ]
  },
  {
   "cell_type": "markdown",
   "metadata": {},
   "source": [
    "### Illustrations"
   ]
  },
  {
   "cell_type": "code",
   "execution_count": 8,
   "metadata": {},
   "outputs": [
    {
     "data": {
      "text/plain": [
       "(['Fare'],\n",
       " ['Pclass',\n",
       "  'Sex',\n",
       "  'Age',\n",
       "  'Siblings/Spouses Aboard',\n",
       "  'Parents/Children Aboard'])"
      ]
     },
     "execution_count": 8,
     "metadata": {},
     "output_type": "execute_result"
    }
   ],
   "source": [
    "#If we run multiple times we get different results\n",
    "active,inactive = initialize_lists(X)\n",
    "active, inactive"
   ]
  },
  {
   "cell_type": "code",
   "execution_count": 9,
   "metadata": {},
   "outputs": [
    {
     "data": {
      "text/plain": [
       "(['Fare', 'Pclass'],\n",
       " ['Sex', 'Age', 'Siblings/Spouses Aboard', 'Parents/Children Aboard'])"
      ]
     },
     "execution_count": 9,
     "metadata": {},
     "output_type": "execute_result"
    }
   ],
   "source": [
    "#activate a column\n",
    "new_active, new_inactive=move(inactive[0],active,inactive,mode=\"activate\")\n",
    "new_active, new_inactive"
   ]
  },
  {
   "cell_type": "code",
   "execution_count": 10,
   "metadata": {},
   "outputs": [
    {
     "name": "stdout",
     "output_type": "stream",
     "text": [
      "test\n"
     ]
    },
    {
     "data": {
      "text/plain": [
       "(['Fare'],\n",
       " ['Pclass',\n",
       "  'Sex',\n",
       "  'Age',\n",
       "  'Siblings/Spouses Aboard',\n",
       "  'Parents/Children Aboard'])"
      ]
     },
     "execution_count": 10,
     "metadata": {},
     "output_type": "execute_result"
    }
   ],
   "source": [
    "#remove a column\n",
    "new_active, new_inactive=move(new_active[0],new_active,new_inactive,mode=\"deactivate\")\n",
    "new_active, new_inactive\n",
    "print('test')\n",
    "active, inactive"
   ]
  },
  {
   "cell_type": "markdown",
   "metadata": {},
   "source": [
    "# Part B: Feature Selection"
   ]
  },
  {
   "cell_type": "code",
   "execution_count": 11,
   "metadata": {},
   "outputs": [],
   "source": [
    "def greedy_selection(model,X,y,n_iters=20):\n",
    "    #initialize a single randomly chose active feature\n",
    "    active, inactive = initialize_lists(X)\n",
    "    print(active, inactive)\n",
    "    best_CV=0\n",
    "    \n",
    "    for i in range(n_iters):\n",
    "        # alternate between activating and deactivating\n",
    "        for mode in [\"activate\", \"deactivate\"]:\n",
    "        \n",
    "            new_active = active.copy()\n",
    "            new_inactive=inactive.copy()\n",
    "            \n",
    "            if mode==\"activate\" and len(inactive)>=1:\n",
    "                col=np.random.choice(inactive)\n",
    "                new_active,new_inactive=move(col,active,inactive,mode)\n",
    "            \n",
    "            elif mode==\"deactivate\" and len(active)>=2:\n",
    "                col=np.random.choice(active)\n",
    "                new_active,new_inactive=move(col,active,inactive,mode)\n",
    "            \n",
    "            #new_inactive = list(set(X.columns).difference(set(new_active)))\n",
    "            \n",
    "            # compute the CV score\n",
    "            CV_score = cross_val_score(model, X[new_active], y, cv = 7).mean()\n",
    "            \n",
    "            # if the CV score is an improvement, update the \n",
    "            # active and inactive column sets.  \n",
    "            if (CV_score>best_CV) and (len(new_active)>=1):\n",
    "                best_CV=CV_score\n",
    "                active=new_active\n",
    "                inactive=new_inactive\n",
    "                     \n",
    "            print(\"Number of columns: \" + str(len(active)) + \". CV score: \" + str(best_CV))\n",
    " \n",
    "    \n",
    "    \n",
    "    \n",
    "    return active"
   ]
  },
  {
   "cell_type": "code",
   "execution_count": 12,
   "metadata": {},
   "outputs": [
    {
     "name": "stdout",
     "output_type": "stream",
     "text": [
      "['Parents/Children Aboard'] ['Pclass', 'Sex', 'Age', 'Siblings/Spouses Aboard', 'Fare']\n",
      "Number of columns: 2. CV score: 0.6629171353580803\n",
      "Number of columns: 2. CV score: 0.6629171353580803\n",
      "Number of columns: 2. CV score: 0.6629171353580803\n",
      "Number of columns: 1. CV score: 0.662926062813577\n",
      "Number of columns: 2. CV score: 0.675424500508865\n",
      "Number of columns: 1. CV score: 0.6776742192940169\n",
      "Number of columns: 2. CV score: 0.6878068812826968\n",
      "Number of columns: 2. CV score: 0.6878068812826968\n",
      "Number of columns: 3. CV score: 0.786901637295338\n",
      "Number of columns: 3. CV score: 0.786901637295338\n",
      "Number of columns: 3. CV score: 0.786901637295338\n",
      "Number of columns: 3. CV score: 0.786901637295338\n",
      "Number of columns: 4. CV score: 0.7925348617137143\n",
      "Number of columns: 4. CV score: 0.7925348617137143\n",
      "Number of columns: 4. CV score: 0.7925348617137143\n",
      "Number of columns: 4. CV score: 0.7925348617137143\n",
      "Number of columns: 4. CV score: 0.7925348617137143\n",
      "Number of columns: 4. CV score: 0.7925348617137143\n",
      "Number of columns: 4. CV score: 0.7925348617137143\n",
      "Number of columns: 4. CV score: 0.7925348617137143\n",
      "Number of columns: 4. CV score: 0.7925348617137143\n",
      "Number of columns: 4. CV score: 0.7925348617137143\n",
      "Number of columns: 4. CV score: 0.7925348617137143\n",
      "Number of columns: 4. CV score: 0.7925348617137143\n",
      "Number of columns: 4. CV score: 0.7925348617137143\n",
      "Number of columns: 4. CV score: 0.7925348617137143\n",
      "Number of columns: 4. CV score: 0.7925348617137143\n",
      "Number of columns: 4. CV score: 0.7925348617137143\n",
      "Number of columns: 4. CV score: 0.7925348617137143\n",
      "Number of columns: 4. CV score: 0.7925348617137143\n",
      "Number of columns: 4. CV score: 0.7925348617137143\n",
      "Number of columns: 4. CV score: 0.7925348617137143\n",
      "Number of columns: 4. CV score: 0.7925348617137143\n",
      "Number of columns: 3. CV score: 0.792543789169211\n",
      "Number of columns: 3. CV score: 0.792543789169211\n",
      "Number of columns: 3. CV score: 0.792543789169211\n",
      "Number of columns: 3. CV score: 0.792543789169211\n",
      "Number of columns: 3. CV score: 0.792543789169211\n",
      "Number of columns: 3. CV score: 0.792543789169211\n",
      "Number of columns: 3. CV score: 0.792543789169211\n"
     ]
    }
   ],
   "source": [
    "cols= greedy_selection(LR,X,y,n_iters=20)"
   ]
  },
  {
   "cell_type": "code",
   "execution_count": 13,
   "metadata": {},
   "outputs": [
    {
     "data": {
      "text/plain": [
       "['Pclass', 'Sex', 'Age']"
      ]
     },
     "execution_count": 13,
     "metadata": {},
     "output_type": "execute_result"
    }
   ],
   "source": [
    "cols"
   ]
  },
  {
   "cell_type": "code",
   "execution_count": null,
   "metadata": {},
   "outputs": [],
   "source": []
  },
  {
   "cell_type": "code",
   "execution_count": null,
   "metadata": {},
   "outputs": [],
   "source": []
  },
  {
   "cell_type": "code",
   "execution_count": null,
   "metadata": {},
   "outputs": [],
   "source": []
  },
  {
   "cell_type": "code",
   "execution_count": null,
   "metadata": {},
   "outputs": [],
   "source": []
  }
 ],
 "metadata": {
  "kernelspec": {
   "display_name": "Python 3",
   "language": "python",
   "name": "python3"
  },
  "language_info": {
   "codemirror_mode": {
    "name": "ipython",
    "version": 3
   },
   "file_extension": ".py",
   "mimetype": "text/x-python",
   "name": "python",
   "nbconvert_exporter": "python",
   "pygments_lexer": "ipython3",
   "version": "3.8.8"
  }
 },
 "nbformat": 4,
 "nbformat_minor": 4
}
