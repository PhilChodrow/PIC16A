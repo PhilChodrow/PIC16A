{
 "cells": [
  {
   "cell_type": "markdown",
   "metadata": {},
   "source": [
    "# what does live lecture cover \n",
    "\n",
    "Type 1: Examples of how to do interesting things in python (today)\n",
    "\n",
    "Type 2: Deeper dives into the theory of what is happening \"under the hood\" or \"inside the machine\" (next week) This stuff can help you avoid nasty bugs\n",
    "\n",
    "Type 3: Stuff that will help on HW or your project"
   ]
  },
  {
   "cell_type": "markdown",
   "metadata": {},
   "source": [
    "First, quick primer or lists "
   ]
  },
  {
   "cell_type": "code",
   "execution_count": 8,
   "metadata": {},
   "outputs": [
    {
     "name": "stdout",
     "output_type": "stream",
     "text": [
      "2\n",
      "3\n",
      "[1, 2, 3]\n",
      "3\n",
      "[1, 2, 3, 4]\n"
     ]
    }
   ],
   "source": [
    "x=2\n",
    "print(x)\n",
    "print(x+1)\n",
    "\n",
    "#Lists are like C++ vectors \n",
    "L=[1,2,3]\n",
    "print(L)\n",
    "print(L[2])\n",
    "\n",
    "#append is the equivalent of push_back it adds and item to a list\n",
    "L.append(4)\n",
    "print(L)\n"
   ]
  },
  {
   "cell_type": "markdown",
   "metadata": {},
   "source": [
    "# How can we model a Pandemic???\n",
    "\n",
    "There are a wide range of infectious disease models, as many as there are diseases, their variants and strategies to control them. However, the starting point for modeling many infectious diseases is the SIR model, which can be understood as:\n",
    "* **S**: people susceptible to the disease (number of people who can get it)\n",
    "* **I**: those who are infectious with the disease (can spread it)\n",
    "* **R**: people recovered from the disease (they are well and not spreading)\n",
    "\n",
    "__Missing compartments:__ Dead people and vaccinated people. This is a simple model that is pre-vaccine. For this model, somewhat morbidly, dead people are in the recovered category. Here the definition of recovered is someone who can no longer transmit the diseases. The reason they do this is to predict the total number of infections. Once you predict infectiosn you can then use that number to predict other quantities of interest such as hospitalization and deaths\n",
    "\n",
    "The SIR model is called a `compartment model` because everyone in the population is put into one of three different compartments. You find out more about the model [here](https://en.wikipedia.org/wiki/Compartmental_models_in_epidemiology#The_SIR_model).\n",
    "\n",
    "In this model, we let N be the total population, and let S0, I0, R0 be the number of susceptible, infection, and recovered people at the start of the pandemic. \n",
    "\n",
    "There are two parameters in this model, $\\beta$ which can be thought of as the `coefficient of infection` and and $\\gamma$ which can be thought of as the `coefficient of recovery`. (Disclaimer: I am not an epidemiologist and made these terms up.) \n",
    "\n",
    "The \"official version\" of this model uses calculus and/or differential equations. In this class, we will implement a discrete time version of this model. We will assume that each day\n",
    "- some people move from susceptible to infected: $\\beta*S*I$.\n",
    "The idea here is that the number of new infections is proportional to the number of interactions between S people and I people. This should be directly proportional to both the number so S people and the number of I people\n",
    "- some people move from infected to recovered: $\\gamma*I$\n",
    "\n",
    "This leads to the model:\n",
    "(This stuff here is called LaTeX, it is how you typeset math. It works in markdown mode.)\n",
    "\\begin{align*}\n",
    "S_{t+1}-S_t&=-\\beta S_t I_t\\\\\n",
    "I_{t+1}-I_t&=\\beta S_t I_t - \\gamma I_t\\\\\n",
    "R_{t+1}-R_t&= \\gamma I_t\n",
    "\\end{align*}\n",
    "\n",
    "$S_{t+1}-S_t=-\\beta S_t I_t\\Rightarrow S_{t+1}=S_t-\\beta S_t I_t$\n",
    "\n",
    "\n",
    "For this example, we will assume N=1000000, I0=10, $\\beta=.0000001$,\n",
    "$\\gamma=.01$, and run the model for 365 days. In the real word, estimating $\\beta$ and $\\gamma$ should be done via statistical methods such as maximum likelihood estimates."
   ]
  },
  {
   "cell_type": "code",
   "execution_count": 38,
   "metadata": {},
   "outputs": [],
   "source": [
    "#total pop\n",
    "N=1000000\n",
    "\n",
    "#coefficients\n",
    "beta=.0000001 #social distancing makes beta go down (a good thing)\n",
    "gamma=.01 #improved therapies make gamma go up (also good)\n",
    "N_days=365\n",
    "\n",
    "#initial values\n",
    "I0=10 \n",
    "S0=N-I0\n",
    "R0=0\n",
    "\n",
    "\n",
    "\n",
    "\n"
   ]
  },
  {
   "cell_type": "code",
   "execution_count": 41,
   "metadata": {},
   "outputs": [],
   "source": [
    "#range 10 means the first ten numbers starting at 0 ie 0,1,2,3,4,5,6,7,8,9\n",
    "#for i in range(10): \n",
    "#    print(i)\n",
    "    \n",
    "#range(1,11) is the numbers starting at 1, up to but not including 11 ie 1,2,3,4,5,6,7,8,9,10\n",
    "#for i in range(1,11):\n",
    "#    print(i)\n",
    "\n",
    "S=[S0]\n",
    "I=[I0]\n",
    "R=[R0]\n",
    "\n",
    "#original model\n",
    "\"\"\"for i in range(1,N_days+1):\n",
    "    S.append(S[i-1] - beta*S[i-1]*I[i-1])  #beta*S*I\n",
    "    I.append(I[i-1] + beta*S[i-1]*I[i-1] - gamma*I[i-1]) \n",
    "    R.append(R[i-1]+gamma*I[i-1])\"\"\"\n",
    "    \n",
    "#in the real world, people infected again\n",
    "#people move from recovered to susceptible at rate delta*R\n",
    "delta=gamma/2\n",
    "for i in range(1,N_days+1):\n",
    "    S.append(S[i-1] - beta*S[i-1]*I[i-1]+delta*R[i-1])  #beta*S*I\n",
    "    I.append(I[i-1] + beta*S[i-1]*I[i-1] - gamma*I[i-1]) \n",
    "    R.append(R[i-1]+gamma*I[i-1]-delta*R[i-1])\n",
    "    \n",
    "    \n",
    "#then after this for loop, each list will have 366 (1+365) entries\n",
    "#the entries of S for example will be the number of susceptible people on each day\n",
    "\n",
    "#if we wanted to print the list we could do this:\n",
    "#for i in range(N_days):\n",
    "#    print(\"Number of susceptible people on day \" + str(i) + \" is: \" + str(S[i]))\n",
    "\n",
    "#technical note, there are actually two different ways to convert things to strings\n",
    "#but we will only use str in this course since its an intro repr is also worth looking at it if you \n",
    "#go on to do more advanced stuff\n",
    "    \n",
    "#make a data visualization"
   ]
  },
  {
   "cell_type": "markdown",
   "metadata": {},
   "source": [
    "Now, let's visualize this model. You will learn about matplotlib later in the class."
   ]
  },
  {
   "cell_type": "code",
   "execution_count": 42,
   "metadata": {},
   "outputs": [
    {
     "data": {
      "text/plain": [
       "[<matplotlib.lines.Line2D at 0x23111564320>]"
      ]
     },
     "execution_count": 42,
     "metadata": {},
     "output_type": "execute_result"
    },
    {
     "data": {
      "image/png": "[encoded data removed]",
      "text/plain": [
       "<Figure size 432x288 with 1 Axes>"
      ]
     },
     "metadata": {
      "needs_background": "light"
     },
     "output_type": "display_data"
    }
   ],
   "source": [
    "#we are importing the pyplot module from the matplotlib library \n",
    "#we are giving it the nickname \"plt\" (this is the equivalent of \"include\")\n",
    "\n",
    "from matplotlib import pyplot as plt\n",
    "plt.plot(S)  #we are using the plot fucntion of the pyplot module which has the nickname plt\n",
    "plt.plot(I)\n",
    "plt.plot(R)\n",
    "\n",
    "#this could betterized in a plethora of ways including\n",
    "#title, axes labels, legends, etc"
   ]
  },
  {
   "cell_type": "markdown",
   "metadata": {},
   "source": [
    "## Other discrete time models\n",
    "\n",
    "### Lotka-Volterra Predatory Prey Model\n",
    "\n",
    "Here we let $H$ be the population of a prey species and $P$ be the population of the predator species.\n",
    "\n",
    "\\begin{align*}\n",
    "H_{t+1}-H_t&=\\alpha H_t - \\beta H_t P_t\\\\\n",
    "P_{t+1}-P_t&=\\gamma H_t P_t - \\delta P_t\n",
    "\\end{align*}\n",
    "\n"
   ]
  },
  {
   "cell_type": "markdown",
   "metadata": {},
   "source": [
    "## Social Science: The Daley-Kendall Model\n",
    "___\n",
    "![rumor](http://www.thatsnonsense.com/wp-content/uploads/2012/01/rumours.jpg)\n",
    "\n",
    "The flow of information through society impacts all of us, whether it be through malicious rumors about us, government propaganda, or fake news cites attempting to influence the government. Daley and Kendall formulated a basic model for the spread of rumors that we can build new models from. Their model has three compartments:\n",
    "1. Ignorants (I): these are people ignorant of the rumor. \n",
    "2. Spreaders (S): these are people actively spreading the rumor.\n",
    "3. Stiflers (R): there are people who are bored with the rumor.\n",
    "\n",
    "More interesting than the compartments of the models are the rules in which they interact:\n",
    "$$I + S \\to S + S,$$\n",
    "$$S + S \\to S + R,$$\n",
    "$$R + S \\to R + R.$$\n",
    "\n",
    "This leads to the following equations:\n",
    "\\begin{align*}\n",
    "I_{t+1}-I_{t}&=-\\beta I_tS_t\\\\\n",
    "S_{t+1}-S_t&=\\beta I_tS_t - \\alpha S_t(S_t+R_t)\\\\\n",
    "R_{t+1}-R_{t}&=\\alpha S_t(S_t+R_t)\n",
    "\\end{align*}"
   ]
  },
  {
   "cell_type": "markdown",
   "metadata": {},
   "source": [
    "# Fibonacci Numbers and Prime Numbers\n",
    "\n",
    "1) Create a list of the first 10 prime numbers\n"
   ]
  },
  {
   "cell_type": "code",
   "execution_count": 60,
   "metadata": {},
   "outputs": [],
   "source": [
    "N=10\n"
   ]
  },
  {
   "cell_type": "code",
   "execution_count": null,
   "metadata": {},
   "outputs": [],
   "source": []
  },
  {
   "cell_type": "markdown",
   "metadata": {},
   "source": [
    "2) The  Fibonnaci numbers are given by $a_1=a_2=1$, $a_{n}=a_{n-1}+a_{n-2}$ for $n\\geq 2$.\n",
    "\n",
    "Create a list of the first ten Fibonnaci numbers"
   ]
  },
  {
   "cell_type": "code",
   "execution_count": 2,
   "metadata": {},
   "outputs": [],
   "source": [
    "N=10\n"
   ]
  },
  {
   "cell_type": "code",
   "execution_count": null,
   "metadata": {},
   "outputs": [],
   "source": []
  },
  {
   "cell_type": "code",
   "execution_count": null,
   "metadata": {},
   "outputs": [],
   "source": []
  }
 ],
 "metadata": {
  "kernelspec": {
   "display_name": "Python 3",
   "language": "python",
   "name": "python3"
  },
  "language_info": {
   "codemirror_mode": {
    "name": "ipython",
    "version": 3
   },
   "file_extension": ".py",
   "mimetype": "text/x-python",
   "name": "python",
   "nbconvert_exporter": "python",
   "pygments_lexer": "ipython3",
   "version": "3.7.3"
  }
 },
 "nbformat": 4,
 "nbformat_minor": 4
}
