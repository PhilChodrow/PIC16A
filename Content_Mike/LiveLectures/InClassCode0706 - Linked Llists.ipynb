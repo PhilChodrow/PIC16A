{
 "cells": [
  {
   "cell_type": "markdown",
   "metadata": {},
   "source": [
    "# Live Lecture 8: Linked Lists\n",
    "\n",
    "In this live lecture, we'll discuss a very common and useful data type -- the linked list. We'll show how to construct a simple linked list using our new skills with object-oriented programming. We'll also use some exception-handling techniques from our recent lectures on functions. \n",
    "\n",
    "A linked list is a special kind of list, each of whose values (\"links\") contains two parts. The first part is the **data**, i.e. the main informationt that you would like to store in the list. The second part is a **reference** to the next item in the list. Here's an example, courtesy of my colleague, Professor Wikipedia: \n",
    "\n",
    "<figure class=\"image\" style=\"width:80%\">\n",
    "  <img src=\"https://upload.wikimedia.org/wikipedia/commons/thumb/6/6d/Singly-linked-list.svg/1920px-Singly-linked-list.svg.png\" alt=\"\">\n",
    "  <figcaption><i></i></figcaption>\n",
    "</figure>\n",
    "\n",
    "Our implementation is just a bit different from the one above. Rather than including a special terminal element of the list, we'll just handle the case in which a value in the list does not have a reference to a next element. \n",
    "\n",
    "The first and most important step is to design the a class that models each link in the linked list. This link should contain data, a reference to the next link in the list, and methods for moving to the next link. \n",
    "\n",
    "__Note:__ We are NOT going to use iterators in this lecture since some students may not have watched those videos yet"
   ]
  },
  {
   "cell_type": "markdown",
   "metadata": {},
   "source": [
    "###  Annoucnemnents\n",
    "1) HW 3 posted\n",
    "\n",
    "2) Midquarter Feedback Survey\n",
    "\n",
    "3) Exam review posted\n",
    "\n",
    "4) No discussion today\n",
    "\n"
   ]
  },
  {
   "cell_type": "code",
   "execution_count": 56,
   "metadata": {},
   "outputs": [],
   "source": [
    "class link:\n",
    "    \"\"\"\n",
    "    This class models a link in a link lists\n",
    "    variable data is the content of the link\n",
    "    next member variable indicates the next link (created through add_next method)\n",
    "    \n",
    "    addition: X = X+Y means also sets X.next=Y\n",
    "    \n",
    "    \"\"\"\n",
    "    \n",
    "    def __init__(self,data):\n",
    "        self.data=data\n",
    "        \n",
    "    def follow(self):\n",
    "        \"\"\"\n",
    "        move to next link\n",
    "        if no next link return self\n",
    "        \"\"\"\n",
    "        label1=str(self.data)\n",
    "        try:\n",
    "            label2=str(self.next.data)\n",
    "            print(\"moving from \" + label1 + \" to \"+ label2)\n",
    "            return self.next\n",
    "        except AttributeError:\n",
    "            print(\"no next link, returning self\")\n",
    "            return self\n",
    "        \n",
    "    def add_next(self,other):\n",
    "        self.next=other\n",
    "    \n",
    "    def __add__(self,other):\n",
    "        \"\"\"\n",
    "        other: another link\n",
    "        makes other the next link after self\n",
    "        \"\"\"\n",
    "        \n",
    "        if not isinstance(other,link):\n",
    "            raise TypeError(\"Input must be a link\")\n",
    "        \n",
    "        self.next=other\n",
    "        return self\n",
    "        \n",
    "        "
   ]
  },
  {
   "cell_type": "code",
   "execution_count": 55,
   "metadata": {},
   "outputs": [
    {
     "name": "stdout",
     "output_type": "stream",
     "text": [
      "1 2 3\n"
     ]
    },
    {
     "data": {
      "text/plain": [
       "3"
      ]
     },
     "execution_count": 55,
     "metadata": {},
     "output_type": "execute_result"
    }
   ],
   "source": [
    "L1=link(1)\n",
    "L2=link(2)\n",
    "L3=link(3)\n",
    "\n",
    "#L1.next=L2\n",
    "#L2.next=L3\n",
    "\n",
    "'''L1 += L2 #make this equivalent to L1.next = L2\n",
    "L2 += L3\n",
    "L3+=7'''\n",
    "L1.add_next(L2)\n",
    "L2.add_next(L3)\n",
    "\n",
    "print(L1.data, L2.data, L3.data)\n",
    "L1.next.next.data"
   ]
  },
  {
   "cell_type": "code",
   "execution_count": 35,
   "metadata": {},
   "outputs": [
    {
     "name": "stdout",
     "output_type": "stream",
     "text": [
      "<class '__main__.C'>\n",
      "3\n"
     ]
    }
   ],
   "source": [
    "#Something weird to note here, you can add instance variables which\n",
    "#aren't \"declared\" in the init method for example, you can do this\n",
    "class C:\n",
    "    pass\n",
    "A=C()\n",
    "print(type(A))\n",
    "A.var=3\n",
    "print(A.var)"
   ]
  },
  {
   "cell_type": "code",
   "execution_count": 36,
   "metadata": {},
   "outputs": [
    {
     "name": "stdout",
     "output_type": "stream",
     "text": [
      "moving from 1 to 2\n",
      "moving from 2 to 3\n",
      "no next link, returning self\n"
     ]
    },
    {
     "data": {
      "text/plain": [
       "3"
      ]
     },
     "execution_count": 36,
     "metadata": {},
     "output_type": "execute_result"
    }
   ],
   "source": [
    "L1.follow().follow().follow().data"
   ]
  },
  {
   "cell_type": "code",
   "execution_count": 40,
   "metadata": {},
   "outputs": [],
   "source": [
    "def create_linked_list(A):\n",
    "    \"\"\"\n",
    "    creates a linked list form an input list A\n",
    "    returns \n",
    "    an object of class link with A[0] and whose next is A[1] \n",
    "    and then another link A[1] whose next is A[2]....\n",
    "    \"\"\"\n",
    "    \n",
    "    L=link(A[0])\n",
    "    x=L\n",
    "    for i in range(1,len(A)):\n",
    "        x +=link(A[i])\n",
    "        x=x.next\n",
    "        \n",
    "    return L\n",
    "    "
   ]
  },
  {
   "cell_type": "code",
   "execution_count": 41,
   "metadata": {},
   "outputs": [],
   "source": [
    "Fruits=[\"Apple\",\"Banana\",\"Canteloupe\"]\n",
    "\n",
    "L=create_linked_list(Fruits)"
   ]
  },
  {
   "cell_type": "code",
   "execution_count": 46,
   "metadata": {},
   "outputs": [
    {
     "name": "stdout",
     "output_type": "stream",
     "text": [
      "moving from Apple to Banana\n",
      "moving from Banana to Canteloupe\n",
      "no next link, returning self\n"
     ]
    },
    {
     "data": {
      "text/plain": [
       "'Canteloupe'"
      ]
     },
     "execution_count": 46,
     "metadata": {},
     "output_type": "execute_result"
    }
   ],
   "source": [
    "L.follow().follow().follow().data"
   ]
  },
  {
   "cell_type": "markdown",
   "metadata": {},
   "source": [
    "\n",
    "Now, let's write a function which turns a list into a linkedlist"
   ]
  },
  {
   "cell_type": "code",
   "execution_count": null,
   "metadata": {},
   "outputs": [],
   "source": [
    "\n"
   ]
  },
  {
   "cell_type": "code",
   "execution_count": null,
   "metadata": {},
   "outputs": [],
   "source": []
  },
  {
   "cell_type": "code",
   "execution_count": null,
   "metadata": {},
   "outputs": [],
   "source": []
  },
  {
   "cell_type": "code",
   "execution_count": null,
   "metadata": {},
   "outputs": [],
   "source": []
  },
  {
   "cell_type": "code",
   "execution_count": null,
   "metadata": {},
   "outputs": [],
   "source": []
  },
  {
   "cell_type": "code",
   "execution_count": null,
   "metadata": {},
   "outputs": [],
   "source": []
  }
 ],
 "metadata": {
  "kernelspec": {
   "display_name": "Python 3",
   "language": "python",
   "name": "python3"
  },
  "language_info": {
   "codemirror_mode": {
    "name": "ipython",
    "version": 3
   },
   "file_extension": ".py",
   "mimetype": "text/x-python",
   "name": "python",
   "nbconvert_exporter": "python",
   "pygments_lexer": "ipython3",
   "version": "3.8.8"
  }
 },
 "nbformat": 4,
 "nbformat_minor": 4
}
