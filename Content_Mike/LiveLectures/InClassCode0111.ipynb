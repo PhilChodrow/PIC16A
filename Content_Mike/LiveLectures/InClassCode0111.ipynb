{
 "cells": [
  {
   "cell_type": "markdown",
   "metadata": {},
   "source": [
    "# Live Lecture 3\n",
    "\n",
    "Someone asked a question about example 5.1.4 in the python documentation which concerns matrix transposes"
   ]
  },
  {
   "cell_type": "code",
   "execution_count": 1,
   "metadata": {},
   "outputs": [
    {
     "data": {
      "text/plain": [
       "[[1, 2, 3, 4], [5, 6, 7, 8], [9, 10, 11, 12]]"
      ]
     },
     "execution_count": 1,
     "metadata": {},
     "output_type": "execute_result"
    }
   ],
   "source": [
    "matrix = [\n",
    "    [1, 2, 3, 4],\n",
    "    [5, 6, 7, 8],\n",
    "    [9, 10, 11, 12],\n",
    "]\n",
    "matrix"
   ]
  },
  {
   "cell_type": "markdown",
   "metadata": {},
   "source": [
    "In math, we usually write the number of rows as m and the number of columns as n"
   ]
  },
  {
   "cell_type": "code",
   "execution_count": 2,
   "metadata": {},
   "outputs": [
    {
     "data": {
      "text/plain": [
       "(3, 4)"
      ]
     },
     "execution_count": 2,
     "metadata": {},
     "output_type": "execute_result"
    }
   ],
   "source": [
    "#m times n matrix\n",
    "m=len(matrix)\n",
    "n=len(matrix[0])\n",
    "m,n"
   ]
  },
  {
   "cell_type": "code",
   "execution_count": 3,
   "metadata": {},
   "outputs": [],
   "source": [
    "T=[]\n",
    "\n",
    "#build T one  row at  a time \n",
    "for i in range(n):\n",
    "    new_row=[original_row[i] for original_row in matrix]\n",
    "    T.append(new_row)"
   ]
  },
  {
   "cell_type": "code",
   "execution_count": 4,
   "metadata": {},
   "outputs": [
    {
     "data": {
      "text/plain": [
       "[[1, 5, 9], [2, 6, 10], [3, 7, 11], [4, 8, 12]]"
      ]
     },
     "execution_count": 4,
     "metadata": {},
     "output_type": "execute_result"
    }
   ],
   "source": [
    "T"
   ]
  },
  {
   "cell_type": "code",
   "execution_count": 5,
   "metadata": {},
   "outputs": [],
   "source": [
    "T = [[original_row[i] for original_row in matrix] for i in range(n)]"
   ]
  },
  {
   "cell_type": "code",
   "execution_count": 6,
   "metadata": {},
   "outputs": [
    {
     "data": {
      "text/plain": [
       "[[1, 5, 9], [2, 6, 10], [3, 7, 11], [4, 8, 12]]"
      ]
     },
     "execution_count": 6,
     "metadata": {},
     "output_type": "execute_result"
    }
   ],
   "source": [
    "T"
   ]
  },
  {
   "cell_type": "markdown",
   "metadata": {},
   "source": [
    "If you were concerned about the *part on the end, don't worry. That is covered in section 4.7 which is wednesday reading. Also, I disagree with the statement in the documentation: In the real world, you should prefer built-in functions to complex flow statements. The zip() function would do a great job for this use case:"
   ]
  },
  {
   "cell_type": "markdown",
   "metadata": {},
   "source": [
    "Breifly, what happens with list(zip(*(matrix)))\n",
    "-  Zip is a function which can take in multiple arguments, e.g. zip(List_1,List_2,...,List_N)\n",
    "-  '*' unpacks a list, so that way the first item in the list can be the first argument of zip, etc\n",
    "-  The zip function puts things back together, it turns out it does this in opposite the original order\n",
    "-  list then converts the answer back to a list "
   ]
  },
  {
   "cell_type": "code",
   "execution_count": 8,
   "metadata": {},
   "outputs": [
    {
     "data": {
      "text/plain": [
       "[(1, 5, 9), (2, 6, 10), (3, 7, 11), (4, 8, 12)]"
      ]
     },
     "execution_count": 8,
     "metadata": {},
     "output_type": "execute_result"
    }
   ],
   "source": [
    "list(zip(*matrix))"
   ]
  },
  {
   "cell_type": "code",
   "execution_count": 9,
   "metadata": {},
   "outputs": [
    {
     "data": {
      "text/plain": [
       "['The blue meanies', 'John', 'Paul', 'Ringo']"
      ]
     },
     "execution_count": 9,
     "metadata": {},
     "output_type": "execute_result"
    }
   ],
   "source": [
    "L=[\"George\", \"John\", \"Paul\", \"Ringo\"]\n",
    "\n",
    "L[0]=\"The blue meanies\"\n",
    "L"
   ]
  },
  {
   "cell_type": "markdown",
   "metadata": {},
   "source": [
    "__Quiz 3__ Booleans: Which evaluate to False\n",
    "\n",
    "-  True or False\n",
    "-  __True and False__\n",
    "-  __(\"o\" in \"boldly\") and (1 in [\"1\",\"2\"])__\n",
    "-  (1>\"0\") or (1<\"0\")"
   ]
  },
  {
   "cell_type": "code",
   "execution_count": 14,
   "metadata": {},
   "outputs": [
    {
     "data": {
      "text/plain": [
       "True"
      ]
     },
     "execution_count": 14,
     "metadata": {},
     "output_type": "execute_result"
    }
   ],
   "source": [
    "\"o\" in \"boldly\""
   ]
  },
  {
   "cell_type": "code",
   "execution_count": 18,
   "metadata": {},
   "outputs": [],
   "source": [
    "s=\"The dog ate rice and beans\""
   ]
  },
  {
   "cell_type": "code",
   "execution_count": 19,
   "metadata": {},
   "outputs": [],
   "source": [
    "#Make a word all upper case if it starts with a vowel all lower case otherwise\n",
    "#vowels a,e,i,o,u"
   ]
  },
  {
   "cell_type": "code",
   "execution_count": 27,
   "metadata": {},
   "outputs": [
    {
     "data": {
      "text/plain": [
       "'the dog ATE rice AND beans '"
      ]
     },
     "execution_count": 27,
     "metadata": {},
     "output_type": "execute_result"
    }
   ],
   "source": [
    "words=s.split()\n",
    "\n",
    "vowels=['a','e','i','o','u','A','E','I','O','U']\n",
    "\n",
    "for i in range(len(words)):\n",
    "    if words[i][0] in vowels:\n",
    "        words[i]=words[i].upper()\n",
    "    else:\n",
    "        words[i]=words[i].lower()\n",
    "\n",
    "#new_sentence\n",
    "new_sentence=\"\"\n",
    "for i in range(len(words)):\n",
    "    new_sentence+=(words[i]+\" \")\n",
    "\n",
    "new_sentence\n",
    "        \n"
   ]
  },
  {
   "cell_type": "code",
   "execution_count": 21,
   "metadata": {},
   "outputs": [],
   "source": [
    "vowels=['a','e']"
   ]
  },
  {
   "cell_type": "code",
   "execution_count": 32,
   "metadata": {},
   "outputs": [
    {
     "data": {
      "text/plain": [
       "'thethe dog ATE rice AND beans dogthe dog ATE rice AND beans ATEthe dog ATE rice AND beans ricethe dog ATE rice AND beans ANDthe dog ATE rice AND beans beans'"
      ]
     },
     "execution_count": 32,
     "metadata": {},
     "output_type": "execute_result"
    }
   ],
   "source": [
    "new_sentence.join(words)"
   ]
  },
  {
   "cell_type": "code",
   "execution_count": 34,
   "metadata": {},
   "outputs": [
    {
     "data": {
      "text/plain": [
       "'KittyCatCupCake'"
      ]
     },
     "execution_count": 34,
     "metadata": {},
     "output_type": "execute_result"
    }
   ],
   "source": [
    "My_list=[\"Kitty\",\"Cat\",\"Cup\",\"Cake\"]\n",
    "newstring=\"\"\n",
    "newstring=newstring.join(My_list)\n",
    "newstring"
   ]
  },
  {
   "cell_type": "code",
   "execution_count": null,
   "metadata": {},
   "outputs": [],
   "source": []
  }
 ],
 "metadata": {
  "kernelspec": {
   "display_name": "Python 3",
   "language": "python",
   "name": "python3"
  },
  "language_info": {
   "codemirror_mode": {
    "name": "ipython",
    "version": 3
   },
   "file_extension": ".py",
   "mimetype": "text/x-python",
   "name": "python",
   "nbconvert_exporter": "python",
   "pygments_lexer": "ipython3",
   "version": "3.8.5"
  }
 },
 "nbformat": 4,
 "nbformat_minor": 4
}
