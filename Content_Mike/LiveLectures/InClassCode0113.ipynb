{
 "cells": [
  {
   "cell_type": "markdown",
   "metadata": {},
   "source": [
    "# Quiz 4 - Question 1 \n",
    "For which of the following values of P will the command P[1] return the value \"s\"?\n",
    "\n",
    "\n",
    "a.\n",
    "P = {\"1\" : \"s\", \"2\" : \"t\"}  - NO because \"1\" is different than 1\n",
    "\n",
    "\n",
    "b.\n",
    "P = [1, \"s\", [1, 2]] - Yes\n",
    "\n",
    "\n",
    "c.\n",
    "P = (1, \"s\", [5, 6]) - Yes\n",
    "\n",
    "\n",
    "d.\n",
    "P = {1, \"s\", [5, 6]} - No - Why?\n",
    "\n",
    "e.\n",
    "P = {1 : \"s\", 2 : \"t\"} - Yes"
   ]
  },
  {
   "cell_type": "markdown",
   "metadata": {},
   "source": [
    "__Example__ \n",
    "\n",
    "Make a  list of lists, called matrix, row zero is 1,1,1,1,1 row 1 is the numbers 1,2,3,4,5, then the next row is\n",
    "1^2, 2^2, 3^2, 4^2, 5^2, up to 1^4,2^4,3^4,4^4,5^4"
   ]
  },
  {
   "cell_type": "code",
   "execution_count": 6,
   "metadata": {},
   "outputs": [
    {
     "data": {
      "text/plain": [
       "[[1, 1, 1, 1, 1],\n",
       " [1, 2, 3, 4, 5],\n",
       " [1, 4, 9, 16, 25],\n",
       " [1, 8, 27, 64, 125],\n",
       " [1, 16, 81, 256, 625]]"
      ]
     },
     "execution_count": 6,
     "metadata": {},
     "output_type": "execute_result"
    }
   ],
   "source": [
    "#lets first do it the long way\n",
    "matrix=[]\n",
    "for i in range(5):\n",
    "    row=[]\n",
    "    for j in range(1,6):\n",
    "        row.append(j**i)\n",
    "    matrix.append(row)\n",
    "matrix"
   ]
  },
  {
   "cell_type": "code",
   "execution_count": 7,
   "metadata": {},
   "outputs": [
    {
     "data": {
      "text/plain": [
       "[[1, 1, 1, 1, 1],\n",
       " [1, 2, 3, 4, 5],\n",
       " [1, 4, 9, 16, 25],\n",
       " [1, 8, 27, 64, 125],\n",
       " [1, 16, 81, 256, 625]]"
      ]
     },
     "execution_count": 7,
     "metadata": {},
     "output_type": "execute_result"
    }
   ],
   "source": [
    "#Medium Lenght way\n",
    "\n",
    "matrix = []\n",
    "for i in range(5):    \n",
    "    row = [j**i for j in range(1,6)]\n",
    "    matrix.append(row)\n",
    "    \n",
    "matrix\n",
    "    \n",
    "    \n"
   ]
  },
  {
   "cell_type": "markdown",
   "metadata": {},
   "source": [
    "The following are equivalent:\n",
    "\n",
    "L=[]\n",
    "\n",
    "for i in X:\n",
    "\n",
    "    L.append( f(i))\n",
    "    \n",
    "    \n",
    "L=[f(i) for i in X]"
   ]
  },
  {
   "cell_type": "code",
   "execution_count": 8,
   "metadata": {},
   "outputs": [
    {
     "data": {
      "text/plain": [
       "[[1, 1, 1, 1, 1],\n",
       " [1, 2, 3, 4, 5],\n",
       " [1, 4, 9, 16, 25],\n",
       " [1, 8, 27, 64, 125],\n",
       " [1, 16, 81, 256, 625]]"
      ]
     },
     "execution_count": 8,
     "metadata": {},
     "output_type": "execute_result"
    }
   ],
   "source": [
    "matrix = [ [j**i for j in range(1,6)] for i in range(5)]\n",
    "    \n",
    "matrix\n"
   ]
  },
  {
   "cell_type": "code",
   "execution_count": 9,
   "metadata": {},
   "outputs": [
    {
     "data": {
      "text/plain": [
       "[0, 1, 4, 9, 16, 25, 36, 49, 64, 81]"
      ]
     },
     "execution_count": 9,
     "metadata": {},
     "output_type": "execute_result"
    }
   ],
   "source": [
    "[n**2 for n in range(10)]"
   ]
  },
  {
   "cell_type": "code",
   "execution_count": 15,
   "metadata": {},
   "outputs": [],
   "source": [
    "def print_n_times(message, n=1):\n",
    "    \"\"\"\n",
    "    This prints the message n times\n",
    "    \"\"\"\n",
    "    for i in range(n):\n",
    "        print(message)"
   ]
  },
  {
   "cell_type": "code",
   "execution_count": 16,
   "metadata": {},
   "outputs": [
    {
     "name": "stdout",
     "output_type": "stream",
     "text": [
      "woof\n"
     ]
    }
   ],
   "source": [
    "print_n_times(\"woof\")"
   ]
  },
  {
   "cell_type": "code",
   "execution_count": 14,
   "metadata": {},
   "outputs": [
    {
     "name": "stdout",
     "output_type": "stream",
     "text": [
      "woof\n",
      "woof\n",
      "woof\n"
     ]
    }
   ],
   "source": [
    "print_n_times(n=3,message=\"woof\")"
   ]
  },
  {
   "cell_type": "code",
   "execution_count": 18,
   "metadata": {},
   "outputs": [],
   "source": [
    "from sklearn.tree import DecisionTreeClassifier\n",
    "?DecisionTreeClassifier"
   ]
  },
  {
   "cell_type": "code",
   "execution_count": 26,
   "metadata": {},
   "outputs": [
    {
     "data": {
      "text/plain": [
       "<matplotlib.collections.PathCollection at 0x1b9d813d280>"
      ]
     },
     "execution_count": 26,
     "metadata": {},
     "output_type": "execute_result"
    },
    {
     "data": {
      "image/png": "[encoded data removed]",
      "text/plain": [
       "<Figure size 432x288 with 1 Axes>"
      ]
     },
     "metadata": {
      "needs_background": "light"
     },
     "output_type": "display_data"
    }
   ],
   "source": [
    "import numpy as np\n",
    "from matplotlib import pyplot as plt\n",
    "X = np.random.rand(100),\n",
    "Y=np.random.rand(100)\n",
    "plt.scatter(X,Y, s=100, alpha=.1)\n",
    "#?plt.scatter"
   ]
  },
  {
   "cell_type": "code",
   "execution_count": 38,
   "metadata": {},
   "outputs": [
    {
     "data": {
      "text/plain": [
       "4.5"
      ]
     },
     "execution_count": 38,
     "metadata": {},
     "output_type": "execute_result"
    }
   ],
   "source": [
    "avg(1,2,3,4,5,6,7,8)"
   ]
  },
  {
   "cell_type": "code",
   "execution_count": 37,
   "metadata": {},
   "outputs": [],
   "source": [
    "def avg(*args):\n",
    "    '''returns the average of some numbers'''\n",
    "    sum=0\n",
    "    count=0\n",
    "    for a in args:\n",
    "        sum+=a\n",
    "        count+=1\n",
    "    return sum/count"
   ]
  },
  {
   "cell_type": "code",
   "execution_count": 33,
   "metadata": {},
   "outputs": [
    {
     "data": {
      "text/plain": [
       "4.5"
      ]
     },
     "execution_count": 33,
     "metadata": {},
     "output_type": "execute_result"
    }
   ],
   "source": []
  },
  {
   "cell_type": "code",
   "execution_count": 34,
   "metadata": {},
   "outputs": [
    {
     "data": {
      "text/plain": [
       "36"
      ]
     },
     "execution_count": 34,
     "metadata": {},
     "output_type": "execute_result"
    }
   ],
   "source": [
    "sum(1,2,3,4,5,6,7,8)"
   ]
  },
  {
   "cell_type": "code",
   "execution_count": 35,
   "metadata": {},
   "outputs": [],
   "source": [
    "del sum"
   ]
  },
  {
   "cell_type": "code",
   "execution_count": 39,
   "metadata": {},
   "outputs": [],
   "source": [
    "#sum(1,2,3)"
   ]
  },
  {
   "cell_type": "code",
   "execution_count": 44,
   "metadata": {},
   "outputs": [
    {
     "data": {
      "text/plain": [
       "[<matplotlib.lines.Line2D at 0x1b9d83015e0>]"
      ]
     },
     "execution_count": 44,
     "metadata": {},
     "output_type": "execute_result"
    },
    {
     "data": {
      "image/png": "[encoded data removed]",
      "text/plain": [
       "<Figure size 432x288 with 1 Axes>"
      ]
     },
     "metadata": {
      "needs_background": "light"
     },
     "output_type": "display_data"
    }
   ],
   "source": [
    "X=np.random.rand(100) #100 random numbers\n",
    "plt.plot(X,color='firebrick',linewidth=.5)\n"
   ]
  },
  {
   "cell_type": "code",
   "execution_count": 52,
   "metadata": {},
   "outputs": [],
   "source": [
    "def line_plot(n, **kwargs):\n",
    "    X=np.random.rand(n)\n",
    "    plt.plot(X,**kwargs)"
   ]
  },
  {
   "cell_type": "code",
   "execution_count": 59,
   "metadata": {},
   "outputs": [
    {
     "data": {
      "image/png": "[encoded data removed]",
      "text/plain": [
       "<Figure size 432x288 with 1 Axes>"
      ]
     },
     "metadata": {
      "needs_background": "light"
     },
     "output_type": "display_data"
    }
   ],
   "source": [
    "line_plot(100,color=\"cyan\",linewidth=2)"
   ]
  },
  {
   "cell_type": "code",
   "execution_count": 58,
   "metadata": {},
   "outputs": [],
   "source": [
    "?plt.plot"
   ]
  },
  {
   "cell_type": "code",
   "execution_count": 60,
   "metadata": {},
   "outputs": [],
   "source": [
    "#another  list of list example\n",
    "Presidents=[\"George Washington\", \"John Adams\", \"Thomsas Jefferson\"]"
   ]
  },
  {
   "cell_type": "code",
   "execution_count": 70,
   "metadata": {},
   "outputs": [
    {
     "data": {
      "text/plain": [
       "[['George', 'Washington'], ['John', 'Adams'], ['Thomsas', 'Jefferson']]"
      ]
     },
     "execution_count": 70,
     "metadata": {},
     "output_type": "execute_result"
    }
   ],
   "source": [
    "L=[full_name.split() for full_name in Presidents]\n",
    "L"
   ]
  },
  {
   "cell_type": "code",
   "execution_count": 67,
   "metadata": {},
   "outputs": [],
   "source": [
    "first=[\"George\", \"John\", \"Thomas\"]\n",
    "last=[\"Washington\", \"Adams\", \"Jefferson\"]\n",
    "first_and_last=list(zip(first,last))"
   ]
  },
  {
   "cell_type": "code",
   "execution_count": 75,
   "metadata": {},
   "outputs": [
    {
     "data": {
      "text/plain": [
       "['George Washington', 'John Adams', 'Thomas Jefferson']"
      ]
     },
     "execution_count": 75,
     "metadata": {},
     "output_type": "execute_result"
    }
   ],
   "source": [
    "#Now suppose I want to get the origingal Presidents list back\n",
    "[ first_and_last[i][0] + \" \" + first_and_last[i][1] for i in range(len(first))]"
   ]
  },
  {
   "cell_type": "code",
   "execution_count": null,
   "metadata": {},
   "outputs": [],
   "source": []
  }
 ],
 "metadata": {
  "kernelspec": {
   "display_name": "Python 3",
   "language": "python",
   "name": "python3"
  },
  "language_info": {
   "codemirror_mode": {
    "name": "ipython",
    "version": 3
   },
   "file_extension": ".py",
   "mimetype": "text/x-python",
   "name": "python",
   "nbconvert_exporter": "python",
   "pygments_lexer": "ipython3",
   "version": "3.8.5"
  }
 },
 "nbformat": 4,
 "nbformat_minor": 4
}
