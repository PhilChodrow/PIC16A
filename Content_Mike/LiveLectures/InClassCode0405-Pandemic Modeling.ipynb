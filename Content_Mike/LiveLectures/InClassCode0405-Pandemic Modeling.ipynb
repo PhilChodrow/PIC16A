{
 "cells": [
  {
   "cell_type": "markdown",
   "metadata": {},
   "source": [
    "# How can we model a Pandemic???\n",
    "\n",
    "There are a wide range of infectious disease models, as many as there are diseases, their variants and strategies to control them. However, the starting point for modeling many infectious diseases is the SIR model, which can be understood as:\n",
    "* **S**: people susceptible to the disease (number of people who can get it)\n",
    "* **I**: those who are infectious with the disease (can spread it)\n",
    "* **R**: people recovered from the disease (they are well and not spreading)\n",
    "\n",
    "    The SIR model is called a `compartment model` because everyone in the population is put into one of three different compartments. You find out more about the model [here](https://en.wikipedia.org/wiki/Compartmental_models_in_epidemiology#The_SIR_model).\n",
    "\n",
    "In this model, we let N be the total population, and let S0, I0, R0 be the number of susceptible, infection, and recovered people at the start of the pandemic. \n",
    "\n",
    "There are two parameters in this model, $\\beta$ which can be thought of as the `coefficient of infection` and and $\\gamma$ which can be thought of as the `coefficient of recovery`. (Disclaimer: I am not an epidemiologist and made these terms up.) \n",
    "\n",
    "The \"official version\" of this model uses calculus and/or differential equations. In this class, we will implement a discrete time version of this model. We will assume that each day\n",
    "- some people move from susceptible to infected: $\\beta SI$\n",
    "- some people move from infected to recovered: $\\gamma I$\n",
    "\n",
    "This leads to the model:\n",
    "\\begin{align*}\n",
    "S_{t+1}-S_t&=-\\beta S_t I_t\\\\\n",
    "I_{t+1}-I_t&=\\beta S_t I_t - \\gamma I_t\\\\\n",
    "R_{t+1}-R_t&= \\gamma I_t\n",
    "\\end{align*}\n",
    "\n",
    "For this example, we will assume N=1000000, I0=10, $\\beta=.0000001$,\n",
    "$\\gamma=.01$, and run the model for 365 days. In the real word, estimating $\\beta$ and $\\gamma$ should be done via statistical methods such as maximum likelihood estimates."
   ]
  },
  {
   "cell_type": "code",
   "execution_count": 13,
   "metadata": {},
   "outputs": [],
   "source": [
    "N=1000000\n",
    "I0=10\n",
    "S0=N-I0\n",
    "R0=0\n",
    "\n",
    "beta=.0000001\n",
    "beta=beta/2\n",
    "gamma=.01\n",
    "N_days=365\n",
    "\n",
    "#How can we code up this model\n",
    "#my solution has seven lines"
   ]
  },
  {
   "cell_type": "code",
   "execution_count": 14,
   "metadata": {},
   "outputs": [],
   "source": [
    "S=[S0]\n",
    "I=[I0]\n",
    "R=[R0]\n",
    "\n",
    "for i in range(1,N_days+1):\n",
    "    S.append(S[i-1]-beta*S[i-1]*I[i-1])\n",
    "    I.append(I[i-1]+beta*S[i-1]*I[i-1]-gamma*I[i-1])\n",
    "    R.append(R[i-1]+gamma*I[i-1])"
   ]
  },
  {
   "cell_type": "code",
   "execution_count": 15,
   "metadata": {},
   "outputs": [
    {
     "data": {
      "text/plain": [
       "464172.8007803756"
      ]
     },
     "execution_count": 15,
     "metadata": {},
     "output_type": "execute_result"
    }
   ],
   "source": [
    "I[350]"
   ]
  },
  {
   "cell_type": "markdown",
   "metadata": {},
   "source": [
    "Now, let's visualize this model. You will learn about matplotlib later in the class."
   ]
  },
  {
   "cell_type": "code",
   "execution_count": 16,
   "metadata": {},
   "outputs": [
    {
     "data": {
      "text/plain": [
       "[<matplotlib.lines.Line2D at 0x1daf6de6040>]"
      ]
     },
     "execution_count": 16,
     "metadata": {},
     "output_type": "execute_result"
    },
    {
     "data": {
      "image/png": "[encoded data removed]",
      "text/plain": [
       "<Figure size 432x288 with 1 Axes>"
      ]
     },
     "metadata": {
      "needs_background": "light"
     },
     "output_type": "display_data"
    }
   ],
   "source": [
    "from matplotlib import pyplot as  plt\n",
    "plt.plot(S)\n",
    "plt.plot(I)\n",
    "plt.plot(R)\n",
    "#This is a bad graph,\n",
    "\n",
    "#we will learn how to make better graphs later\n",
    "#titles\n",
    "#axis labels\n",
    "#log scale\n",
    "#add a legend "
   ]
  },
  {
   "cell_type": "code",
   "execution_count": null,
   "metadata": {},
   "outputs": [],
   "source": [
    "#on the news, people talk alot about R or R0\n",
    "#average number of people each infected person\n",
    "#gives the disease to before recovering\n",
    "#In this model, R=beta/gamma"
   ]
  },
  {
   "cell_type": "markdown",
   "metadata": {},
   "source": [
    "## Other discrete time models\n",
    "\n",
    "### Lotka-Volterra Predatory Prey Model\n",
    "\n",
    "Here we let $H$ be the population of a prey species and $P$ be the population of the predator species.\n",
    "\n",
    "\\begin{align*}\n",
    "H_{t+1}-H_t&=\\alpha H_t - \\beta H_t P_t\\\\\n",
    "P_{t+1}-P_t&=\\gamma H_t P_t - \\delta P_t\n",
    "\\end{align*}\n",
    "\n"
   ]
  },
  {
   "cell_type": "markdown",
   "metadata": {},
   "source": [
    "## Social Science: The Daley-Kendall Model\n",
    "___\n",
    "![rumor](http://www.thatsnonsense.com/wp-content/uploads/2012/01/rumours.jpg)\n",
    "\n",
    "The flow of information through society impacts all of us, whether it be through malicious rumors about us, government propaganda, or fake news cites attempting to influence the government. Daley and Kendall formulated a basic model for the spread of rumors that we can build new models from. Their model has three compartments:\n",
    "1. Ignorants (I): these are people ignorant of the rumor. \n",
    "2. Spreaders (S): these are people actively spreading the rumor.\n",
    "3. Stiflers (R): there are people who are bored with the rumor.\n",
    "\n",
    "More interesting than the compartments of the models are the rules in which they interact:\n",
    "$$I + S \\to S + S,$$\n",
    "$$S + S \\to S + R,$$\n",
    "$$R + S \\to R + R.$$\n",
    "\n",
    "This leads to the following equations:\n",
    "\\begin{align*}\n",
    "I_{t+1}-I_{t}&=-\\beta I_tS_t\\\\\n",
    "S_{t+1}-S_t&=\\beta I_tS_t - \\alpha S_t(S_t+R_t)\\\\\n",
    "R_{t+1}-R_{t}&=\\alpha S_t(S_t+R_t)\n",
    "\\end{align*}"
   ]
  },
  {
   "cell_type": "markdown",
   "metadata": {},
   "source": [
    "# Fibonacci Numbers and Prime Numbers\n",
    "\n",
    "1) Create a list of the first 10 prime numbers\n"
   ]
  },
  {
   "cell_type": "code",
   "execution_count": 18,
   "metadata": {},
   "outputs": [],
   "source": [
    "N=10\n",
    "\n",
    "primes=[]\n",
    "candidate=2\n",
    "while(len(primes)<N):\n",
    "    is_prime=True\n",
    "    for i in range(2,candidate):\n",
    "        if (candidate % i ==0):\n",
    "            is_prime=False\n",
    "    if is_prime:\n",
    "        primes.append(candidate)\n",
    "    candidate+=1\n"
   ]
  },
  {
   "cell_type": "code",
   "execution_count": 19,
   "metadata": {},
   "outputs": [
    {
     "data": {
      "text/plain": [
       "[2, 3, 5, 7, 11, 13, 17, 19, 23, 29]"
      ]
     },
     "execution_count": 19,
     "metadata": {},
     "output_type": "execute_result"
    }
   ],
   "source": [
    "primes"
   ]
  },
  {
   "cell_type": "markdown",
   "metadata": {},
   "source": [
    "2) The  Fibonnaci numbers are given by $a_1=a_2=1$, $a_{n}=a_{n-1}+a_{n-2}$ for $n\\geq 3$.\n",
    "\n",
    "Create a list of the first ten Fibonnaci numbers"
   ]
  },
  {
   "cell_type": "code",
   "execution_count": 20,
   "metadata": {},
   "outputs": [],
   "source": [
    "N=10\n",
    "Fib=[1,1]\n",
    "for i in range(2,N):\n",
    "    Fib.append(Fib[i-1]+Fib[i-2])"
   ]
  },
  {
   "cell_type": "code",
   "execution_count": 21,
   "metadata": {},
   "outputs": [
    {
     "data": {
      "text/plain": [
       "[1, 1, 2, 3, 5, 8, 13, 21, 34, 55]"
      ]
     },
     "execution_count": 21,
     "metadata": {},
     "output_type": "execute_result"
    }
   ],
   "source": [
    "Fib"
   ]
  },
  {
   "cell_type": "code",
   "execution_count": null,
   "metadata": {},
   "outputs": [],
   "source": []
  }
 ],
 "metadata": {
  "kernelspec": {
   "display_name": "Python 3",
   "language": "python",
   "name": "python3"
  },
  "language_info": {
   "codemirror_mode": {
    "name": "ipython",
    "version": 3
   },
   "file_extension": ".py",
   "mimetype": "text/x-python",
   "name": "python",
   "nbconvert_exporter": "python",
   "pygments_lexer": "ipython3",
   "version": "3.8.8"
  }
 },
 "nbformat": 4,
 "nbformat_minor": 4
}
