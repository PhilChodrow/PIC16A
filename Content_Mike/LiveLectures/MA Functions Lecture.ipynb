{
 "cells": [
  {
   "cell_type": "markdown",
   "id": "b6d25033",
   "metadata": {},
   "source": [
    "Getting started with functions is easy"
   ]
  },
  {
   "cell_type": "code",
   "execution_count": 1,
   "id": "fc83c7f8",
   "metadata": {},
   "outputs": [],
   "source": [
    "def absVal(x):\n",
    "    if x>0:\n",
    "        return x\n",
    "    return -x"
   ]
  },
  {
   "cell_type": "code",
   "execution_count": 2,
   "id": "952359bf",
   "metadata": {},
   "outputs": [],
   "source": [
    "def printSum(L):\n",
    "    i=0\n",
    "    for l in L:\n",
    "        i+=l\n",
    "    print(i)"
   ]
  },
  {
   "cell_type": "markdown",
   "id": "213a1f1e",
   "metadata": {},
   "source": [
    "Let's test these out "
   ]
  },
  {
   "cell_type": "code",
   "execution_count": null,
   "id": "10e2334a",
   "metadata": {},
   "outputs": [],
   "source": [
    "R=absVal(8)"
   ]
  },
  {
   "cell_type": "code",
   "execution_count": 4,
   "id": "4765980c",
   "metadata": {},
   "outputs": [],
   "source": [
    "R=absVal(-8)"
   ]
  },
  {
   "cell_type": "code",
   "execution_count": 6,
   "id": "aba1e864",
   "metadata": {},
   "outputs": [
    {
     "name": "stdout",
     "output_type": "stream",
     "text": [
      "10\n"
     ]
    }
   ],
   "source": [
    "L=[1,2,3,4]\n",
    "printSum(L)"
   ]
  },
  {
   "cell_type": "markdown",
   "id": "32aea7b9",
   "metadata": {},
   "source": [
    "Biggest Difference, don't have to specify types. This can be good or bad."
   ]
  },
  {
   "cell_type": "code",
   "execution_count": 7,
   "id": "4bcbe1d4",
   "metadata": {},
   "outputs": [
    {
     "name": "stdout",
     "output_type": "stream",
     "text": [
      "6\n"
     ]
    }
   ],
   "source": [
    "#this works\n",
    "T=(1,2,3)\n",
    "printSum(T)"
   ]
  },
  {
   "cell_type": "code",
   "execution_count": 9,
   "id": "25e86796",
   "metadata": {},
   "outputs": [],
   "source": [
    "#error\n",
    "i=4\n",
    "#printSum(i)"
   ]
  },
  {
   "cell_type": "markdown",
   "id": "4bdaf369",
   "metadata": {},
   "source": [
    "Functions can either have a return or no return. In C++ we said functions with no return were called Procedures and we had return type void."
   ]
  },
  {
   "cell_type": "code",
   "execution_count": 10,
   "id": "4d591a5e",
   "metadata": {},
   "outputs": [
    {
     "name": "stdout",
     "output_type": "stream",
     "text": [
      "10\n"
     ]
    }
   ],
   "source": [
    "x=printSum(L)"
   ]
  },
  {
   "cell_type": "code",
   "execution_count": 11,
   "id": "3728b4cb",
   "metadata": {},
   "outputs": [
    {
     "name": "stdout",
     "output_type": "stream",
     "text": [
      "None\n"
     ]
    }
   ],
   "source": [
    "print(x)"
   ]
  },
  {
   "cell_type": "code",
   "execution_count": 12,
   "id": "2459bef1",
   "metadata": {},
   "outputs": [
    {
     "data": {
      "text/plain": [
       "NoneType"
      ]
     },
     "execution_count": 12,
     "metadata": {},
     "output_type": "execute_result"
    }
   ],
   "source": [
    "type(x)"
   ]
  },
  {
   "cell_type": "markdown",
   "id": "6f8b971e",
   "metadata": {},
   "source": [
    "When there is no return, the function returns a \"NoneType\" variable"
   ]
  },
  {
   "cell_type": "markdown",
   "id": "793065b1",
   "metadata": {},
   "source": [
    "You can also use return without a return value "
   ]
  },
  {
   "cell_type": "code",
   "execution_count": 13,
   "id": "87077d4e",
   "metadata": {},
   "outputs": [],
   "source": [
    "def printSum(L):\n",
    "    i=0\n",
    "    for l in L:\n",
    "        i+=l\n",
    "    print(i)\n",
    "    return"
   ]
  },
  {
   "cell_type": "code",
   "execution_count": 14,
   "id": "bd2e5131",
   "metadata": {},
   "outputs": [
    {
     "name": "stdout",
     "output_type": "stream",
     "text": [
      "10\n",
      "None <class 'NoneType'>\n"
     ]
    }
   ],
   "source": [
    "x=printSum(L)\n",
    "print(x,type(x))"
   ]
  },
  {
   "cell_type": "markdown",
   "id": "f7ccc33b",
   "metadata": {},
   "source": [
    "return is useful if you want to break out of a function inside an if loop or something"
   ]
  },
  {
   "cell_type": "markdown",
   "id": "e35fa333",
   "metadata": {},
   "source": [
    "How to picture a function?"
   ]
  },
  {
   "cell_type": "code",
   "execution_count": 15,
   "id": "c9a4b6a7",
   "metadata": {},
   "outputs": [],
   "source": [
    "def f():\n",
    "    pass #can't just have nothing, instead you put pass"
   ]
  },
  {
   "cell_type": "code",
   "execution_count": 16,
   "id": "85296868",
   "metadata": {},
   "outputs": [
    {
     "name": "stdout",
     "output_type": "stream",
     "text": [
      "<class 'function'>\n"
     ]
    }
   ],
   "source": [
    "print(type(f))"
   ]
  },
  {
   "cell_type": "code",
   "execution_count": 17,
   "id": "893e790c",
   "metadata": {},
   "outputs": [
    {
     "name": "stdout",
     "output_type": "stream",
     "text": [
      "2080175573888\n"
     ]
    }
   ],
   "source": [
    "print(id(f))"
   ]
  },
  {
   "cell_type": "markdown",
   "id": "7fe1cb49",
   "metadata": {},
   "source": [
    "Functions are just another type of variable"
   ]
  },
  {
   "cell_type": "markdown",
   "id": "6d5767fa",
   "metadata": {},
   "source": [
    "This means, the following is allowed "
   ]
  },
  {
   "cell_type": "code",
   "execution_count": 19,
   "id": "604c5082",
   "metadata": {},
   "outputs": [],
   "source": [
    "f=absVal"
   ]
  },
  {
   "cell_type": "code",
   "execution_count": 20,
   "id": "a93046b1",
   "metadata": {},
   "outputs": [
    {
     "name": "stdout",
     "output_type": "stream",
     "text": [
      "<function absVal at 0x000001E45412ECA0>\n",
      "<function absVal at 0x000001E45412ECA0>\n"
     ]
    }
   ],
   "source": [
    "print(f)\n",
    "print(absVal)"
   ]
  },
  {
   "cell_type": "code",
   "execution_count": 21,
   "id": "d4b5b3d8",
   "metadata": {},
   "outputs": [
    {
     "data": {
      "text/plain": [
       "(8, 8)"
      ]
     },
     "execution_count": 21,
     "metadata": {},
     "output_type": "execute_result"
    }
   ],
   "source": [
    "f(8),f(-8)"
   ]
  },
  {
   "cell_type": "markdown",
   "id": "eb679af4",
   "metadata": {},
   "source": [
    "Functions are just like any other variable, which makes it easy to pass functions into functions"
   ]
  },
  {
   "cell_type": "code",
   "execution_count": 22,
   "id": "15137f82",
   "metadata": {},
   "outputs": [],
   "source": [
    "def g(func):\n",
    "    func([1,2,3])\n",
    "    func([1,2,3,4])"
   ]
  },
  {
   "cell_type": "code",
   "execution_count": 23,
   "id": "be7ad074",
   "metadata": {},
   "outputs": [
    {
     "name": "stdout",
     "output_type": "stream",
     "text": [
      "6\n",
      "10\n"
     ]
    }
   ],
   "source": [
    "g(printSum)"
   ]
  },
  {
   "cell_type": "markdown",
   "id": "af35f1b9",
   "metadata": {},
   "source": [
    "(Passing functions into functions in C++ is very hard) This but having functions just be another type of variable fixes this problem\n",
    "\n"
   ]
  },
  {
   "cell_type": "code",
   "execution_count": 25,
   "id": "d49a238a",
   "metadata": {},
   "outputs": [
    {
     "name": "stdout",
     "output_type": "stream",
     "text": [
      "[]\n"
     ]
    }
   ],
   "source": [
    "#what does this code do?\n",
    "def f(L):\n",
    "    L=[0]\n",
    "    \n",
    "x=[]\n",
    "f(x)\n",
    "\n",
    "print(x)"
   ]
  },
  {
   "cell_type": "code",
   "execution_count": 26,
   "id": "7aced78f",
   "metadata": {},
   "outputs": [
    {
     "name": "stdout",
     "output_type": "stream",
     "text": [
      "[0]\n"
     ]
    }
   ],
   "source": [
    "#what does this code do?\n",
    "def f(L):\n",
    "    L.append(0)\n",
    "    \n",
    "x=[]\n",
    "f(x)\n",
    "\n",
    "print(x)"
   ]
  },
  {
   "cell_type": "markdown",
   "id": "b23e936f",
   "metadata": {},
   "source": [
    "How function calls work in C++\n",
    "\n",
    "\n",
    "THIS CODE \n",
    "\n",
    "int f(int i) {\n",
    "    cout << i << endl;\n",
    "    i=i+1;\n",
    "    cout << i << endl;\n",
    "    \n",
    "   return i;\n",
    "   }\n",
    "   \n",
    "int main(){\n",
    "    int j1=0;\n",
    "    \n",
    "   int j2=f(j1);\n",
    "   \n",
    "   cout << j1 << \" \" << i2<<endl;\n",
    "   \n",
    "   return 0;\n",
    "   \n",
    "   }\n",
    "   \n",
    "IS EQUIVALENT TO THIS CODE\n",
    "\n",
    "\n",
    "int main(){\n",
    "    int j1=0;\n",
    "    \n",
    "   int j2;\n",
    "   \n",
    "   {#create a scope\n",
    "       int i=j1;\n",
    "       cout << i << endl;\n",
    "        i=i+1;\n",
    "        cout << i << endl;\n",
    "        j2=i #j2 lives in the global scope so it survives when we end the curly braces\n",
    "   }\n",
    "   \n",
    "   cout << j1 << \" \" << i2<<endl;\n",
    "   \n",
    "   return 0;\n",
    "   \n",
    "   }"
   ]
  },
  {
   "cell_type": "markdown",
   "id": "abd841c5",
   "metadata": {},
   "source": [
    "Recap: function calls\n",
    "1) create global  variable\n",
    "\n",
    "2) creat a local scope and do parameter assignments\n",
    "\n",
    "3) run the code inside  the function \n",
    "\n",
    "4) pass return value to a global variable"
   ]
  },
  {
   "cell_type": "markdown",
   "id": "883ef8a6",
   "metadata": {},
   "source": [
    "### Now, let's process Python function  calls "
   ]
  },
  {
   "cell_type": "code",
   "execution_count": 28,
   "id": "968bf2d3",
   "metadata": {},
   "outputs": [
    {
     "name": "stdout",
     "output_type": "stream",
     "text": [
      "[]\n"
     ]
    }
   ],
   "source": [
    "#def f(L): #below code is equivalent\n",
    "#    L=[0]\n",
    "    \n",
    "x=[]  #global variable\n",
    "\n",
    "# introduce a function scope \"inside your head\" (no braces equivalent)\n",
    "\n",
    "L=x #assign argument to parameters in local scope\n",
    "\n",
    "L=[0] #run function definition\n",
    "\n",
    "del L #end the function scope\n",
    "\n",
    "#f(x) #the above code is equivalent to calling the function \n",
    "\n",
    "print(x)"
   ]
  },
  {
   "cell_type": "code",
   "execution_count": 29,
   "id": "caab7aeb",
   "metadata": {},
   "outputs": [
    {
     "name": "stdout",
     "output_type": "stream",
     "text": [
      "[0]\n"
     ]
    }
   ],
   "source": [
    "def f(L):\n",
    "    L=[0]\n",
    "    \n",
    "x=[]  #global variable\n",
    "\n",
    "# introduce a function scope \"inside your head\" (no braces equivalent)\n",
    "\n",
    "L=x #assign argument to parameters in local scope\n",
    "\n",
    "L.append(0) #run function definition\n",
    "\n",
    "del L #end the function scope\n",
    "\n",
    "#f(x) #the above code is equivalent to calling the function \n",
    "\n",
    "print(x)"
   ]
  },
  {
   "cell_type": "markdown",
   "id": "9fa54ee8",
   "metadata": {},
   "source": [
    "Recall objects are only garbage collected if there is nothing pointing to them "
   ]
  },
  {
   "cell_type": "code",
   "execution_count": 32,
   "id": "4afa7f7e",
   "metadata": {},
   "outputs": [
    {
     "name": "stdout",
     "output_type": "stream",
     "text": [
      "[1, 2, 3]\n"
     ]
    }
   ],
   "source": [
    "x=[1,2,3]\n",
    "y=x  #now [1,2,3] has two variables referncing it\n",
    "del x #now it still has one\n",
    "print(y)"
   ]
  },
  {
   "cell_type": "markdown",
   "id": "00c0d0e0",
   "metadata": {},
   "source": [
    "Pass by value vs pass by ref?\n",
    "\n",
    "First thing we do is make a new varible L who gets the value of x, so its pass by value, but we are really \n",
    "having L reference to the same object as x, so \"value is not value, value is reference\""
   ]
  },
  {
   "cell_type": "markdown",
   "id": "9536c440",
   "metadata": {},
   "source": [
    "Now let's thing about scope "
   ]
  },
  {
   "cell_type": "code",
   "execution_count": 40,
   "id": "47bd83fe",
   "metadata": {},
   "outputs": [],
   "source": [
    "def f():\n",
    "    print(j)\n",
    "#this is fine"
   ]
  },
  {
   "cell_type": "code",
   "execution_count": 42,
   "id": "72c459a8",
   "metadata": {},
   "outputs": [],
   "source": [
    "# f() #error"
   ]
  },
  {
   "cell_type": "code",
   "execution_count": 43,
   "id": "cd9a4efe",
   "metadata": {},
   "outputs": [
    {
     "name": "stdout",
     "output_type": "stream",
     "text": [
      "8\n"
     ]
    }
   ],
   "source": [
    "j=8\n",
    "f()"
   ]
  },
  {
   "cell_type": "markdown",
   "id": "53842062",
   "metadata": {},
   "source": [
    "can access global variables inside the function!"
   ]
  },
  {
   "cell_type": "code",
   "execution_count": 44,
   "id": "7e9eb264",
   "metadata": {},
   "outputs": [],
   "source": [
    "def f():\n",
    "    L.append(0)"
   ]
  },
  {
   "cell_type": "code",
   "execution_count": 46,
   "id": "7b0eaee7",
   "metadata": {},
   "outputs": [],
   "source": [
    "#f()"
   ]
  },
  {
   "cell_type": "code",
   "execution_count": 49,
   "id": "c1bef18a",
   "metadata": {},
   "outputs": [],
   "source": [
    "#Weird example\n",
    "L=[]\n",
    "f()"
   ]
  },
  {
   "cell_type": "code",
   "execution_count": 50,
   "id": "6edf857c",
   "metadata": {},
   "outputs": [
    {
     "name": "stdout",
     "output_type": "stream",
     "text": [
      "[0]\n"
     ]
    }
   ],
   "source": [
    "print(L)"
   ]
  },
  {
   "cell_type": "markdown",
   "id": "a1bd1a9e",
   "metadata": {},
   "source": [
    "We modified a global variable in the local scope.\n",
    "\n",
    "___Rule for when is something local or global, the only rule:___ If a varible is assigned to during a function call, then it is local, otherwise it is global. (This includes parameters)"
   ]
  },
  {
   "cell_type": "code",
   "execution_count": 56,
   "id": "81e6066f",
   "metadata": {},
   "outputs": [
    {
     "name": "stdout",
     "output_type": "stream",
     "text": [
      "[]\n"
     ]
    }
   ],
   "source": [
    "def f():\n",
    "    L=[]\n",
    "    L.append(0)\n",
    "    \n",
    "L=[]\n",
    "f()\n",
    "#when a function is called,  \n",
    "#1) first thing that happens is a local symbol table is creatted\n",
    "#1A) All local variables are created \n",
    "#2) Arguments are assigned to parameters\n",
    "#3) Code inside the function\n",
    "#4) Delete local symbol table\n",
    "print(L)"
   ]
  },
  {
   "cell_type": "code",
   "execution_count": 53,
   "id": "21d6b68f",
   "metadata": {},
   "outputs": [
    {
     "name": "stdout",
     "output_type": "stream",
     "text": [
      "[0]\n"
     ]
    }
   ],
   "source": [
    "#almost the same example\n",
    "def f():\n",
    "    #L=[]  #only difference\n",
    "    L.append(0)\n",
    "    \n",
    "L=[]\n",
    "f()\n",
    "print(L)"
   ]
  },
  {
   "cell_type": "code",
   "execution_count": 55,
   "id": "c7d138d5",
   "metadata": {},
   "outputs": [
    {
     "ename": "UnboundLocalError",
     "evalue": "local variable 'L' referenced before assignment",
     "output_type": "error",
     "traceback": [
      "\u001b[1;31m---------------------------------------------------------------------------\u001b[0m",
      "\u001b[1;31mUnboundLocalError\u001b[0m                         Traceback (most recent call last)",
      "\u001b[1;32m<ipython-input-55-10257dabec6a>\u001b[0m in \u001b[0;36m<module>\u001b[1;34m\u001b[0m\n\u001b[0;32m      5\u001b[0m \u001b[1;33m\u001b[0m\u001b[0m\n\u001b[0;32m      6\u001b[0m \u001b[0mL\u001b[0m\u001b[1;33m=\u001b[0m\u001b[1;33m[\u001b[0m\u001b[1;33m]\u001b[0m\u001b[1;33m\u001b[0m\u001b[1;33m\u001b[0m\u001b[0m\n\u001b[1;32m----> 7\u001b[1;33m \u001b[0mf\u001b[0m\u001b[1;33m(\u001b[0m\u001b[1;33m)\u001b[0m\u001b[1;33m\u001b[0m\u001b[1;33m\u001b[0m\u001b[0m\n\u001b[0m\u001b[0;32m      8\u001b[0m \u001b[0mprint\u001b[0m\u001b[1;33m(\u001b[0m\u001b[0mL\u001b[0m\u001b[1;33m)\u001b[0m\u001b[1;33m\u001b[0m\u001b[1;33m\u001b[0m\u001b[0m\n",
      "\u001b[1;32m<ipython-input-55-10257dabec6a>\u001b[0m in \u001b[0;36mf\u001b[1;34m()\u001b[0m\n\u001b[0;32m      1\u001b[0m \u001b[1;31m#tricky\u001b[0m\u001b[1;33m\u001b[0m\u001b[1;33m\u001b[0m\u001b[1;33m\u001b[0m\u001b[0m\n\u001b[0;32m      2\u001b[0m \u001b[1;32mdef\u001b[0m \u001b[0mf\u001b[0m\u001b[1;33m(\u001b[0m\u001b[1;33m)\u001b[0m\u001b[1;33m:\u001b[0m\u001b[1;33m\u001b[0m\u001b[1;33m\u001b[0m\u001b[0m\n\u001b[1;32m----> 3\u001b[1;33m     \u001b[0mL\u001b[0m\u001b[1;33m.\u001b[0m\u001b[0mappend\u001b[0m\u001b[1;33m(\u001b[0m\u001b[1;36m0\u001b[0m\u001b[1;33m)\u001b[0m\u001b[1;33m\u001b[0m\u001b[1;33m\u001b[0m\u001b[0m\n\u001b[0m\u001b[0;32m      4\u001b[0m     \u001b[0mL\u001b[0m\u001b[1;33m=\u001b[0m\u001b[1;33m[\u001b[0m\u001b[1;33m]\u001b[0m  \u001b[1;31m#only difference\u001b[0m\u001b[1;33m\u001b[0m\u001b[1;33m\u001b[0m\u001b[0m\n\u001b[0;32m      5\u001b[0m \u001b[1;33m\u001b[0m\u001b[0m\n",
      "\u001b[1;31mUnboundLocalError\u001b[0m: local variable 'L' referenced before assignment"
     ]
    }
   ],
   "source": [
    "#tricky\n",
    "def f():\n",
    "    L.append(0)\n",
    "    L=[]  #only difference\n",
    "    \n",
    "L=[]\n",
    "f()\n",
    "print(L)"
   ]
  },
  {
   "cell_type": "code",
   "execution_count": null,
   "id": "bbefeb1f",
   "metadata": {},
   "outputs": [],
   "source": []
  }
 ],
 "metadata": {
  "kernelspec": {
   "display_name": "Python 3",
   "language": "python",
   "name": "python3"
  },
  "language_info": {
   "codemirror_mode": {
    "name": "ipython",
    "version": 3
   },
   "file_extension": ".py",
   "mimetype": "text/x-python",
   "name": "python",
   "nbconvert_exporter": "python",
   "pygments_lexer": "ipython3",
   "version": "3.8.8"
  }
 },
 "nbformat": 4,
 "nbformat_minor": 5
}
