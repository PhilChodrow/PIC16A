{
 "cells": [
  {
   "cell_type": "code",
   "execution_count": 1,
   "metadata": {},
   "outputs": [],
   "source": [
    "\n",
    "class Vector:\n",
    "    \"\"\"\n",
    "    2D vector class supporting additon, subtraction, and scalar multiplication\n",
    "    \"\"\"\n",
    "\n",
    "    \n",
    "    def __init__(self,x,y):\n",
    "        self.x=x\n",
    "        self.y=y\n",
    "    \n",
    "    def scalar_multiply(self,c):\n",
    "        \"\"\"returns a Vector with components multiplied by c\"\"\"\n",
    "        return Vector(c*self.x,c*self.y)\n",
    "    \n",
    "    #These are self explanatory (as is the intializer)\n",
    "    def __str__(self):\n",
    "        return(\"<\"+str(self.x)+\",\"+str(self.y)+\">\")\n",
    "    \n",
    "    def __add__(self,other):\n",
    "        return(Vector(self.x+other.x,self.y+other.y))\n",
    "    \n",
    "    def __sub__(self,other):\n",
    "        return(Vector(self.x-other.x,self.y-other.y))"
   ]
  },
  {
   "cell_type": "code",
   "execution_count": 4,
   "metadata": {},
   "outputs": [],
   "source": [
    "class Wizard:\n",
    "    \n",
    "    school = \"Hogwarts School of Witchcraft and Wizardry\"\n",
    "    health=100\n",
    "    \n",
    "    def __init__(self, first,last,skill):\n",
    "        self.first=first\n",
    "        self.last=last\n",
    "        self.skill=skill\n",
    "\n",
    "        \n",
    "    def introduce(self):\n",
    "        print(\"Hello, I am \" + self.first  + \" \" + self.last +\" of \"+ self.school)\n",
    "        \n",
    "    def train(self,other):\n",
    "        if other.skill<self.skill:\n",
    "            other.skill+=1\n",
    "        else:\n",
    "            print(\"Sorry, you are already more skilled than me\")\n",
    "    \n",
    "    \n",
    "        \n",
    "class HogwartsProfessor(Wizard):\n",
    "    \n",
    "    #This is called OVERRIDING\n",
    "    def introduce(self):\n",
    "        print(\"Hello, I am Professor \" + self.first  + \" \" + self.last +\" of \"+ self.school)\n",
    "        \n",
    "    def start_class(self):\n",
    "        print(\"Put down your wands and open up your spell book, its time to start class.\")\n",
    "\n",
    "        \n",
    "class HogwartsProfessor(Wizard):\n",
    "    \n",
    "    #This is called OVERRIDING\n",
    "    def introduce(self):\n",
    "        print(\"Hello, I am Professor \" + self.first  + \" \" + self.last +\" of \"+ self.school)\n",
    "        \n",
    "class Jedi:\n",
    "    \n",
    "    allegiance = \"the Jedi order\"\n",
    "    health=100\n",
    "    \n",
    "    def __init__(self, first,last,skill):\n",
    "        self.first=first\n",
    "        self.last=last\n",
    "        self.skill=skill\n",
    "\n",
    "        \n",
    "    def introduce(self):\n",
    "        print(\"Hello, I am \" + self.first  + \" \" + self.last +\" of \"+ self.allegiance)\n",
    "        \n",
    "    def train(self,other):\n",
    "        if other.skill<self.skill:\n",
    "            other.skill+=1\n",
    "        else:\n",
    "            print(\"The is nothing that I can teach you\")\n",
    "    \n",
    "    \n",
    "        \n",
    "class JediMaster(Jedi):\n",
    "    \n",
    "    #This is called OVERRIDING\n",
    "    def introduce(self):\n",
    "        print(\"Hello, I am Master \" + self.first  + \" \" + self.last +\" of \"+ self.allegiance)\n",
    "        \n",
    "    def call_meeting(self):\n",
    "        print(\"I am calling a meeting of the Jedi Council.\")\n",
    "    \n",
    "class DeathEater(Wizard):\n",
    "    \n",
    "    school=\"EvilHogwarts\"\n",
    "    def attack(self,other):\n",
    "        other.health-=1\n",
    "    def AvadaKedavra(self,other):\n",
    "        other.health=0\n",
    "    def start_class(self):\n",
    "        print(\"Alright students, open up your spell book, its time to start class.\")\n",
    "     \n",
    "    def humble_intro(self):\n",
    "        super().introduce()"
   ]
  },
  {
   "cell_type": "code",
   "execution_count": 3,
   "metadata": {},
   "outputs": [],
   "source": [
    "class Jedi:\n",
    "    \n",
    "    allegiance = \"the Jedi order\"\n",
    "    health=100\n",
    "    \n",
    "    def __init__(self, first,last,skill):\n",
    "        self.first=first\n",
    "        self.last=last\n",
    "        self.skill=skill\n",
    "\n",
    "        \n",
    "    def introduce(self):\n",
    "        print(\"Hello, I am \" + self.first  + \" \" + self.last +\" of \"+ self.allegiance)\n",
    "        \n",
    "    def train(self,other):\n",
    "        if other.skill<self.skill:\n",
    "            other.skill+=1\n",
    "        else:\n",
    "            print(\"The is nothing that I can teach you\")\n",
    "    \n",
    "    \n",
    "        \n",
    "class JediMaster(Jedi):\n",
    "    \n",
    "    #This is called OVERRIDING\n",
    "    def introduce(self):\n",
    "        print(\"Hello, I am Master \" + self.first  + \" \" + self.last +\" of \"+ self.allegiance)\n",
    "        \n",
    "    def call_meeting(self):\n",
    "        print(\"I am calling a meeting of the Jedi Council.\")\n",
    "    \n",
    "class DeathEater(Wizard):\n",
    "    \n",
    "    school=\"EvilHogwarts\"\n",
    "    def attack(self,other):\n",
    "        other.health-=1\n",
    "    def AvadaKedavra(self,other):\n",
    "        other.health=0"
   ]
  },
  {
   "cell_type": "markdown",
   "metadata": {},
   "source": [
    "# Quiz 8 Problem 1\n",
    "\n",
    "Choose all of the true statements below\n"
   ]
  },
  {
   "cell_type": "markdown",
   "metadata": {},
   "source": [
    "Every class definition must be written with an __init__() method in order for the definition to run without an error. \n",
    "\n",
    "__False__ \n",
    "\n",
    "Class and instance variables can be accessed either by custom-designed functions or by direct reference. __True__\n",
    "\n",
    "Both class and instance variables must be preceded by self when referenced inside the class definition. __True__ "
   ]
  },
  {
   "cell_type": "code",
   "execution_count": 6,
   "metadata": {},
   "outputs": [
    {
     "name": "stdout",
     "output_type": "stream",
     "text": [
      "12 12\n"
     ]
    }
   ],
   "source": [
    "class Dog:\n",
    "    cute = True\n",
    "    \n",
    "    def __init__(self,age,weight,breed):\n",
    "        self.age=age\n",
    "        self.weight=weight\n",
    "        self.breed=breed\n",
    "        \n",
    "    def get_age(self):\n",
    "        return self.age\n",
    "    \n",
    "    \n",
    "skippy=Dog(12,80,\"Golden Retriever\")\n",
    "\n",
    "print(skippy.age, skippy.get_age())"
   ]
  },
  {
   "cell_type": "markdown",
   "metadata": {},
   "source": [
    "# Quiz 9\n",
    "\n",
    "## Question 1 \n",
    "\n",
    "\n",
    "Consider the following code: \n",
    "\n",
    "class student:\n",
    "\n",
    "       classes = []\n",
    "\n",
    "student1 = student()\n",
    "\n",
    "student2 = student()\n",
    "\n",
    "Which of the following commands will result in an object student2 such that student2.classes has value [\"PIC16A\"]? Choose all that apply. \n",
    "\n",
    "student1.classes.append(\"PIC16A\") __correct__\n",
    "\n",
    "student2.classes.append(\"PIC16A\")  __correct__\n",
    "\n",
    "student2 = student(classes = [\"PIC16A\"]) __incorrect__ might be able to work if we had an init method\n",
    "\n",
    "student2.set(\"classes\", [\"PIC16A\"]) __incorrect__ would need to write a set functon"
   ]
  },
  {
   "cell_type": "markdown",
   "metadata": {},
   "source": [
    "There three key functions \n",
    "\n",
    "follow_link (random walk) - is called 85% of the time, try to do a random-walk, except if there is no options, in which case you call teleport \n",
    "\n",
    "teleport - is called 15% of the time \n",
    "\n",
    "next - calls both follow link (85%) and teleport (15%) "
   ]
  },
  {
   "cell_type": "markdown",
   "metadata": {},
   "source": [
    "Here is the idea.\n",
    "\n",
    "1) Flip a weighted coin.\n",
    "2) If weight coin comes up heads call follow_link\n",
    "3) If it it comes up tails call teleport\n",
    "4) repeat until done"
   ]
  },
  {
   "cell_type": "code",
   "execution_count": 14,
   "metadata": {},
   "outputs": [],
   "source": [
    "\n",
    "class Vector:\n",
    "    \"\"\"\n",
    "    2D vector class supporting additon, subtraction, and scalar multiplication\n",
    "    \"\"\"\n",
    "\n",
    "    \n",
    "    def __init__(self,x,y):\n",
    "        self.x=x\n",
    "        self.y=y\n",
    "    \n",
    "    def scalar_multiply(self,c):\n",
    "        \"\"\"returns a Vector with components multiplied by c\"\"\"\n",
    "        return Vector(c*self.x,c*self.y)\n",
    "    \n",
    "    #These are self explanatory (as is the intializer)\n",
    "    def __str__(self):\n",
    "        return(\"<\"+str(self.x)+\",\"+str(self.y)+\">\")\n",
    "    \n",
    "    def __add__(self,other):\n",
    "        return(Vector(self.x+other.x,self.y+other.y))\n",
    "    \n",
    "    def __sub__(self,other):\n",
    "        return(Vector(self.x-other.x,self.y-other.y))\n",
    "    \n",
    "    def __mul__(self,other):\n",
    "        \"\"\"\n",
    "        pointwise multiplication\n",
    "        \"\"\"        \n",
    "        return(Vector(self.x*other.x,self.y*other.y))\n",
    "    \n",
    "    def __truediv__(self,other):\n",
    "        \"\"\"\n",
    "        pointwise division\n",
    "        returns nans if you divide by zero\n",
    "        or try to do arithmetic with nans\n",
    "        \"\"\"\n",
    "        if other.x==0 or other.x==\"nan\" or self.x==\"nan\":\n",
    "            answer_x=\"nan\"\n",
    "        else:\n",
    "            answer_x=self.x/other.x\n",
    "        if other.x==0 or other.x==\"nan\" or self.x==\"nan\":\n",
    "            answer_y=\"nan\"\n",
    "        else:\n",
    "            answer_y=self.y/other.y\n",
    "        return(Vector(answer_x,answer_y))\n",
    "    \n",
    "    def apply(self,f):\n",
    "        \"\"\"\n",
    "        return the vector (f(x),f(y))\n",
    "        \"\"\"\n",
    "        return(Vector(f(self.x),f(self.y)))\n"
   ]
  },
  {
   "cell_type": "code",
   "execution_count": 17,
   "metadata": {},
   "outputs": [
    {
     "name": "stdout",
     "output_type": "stream",
     "text": [
      "<0.9092974268256817,0.0>\n"
     ]
    }
   ],
   "source": [
    "# Suppose we want to compute the sin(u)\n",
    "u=Vector(2,0)\n",
    "#return vector(sin(2),sin(0))\n",
    "import math\n",
    "z=u.apply(math.sin)\n",
    "print(z)\n",
    "\n",
    "\n"
   ]
  },
  {
   "cell_type": "code",
   "execution_count": 18,
   "metadata": {},
   "outputs": [
    {
     "data": {
      "text/plain": [
       "<function math.sin(x, /)>"
      ]
     },
     "execution_count": 18,
     "metadata": {},
     "output_type": "execute_result"
    }
   ],
   "source": [
    "math.sin"
   ]
  },
  {
   "cell_type": "code",
   "execution_count": 19,
   "metadata": {},
   "outputs": [
    {
     "ename": "TypeError",
     "evalue": "sin() takes exactly one argument (0 given)",
     "output_type": "error",
     "traceback": [
      "\u001b[1;31m---------------------------------------------------------------------------\u001b[0m",
      "\u001b[1;31mTypeError\u001b[0m                                 Traceback (most recent call last)",
      "\u001b[1;32m<ipython-input-19-8fe5d4d4b924>\u001b[0m in \u001b[0;36m<module>\u001b[1;34m\u001b[0m\n\u001b[1;32m----> 1\u001b[1;33m \u001b[0mmath\u001b[0m\u001b[1;33m.\u001b[0m\u001b[0msin\u001b[0m\u001b[1;33m(\u001b[0m\u001b[1;33m)\u001b[0m \u001b[1;31m#trying to call the function with zero arguments\u001b[0m\u001b[1;33m\u001b[0m\u001b[1;33m\u001b[0m\u001b[0m\n\u001b[0m",
      "\u001b[1;31mTypeError\u001b[0m: sin() takes exactly one argument (0 given)"
     ]
    }
   ],
   "source": [
    "math.sin() #trying to call the function with zero arguments"
   ]
  },
  {
   "cell_type": "code",
   "execution_count": null,
   "metadata": {},
   "outputs": [],
   "source": []
  }
 ],
 "metadata": {
  "kernelspec": {
   "display_name": "Python 3",
   "language": "python",
   "name": "python3"
  },
  "language_info": {
   "codemirror_mode": {
    "name": "ipython",
    "version": 3
   },
   "file_extension": ".py",
   "mimetype": "text/x-python",
   "name": "python",
   "nbconvert_exporter": "python",
   "pygments_lexer": "ipython3",
   "version": "3.8.5"
  }
 },
 "nbformat": 4,
 "nbformat_minor": 4
}
