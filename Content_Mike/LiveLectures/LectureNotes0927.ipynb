{
 "cells": [
  {
   "cell_type": "markdown",
   "id": "b201db1f",
   "metadata": {},
   "source": [
    "# Python Variables \n",
    "\n",
    "Dynamically typed..."
   ]
  },
  {
   "cell_type": "code",
   "execution_count": null,
   "id": "f52b92b7",
   "metadata": {},
   "outputs": [],
   "source": []
  },
  {
   "cell_type": "code",
   "execution_count": 1,
   "id": "65e8d7a4",
   "metadata": {},
   "outputs": [],
   "source": [
    "x=1"
   ]
  },
  {
   "cell_type": "code",
   "execution_count": 2,
   "id": "61b67f9a",
   "metadata": {},
   "outputs": [
    {
     "name": "stdout",
     "output_type": "stream",
     "text": [
      "1\n"
     ]
    }
   ],
   "source": [
    "print(x)"
   ]
  },
  {
   "cell_type": "code",
   "execution_count": 3,
   "id": "bbb48407",
   "metadata": {},
   "outputs": [
    {
     "name": "stdout",
     "output_type": "stream",
     "text": [
      "<class 'int'>\n"
     ]
    }
   ],
   "source": [
    "print(type(x))"
   ]
  },
  {
   "cell_type": "code",
   "execution_count": 4,
   "id": "274cc37b",
   "metadata": {},
   "outputs": [],
   "source": [
    "x=[1,2,3]"
   ]
  },
  {
   "cell_type": "code",
   "execution_count": 5,
   "id": "d1026d61",
   "metadata": {},
   "outputs": [
    {
     "name": "stdout",
     "output_type": "stream",
     "text": [
      "[1, 2, 3]\n"
     ]
    }
   ],
   "source": [
    "print(x)"
   ]
  },
  {
   "cell_type": "code",
   "execution_count": 6,
   "id": "1249deda",
   "metadata": {},
   "outputs": [
    {
     "name": "stdout",
     "output_type": "stream",
     "text": [
      "<class 'list'>\n"
     ]
    }
   ],
   "source": [
    "print(type(x))"
   ]
  },
  {
   "cell_type": "markdown",
   "id": "5b6acb8f",
   "metadata": {},
   "source": [
    "### Lists are like vectors in C++ \n",
    "\n",
    "Append, concatenate..."
   ]
  },
  {
   "cell_type": "code",
   "execution_count": 7,
   "id": "e24449a0",
   "metadata": {},
   "outputs": [],
   "source": [
    "L=[1,2,3]"
   ]
  },
  {
   "cell_type": "code",
   "execution_count": 8,
   "id": "717b5bde",
   "metadata": {},
   "outputs": [],
   "source": [
    "L.append(4)"
   ]
  },
  {
   "cell_type": "code",
   "execution_count": 9,
   "id": "326b7549",
   "metadata": {},
   "outputs": [
    {
     "name": "stdout",
     "output_type": "stream",
     "text": [
      "[1, 2, 3, 4]\n"
     ]
    }
   ],
   "source": [
    "print(L)"
   ]
  },
  {
   "cell_type": "code",
   "execution_count": 10,
   "id": "77dc04f1",
   "metadata": {},
   "outputs": [],
   "source": [
    "L1=[1,2,3]\n",
    "L2=[4,5,6]"
   ]
  },
  {
   "cell_type": "code",
   "execution_count": 14,
   "id": "039fc270",
   "metadata": {},
   "outputs": [
    {
     "name": "stdout",
     "output_type": "stream",
     "text": [
      "[1, 2, 3, 4, 5, 6]\n"
     ]
    }
   ],
   "source": [
    "#what does this do? Two possible options add p.w. or concatenate\n",
    "print(L1+L2)"
   ]
  },
  {
   "cell_type": "markdown",
   "id": "bbca40ec",
   "metadata": {},
   "source": [
    "So far, it looks like variables are quite simple in python, but... "
   ]
  },
  {
   "cell_type": "code",
   "execution_count": 15,
   "id": "f90f9176",
   "metadata": {},
   "outputs": [
    {
     "name": "stdout",
     "output_type": "stream",
     "text": [
      "0 0\n",
      "0 1\n"
     ]
    }
   ],
   "source": [
    "#what does this code do? Is it the same as it would have been in C++?\n",
    "x=0\n",
    "y=x\n",
    "print(x,y)\n",
    "\n",
    "y=1\n",
    "print(x,y)"
   ]
  },
  {
   "cell_type": "code",
   "execution_count": 16,
   "id": "7f4cdef2",
   "metadata": {},
   "outputs": [
    {
     "name": "stdout",
     "output_type": "stream",
     "text": [
      "[0] [0]\n",
      "[0] [1]\n"
     ]
    }
   ],
   "source": [
    "#what does this code do? Is it the same as it would have been in C++?\n",
    "x=[0]\n",
    "y=x\n",
    "print(x,y)\n",
    "\n",
    "y=[1]\n",
    "print(x,y)"
   ]
  },
  {
   "cell_type": "code",
   "execution_count": 17,
   "id": "9c526445",
   "metadata": {},
   "outputs": [
    {
     "name": "stdout",
     "output_type": "stream",
     "text": [
      "[0] [0]\n",
      "[0, 1] [0, 1]\n"
     ]
    }
   ],
   "source": [
    "#what does this code do? Is it the same as it would have been in C++?\n",
    "\n",
    "x=[0]     \n",
    "y=x\n",
    "print(x,y)\n",
    "\n",
    "y.append(1) #only line different  \n",
    "print(x,y)\n",
    "\n",
    "#explain incorrect thinking via c++"
   ]
  },
  {
   "cell_type": "code",
   "execution_count": 18,
   "id": "c5ac5b54",
   "metadata": {},
   "outputs": [
    {
     "name": "stdout",
     "output_type": "stream",
     "text": [
      "[0] [0]\n",
      "[0] [0, 1]\n"
     ]
    }
   ],
   "source": [
    "#what does this code do? Is it the same as it would have been in C++?\n",
    "\n",
    "x=[0]     \n",
    "y=[0]      #only line different  \n",
    "print(x,y)\n",
    "\n",
    "y.append(1) \n",
    "print(x,y)\n",
    "\n",
    "#explain incorrect thinking via c++"
   ]
  },
  {
   "cell_type": "code",
   "execution_count": 19,
   "id": "a1419143",
   "metadata": {},
   "outputs": [
    {
     "name": "stdout",
     "output_type": "stream",
     "text": [
      "[0, 1] [0, 2]\n"
     ]
    }
   ],
   "source": [
    "#another example\n",
    "L1=[0]\n",
    "L2=L1\n",
    "\n",
    "L1=L1+[1]\n",
    "L2=L2+[2]\n",
    "\n",
    "print(L1,L2)"
   ]
  },
  {
   "cell_type": "code",
   "execution_count": 20,
   "id": "c45eaa6b",
   "metadata": {},
   "outputs": [
    {
     "name": "stdout",
     "output_type": "stream",
     "text": [
      "[0, 1, 2] [0, 1, 2]\n"
     ]
    }
   ],
   "source": [
    "#but what about this one\n",
    "L1=[0]\n",
    "L2=L1\n",
    "\n",
    "L1.append(1)  #this looks the same as L1=L1+[1]\n",
    "L2.append(2)\n",
    "\n",
    "print(L1,L2)"
   ]
  },
  {
   "cell_type": "markdown",
   "id": "718ec031",
   "metadata": {},
   "source": [
    "Okay, so what the heck is going on?\n",
    "\n",
    "Lets' think about this? What is the different?\n",
    "\n",
    "In the first example it behaves as if L2=L1 is behaving like a normal assigment, vector<int> L2=L1; in c++\n",
    "    \n",
    "In the seconed it behaves like a reference vector<int>& L2=L1; in c++\n",
    "    \n",
    "So variables are kind of acting like a value and kind of like a reference\n",
    "    \n",
    "From the python tutorial \"value is not value, value is reference\" ??????"
   ]
  },
  {
   "cell_type": "markdown",
   "id": "be861e9d",
   "metadata": {},
   "source": [
    "Here is some C++ code: Let's walk through what going on (pictures of boxes)\n",
    "\n",
    "1 int i;\n",
    "\n",
    "2 i=0;\n",
    "\n",
    "3 i=1;\n",
    "\n",
    "4 int j=8; \n",
    "\n",
    "5 int k=18;\n",
    "\n",
    "6 i=j;\n",
    "\n",
    "7 i=j+k;\n",
    "\n",
    "What are the values of i,jk after this?\n"
   ]
  },
  {
   "cell_type": "markdown",
   "id": "940acd4c",
   "metadata": {},
   "source": [
    "DRAW PICTURE * On IPAD"
   ]
  },
  {
   "cell_type": "markdown",
   "id": "b22573b5",
   "metadata": {},
   "source": [
    "These differences between lines 6 and 7 are responsible for the differences between L.append(1) and L=L+[1]"
   ]
  },
  {
   "cell_type": "markdown",
   "id": "d91df599",
   "metadata": {},
   "source": [
    "Basic pictures: How to visualize the following"
   ]
  },
  {
   "cell_type": "code",
   "execution_count": 21,
   "id": "bfb15e34",
   "metadata": {},
   "outputs": [],
   "source": [
    "i=0\n",
    "L=[1]"
   ]
  },
  {
   "cell_type": "markdown",
   "id": "518a3da9",
   "metadata": {},
   "source": [
    "Draw Pickture  ** on IPAD"
   ]
  },
  {
   "cell_type": "markdown",
   "id": "ebed2da0",
   "metadata": {},
   "source": [
    "Address Examples above"
   ]
  },
  {
   "cell_type": "code",
   "execution_count": 23,
   "id": "f2968f1d",
   "metadata": {},
   "outputs": [],
   "source": [
    "L1=[0]\n",
    "L2=L1\n",
    "\n",
    "L1.append(1)  #this looks the same as L1=L1+[1]\n",
    "L2.append(2)\n"
   ]
  },
  {
   "cell_type": "markdown",
   "id": "4e902439",
   "metadata": {},
   "source": [
    "Draw Picture ***"
   ]
  },
  {
   "cell_type": "code",
   "execution_count": 24,
   "id": "7d461559",
   "metadata": {},
   "outputs": [
    {
     "name": "stdout",
     "output_type": "stream",
     "text": [
      "[0, 1, 2] [0, 1, 2]\n"
     ]
    }
   ],
   "source": [
    "print(L1, L2)"
   ]
  },
  {
   "cell_type": "code",
   "execution_count": 25,
   "id": "3b19bc52",
   "metadata": {},
   "outputs": [],
   "source": [
    "#Now lets recall this example\n",
    "L1=[0]\n",
    "L2=L1\n",
    "\n",
    "L1=L1+[1]\n",
    "L2=L2+[2]"
   ]
  },
  {
   "cell_type": "markdown",
   "id": "bf5817c4",
   "metadata": {},
   "source": [
    "Draw picture ****"
   ]
  },
  {
   "cell_type": "code",
   "execution_count": 26,
   "id": "79d9237c",
   "metadata": {},
   "outputs": [
    {
     "name": "stdout",
     "output_type": "stream",
     "text": [
      "[0, 1] [0, 2]\n"
     ]
    }
   ],
   "source": [
    "print(L1,L2)"
   ]
  },
  {
   "cell_type": "code",
   "execution_count": 30,
   "id": "18a57881",
   "metadata": {},
   "outputs": [],
   "source": [
    "#Now what about\n",
    "L1=[0]\n",
    "L2=L1.copy() \n",
    "\n",
    "L1.append(1)\n",
    "L2.append(2)"
   ]
  },
  {
   "cell_type": "markdown",
   "id": "c60146bb",
   "metadata": {},
   "source": [
    "Draw picture *** **"
   ]
  },
  {
   "cell_type": "code",
   "execution_count": 31,
   "id": "771b1209",
   "metadata": {},
   "outputs": [
    {
     "name": "stdout",
     "output_type": "stream",
     "text": [
      "[0, 1] [0, 2]\n"
     ]
    }
   ],
   "source": [
    "print(L1,L2)"
   ]
  },
  {
   "cell_type": "markdown",
   "id": "53682554",
   "metadata": {},
   "source": [
    "symbol tables"
   ]
  },
  {
   "cell_type": "code",
   "execution_count": 32,
   "id": "b16e6de8",
   "metadata": {},
   "outputs": [
    {
     "name": "stdout",
     "output_type": "stream",
     "text": [
      "[0] [0]\n",
      "[0] [0, 1]\n"
     ]
    }
   ],
   "source": [
    "x=[0]\n",
    "y=[0]\n",
    "print(x,y)\n",
    "y.append(1)\n",
    "print(x,y)"
   ]
  },
  {
   "cell_type": "markdown",
   "id": "a6c081c2",
   "metadata": {},
   "source": [
    "Draw Symbol Tables"
   ]
  },
  {
   "cell_type": "code",
   "execution_count": 34,
   "id": "7234317c",
   "metadata": {},
   "outputs": [
    {
     "name": "stdout",
     "output_type": "stream",
     "text": [
      "[0] [0]\n"
     ]
    }
   ],
   "source": [
    "#Recall this example\n",
    "x=[0]\n",
    "y=x\n",
    "\n",
    "print(x,y)\n",
    "y.append(1)\n",
    "\n"
   ]
  },
  {
   "cell_type": "markdown",
   "id": "67400a7f",
   "metadata": {},
   "source": [
    "Draw Symbol Table 2"
   ]
  },
  {
   "cell_type": "code",
   "execution_count": 35,
   "id": "547692ce",
   "metadata": {},
   "outputs": [
    {
     "name": "stdout",
     "output_type": "stream",
     "text": [
      "[0, 1] [0, 1]\n"
     ]
    }
   ],
   "source": [
    "print(x,y)"
   ]
  },
  {
   "cell_type": "code",
   "execution_count": 36,
   "id": "2a98c32e",
   "metadata": {},
   "outputs": [
    {
     "name": "stdout",
     "output_type": "stream",
     "text": [
      "[0, [1, 2, 3]]\n"
     ]
    }
   ],
   "source": [
    "#Tricky example\n",
    "\n",
    "L=[0,[1,2]]\n",
    "inner=L[1]\n",
    "inner.append(3)\n",
    "print(L)"
   ]
  },
  {
   "cell_type": "code",
   "execution_count": null,
   "id": "92a21c63",
   "metadata": {},
   "outputs": [],
   "source": []
  }
 ],
 "metadata": {
  "kernelspec": {
   "display_name": "Python 3",
   "language": "python",
   "name": "python3"
  },
  "language_info": {
   "codemirror_mode": {
    "name": "ipython",
    "version": 3
   },
   "file_extension": ".py",
   "mimetype": "text/x-python",
   "name": "python",
   "nbconvert_exporter": "python",
   "pygments_lexer": "ipython3",
   "version": "3.8.8"
  }
 },
 "nbformat": 4,
 "nbformat_minor": 5
}
