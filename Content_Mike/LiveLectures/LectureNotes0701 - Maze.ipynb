{
 "cells": [
  {
   "cell_type": "markdown",
   "metadata": {},
   "source": [
    "# Finding a Path Through a Maze\n",
    "\n",
    "## Group Names and Roles\n",
    "\n",
    "- Partner 1 (Role)\n",
    "- Partner 2 (Role)\n",
    "- Partner 3 (Role)\n",
    "\n",
    "Don't forget to *rotate your roles*. The Driver from last time is now the Proposer, the Proposer from last time is now the Reviewer, and the Reviewer from last time is now the Driver. \n",
    "\n",
    "Remember, completing the worksheet is great for your understanding but not necessary to receive a full participation grade in Discussion. Whatever you are able to achieve in the Discussion section will usually be fine. That said, you are heartily encouraged to make additional time to complete any parts that you may not have gotten to during the scheduled Discussion. "
   ]
  },
  {
   "cell_type": "markdown",
   "metadata": {},
   "source": [
    "## Introduction \n",
    "\n",
    "In this activity, we'll write a simple program that finds a path through a maze. Here's what our maze looks like: "
   ]
  },
  {
   "attachments": {
    "maze.png": {
     "image/png": "[encoded data removed]"
    }
   },
   "cell_type": "markdown",
   "metadata": {},
   "source": [
    "![maze.png](attachment:maze.png)"
   ]
  },
  {
   "cell_type": "markdown",
   "metadata": {},
   "source": [
    "In the above maze, **walls** are yellow, and passable space is dark purple. We start the maze in the empty space at `(1, 0)` -- where we write the **row first**, followed by the column (opposite of the usual graph notation). At each step, we can move up, down, left, or right, but not diagonally. Our goal is to come out of the other side of the maze, i.e. to end up at `(7, 15)`."
   ]
  },
  {
   "cell_type": "markdown",
   "metadata": {},
   "source": [
    "Start by running the next cell."
   ]
  },
  {
   "cell_type": "code",
   "execution_count": 2,
   "metadata": {},
   "outputs": [],
   "source": [
    "from matplotlib import pyplot as plt\n",
    "import copy"
   ]
  },
  {
   "cell_type": "markdown",
   "metadata": {},
   "source": [
    "In the above two lines, we are importing the modules we'll use for our program. `pyplot` from `matplotlib` will allow us to draw a picture of our maze, just like the one above. We will explain why we need `copy` once we get there."
   ]
  },
  {
   "cell_type": "markdown",
   "metadata": {},
   "source": [
    "We've given you the main routine for the program. There are several functions called inside this routine, which you will need to write. The calls are currently commented out so that you may uncomment them as you implement the functions, one by one. The entire working code of the program will thus be separated into self-contained functions, including the main routine (to avoid using the global scope)."
   ]
  },
  {
   "cell_type": "code",
   "execution_count": 9,
   "metadata": {},
   "outputs": [
    {
     "data": {
      "image/png": "[encoded data removed]",
      "text/plain": [
       "<Figure size 432x288 with 1 Axes>"
      ]
     },
     "metadata": {
      "needs_background": "light"
     },
     "output_type": "display_data"
    }
   ],
   "source": [
    "def main():\n",
    "    maze_str = \"\"\"\n",
    "++++++++++++++++\n",
    "  +      +     +\n",
    "+ + +++ ++ +++ +\n",
    "+   + +++  + +++\n",
    "+++       ++ + +\n",
    "+ ++ +++ ++    +\n",
    "+  + + + +  ++ +\n",
    "++   +     ++   \n",
    "++++++++++++++++\n",
    "    \"\"\"\n",
    "    start = (1, 0)\n",
    "    end = (7, 15)\n",
    "    maze = build_maze(maze_str)\n",
    "    #plot_maze(maze)\n",
    "    path = solve_maze(maze, start, end)\n",
    "    plot_maze_solution(maze, path)\n",
    "    \n",
    "\n",
    "if __name__ == '__main__':\n",
    "    main()"
   ]
  },
  {
   "cell_type": "markdown",
   "metadata": {},
   "source": [
    "`maze_str` is a string representation of the maze from the picture above; `+` is a wall and a single space character is passable space. Note that triple quotes are used to define a string across multiple lines. `start` and `end` are the positions for where we start and where we want to end up in the maze, as explained in the beginning."
   ]
  },
  {
   "cell_type": "markdown",
   "metadata": {},
   "source": [
    "`if __name__ == '__main__'` is an idiom that you will frequently encounter when constructing Python modules, although it is somewhat less common within notebooks. `__name__` is a special variable set by the interpreter; roughly speaking, it is set equal to the string `'__main__'` whenever your code is run directly, rather than imported as a module. In our program, this will result in running the `main` routine when you run the cell.\n",
    "\n",
    "The idea is that if you were writing this code in a Python script, somebody may want to recycle the functions that you will develop here by importing your module (but not run the `main` routine). Because of this check, the `main` routine won't run in that scenario, but the functions defined will be made available to whatever script imported your code."
   ]
  },
  {
   "cell_type": "markdown",
   "metadata": {},
   "source": [
    "## §A. Write `build_maze()`\n",
    "\n",
    "\n",
    "\n",
    "\n",
    "In the code cell below, declare and implement the `build_maze` function. The function needs to take a string like `maze_str` in the `main` function above and turn it into a two-dimensional list of integers (list of lists of integers), where the inner lists are rows of wall or empty space, `0` is empty space, and `1` is a wall.\n",
    "\n",
    "For instance, the list `[[1, 1, 1], [1, 1, 0], [1, 1, 1]]` would represent a 3x3 block of walls with an empty space carved out in the middle right.\n",
    "\n",
    "The function `build_maze` ought to take around 6 lines.\n",
    "\n",
    "**Note**: before you split the maze string across lines, you should call `.strip()` on it -- this will trim the whitespace from the ends of it.\n",
    "\n",
    "***Hint***: Use `str.split(\"\\n\")` to parse `maze_str` line-by-line. \n",
    "***Hint***: Recall that `L[-1]` refers to the final element of a list `L`. "
   ]
  },
  {
   "cell_type": "code",
   "execution_count": 4,
   "metadata": {},
   "outputs": [],
   "source": [
    "def build_maze(maze_str):\n",
    "    maze = []\n",
    "    for line in maze_str.strip().split('\\n'):\n",
    "        maze.append([])\n",
    "        for char in line:\n",
    "            maze[-1].append(1 if char == '+' else 0)\n",
    "    return maze"
   ]
  },
  {
   "cell_type": "markdown",
   "metadata": {},
   "source": [
    "## §B. Write `plot_maze()`. \n",
    "\n",
    "In the code cell below, declare and implement the `plot_maze` function. The function takes a maze coded as a list (not string), and uses a module we imported to make a picture of the maze, just like the one above. This is just one line -- a call to `plt.imshow` with the maze object."
   ]
  },
  {
   "cell_type": "code",
   "execution_count": 5,
   "metadata": {},
   "outputs": [],
   "source": [
    "def plot_maze(maze):\n",
    "    plt.imshow(maze)"
   ]
  },
  {
   "cell_type": "markdown",
   "metadata": {},
   "source": [
    "The function `solve_maze` takes a maze object `maze`, the starting position `start`, and the ending position `end`; and it returns a list of positions (two-integer tuples) of every square that we visit along the way from start to end. Check the `main` routine above to see how this function is called.\n",
    "\n",
    "## §C. Write `choose_valid_move()`. \n",
    "\n",
    "Eventually, we would like to implement a `solve_maze()` function. Here's the idea: \n",
    "\n",
    "- Declare a list called `path` that keeps track of the path, containing only the tuple `start`. The last element of this list is your \"current position\". \n",
    "- In a loop:\n",
    "    - Replace the square in the maze at your current position with `2` -- a visited square. \n",
    "    - Then look for any adjacent square that you can move to which has not yet been visited. If there are no such squares, backtrack (throw away elements from the end of the path).\n",
    "\n",
    "To do this, we need to write a helper function that takes the maze and the current position and returns the location of the next square to try moving to. It should take around 5 lines. \n",
    "\n",
    "**Note:** there are many ways to implement this function. It's sufficient for your function to choose *any* valid move. If there are multiple, you can pick one at random, always choose the first one you see, or any other approach. "
   ]
  },
  {
   "cell_type": "code",
   "execution_count": 6,
   "metadata": {},
   "outputs": [],
   "source": [
    "# pos = (0, 0)\n",
    "\n",
    "def choose_valid_move(maze, pos):\n",
    "    for d in [(0,1), (1,0), (0,-1), (-1,0)]:\n",
    "        new = (pos[0]+d[0], pos[1]+d[1]) # new = (1, 0)\n",
    "        if maze[new[0]][new[1]] == 0:    # there's a 0 here\n",
    "            return new                   # return (1, 0), function exits\n",
    "    return None"
   ]
  },
  {
   "cell_type": "markdown",
   "metadata": {},
   "source": [
    "---\n",
    "\n",
    "If you've made it this far, great job! If there are more than 5 minutes left in Discussion, go ahead and continue on to the remaining parts, in which you'll use your functions from above to fully solve the maze. Otherwise, feel free to submit your worksheet. Finding some time to work with your group to complete the worksheet is optional but heartily recommended. \n",
    "\n",
    "---"
   ]
  },
  {
   "cell_type": "markdown",
   "metadata": {},
   "source": [
    "## §D. Write `solve_maze()`. \n",
    "\n",
    "Using the `choose_valid_move()` function that you wrote above, write the `solve_maze` function according to the outline in §C.\n",
    "\n",
    "There is only one technicality. In order to mark the spaces already visited, you have to change the `maze` object passed to the function. Because lists are mutable, this will end up changing the original copy, which we want to avoid. So we use `copy` to make a copy of the maze first. Fill in the function below. It should take around 13 lines."
   ]
  },
  {
   "cell_type": "code",
   "execution_count": 7,
   "metadata": {},
   "outputs": [],
   "source": [
    "def solve_maze(maze, start, end):\n",
    "    maze = copy.deepcopy(maze)\n",
    "\n",
    "    path = [start]\n",
    "    while path and path[-1] != end:\n",
    "        maze[path[-1][0]][path[-1][1]] = 2\n",
    "        next_pos = choose_valid_move(maze, path[-1])\n",
    "        if next_pos:\n",
    "            path.append(next_pos)\n",
    "        else:\n",
    "            path = path[:-1]\n",
    "    return path"
   ]
  },
  {
   "cell_type": "markdown",
   "metadata": {},
   "source": [
    "## §E. Write `plot_maze_solution()`. \n",
    "\n",
    "Lastly, write the `plot_maze_solution()` function in the code cell below. The function ought to take a maze and a path, and mark the squares along the path with a different value (`2` as before will work), then plot the maze. Remember to make a deep copy of the maze again, just as above, since otherwise you would be changing the original list that is passed as an argument to the function. This function ought to take around 4 lines."
   ]
  },
  {
   "cell_type": "code",
   "execution_count": 8,
   "metadata": {},
   "outputs": [],
   "source": [
    "def plot_maze_solution(maze, path):\n",
    "    maze = copy.deepcopy(maze)\n",
    "\n",
    "    for pos in path:\n",
    "        maze[pos[0]][pos[1]] = 2\n",
    "    plt.imshow(maze)"
   ]
  },
  {
   "cell_type": "markdown",
   "metadata": {},
   "source": [
    "**Run each of your code cells and the `main` routine above, with all the function calls uncommented.** (You may have to comment out one of the `plot_` function calls, since you can only see one plot at a time.)\n",
    "\n",
    "Try commenting out the `copy.deepcopy` lines from your code, and run it again, showing the solution. Discuss with your group what goes wrong.\n",
    "\n",
    "Now make your own maze -- add a second maze string to the `main` routine above with a maze of your own, and run your program to solve it."
   ]
  }
 ],
 "metadata": {
  "kernelspec": {
   "display_name": "Python 3",
   "language": "python",
   "name": "python3"
  },
  "language_info": {
   "codemirror_mode": {
    "name": "ipython",
    "version": 3
   },
   "file_extension": ".py",
   "mimetype": "text/x-python",
   "name": "python",
   "nbconvert_exporter": "python",
   "pygments_lexer": "ipython3",
   "version": "3.8.5"
  }
 },
 "nbformat": 4,
 "nbformat_minor": 4
}
