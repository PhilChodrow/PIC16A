{
 "cells": [
  {
   "cell_type": "markdown",
   "metadata": {},
   "source": [
    "# Broadcasting "
   ]
  },
  {
   "cell_type": "code",
   "execution_count": 1,
   "metadata": {},
   "outputs": [],
   "source": [
    "import numpy as np\n",
    "\n",
    "a=np.array([1,2,3])\n",
    "b=np.array([4,5])"
   ]
  },
  {
   "cell_type": "code",
   "execution_count": 2,
   "metadata": {},
   "outputs": [],
   "source": [
    "#This produces an error\n",
    "#a+b"
   ]
  },
  {
   "cell_type": "markdown",
   "metadata": {},
   "source": [
    "Indeed, adding arrays of different sizes feels \"unnatural\". But note that the error message said \n",
    "\n",
    "\"ValueError: operands could not be broadcast together with shapes (3,) (2,)\"\n",
    "\n",
    "It didn't just say \"shapes don't match.\"\n",
    "\n",
    "Sometimes you **can** add arrays of different shapes and this is called broadcasting\n"
   ]
  },
  {
   "cell_type": "code",
   "execution_count": 6,
   "metadata": {},
   "outputs": [
    {
     "data": {
      "text/plain": [
       "(array([1., 1., 1.]), array([0., 0., 0.]))"
      ]
     },
     "execution_count": 6,
     "metadata": {},
     "output_type": "execute_result"
    }
   ],
   "source": [
    "a=np.ones(3)\n",
    "b=np.zeros(3)\n",
    "#b=b.reshape(3,1)\n",
    "a,b\n",
    "#a+b"
   ]
  },
  {
   "cell_type": "code",
   "execution_count": 5,
   "metadata": {},
   "outputs": [
    {
     "data": {
      "text/plain": [
       "((3,), (1, 3))"
      ]
     },
     "execution_count": 5,
     "metadata": {},
     "output_type": "execute_result"
    }
   ],
   "source": [
    "#It looks like we should be able to add a and b,but \n",
    "a.shape,b.shape"
   ]
  },
  {
   "cell_type": "markdown",
   "metadata": {},
   "source": [
    "First rule of broadcasting:\n",
    "If one array has more dimensions, take the array with fewer dimensions  and 'pad' it with ones __ON THE LEFT__\n",
    "\n",
    "If you try to type a+b, numpy will automatically convert it to an array with shape (1,3) and then the addition works fine.\n"
   ]
  },
  {
   "cell_type": "code",
   "execution_count": 6,
   "metadata": {},
   "outputs": [
    {
     "data": {
      "text/plain": [
       "array([[1., 1., 1.]])"
      ]
     },
     "execution_count": 6,
     "metadata": {},
     "output_type": "execute_result"
    }
   ],
   "source": [
    "a+b"
   ]
  },
  {
   "cell_type": "code",
   "execution_count": 7,
   "metadata": {},
   "outputs": [
    {
     "name": "stdout",
     "output_type": "stream",
     "text": [
      "(3, 3) (3,)\n"
     ]
    },
    {
     "data": {
      "text/plain": [
       "(array([[0., 0., 0.],\n",
       "        [0., 0., 0.],\n",
       "        [0., 0., 0.]]),\n",
       " array([0, 1, 2]))"
      ]
     },
     "execution_count": 7,
     "metadata": {},
     "output_type": "execute_result"
    }
   ],
   "source": [
    "#Example 2\n",
    "a=np.zeros((3,3))\n",
    "b=np.arange(3)\n",
    "print(a.shape,b.shape)\n",
    "a,b"
   ]
  },
  {
   "cell_type": "markdown",
   "metadata": {},
   "source": [
    "What happens if we try to add a and b?\n",
    "\n",
    "By the first rule of broadcasting, b gets padded with a one so now a has shape(3,3) and b has shape (1,3)"
   ]
  },
  {
   "cell_type": "markdown",
   "metadata": {},
   "source": [
    "### Second rule of broadcasting. \n",
    "If arrays have the same number of dimesions, you can stretch out ones\n",
    "\n",
    "this means that b will get converted from array([0,1,2]) to array([[0,1,2],[0,1,2],[0,1,2]])\n",
    "is the 3 by 3 array where every row is a copy of the original b\n",
    "\n",
    "mathematically, we have the formula new_b[i,j]=old_b[j]\n",
    "\n",
    "axis 0 is the axis we are \"streching over\" i isn't on the right hand side"
   ]
  },
  {
   "cell_type": "code",
   "execution_count": 8,
   "metadata": {},
   "outputs": [
    {
     "data": {
      "text/plain": [
       "array([[0., 1., 2.],\n",
       "       [0., 1., 2.],\n",
       "       [0., 1., 2.]])"
      ]
     },
     "execution_count": 8,
     "metadata": {},
     "output_type": "execute_result"
    }
   ],
   "source": [
    "a+b"
   ]
  },
  {
   "cell_type": "markdown",
   "metadata": {},
   "source": [
    "### Third rule of broadcasting.\n",
    "\n",
    "Sometimes you are out of luck. If the arrays have the same number of dimensions, the dimensions don't match, and there is not a one in either location, you can't add, i.e., you can  only stretch ones. "
   ]
  },
  {
   "cell_type": "code",
   "execution_count": 9,
   "metadata": {},
   "outputs": [],
   "source": [
    "#This gives you a value error\n",
    "#A=np.zeros((3,4))\n",
    "#B=np.zeros((4,3))\n",
    "#A+B"
   ]
  },
  {
   "cell_type": "markdown",
   "metadata": {},
   "source": [
    "### More Complicated Example"
   ]
  },
  {
   "cell_type": "code",
   "execution_count": 10,
   "metadata": {},
   "outputs": [
    {
     "name": "stdout",
     "output_type": "stream",
     "text": [
      "(1, 3) (3, 1)\n"
     ]
    },
    {
     "data": {
      "text/plain": [
       "(array([[0, 1, 2]]),\n",
       " array([[0],\n",
       "        [2],\n",
       "        [4]]))"
      ]
     },
     "execution_count": 10,
     "metadata": {},
     "output_type": "execute_result"
    }
   ],
   "source": [
    "a=np.arange(3)\n",
    "a=a.reshape(1,3)\n",
    "b=2*np.arange(3)\n",
    "b=b.reshape(3,1)\n",
    "print(a.shape,b.shape)\n",
    "a,b"
   ]
  },
  {
   "cell_type": "markdown",
   "metadata": {},
   "source": [
    "Can we add? Yes! As long as there is a one in each dimension!\n",
    "\n",
    "a gets stretched out along dimension 0 to form a 3 by 3 array. We are stretching along axis = so the rule is \n",
    "a_new[i,j]=a[j] so a becomes\n",
    "\n",
    "array([[0,1,2],[0,1,2],[0,1,2]])"
   ]
  },
  {
   "cell_type": "markdown",
   "metadata": {},
   "source": [
    "b on the other hand gets stretched along axis 1 so it gets obays the rule b_new[i,j] = b[i]\n",
    "\n",
    "so be gets converted from 0,2,4 to \n",
    "\n",
    "array([[0,0,0],[2,2,2],[4,4,4]])\n",
    "\n",
    "Now, since  a and b are both 3 by 3 we can add"
   ]
  },
  {
   "cell_type": "code",
   "execution_count": 11,
   "metadata": {},
   "outputs": [
    {
     "data": {
      "text/plain": [
       "array([[0, 1, 2],\n",
       "       [2, 3, 4],\n",
       "       [4, 5, 6]])"
      ]
     },
     "execution_count": 11,
     "metadata": {},
     "output_type": "execute_result"
    }
   ],
   "source": [
    "a+b"
   ]
  },
  {
   "cell_type": "markdown",
   "metadata": {},
   "source": [
    "Note that a_new and b_new are all \"under the hood.\" You don't actually see them."
   ]
  },
  {
   "cell_type": "code",
   "execution_count": 12,
   "metadata": {},
   "outputs": [
    {
     "data": {
      "text/plain": [
       "array([4, 5, 6])"
      ]
     },
     "execution_count": 12,
     "metadata": {},
     "output_type": "execute_result"
    }
   ],
   "source": [
    "#Example\n",
    "np.arange(3)+4"
   ]
  },
  {
   "cell_type": "markdown",
   "metadata": {},
   "source": [
    "4 is stretched to array([4,4,4])"
   ]
  },
  {
   "cell_type": "markdown",
   "metadata": {},
   "source": [
    "# Normalizing Data"
   ]
  },
  {
   "cell_type": "code",
   "execution_count": 13,
   "metadata": {},
   "outputs": [
    {
     "data": {
      "text/plain": [
       "array([[0.5472717 , 0.93094639, 0.62135154],\n",
       "       [0.12585206, 0.75358247, 0.76279303],\n",
       "       [0.59367895, 0.31972704, 0.8196078 ],\n",
       "       [0.89381096, 0.56940916, 0.88230661],\n",
       "       [0.75234833, 0.18351278, 0.67783375],\n",
       "       [0.39171308, 0.05580479, 0.97280037],\n",
       "       [0.60432315, 0.41634536, 0.03631275],\n",
       "       [0.50113973, 0.21371594, 0.96771802],\n",
       "       [0.71521903, 0.58328626, 0.93313476],\n",
       "       [0.76836352, 0.98497206, 0.0627713 ]])"
      ]
     },
     "execution_count": 13,
     "metadata": {},
     "output_type": "execute_result"
    }
   ],
   "source": [
    "#Here is some random data\n",
    "X=np.random.rand(10,3)\n",
    "X"
   ]
  },
  {
   "cell_type": "markdown",
   "metadata": {},
   "source": [
    "Interpretation. Each row is a new person. Each column is a different 'assessment'. Can we manipulate our data so that each column has mean zero and variance 1?"
   ]
  },
  {
   "cell_type": "code",
   "execution_count": 14,
   "metadata": {},
   "outputs": [
    {
     "data": {
      "text/plain": [
       "array([0.58937205, 0.50113023, 0.67366299])"
      ]
     },
     "execution_count": 14,
     "metadata": {},
     "output_type": "execute_result"
    }
   ],
   "source": [
    "#mean of each column\n",
    "mu=X.mean(axis=0)\n",
    "mu"
   ]
  },
  {
   "cell_type": "markdown",
   "metadata": {},
   "source": [
    "What happen if we type X-mu? \n",
    "\n",
    "X has shape 10,3 mu has shape 3, so by the first rule of broadcasting, mu gets padded with a one to have shape 1,3.\n",
    "\n",
    "Then, by the second rule of broadcasting, mu gets stretched out to a ten by 3 matrix where each row is a copy of the original mu"
   ]
  },
  {
   "cell_type": "code",
   "execution_count": 15,
   "metadata": {},
   "outputs": [
    {
     "data": {
      "text/plain": [
       "array([[-0.04210035,  0.42981617, -0.05231145],\n",
       "       [-0.46351999,  0.25245224,  0.08913004],\n",
       "       [ 0.0043069 , -0.18140318,  0.14594481],\n",
       "       [ 0.30443891,  0.06827893,  0.20864362],\n",
       "       [ 0.16297628, -0.31761745,  0.00417076],\n",
       "       [-0.19765897, -0.44532543,  0.29913738],\n",
       "       [ 0.0149511 , -0.08478486, -0.63735025],\n",
       "       [-0.08823232, -0.28741428,  0.29405503],\n",
       "       [ 0.12584698,  0.08215604,  0.25947177],\n",
       "       [ 0.17899147,  0.48384183, -0.61089169]])"
      ]
     },
     "execution_count": 15,
     "metadata": {},
     "output_type": "execute_result"
    }
   ],
   "source": [
    "Centered = X-mu\n",
    "Centered"
   ]
  },
  {
   "cell_type": "code",
   "execution_count": 16,
   "metadata": {},
   "outputs": [
    {
     "data": {
      "text/plain": [
       "array([ 2.22044605e-17, -2.22044605e-17, -5.55111512e-17])"
      ]
     },
     "execution_count": 16,
     "metadata": {},
     "output_type": "execute_result"
    }
   ],
   "source": [
    "Centered.mean(axis=0)"
   ]
  },
  {
   "cell_type": "markdown",
   "metadata": {},
   "source": [
    "Okay, now lets make the variance of each column =1"
   ]
  },
  {
   "cell_type": "code",
   "execution_count": 17,
   "metadata": {},
   "outputs": [
    {
     "data": {
      "text/plain": [
       "array([0.20756663, 0.30263621, 0.3313927 ])"
      ]
     },
     "execution_count": 17,
     "metadata": {},
     "output_type": "execute_result"
    }
   ],
   "source": [
    "sigma = X.std(axis=0)\n",
    "sigma"
   ]
  },
  {
   "cell_type": "code",
   "execution_count": 18,
   "metadata": {},
   "outputs": [
    {
     "data": {
      "text/plain": [
       "array([[-0.20282813,  1.42024038, -0.15785336],\n",
       "       [-2.23311425,  0.83417725,  0.26895595],\n",
       "       [ 0.02074946, -0.59941004,  0.44039837],\n",
       "       [ 1.46670451,  0.2256139 ,  0.6295963 ],\n",
       "       [ 0.78517573, -1.04950246,  0.01258554],\n",
       "       [-0.9522676 , -1.47148761,  0.90266737],\n",
       "       [ 0.07203037, -0.28015439, -1.92324769],\n",
       "       [-0.42507952, -0.94970222,  0.88733103],\n",
       "       [ 0.60629681,  0.27146796,  0.78297371],\n",
       "       [ 0.86233262,  1.59875723, -1.84340721]])"
      ]
     },
     "execution_count": 18,
     "metadata": {},
     "output_type": "execute_result"
    }
   ],
   "source": [
    "Normalized=(X-mu)/sigma\n",
    "Normalized"
   ]
  },
  {
   "cell_type": "code",
   "execution_count": 19,
   "metadata": {},
   "outputs": [
    {
     "data": {
      "text/plain": [
       "(array([ 1.11022302e-16, -4.44089210e-17, -1.99840144e-16]),\n",
       " array([1., 1., 1.]))"
      ]
     },
     "execution_count": 19,
     "metadata": {},
     "output_type": "execute_result"
    }
   ],
   "source": [
    "Normalized.mean(axis=0), Normalized.std(axis=0)"
   ]
  },
  {
   "cell_type": "code",
   "execution_count": 20,
   "metadata": {},
   "outputs": [
    {
     "data": {
      "text/plain": [
       "(array([ 0.35318629, -0.37666035, -0.0460874 ,  0.77397157, -0.08391373,\n",
       "        -0.50702928, -0.71045724, -0.16248357,  0.55357949,  0.20589421]),\n",
       " array([0.75474455, 1.33283772, 0.42712275, 0.51685565, 0.75210598,\n",
       "        1.01909464, 0.86954166, 0.77261041, 0.2121224 , 1.47993413]))"
      ]
     },
     "execution_count": 20,
     "metadata": {},
     "output_type": "execute_result"
    }
   ],
   "source": [
    "#Note that the rows do not have mean zero or variance 1\n",
    "\n",
    "Normalized.mean(axis=1), Normalized.std(axis=1)\n"
   ]
  },
  {
   "cell_type": "markdown",
   "metadata": {},
   "source": [
    "# Linear Algebra "
   ]
  },
  {
   "cell_type": "code",
   "execution_count": 22,
   "metadata": {},
   "outputs": [
    {
     "data": {
      "text/plain": [
       "array([[ 0,  1,  2],\n",
       "       [ 3,  4,  5],\n",
       "       [ 6,  7,  8],\n",
       "       [ 9, 10, 11],\n",
       "       [12, 13, 14]])"
      ]
     },
     "execution_count": 22,
     "metadata": {},
     "output_type": "execute_result"
    }
   ],
   "source": [
    "A=np.arange(15).reshape(5,3)\n",
    "A"
   ]
  },
  {
   "cell_type": "code",
   "execution_count": 23,
   "metadata": {},
   "outputs": [],
   "source": [
    "x=np.ones(3)"
   ]
  },
  {
   "cell_type": "markdown",
   "metadata": {},
   "source": [
    "What does $A*x$ do?"
   ]
  },
  {
   "cell_type": "code",
   "execution_count": 24,
   "metadata": {},
   "outputs": [
    {
     "data": {
      "text/plain": [
       "array([[ 0.,  1.,  2.],\n",
       "       [ 3.,  4.,  5.],\n",
       "       [ 6.,  7.,  8.],\n",
       "       [ 9., 10., 11.],\n",
       "       [12., 13., 14.]])"
      ]
     },
     "execution_count": 24,
     "metadata": {},
     "output_type": "execute_result"
    }
   ],
   "source": [
    "A*x"
   ]
  },
  {
   "cell_type": "markdown",
   "metadata": {},
   "source": [
    "What does it NOT do?"
   ]
  },
  {
   "cell_type": "code",
   "execution_count": 26,
   "metadata": {},
   "outputs": [
    {
     "data": {
      "text/plain": [
       "array([ 3., 12., 21., 30., 39.])"
      ]
     },
     "execution_count": 26,
     "metadata": {},
     "output_type": "execute_result"
    }
   ],
   "source": []
  },
  {
   "cell_type": "markdown",
   "metadata": {},
   "source": [
    "## Matrix-vector multiplication? \n",
    "\n",
    "Recall that multiplication of an $M\\times N$ matrix by an $N$ dimensional vector results in a new $M$ dimensional vector $y=Ax$ defined by \n",
    "\\begin{equation*}\n",
    "y_i=\\sum_jA_{i,j}x_j\n",
    "\\end{equation*}"
   ]
  },
  {
   "cell_type": "code",
   "execution_count": 27,
   "metadata": {},
   "outputs": [
    {
     "data": {
      "text/plain": [
       "array([ 3., 12., 21., 30., 39.])"
      ]
     },
     "execution_count": 27,
     "metadata": {},
     "output_type": "execute_result"
    }
   ],
   "source": [
    "np.matmul(A,x)"
   ]
  },
  {
   "cell_type": "markdown",
   "metadata": {},
   "source": [
    "# Matrix-Matrix multiplication "
   ]
  },
  {
   "cell_type": "markdown",
   "metadata": {},
   "source": [
    "If $A$ is an $M\\times N$ matrix and $B$ is an $N\\times R$ matrix, then $C=AB$ is an $M\\times R$ matrix defined by \n",
    "\n",
    "\\begin{equation*}\n",
    "C_{i,j}=\\sum_kA_{i,k}B_{k,j}\n",
    "\\end{equation*}"
   ]
  },
  {
   "cell_type": "code",
   "execution_count": 29,
   "metadata": {},
   "outputs": [
    {
     "data": {
      "text/plain": [
       "(5, 11)"
      ]
     },
     "execution_count": 29,
     "metadata": {},
     "output_type": "execute_result"
    }
   ],
   "source": [
    "B=np.arange(33).reshape(3,11)\n",
    "C=np.matmul(A,B)\n",
    "C.shape"
   ]
  },
  {
   "cell_type": "markdown",
   "metadata": {},
   "source": [
    "This doesn't work\n"
   ]
  },
  {
   "cell_type": "code",
   "execution_count": 30,
   "metadata": {},
   "outputs": [
    {
     "ename": "ValueError",
     "evalue": "matmul: Input operand 1 has a mismatch in its core dimension 0, with gufunc signature (n?,k),(k,m?)->(n?,m?) (size 2 is different from 3)",
     "output_type": "error",
     "traceback": [
      "\u001b[1;31m---------------------------------------------------------------------------\u001b[0m",
      "\u001b[1;31mValueError\u001b[0m                                Traceback (most recent call last)",
      "\u001b[1;32m<ipython-input-30-938a3239ead3>\u001b[0m in \u001b[0;36m<module>\u001b[1;34m\u001b[0m\n\u001b[0;32m      1\u001b[0m \u001b[0mBadB\u001b[0m\u001b[1;33m=\u001b[0m\u001b[0mnp\u001b[0m\u001b[1;33m.\u001b[0m\u001b[0marange\u001b[0m\u001b[1;33m(\u001b[0m\u001b[1;36m22\u001b[0m\u001b[1;33m)\u001b[0m\u001b[1;33m.\u001b[0m\u001b[0mreshape\u001b[0m\u001b[1;33m(\u001b[0m\u001b[1;36m2\u001b[0m\u001b[1;33m,\u001b[0m\u001b[1;36m11\u001b[0m\u001b[1;33m)\u001b[0m\u001b[1;33m\u001b[0m\u001b[1;33m\u001b[0m\u001b[0m\n\u001b[1;32m----> 2\u001b[1;33m \u001b[0mBadC\u001b[0m\u001b[1;33m=\u001b[0m\u001b[0mnp\u001b[0m\u001b[1;33m.\u001b[0m\u001b[0mmatmul\u001b[0m\u001b[1;33m(\u001b[0m\u001b[0mA\u001b[0m\u001b[1;33m,\u001b[0m\u001b[0mBadB\u001b[0m\u001b[1;33m)\u001b[0m\u001b[1;33m\u001b[0m\u001b[1;33m\u001b[0m\u001b[0m\n\u001b[0m",
      "\u001b[1;31mValueError\u001b[0m: matmul: Input operand 1 has a mismatch in its core dimension 0, with gufunc signature (n?,k),(k,m?)->(n?,m?) (size 2 is different from 3)"
     ]
    }
   ],
   "source": [
    "BadB=np.arange(22).reshape(2,11)\n",
    "BadC=np.matmul(A,BadB)\n"
   ]
  },
  {
   "cell_type": "code",
   "execution_count": null,
   "metadata": {},
   "outputs": [],
   "source": []
  }
 ],
 "metadata": {
  "kernelspec": {
   "display_name": "Python 3",
   "language": "python",
   "name": "python3"
  },
  "language_info": {
   "codemirror_mode": {
    "name": "ipython",
    "version": 3
   },
   "file_extension": ".py",
   "mimetype": "text/x-python",
   "name": "python",
   "nbconvert_exporter": "python",
   "pygments_lexer": "ipython3",
   "version": "3.8.8"
  }
 },
 "nbformat": 4,
 "nbformat_minor": 4
}
