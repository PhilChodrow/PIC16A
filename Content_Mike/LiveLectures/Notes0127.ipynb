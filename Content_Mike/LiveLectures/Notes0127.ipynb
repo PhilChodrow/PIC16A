{
 "cells": [
  {
   "cell_type": "code",
   "execution_count": 1,
   "metadata": {},
   "outputs": [],
   "source": [
    "class PositiveList:\n",
    "    \n",
    "    def __init__(self,L):\n",
    "        self.L=L\n",
    "        \n",
    "    def __str__(self):\n",
    "        return(str(self.L))\n",
    "   \n",
    "    def __iter__(self):\n",
    "        return(PositiveListIterator(self))\n",
    "    \n",
    "    \n",
    "    \n",
    "class PositiveListIterator:\n",
    "    \n",
    "    #iterator classes need i)  rule for where to start ii) a rule for where to go next and iii) when to stop\n",
    "    \n",
    "    def __init__(self,PL):\n",
    "        self.L=PL.L\n",
    "        self.L=[x for x in self.L if (type(x)==int or type(x)==float) and x>0]\n",
    "        self.L.sort()\n",
    "        self.index=0        \n",
    "    def __next__(self):\n",
    "        if self.index>=len(self.L):\n",
    "            raise StopIteration\n",
    "        self.index+=1\n",
    "        return(self.L[self.index-1])\n",
    "    "
   ]
  },
  {
   "cell_type": "code",
   "execution_count": 2,
   "metadata": {},
   "outputs": [],
   "source": [
    "P=PositiveList([2,1,-3,-2,\"cat\",67,-3])\n"
   ]
  },
  {
   "cell_type": "code",
   "execution_count": 3,
   "metadata": {},
   "outputs": [
    {
     "name": "stdout",
     "output_type": "stream",
     "text": [
      "1\n",
      "2\n",
      "67\n"
     ]
    }
   ],
   "source": [
    "for p in P:\n",
    "    print(p)"
   ]
  },
  {
   "cell_type": "code",
   "execution_count": 4,
   "metadata": {},
   "outputs": [
    {
     "data": {
      "text/plain": [
       "[1, 2, 3]"
      ]
     },
     "execution_count": 4,
     "metadata": {},
     "output_type": "execute_result"
    }
   ],
   "source": [
    "L=[3,2,1]\n",
    "L.sort()\n",
    "L"
   ]
  },
  {
   "cell_type": "code",
   "execution_count": 5,
   "metadata": {},
   "outputs": [],
   "source": [
    "def print_pos(L):\n",
    "    #C=L.copy()\n",
    "    C=[x for x in L if (type(x)==int or type(x)==float) and x>0]\n",
    "    for i in range(len(C)):\n",
    "        yield C[i]"
   ]
  },
  {
   "cell_type": "code",
   "execution_count": 6,
   "metadata": {},
   "outputs": [],
   "source": [
    "L=[1,2,3,\"cat\",-63,23]"
   ]
  },
  {
   "cell_type": "code",
   "execution_count": 7,
   "metadata": {},
   "outputs": [],
   "source": [
    "it=print_pos(L)"
   ]
  },
  {
   "cell_type": "code",
   "execution_count": 10,
   "metadata": {},
   "outputs": [
    {
     "data": {
      "text/plain": [
       "2"
      ]
     },
     "execution_count": 10,
     "metadata": {},
     "output_type": "execute_result"
    }
   ],
   "source": [
    "next(it)"
   ]
  },
  {
   "cell_type": "code",
   "execution_count": 11,
   "metadata": {},
   "outputs": [
    {
     "name": "stdout",
     "output_type": "stream",
     "text": [
      "1\n",
      "2\n",
      "3\n",
      "23\n"
     ]
    }
   ],
   "source": [
    "for p in print_pos(L):\n",
    "    print(p)"
   ]
  },
  {
   "cell_type": "code",
   "execution_count": null,
   "metadata": {},
   "outputs": [],
   "source": []
  }
 ],
 "metadata": {
  "kernelspec": {
   "display_name": "Python 3",
   "language": "python",
   "name": "python3"
  },
  "language_info": {
   "codemirror_mode": {
    "name": "ipython",
    "version": 3
   },
   "file_extension": ".py",
   "mimetype": "text/x-python",
   "name": "python",
   "nbconvert_exporter": "python",
   "pygments_lexer": "ipython3",
   "version": "3.8.5"
  }
 },
 "nbformat": 4,
 "nbformat_minor": 4
}
