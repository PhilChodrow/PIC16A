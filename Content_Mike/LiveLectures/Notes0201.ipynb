{
 "cells": [
  {
   "cell_type": "code",
   "execution_count": 1,
   "metadata": {},
   "outputs": [],
   "source": [
    "# Go over quiz\n",
    "# Unit test example\n",
    "# Broadcasting example "
   ]
  },
  {
   "cell_type": "code",
   "execution_count": 2,
   "metadata": {},
   "outputs": [],
   "source": [
    "import numpy as np\n",
    "\n",
    "a=np.array([1,2,3])\n",
    "b=np.array([4,5])"
   ]
  },
  {
   "cell_type": "code",
   "execution_count": 8,
   "metadata": {},
   "outputs": [],
   "source": [
    "#This produces an error\n",
    "#a+b"
   ]
  },
  {
   "cell_type": "markdown",
   "metadata": {},
   "source": [
    "Indeed, adding arrays of different sizes feels \"unnatural\". But note that the error message said \n",
    "\n",
    "\"ValueError: operands could not be broadcast together with shapes (3,) (2,)\"\n",
    "\n",
    "It didn't just say \"shapes don't match.\"\n",
    "\n",
    "Sometimes you **can** add arrays of different shapes and this is called broadcasting\n"
   ]
  },
  {
   "cell_type": "code",
   "execution_count": 17,
   "metadata": {},
   "outputs": [
    {
     "data": {
      "text/plain": [
       "(array([1., 1., 1.]), array([[0., 0., 0.]]))"
      ]
     },
     "execution_count": 17,
     "metadata": {},
     "output_type": "execute_result"
    }
   ],
   "source": [
    "a=np.ones(3)\n",
    "b=np.zeros(3)\n",
    "b=b.reshape(1,3)\n",
    "a,b\n"
   ]
  },
  {
   "cell_type": "code",
   "execution_count": 18,
   "metadata": {},
   "outputs": [
    {
     "data": {
      "text/plain": [
       "((3,), (1, 3))"
      ]
     },
     "execution_count": 18,
     "metadata": {},
     "output_type": "execute_result"
    }
   ],
   "source": [
    "#It looks like we should be able to add a and b,but \n",
    "a.shape,b.shape"
   ]
  },
  {
   "cell_type": "markdown",
   "metadata": {},
   "source": [
    "First rule of broadcasting:\n",
    "If one array has more dimensions, take the array with fewer dimensions  and 'pad' it with ones __ON THE LEFT__\n",
    "\n",
    "If you try to type a+b, numpy will automatically convert it to an array with shape (1,3) and then the addition works fine.\n"
   ]
  },
  {
   "cell_type": "code",
   "execution_count": 19,
   "metadata": {},
   "outputs": [
    {
     "data": {
      "text/plain": [
       "array([[1., 1., 1.]])"
      ]
     },
     "execution_count": 19,
     "metadata": {},
     "output_type": "execute_result"
    }
   ],
   "source": [
    "a+b"
   ]
  },
  {
   "cell_type": "code",
   "execution_count": 21,
   "metadata": {},
   "outputs": [
    {
     "name": "stdout",
     "output_type": "stream",
     "text": [
      "(3, 3) (3,)\n"
     ]
    },
    {
     "data": {
      "text/plain": [
       "(array([[0., 0., 0.],\n",
       "        [0., 0., 0.],\n",
       "        [0., 0., 0.]]),\n",
       " array([0, 1, 2]))"
      ]
     },
     "execution_count": 21,
     "metadata": {},
     "output_type": "execute_result"
    }
   ],
   "source": [
    "#Example 2\n",
    "a=np.zeros((3,3))\n",
    "b=np.arange(3)\n",
    "print(a.shape,b.shape)\n",
    "a,b"
   ]
  },
  {
   "cell_type": "markdown",
   "metadata": {},
   "source": [
    "What happens if we try to add a and b?\n",
    "\n",
    "By the first rule of broadcasting, b gets padded with a one so now a has shape(3,3) and b has shape (1,3)"
   ]
  },
  {
   "cell_type": "markdown",
   "metadata": {},
   "source": [
    "### Second rule of broadcasting. \n",
    "If arrays have the same number of dimesions, you can stretch out ones\n",
    "\n",
    "this means that b will get converted from array([0,1,2]) to array([[0,1,2],[0,1,2],[0,1,2]])\n",
    "is the 3 by 3 array where every row is a copy of the original b\n",
    "\n",
    "mathematically, we have the formula new_b[i,j]=old_b[j]\n",
    "\n",
    "axis 0 is the axis we are \"streching over\" i isn't on the right hand side"
   ]
  },
  {
   "cell_type": "code",
   "execution_count": 22,
   "metadata": {},
   "outputs": [
    {
     "data": {
      "text/plain": [
       "array([[0., 1., 2.],\n",
       "       [0., 1., 2.],\n",
       "       [0., 1., 2.]])"
      ]
     },
     "execution_count": 22,
     "metadata": {},
     "output_type": "execute_result"
    }
   ],
   "source": [
    "a+b"
   ]
  },
  {
   "cell_type": "markdown",
   "metadata": {},
   "source": [
    "### Third rule of broadcasting.\n",
    "\n",
    "Sometimes you are out of luck. If the arrays have the same number of dimensions, the dimensions don't match, and there is not a one in either location, you can't add, i.e., you can  only stretch ones. "
   ]
  },
  {
   "cell_type": "code",
   "execution_count": 25,
   "metadata": {},
   "outputs": [],
   "source": [
    "#This gives you a value error\n",
    "#A=np.zeros((3,4))\n",
    "#B=np.zeros((4,3))\n",
    "#A+B"
   ]
  },
  {
   "cell_type": "markdown",
   "metadata": {},
   "source": [
    "### More Complicated Example"
   ]
  },
  {
   "cell_type": "code",
   "execution_count": 34,
   "metadata": {},
   "outputs": [
    {
     "name": "stdout",
     "output_type": "stream",
     "text": [
      "(1, 3) (3, 1)\n"
     ]
    },
    {
     "data": {
      "text/plain": [
       "(array([[0, 1, 2]]),\n",
       " array([[0],\n",
       "        [2],\n",
       "        [4]]))"
      ]
     },
     "execution_count": 34,
     "metadata": {},
     "output_type": "execute_result"
    }
   ],
   "source": [
    "a=np.arange(3)\n",
    "a=a.reshape(1,3)\n",
    "b=2*np.arange(3)\n",
    "b=b.reshape(3,1)\n",
    "print(a.shape,b.shape)\n",
    "a,b"
   ]
  },
  {
   "cell_type": "markdown",
   "metadata": {},
   "source": [
    "Can we add? Yes! As long as there is a one in each dimension!\n",
    "\n",
    "a gets stretched out along dimension 0 to form a 3 by 3 array. We are stretching along axis = so the rule is \n",
    "a_new[i,j]=a[j] so a becomes\n",
    "\n",
    "array([[0,1,2],[0,1,2],[0,1,2]])"
   ]
  },
  {
   "cell_type": "markdown",
   "metadata": {},
   "source": [
    "b on the other hand gets stretched along axis 1 so it gets obays the rule b_new[i] = b[i,j]\n",
    "\n",
    "so be gets converted from 0,2,4 to \n",
    "\n",
    "array([[0,0,0],[2,2,2],[4,4,4]])\n",
    "\n",
    "Now, since  a and b are both 3 by 3 we can add"
   ]
  },
  {
   "cell_type": "code",
   "execution_count": 37,
   "metadata": {},
   "outputs": [
    {
     "data": {
      "text/plain": [
       "array([[0, 1, 2],\n",
       "       [2, 3, 4],\n",
       "       [4, 5, 6]])"
      ]
     },
     "execution_count": 37,
     "metadata": {},
     "output_type": "execute_result"
    }
   ],
   "source": [
    "a+b"
   ]
  },
  {
   "cell_type": "markdown",
   "metadata": {},
   "source": [
    "Note that a_new and b_new are all \"under the hood.\" You don't actually see them."
   ]
  },
  {
   "cell_type": "code",
   "execution_count": 38,
   "metadata": {},
   "outputs": [
    {
     "data": {
      "text/plain": [
       "array([4, 5, 6])"
      ]
     },
     "execution_count": 38,
     "metadata": {},
     "output_type": "execute_result"
    }
   ],
   "source": [
    "#Example\n",
    "np.arange(3)+4"
   ]
  },
  {
   "cell_type": "markdown",
   "metadata": {},
   "source": [
    "4 is stretched to array([4,4,4])"
   ]
  },
  {
   "cell_type": "markdown",
   "metadata": {},
   "source": [
    "# Normalizing Data"
   ]
  },
  {
   "cell_type": "code",
   "execution_count": 43,
   "metadata": {},
   "outputs": [
    {
     "data": {
      "text/plain": [
       "array([[0.61440315, 0.68466783, 0.64857397],\n",
       "       [0.20475235, 0.09501762, 0.80840835],\n",
       "       [0.32957455, 0.33889614, 0.74453961],\n",
       "       [0.2760332 , 0.51612241, 0.87956672],\n",
       "       [0.69628698, 0.62350945, 0.37273784],\n",
       "       [0.79106603, 0.9561744 , 0.15052061],\n",
       "       [0.44403495, 0.59100687, 0.82818   ],\n",
       "       [0.29162274, 0.37630425, 0.63401667],\n",
       "       [0.70889723, 0.01497621, 0.31419256],\n",
       "       [0.87173926, 0.09397125, 0.29954175]])"
      ]
     },
     "execution_count": 43,
     "metadata": {},
     "output_type": "execute_result"
    }
   ],
   "source": [
    "#Here is some random data\n",
    "X=np.random.rand(10,3)\n",
    "X"
   ]
  },
  {
   "cell_type": "markdown",
   "metadata": {},
   "source": [
    "Interpretation. Each row is a new person. Each column is a different 'assessment'. Can we manipulate our data so that each column has mean zero and variance 1?"
   ]
  },
  {
   "cell_type": "code",
   "execution_count": 48,
   "metadata": {},
   "outputs": [
    {
     "data": {
      "text/plain": [
       "array([0.52284104, 0.42906464, 0.56802781])"
      ]
     },
     "execution_count": 48,
     "metadata": {},
     "output_type": "execute_result"
    }
   ],
   "source": [
    "#mean of each column\n",
    "mu=X.mean(axis=0)\n",
    "mu"
   ]
  },
  {
   "cell_type": "markdown",
   "metadata": {},
   "source": [
    "What happen if we type X-mu? \n",
    "\n",
    "X has shape 10,3 mu has shape 3, so by the first rule of broadcasting, mu gets padded with a one to have shape 1,3.\n",
    "\n",
    "Then, by the second rule of broadcasting, mu gets stretched out to a ten by 3 matrix where each row is a copy of the original mu"
   ]
  },
  {
   "cell_type": "code",
   "execution_count": 51,
   "metadata": {},
   "outputs": [
    {
     "data": {
      "text/plain": [
       "array([[ 0.09156211,  0.25560319,  0.08054616],\n",
       "       [-0.31808869, -0.33404702,  0.24038054],\n",
       "       [-0.19326649, -0.0901685 ,  0.17651181],\n",
       "       [-0.24680785,  0.08705776,  0.31153892],\n",
       "       [ 0.17344594,  0.1944448 , -0.19528997],\n",
       "       [ 0.26822499,  0.52710975, -0.4175072 ],\n",
       "       [-0.0788061 ,  0.16194222,  0.26015219],\n",
       "       [-0.2312183 , -0.05276039,  0.06598886],\n",
       "       [ 0.18605618, -0.41408843, -0.25383525],\n",
       "       [ 0.34889821, -0.33509339, -0.26848606]])"
      ]
     },
     "execution_count": 51,
     "metadata": {},
     "output_type": "execute_result"
    }
   ],
   "source": [
    "Centered = X-mu\n",
    "Centered"
   ]
  },
  {
   "cell_type": "code",
   "execution_count": 52,
   "metadata": {},
   "outputs": [
    {
     "data": {
      "text/plain": [
       "array([-2.22044605e-17,  3.33066907e-17, -5.55111512e-17])"
      ]
     },
     "execution_count": 52,
     "metadata": {},
     "output_type": "execute_result"
    }
   ],
   "source": [
    "Centered.mean(axis=0)"
   ]
  },
  {
   "cell_type": "markdown",
   "metadata": {},
   "source": [
    "Okay, now lets make the variance of each column =1"
   ]
  },
  {
   "cell_type": "code",
   "execution_count": 53,
   "metadata": {},
   "outputs": [
    {
     "data": {
      "text/plain": [
       "array([0.22932017, 0.28653953, 0.24768622])"
      ]
     },
     "execution_count": 53,
     "metadata": {},
     "output_type": "execute_result"
    }
   ],
   "source": [
    "sigma = X.std(axis=0)\n",
    "sigma"
   ]
  },
  {
   "cell_type": "code",
   "execution_count": 55,
   "metadata": {},
   "outputs": [
    {
     "data": {
      "text/plain": [
       "array([[ 0.39927629,  0.89203465,  0.32519437],\n",
       "       [-1.38709427, -1.16579733,  0.97050429],\n",
       "       [-0.84278017, -0.31468085,  0.71264283],\n",
       "       [-1.07625879,  0.30382462,  1.25779674],\n",
       "       [ 0.75634837,  0.67859678, -0.78845714],\n",
       "       [ 1.16965285,  1.83957078, -1.68562952],\n",
       "       [-0.34365097,  0.56516537,  1.05032971],\n",
       "       [-1.00827723, -0.18412954,  0.26642119],\n",
       "       [ 0.81133808, -1.44513543, -1.02482588],\n",
       "       [ 1.52144583, -1.16944906, -1.08397658]])"
      ]
     },
     "execution_count": 55,
     "metadata": {},
     "output_type": "execute_result"
    }
   ],
   "source": [
    "Normalized=(X-mu)/sigma\n",
    "Normalized"
   ]
  },
  {
   "cell_type": "code",
   "execution_count": 57,
   "metadata": {},
   "outputs": [
    {
     "data": {
      "text/plain": [
       "(array([-2.22044605e-17,  1.33226763e-16, -2.44249065e-16]),\n",
       " array([1., 1., 1.]))"
      ]
     },
     "execution_count": 57,
     "metadata": {},
     "output_type": "execute_result"
    }
   ],
   "source": [
    "Normalized.mean(axis=0), Normalized.std(axis=0)"
   ]
  },
  {
   "cell_type": "code",
   "execution_count": 59,
   "metadata": {},
   "outputs": [
    {
     "data": {
      "text/plain": [
       "(array([ 0.5388351 , -0.52746243, -0.14827273,  0.16178752,  0.215496  ,\n",
       "         0.44119804,  0.42394804, -0.30866186, -0.55287441, -0.24399327]),\n",
       " array([0.25157434, 1.0630683 , 0.64580901, 0.95815263, 0.71061136,\n",
       "        1.52856013, 0.57778444, 0.52779114, 0.97978631, 1.24884155]))"
      ]
     },
     "execution_count": 59,
     "metadata": {},
     "output_type": "execute_result"
    }
   ],
   "source": [
    "#Note that the rows do not have mean zero or variance 1\n",
    "\n",
    "Normalized.mean(axis=1), Normalized.std(axis=1)\n"
   ]
  },
  {
   "cell_type": "markdown",
   "metadata": {},
   "source": [
    "# Unittesting"
   ]
  },
  {
   "cell_type": "markdown",
   "metadata": {},
   "source": [
    "Lets first build a sqrt function\n"
   ]
  },
  {
   "cell_type": "code",
   "execution_count": 12,
   "metadata": {},
   "outputs": [],
   "source": [
    "def sqrt(x):\n",
    "    \"\"\"\n",
    "    custom sqrt function with error messages for invalid input\n",
    "    \"\"\"\n",
    "    if type(x) not in [int,float]:\n",
    "        raise TypeError(\"This function only works with numerical data types\")\n",
    "    elif x<0:\n",
    "        raise ValueError(\"x must be nonnegative\")\n",
    "    else:\n",
    "        return x*(1/2)  #small error missing parenthesis"
   ]
  },
  {
   "cell_type": "markdown",
   "metadata": {},
   "source": [
    "Now let's do some unittesting"
   ]
  },
  {
   "cell_type": "code",
   "execution_count": 18,
   "metadata": {},
   "outputs": [],
   "source": [
    "import unittest #needed for unittesting\n",
    "\n",
    "#unit testers will always inherit from unittest.TestCase\n",
    "class TestSqrt(unittest.TestCase):\n",
    "    \n",
    "    \n",
    "    def test_type_error(self):\n",
    "        #string should raise a TypeError\n",
    "        s=\"Aardvarks love almonds\"\n",
    "        with self.assertRaises(TypeError):\n",
    "            sqrt(s)\n",
    "            \n",
    "    def test_standard(self):\n",
    "        self.assertEqual(sqrt(9),3)\n",
    "        \n",
    "    def test_negative(self):\n",
    "        with self.assertRaises(ValueError):\n",
    "            sqrt(-1)\n",
    "    \n",
    "    "
   ]
  },
  {
   "cell_type": "code",
   "execution_count": 19,
   "metadata": {},
   "outputs": [],
   "source": [
    "tester=TestSqrt()\n",
    "tester.test_type_error()"
   ]
  },
  {
   "cell_type": "code",
   "execution_count": 20,
   "metadata": {},
   "outputs": [
    {
     "ename": "AssertionError",
     "evalue": "4.5 != 3",
     "output_type": "error",
     "traceback": [
      "\u001b[1;31m---------------------------------------------------------------------------\u001b[0m",
      "\u001b[1;31mAssertionError\u001b[0m                            Traceback (most recent call last)",
      "\u001b[1;32m<ipython-input-20-e49c3cfe7d8c>\u001b[0m in \u001b[0;36m<module>\u001b[1;34m\u001b[0m\n\u001b[1;32m----> 1\u001b[1;33m \u001b[0mtester\u001b[0m\u001b[1;33m.\u001b[0m\u001b[0mtest_standard\u001b[0m\u001b[1;33m(\u001b[0m\u001b[1;33m)\u001b[0m\u001b[1;33m\u001b[0m\u001b[1;33m\u001b[0m\u001b[0m\n\u001b[0m",
      "\u001b[1;32m<ipython-input-18-39b35f0f9d9b>\u001b[0m in \u001b[0;36mtest_standard\u001b[1;34m(self)\u001b[0m\n\u001b[0;32m     12\u001b[0m \u001b[1;33m\u001b[0m\u001b[0m\n\u001b[0;32m     13\u001b[0m     \u001b[1;32mdef\u001b[0m \u001b[0mtest_standard\u001b[0m\u001b[1;33m(\u001b[0m\u001b[0mself\u001b[0m\u001b[1;33m)\u001b[0m\u001b[1;33m:\u001b[0m\u001b[1;33m\u001b[0m\u001b[1;33m\u001b[0m\u001b[0m\n\u001b[1;32m---> 14\u001b[1;33m         \u001b[0mself\u001b[0m\u001b[1;33m.\u001b[0m\u001b[0massertEqual\u001b[0m\u001b[1;33m(\u001b[0m\u001b[0msqrt\u001b[0m\u001b[1;33m(\u001b[0m\u001b[1;36m9\u001b[0m\u001b[1;33m)\u001b[0m\u001b[1;33m,\u001b[0m\u001b[1;36m3\u001b[0m\u001b[1;33m)\u001b[0m\u001b[1;33m\u001b[0m\u001b[1;33m\u001b[0m\u001b[0m\n\u001b[0m\u001b[0;32m     15\u001b[0m \u001b[1;33m\u001b[0m\u001b[0m\n\u001b[0;32m     16\u001b[0m     \u001b[1;32mdef\u001b[0m \u001b[0mtest_negative\u001b[0m\u001b[1;33m(\u001b[0m\u001b[0mself\u001b[0m\u001b[1;33m)\u001b[0m\u001b[1;33m:\u001b[0m\u001b[1;33m\u001b[0m\u001b[1;33m\u001b[0m\u001b[0m\n",
      "\u001b[1;32m~\\anaconda3\\lib\\unittest\\case.py\u001b[0m in \u001b[0;36massertEqual\u001b[1;34m(self, first, second, msg)\u001b[0m\n\u001b[0;32m    910\u001b[0m         \"\"\"\n\u001b[0;32m    911\u001b[0m         \u001b[0massertion_func\u001b[0m \u001b[1;33m=\u001b[0m \u001b[0mself\u001b[0m\u001b[1;33m.\u001b[0m\u001b[0m_getAssertEqualityFunc\u001b[0m\u001b[1;33m(\u001b[0m\u001b[0mfirst\u001b[0m\u001b[1;33m,\u001b[0m \u001b[0msecond\u001b[0m\u001b[1;33m)\u001b[0m\u001b[1;33m\u001b[0m\u001b[1;33m\u001b[0m\u001b[0m\n\u001b[1;32m--> 912\u001b[1;33m         \u001b[0massertion_func\u001b[0m\u001b[1;33m(\u001b[0m\u001b[0mfirst\u001b[0m\u001b[1;33m,\u001b[0m \u001b[0msecond\u001b[0m\u001b[1;33m,\u001b[0m \u001b[0mmsg\u001b[0m\u001b[1;33m=\u001b[0m\u001b[0mmsg\u001b[0m\u001b[1;33m)\u001b[0m\u001b[1;33m\u001b[0m\u001b[1;33m\u001b[0m\u001b[0m\n\u001b[0m\u001b[0;32m    913\u001b[0m \u001b[1;33m\u001b[0m\u001b[0m\n\u001b[0;32m    914\u001b[0m     \u001b[1;32mdef\u001b[0m \u001b[0massertNotEqual\u001b[0m\u001b[1;33m(\u001b[0m\u001b[0mself\u001b[0m\u001b[1;33m,\u001b[0m \u001b[0mfirst\u001b[0m\u001b[1;33m,\u001b[0m \u001b[0msecond\u001b[0m\u001b[1;33m,\u001b[0m \u001b[0mmsg\u001b[0m\u001b[1;33m=\u001b[0m\u001b[1;32mNone\u001b[0m\u001b[1;33m)\u001b[0m\u001b[1;33m:\u001b[0m\u001b[1;33m\u001b[0m\u001b[1;33m\u001b[0m\u001b[0m\n",
      "\u001b[1;32m~\\anaconda3\\lib\\unittest\\case.py\u001b[0m in \u001b[0;36m_baseAssertEqual\u001b[1;34m(self, first, second, msg)\u001b[0m\n\u001b[0;32m    903\u001b[0m             \u001b[0mstandardMsg\u001b[0m \u001b[1;33m=\u001b[0m \u001b[1;34m'%s != %s'\u001b[0m \u001b[1;33m%\u001b[0m \u001b[0m_common_shorten_repr\u001b[0m\u001b[1;33m(\u001b[0m\u001b[0mfirst\u001b[0m\u001b[1;33m,\u001b[0m \u001b[0msecond\u001b[0m\u001b[1;33m)\u001b[0m\u001b[1;33m\u001b[0m\u001b[1;33m\u001b[0m\u001b[0m\n\u001b[0;32m    904\u001b[0m             \u001b[0mmsg\u001b[0m \u001b[1;33m=\u001b[0m \u001b[0mself\u001b[0m\u001b[1;33m.\u001b[0m\u001b[0m_formatMessage\u001b[0m\u001b[1;33m(\u001b[0m\u001b[0mmsg\u001b[0m\u001b[1;33m,\u001b[0m \u001b[0mstandardMsg\u001b[0m\u001b[1;33m)\u001b[0m\u001b[1;33m\u001b[0m\u001b[1;33m\u001b[0m\u001b[0m\n\u001b[1;32m--> 905\u001b[1;33m             \u001b[1;32mraise\u001b[0m \u001b[0mself\u001b[0m\u001b[1;33m.\u001b[0m\u001b[0mfailureException\u001b[0m\u001b[1;33m(\u001b[0m\u001b[0mmsg\u001b[0m\u001b[1;33m)\u001b[0m\u001b[1;33m\u001b[0m\u001b[1;33m\u001b[0m\u001b[0m\n\u001b[0m\u001b[0;32m    906\u001b[0m \u001b[1;33m\u001b[0m\u001b[0m\n\u001b[0;32m    907\u001b[0m     \u001b[1;32mdef\u001b[0m \u001b[0massertEqual\u001b[0m\u001b[1;33m(\u001b[0m\u001b[0mself\u001b[0m\u001b[1;33m,\u001b[0m \u001b[0mfirst\u001b[0m\u001b[1;33m,\u001b[0m \u001b[0msecond\u001b[0m\u001b[1;33m,\u001b[0m \u001b[0mmsg\u001b[0m\u001b[1;33m=\u001b[0m\u001b[1;32mNone\u001b[0m\u001b[1;33m)\u001b[0m\u001b[1;33m:\u001b[0m\u001b[1;33m\u001b[0m\u001b[1;33m\u001b[0m\u001b[0m\n",
      "\u001b[1;31mAssertionError\u001b[0m: 4.5 != 3"
     ]
    }
   ],
   "source": [
    "tester.test_standard()"
   ]
  },
  {
   "cell_type": "code",
   "execution_count": 21,
   "metadata": {},
   "outputs": [],
   "source": [
    "tester.test_negative()"
   ]
  },
  {
   "cell_type": "code",
   "execution_count": 22,
   "metadata": {},
   "outputs": [
    {
     "data": {
      "text/plain": [
       "1.5"
      ]
     },
     "execution_count": 22,
     "metadata": {},
     "output_type": "execute_result"
    }
   ],
   "source": [
    "sqrt(3)"
   ]
  },
  {
   "cell_type": "code",
   "execution_count": null,
   "metadata": {},
   "outputs": [],
   "source": []
  }
 ],
 "metadata": {
  "kernelspec": {
   "display_name": "Python 3",
   "language": "python",
   "name": "python3"
  },
  "language_info": {
   "codemirror_mode": {
    "name": "ipython",
    "version": 3
   },
   "file_extension": ".py",
   "mimetype": "text/x-python",
   "name": "python",
   "nbconvert_exporter": "python",
   "pygments_lexer": "ipython3",
   "version": "3.8.5"
  }
 },
 "nbformat": 4,
 "nbformat_minor": 4
}
