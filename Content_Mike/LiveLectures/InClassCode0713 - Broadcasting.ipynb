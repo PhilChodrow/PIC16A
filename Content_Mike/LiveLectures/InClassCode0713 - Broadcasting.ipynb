{
 "cells": [
  {
   "cell_type": "markdown",
   "metadata": {},
   "source": [
    "# Broadcasting "
   ]
  },
  {
   "cell_type": "code",
   "execution_count": 2,
   "metadata": {},
   "outputs": [],
   "source": []
  },
  {
   "cell_type": "code",
   "execution_count": 3,
   "metadata": {},
   "outputs": [],
   "source": []
  },
  {
   "cell_type": "markdown",
   "metadata": {},
   "source": [
    "Indeed, adding arrays of different sizes feels \"unnatural\". But note that the error message said \n",
    "\n",
    "\"ValueError: operands could not be broadcast together with shapes (3,) (2,)\"\n",
    "\n",
    "It didn't just say \"shapes don't match.\"\n",
    "\n",
    "Sometimes you **can** add arrays of different shapes and this is called broadcasting\n"
   ]
  },
  {
   "cell_type": "code",
   "execution_count": null,
   "metadata": {},
   "outputs": [],
   "source": []
  },
  {
   "cell_type": "code",
   "execution_count": null,
   "metadata": {},
   "outputs": [],
   "source": []
  },
  {
   "cell_type": "markdown",
   "metadata": {},
   "source": [
    "First rule of broadcasting:\n",
    "If one array has more dimensions, take the array with fewer dimensions  and 'pad' it with ones __ON THE LEFT__\n",
    "\n",
    "If you try to type a+b, numpy will automatically convert it to an array with shape (1,3) and then the addition works fine.\n"
   ]
  },
  {
   "cell_type": "code",
   "execution_count": null,
   "metadata": {},
   "outputs": [],
   "source": []
  },
  {
   "cell_type": "code",
   "execution_count": null,
   "metadata": {},
   "outputs": [],
   "source": []
  },
  {
   "cell_type": "markdown",
   "metadata": {},
   "source": [
    "What happens if we try to add a and b?\n",
    "\n",
    "By the first rule of broadcasting, b gets padded with a one so now a has shape(3,3) and b has shape (1,3)"
   ]
  },
  {
   "cell_type": "markdown",
   "metadata": {},
   "source": [
    "### Second rule of broadcasting. \n",
    "If arrays have the same number of dimesions, you can stretch out ones\n",
    "\n",
    "this means that b will get converted from array([0,1,2]) to array([[0,1,2],[0,1,2],[0,1,2]])\n",
    "is the 3 by 3 array where every row is a copy of the original b\n",
    "\n",
    "mathematically, we have the formula new_b[i,j]=old_b[j]\n",
    "\n",
    "axis 0 is the axis we are \"streching over\" i isn't on the right hand side"
   ]
  },
  {
   "cell_type": "code",
   "execution_count": null,
   "metadata": {},
   "outputs": [],
   "source": []
  },
  {
   "cell_type": "markdown",
   "metadata": {},
   "source": [
    "### Third rule of broadcasting.\n",
    "\n",
    "Sometimes you are out of luck. If the arrays have the same number of dimensions, the dimensions don't match, and there is not a one in either location, you can't add, i.e., you can  only stretch ones. "
   ]
  },
  {
   "cell_type": "code",
   "execution_count": null,
   "metadata": {},
   "outputs": [],
   "source": []
  },
  {
   "cell_type": "markdown",
   "metadata": {},
   "source": [
    "### More Complicated Example"
   ]
  },
  {
   "cell_type": "code",
   "execution_count": null,
   "metadata": {},
   "outputs": [],
   "source": []
  },
  {
   "cell_type": "markdown",
   "metadata": {},
   "source": [
    "Can we add? Yes! As long as there is a one in each dimension!\n",
    "\n",
    "a gets stretched out along dimension 0 to form a 3 by 3 array. We are stretching along axis = so the rule is \n",
    "a_new[i,j]=a[j] so a becomes\n",
    "\n",
    "array([[0,1,2],[0,1,2],[0,1,2]])"
   ]
  },
  {
   "cell_type": "markdown",
   "metadata": {},
   "source": [
    "b on the other hand gets stretched along axis 1 so it gets obays the rule b_new[i] = b[i,j]\n",
    "\n",
    "so be gets converted from 0,2,4 to \n",
    "\n",
    "array([[0,0,0],[2,2,2],[4,4,4]])\n",
    "\n",
    "Now, since  a and b are both 3 by 3 we can add"
   ]
  },
  {
   "cell_type": "code",
   "execution_count": null,
   "metadata": {},
   "outputs": [],
   "source": []
  },
  {
   "cell_type": "markdown",
   "metadata": {},
   "source": [
    "Note that a_new and b_new are all \"under the hood.\" You don't actually see them."
   ]
  },
  {
   "cell_type": "code",
   "execution_count": null,
   "metadata": {},
   "outputs": [],
   "source": []
  },
  {
   "cell_type": "markdown",
   "metadata": {},
   "source": [
    "4 is stretched to array([4,4,4])"
   ]
  },
  {
   "cell_type": "markdown",
   "metadata": {},
   "source": [
    "# Normalizing Data"
   ]
  },
  {
   "cell_type": "code",
   "execution_count": null,
   "metadata": {},
   "outputs": [],
   "source": []
  },
  {
   "cell_type": "markdown",
   "metadata": {},
   "source": [
    "Interpretation. Each row is a new person. Each column is a different 'assessment'. Can we manipulate our data so that each column has mean zero and variance 1?"
   ]
  },
  {
   "cell_type": "code",
   "execution_count": null,
   "metadata": {},
   "outputs": [],
   "source": []
  },
  {
   "cell_type": "markdown",
   "metadata": {},
   "source": [
    "What happen if we type X-mu? \n",
    "\n",
    "X has shape 10,3 mu has shape 3, so by the first rule of broadcasting, mu gets padded with a one to have shape 1,3.\n",
    "\n",
    "Then, by the second rule of broadcasting, mu gets stretched out to a ten by 3 matrix where each row is a copy of the original mu"
   ]
  },
  {
   "cell_type": "code",
   "execution_count": null,
   "metadata": {},
   "outputs": [],
   "source": []
  },
  {
   "cell_type": "code",
   "execution_count": null,
   "metadata": {},
   "outputs": [],
   "source": []
  },
  {
   "cell_type": "markdown",
   "metadata": {},
   "source": [
    "Okay, now lets make the variance of each column =1"
   ]
  },
  {
   "cell_type": "code",
   "execution_count": null,
   "metadata": {},
   "outputs": [],
   "source": []
  },
  {
   "cell_type": "code",
   "execution_count": null,
   "metadata": {},
   "outputs": [],
   "source": []
  },
  {
   "cell_type": "code",
   "execution_count": null,
   "metadata": {},
   "outputs": [],
   "source": []
  },
  {
   "cell_type": "code",
   "execution_count": null,
   "metadata": {},
   "outputs": [],
   "source": []
  },
  {
   "cell_type": "markdown",
   "metadata": {},
   "source": [
    "# Linear Algebra "
   ]
  },
  {
   "cell_type": "code",
   "execution_count": null,
   "metadata": {},
   "outputs": [],
   "source": []
  },
  {
   "cell_type": "code",
   "execution_count": null,
   "metadata": {},
   "outputs": [],
   "source": []
  },
  {
   "cell_type": "markdown",
   "metadata": {},
   "source": [
    "What does $A*x$ do?"
   ]
  },
  {
   "cell_type": "code",
   "execution_count": null,
   "metadata": {},
   "outputs": [],
   "source": []
  },
  {
   "cell_type": "markdown",
   "metadata": {},
   "source": [
    "What does it NOT do?"
   ]
  },
  {
   "cell_type": "code",
   "execution_count": 26,
   "metadata": {},
   "outputs": [
    {
     "data": {
      "text/plain": [
       "array([ 3., 12., 21., 30., 39.])"
      ]
     },
     "execution_count": 26,
     "metadata": {},
     "output_type": "execute_result"
    }
   ],
   "source": []
  },
  {
   "cell_type": "markdown",
   "metadata": {},
   "source": [
    "## Matrix-vector multiplication? \n",
    "\n",
    "Recall that multiplication of an $M\\times N$ matrix by an $N$ dimensional vector results in a new $M$ dimensional vector $y=Ax$ defined by \n",
    "\\begin{equation*}\n",
    "y_i=\\sum_jA_{i,j}x_j\n",
    "\\end{equation*}"
   ]
  },
  {
   "cell_type": "code",
   "execution_count": null,
   "metadata": {},
   "outputs": [],
   "source": []
  },
  {
   "cell_type": "markdown",
   "metadata": {},
   "source": [
    "# Matrix-Matrix multiplication "
   ]
  },
  {
   "cell_type": "markdown",
   "metadata": {},
   "source": [
    "If $A$ is an $M\\times N$ matrix and $B$ is an $N\\times R$ matrix, then $C=AB$ is an $M\\times R$ matrix defined by \n",
    "\n",
    "\\begin{equation*}\n",
    "C_{i,j}=\\sum_kA_{i,k}B_{k,j}\n",
    "\\end{equation*}"
   ]
  },
  {
   "cell_type": "code",
   "execution_count": null,
   "metadata": {},
   "outputs": [],
   "source": []
  },
  {
   "cell_type": "markdown",
   "metadata": {},
   "source": [
    "This doesn't work\n"
   ]
  },
  {
   "cell_type": "code",
   "execution_count": null,
   "metadata": {},
   "outputs": [],
   "source": [
    "\n"
   ]
  },
  {
   "cell_type": "code",
   "execution_count": null,
   "metadata": {},
   "outputs": [],
   "source": []
  }
 ],
 "metadata": {
  "kernelspec": {
   "display_name": "Python 3",
   "language": "python",
   "name": "python3"
  },
  "language_info": {
   "codemirror_mode": {
    "name": "ipython",
    "version": 3
   },
   "file_extension": ".py",
   "mimetype": "text/x-python",
   "name": "python",
   "nbconvert_exporter": "python",
   "pygments_lexer": "ipython3",
   "version": "3.8.5"
  }
 },
 "nbformat": 4,
 "nbformat_minor": 4
}
