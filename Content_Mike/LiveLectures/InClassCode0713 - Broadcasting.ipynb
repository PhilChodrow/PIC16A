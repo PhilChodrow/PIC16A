{
 "cells": [
  {
   "cell_type": "markdown",
   "metadata": {},
   "source": [
    "# Quick reminders \n",
    "\n",
    "1) Midterm is on Thursday! It starts at 8AM, you get 24 hours, the format is similar to old midterms / discussion / homeworks. Should take about 90 minutes, you are 100% allowed to spend more time within the 24 hours. It is open notes/book/interweb. It is not open other people. The only human being you should correspond with about the exam is me (and Wonjun).  You are allowed to google, and if you find something on stack exchange, that is OKAY. You are not allowed to post a new question on stackexchange. \n",
    "\n",
    "2) Mid-quarter feedback survey. Deadline tomorrow July 14th at 1159. 0.25% added to your course grade if you fill it out. \n",
    "\n",
    "3) No discussion tomorrow or thursday because of the midterm"
   ]
  },
  {
   "cell_type": "markdown",
   "metadata": {},
   "source": [
    "# Broadcasting "
   ]
  },
  {
   "cell_type": "code",
   "execution_count": 1,
   "metadata": {},
   "outputs": [],
   "source": [
    "import numpy as np\n",
    "\n",
    "a=np.array([1,2,3])\n",
    "b=np.array([4,5])\n",
    "\n",
    "\n"
   ]
  },
  {
   "cell_type": "code",
   "execution_count": 4,
   "metadata": {},
   "outputs": [
    {
     "ename": "ValueError",
     "evalue": "operands could not be broadcast together with shapes (3,) (2,) ",
     "output_type": "error",
     "traceback": [
      "\u001b[1;31m---------------------------------------------------------------------------\u001b[0m",
      "\u001b[1;31mValueError\u001b[0m                                Traceback (most recent call last)",
      "\u001b[1;32m<ipython-input-4-c1940afdff6d>\u001b[0m in \u001b[0;36m<module>\u001b[1;34m\u001b[0m\n\u001b[1;32m----> 1\u001b[1;33m \u001b[0ma\u001b[0m\u001b[1;33m+\u001b[0m\u001b[0mb\u001b[0m\u001b[1;33m\u001b[0m\u001b[1;33m\u001b[0m\u001b[0m\n\u001b[0m\u001b[0;32m      2\u001b[0m \u001b[1;31m#for lists, you concantenate\u001b[0m\u001b[1;33m\u001b[0m\u001b[1;33m\u001b[0m\u001b[1;33m\u001b[0m\u001b[0m\n\u001b[0;32m      3\u001b[0m \u001b[1;31m#[1,2,3]+[4,5]\u001b[0m\u001b[1;33m\u001b[0m\u001b[1;33m\u001b[0m\u001b[1;33m\u001b[0m\u001b[0m\n\u001b[0;32m      4\u001b[0m \u001b[1;33m\u001b[0m\u001b[0m\n\u001b[0;32m      5\u001b[0m \u001b[1;31m#for numpy arrays, you add pointwise np.array([1,2])+np.array([3,4])=np.array([1+3,2+4])\u001b[0m\u001b[1;33m\u001b[0m\u001b[1;33m\u001b[0m\u001b[1;33m\u001b[0m\u001b[0m\n",
      "\u001b[1;31mValueError\u001b[0m: operands could not be broadcast together with shapes (3,) (2,) "
     ]
    }
   ],
   "source": [
    "a+b\n",
    "#for lists, you concantenate\n",
    "#[1,2,3]+[4,5]\n",
    "\n",
    "#for numpy arrays, you add pointwise np.array([1,2])+np.array([3,4])=np.array([1+3,2+4])\n",
    "\n",
    "#add columns\n",
    "#this seems kind of silly, but actually, numpy does this sometimes \n",
    "#and that is going to be the main focus of the lecture\n",
    "\n"
   ]
  },
  {
   "cell_type": "markdown",
   "metadata": {},
   "source": [
    "Indeed, adding arrays of different sizes feels \"unnatural\". But note that the error message said \n",
    "\n",
    "\"ValueError: operands could not be broadcast together with shapes (3,) (2,)\"\n",
    "\n",
    "It didn't just say \"shapes don't match.\"\n",
    "\n",
    "Sometimes you **can** add arrays of different shapes and this is called broadcasting\n"
   ]
  },
  {
   "cell_type": "code",
   "execution_count": 7,
   "metadata": {},
   "outputs": [
    {
     "data": {
      "text/plain": [
       "(array([1., 1., 1.]), array([[0., 0., 0.]]))"
      ]
     },
     "execution_count": 7,
     "metadata": {},
     "output_type": "execute_result"
    }
   ],
   "source": [
    "a=np.ones(3)\n",
    "b=np.zeros(3)\n",
    "b=b.reshape(1,3)\n",
    "a,b"
   ]
  },
  {
   "cell_type": "code",
   "execution_count": 9,
   "metadata": {},
   "outputs": [
    {
     "data": {
      "text/plain": [
       "((3,), (1, 3))"
      ]
     },
     "execution_count": 9,
     "metadata": {},
     "output_type": "execute_result"
    }
   ],
   "source": [
    "a.shape,b.shape\n",
    "\n"
   ]
  },
  {
   "cell_type": "markdown",
   "metadata": {},
   "source": [
    "First rule of broadcasting:\n",
    "If one array has more dimensions, take the array with fewer dimensions  and 'pad' it with ones __ON THE LEFT__\n",
    "\n",
    "If you try to type a+b, numpy will automatically convert it to an array with shape (1,3) and then the addition works fine.\n"
   ]
  },
  {
   "cell_type": "code",
   "execution_count": 12,
   "metadata": {},
   "outputs": [
    {
     "data": {
      "text/plain": [
       "(1, 3)"
      ]
     },
     "execution_count": 12,
     "metadata": {},
     "output_type": "execute_result"
    }
   ],
   "source": [
    "(a+b).shape\n",
    "#in this process\n",
    "# is first converted from a 3, arrray to a 1,3 array and then added to b which is already 1,3"
   ]
  },
  {
   "cell_type": "code",
   "execution_count": 13,
   "metadata": {},
   "outputs": [
    {
     "name": "stdout",
     "output_type": "stream",
     "text": [
      "(3, 3) (3,)\n"
     ]
    },
    {
     "data": {
      "text/plain": [
       "(array([[0., 0., 0.],\n",
       "        [0., 0., 0.],\n",
       "        [0., 0., 0.]]),\n",
       " array([0, 1, 2]))"
      ]
     },
     "execution_count": 13,
     "metadata": {},
     "output_type": "execute_result"
    }
   ],
   "source": [
    "#Example 2\n",
    "a=np.zeros((3,3))\n",
    "b=np.arange(3)\n",
    "print(a.shape,b.shape)\n",
    "a,b\n",
    "\n",
    "#first rule of broad casting says b gets converted to (1,3)\n",
    "#so now we are trying to add (3,3) and (1,3)\n",
    "''' stretching out\n",
    "[0,1,2]\n",
    "[0,1,2]\n",
    "[0,1,2]\n",
    "'''"
   ]
  },
  {
   "cell_type": "markdown",
   "metadata": {},
   "source": [
    "What happens if we try to add a and b?\n",
    "\n",
    "By the first rule of broadcasting, b gets padded with a one so now a has shape(3,3) and b has shape (1,3)"
   ]
  },
  {
   "cell_type": "markdown",
   "metadata": {},
   "source": [
    "### Second rule of broadcasting. \n",
    "If arrays have the same number of dimesions, you can stretch out ones\n",
    "\n",
    "this means that b will get converted from array([0,1,2]) to array([[0,1,2],[0,1,2],[0,1,2]])\n",
    "is the 3 by 3 array where every row is a copy of the original b\n",
    "\n",
    "mathematically, we have the formula new_b[i,j]=old_b[j]\n",
    "\n",
    "axis 0 is the axis we are \"streching over\" i isn't on the right hand side"
   ]
  },
  {
   "cell_type": "code",
   "execution_count": 14,
   "metadata": {},
   "outputs": [
    {
     "data": {
      "text/plain": [
       "array([[0., 1., 2.],\n",
       "       [0., 1., 2.],\n",
       "       [0., 1., 2.]])"
      ]
     },
     "execution_count": 14,
     "metadata": {},
     "output_type": "execute_result"
    }
   ],
   "source": [
    "a+b"
   ]
  },
  {
   "cell_type": "markdown",
   "metadata": {},
   "source": [
    "### Third rule of broadcasting.\n",
    "\n",
    "Sometimes you are out of luck. If the arrays have the same number of dimensions, the dimensions don't match, and there is not a one in either location, you can't add, i.e., you can  only stretch ones. "
   ]
  },
  {
   "cell_type": "code",
   "execution_count": 16,
   "metadata": {},
   "outputs": [
    {
     "ename": "ValueError",
     "evalue": "operands could not be broadcast together with shapes (3,4) (4,3) ",
     "output_type": "error",
     "traceback": [
      "\u001b[1;31m---------------------------------------------------------------------------\u001b[0m",
      "\u001b[1;31mValueError\u001b[0m                                Traceback (most recent call last)",
      "\u001b[1;32m<ipython-input-16-8464194b6854>\u001b[0m in \u001b[0;36m<module>\u001b[1;34m\u001b[0m\n\u001b[0;32m      1\u001b[0m \u001b[0mA\u001b[0m\u001b[1;33m=\u001b[0m\u001b[0mnp\u001b[0m\u001b[1;33m.\u001b[0m\u001b[0mzeros\u001b[0m\u001b[1;33m(\u001b[0m\u001b[1;33m(\u001b[0m\u001b[1;36m3\u001b[0m\u001b[1;33m,\u001b[0m\u001b[1;36m4\u001b[0m\u001b[1;33m)\u001b[0m\u001b[1;33m)\u001b[0m\u001b[1;33m\u001b[0m\u001b[1;33m\u001b[0m\u001b[0m\n\u001b[0;32m      2\u001b[0m \u001b[0mB\u001b[0m\u001b[1;33m=\u001b[0m\u001b[0mnp\u001b[0m\u001b[1;33m.\u001b[0m\u001b[0mzeros\u001b[0m\u001b[1;33m(\u001b[0m\u001b[1;33m(\u001b[0m\u001b[1;36m4\u001b[0m\u001b[1;33m,\u001b[0m\u001b[1;36m3\u001b[0m\u001b[1;33m)\u001b[0m\u001b[1;33m)\u001b[0m\u001b[1;33m\u001b[0m\u001b[1;33m\u001b[0m\u001b[0m\n\u001b[1;32m----> 3\u001b[1;33m \u001b[0mA\u001b[0m\u001b[1;33m+\u001b[0m\u001b[0mB\u001b[0m\u001b[1;33m\u001b[0m\u001b[1;33m\u001b[0m\u001b[0m\n\u001b[0m\u001b[0;32m      4\u001b[0m \u001b[1;31m#no padding because there is already the same # of dimensions\u001b[0m\u001b[1;33m\u001b[0m\u001b[1;33m\u001b[0m\u001b[1;33m\u001b[0m\u001b[0m\n\u001b[0;32m      5\u001b[0m \u001b[1;31m#can only stretch out ones\u001b[0m\u001b[1;33m\u001b[0m\u001b[1;33m\u001b[0m\u001b[1;33m\u001b[0m\u001b[0m\n",
      "\u001b[1;31mValueError\u001b[0m: operands could not be broadcast together with shapes (3,4) (4,3) "
     ]
    }
   ],
   "source": [
    "A=np.zeros((3,4))\n",
    "B=np.zeros((4,3))\n",
    "A+B\n",
    "#no padding because there is already the same # of dimensions\n",
    "#can only stretch out ones"
   ]
  },
  {
   "cell_type": "markdown",
   "metadata": {},
   "source": [
    "### More Complicated Example"
   ]
  },
  {
   "cell_type": "code",
   "execution_count": 20,
   "metadata": {},
   "outputs": [
    {
     "name": "stdout",
     "output_type": "stream",
     "text": [
      "(1, 3) (3, 1)\n",
      "[[0 1 2]]\n",
      "[[0]\n",
      " [2]\n",
      " [4]]\n"
     ]
    },
    {
     "data": {
      "text/plain": [
       "'[[0,1,2]]\\ngoes to \\n[[0,1,2]\\n[0,1,2]\\n[0,1,2]]\\n#then \\n[[0],[2],[4]]\\n#gets stretched to \\n[[0,0,0],\\n[2,2,2],\\n[4,4,4]]\\nnow you do the addition \\n[[0,1,2],\\n[2,3,4]\\n[4,5,6]]'"
      ]
     },
     "execution_count": 20,
     "metadata": {},
     "output_type": "execute_result"
    }
   ],
   "source": [
    "a=np.arange(3)\n",
    "a=a.reshape(1,3)\n",
    "b=2*np.arange(3)\n",
    "b=b.reshape(3,1)\n",
    "print(a.shape,b.shape)\n",
    "print(a)\n",
    "print(b)\n",
    "\n",
    "#first you stretch a so that that is shape 3,3\n",
    "'''[[0,1,2]]\n",
    "goes to \n",
    "[[0,1,2]\n",
    "[0,1,2]\n",
    "[0,1,2]]\n",
    "#then \n",
    "[[0],[2],[4]]\n",
    "#gets stretched to \n",
    "[[0,0,0],\n",
    "[2,2,2],\n",
    "[4,4,4]]\n",
    "now you do the addition \n",
    "[[0,1,2],\n",
    "[2,3,4]\n",
    "[4,5,6]]'''\n"
   ]
  },
  {
   "cell_type": "markdown",
   "metadata": {},
   "source": [
    "Can we add? Yes! As long as there is a one in each dimension!\n",
    "\n",
    "a gets stretched out along dimension 0 to form a 3 by 3 array. We are stretching along axis = so the rule is \n",
    "a_new[i,j]=a[j] so a becomes\n",
    "\n",
    "array([[0,1,2],[0,1,2],[0,1,2]])"
   ]
  },
  {
   "cell_type": "markdown",
   "metadata": {},
   "source": [
    "b on the other hand gets stretched along axis 1 so it gets obays the rule b_new[i] = b[i,j]\n",
    "\n",
    "so be gets converted from 0,2,4 to \n",
    "\n",
    "array([[0,0,0],[2,2,2],[4,4,4]])\n",
    "\n",
    "Now, since  a and b are both 3 by 3 we can add"
   ]
  },
  {
   "cell_type": "code",
   "execution_count": 19,
   "metadata": {},
   "outputs": [
    {
     "data": {
      "text/plain": [
       "array([[0, 1, 2],\n",
       "       [2, 3, 4],\n",
       "       [4, 5, 6]])"
      ]
     },
     "execution_count": 19,
     "metadata": {},
     "output_type": "execute_result"
    }
   ],
   "source": [
    "a+b"
   ]
  },
  {
   "cell_type": "markdown",
   "metadata": {},
   "source": [
    "Note that a_new and b_new are all \"under the hood.\" You don't actually see them."
   ]
  },
  {
   "cell_type": "code",
   "execution_count": null,
   "metadata": {},
   "outputs": [],
   "source": []
  },
  {
   "cell_type": "markdown",
   "metadata": {},
   "source": [
    "4 is stretched to array([4,4,4])"
   ]
  },
  {
   "cell_type": "markdown",
   "metadata": {},
   "source": [
    "# Normalizing Data"
   ]
  },
  {
   "cell_type": "code",
   "execution_count": 21,
   "metadata": {},
   "outputs": [
    {
     "data": {
      "text/plain": [
       "array([[0.80061173, 0.66389637, 0.56487929],\n",
       "       [0.53324637, 0.27939957, 0.45265259],\n",
       "       [0.75248473, 0.322686  , 0.60901188],\n",
       "       [0.99892723, 0.97157201, 0.96391642],\n",
       "       [0.64439165, 0.15514202, 0.21865219],\n",
       "       [0.13223619, 0.9542069 , 0.71449292],\n",
       "       [0.47327195, 0.6101721 , 0.73466617],\n",
       "       [0.00261848, 0.71013836, 0.55489241],\n",
       "       [0.04066312, 0.55383787, 0.87175821],\n",
       "       [0.19447588, 0.39010269, 0.50491457]])"
      ]
     },
     "execution_count": 21,
     "metadata": {},
     "output_type": "execute_result"
    }
   ],
   "source": [
    "X=np.random.rand(10,3)\n",
    "X"
   ]
  },
  {
   "cell_type": "markdown",
   "metadata": {},
   "source": [
    "Interpretation. Each row is a new person. Each column is a different 'assessment'. Can we manipulate our data so that each column has mean zero and variance 1?"
   ]
  },
  {
   "cell_type": "code",
   "execution_count": 56,
   "metadata": {},
   "outputs": [
    {
     "data": {
      "text/plain": [
       "(array([0.45729273, 0.56111539, 0.61898367]),\n",
       " array([0.67646246, 0.42176618, 0.5613942 , 0.97813855, 0.33939529,\n",
       "        0.600312  , 0.60603674, 0.42254975, 0.48875307, 0.36316438]))"
      ]
     },
     "execution_count": 56,
     "metadata": {},
     "output_type": "execute_result"
    }
   ],
   "source": [
    "#in scientific applications, \n",
    "#it is nice a lot of the time to make each column of a data matrix \n",
    "#have mean zero and variance one\n",
    "\n",
    "#X has shape 10,3\n",
    "\n",
    "mu1=X.mean(axis=0) #shape 3\n",
    "mu2=X.mean(axis=1) #shape 10\n",
    "mu1,mu2"
   ]
  },
  {
   "cell_type": "markdown",
   "metadata": {},
   "source": [
    "What happen if we type X-mu? \n",
    "\n",
    "X has shape 10,3 mu has shape 3, so by the first rule of broadcasting, mu gets padded with a one to have shape 1,3.\n",
    "\n",
    "Then, by the second rule of broadcasting, mu gets stretched out to a ten by 3 matrix where each row is a copy of the original mu"
   ]
  },
  {
   "cell_type": "code",
   "execution_count": 32,
   "metadata": {},
   "outputs": [],
   "source": [
    "#X-mu #will this make sense????\n",
    "X.shape, mu.shape\n",
    "#what is the first thing that happens to mu according to rules of broadcasting?\n",
    "#pad on the left with ones so now mu is (1,3)\n",
    "\n",
    "#now the second thing that happens is it gets stretched out into a 10,3 array\n",
    "# by the second rule of broadcasting\n",
    "centered=X-mu"
   ]
  },
  {
   "cell_type": "code",
   "execution_count": 33,
   "metadata": {},
   "outputs": [
    {
     "data": {
      "text/plain": [
       "array([[ 0.343319  ,  0.10278098, -0.05410438],\n",
       "       [ 0.07595364, -0.28171582, -0.16633107],\n",
       "       [ 0.295192  , -0.23842939, -0.00997179],\n",
       "       [ 0.5416345 ,  0.41045662,  0.34493276],\n",
       "       [ 0.18709892, -0.40597337, -0.40033147],\n",
       "       [-0.32505655,  0.39309152,  0.09550925],\n",
       "       [ 0.01597921,  0.04905671,  0.11568251],\n",
       "       [-0.45467426,  0.14902297, -0.06409126],\n",
       "       [-0.41662961, -0.00727752,  0.25277455],\n",
       "       [-0.26281685, -0.1710127 , -0.1140691 ]])"
      ]
     },
     "execution_count": 33,
     "metadata": {},
     "output_type": "execute_result"
    }
   ],
   "source": [
    "centered"
   ]
  },
  {
   "cell_type": "markdown",
   "metadata": {},
   "source": [
    "Okay, now lets make the variance of each column =1"
   ]
  },
  {
   "cell_type": "code",
   "execution_count": 34,
   "metadata": {},
   "outputs": [
    {
     "data": {
      "text/plain": [
       "array([0.3308244 , 0.26239264, 0.20333606])"
      ]
     },
     "execution_count": 34,
     "metadata": {},
     "output_type": "execute_result"
    }
   ],
   "source": [
    "sigma=X.std(axis=0)\n",
    "sigma"
   ]
  },
  {
   "cell_type": "code",
   "execution_count": 37,
   "metadata": {},
   "outputs": [],
   "source": [
    "normalized = centered/sigma"
   ]
  },
  {
   "cell_type": "code",
   "execution_count": 42,
   "metadata": {},
   "outputs": [
    {
     "data": {
      "text/plain": [
       "array([ 5.55111512e-17, -3.21964677e-16,  1.66533454e-16])"
      ]
     },
     "execution_count": 42,
     "metadata": {},
     "output_type": "execute_result"
    }
   ],
   "source": [
    "normalized.mean(axis=0)"
   ]
  },
  {
   "cell_type": "code",
   "execution_count": 43,
   "metadata": {},
   "outputs": [],
   "source": [
    "#so for review to normalize your data so that all columns have mean zero and std 1\n",
    "mu=X.mean(axis=0)\n",
    "sigma=X.std(axis=0)\n",
    "Normalized_Data=(X-mu)/sigma\n",
    "\n"
   ]
  },
  {
   "cell_type": "markdown",
   "metadata": {},
   "source": [
    "# Linear Algebra "
   ]
  },
  {
   "cell_type": "code",
   "execution_count": 45,
   "metadata": {},
   "outputs": [
    {
     "data": {
      "text/plain": [
       "array([[ 0,  1,  2],\n",
       "       [ 3,  4,  5],\n",
       "       [ 6,  7,  8],\n",
       "       [ 9, 10, 11],\n",
       "       [12, 13, 14]])"
      ]
     },
     "execution_count": 45,
     "metadata": {},
     "output_type": "execute_result"
    }
   ],
   "source": [
    "A=np.arange(15).reshape(5,3)\n",
    "A"
   ]
  },
  {
   "cell_type": "code",
   "execution_count": 47,
   "metadata": {},
   "outputs": [
    {
     "data": {
      "text/plain": [
       "((5, 3), (3,))"
      ]
     },
     "execution_count": 47,
     "metadata": {},
     "output_type": "execute_result"
    }
   ],
   "source": [
    "x=np.ones(3)\n",
    "A.shape,x.shape"
   ]
  },
  {
   "cell_type": "markdown",
   "metadata": {},
   "source": [
    "What does $A*x$ do?"
   ]
  },
  {
   "cell_type": "code",
   "execution_count": 49,
   "metadata": {},
   "outputs": [
    {
     "data": {
      "text/plain": [
       "array([[ 0.,  1.,  2.],\n",
       "       [ 3.,  4.,  5.],\n",
       "       [ 6.,  7.,  8.],\n",
       "       [ 9., 10., 11.],\n",
       "       [12., 13., 14.]])"
      ]
     },
     "execution_count": 49,
     "metadata": {},
     "output_type": "execute_result"
    }
   ],
   "source": [
    "A*x\n",
    "#uses broadcasting rules \n",
    "#then does pointwise multiplication"
   ]
  },
  {
   "cell_type": "markdown",
   "metadata": {},
   "source": [
    "What does it NOT do? - does not perform matrix multiplication "
   ]
  },
  {
   "cell_type": "code",
   "execution_count": 50,
   "metadata": {},
   "outputs": [
    {
     "data": {
      "text/plain": [
       "array([ 3., 12., 21., 30., 39.])"
      ]
     },
     "execution_count": 50,
     "metadata": {},
     "output_type": "execute_result"
    }
   ],
   "source": [
    "np.matmul(A,x)"
   ]
  },
  {
   "cell_type": "markdown",
   "metadata": {},
   "source": [
    "## Matrix-vector multiplication? \n",
    "\n",
    "Recall that multiplication of an $M\\times N$ matrix by an $N$ dimensional vector results in a new $M$ dimensional vector $y=Ax$ defined by \n",
    "\\begin{equation*}\n",
    "y_i=\\sum_jA_{i,j}x_j\n",
    "\\end{equation*}\n",
    "\n",
    "So for example\n",
    "\\begin{equation*}\n",
    "y[0] = A[0,0]x[0] + A[0,1]x[1]+ A[0,2]x[2]+ A[0,3]x[3]+ A[0,3]x[3]\n",
    "\\end{equation*}"
   ]
  },
  {
   "cell_type": "code",
   "execution_count": null,
   "metadata": {},
   "outputs": [],
   "source": [
    "np.matmul(A,x)"
   ]
  },
  {
   "cell_type": "markdown",
   "metadata": {},
   "source": [
    "# Matrix-Matrix multiplication "
   ]
  },
  {
   "cell_type": "markdown",
   "metadata": {},
   "source": [
    "If $A$ is an $M\\times N$ matrix and $B$ is an $N\\times R$ matrix, then $C=AB$ is an $M\\times R$ matrix defined by \n",
    "\n",
    "\\begin{equation*}\n",
    "C_{i,j}=\\sum_kA_{i,k}B_{k,j}\n",
    "\\end{equation*}"
   ]
  },
  {
   "cell_type": "code",
   "execution_count": 53,
   "metadata": {},
   "outputs": [
    {
     "data": {
      "text/plain": [
       "(5, 11)"
      ]
     },
     "execution_count": 53,
     "metadata": {},
     "output_type": "execute_result"
    }
   ],
   "source": [
    "B=np.arange(33).reshape(3,11)\n",
    "A.shape,B.shape\n",
    "C=np.matmul(A,B)\n",
    "C.shape"
   ]
  },
  {
   "cell_type": "markdown",
   "metadata": {},
   "source": [
    "This doesn't work\n"
   ]
  },
  {
   "cell_type": "code",
   "execution_count": 54,
   "metadata": {},
   "outputs": [
    {
     "ename": "ValueError",
     "evalue": "matmul: Input operand 1 has a mismatch in its core dimension 0, with gufunc signature (n?,k),(k,m?)->(n?,m?) (size 2 is different from 3)",
     "output_type": "error",
     "traceback": [
      "\u001b[1;31m---------------------------------------------------------------------------\u001b[0m",
      "\u001b[1;31mValueError\u001b[0m                                Traceback (most recent call last)",
      "\u001b[1;32m<ipython-input-54-938a3239ead3>\u001b[0m in \u001b[0;36m<module>\u001b[1;34m\u001b[0m\n\u001b[0;32m      1\u001b[0m \u001b[0mBadB\u001b[0m\u001b[1;33m=\u001b[0m\u001b[0mnp\u001b[0m\u001b[1;33m.\u001b[0m\u001b[0marange\u001b[0m\u001b[1;33m(\u001b[0m\u001b[1;36m22\u001b[0m\u001b[1;33m)\u001b[0m\u001b[1;33m.\u001b[0m\u001b[0mreshape\u001b[0m\u001b[1;33m(\u001b[0m\u001b[1;36m2\u001b[0m\u001b[1;33m,\u001b[0m\u001b[1;36m11\u001b[0m\u001b[1;33m)\u001b[0m\u001b[1;33m\u001b[0m\u001b[1;33m\u001b[0m\u001b[0m\n\u001b[1;32m----> 2\u001b[1;33m \u001b[0mBadC\u001b[0m\u001b[1;33m=\u001b[0m\u001b[0mnp\u001b[0m\u001b[1;33m.\u001b[0m\u001b[0mmatmul\u001b[0m\u001b[1;33m(\u001b[0m\u001b[0mA\u001b[0m\u001b[1;33m,\u001b[0m\u001b[0mBadB\u001b[0m\u001b[1;33m)\u001b[0m\u001b[1;33m\u001b[0m\u001b[1;33m\u001b[0m\u001b[0m\n\u001b[0m",
      "\u001b[1;31mValueError\u001b[0m: matmul: Input operand 1 has a mismatch in its core dimension 0, with gufunc signature (n?,k),(k,m?)->(n?,m?) (size 2 is different from 3)"
     ]
    }
   ],
   "source": [
    "BadB=np.arange(22).reshape(2,11)\n",
    "BadC=np.matmul(A,BadB)"
   ]
  },
  {
   "cell_type": "code",
   "execution_count": null,
   "metadata": {},
   "outputs": [],
   "source": []
  }
 ],
 "metadata": {
  "kernelspec": {
   "display_name": "Python 3",
   "language": "python",
   "name": "python3"
  },
  "language_info": {
   "codemirror_mode": {
    "name": "ipython",
    "version": 3
   },
   "file_extension": ".py",
   "mimetype": "text/x-python",
   "name": "python",
   "nbconvert_exporter": "python",
   "pygments_lexer": "ipython3",
   "version": "3.8.8"
  }
 },
 "nbformat": 4,
 "nbformat_minor": 4
}
